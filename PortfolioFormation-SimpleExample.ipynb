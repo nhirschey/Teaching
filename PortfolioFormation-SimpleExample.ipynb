
{
 "cells": [
  {
   "cell_type": "markdown",
   "metadata": {},
   
   "source": [
    "[![Binder](img/badge-binder.svg)](https://mybinder.org/v2/gh/nhirschey/teaching/gh-pages?filepath=PortfolioFormation-SimpleExample.ipynb)\u0026emsp;\n",
    "[![Script](img/badge-script.svg)](/Teaching//PortfolioFormation-SimpleExample.fsx)\u0026emsp;\n",
    "[![Notebook](img/badge-notebook.svg)](/Teaching//PortfolioFormation-SimpleExample.ipynb)\n",
    "\n",
    "# Building a strategy\n",
    "\n",
    "Our objective is to write code that will allow us to do something like\n",
    "\n",
    "```fsharp\n",
    "samplePeriod\n",
    "|\u003e filterInvestmentUniverse\n",
    "|\u003e constructSignals\n",
    "|\u003e assignPortfolioWeights\n",
    "|\u003e getPortfolioReturns\n",
    "```\n",
    "\n",
    "Now let\u0027s dig in. This is a **relatively** basic version of a strategy to build intuition with what we\u0027re doing. It is simpler than working with real data. But we will next move to real data.\n",
    "\n"
   ]
  }
,
  {
   "cell_type": "code",
   "metadata": {
    "dotnet_interactive": {
     "language": "fsharp"
    },
    "polyglot_notebook": {
     "kernelName": "fsharp"
    }
   },
   "execution_count": 1, "outputs": [],
   "source": [
    "#r \"nuget: FSharp.Stats, 0.5.0\"\n",
    "open FSharp.Stats\n"
   ]
  }
,
  {
   "cell_type": "markdown",
   "metadata": {},
   
   "source": [
    "## Workflow for using quantitative signals\n",
    "\n",
    "How do we decide on the position weights for the different securities? An example workflow:\n",
    "\n",
    "0 **Define your investment universe.** Your investment universe is the set of securities that you are considering for investment. An investment universe is typically a subset of securities grouped by some common characteristics: small-capitalization stocks, utility stocks, corporate bonds, firms listed on Euronext, etc.\n",
    "\n",
    "1 **Get your signal for each security.** The signal is some information that you believe can be used to predict returns or risk. It could be a stock tip from a friend, a stock analyst recommendation, something you read on reddit, revenue growth, ...\n",
    "\n",
    "2 **Define a mapping from signals to portfolio weights.**\n",
    "\n",
    "Let\u0027s go through this step by step.\n",
    "\n",
    "## 1. Investment universe: modelling a security\n",
    "\n",
    "We\u0027re going to be forming portfolios consisting of weights on different securities. We need a way to identify those securities. Securities can have different identifiers. Stock exchanges use ticker symbols, but CUSIPs are commonly used by other entities (e.g., ratings agencies, regulators, etc.). Some data providers might also use their own custom identifier. For example, Bloomberg has their own \"Bloomberg ticker\" and CRSP uses PERMNOs. Thus, if we\u0027re trying to identify a security we can use tickers OR CUSIPs OR Bloomberg Tickers OR PERMNOs. How do we model this?\n",
    "\n",
    "A good type for modelling \"OR\" relationships is a Discriminated Union. The pipe (`|`) symbol indicates an \"or\" relationship.\n",
    "\n"
   ]
  }
,
  {
   "cell_type": "code",
   "metadata": {
    "dotnet_interactive": {
     "language": "fsharp"
    },
    "polyglot_notebook": {
     "kernelName": "fsharp"
    }
   },
   "execution_count": 2, "outputs": [],
   "source": [
    "type SecurityId =\n",
    "    | Ticker of string\n",
    "    | Cusip of string\n",
    "    | Bloomberg of string\n",
    "    | Permno of int\n",
    "\n",
    "\n",
    "// Defining examples of these ids.\n",
    "let tickerExample = Ticker \"KO\"\n",
    "let permnoExample = Permno 1001\n",
    "\n",
    "\n",
    "// Deconstructing using pattern matching.\n",
    "// Think \"match what\u0027s on the left side of = to what\u0027s on the right side\"\n",
    "let (Ticker deconTickerExample) = tickerExample\n",
    "printfn \"%s\" deconTickerExample\n",
    "\n",
    "let (Permno deconPermnoExample) = permnoExample\n",
    "printfn \"%i\" deconPermnoExample\n",
    "\n",
    "// Now we can define our investment universe.\n",
    "let investmentUniverse =\n",
    "    [for tick in [ \"AAPL\"; \"KO\"; \"GOOG\";\"DIS\";\"GME\"] do \n",
    "        Ticker tick ]\n"
   ]
  }
,
  {
   "cell_type": "markdown",
   "metadata": {},
   
   "source": [
    "## 2. Signals\n",
    "\n"
   ]
  }
,
  {
   "cell_type": "code",
   "metadata": {
    "dotnet_interactive": {
     "language": "fsharp"
    },
    "polyglot_notebook": {
     "kernelName": "fsharp"
    }
   },
   "execution_count": 3, "outputs": [],
   "source": [
    "let signals =\n",
    "    [ Ticker \"AAPL\", 2.0\n",
    "      Ticker \"KO\", -1.4\n",
    "      Ticker \"GOOG\", 0.4 \n",
    "      Ticker \"DIS\", 1.1 ]\n",
    "    |\u003e Map\n"
   ]
  }
,
  {
   "cell_type": "code",
   "metadata": {
    "dotnet_interactive": {
     "language": "fsharp"
    },
    "polyglot_notebook": {
     "kernelName": "fsharp"
    }
   },
   "execution_count": null, "outputs": [],
   "source": [
    "signals[Ticker \"AAPL\"]\n"
   ]
  }
,
  {
   "cell_type": "code",
   "metadata": {
    "dotnet_interactive": {
     "language": "fsharp"
    },
    "polyglot_notebook": {
     "kernelName": "fsharp"
    }
   },
   "execution_count": 4, "outputs": [
          {
           "data": {
            "text/plain": ["2.0"]
        },
           "execution_count": 4,
           "metadata": {},
           "output_type": "execute_result"
          }],
   "source": [
    "Map.find (Ticker \"AAPL\") signals\n"
   ]
  }
,
  {
   "cell_type": "code",
   "metadata": {
    "dotnet_interactive": {
     "language": "fsharp"
    },
    "polyglot_notebook": {
     "kernelName": "fsharp"
    }
   },
   "execution_count": 5, "outputs": [
          {
           "data": {
            "text/plain": ["Some 2.0"]
        },
           "execution_count": 5,
           "metadata": {},
           "output_type": "execute_result"
          }],
   "source": [
    "Map.tryFind (Ticker \"AAPL\") signals\n"
   ]
  }
,
  {
   "cell_type": "code",
   "metadata": {
    "dotnet_interactive": {
     "language": "fsharp"
    },
    "polyglot_notebook": {
     "kernelName": "fsharp"
    }
   },
   "execution_count": 6, "outputs": [
          {
           "data": {
            "text/plain": ["val it: float option = None"]
        },
           "execution_count": 6,
           "metadata": {},
           "output_type": "execute_result"
          }],
   "source": [
    "Map.tryFind (Ticker \"GME\") signals\n"
   ]
  }
,
  {
   "cell_type": "markdown",
   "metadata": {},
   
   "source": [
    "Now a function that gets the signal given a security id.\n",
    "\n"
   ]
  }
,
  {
   "cell_type": "code",
   "metadata": {
    "dotnet_interactive": {
     "language": "fsharp"
    },
    "polyglot_notebook": {
     "kernelName": "fsharp"
    }
   },
   "execution_count": 7, "outputs": [],
   "source": [
    "let getSignal id = Map.tryFind id signals\n",
    "\n",
    "getSignal (Ticker \"AAPL\")\n",
    "getSignal (Ticker \"GOOG\")\n"
   ]
  }
,
  {
   "cell_type": "markdown",
   "metadata": {},
   
   "source": [
    "We can call this function on all signals in our investment universe.\n",
    "\n"
   ]
  }
,
  {
   "cell_type": "code",
   "metadata": {
    "dotnet_interactive": {
     "language": "fsharp"
    },
    "polyglot_notebook": {
     "kernelName": "fsharp"
    }
   },
   "execution_count": 8, "outputs": [],
   "source": [
    "// using a loop.\n",
    "[ for security in investmentUniverse do\n",
    "    security, getSignal security ]\n",
    "\n",
    "// same thing with List.map\n",
    "investmentUniverse\n",
    "|\u003e List.map(fun security -\u003e security, getSignal security)\n"
   ]
  }
,
  {
   "cell_type": "markdown",
   "metadata": {},
   
   "source": [
    "Let\u0027s create a type to hold a security identifier and its signal.\n",
    "\n"
   ]
  }
,
  {
   "cell_type": "code",
   "metadata": {
    "dotnet_interactive": {
     "language": "fsharp"
    },
    "polyglot_notebook": {
     "kernelName": "fsharp"
    }
   },
   "execution_count": 9, "outputs": [],
   "source": [
    "type SecuritySignal = \n",
    "    { SecurityId : SecurityId\n",
    "      Signal : float }\n"
   ]
  }
,
  {
   "cell_type": "markdown",
   "metadata": {},
   
   "source": [
    "Now a function that gets the signal and puts it in the\n",
    "`SecuritySignal` record type. It\u0027s possible that the security signal does not exist, so we\u0027ll use an option type to handle the fact that we might\n",
    "find the signal and we might not.\n",
    "\n"
   ]
  }
,
  {
   "cell_type": "code",
   "metadata": {
    "dotnet_interactive": {
     "language": "fsharp"
    },
    "polyglot_notebook": {
     "kernelName": "fsharp"
    }
   },
   "execution_count": 10, "outputs": [],
   "source": [
    "let getSecuritySignal security =\n",
    "    match Map.tryFind security signals with\n",
    "    | None -\u003e None\n",
    "    | Some signal -\u003e\n",
    "        let result = { SecurityId = security; Signal = signal }\n",
    "        Some result\n"
   ]
  }
,
  {
   "cell_type": "markdown",
   "metadata": {},
   
   "source": [
    "Here we can see that we retured something when there\n",
    "was a signal and nothing if there was none.\n",
    "\n"
   ]
  }
,
  {
   "cell_type": "code",
   "metadata": {
    "dotnet_interactive": {
     "language": "fsharp"
    },
    "polyglot_notebook": {
     "kernelName": "fsharp"
    }
   },
   "execution_count": 11, "outputs": [
          {
           "data": {
            "text/plain": ["val it: SecuritySignal option = None"]
        },
           "execution_count": 11,
           "metadata": {},
           "output_type": "execute_result"
          }],
   "source": [
    "getSecuritySignal (Ticker \"GME\")\n"
   ]
  }
,
  {
   "cell_type": "code",
   "metadata": {
    "dotnet_interactive": {
     "language": "fsharp"
    },
    "polyglot_notebook": {
     "kernelName": "fsharp"
    }
   },
   "execution_count": 12, "outputs": [
          {
           "data": {
            "text/plain": ["val it: SecuritySignal option = Some { SecurityId = Ticker \"GOOG\"",
"",
"                                       Signal = 0.4 }"]
        },
           "execution_count": 12,
           "metadata": {},
           "output_type": "execute_result"
          }],
   "source": [
    "getSecuritySignal (Ticker \"GOOG\")\n"
   ]
  }
,
  {
   "cell_type": "code",
   "metadata": {
    "dotnet_interactive": {
     "language": "fsharp"
    },
    "polyglot_notebook": {
     "kernelName": "fsharp"
    }
   },
   "execution_count": 13, "outputs": [
          {
           "data": {
            "text/plain": ["Some({ SecurityId = Ticker \"AAPL\"",
"  Signal = 2.0 })",
"",
"Some({ SecurityId = Ticker \"KO\"",
"  Signal = -1.4 })",
"",
"Some({ SecurityId = Ticker \"GOOG\"",
"  Signal = 0.4 })",
"",
"Some({ SecurityId = Ticker \"DIS\"",
"  Signal = 1.1 })"]
        },
           "execution_count": 13,
           "metadata": {},
           "output_type": "execute_result"
          }],
   "source": [
    "for security in investmentUniverse do\n",
    "    let securitySignal = getSecuritySignal security\n",
    "    printfn $\"{securitySignal}\"\n"
   ]
  }
,
  {
   "cell_type": "markdown",
   "metadata": {},
   
   "source": [
    "This is equivalent but using a pipeline.\n",
    "\n"
   ]
  }
,
  {
   "cell_type": "code",
   "metadata": {
    "dotnet_interactive": {
     "language": "fsharp"
    },
    "polyglot_notebook": {
     "kernelName": "fsharp"
    }
   },
   "execution_count": 14, "outputs": [
          {
           "data": {
            "text/plain": ["Some { SecurityId = Ticker \"AAPL\"",
"       Signal = 2.0 }",
"",
"Some { SecurityId = Ticker \"KO\"",
"       Signal = -1.4 }",
"",
"Some { SecurityId = Ticker \"GOOG\"",
"       Signal = 0.4 }",
"",
"Some { SecurityId = Ticker \"DIS\"",
"       Signal = 1.1 }",
"",
"None"]
        },
           "execution_count": 14,
           "metadata": {},
           "output_type": "execute_result"
          }],
   "source": [
    "investmentUniverse\n",
    "|\u003e List.map getSecuritySignal\n",
    "|\u003e List.iter (printfn \"%A\")\n"
   ]
  }
,
  {
   "cell_type": "markdown",
   "metadata": {},
   
   "source": [
    "If we do choose instead of map, then we will\n",
    "end up with only the results when there was something.\n",
    "\n"
   ]
  }
,
  {
   "cell_type": "code",
   "metadata": {
    "dotnet_interactive": {
     "language": "fsharp"
    },
    "polyglot_notebook": {
     "kernelName": "fsharp"
    }
   },
   "execution_count": 15, "outputs": [
          {
           "data": {
            "text/plain": ["{ SecurityId = Ticker \"AAPL\"",
"  Signal = 2.0 }",
"",
"{ SecurityId = Ticker \"KO\"",
"  Signal = -1.4 }",
"",
"{ SecurityId = Ticker \"GOOG\"",
"  Signal = 0.4 }",
"",
"{ SecurityId = Ticker \"DIS\"",
"  Signal = 1.1 }"]
        },
           "execution_count": 15,
           "metadata": {},
           "output_type": "execute_result"
          }],
   "source": [
    "investmentUniverse\n",
    "|\u003e List.choose getSecuritySignal\n",
    "|\u003e List.iter (printfn \"%A\") \n"
   ]
  }
,
  {
   "cell_type": "code",
   "metadata": {
    "dotnet_interactive": {
     "language": "fsharp"
    },
    "polyglot_notebook": {
     "kernelName": "fsharp"
    }
   },
   "execution_count": 16, "outputs": [
          {
           "data": {
            "text/plain": ["{ SecurityId = Ticker \"AAPL\"",
"  Signal = 2.0 }",
"",
"{ SecurityId = Ticker \"KO\"",
"  Signal = -1.4 }",
"",
"{ SecurityId = Ticker \"GOOG\"",
"  Signal = 0.4 }",
"",
"{ SecurityId = Ticker \"DIS\"",
"  Signal = 1.1 }"]
        },
           "execution_count": 16,
           "metadata": {},
           "output_type": "execute_result"
          }],
   "source": [
    "let securitySignals = \n",
    "    investmentUniverse\n",
    "    |\u003e List.choose getSecuritySignal\n",
    "\n",
    "securitySignals\n",
    "|\u003e List.iter (printfn \"%A\")\n"
   ]
  }
,
  {
   "cell_type": "markdown",
   "metadata": {},
   
   "source": [
    "## 3. Defining a mapping between signals and portfolio weights.\n",
    "\n",
    "Now let\u0027s look at turning signals into weights.\n",
    "\n",
    "Often, you only want stocks with signals above or below a given threshold in a portfolio. For instance, if you have a \"value\" portfolio you might only want stocks with low price to earnings (P/E) ratios in your portfolio. Or maybe you want to go long value stocks and short growth stocks.\n",
    "\n",
    "A typical procedure is to assign securities to portfolios based on signals, and then weight securities within those sub portfolios.\n",
    "\n",
    "First, let\u0027s represent portfolios Ids.\n",
    "A first step is to define portfolio IDs. A simple ID is a string name, but often we will do things like create 10 size portfolios infexed from 1 to 10, like (\"Size\", 1), (\"Size\", 2), ... We can model this as a discriminated union.\n",
    "\n",
    "Here, `Indexed` is a tuple where the first element is a string and the second is an integer. I could just say `Indexed of string * int`, but I am going to name them to give them meaning. Though the names are optional when constructing and deconstructing\n",
    "\n"
   ]
  }
,
  {
   "cell_type": "code",
   "metadata": {
    "dotnet_interactive": {
     "language": "fsharp"
    },
    "polyglot_notebook": {
     "kernelName": "fsharp"
    }
   },
   "execution_count": 17, "outputs": [
          {
           "data": {
            "text/plain": ["\"Market\""]
        },
           "execution_count": 17,
           "metadata": {},
           "output_type": "execute_result"
          }],
   "source": [
    "type PortfolioId = \n",
    "    | Named of string\n",
    "    | Indexed of {| Name: string; Index: int |}// name:string * index:int\n",
    "\n",
    "// Example portfolio IDs\n",
    "let portfolioId1 = Named \"Market\"\n",
    "let portfolioId2 = Indexed {| Name = \"Size\"; Index = 1 |} \n",
    "let portfolioId3 = Indexed {| Name = \"Size\" ; Index = 2 |}    \n",
    "\n",
    "let getPortfolioIdString port =\n",
    "    match port with\n",
    "    | Named name -\u003e name\n",
    "    | Indexed p -\u003e $\"{p.Name}: {p.Index}\"\n",
    "\n",
    "\n",
    "getPortfolioIdString portfolioId1\n"
   ]
  }
,
  {
   "cell_type": "code",
   "metadata": {
    "dotnet_interactive": {
     "language": "fsharp"
    },
    "polyglot_notebook": {
     "kernelName": "fsharp"
    }
   },
   "execution_count": 18, "outputs": [
          {
           "data": {
            "text/plain": ["\"Size: 2\""]
        },
           "execution_count": 18,
           "metadata": {},
           "output_type": "execute_result"
          }],
   "source": [
    "getPortfolioIdString portfolioId3\n"
   ]
  }
,
  {
   "cell_type": "markdown",
   "metadata": {},
   
   "source": [
    "Let\u0027s assign securities to portolios based on whether their signal is above or below the median.\n",
    "\n"
   ]
  }
,
  {
   "cell_type": "code",
   "metadata": {
    "dotnet_interactive": {
     "language": "fsharp"
    },
    "polyglot_notebook": {
     "kernelName": "fsharp"
    }
   },
   "execution_count": 19, "outputs": [],
   "source": [
    "// Model for an assigned portfolio\n",
    "type AssignedPortfolio =\n",
    "    { PortfolioId : PortfolioId \n",
    "      Signals : list\u003cSecuritySignal\u003e }\n",
    "\n",
    "let medianSignal = \n",
    "    securitySignals \n",
    "    |\u003e List.map(fun x -\u003e x.Signal)\n",
    "    |\u003e Seq.median\n"
   ]
  }
,
  {
   "cell_type": "markdown",
   "metadata": {},
   
   "source": [
    "The median signal is\n",
    "\n",
    "```\n",
    "0.75\n",
    "```\n",
    "\n"
   ]
  }
,
  {
   "cell_type": "code",
   "metadata": {
    "dotnet_interactive": {
     "language": "fsharp"
    },
    "polyglot_notebook": {
     "kernelName": "fsharp"
    }
   },
   "execution_count": 21, "outputs": [],
   "source": [
    "let aboveMedian =\n",
    "    securitySignals\n",
    "    |\u003e List.filter(fun x -\u003e x.Signal \u003e= medianSignal)\n"
   ]
  }
,
  {
   "cell_type": "markdown",
   "metadata": {},
   
   "source": [
    "the above-median securities:\n",
    "\n",
    "```\n",
    "[{ SecurityId = Ticker \"AAPL\"\n",
    "   Signal = 2.0 }; { SecurityId = Ticker \"DIS\"\n",
    "                     Signal = 1.1 }]\n",
    "```\n",
    "\n"
   ]
  }
,
  {
   "cell_type": "code",
   "metadata": {
    "dotnet_interactive": {
     "language": "fsharp"
    },
    "polyglot_notebook": {
     "kernelName": "fsharp"
    }
   },
   "execution_count": 23, "outputs": [],
   "source": [
    "let belowMedian =\n",
    "    securitySignals\n",
    "    |\u003e List.filter(fun x -\u003e x.Signal \u003c medianSignal)\n"
   ]
  }
,
  {
   "cell_type": "markdown",
   "metadata": {},
   
   "source": [
    "the below-median securities:\n",
    "\n",
    "```\n",
    "[{ SecurityId = Ticker \"KO\"\n",
    "   Signal = -1.4 }; { SecurityId = Ticker \"GOOG\"\n",
    "                      Signal = 0.4 }]\n",
    "```\n",
    "\n"
   ]
  }
,
  {
   "cell_type": "code",
   "metadata": {
    "dotnet_interactive": {
     "language": "fsharp"
    },
    "polyglot_notebook": {
     "kernelName": "fsharp"
    }
   },
   "execution_count": 25, "outputs": [],
   "source": [
    "let assigned =\n",
    "    [ { PortfolioId = Named(\"Above Median\")\n",
    "        Signals = aboveMedian }\n",
    "      { PortfolioId = Named(\"Below Median\")\n",
    "        Signals = belowMedian} ]\n"
   ]
  }
,
  {
   "cell_type": "markdown",
   "metadata": {},
   
   "source": [
    "assigned to portfolios:\n",
    "\n",
    "```\n",
    "[{ PortfolioId = Named \"Above Median\"\n",
    "   Signals = [{ SecurityId = Ticker \"AAPL\"\n",
    "                Signal = 2.0 }; { SecurityId = Ticker \"DIS\"\n",
    "                                  Signal = 1.1 }] };\n",
    " { PortfolioId = Named \"Below Median\"\n",
    "   Signals = [{ SecurityId = Ticker \"KO\"\n",
    "                Signal = -1.4 }; { SecurityId = Ticker \"GOOG\"\n",
    "                                   Signal = 0.4 }] }]\n",
    "```\n",
    "\n",
    "Or create a reusable function to do the same thing\n",
    "\n"
   ]
  }
,
  {
   "cell_type": "code",
   "metadata": {
    "dotnet_interactive": {
     "language": "fsharp"
    },
    "polyglot_notebook": {
     "kernelName": "fsharp"
    }
   },
   "execution_count": 27, "outputs": [],
   "source": [
    "let assignAboveBelowMedian securitySignals =\n",
    "    let medianSignal = \n",
    "        securitySignals \n",
    "        |\u003e List.map(fun x -\u003e x.Signal)\n",
    "        |\u003e Seq.median\n",
    "\n",
    "    let aboveMedian =\n",
    "        securitySignals\n",
    "        |\u003e List.filter(fun x -\u003e x.Signal \u003e= medianSignal)\n",
    "\n",
    "    let belowMedian =\n",
    "        securitySignals\n",
    "        |\u003e List.filter(fun x -\u003e x.Signal \u003c medianSignal)\n",
    "\n",
    "    [ { PortfolioId = Named(\"Above Median\")\n",
    "        Signals = aboveMedian }\n",
    "      { PortfolioId = Named(\"Below Median\")\n",
    "        Signals = belowMedian} ]\n"
   ]
  }
,
  {
   "cell_type": "markdown",
   "metadata": {},
   
   "source": [
    "## Modelling a position\n",
    "\n",
    "Now we have assigned securities to portfolios based on the trading signal. Now we can form weights. We can think of a portfolio as consisting of positions where positions are symbols and weights.\n",
    "\n"
   ]
  }
,
  {
   "cell_type": "code",
   "metadata": {
    "dotnet_interactive": {
     "language": "fsharp"
    },
    "polyglot_notebook": {
     "kernelName": "fsharp"
    }
   },
   "execution_count": 28, "outputs": [],
   "source": [
    "type Position =\n",
    "    { SecurityId : SecurityId \n",
    "      Weight : float }\n",
    "\n",
    "// Defining example positions\n",
    "\n",
    "let koPosition = { SecurityId = Ticker \"KO\"; Weight = 0.25 }\n",
    "let permnoPosition = { SecurityId = Permno 1001; Weight = 0.75 }\n"
   ]
  }
,
  {
   "cell_type": "markdown",
   "metadata": {},
   
   "source": [
    "## Modelling a portfolio\n",
    "\n",
    "And once we have multiple positions, then we can group them into a portfolio.\n",
    "\n",
    "And a portfolio can consist of a Portfolio Id and an List of positions\n",
    "\n"
   ]
  }
,
  {
   "cell_type": "code",
   "metadata": {
    "dotnet_interactive": {
     "language": "fsharp"
    },
    "polyglot_notebook": {
     "kernelName": "fsharp"
    }
   },
   "execution_count": 29, "outputs": [],
   "source": [
    "type Portfolio = \n",
    "    { PortfolioId: PortfolioId\n",
    "      Positions : list\u003cPosition\u003e }\n"
   ]
  }
,
  {
   "cell_type": "markdown",
   "metadata": {},
   
   "source": [
    "An example constructing a portfolio\n",
    "\n"
   ]
  }
,
  {
   "cell_type": "code",
   "metadata": {
    "dotnet_interactive": {
     "language": "fsharp"
    },
    "polyglot_notebook": {
     "kernelName": "fsharp"
    }
   },
   "execution_count": 30, "outputs": [],
   "source": [
    "let portfolioExample1 =\n",
    "    { PortfolioId = Named \"Example 1\"\n",
    "      Positions = [ koPosition; permnoPosition ] }\n"
   ]
  }
,
  {
   "cell_type": "markdown",
   "metadata": {},
   
   "source": [
    "## Defining portfolio position weights\n",
    "\n",
    "Once you have a portfolio of securities that have met some signal criteria, it is common to weight those securities using either of two simple weighting schemes: equal weight or value weight.\n",
    "\n",
    "Equal weight means that every security has the same weight.\n",
    "\n",
    "Value-weight means that you weight securities proportional to their market value. This means that your portfolio put more weight on more valuable securities. Or it \"tilts\" toward more valuable securities. This weighting scheme is utilized when you want to make sure that you are not putting too much weight on small illiquid securities that are hard to purchase.\n",
    "\n",
    "Equal-weight is easy:\n",
    "\n"
   ]
  }
,
  {
   "cell_type": "code",
   "metadata": {
    "dotnet_interactive": {
     "language": "fsharp"
    },
    "polyglot_notebook": {
     "kernelName": "fsharp"
    }
   },
   "execution_count": 31, "outputs": [],
   "source": [
    "let weightTestPort = \n",
    "    assigned |\u003e List.find (fun x -\u003e x.PortfolioId = Named(\"Above Median\"))\n",
    "\n",
    "let nSecurities = weightTestPort.Signals.Length\n",
    "\n",
    "let ewTestWeights =\n",
    "    [ for signal in weightTestPort.Signals do \n",
    "        { SecurityId = signal.SecurityId\n",
    "          Weight = 1.0 / (float nSecurities) } ]\n",
    "\n",
    "let giveEqualWeights x =\n",
    "    let n = x.Signals.Length\n",
    "    let pos =\n",
    "        [ for signal in x.Signals do \n",
    "            { Position.SecurityId = signal.SecurityId\n",
    "              Weight = 1.0 / (float n) } ]\n",
    "    { PortfolioId = x.PortfolioId \n",
    "      Positions = pos }\n"
   ]
  }
,
  {
   "cell_type": "markdown",
   "metadata": {},
   
   "source": [
    "For one portfolio:\n",
    "\n"
   ]
  }
,
  {
   "cell_type": "code",
   "metadata": {
    "dotnet_interactive": {
     "language": "fsharp"
    },
    "polyglot_notebook": {
     "kernelName": "fsharp"
    }
   },
   "execution_count": 32, "outputs": [
          {
           "data": {
            "text/plain": ["val it: Portfolio =",
"",
"  { PortfolioId = Named \"Above Median\"",
"",
"    Positions = [{ SecurityId = Ticker \"AAPL\"",
"",
"                   Weight = 0.5 }; { SecurityId = Ticker \"DIS\"",
"",
"                                     Weight = 0.5 }] }"]
        },
           "execution_count": 32,
           "metadata": {},
           "output_type": "execute_result"
          }],
   "source": [
    "giveEqualWeights weightTestPort\n"
   ]
  }
,
  {
   "cell_type": "markdown",
   "metadata": {},
   
   "source": [
    "For all portfolios:\n",
    "\n"
   ]
  }
,
  {
   "cell_type": "code",
   "metadata": {
    "dotnet_interactive": {
     "language": "fsharp"
    },
    "polyglot_notebook": {
     "kernelName": "fsharp"
    }
   },
   "execution_count": 33, "outputs": [
          {
           "data": {
            "text/plain": ["val it: Portfolio list =",
"",
"  [{ PortfolioId = Named \"Above Median\"",
"",
"     Positions = [{ SecurityId = Ticker \"AAPL\"",
"",
"                    Weight = 0.5 }; { SecurityId = Ticker \"DIS\"",
"",
"                                      Weight = 0.5 }] };",
"",
"   { PortfolioId = Named \"Below Median\"",
"",
"     Positions = [{ SecurityId = Ticker \"KO\"",
"",
"                    Weight = 0.5 }; { SecurityId = Ticker \"GOOG\"",
"",
"                                      Weight = 0.5 }] }]"]
        },
           "execution_count": 33,
           "metadata": {},
           "output_type": "execute_result"
          }],
   "source": [
    "[ for portfolio in assigned do giveEqualWeights portfolio ]\n"
   ]
  }
,
  {
   "cell_type": "markdown",
   "metadata": {},
   
   "source": [
    "or equivalently:\n",
    "\n"
   ]
  }
,
  {
   "cell_type": "code",
   "metadata": {
    "dotnet_interactive": {
     "language": "fsharp"
    },
    "polyglot_notebook": {
     "kernelName": "fsharp"
    }
   },
   "execution_count": 34, "outputs": [
          {
           "data": {
            "text/plain": ["val it: Portfolio list =",
"",
"  [{ PortfolioId = Named \"Above Median\"",
"",
"     Positions = [{ SecurityId = Ticker \"AAPL\"",
"",
"                    Weight = 0.5 }; { SecurityId = Ticker \"DIS\"",
"",
"                                      Weight = 0.5 }] };",
"",
"   { PortfolioId = Named \"Below Median\"",
"",
"     Positions = [{ SecurityId = Ticker \"KO\"",
"",
"                    Weight = 0.5 }; { SecurityId = Ticker \"GOOG\"",
"",
"                                      Weight = 0.5 }] }]"]
        },
           "execution_count": 34,
           "metadata": {},
           "output_type": "execute_result"
          }],
   "source": [
    "assigned |\u003e List.map giveEqualWeights\n"
   ]
  }
,
  {
   "cell_type": "markdown",
   "metadata": {},
   
   "source": [
    "For value weights, we need the securities\u0027 market values\n",
    "split into above/below median and for portfolios with those.\n",
    "\n"
   ]
  }
,
  {
   "cell_type": "code",
   "metadata": {
    "dotnet_interactive": {
     "language": "fsharp"
    },
    "polyglot_notebook": {
     "kernelName": "fsharp"
    }
   },
   "execution_count": 35, "outputs": [
          {
           "data": {
            "text/plain": ["val marketCapitalizations: Map\u003cSecurityId,float\u003e =",
"",
"  map",
"",
"    [(Ticker \"AAPL\", 10.0); (Ticker \"DIS\", 5.0); (Ticker \"GOOG\", 7.0);",
"",
"     (Ticker \"KO\", 4.0)]",
"",
"val mktCaps: (SecurityId * float) list =",
"",
"  [(Ticker \"AAPL\", 10.0); (Ticker \"DIS\", 5.0)]"]
        },
           "execution_count": 35,
           "metadata": {},
           "output_type": "execute_result"
          }],
   "source": [
    "let marketCapitalizations =\n",
    "    [ Ticker \"AAPL\", 10.0\n",
    "      Ticker \"KO\", 4.0\n",
    "      Ticker \"GOOG\", 7.0 \n",
    "      Ticker \"DIS\", 5.0 ]\n",
    "    |\u003e Map\n",
    "\n",
    "let mktCaps =\n",
    "    [ for signal in weightTestPort.Signals do \n",
    "        let mktcap = Map.find signal.SecurityId marketCapitalizations\n",
    "        signal.SecurityId, mktcap ]\n"
   ]
  }
,
  {
   "cell_type": "code",
   "metadata": {
    "dotnet_interactive": {
     "language": "fsharp"
    },
    "polyglot_notebook": {
     "kernelName": "fsharp"
    }
   },
   "execution_count": 36, "outputs": [
          {
           "data": {
            "text/plain": ["val vwTestWeights: Position list =",
"",
"  [{ SecurityId = Ticker \"AAPL\"",
"",
"     Weight = 0.6666666667 }; { SecurityId = Ticker \"DIS\"",
"",
"                                Weight = 0.3333333333 }]"]
        },
           "execution_count": 36,
           "metadata": {},
           "output_type": "execute_result"
          }],
   "source": [
    "let vwTestWeights =\n",
    "    let totMktCap = mktCaps |\u003e List.sumBy snd\n",
    "    [ for (id, mktCap) in mktCaps do \n",
    "        { SecurityId = id \n",
    "          Weight = mktCap / totMktCap } ]\n"
   ]
  }
,
  {
   "cell_type": "markdown",
   "metadata": {},
   
   "source": [
    "Now a function to do the same as above.\n",
    "\n"
   ]
  }
,
  {
   "cell_type": "code",
   "metadata": {
    "dotnet_interactive": {
     "language": "fsharp"
    },
    "polyglot_notebook": {
     "kernelName": "fsharp"
    }
   },
   "execution_count": 37, "outputs": [],
   "source": [
    "let giveValueWeights x =\n",
    "    let mktCaps =\n",
    "        [ for signal in x.Signals do \n",
    "            let mktcap = Map.find signal.SecurityId marketCapitalizations\n",
    "            signal.SecurityId, mktcap ]\n",
    "    let totMktCap = mktCaps |\u003e List.sumBy snd\n",
    "    let pos =\n",
    "        [ for (id, mktCap) in mktCaps do \n",
    "            { SecurityId = id \n",
    "              Weight = mktCap / totMktCap } ]\n",
    "    { PortfolioId = x.PortfolioId; Positions = pos }\n"
   ]
  }
,
  {
   "cell_type": "markdown",
   "metadata": {},
   
   "source": [
    "We can map our function to both of our assigned portfolios.\n",
    "\n"
   ]
  }
,
  {
   "cell_type": "code",
   "metadata": {
    "dotnet_interactive": {
     "language": "fsharp"
    },
    "polyglot_notebook": {
     "kernelName": "fsharp"
    }
   },
   "execution_count": 38, "outputs": [
          {
           "data": {
            "text/plain": ["[{ PortfolioId = Named \"Above Median\"",
"   Positions = [{ SecurityId = Ticker \"AAPL\"",
"                  Weight = 0.6666666667 }; { SecurityId = Ticker \"DIS\"",
"                                             Weight = 0.3333333333 }] };",
" { PortfolioId = Named \"Below Median\"",
"   Positions = [{ SecurityId = Ticker \"KO\"",
"                  Weight = 0.3636363636 }; { SecurityId = Ticker \"GOOG\"",
"                                             Weight = 0.6363636364 }] }]"]
        },
           "execution_count": 38,
           "metadata": {},
           "output_type": "execute_result"
          }],
   "source": [
    "[ for x in assigned do giveValueWeights x ]\n"
   ]
  }
,
  {
   "cell_type": "markdown",
   "metadata": {},
   
   "source": [
    "or equivalently\n",
    "\n"
   ]
  }
,
  {
   "cell_type": "code",
   "metadata": {
    "dotnet_interactive": {
     "language": "fsharp"
    },
    "polyglot_notebook": {
     "kernelName": "fsharp"
    }
   },
   "execution_count": 39, "outputs": [
          {
           "data": {
            "text/plain": ["[{ PortfolioId = Named \"Above Median\"",
"   Positions = [{ SecurityId = Ticker \"AAPL\"",
"                  Weight = 0.6666666667 }; { SecurityId = Ticker \"DIS\"",
"                                             Weight = 0.3333333333 }] };",
" { PortfolioId = Named \"Below Median\"",
"   Positions = [{ SecurityId = Ticker \"KO\"",
"                  Weight = 0.3636363636 }; { SecurityId = Ticker \"GOOG\"",
"                                             Weight = 0.6363636364 }] }]"]
        },
           "execution_count": 39,
           "metadata": {},
           "output_type": "execute_result"
          }],
   "source": [
    "assigned |\u003e List.map giveValueWeights  \n"
   ]
  }
,
  {
   "cell_type": "markdown",
   "metadata": {},
   
   "source": [
    "All together now. This is our workflow.\n",
    "\n"
   ]
  }
,
  {
   "cell_type": "code",
   "metadata": {
    "dotnet_interactive": {
     "language": "fsharp"
    },
    "polyglot_notebook": {
     "kernelName": "fsharp"
    }
   },
   "execution_count": 40, "outputs": [
          {
           "data": {
            "text/plain": ["val strategyWeights: Portfolio list =",
"",
"  [{ PortfolioId = Named \"Above Median\"",
"",
"     Positions = [{ SecurityId = Ticker \"AAPL\"",
"",
"                    Weight = 0.6666666667 }; { SecurityId = Ticker \"DIS\"",
"",
"                                               Weight = 0.3333333333 }] };",
"",
"   { PortfolioId = Named \"Below Median\"",
"",
"     Positions = [{ SecurityId = Ticker \"KO\"",
"",
"                    Weight = 0.3636363636 }; { SecurityId = Ticker \"GOOG\"",
"",
"                                               Weight = 0.6363636364 }] }]"]
        },
           "execution_count": 40,
           "metadata": {},
           "output_type": "execute_result"
          }],
   "source": [
    "let strategyWeights =\n",
    "    investmentUniverse\n",
    "    |\u003e List.choose getSecuritySignal\n",
    "    |\u003e assignAboveBelowMedian\n",
    "    |\u003e List.map giveValueWeights\n"
   ]
  }
,
  {
   "cell_type": "markdown",
   "metadata": {},
   
   "source": [
    "# How do we calculate returns?\n",
    "\n",
    "Take these returns:\n",
    "\n"
   ]
  }
,
  {
   "cell_type": "code",
   "metadata": {
    "dotnet_interactive": {
     "language": "fsharp"
    },
    "polyglot_notebook": {
     "kernelName": "fsharp"
    }
   },
   "execution_count": 41, "outputs": [],
   "source": [
    "let returnMap =\n",
    "    [ Ticker \"AAPL\", -0.4\n",
    "      Ticker \"KO\", -0.1\n",
    "      Ticker \"GOOG\", 0.15 \n",
    "      Ticker \"DIS\", 0.1 ]\n",
    "    |\u003e Map\n"
   ]
  }
,
  {
   "cell_type": "markdown",
   "metadata": {},
   
   "source": [
    "What is the return of the two portfolios?\n",
    "\n",
    "Hint: the value-weight assignment code is a good reference for figuring out how to look up the stock returns.\n",
    "\n"
   ]
  }
 ],
 "metadata": {
  "kernelspec": {
   "display_name": ".NET (F#)",
   "language": "F#",
   "name": ".net-fsharp"
  },
  "language_info": {
   "file_extension": ".fs",
   "mimetype": "text/x-fsharp",
   "name": "polyglot-notebook",
   "pygments_lexer": "fsharp"
  },
  "polyglot_notebook": {
   "kernelInfo": {
    "defaultKernelName": "fsharp",
    "items": [
     {
      "aliases": [],
      "languageName": "fsharp",
      "name": "fsharp"
     }
    ]
   }
  }
 },
 "nbformat": 4,
 "nbformat_minor": 2
}

