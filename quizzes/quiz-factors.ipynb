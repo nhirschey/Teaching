
{
 "cells": [
  {
   "cell_type": "markdown",
   "metadata": {},
   
   "source": [
    "[![Binder](../img/badge-binder.svg)](https://mybinder.org/v2/gh/nhirschey/teaching/gh-pages?filepath=quizzes/quiz-factors.ipynb)\u0026emsp;\n",
    "[![Script](../img/badge-script.svg)](/Teaching//quizzes/quiz-factors.fsx)\u0026emsp;\n",
    "[![Notebook](../img/badge-notebook.svg)](/Teaching//quizzes/quiz-factors.ipynb)\n",
    "\n",
    "On moodle, there is a set of investment lecture notes called \"Finance Review\".\n",
    "Please review the Lecture-08-APT.pdf document, including the appendix.\n",
    "\n",
    "In particular,\n",
    "\n",
    "* What do we mean by a factor?\n",
    "\n",
    "* The example showing how to hedge Barrick with GLD and SPY.\n",
    "\n",
    "* Information ratios.\n",
    "\n",
    "Imagine you have the below returns for IBM and SPY.\n",
    "IBM\u0027s factor beta on SPY and the (constant)\n",
    "risk-free rate are given below too.\n",
    "\n"
   ]
  }
,
  {
   "cell_type": "code",
   "metadata": {
    "dotnet_interactive": {
     "language": "fsharp"
    },
    "polyglot_notebook": {
     "kernelName": "fsharp"
    }
   },
   "execution_count": 3, "outputs": [],
   "source": [
    "type ReturnOb = { Time: int; Return : float }\n",
    "let ibm =\n",
    "    [| \n",
    "        { Time = 0; Return = 0.15 }\n",
    "        { Time = 1; Return = 0.05 }\n",
    "        { Time = 2; Return = 0.01 }\n",
    "    |]\n",
    "\n",
    "let spy =\n",
    "    [| \n",
    "        { Time = 0; Return = 0.1 }\n",
    "        { Time = 1; Return = 0.05 }\n",
    "        { Time = 2; Return = -0.02 }\n",
    "    |]    \n",
    "\n",
    "let riskFreeRate = 0.001\n",
    "let ibmBetaOnSpy = 1.2    \n"
   ]
  }
,
  {
   "cell_type": "markdown",
   "metadata": {},
   
   "source": [
    "## Question 1\n",
    "\n",
    "What are the weights on the risk-free asset and\n",
    "SPY in the portfolio that hedges IBM\u0027s exposure to\n",
    "SPY?\n",
    "\n",
    "0 Report the weight on the risk-free asset as a value named `wRf` of type `float`.\n",
    "\n",
    "1 Report the weight on the SPY portfolio as a value named `wSpy` of type `float`.\n",
    "\n",
    "\u003cdiv style=\"padding-left: 40px;\"\u003e\n",
    "\u003cp\u003e \n",
    "\u003cspan\u003e\n",
    "\u003cdetails\u003e\n",
    "\u003csummary\u003e\u003cp style=\"display:inline\"\u003eanswer\u003c/p\u003e\u003c/summary\u003e\n",
    "\n",
    "```\n",
    "val wSpy: float = 1.2\n",
    "val wRf: float = -0.2\n",
    "```\n",
    "\n",
    "\u003c/details\u003e\n",
    "\u003c/span\u003e\n",
    "\u003c/p\u003e\n",
    "\u003c/div\u003e\n",
    "\n"
   ]
  }
,
  {
   "cell_type": "code",
   "metadata": {
    "dotnet_interactive": {
     "language": "fsharp"
    },
    "polyglot_notebook": {
     "kernelName": "fsharp"
    }
   },
   "execution_count": null, "outputs": [],
   "source": [
    "// write your code here, see website for solution.\n"
   ]
  }
,
  {
   "cell_type": "markdown",
   "metadata": {},
   
   "source": [
    "## Question 2\n",
    "\n",
    "What are the returns for Times [0;1;2]() on the portfolio\n",
    "that hedges IBM\u0027s factor exposure to SPY?\n",
    "\n",
    "0 Report results as a value named `hedgePortReturns` of type `ReturnOb array`.\n",
    "\n",
    "\u003cdiv style=\"padding-left: 40px;\"\u003e\n",
    "\u003cp\u003e \n",
    "\u003cspan\u003e\n",
    "\u003cdetails\u003e\n",
    "\u003csummary\u003e\u003cp style=\"display:inline\"\u003eanswer\u003c/p\u003e\u003c/summary\u003e\n",
    "\n",
    "```\n",
    "val hedgePortReturns: ReturnOb array =\n",
    "  [|{ Time = 0\n",
    "      Return = 0.1198 }; { Time = 1\n",
    "                           Return = 0.0598 }; { Time = 2\n",
    "                                                Return = -0.0242 }|]\n",
    "```\n",
    "\n",
    "\u003c/details\u003e\n",
    "\u003c/span\u003e\n",
    "\u003c/p\u003e\n",
    "\u003c/div\u003e\n",
    "\n"
   ]
  }
,
  {
   "cell_type": "code",
   "metadata": {
    "dotnet_interactive": {
     "language": "fsharp"
    },
    "polyglot_notebook": {
     "kernelName": "fsharp"
    }
   },
   "execution_count": null, "outputs": [],
   "source": [
    "// write your code here, see website for solution.\n"
   ]
  }
,
  {
   "cell_type": "markdown",
   "metadata": {},
   
   "source": [
    "## Question 3\n",
    "\n",
    "Call the portfolio that hedges IBM\u0027s factor exposure to SPY\n",
    "the hedge portfolio. What is the hedge portfolio\u0027s factor beta\n",
    "on SPY?\n",
    "\n",
    "0 Report the answer as a value named `hedgePortBetaOnSpy` of type float.\n",
    "\n",
    "\u003cdiv style=\"padding-left: 40px;\"\u003e\n",
    "\u003cp\u003e \n",
    "\u003cspan\u003e\n",
    "\u003cdetails\u003e\n",
    "\u003csummary\u003e\u003cp style=\"display:inline\"\u003eanswer\u003c/p\u003e\u003c/summary\u003e\n",
    "\n",
    "```\n",
    "val hedgePortBetaOnSpy: float = 1.2\n",
    "```\n",
    "\n",
    "\u003c/details\u003e\n",
    "\u003c/span\u003e\n",
    "\u003c/p\u003e\n",
    "\u003c/div\u003e\n",
    "\n"
   ]
  }
,
  {
   "cell_type": "code",
   "metadata": {
    "dotnet_interactive": {
     "language": "fsharp"
    },
    "polyglot_notebook": {
     "kernelName": "fsharp"
    }
   },
   "execution_count": null, "outputs": [],
   "source": [
    "// write your code here, see website for solution.\n"
   ]
  }
,
  {
   "cell_type": "markdown",
   "metadata": {},
   
   "source": [
    "## Question 4\n",
    "\n",
    "What are the returns for Times [0;1;2]() on the portfolio\n",
    "that is long IBM and short the portfolio that hedges\n",
    "IBM\u0027s factor exposre to SPY?\n",
    "\n",
    "0 Report results as a value named `longShortPortReturns` of type `ReturnOb array`.\n",
    "\n",
    "\u003cdiv style=\"padding-left: 40px;\"\u003e\n",
    "\u003cp\u003e \n",
    "\u003cspan\u003e\n",
    "\u003cdetails\u003e\n",
    "\u003csummary\u003e\u003cp style=\"display:inline\"\u003eanswer\u003c/p\u003e\u003c/summary\u003e\n",
    "\n",
    "```\n",
    "val hedgePortMap: Map\u003cint,ReturnOb\u003e =\n",
    "  map\n",
    "    [(0, { Time = 0\n",
    "           Return = 0.1198 }); (1, { Time = 1\n",
    "                                     Return = 0.0598 });\n",
    "     (2, { Time = 2\n",
    "           Return = -0.0242 })]\n",
    "val longShortPortReturns: ReturnOb array =\n",
    "  [|{ Time = 0\n",
    "      Return = 0.0302 }; { Time = 1\n",
    "                           Return = -0.0098 }; { Time = 2\n",
    "                                                 Return = 0.0342 }|]\n",
    "```\n",
    "\n",
    "\u003c/details\u003e\n",
    "\u003c/span\u003e\n",
    "\u003c/p\u003e\n",
    "\u003c/div\u003e\n",
    "\n"
   ]
  }
,
  {
   "cell_type": "code",
   "metadata": {
    "dotnet_interactive": {
     "language": "fsharp"
    },
    "polyglot_notebook": {
     "kernelName": "fsharp"
    }
   },
   "execution_count": null, "outputs": [],
   "source": [
    "// write your code here, see website for solution.\n"
   ]
  }
,
  {
   "cell_type": "markdown",
   "metadata": {},
   
   "source": [
    "## Question 5\n",
    "\n",
    "What is the alpha of IBM from the perspective of\n",
    "a factor model that uses SPY as the only risk factor?\n",
    "\n",
    "0 Report the result as a value named `alpha` of type float.\n",
    "\n",
    "\u003cdiv style=\"padding-left: 40px;\"\u003e\n",
    "\u003cp\u003e \n",
    "\u003cspan\u003e\n",
    "\u003cdetails\u003e\n",
    "\u003csummary\u003e\u003cp style=\"display:inline\"\u003eanswer\u003c/p\u003e\u003c/summary\u003e\n",
    "\n",
    "```\n",
    "val alpha: float = 0.0182\n",
    "```\n",
    "\n",
    "\u003c/details\u003e\n",
    "\u003c/span\u003e\n",
    "\u003c/p\u003e\n",
    "\u003c/div\u003e\n",
    "\n"
   ]
  }
,
  {
   "cell_type": "code",
   "metadata": {
    "dotnet_interactive": {
     "language": "fsharp"
    },
    "polyglot_notebook": {
     "kernelName": "fsharp"
    }
   },
   "execution_count": null, "outputs": [],
   "source": [
    "// write your code here, see website for solution.\n"
   ]
  }
,
  {
   "cell_type": "markdown",
   "metadata": {},
   
   "source": [
    "## Question 6\n",
    "\n",
    "What is the information ratio of IBM from the perspective\n",
    "of a factor model that uses SPY as the only risk factor?\n",
    "\n",
    "0 Report the result as a value named `io` of type float.\n",
    "\n",
    "\u003cdiv style=\"padding-left: 40px;\"\u003e\n",
    "\u003cp\u003e \n",
    "\u003cspan\u003e\n",
    "\u003cdetails\u003e\n",
    "\u003csummary\u003e\u003cp style=\"display:inline\"\u003eanswer\u003c/p\u003e\u003c/summary\u003e\n",
    "\n",
    "```\n",
    "[Loading C:\\Users\\runneradmin\\.packagemanagement\\nuget\\Cache\\ec63001b4149383af67dc5083312da4ecf34b844b655d861ca5bad281c016ede.fsx]\n",
    "module FSI_0035.\n",
    "       Ec63001b4149383af67dc5083312da4ecf34b844b655d861ca5bad281c016ede\n",
    "\n",
    "val sdHedgeReturns: float = 0.02433105012\n",
    "val io: float = 0.7480153922\n",
    "```\n",
    "\n",
    "\u003c/details\u003e\n",
    "\u003c/span\u003e\n",
    "\u003c/p\u003e\n",
    "\u003c/div\u003e\n",
    "\n"
   ]
  }
,
  {
   "cell_type": "code",
   "metadata": {
    "dotnet_interactive": {
     "language": "fsharp"
    },
    "polyglot_notebook": {
     "kernelName": "fsharp"
    }
   },
   "execution_count": null, "outputs": [],
   "source": [
    "// write your code here, see website for solution.\n"
   ]
  }
 ],
 "metadata": {
  "kernelspec": {
   "display_name": ".NET (F#)",
   "language": "F#",
   "name": ".net-fsharp"
  },
  "language_info": {
   "file_extension": ".fs",
   "mimetype": "text/x-fsharp",
   "name": "polyglot-notebook",
   "pygments_lexer": "fsharp"
  },
  "polyglot_notebook": {
   "kernelInfo": {
    "defaultKernelName": "fsharp",
    "items": [
     {
      "aliases": [],
      "languageName": "fsharp",
      "name": "fsharp"
     }
    ]
   }
  }
 },
 "nbformat": 4,
 "nbformat_minor": 2
}

