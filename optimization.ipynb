
{
 "cells": [
  {
   "cell_type": "markdown",
   "metadata": {},
   
   "source": [
    "[![Binder](img/badge-binder.svg)](https://mybinder.org/v2/gh/nhirschey/teaching/gh-pages?filepath=optimization.ipynb)\u0026emsp;\n",
    "[![Script](img/badge-script.svg)](/Teaching//optimization.fsx)\u0026emsp;\n",
    "[![Notebook](img/badge-notebook.svg)](/Teaching//optimization.ipynb)\n",
    "\n"
   ]
  }
,
  {
   "cell_type": "code",
   "metadata": {
    "dotnet_interactive": {
     "language": "fsharp"
    },
    "polyglot_notebook": {
     "kernelName": "fsharp"
    }
   },
   "execution_count": 1, "outputs": [],
   "source": [
    "#r \"nuget: FSharp.Stats, 0.5.0\"\n",
    "#r \"nuget: FSharp.Data, 5.0.2\"\n",
    "#r \"nuget: DiffSharp-lite\"\n",
    "#r \"nuget: Plotly.NET, 3.*\"\n",
    "#r \"nuget: Plotly.NET.Interactive, 3.*\"\n",
    "#r \"nuget: Quotes.YahooFinance, 0.0.5\"\n",
    "#r \"nuget: NovaSBE.Finance, 0.5.0\"\n",
    "\n",
    "open System\n",
    "open FSharp.Data\n",
    "open Quotes.YahooFinance\n",
    "open NovaSBE.Finance.French\n",
    "open FSharp.Stats\n",
    "open Plotly.NET\n",
    "open DiffSharp\n",
    "\n",
    "Environment.CurrentDirectory \u003c- __SOURCE_DIRECTORY__\n"
   ]
  }
,
  {
   "cell_type": "code",
   "metadata": {
    "dotnet_interactive": {
     "language": "fsharp"
    },
    "polyglot_notebook": {
     "kernelName": "fsharp"
    }
   },
   "execution_count": null, "outputs": [],
   "source": [
    "Formatter.Register\u003cTensor\u003e(\n",
    "    Action\u003c_, _\u003e(fun t (writer: IO.TextWriter) -\u003e fprintfn writer \"%120A\" t),\"text/plain\")\n",
    "Formatter.Register\u003cTensor\u003e(\n",
    "    Action\u003c_, _\u003e(fun t (writer: IO.TextWriter) -\u003e fprintfn writer \"%120A\" t),\"text/html\")\n",
    "Formatter.SetPreferredMimeTypesFor(typeof\u003cTensor\u003e, \"text/plain\")\n"
   ]
  }
,
  {
   "cell_type": "markdown",
   "metadata": {},
   
   "source": [
    "# Portfolio Optimization\n",
    "\n",
    "We\u0027re now going to see how to do mean-variance portfolio optimization.\n",
    "The objective is to find the portfolio with the greatest return per\n",
    "unit of standard deviation.\n",
    "\n",
    "In particular, we\u0027re going to identify the tangency portfolio.\n",
    "The tangency portfolio is the portfolio fully invested\n",
    "in risky assets that has the maximum achievable sharpe ratio.\n",
    "When there is a risk-free rate, the efficient frontier\n",
    "of optimal portfolios is some combination of\n",
    "the tangency portfolio and the risk-free asset.\n",
    "Investors who want safe portfolios hold a lot\n",
    "of risk-free bonds and very little of the tangency portfolio.\n",
    "Investors who want riskier portfolios hold little risk-free bonds and\n",
    "a lot of the tangency portfolio (or even lever the tangency portoflio).\n",
    "\n",
    "One thing to keep in mind is that often you think\n",
    "of this as the optimal weight per security.\n",
    "But one well known problem is that trying to do this naively does not work well.\n",
    "And by naively I mean taking a stock\u0027s average return and covariances in the sample and using that to estimate optimal weights.\n",
    "In large part, this is because it is hard to estimate a stock\u0027s future returns.\n",
    "I know. Big shock, right?\n",
    "\n",
    "However, there are ways to do portfolio optimization that work better.\n",
    "We can do it by creating large groups\n",
    "of stocks with similar characteristics.\n",
    "For example, a factor portfolio.\n",
    "Then you estimate the expected return and covariance matrix using the factor.\n",
    "That tends to give you better portfolios\n",
    "because the characteristics that you\u0027re using\n",
    "to form the portfolios help you estimate\n",
    "the return and covariances of the stocks in it.\n",
    "\n",
    "A type to hold our data.\n",
    "\n"
   ]
  }
,
  {
   "cell_type": "code",
   "metadata": {
    "dotnet_interactive": {
     "language": "fsharp"
    },
    "polyglot_notebook": {
     "kernelName": "fsharp"
    }
   },
   "execution_count": 2, "outputs": [],
   "source": [
    "type StockData =\n",
    "    { Symbol : string \n",
    "      Date : DateTime\n",
    "      Return : float }\n"
   ]
  }
,
  {
   "cell_type": "markdown",
   "metadata": {},
   
   "source": [
    "We get the Fama-French 3-Factor asset pricing model data.\n",
    "\n"
   ]
  }
,
  {
   "cell_type": "code",
   "metadata": {
    "dotnet_interactive": {
     "language": "fsharp"
    },
    "polyglot_notebook": {
     "kernelName": "fsharp"
    }
   },
   "execution_count": 3, "outputs": [],
   "source": [
    "let ff3 = getFF3 Frequency.Monthly |\u003e Array.toList\n",
    "\n",
    "// Transform to a StockData record type.\n",
    "let ff3StockData =\n",
    "    [ \n",
    "       ff3 |\u003e List.map(fun x -\u003e {Symbol=\"HML\";Date=x.Date;Return=x.Hml})\n",
    "       ff3 |\u003e List.map(fun x -\u003e {Symbol=\"MktRf\";Date=x.Date;Return=x.MktRf})\n",
    "       ff3 |\u003e List.map(fun x -\u003e {Symbol=\"Smb\";Date=x.Date;Return=x.Smb})\n",
    "    ] |\u003e List.concat\n"
   ]
  }
,
  {
   "cell_type": "markdown",
   "metadata": {},
   
   "source": [
    "Let\u0027s get our factor data.\n",
    "\n"
   ]
  }
,
  {
   "cell_type": "code",
   "metadata": {
    "dotnet_interactive": {
     "language": "fsharp"
    },
    "polyglot_notebook": {
     "kernelName": "fsharp"
    }
   },
   "execution_count": 4, "outputs": [],
   "source": [
    "let tickers = \n",
    "    [ \n",
    "        \"VBR\" // Vanguard Small-cap Value ETF\n",
    "        \"VUG\" // Vanguard Growth ETF\n",
    "        \"VTI\" // Vanguard Total Stock Market ETF\n",
    "        \"BND\" // Vanguard Total Bond Market ETF\n",
    "    ]\n",
    "\n",
    "let tickPrices = \n",
    "    YahooFinance.History(\n",
    "        tickers,\n",
    "        startDate = DateTime(2010,1,1),\n",
    "        interval = Interval.Monthly)\n",
    "\n",
    "tickPrices[..3]\n"
   ]
  }
,
  {
   "cell_type": "markdown",
   "metadata": {},
   
   "source": [
    "A function to calculate returns from Price observations\n",
    "\n"
   ]
  }
,
  {
   "cell_type": "code",
   "metadata": {
    "dotnet_interactive": {
     "language": "fsharp"
    },
    "polyglot_notebook": {
     "kernelName": "fsharp"
    }
   },
   "execution_count": 5, "outputs": [],
   "source": [
    "let pricesToReturns (symbol, adjPrices: list\u003cQuote\u003e) =\n",
    "    adjPrices\n",
    "    |\u003e List.sortBy (fun x -\u003e x.Date)\n",
    "    |\u003e List.pairwise\n",
    "    |\u003e List.map (fun (day0, day1) -\u003e\n",
    "        let r = day1.AdjustedClose / day0.AdjustedClose - 1.0 \n",
    "        { Symbol = symbol \n",
    "          Date = day1.Date \n",
    "          Return = r })\n",
    "\n",
    "let testPriceObs = \n",
    "    tickPrices\n",
    "    |\u003e List.filter (fun x -\u003e x.Symbol = tickers[0])\n",
    "    |\u003e List.truncate 4\n"
   ]
  }
,
  {
   "cell_type": "markdown",
   "metadata": {},
   
   "source": [
    "Looking at the results of grouping test prices by symbol.\n",
    "\n"
   ]
  }
,
  {
   "cell_type": "code",
   "metadata": {
    "dotnet_interactive": {
     "language": "fsharp"
    },
    "polyglot_notebook": {
     "kernelName": "fsharp"
    }
   },
   "execution_count": 6, "outputs": [],
   "source": [
    "testPriceObs\n",
    "|\u003e List.groupBy (fun x -\u003e x.Symbol)\n"
   ]
  }
,
  {
   "cell_type": "markdown",
   "metadata": {},
   
   "source": [
    "Same but calculating return observations.\n",
    "\n"
   ]
  }
,
  {
   "cell_type": "code",
   "metadata": {
    "dotnet_interactive": {
     "language": "fsharp"
    },
    "polyglot_notebook": {
     "kernelName": "fsharp"
    }
   },
   "execution_count": 7, "outputs": [],
   "source": [
    "testPriceObs\n",
    "|\u003e List.groupBy (fun x -\u003e x.Symbol)\n",
    "|\u003e List.collect pricesToReturns\n"
   ]
  }
,
  {
   "cell_type": "markdown",
   "metadata": {},
   
   "source": [
    "Now for all of the price data.\n",
    "\n"
   ]
  }
,
  {
   "cell_type": "code",
   "metadata": {
    "dotnet_interactive": {
     "language": "fsharp"
    },
    "polyglot_notebook": {
     "kernelName": "fsharp"
    }
   },
   "execution_count": 8, "outputs": [],
   "source": [
    "let tickReturns =\n",
    "    tickPrices\n",
    "    |\u003e List.groupBy (fun x -\u003e x.Symbol)\n",
    "    |\u003e List.collect pricesToReturns\n"
   ]
  }
,
  {
   "cell_type": "markdown",
   "metadata": {},
   
   "source": [
    "And let\u0027s convert to excess returns\n",
    "\n"
   ]
  }
,
  {
   "cell_type": "code",
   "metadata": {
    "dotnet_interactive": {
     "language": "fsharp"
    },
    "polyglot_notebook": {
     "kernelName": "fsharp"
    }
   },
   "execution_count": 9, "outputs": [],
   "source": [
    "let rf = Map [ for x in ff3 do x.Date, x.Rf ]\n",
    "\n",
    "let standardInvestmentsExcess =\n",
    "    let maxff3Date = ff3 |\u003e List.map(fun x -\u003e x.Date) |\u003e List.max\n",
    "    tickReturns\n",
    "    |\u003e List.filter(fun x -\u003e x.Date \u003c= maxff3Date)\n",
    "    |\u003e List.map(fun x -\u003e \n",
    "        match Map.tryFind x.Date rf with \n",
    "        | None -\u003e failwith $\"why isn\u0027t there a rf for {x.Date}\"\n",
    "        | Some rf -\u003e { x with Return = x.Return - rf })\n"
   ]
  }
,
  {
   "cell_type": "markdown",
   "metadata": {},
   
   "source": [
    "If we did it right, the `VTI` return should be pretty similar to the `MktRF`\n",
    "return from Ken French\u0027s website.\n",
    "\n"
   ]
  }
,
  {
   "cell_type": "code",
   "metadata": {
    "dotnet_interactive": {
     "language": "fsharp"
    },
    "polyglot_notebook": {
     "kernelName": "fsharp"
    }
   },
   "execution_count": 10, "outputs": [
          {
           "data": {
            "text/plain": ["val it: (int * float) list = [(1, 0.0006); (2, 0.0314); (3, 0.033)]"]
        },
           "execution_count": 10,
           "metadata": {},
           "output_type": "execute_result"
          }],
   "source": [
    "standardInvestmentsExcess\n",
    "|\u003e List.filter(fun x -\u003e x.Symbol = \"VTI\" \u0026\u0026 x.Date.Year = 2021)\n",
    "|\u003e List.map(fun x -\u003e x.Date.Month, round 4 x.Return)\n",
    "|\u003e List.take 3\n"
   ]
  }
,
  {
   "cell_type": "code",
   "metadata": {
    "dotnet_interactive": {
     "language": "fsharp"
    },
    "polyglot_notebook": {
     "kernelName": "fsharp"
    }
   },
   "execution_count": 11, "outputs": [
          {
           "data": {
            "text/plain": ["val it: (int * float) list = [(1, -0.0003); (2, 0.0278); (3, 0.0308)]"]
        },
           "execution_count": 11,
           "metadata": {},
           "output_type": "execute_result"
          }],
   "source": [
    "ff3 \n",
    "|\u003e List.filter(fun x -\u003e x.Date.Year = 2021)\n",
    "|\u003e List.map(fun x -\u003e x.Date.Month, round 4 x.MktRf)\n",
    "|\u003e List.take 3\n"
   ]
  }
,
  {
   "cell_type": "markdown",
   "metadata": {},
   
   "source": [
    "Let\u0027s create a function that calculates covariances\n",
    "for two securities using mutually overlapping data.\n",
    "\n"
   ]
  }
,
  {
   "cell_type": "code",
   "metadata": {
    "dotnet_interactive": {
     "language": "fsharp"
    },
    "polyglot_notebook": {
     "kernelName": "fsharp"
    }
   },
   "execution_count": 12, "outputs": [],
   "source": [
    "/// Excess return by symbol\n",
    "let returnMap =\n",
    "    standardInvestmentsExcess\n",
    "    |\u003e List.map (fun x -\u003e (x.Symbol, x.Date), x.Return)\n",
    "    |\u003e Map\n",
    "\n",
    "returnMap[\"VTI\", DateTime(2015,12,1)]\n"
   ]
  }
,
  {
   "cell_type": "markdown",
   "metadata": {},
   
   "source": [
    "Now the cov\n",
    "\n"
   ]
  }
,
  {
   "cell_type": "code",
   "metadata": {
    "dotnet_interactive": {
     "language": "fsharp"
    },
    "polyglot_notebook": {
     "kernelName": "fsharp"
    }
   },
   "execution_count": 13, "outputs": [],
   "source": [
    "let getCov xId yId =\n",
    "    let xs = \n",
    "        standardInvestmentsExcess\n",
    "        |\u003e List.filter (fun x -\u003e x.Symbol = xId)\n",
    "    [ for x in xs do\n",
    "        let yLookup = yId, x.Date\n",
    "        if returnMap.ContainsKey yLookup then\n",
    "            x.Return, returnMap[yLookup]]\n",
    "    |\u003e covOfPairs\n",
    "\n",
    "getCov \"VBR\" \"VTI\"\n"
   ]
  }
,
  {
   "cell_type": "markdown",
   "metadata": {},
   
   "source": [
    "A covariance matrix.\n",
    "\n"
   ]
  }
,
  {
   "cell_type": "code",
   "metadata": {
    "dotnet_interactive": {
     "language": "fsharp"
    },
    "polyglot_notebook": {
     "kernelName": "fsharp"
    }
   },
   "execution_count": 15, "outputs": [],
   "source": [
    "let covariances =\n",
    "    [ for rowTick in tickers do \n",
    "        [ for colTick in tickers do\n",
    "            getCov rowTick colTick ]]\n",
    "    |\u003e dsharp.tensor\n"
   ]
  }
,
  {
   "cell_type": "markdown",
   "metadata": {},
   
   "source": [
    "Mean/Average returns\n",
    "\n"
   ]
  }
,
  {
   "cell_type": "code",
   "metadata": {
    "dotnet_interactive": {
     "language": "fsharp"
    },
    "polyglot_notebook": {
     "kernelName": "fsharp"
    }
   },
   "execution_count": 17, "outputs": [],
   "source": [
    "let meansByTick =\n",
    "    standardInvestmentsExcess\n",
    "    |\u003e List.groupBy (fun x -\u003e x.Symbol)\n",
    "    |\u003e List.map (fun (sym, xs) -\u003e\n",
    "        let symAvg = xs |\u003e List.averageBy (fun x -\u003e x.Return)\n",
    "        sym, symAvg)\n",
    "    |\u003e Map\n",
    "\n",
    "let means =\n",
    "    // Make sure ticker avg returns are ordered by our ticker list\n",
    "    [ for ticker in tickers do meansByTick[ticker]]\n",
    "    |\u003e dsharp.tensor\n"
   ]
  }
,
  {
   "cell_type": "markdown",
   "metadata": {},
   
   "source": [
    "This solution method for finding the tangency portfolio comes from Hilliar, Grinblatt, and Titman 2nd European Edition, Example 5.3.\n",
    "\n",
    "Since it has the greatest possible Sharpe ratio, that means that you cannot rebalance the portfolio and increase the return per unit of standard deviation.\n",
    "\n",
    "The solution method relies on the fact that covariance is like marginal variance. At the tangency portfolio, it must be the case that the ratio of each asset\u0027s risk premium to it\u0027s covariance with the tangency portfolio, $(r_i-r_f)/cov(r_i,r_p)$, is the same. Because that ratio is the return per unit of \"marginal variance\" and if it was not equal for all assets, then you could rebalance and increase the portfolio\u0027s return while holding the portfolio variance constant.\n",
    "\n",
    "In the below algebra, we solve for the portfolio that has covariances with each asset equal to the asset\u0027s risk premium. Then we relever to have a portfolio weight equal to 1.0 (we can relever like this because everything is in excess returns) and then we are left with the tangency portfolio.\n",
    "\n",
    "solve A * x = b for x\n",
    "\n"
   ]
  }
,
  {
   "cell_type": "code",
   "metadata": {
    "dotnet_interactive": {
     "language": "fsharp"
    },
    "polyglot_notebook": {
     "kernelName": "fsharp"
    }
   },
   "execution_count": 19, "outputs": [
          {
           "data": {
            "text/plain": ["\u003cnull\u003e"]
        },
           "execution_count": 19,
           "metadata": {},
           "output_type": "execute_result"
          }],
   "source": [
    "let w\u0027 = dsharp.solve(covariances,means)\n",
    "let w = w\u0027 / w\u0027.sum()\n"
   ]
  }
,
  {
   "cell_type": "markdown",
   "metadata": {},
   
   "source": [
    "Portfolio variance\n",
    "\n"
   ]
  }
,
  {
   "cell_type": "code",
   "metadata": {
    "dotnet_interactive": {
     "language": "fsharp"
    },
    "polyglot_notebook": {
     "kernelName": "fsharp"
    }
   },
   "execution_count": 21, "outputs": [],
   "source": [
    "let portVariance = w.matmul(covariances).matmul(w)\n"
   ]
  }
,
  {
   "cell_type": "markdown",
   "metadata": {},
   
   "source": [
    "Portfolio standard deviation\n",
    "\n"
   ]
  }
,
  {
   "cell_type": "code",
   "metadata": {
    "dotnet_interactive": {
     "language": "fsharp"
    },
    "polyglot_notebook": {
     "kernelName": "fsharp"
    }
   },
   "execution_count": 22, "outputs": [],
   "source": [
    "let portStDev = portVariance.sqrt()\n"
   ]
  }
,
  {
   "cell_type": "markdown",
   "metadata": {},
   
   "source": [
    "Portfolio mean\n",
    "\n"
   ]
  }
,
  {
   "cell_type": "code",
   "metadata": {
    "dotnet_interactive": {
     "language": "fsharp"
    },
    "polyglot_notebook": {
     "kernelName": "fsharp"
    }
   },
   "execution_count": 23, "outputs": [],
   "source": [
    "let portMean = dsharp.matmul(w, means)\n",
    "\n",
    "// equivalent to\n",
    "(w * means).sum()\n"
   ]
  }
,
  {
   "cell_type": "markdown",
   "metadata": {},
   
   "source": [
    "Annualized Sharpe ratio\n",
    "\n"
   ]
  }
,
  {
   "cell_type": "code",
   "metadata": {
    "dotnet_interactive": {
     "language": "fsharp"
    },
    "polyglot_notebook": {
     "kernelName": "fsharp"
    }
   },
   "execution_count": 24, "outputs": [
          {
           "data": {
            "text/plain": ["tensor(0.9099)"]
        },
           "execution_count": 24,
           "metadata": {},
           "output_type": "execute_result"
          }],
   "source": [
    "sqrt(12.0)*(portMean/portStDev)\n"
   ]
  }
,
  {
   "cell_type": "markdown",
   "metadata": {},
   
   "source": [
    "You can use other methods for constrained optimization.\n",
    "\n",
    "[https://github.com/mathnet/mathnet-numerics/blob/ab1ac92ccab575d51f6967cd785254a46210b4dd/src/Numerics.Tests/OptimizationTests/NonLinearCurveFittingTests.cs#L361](https://github.com/mathnet/mathnet-numerics/blob/ab1ac92ccab575d51f6967cd785254a46210b4dd/src/Numerics.Tests/OptimizationTests/NonLinearCurveFittingTests.cs#L361)\n",
    "\n",
    "## Comparing mean-variance efficient to 60/40.\n",
    "\n",
    "Now let\u0027s form the mean-variance efficient portfolios\n",
    "based on the above optimal weights and compare them to\n",
    "a 60/40 portfolio over our sample. A 60% stock and 40%\n",
    "bond portfolio is a common investment portfolio.\n",
    "\n",
    "Our weights are sorted by `symbols`. Let\u0027s put them into a\n",
    "Map collection for easier referencing.\n",
    "\n"
   ]
  }
,
  {
   "cell_type": "code",
   "metadata": {
    "dotnet_interactive": {
     "language": "fsharp"
    },
    "polyglot_notebook": {
     "kernelName": "fsharp"
    }
   },
   "execution_count": 25, "outputs": [],
   "source": [
    "let weights =\n",
    "    Seq.zip tickers (w.toArray1D\u003cfloat\u003e())\n",
    "    |\u003e Map.ofSeq\n"
   ]
  }
,
  {
   "cell_type": "markdown",
   "metadata": {},
   
   "source": [
    "Next, we\u0027d like to get the symbol data grouped by date.\n",
    "\n"
   ]
  }
,
  {
   "cell_type": "code",
   "metadata": {
    "dotnet_interactive": {
     "language": "fsharp"
    },
    "polyglot_notebook": {
     "kernelName": "fsharp"
    }
   },
   "execution_count": 26, "outputs": [],
   "source": [
    "let stockDataByDate =\n",
    "    standardInvestmentsExcess\n",
    "    |\u003e List.groupBy(fun x -\u003e x.Date) // group all symbols on the same date together.\n",
    "    |\u003e List.sortBy (fun (dt, xs) -\u003e dt) \n"
   ]
  }
,
  {
   "cell_type": "markdown",
   "metadata": {},
   
   "source": [
    "Now if we look we do not have all the symbols on all the dates.\n",
    "This is because our ETFs (VTI, BND) did not start trading until later in our sample\n",
    "and our strategy ended at the end of the year, while we have stock quotes\n",
    "for VTI and BND trading recently.\n",
    "\n",
    "Compare the first month of data\n",
    "\n"
   ]
  }
,
  {
   "cell_type": "code",
   "metadata": {
    "dotnet_interactive": {
     "language": "fsharp"
    },
    "polyglot_notebook": {
     "kernelName": "fsharp"
    }
   },
   "execution_count": 27, "outputs": [
          {
           "data": {
            "text/plain": ["[{ Symbol = \"VBR\"",
"   Date = 2/1/2010 12:00:00 AM",
"   Return = 0.05014204166 }; { Symbol = \"VUG\"",
"                               Date = 2/1/2010 12:00:00 AM",
"                               Return = 0.03871986717 };",
" { Symbol = \"VTI\"",
"   Date = 2/1/2010 12:00:00 AM",
"   Return = 0.03440041139 }; { Symbol = \"BND\"",
"                               Date = 2/1/2010 12:00:00 AM",
"                               Return = 0.000125314496 }]"]
        },
           "execution_count": 27,
           "metadata": {},
           "output_type": "execute_result"
          }],
   "source": [
    "let (firstMonth, firstMonthDta) = stockDataByDate[0]\n",
    "\n",
    "// look at it\n",
    "firstMonthDta\n"
   ]
  }
,
  {
   "cell_type": "code",
   "metadata": {
    "dotnet_interactive": {
     "language": "fsharp"
    },
    "polyglot_notebook": {
     "kernelName": "fsharp"
    }
   },
   "execution_count": 28, "outputs": [
          {
           "data": {
            "text/plain": ["4"]
        },
           "execution_count": 28,
           "metadata": {},
           "output_type": "execute_result"
          }],
   "source": [
    "// How many stocks?\n",
    "firstMonthDta.Length\n"
   ]
  }
,
  {
   "cell_type": "markdown",
   "metadata": {},
   
   "source": [
    "to the last month of data\n",
    "\n"
   ]
  }
,
  {
   "cell_type": "code",
   "metadata": {
    "dotnet_interactive": {
     "language": "fsharp"
    },
    "polyglot_notebook": {
     "kernelName": "fsharp"
    }
   },
   "execution_count": 29, "outputs": [
          {
           "data": {
            "text/plain": ["[{ Symbol = \"VBR\"",
"   Date = 12/1/2023 12:00:00 AM",
"   Return = 0.08702258748 }; { Symbol = \"VUG\"",
"                               Date = 12/1/2023 12:00:00 AM",
"                               Return = 0.03692989634 };",
" { Symbol = \"VTI\"",
"   Date = 12/1/2023 12:00:00 AM",
"   Return = 0.04413987918 }; { Symbol = \"BND\"",
"                               Date = 12/1/2023 12:00:00 AM",
"                               Return = 0.02843875704 }]"]
        },
           "execution_count": 29,
           "metadata": {},
           "output_type": "execute_result"
          }],
   "source": [
    "// Last item\n",
    "let lastMonth =\n",
    "    stockDataByDate \n",
    "    |\u003e List.last // last date group\n",
    "    |\u003e snd // convert (date, StockData list) -\u003e StockData list\n",
    "// look at it\n",
    "lastMonth\n"
   ]
  }
,
  {
   "cell_type": "code",
   "metadata": {
    "dotnet_interactive": {
     "language": "fsharp"
    },
    "polyglot_notebook": {
     "kernelName": "fsharp"
    }
   },
   "execution_count": 30, "outputs": [
          {
           "data": {
            "text/plain": ["4"]
        },
           "execution_count": 30,
           "metadata": {},
           "output_type": "execute_result"
          }],
   "source": [
    "// How many stocks?\n",
    "lastMonth.Length\n"
   ]
  }
,
  {
   "cell_type": "markdown",
   "metadata": {},
   
   "source": [
    "What\u0027s the first month when you have all 3 assets?\n",
    "\n"
   ]
  }
,
  {
   "cell_type": "code",
   "metadata": {
    "dotnet_interactive": {
     "language": "fsharp"
    },
    "polyglot_notebook": {
     "kernelName": "fsharp"
    }
   },
   "execution_count": 31, "outputs": [],
   "source": [
    "let allAssetsStart =\n",
    "    stockDataByDate\n",
    "    // find the first array element where there are as many stocks as you have symbols\n",
    "    |\u003e List.find(fun (month, stocks) -\u003e stocks.Length = tickers.Length)\n",
    "    |\u003e fst // convert (month, stocks) to month\n",
    "\n",
    "let allAssetsEnd =\n",
    "    stockDataByDate\n",
    "    // find the last array element where there are as many stocks as you have symbols\n",
    "    |\u003e List.findBack(fun (month, stocks) -\u003e stocks.Length = tickers.Length)\n",
    "    |\u003e fst // convert (month, stocks) to month\n"
   ]
  }
,
  {
   "cell_type": "markdown",
   "metadata": {},
   
   "source": [
    "Ok, let\u0027s filter our data between those dates.\n",
    "\n"
   ]
  }
,
  {
   "cell_type": "code",
   "metadata": {
    "dotnet_interactive": {
     "language": "fsharp"
    },
    "polyglot_notebook": {
     "kernelName": "fsharp"
    }
   },
   "execution_count": 32, "outputs": [],
   "source": [
    "let stockDataByDateComplete =\n",
    "    stockDataByDate\n",
    "    |\u003e List.filter(fun (date, stocks) -\u003e \n",
    "        date \u003e= allAssetsStart \u0026\u0026\n",
    "        date \u003c= allAssetsEnd)\n"
   ]
  }
,
  {
   "cell_type": "markdown",
   "metadata": {},
   
   "source": [
    "Double check that we have all assets in all months for this data.\n",
    "\n"
   ]
  }
,
  {
   "cell_type": "code",
   "metadata": {
    "dotnet_interactive": {
     "language": "fsharp"
    },
    "polyglot_notebook": {
     "kernelName": "fsharp"
    }
   },
   "execution_count": 33, "outputs": [],
   "source": [
    "let checkOfCompleteData =\n",
    "    stockDataByDateComplete\n",
    "    |\u003e List.map snd\n",
    "    |\u003e List.filter(fun x -\u003e x.Length \u003c\u003e tickers.Length) // discard rows where we have all symbols.\n",
    "\n",
    "if not (List.isEmpty checkOfCompleteData) then \n",
    "        failwith \"stockDataByDateComplete has months with missing stocks\"\n"
   ]
  }
,
  {
   "cell_type": "markdown",
   "metadata": {},
   
   "source": [
    "Now let\u0027s make my mve and 60/40 ports\n",
    "\n",
    "To start, let\u0027s take a test month so that it is easy to see\n",
    "what we are doing.\n",
    "\n"
   ]
  }
,
  {
   "cell_type": "code",
   "metadata": {
    "dotnet_interactive": {
     "language": "fsharp"
    },
    "polyglot_notebook": {
     "kernelName": "fsharp"
    }
   },
   "execution_count": 34, "outputs": [
          {
           "data": {
            "text/plain": ["0.01717109032"]
        },
           "execution_count": 34,
           "metadata": {},
           "output_type": "execute_result"
          }],
   "source": [
    "let testMonth =\n",
    "    stockDataByDateComplete\n",
    "    |\u003e List.find(fun (date, stocks) -\u003e date = allAssetsStart)\n",
    "    |\u003e snd\n",
    "\n",
    "let testBnd = testMonth |\u003e List.find(fun x -\u003e x.Symbol = \"BND\")\n",
    "let testVti = testMonth |\u003e List.find(fun x -\u003e x.Symbol = \"VTI\")\n",
    "let testVBR = testMonth |\u003e List.find(fun x -\u003e x.Symbol = \"VBR\")\n",
    "\n",
    "testBnd.Return*weights.[\"BND\"] +\n",
    "testVti.Return*weights.[\"VTI\"] +\n",
    "testVBR.Return*weights.[\"VBR\"]\n"
   ]
  }
,
  {
   "cell_type": "markdown",
   "metadata": {},
   
   "source": [
    "Or, same thing but via iterating through the weights.\n",
    "\n"
   ]
  }
,
  {
   "cell_type": "code",
   "metadata": {
    "dotnet_interactive": {
     "language": "fsharp"
    },
    "polyglot_notebook": {
     "kernelName": "fsharp"
    }
   },
   "execution_count": 35, "outputs": [
          {
           "data": {
            "text/plain": ["0.01982143508"]
        },
           "execution_count": 35,
           "metadata": {},
           "output_type": "execute_result"
          }],
   "source": [
    "[ for KeyValue(symbol, weight) in weights do\n",
    "    let symbolData = testMonth |\u003e List.find(fun x -\u003e x.Symbol = symbol)\n",
    "    symbolData.Return*weight]\n",
    "|\u003e List.sum    \n"
   ]
  }
,
  {
   "cell_type": "markdown",
   "metadata": {},
   
   "source": [
    "Now in a function that takes weights and monthData as input\n",
    "\n"
   ]
  }
,
  {
   "cell_type": "code",
   "metadata": {
    "dotnet_interactive": {
     "language": "fsharp"
    },
    "polyglot_notebook": {
     "kernelName": "fsharp"
    }
   },
   "execution_count": 36, "outputs": [],
   "source": [
    "let portfolioMonthReturn weights monthData =\n",
    "    weights\n",
    "    |\u003e Map.toList\n",
    "    |\u003e List.map(fun (symbol, weight) -\u003e\n",
    "        let symbolData = \n",
    "            // we\u0027re going to be more safe and use tryFind here so\n",
    "            // that our function is more reusable\n",
    "            match monthData |\u003e List.tryFind(fun x -\u003e x.Symbol = symbol) with\n",
    "            | None -\u003e failwith $\"You tried to find {symbol} in the data but it was not there\"\n",
    "            | Some data -\u003e data\n",
    "        symbolData.Return*weight)\n",
    "    |\u003e List.sum    \n",
    "    \n",
    "portfolioMonthReturn weights testMonth\n"
   ]
  }
,
  {
   "cell_type": "markdown",
   "metadata": {},
   
   "source": [
    "Here\u0027s a thought. We just made a function that takes\n",
    "weights and a month as input. That means that it should\n",
    "work if we give it different weights.\n",
    "\n",
    "Let\u0027s try to give it 60/40 weights.\n",
    "\n"
   ]
  }
,
  {
   "cell_type": "code",
   "metadata": {
    "dotnet_interactive": {
     "language": "fsharp"
    },
    "polyglot_notebook": {
     "kernelName": "fsharp"
    }
   },
   "execution_count": 37, "outputs": [
          {
           "data": {
            "text/plain": ["0.02069037264"]
        },
           "execution_count": 37,
           "metadata": {},
           "output_type": "execute_result"
          }],
   "source": [
    "let weights6040 = Map [(\"VTI\",0.6);(\"BND\",0.4)]\n",
    "\n",
    "weights6040.[\"VTI\"]*testVti.Return +\n",
    "weights6040.[\"BND\"]*testBnd.Return\n"
   ]
  }
,
  {
   "cell_type": "markdown",
   "metadata": {},
   
   "source": [
    "Now compare to\n",
    "\n"
   ]
  }
,
  {
   "cell_type": "code",
   "metadata": {
    "dotnet_interactive": {
     "language": "fsharp"
    },
    "polyglot_notebook": {
     "kernelName": "fsharp"
    }
   },
   "execution_count": 38, "outputs": [
          {
           "data": {
            "text/plain": ["0.02069037264"]
        },
           "execution_count": 38,
           "metadata": {},
           "output_type": "execute_result"
          }],
   "source": [
    "portfolioMonthReturn weights6040 testMonth\n"
   ]
  }
,
  {
   "cell_type": "markdown",
   "metadata": {},
   
   "source": [
    "Now we\u0027re ready to make our mve and 60/40 portfolios.\n",
    "\n"
   ]
  }
,
  {
   "cell_type": "code",
   "metadata": {
    "dotnet_interactive": {
     "language": "fsharp"
    },
    "polyglot_notebook": {
     "kernelName": "fsharp"
    }
   },
   "execution_count": 39, "outputs": [],
   "source": [
    "let portMve =\n",
    "    stockDataByDateComplete\n",
    "    |\u003e List.map(fun (date, data) -\u003e \n",
    "        { Symbol = \"MVE\"\n",
    "          Date = date\n",
    "          Return = portfolioMonthReturn weights data })\n",
    "\n",
    "let port6040 = \n",
    "    stockDataByDateComplete\n",
    "    |\u003e List.map(fun (date, data) -\u003e \n",
    "        { Symbol = \"60/40\"\n",
    "          Date = date \n",
    "          Return = portfolioMonthReturn weights6040 data} )\n"
   ]
  }
,
  {
   "cell_type": "markdown",
   "metadata": {},
   
   "source": [
    "It is nice to plot cumulative returns.\n",
    "\n",
    "A function to accumulate returns.\n",
    "\n"
   ]
  }
,
  {
   "cell_type": "code",
   "metadata": {
    "dotnet_interactive": {
     "language": "fsharp"
    },
    "polyglot_notebook": {
     "kernelName": "fsharp"
    }
   },
   "execution_count": 40, "outputs": [],
   "source": [
    "let cumulateReturns (xs: list\u003cStockData\u003e) =\n",
    "    let mutable cr = 1.0\n",
    "    [ for x in xs do \n",
    "        cr \u003c- cr * (1.0 + x.Return)\n",
    "        { x with Return = cr } ]\n",
    "    \n"
   ]
  }
,
  {
   "cell_type": "markdown",
   "metadata": {},
   
   "source": [
    "Ok, cumulative returns.\n",
    "\n"
   ]
  }
,
  {
   "cell_type": "code",
   "metadata": {
    "dotnet_interactive": {
     "language": "fsharp"
    },
    "polyglot_notebook": {
     "kernelName": "fsharp"
    }
   },
   "execution_count": 41, "outputs": [],
   "source": [
    "let portMveCumulative = \n",
    "    portMve\n",
    "    |\u003e cumulateReturns\n",
    "\n",
    "let port6040Cumulative = \n",
    "    port6040\n",
    "    |\u003e cumulateReturns\n",
    "\n",
    "\n",
    "let chartMVE = \n",
    "    portMveCumulative\n",
    "    |\u003e List.map(fun x -\u003e x.Date, x.Return)\n",
    "    |\u003e Chart.Line\n",
    "    |\u003e Chart.withTraceInfo(Name=\"MVE\")\n",
    "\n",
    "let chart6040 = \n",
    "    port6040Cumulative\n",
    "    |\u003e List.map(fun x -\u003e x.Date, x.Return)\n",
    "    |\u003e Chart.Line\n",
    "    |\u003e Chart.withTraceInfo(Name=\"60/40\")\n",
    "\n",
    "let chartCombined =\n",
    "    [ chartMVE; chart6040 ]\n",
    "    |\u003e Chart.combine\n"
   ]
  }
,
  {
   "cell_type": "code",
   "metadata": {
    "dotnet_interactive": {
     "language": "fsharp"
    },
    "polyglot_notebook": {
     "kernelName": "fsharp"
    }
   },
   "execution_count": null, "outputs": [
          {
           "data": {
            "text/html": ["\u003cdiv id=\"99c687ba-a28e-436d-8568-38a3b57f6bd6\"\u003e\u003c!-- Plotly chart will be drawn inside this DIV --\u003e\u003c/div\u003e",
"",
"\u003cscript type=\"text/javascript\"\u003e",
"",
"",
"",
"            var renderPlotly_99c687baa28e436d856838a3b57f6bd6 = function() {",
"",
"            var fsharpPlotlyRequire = requirejs.config({context:\u0027fsharp-plotly\u0027,paths:{plotly:\u0027https://cdn.plot.ly/plotly-2.6.3.min\u0027}}) || require;",
"",
"            fsharpPlotlyRequire([\u0027plotly\u0027], function(Plotly) {",
"",
"",
"",
"            var data = [{\"type\":\"scatter\",\"mode\":\"lines\",\"x\":[\"2010-02-01T00:00:00\",\"2010-03-01T00:00:00\",\"2010-04-01T00:00:00\",\"2010-05-01T00:00:00\",\"2010-06-01T00:00:00\",\"2010-07-01T00:00:00\",\"2010-08-01T00:00:00\",\"2010-09-01T00:00:00\",\"2010-10-01T00:00:00\",\"2010-11-01T00:00:00\",\"2010-12-01T00:00:00\",\"2011-01-01T00:00:00\",\"2011-02-01T00:00:00\",\"2011-03-01T00:00:00\",\"2011-04-01T00:00:00\",\"2011-05-01T00:00:00\",\"2011-06-01T00:00:00\",\"2011-07-01T00:00:00\",\"2011-08-01T00:00:00\",\"2011-09-01T00:00:00\",\"2011-10-01T00:00:00\",\"2011-11-01T00:00:00\",\"2011-12-01T00:00:00\",\"2012-01-01T00:00:00\",\"2012-02-01T00:00:00\",\"2012-03-01T00:00:00\",\"2012-04-01T00:00:00\",\"2012-05-01T00:00:00\",\"2012-06-01T00:00:00\",\"2012-07-01T00:00:00\",\"2012-08-01T00:00:00\",\"2012-09-01T00:00:00\",\"2012-10-01T00:00:00\",\"2012-11-01T00:00:00\",\"2012-12-01T00:00:00\",\"2013-01-01T00:00:00\",\"2013-02-01T00:00:00\",\"2013-03-01T00:00:00\",\"2013-04-01T00:00:00\",\"2013-05-01T00:00:00\",\"2013-06-01T00:00:00\",\"2013-07-01T00:00:00\",\"2013-08-01T00:00:00\",\"2013-09-01T00:00:00\",\"2013-10-01T00:00:00\",\"2013-11-01T00:00:00\",\"2013-12-01T00:00:00\",\"2014-01-01T00:00:00\",\"2014-02-01T00:00:00\",\"2014-03-01T00:00:00\",\"2014-04-01T00:00:00\",\"2014-05-01T00:00:00\",\"2014-06-01T00:00:00\",\"2014-07-01T00:00:00\",\"2014-08-01T00:00:00\",\"2014-09-01T00:00:00\",\"2014-10-01T00:00:00\",\"2014-11-01T00:00:00\",\"2014-12-01T00:00:00\",\"2015-01-01T00:00:00\",\"2015-02-01T00:00:00\",\"2015-03-01T00:00:00\",\"2015-04-01T00:00:00\",\"2015-05-01T00:00:00\",\"2015-06-01T00:00:00\",\"2015-07-01T00:00:00\",\"2015-08-01T00:00:00\",\"2015-09-01T00:00:00\",\"2015-10-01T00:00:00\",\"2015-11-01T00:00:00\",\"2015-12-01T00:00:00\",\"2016-01-01T00:00:00\",\"2016-02-01T00:00:00\",\"2016-03-01T00:00:00\",\"2016-04-01T00:00:00\",\"2016-05-01T00:00:00\",\"2016-06-01T00:00:00\",\"2016-07-01T00:00:00\",\"2016-08-01T00:00:00\",\"2016-09-01T00:00:00\",\"2016-10-01T00:00:00\",\"2016-11-01T00:00:00\",\"2016-12-01T00:00:00\",\"2017-01-01T00:00:00\",\"2017-02-01T00:00:00\",\"2017-03-01T00:00:00\",\"2017-04-01T00:00:00\",\"2017-05-01T00:00:00\",\"2017-06-01T00:00:00\",\"2017-07-01T00:00:00\",\"2017-08-01T00:00:00\",\"2017-09-01T00:00:00\",\"2017-10-01T00:00:00\",\"2017-11-01T00:00:00\",\"2017-12-01T00:00:00\",\"2018-01-01T00:00:00\",\"2018-02-01T00:00:00\",\"2018-03-01T00:00:00\",\"2018-04-01T00:00:00\",\"2018-05-01T00:00:00\",\"2018-06-01T00:00:00\",\"2018-07-01T00:00:00\",\"2018-08-01T00:00:00\",\"2018-09-01T00:00:00\",\"2018-10-01T00:00:00\",\"2018-11-01T00:00:00\",\"2018-12-01T00:00:00\",\"2019-01-01T00:00:00\",\"2019-02-01T00:00:00\",\"2019-03-01T00:00:00\",\"2019-04-01T00:00:00\",\"2019-05-01T00:00:00\",\"2019-06-01T00:00:00\",\"2019-07-01T00:00:00\",\"2019-08-01T00:00:00\",\"2019-09-01T00:00:00\",\"2019-10-01T00:00:00\",\"2019-11-01T00:00:00\",\"2019-12-01T00:00:00\",\"2020-01-01T00:00:00\",\"2020-02-01T00:00:00\",\"2020-03-01T00:00:00\",\"2020-04-01T00:00:00\",\"2020-05-01T00:00:00\",\"2020-06-01T00:00:00\",\"2020-07-01T00:00:00\",\"2020-08-01T00:00:00\",\"2020-09-01T00:00:00\",\"2020-10-01T00:00:00\",\"2020-11-01T00:00:00\",\"2020-12-01T00:00:00\",\"2021-01-01T00:00:00\",\"2021-02-01T00:00:00\",\"2021-03-01T00:00:00\",\"2021-04-01T00:00:00\",\"2021-05-01T00:00:00\",\"2021-06-01T00:00:00\",\"2021-07-01T00:00:00\",\"2021-08-01T00:00:00\",\"2021-09-01T00:00:00\",\"2021-10-01T00:00:00\",\"2021-11-01T00:00:00\",\"2021-12-01T00:00:00\",\"2022-01-01T00:00:00\",\"2022-02-01T00:00:00\",\"2022-03-01T00:00:00\",\"2022-04-01T00:00:00\",\"2022-05-01T00:00:00\",\"2022-06-01T00:00:00\",\"2022-07-01T00:00:00\",\"2022-08-01T00:00:00\",\"2022-09-01T00:00:00\",\"2022-10-01T00:00:00\",\"2022-11-01T00:00:00\",\"2022-12-01T00:00:00\",\"2023-01-01T00:00:00\",\"2023-02-01T00:00:00\",\"2023-03-01T00:00:00\",\"2023-04-01T00:00:00\",\"2023-05-01T00:00:00\",\"2023-06-01T00:00:00\",\"2023-07-01T00:00:00\",\"2023-08-01T00:00:00\",\"2023-09-01T00:00:00\",\"2023-10-01T00:00:00\",\"2023-11-01T00:00:00\",\"2023-12-01T00:00:00\"],\"y\":[1.0198214350837331,1.058423135829484,1.0532944487242684,0.9775402659829304,0.936068009403276,1.0026319551828848,0.9752999175877787,1.0447967057248493,1.0976861133996774,1.087361402562593,1.155206675021369,1.1842592198808664,1.2146446785011715,1.2005031993725295,1.2479757975532237,1.2474616858761949,1.2206643858860722,1.2165376104833834,1.1697550097998528,1.1070656332479694,1.208210175221174,1.2019302288073677,1.2220758411253028,1.253730573505093,1.3193304318135561,1.3540695858803777,1.3604995967828208,1.283925354962855,1.3154018020133167,1.3522778921117518,1.3837337076874638,1.4003042087324504,1.374530407387512,1.383171205322178,1.3859294362818202,1.4312398255481644,1.4443862858044414,1.479013661094244,1.5307588625857207,1.5546045404383033,1.517159633125508,1.597768964104193,1.567460429012541,1.595893043968776,1.6777674629577548,1.7159636402610339,1.7683959804163984,1.7042561248035892,1.7808853031788852,1.7625160548812533,1.7936599593910194,1.838291688425953,1.8451810633303254,1.8642015491788644,1.9238766339804065,1.923486073778939,1.9572562960576187,2.0252925924389875,2.00356217959618,1.958623174322194,2.0624126521762784,1.982547585068792,2.040647505702648,2.063530888811312,2.0125663069802817,2.1041844397769673,1.9642965475258574,1.923389439986658,2.0841023648473476,2.082740013812744,2.0776681018789085,1.987447561916075,1.9637446076948528,2.0556275426876325,2.053515998032431,2.092654195104017,2.0908897327089777,2.169534912058682,2.1631492997914226,2.158326719747645,2.13177099209308,2.1158467243041725,2.1269281558800452,2.1980826724300275,2.303015702819796,2.3089741165004103,2.3563848460765624,2.444071797942744,2.420921814693956,2.4920200252378053,2.52830949897576,2.5217370450708376,2.606151801161595,2.6730899543108055,2.7044720659849757,2.9129472490304407,2.8296038821268397,2.7048048526092248,2.7205995030617633,2.751605180837395,2.762173471398748,2.8715243028426816,2.9848568011899235,3.0177941513970192,2.8487338472357546,2.8876720042755286,2.6814310561329084,2.8488108891910255,2.927407396623232,3.0278262307899757,3.1504908248786734,3.001895944187839,3.1950673246551102,3.2552348406599596,3.282801850974476,3.2539128150893855,3.3391710816313465,3.4867580583274767,3.5608963048402162,3.673056957752454,3.467194074900922,3.3078389371459296,3.7416484124341145,3.95180620860591,4.036170849463674,4.3540476043760465,4.730167458002809,4.566240538403607,4.3058578172781194,4.586051294422638,4.696795233280416,4.599714618757061,4.516777908770916,4.588952449317191,4.860243412911335,4.807643159718142,5.053264922991302,5.289359535973064,5.46350859739894,5.13736550388307,5.559361170155695,5.561298856662388,5.692285103783705,5.283238960133048,4.978925217954779,5.171368779522741,4.602816226453385,4.509969252752055,4.218778962945922,4.595967446789603,4.379767338352098,3.9915361678868644,4.1587492871165095,4.3426932717884235,4.0658234232525245,4.275565223808606,4.154789434315833,4.528430085806017,4.641752081460405,4.794183853682589,4.958815940067401,5.044445297128626,4.990187221947146,4.725916280678541,4.675721878405788,5.113043882225918,5.158655898624836],\"marker\":{},\"line\":{},\"name\":\"MVE\"},{\"type\":\"scatter\",\"mode\":\"lines\",\"x\":[\"2010-02-01T00:00:00\",\"2010-03-01T00:00:00\",\"2010-04-01T00:00:00\",\"2010-05-01T00:00:00\",\"2010-06-01T00:00:00\",\"2010-07-01T00:00:00\",\"2010-08-01T00:00:00\",\"2010-09-01T00:00:00\",\"2010-10-01T00:00:00\",\"2010-11-01T00:00:00\",\"2010-12-01T00:00:00\",\"2011-01-01T00:00:00\",\"2011-02-01T00:00:00\",\"2011-03-01T00:00:00\",\"2011-04-01T00:00:00\",\"2011-05-01T00:00:00\",\"2011-06-01T00:00:00\",\"2011-07-01T00:00:00\",\"2011-08-01T00:00:00\",\"2011-09-01T00:00:00\",\"2011-10-01T00:00:00\",\"2011-11-01T00:00:00\",\"2011-12-01T00:00:00\",\"2012-01-01T00:00:00\",\"2012-02-01T00:00:00\",\"2012-03-01T00:00:00\",\"2012-04-01T00:00:00\",\"2012-05-01T00:00:00\",\"2012-06-01T00:00:00\",\"2012-07-01T00:00:00\",\"2012-08-01T00:00:00\",\"2012-09-01T00:00:00\",\"2012-10-01T00:00:00\",\"2012-11-01T00:00:00\",\"2012-12-01T00:00:00\",\"2013-01-01T00:00:00\",\"2013-02-01T00:00:00\",\"2013-03-01T00:00:00\",\"2013-04-01T00:00:00\",\"2013-05-01T00:00:00\",\"2013-06-01T00:00:00\",\"2013-07-01T00:00:00\",\"2013-08-01T00:00:00\",\"2013-09-01T00:00:00\",\"2013-10-01T00:00:00\",\"2013-11-01T00:00:00\",\"2013-12-01T00:00:00\",\"2014-01-01T00:00:00\",\"2014-02-01T00:00:00\",\"2014-03-01T00:00:00\",\"2014-04-01T00:00:00\",\"2014-05-01T00:00:00\",\"2014-06-01T00:00:00\",\"2014-07-01T00:00:00\",\"2014-08-01T00:00:00\",\"2014-09-01T00:00:00\",\"2014-10-01T00:00:00\",\"2014-11-01T00:00:00\",\"2014-12-01T00:00:00\",\"2015-01-01T00:00:00\",\"2015-02-01T00:00:00\",\"2015-03-01T00:00:00\",\"2015-04-01T00:00:00\",\"2015-05-01T00:00:00\",\"2015-06-01T00:00:00\",\"2015-07-01T00:00:00\",\"2015-08-01T00:00:00\",\"2015-09-01T00:00:00\",\"2015-10-01T00:00:00\",\"2015-11-01T00:00:00\",\"2015-12-01T00:00:00\",\"2016-01-01T00:00:00\",\"2016-02-01T00:00:00\",\"2016-03-01T00:00:00\",\"2016-04-01T00:00:00\",\"2016-05-01T00:00:00\",\"2016-06-01T00:00:00\",\"2016-07-01T00:00:00\",\"2016-08-01T00:00:00\",\"2016-09-01T00:00:00\",\"2016-10-01T00:00:00\",\"2016-11-01T00:00:00\",\"2016-12-01T00:00:00\",\"2017-01-01T00:00:00\",\"2017-02-01T00:00:00\",\"2017-03-01T00:00:00\",\"2017-04-01T00:00:00\",\"2017-05-01T00:00:00\",\"2017-06-01T00:00:00\",\"2017-07-01T00:00:00\",\"2017-08-01T00:00:00\",\"2017-09-01T00:00:00\",\"2017-10-01T00:00:00\",\"2017-11-01T00:00:00\",\"2017-12-01T00:00:00\",\"2018-01-01T00:00:00\",\"2018-02-01T00:00:00\",\"2018-03-01T00:00:00\",\"2018-04-01T00:00:00\",\"2018-05-01T00:00:00\",\"2018-06-01T00:00:00\",\"2018-07-01T00:00:00\",\"2018-08-01T00:00:00\",\"2018-09-01T00:00:00\",\"2018-10-01T00:00:00\",\"2018-11-01T00:00:00\",\"2018-12-01T00:00:00\",\"2019-01-01T00:00:00\",\"2019-02-01T00:00:00\",\"2019-03-01T00:00:00\",\"2019-04-01T00:00:00\",\"2019-05-01T00:00:00\",\"2019-06-01T00:00:00\",\"2019-07-01T00:00:00\",\"2019-08-01T00:00:00\",\"2019-09-01T00:00:00\",\"2019-10-01T00:00:00\",\"2019-11-01T00:00:00\",\"2019-12-01T00:00:00\",\"2020-01-01T00:00:00\",\"2020-02-01T00:00:00\",\"2020-03-01T00:00:00\",\"2020-04-01T00:00:00\",\"2020-05-01T00:00:00\",\"2020-06-01T00:00:00\",\"2020-07-01T00:00:00\",\"2020-08-01T00:00:00\",\"2020-09-01T00:00:00\",\"2020-10-01T00:00:00\",\"2020-11-01T00:00:00\",\"2020-12-01T00:00:00\",\"2021-01-01T00:00:00\",\"2021-02-01T00:00:00\",\"2021-03-01T00:00:00\",\"2021-04-01T00:00:00\",\"2021-05-01T00:00:00\",\"2021-06-01T00:00:00\",\"2021-07-01T00:00:00\",\"2021-08-01T00:00:00\",\"2021-09-01T00:00:00\",\"2021-10-01T00:00:00\",\"2021-11-01T00:00:00\",\"2021-12-01T00:00:00\",\"2022-01-01T00:00:00\",\"2022-02-01T00:00:00\",\"2022-03-01T00:00:00\",\"2022-04-01T00:00:00\",\"2022-05-01T00:00:00\",\"2022-06-01T00:00:00\",\"2022-07-01T00:00:00\",\"2022-08-01T00:00:00\",\"2022-09-01T00:00:00\",\"2022-10-01T00:00:00\",\"2022-11-01T00:00:00\",\"2022-12-01T00:00:00\",\"2023-01-01T00:00:00\",\"2023-02-01T00:00:00\",\"2023-03-01T00:00:00\",\"2023-04-01T00:00:00\",\"2023-05-01T00:00:00\",\"2023-06-01T00:00:00\",\"2023-07-01T00:00:00\",\"2023-08-01T00:00:00\",\"2023-09-01T00:00:00\",\"2023-10-01T00:00:00\",\"2023-11-01T00:00:00\",\"2023-12-01T00:00:00\"],\"y\":[1.0206903726351237,1.0563496854690229,1.0770959124730426,1.0309546945438317,0.9978794744929629,1.0464373294037652,1.0232680976375916,1.0778284871658954,1.1086308326681686,1.1088683452122838,1.143594536814732,1.1662659919572638,1.1920810893692588,1.1913372386062182,1.221991252428295,1.220030384548237,1.2019826501345485,1.1964965488500892,1.1606028255240282,1.1076255255765692,1.1875813084166968,1.184656943050332,1.1897616330214702,1.2378481003866602,1.2681784852682996,1.285646617970701,1.2891836349286856,1.2462507045879738,1.2729342612753436,1.2897908491955434,1.3114166324122354,1.3279453146292852,1.316762131751153,1.3241372171316004,1.3226908878417727,1.3692589213639812,1.381625858491721,1.4109509490358003,1.433172125708793,1.4441229146900656,1.4181084573246114,1.4733560719811836,1.4415089054116759,1.4772672510730507,1.524624924974841,1.5474950968486254,1.5621279371334578,1.5501707270852743,1.5970359861975019,1.5966362955688835,1.6063931794160278,1.6335233010920307,1.6556313100843856,1.638050325544163,1.6863181639049407,1.6567050344400411,1.693586269208491,1.7243269168940372,1.715785236544337,1.714067275811989,1.762797370954381,1.749515762813129,1.7584203812995987,1.7688761102977284,1.7387030285686498,1.7671187885845443,1.7007497093474473,1.6714160626513945,1.7564989126596022,1.760021919697312,1.728338231274902,1.68612013570252,1.689971490077147,1.7627226836142285,1.7772719017157643,1.7956181270560616,1.8079127684037655,1.8600586108621378,1.8596538618545955,1.856917001172208,1.8304995633262406,1.8607602262049863,1.8758523759990309,1.907956436614452,1.9526025738556951,1.947194792535897,1.9700114409961547,1.9864486015617828,1.9914076194334942,2.0213229183600054,2.0299331615284903,2.0503372281642593,2.0804278452708735,2.115647549840657,2.124634167381698,2.1887475101723757,2.1259899619611478,2.099495657480736,2.0998372403843524,2.137126033401097,2.137260184854397,2.183723547706173,2.230971526010149,2.2190049300775967,2.114394097037819,2.1413711612708095,2.026277028335316,2.146689033861248,2.185768459322825,2.210141896966618,2.2646437864495503,2.188842412010844,2.2836201061202774,2.3051798434864326,2.29822883408263,2.3071140509568138,2.341971314402793,2.391965918434089,2.418111594925124,2.445408316436497,2.339290796064211,2.1221466474967396,2.319746976749128,2.4010507813120907,2.433751656588237,2.5386445809260207,2.6371053946944416,2.5736433383130533,2.543797620231812,2.7360145882172664,2.803729206929593,2.8004610818350084,2.83412042744242,2.8759849488537927,2.9780072919880336,2.988861237752108,3.03844252128673,3.090034122726815,3.1406539367184414,3.0381412321903656,3.1670869563144937,3.1418583014109083,3.198166555576022,3.0679185634462556,3.006177084156094,3.0258812934295194,2.8157881866749617,2.82076936609291,2.654740612717818,2.8336976526377375,2.7332010111027927,2.52450401031962,2.636747688900018,2.7494042308641378,2.6249046773142,2.7727219898326165,2.691209785934764,2.7474972510224833,2.7685911303663118,2.7528760000568675,2.8436957448231026,2.8988395142929115,2.8443923095771804,2.7160097002447245,2.6494036098851668,2.8353104236761086,2.942653661107539],\"marker\":{},\"line\":{},\"name\":\"60/40\"}];",
"",
"            var layout = {\"width\":600,\"height\":600,\"template\":{\"layout\":{\"title\":{\"x\":0.05},\"font\":{\"color\":\"rgba(42, 63, 95, 1.0)\"},\"paper_bgcolor\":\"rgba(255, 255, 255, 1.0)\",\"plot_bgcolor\":\"rgba(229, 236, 246, 1.0)\",\"autotypenumbers\":\"strict\",\"colorscale\":{\"diverging\":[[0.0,\"#8e0152\"],[0.1,\"#c51b7d\"],[0.2,\"#de77ae\"],[0.3,\"#f1b6da\"],[0.4,\"#fde0ef\"],[0.5,\"#f7f7f7\"],[0.6,\"#e6f5d0\"],[0.7,\"#b8e186\"],[0.8,\"#7fbc41\"],[0.9,\"#4d9221\"],[1.0,\"#276419\"]],\"sequential\":[[0.0,\"#0d0887\"],[0.1111111111111111,\"#46039f\"],[0.2222222222222222,\"#7201a8\"],[0.3333333333333333,\"#9c179e\"],[0.4444444444444444,\"#bd3786\"],[0.5555555555555556,\"#d8576b\"],[0.6666666666666666,\"#ed7953\"],[0.7777777777777778,\"#fb9f3a\"],[0.8888888888888888,\"#fdca26\"],[1.0,\"#f0f921\"]],\"sequentialminus\":[[0.0,\"#0d0887\"],[0.1111111111111111,\"#46039f\"],[0.2222222222222222,\"#7201a8\"],[0.3333333333333333,\"#9c179e\"],[0.4444444444444444,\"#bd3786\"],[0.5555555555555556,\"#d8576b\"],[0.6666666666666666,\"#ed7953\"],[0.7777777777777778,\"#fb9f3a\"],[0.8888888888888888,\"#fdca26\"],[1.0,\"#f0f921\"]]},\"hovermode\":\"closest\",\"hoverlabel\":{\"align\":\"left\"},\"coloraxis\":{\"colorbar\":{\"outlinewidth\":0.0,\"ticks\":\"\"}},\"geo\":{\"showland\":true,\"landcolor\":\"rgba(229, 236, 246, 1.0)\",\"showlakes\":true,\"lakecolor\":\"rgba(255, 255, 255, 1.0)\",\"subunitcolor\":\"rgba(255, 255, 255, 1.0)\",\"bgcolor\":\"rgba(255, 255, 255, 1.0)\"},\"mapbox\":{\"style\":\"light\"},\"polar\":{\"bgcolor\":\"rgba(229, 236, 246, 1.0)\",\"radialaxis\":{\"linecolor\":\"rgba(255, 255, 255, 1.0)\",\"gridcolor\":\"rgba(255, 255, 255, 1.0)\",\"ticks\":\"\"},\"angularaxis\":{\"linecolor\":\"rgba(255, 255, 255, 1.0)\",\"gridcolor\":\"rgba(255, 255, 255, 1.0)\",\"ticks\":\"\"}},\"scene\":{\"xaxis\":{\"ticks\":\"\",\"linecolor\":\"rgba(255, 255, 255, 1.0)\",\"gridcolor\":\"rgba(255, 255, 255, 1.0)\",\"gridwidth\":2.0,\"zerolinecolor\":\"rgba(255, 255, 255, 1.0)\",\"backgroundcolor\":\"rgba(229, 236, 246, 1.0)\",\"showbackground\":true},\"yaxis\":{\"ticks\":\"\",\"linecolor\":\"rgba(255, 255, 255, 1.0)\",\"gridcolor\":\"rgba(255, 255, 255, 1.0)\",\"gridwidth\":2.0,\"zerolinecolor\":\"rgba(255, 255, 255, 1.0)\",\"backgroundcolor\":\"rgba(229, 236, 246, 1.0)\",\"showbackground\":true},\"zaxis\":{\"ticks\":\"\",\"linecolor\":\"rgba(255, 255, 255, 1.0)\",\"gridcolor\":\"rgba(255, 255, 255, 1.0)\",\"gridwidth\":2.0,\"zerolinecolor\":\"rgba(255, 255, 255, 1.0)\",\"backgroundcolor\":\"rgba(229, 236, 246, 1.0)\",\"showbackground\":true}},\"ternary\":{\"aaxis\":{\"ticks\":\"\",\"linecolor\":\"rgba(255, 255, 255, 1.0)\",\"gridcolor\":\"rgba(255, 255, 255, 1.0)\"},\"baxis\":{\"ticks\":\"\",\"linecolor\":\"rgba(255, 255, 255, 1.0)\",\"gridcolor\":\"rgba(255, 255, 255, 1.0)\"},\"caxis\":{\"ticks\":\"\",\"linecolor\":\"rgba(255, 255, 255, 1.0)\",\"gridcolor\":\"rgba(255, 255, 255, 1.0)\"},\"bgcolor\":\"rgba(229, 236, 246, 1.0)\"},\"xaxis\":{\"title\":{\"standoff\":15},\"ticks\":\"\",\"automargin\":true,\"linecolor\":\"rgba(255, 255, 255, 1.0)\",\"gridcolor\":\"rgba(255, 255, 255, 1.0)\",\"zerolinecolor\":\"rgba(255, 255, 255, 1.0)\",\"zerolinewidth\":2.0},\"yaxis\":{\"title\":{\"standoff\":15},\"ticks\":\"\",\"automargin\":true,\"linecolor\":\"rgba(255, 255, 255, 1.0)\",\"gridcolor\":\"rgba(255, 255, 255, 1.0)\",\"zerolinecolor\":\"rgba(255, 255, 255, 1.0)\",\"zerolinewidth\":2.0},\"annotationdefaults\":{\"arrowcolor\":\"#2a3f5f\",\"arrowhead\":0,\"arrowwidth\":1},\"shapedefaults\":{\"line\":{\"color\":\"rgba(42, 63, 95, 1.0)\"}},\"colorway\":[\"rgba(99, 110, 250, 1.0)\",\"rgba(239, 85, 59, 1.0)\",\"rgba(0, 204, 150, 1.0)\",\"rgba(171, 99, 250, 1.0)\",\"rgba(255, 161, 90, 1.0)\",\"rgba(25, 211, 243, 1.0)\",\"rgba(255, 102, 146, 1.0)\",\"rgba(182, 232, 128, 1.0)\",\"rgba(255, 151, 255, 1.0)\",\"rgba(254, 203, 82, 1.0)\"]},\"data\":{\"bar\":[{\"marker\":{\"line\":{\"color\":\"rgba(229, 236, 246, 1.0)\",\"width\":0.5},\"pattern\":{\"fillmode\":\"overlay\",\"size\":10,\"solidity\":0.2}},\"error_x\":{\"color\":\"rgba(42, 63, 95, 1.0)\"},\"error_y\":{\"color\":\"rgba(42, 63, 95, 1.0)\"}}],\"barpolar\":[{\"marker\":{\"line\":{\"color\":\"rgba(229, 236, 246, 1.0)\",\"width\":0.5},\"pattern\":{\"fillmode\":\"overlay\",\"size\":10,\"solidity\":0.2}}}],\"carpet\":[{\"aaxis\":{\"linecolor\":\"rgba(255, 255, 255, 1.0)\",\"gridcolor\":\"rgba(255, 255, 255, 1.0)\",\"endlinecolor\":\"rgba(42, 63, 95, 1.0)\",\"minorgridcolor\":\"rgba(255, 255, 255, 1.0)\",\"startlinecolor\":\"rgba(42, 63, 95, 1.0)\"},\"baxis\":{\"linecolor\":\"rgba(255, 255, 255, 1.0)\",\"gridcolor\":\"rgba(255, 255, 255, 1.0)\",\"endlinecolor\":\"rgba(42, 63, 95, 1.0)\",\"minorgridcolor\":\"rgba(255, 255, 255, 1.0)\",\"startlinecolor\":\"rgba(42, 63, 95, 1.0)\"}}],\"choropleth\":[{\"colorbar\":{\"outlinewidth\":0.0,\"ticks\":\"\"},\"colorscale\":[[0.0,\"#0d0887\"],[0.1111111111111111,\"#46039f\"],[0.2222222222222222,\"#7201a8\"],[0.3333333333333333,\"#9c179e\"],[0.4444444444444444,\"#bd3786\"],[0.5555555555555556,\"#d8576b\"],[0.6666666666666666,\"#ed7953\"],[0.7777777777777778,\"#fb9f3a\"],[0.8888888888888888,\"#fdca26\"],[1.0,\"#f0f921\"]]}],\"contour\":[{\"colorbar\":{\"outlinewidth\":0.0,\"ticks\":\"\"},\"colorscale\":[[0.0,\"#0d0887\"],[0.1111111111111111,\"#46039f\"],[0.2222222222222222,\"#7201a8\"],[0.3333333333333333,\"#9c179e\"],[0.4444444444444444,\"#bd3786\"],[0.5555555555555556,\"#d8576b\"],[0.6666666666666666,\"#ed7953\"],[0.7777777777777778,\"#fb9f3a\"],[0.8888888888888888,\"#fdca26\"],[1.0,\"#f0f921\"]]}],\"contourcarpet\":[{\"colorbar\":{\"outlinewidth\":0.0,\"ticks\":\"\"}}],\"heatmap\":[{\"colorbar\":{\"outlinewidth\":0.0,\"ticks\":\"\"},\"colorscale\":[[0.0,\"#0d0887\"],[0.1111111111111111,\"#46039f\"],[0.2222222222222222,\"#7201a8\"],[0.3333333333333333,\"#9c179e\"],[0.4444444444444444,\"#bd3786\"],[0.5555555555555556,\"#d8576b\"],[0.6666666666666666,\"#ed7953\"],[0.7777777777777778,\"#fb9f3a\"],[0.8888888888888888,\"#fdca26\"],[1.0,\"#f0f921\"]]}],\"heatmapgl\":[{\"colorbar\":{\"outlinewidth\":0.0,\"ticks\":\"\"},\"colorscale\":[[0.0,\"#0d0887\"],[0.1111111111111111,\"#46039f\"],[0.2222222222222222,\"#7201a8\"],[0.3333333333333333,\"#9c179e\"],[0.4444444444444444,\"#bd3786\"],[0.5555555555555556,\"#d8576b\"],[0.6666666666666666,\"#ed7953\"],[0.7777777777777778,\"#fb9f3a\"],[0.8888888888888888,\"#fdca26\"],[1.0,\"#f0f921\"]]}],\"histogram\":[{\"marker\":{\"pattern\":{\"fillmode\":\"overlay\",\"size\":10,\"solidity\":0.2}}}],\"histogram2d\":[{\"colorbar\":{\"outlinewidth\":0.0,\"ticks\":\"\"},\"colorscale\":[[0.0,\"#0d0887\"],[0.1111111111111111,\"#46039f\"],[0.2222222222222222,\"#7201a8\"],[0.3333333333333333,\"#9c179e\"],[0.4444444444444444,\"#bd3786\"],[0.5555555555555556,\"#d8576b\"],[0.6666666666666666,\"#ed7953\"],[0.7777777777777778,\"#fb9f3a\"],[0.8888888888888888,\"#fdca26\"],[1.0,\"#f0f921\"]]}],\"histogram2dcontour\":[{\"colorbar\":{\"outlinewidth\":0.0,\"ticks\":\"\"},\"colorscale\":[[0.0,\"#0d0887\"],[0.1111111111111111,\"#46039f\"],[0.2222222222222222,\"#7201a8\"],[0.3333333333333333,\"#9c179e\"],[0.4444444444444444,\"#bd3786\"],[0.5555555555555556,\"#d8576b\"],[0.6666666666666666,\"#ed7953\"],[0.7777777777777778,\"#fb9f3a\"],[0.8888888888888888,\"#fdca26\"],[1.0,\"#f0f921\"]]}],\"mesh3d\":[{\"colorbar\":{\"outlinewidth\":0.0,\"ticks\":\"\"}}],\"parcoords\":[{\"line\":{\"colorbar\":{\"outlinewidth\":0.0,\"ticks\":\"\"}}}],\"pie\":[{\"automargin\":true}],\"scatter\":[{\"marker\":{\"colorbar\":{\"outlinewidth\":0.0,\"ticks\":\"\"}}}],\"scatter3d\":[{\"marker\":{\"colorbar\":{\"outlinewidth\":0.0,\"ticks\":\"\"}},\"line\":{\"colorbar\":{\"outlinewidth\":0.0,\"ticks\":\"\"}}}],\"scattercarpet\":[{\"marker\":{\"colorbar\":{\"outlinewidth\":0.0,\"ticks\":\"\"}}}],\"scattergeo\":[{\"marker\":{\"colorbar\":{\"outlinewidth\":0.0,\"ticks\":\"\"}}}],\"scattergl\":[{\"marker\":{\"colorbar\":{\"outlinewidth\":0.0,\"ticks\":\"\"}}}],\"scattermapbox\":[{\"marker\":{\"colorbar\":{\"outlinewidth\":0.0,\"ticks\":\"\"}}}],\"scatterpolar\":[{\"marker\":{\"colorbar\":{\"outlinewidth\":0.0,\"ticks\":\"\"}}}],\"scatterpolargl\":[{\"marker\":{\"colorbar\":{\"outlinewidth\":0.0,\"ticks\":\"\"}}}],\"scatterternary\":[{\"marker\":{\"colorbar\":{\"outlinewidth\":0.0,\"ticks\":\"\"}}}],\"surface\":[{\"colorbar\":{\"outlinewidth\":0.0,\"ticks\":\"\"},\"colorscale\":[[0.0,\"#0d0887\"],[0.1111111111111111,\"#46039f\"],[0.2222222222222222,\"#7201a8\"],[0.3333333333333333,\"#9c179e\"],[0.4444444444444444,\"#bd3786\"],[0.5555555555555556,\"#d8576b\"],[0.6666666666666666,\"#ed7953\"],[0.7777777777777778,\"#fb9f3a\"],[0.8888888888888888,\"#fdca26\"],[1.0,\"#f0f921\"]]}],\"table\":[{\"cells\":{\"fill\":{\"color\":\"rgba(235, 240, 248, 1.0)\"},\"line\":{\"color\":\"rgba(255, 255, 255, 1.0)\"}},\"header\":{\"fill\":{\"color\":\"rgba(200, 212, 227, 1.0)\"},\"line\":{\"color\":\"rgba(255, 255, 255, 1.0)\"}}}]}}};",
"",
"            var config = {\"responsive\":true};",
"",
"            Plotly.newPlot(\u002799c687ba-a28e-436d-8568-38a3b57f6bd6\u0027, data, layout, config);",
"",
"});",
"",
"            };",
"",
"            if ((typeof(requirejs) !==  typeof(Function)) || (typeof(requirejs.config) !== typeof(Function))) {",
"",
"                var script = document.createElement(\"script\");",
"",
"                script.setAttribute(\"src\", \"https://cdnjs.cloudflare.com/ajax/libs/require.js/2.3.6/require.min.js\");",
"",
"                script.onload = function(){",
"",
"                    renderPlotly_99c687baa28e436d856838a3b57f6bd6();",
"",
"                };",
"",
"                document.getElementsByTagName(\"head\")[0].appendChild(script);",
"",
"            }",
"",
"            else {",
"",
"                renderPlotly_99c687baa28e436d856838a3b57f6bd6();",
"",
"            }",
"",
"\u003c/script\u003e",
"",
""]
        },
           "execution_count": null,
           "metadata": {},
           "output_type": "execute_result"
          }],
   "source": [
    "chartCombined\n"
   ]
  }
,
  {
   "cell_type": "markdown",
   "metadata": {},
   
   "source": [
    "Those are partly going to differ because they have different volatilities.\n",
    "It we want to have a sense for which is better per unit of volatility,\n",
    "then it can make sense to normalize volatilities.\n",
    "\n",
    "First compare the MVE vol\n",
    "\n"
   ]
  }
,
  {
   "cell_type": "code",
   "metadata": {
    "dotnet_interactive": {
     "language": "fsharp"
    },
    "polyglot_notebook": {
     "kernelName": "fsharp"
    }
   },
   "execution_count": 43, "outputs": [
          {
           "data": {
            "text/plain": ["0.1410364484"]
        },
           "execution_count": 43,
           "metadata": {},
           "output_type": "execute_result"
          }],
   "source": [
    "portMve\n",
    "|\u003e List.map(fun x -\u003e x.Return)\n",
    "|\u003e Seq.stDev\n",
    "|\u003e fun vol -\u003e sqrt(12.0) * vol\n"
   ]
  }
,
  {
   "cell_type": "markdown",
   "metadata": {},
   
   "source": [
    "To the 60/40 vol.\n",
    "\n"
   ]
  }
,
  {
   "cell_type": "code",
   "metadata": {
    "dotnet_interactive": {
     "language": "fsharp"
    },
    "polyglot_notebook": {
     "kernelName": "fsharp"
    }
   },
   "execution_count": 44, "outputs": [
          {
           "data": {
            "text/plain": ["0.09997594506"]
        },
           "execution_count": 44,
           "metadata": {},
           "output_type": "execute_result"
          }],
   "source": [
    "port6040\n",
    "|\u003e List.map(fun x -\u003e x.Return)\n",
    "|\u003e Seq.stDev\n",
    "|\u003e fun vol -\u003e sqrt(12.0)*vol\n"
   ]
  }
,
  {
   "cell_type": "markdown",
   "metadata": {},
   
   "source": [
    "Ok, cumulative returns of the normalized vol returns.\n",
    "\n"
   ]
  }
,
  {
   "cell_type": "code",
   "metadata": {
    "dotnet_interactive": {
     "language": "fsharp"
    },
    "polyglot_notebook": {
     "kernelName": "fsharp"
    }
   },
   "execution_count": 45, "outputs": [],
   "source": [
    "let normalize10pctVol xs =\n",
    "    let vol = xs |\u003e List.map(fun x -\u003e x.Return) |\u003e Seq.stDev\n",
    "    let annualizedVol = vol * sqrt(12.0)\n",
    "    xs \n",
    "    |\u003e List.map(fun x -\u003e { x with Return = x.Return * (0.1/annualizedVol)})\n",
    "\n",
    "let portMveCumulativeNormlizedVol = \n",
    "    portMve\n",
    "    |\u003e normalize10pctVol\n",
    "    |\u003e cumulateReturns\n",
    "\n",
    "let port6040CumulativeNormlizedVol = \n",
    "    port6040\n",
    "    |\u003e normalize10pctVol \n",
    "    |\u003e cumulateReturns\n",
    "\n",
    "\n",
    "let chartMVENormlizedVol = \n",
    "    portMveCumulativeNormlizedVol\n",
    "    |\u003e List.map(fun x -\u003e x.Date, x.Return)\n",
    "    |\u003e Chart.Line\n",
    "    |\u003e Chart.withTraceInfo(Name=\"MVE\")\n",
    "\n",
    "let chart6040NormlizedVol = \n",
    "    port6040CumulativeNormlizedVol\n",
    "    |\u003e List.map(fun x -\u003e x.Date, x.Return)\n",
    "    |\u003e Chart.Line\n",
    "    |\u003e Chart.withTraceInfo(Name=\"60/40\")\n",
    "\n",
    "let chartCombinedNormlizedVol =\n",
    "    [ chartMVENormlizedVol; chart6040NormlizedVol ]\n",
    "    |\u003e Chart.combine\n"
   ]
  }
,
  {
   "cell_type": "code",
   "metadata": {
    "dotnet_interactive": {
     "language": "fsharp"
    },
    "polyglot_notebook": {
     "kernelName": "fsharp"
    }
   },
   "execution_count": null, "outputs": [
          {
           "data": {
            "text/html": ["\u003cdiv id=\"cfbcb300-a355-4434-8cbb-a4ed3c0058f4\"\u003e\u003c!-- Plotly chart will be drawn inside this DIV --\u003e\u003c/div\u003e",
"",
"\u003cscript type=\"text/javascript\"\u003e",
"",
"",
"",
"            var renderPlotly_cfbcb300a35544348cbba4ed3c0058f4 = function() {",
"",
"            var fsharpPlotlyRequire = requirejs.config({context:\u0027fsharp-plotly\u0027,paths:{plotly:\u0027https://cdn.plot.ly/plotly-2.6.3.min\u0027}}) || require;",
"",
"            fsharpPlotlyRequire([\u0027plotly\u0027], function(Plotly) {",
"",
"",
"",
"            var data = [{\"type\":\"scatter\",\"mode\":\"lines\",\"x\":[\"2010-02-01T00:00:00\",\"2010-03-01T00:00:00\",\"2010-04-01T00:00:00\",\"2010-05-01T00:00:00\",\"2010-06-01T00:00:00\",\"2010-07-01T00:00:00\",\"2010-08-01T00:00:00\",\"2010-09-01T00:00:00\",\"2010-10-01T00:00:00\",\"2010-11-01T00:00:00\",\"2010-12-01T00:00:00\",\"2011-01-01T00:00:00\",\"2011-02-01T00:00:00\",\"2011-03-01T00:00:00\",\"2011-04-01T00:00:00\",\"2011-05-01T00:00:00\",\"2011-06-01T00:00:00\",\"2011-07-01T00:00:00\",\"2011-08-01T00:00:00\",\"2011-09-01T00:00:00\",\"2011-10-01T00:00:00\",\"2011-11-01T00:00:00\",\"2011-12-01T00:00:00\",\"2012-01-01T00:00:00\",\"2012-02-01T00:00:00\",\"2012-03-01T00:00:00\",\"2012-04-01T00:00:00\",\"2012-05-01T00:00:00\",\"2012-06-01T00:00:00\",\"2012-07-01T00:00:00\",\"2012-08-01T00:00:00\",\"2012-09-01T00:00:00\",\"2012-10-01T00:00:00\",\"2012-11-01T00:00:00\",\"2012-12-01T00:00:00\",\"2013-01-01T00:00:00\",\"2013-02-01T00:00:00\",\"2013-03-01T00:00:00\",\"2013-04-01T00:00:00\",\"2013-05-01T00:00:00\",\"2013-06-01T00:00:00\",\"2013-07-01T00:00:00\",\"2013-08-01T00:00:00\",\"2013-09-01T00:00:00\",\"2013-10-01T00:00:00\",\"2013-11-01T00:00:00\",\"2013-12-01T00:00:00\",\"2014-01-01T00:00:00\",\"2014-02-01T00:00:00\",\"2014-03-01T00:00:00\",\"2014-04-01T00:00:00\",\"2014-05-01T00:00:00\",\"2014-06-01T00:00:00\",\"2014-07-01T00:00:00\",\"2014-08-01T00:00:00\",\"2014-09-01T00:00:00\",\"2014-10-01T00:00:00\",\"2014-11-01T00:00:00\",\"2014-12-01T00:00:00\",\"2015-01-01T00:00:00\",\"2015-02-01T00:00:00\",\"2015-03-01T00:00:00\",\"2015-04-01T00:00:00\",\"2015-05-01T00:00:00\",\"2015-06-01T00:00:00\",\"2015-07-01T00:00:00\",\"2015-08-01T00:00:00\",\"2015-09-01T00:00:00\",\"2015-10-01T00:00:00\",\"2015-11-01T00:00:00\",\"2015-12-01T00:00:00\",\"2016-01-01T00:00:00\",\"2016-02-01T00:00:00\",\"2016-03-01T00:00:00\",\"2016-04-01T00:00:00\",\"2016-05-01T00:00:00\",\"2016-06-01T00:00:00\",\"2016-07-01T00:00:00\",\"2016-08-01T00:00:00\",\"2016-09-01T00:00:00\",\"2016-10-01T00:00:00\",\"2016-11-01T00:00:00\",\"2016-12-01T00:00:00\",\"2017-01-01T00:00:00\",\"2017-02-01T00:00:00\",\"2017-03-01T00:00:00\",\"2017-04-01T00:00:00\",\"2017-05-01T00:00:00\",\"2017-06-01T00:00:00\",\"2017-07-01T00:00:00\",\"2017-08-01T00:00:00\",\"2017-09-01T00:00:00\",\"2017-10-01T00:00:00\",\"2017-11-01T00:00:00\",\"2017-12-01T00:00:00\",\"2018-01-01T00:00:00\",\"2018-02-01T00:00:00\",\"2018-03-01T00:00:00\",\"2018-04-01T00:00:00\",\"2018-05-01T00:00:00\",\"2018-06-01T00:00:00\",\"2018-07-01T00:00:00\",\"2018-08-01T00:00:00\",\"2018-09-01T00:00:00\",\"2018-10-01T00:00:00\",\"2018-11-01T00:00:00\",\"2018-12-01T00:00:00\",\"2019-01-01T00:00:00\",\"2019-02-01T00:00:00\",\"2019-03-01T00:00:00\",\"2019-04-01T00:00:00\",\"2019-05-01T00:00:00\",\"2019-06-01T00:00:00\",\"2019-07-01T00:00:00\",\"2019-08-01T00:00:00\",\"2019-09-01T00:00:00\",\"2019-10-01T00:00:00\",\"2019-11-01T00:00:00\",\"2019-12-01T00:00:00\",\"2020-01-01T00:00:00\",\"2020-02-01T00:00:00\",\"2020-03-01T00:00:00\",\"2020-04-01T00:00:00\",\"2020-05-01T00:00:00\",\"2020-06-01T00:00:00\",\"2020-07-01T00:00:00\",\"2020-08-01T00:00:00\",\"2020-09-01T00:00:00\",\"2020-10-01T00:00:00\",\"2020-11-01T00:00:00\",\"2020-12-01T00:00:00\",\"2021-01-01T00:00:00\",\"2021-02-01T00:00:00\",\"2021-03-01T00:00:00\",\"2021-04-01T00:00:00\",\"2021-05-01T00:00:00\",\"2021-06-01T00:00:00\",\"2021-07-01T00:00:00\",\"2021-08-01T00:00:00\",\"2021-09-01T00:00:00\",\"2021-10-01T00:00:00\",\"2021-11-01T00:00:00\",\"2021-12-01T00:00:00\",\"2022-01-01T00:00:00\",\"2022-02-01T00:00:00\",\"2022-03-01T00:00:00\",\"2022-04-01T00:00:00\",\"2022-05-01T00:00:00\",\"2022-06-01T00:00:00\",\"2022-07-01T00:00:00\",\"2022-08-01T00:00:00\",\"2022-09-01T00:00:00\",\"2022-10-01T00:00:00\",\"2022-11-01T00:00:00\",\"2022-12-01T00:00:00\",\"2023-01-01T00:00:00\",\"2023-02-01T00:00:00\",\"2023-03-01T00:00:00\",\"2023-04-01T00:00:00\",\"2023-05-01T00:00:00\",\"2023-06-01T00:00:00\",\"2023-07-01T00:00:00\",\"2023-08-01T00:00:00\",\"2023-09-01T00:00:00\",\"2023-10-01T00:00:00\",\"2023-11-01T00:00:00\",\"2023-12-01T00:00:00\"],\"y\":[1.0140541223967703,1.0412693565717868,1.0376918651221474,0.9847750288627592,0.9551520536066822,1.0033105374445617,0.9839180071785738,1.0336291894580727,1.0707288820326164,1.0635880653885168,1.1106411143523176,1.1304457507849384,1.1510111613390948,1.1415096266758507,1.1735153682987507,1.173172593627021,1.1553038355788523,1.1525344756001976,1.1211090344476258,1.0785084530464606,1.1483737120278055,1.144141520355084,1.157738723857241,1.179001486159334,1.2227417777762586,1.2455698399563213,1.249763637361496,1.1998888784357102,1.2207460586866945,1.2450110646689578,1.2655452203367215,1.276290789527488,1.2596346498246245,1.2652491711164804,1.267038126000188,1.2964088731531507,1.3048520726764758,1.327032307225546,1.3599514130515562,1.3749722772440058,1.351490259766309,1.4024040694494582,1.3835418512105349,1.401336161353636,1.452310947845846,1.4757541202255384,1.5077264145060434,1.4689525008056095,1.5157837449362253,1.5046980909967167,1.5235501150155748,1.5504300973977607,1.5545499931079267,1.5659120235201252,1.6014535581500258,1.6012230460369925,1.621155709855541,1.6611121080795632,1.6484749975536734,1.6222586834642523,1.683211135703082,1.6369955427656497,1.6710103530462632,1.6842965295145893,1.6548017820717995,1.70821464486361,1.6276939712060579,1.6036595808195258,1.6986685044531584,1.697881191764124,1.6949495386749,1.6427634605711892,1.6288719181209395,1.6829106845864743,1.6816849807454353,1.7044106147232168,1.7033916531513007,1.7488197066922402,1.745170070479924,1.742411403080615,1.7272108160449107,1.7180626737776916,1.7244426536014672,1.7653467728013248,1.8251007555572156,1.8284487847401822,1.8550688435818357,1.9040148678116051,1.8912276608687846,1.9306089886344735,1.9505428807368945,1.946947694008571,1.993158281791218,2.029456427759046,2.0463498235914663,2.1581958035881383,2.114413571194181,2.048291851511759,2.0567726072809487,2.0733926268789817,2.079038990117278,2.1373972603585356,2.1972102970235734,2.214401466409023,2.1264431251266003,2.1470516034128044,2.038324415985164,2.1285393506667387,2.1701773589864244,2.222960578255615,2.2868146619309586,2.2103386497889734,2.3111883482847957,2.3420476464560624,2.3561104434257008,2.341409247687145,2.3849079751853197,2.4596473788992714,2.496729279362482,2.5524890903691144,2.4510552382596673,2.3711804620956496,2.5916699675978006,2.69488212653793,2.7356739607473917,2.8884383763490793,3.065353446459065,2.9900312533649025,2.869139203734297,3.001518050226753,3.0529094745704373,3.0081676743924195,2.9697096834402728,3.0033560307293525,3.1292477677752357,3.105235211127101,3.217721025936564,3.3243146028763397,3.4019194421901395,3.2579304746424302,3.447678810112377,3.448530838495242,3.5061215197975515,3.327480470928021,3.191584849887316,3.2790515645590936,3.0234391233371207,2.9801963058371914,2.84376412645116,3.024038444443642,2.923174741392262,2.739452060062394,2.8208217425438864,2.9092858561153587,2.777771991531984,2.879373863572523,2.821703452867673,3.0016258003256557,3.0548846440725366,3.126015332261651,3.202128454570826,3.241334413572555,3.216614699482857,3.0958332461546694,3.0725193176737045,3.2762779035808434,3.297000736314184],\"marker\":{},\"line\":{},\"name\":\"MVE\"},{\"type\":\"scatter\",\"mode\":\"lines\",\"x\":[\"2010-02-01T00:00:00\",\"2010-03-01T00:00:00\",\"2010-04-01T00:00:00\",\"2010-05-01T00:00:00\",\"2010-06-01T00:00:00\",\"2010-07-01T00:00:00\",\"2010-08-01T00:00:00\",\"2010-09-01T00:00:00\",\"2010-10-01T00:00:00\",\"2010-11-01T00:00:00\",\"2010-12-01T00:00:00\",\"2011-01-01T00:00:00\",\"2011-02-01T00:00:00\",\"2011-03-01T00:00:00\",\"2011-04-01T00:00:00\",\"2011-05-01T00:00:00\",\"2011-06-01T00:00:00\",\"2011-07-01T00:00:00\",\"2011-08-01T00:00:00\",\"2011-09-01T00:00:00\",\"2011-10-01T00:00:00\",\"2011-11-01T00:00:00\",\"2011-12-01T00:00:00\",\"2012-01-01T00:00:00\",\"2012-02-01T00:00:00\",\"2012-03-01T00:00:00\",\"2012-04-01T00:00:00\",\"2012-05-01T00:00:00\",\"2012-06-01T00:00:00\",\"2012-07-01T00:00:00\",\"2012-08-01T00:00:00\",\"2012-09-01T00:00:00\",\"2012-10-01T00:00:00\",\"2012-11-01T00:00:00\",\"2012-12-01T00:00:00\",\"2013-01-01T00:00:00\",\"2013-02-01T00:00:00\",\"2013-03-01T00:00:00\",\"2013-04-01T00:00:00\",\"2013-05-01T00:00:00\",\"2013-06-01T00:00:00\",\"2013-07-01T00:00:00\",\"2013-08-01T00:00:00\",\"2013-09-01T00:00:00\",\"2013-10-01T00:00:00\",\"2013-11-01T00:00:00\",\"2013-12-01T00:00:00\",\"2014-01-01T00:00:00\",\"2014-02-01T00:00:00\",\"2014-03-01T00:00:00\",\"2014-04-01T00:00:00\",\"2014-05-01T00:00:00\",\"2014-06-01T00:00:00\",\"2014-07-01T00:00:00\",\"2014-08-01T00:00:00\",\"2014-09-01T00:00:00\",\"2014-10-01T00:00:00\",\"2014-11-01T00:00:00\",\"2014-12-01T00:00:00\",\"2015-01-01T00:00:00\",\"2015-02-01T00:00:00\",\"2015-03-01T00:00:00\",\"2015-04-01T00:00:00\",\"2015-05-01T00:00:00\",\"2015-06-01T00:00:00\",\"2015-07-01T00:00:00\",\"2015-08-01T00:00:00\",\"2015-09-01T00:00:00\",\"2015-10-01T00:00:00\",\"2015-11-01T00:00:00\",\"2015-12-01T00:00:00\",\"2016-01-01T00:00:00\",\"2016-02-01T00:00:00\",\"2016-03-01T00:00:00\",\"2016-04-01T00:00:00\",\"2016-05-01T00:00:00\",\"2016-06-01T00:00:00\",\"2016-07-01T00:00:00\",\"2016-08-01T00:00:00\",\"2016-09-01T00:00:00\",\"2016-10-01T00:00:00\",\"2016-11-01T00:00:00\",\"2016-12-01T00:00:00\",\"2017-01-01T00:00:00\",\"2017-02-01T00:00:00\",\"2017-03-01T00:00:00\",\"2017-04-01T00:00:00\",\"2017-05-01T00:00:00\",\"2017-06-01T00:00:00\",\"2017-07-01T00:00:00\",\"2017-08-01T00:00:00\",\"2017-09-01T00:00:00\",\"2017-10-01T00:00:00\",\"2017-11-01T00:00:00\",\"2017-12-01T00:00:00\",\"2018-01-01T00:00:00\",\"2018-02-01T00:00:00\",\"2018-03-01T00:00:00\",\"2018-04-01T00:00:00\",\"2018-05-01T00:00:00\",\"2018-06-01T00:00:00\",\"2018-07-01T00:00:00\",\"2018-08-01T00:00:00\",\"2018-09-01T00:00:00\",\"2018-10-01T00:00:00\",\"2018-11-01T00:00:00\",\"2018-12-01T00:00:00\",\"2019-01-01T00:00:00\",\"2019-02-01T00:00:00\",\"2019-03-01T00:00:00\",\"2019-04-01T00:00:00\",\"2019-05-01T00:00:00\",\"2019-06-01T00:00:00\",\"2019-07-01T00:00:00\",\"2019-08-01T00:00:00\",\"2019-09-01T00:00:00\",\"2019-10-01T00:00:00\",\"2019-11-01T00:00:00\",\"2019-12-01T00:00:00\",\"2020-01-01T00:00:00\",\"2020-02-01T00:00:00\",\"2020-03-01T00:00:00\",\"2020-04-01T00:00:00\",\"2020-05-01T00:00:00\",\"2020-06-01T00:00:00\",\"2020-07-01T00:00:00\",\"2020-08-01T00:00:00\",\"2020-09-01T00:00:00\",\"2020-10-01T00:00:00\",\"2020-11-01T00:00:00\",\"2020-12-01T00:00:00\",\"2021-01-01T00:00:00\",\"2021-02-01T00:00:00\",\"2021-03-01T00:00:00\",\"2021-04-01T00:00:00\",\"2021-05-01T00:00:00\",\"2021-06-01T00:00:00\",\"2021-07-01T00:00:00\",\"2021-08-01T00:00:00\",\"2021-09-01T00:00:00\",\"2021-10-01T00:00:00\",\"2021-11-01T00:00:00\",\"2021-12-01T00:00:00\",\"2022-01-01T00:00:00\",\"2022-02-01T00:00:00\",\"2022-03-01T00:00:00\",\"2022-04-01T00:00:00\",\"2022-05-01T00:00:00\",\"2022-06-01T00:00:00\",\"2022-07-01T00:00:00\",\"2022-08-01T00:00:00\",\"2022-09-01T00:00:00\",\"2022-10-01T00:00:00\",\"2022-11-01T00:00:00\",\"2022-12-01T00:00:00\",\"2023-01-01T00:00:00\",\"2023-02-01T00:00:00\",\"2023-03-01T00:00:00\",\"2023-04-01T00:00:00\",\"2023-05-01T00:00:00\",\"2023-06-01T00:00:00\",\"2023-07-01T00:00:00\",\"2023-08-01T00:00:00\",\"2023-09-01T00:00:00\",\"2023-10-01T00:00:00\",\"2023-11-01T00:00:00\",\"2023-12-01T00:00:00\"],\"y\":[1.0206953508885683,1.056363417575713,1.0771149060293577,1.0309617723370503,0.9978783670234883,1.0464478514021331,1.0232728119268104,1.077846580504985,1.1086568544731734,1.1088944297407668,1.1436297937964353,1.1663074029835914,1.1921296285414147,1.1913855685070835,1.2220482017711485,1.2200867706863499,1.202033859544361,1.196546204477476,1.1606423548831801,1.1076505034081303,1.1876273276884182,1.18470214535093,1.1898082583711314,1.2379081805936252,1.2682473356554909,1.2857206199036484,1.2892586915335136,1.2463129310512195,1.2730042406510156,1.2898658112997377,1.3114980550203141,1.3280317406297915,1.3168451389922808,1.3242224639008218,1.3227756934779067,1.3693579180800914,1.3817287251207644,1.4110630553695427,1.433291344614727,1.4442456795993563,1.4182227509456407,1.4734881123767058,1.4416304283569579,1.4774003929819157,1.5247737307227334,1.5476516380266194,1.5622894796606397,1.5503281558065245,1.597209451620176,1.5968096213994152,1.606569912255015,1.6337095471659828,1.65582539675533,1.6382381206199672,1.686523107593328,1.656899253149965,1.693793686508723,1.7245454963984188,1.7160006778357224,1.7142820879832268,1.7630300164137516,1.749743459357365,1.758651379559524,1.7691109981490856,1.7389266489311432,1.7673529015090785,1.7009590585109968,1.6716147423128922,1.7567281800228762,1.7602524946734064,1.7285570311463898,1.6863234316869944,1.6901761771959867,1.7629536888456825,1.7775083147317137,1.795861395311898,1.8081606609038017,1.860326201742508,1.8599212971076022,1.8571833842363956,1.8307557995519745,1.8610279803199572,1.8761259336021001,1.9082424015836539,1.9529059741925539,1.9474960512444768,1.9703217204646883,1.9867654254280864,1.9917264275923905,2.0216537147046956,2.030267438994529,2.0506797758267004,2.0807826613706473,2.1160168482074804,2.1250071970366267,2.1891472252801156,2.1263631134342993,2.0998577828616924,2.1001995068837345,2.137503706510248,2.13763791395432,2.1841206699149573,2.231388610798195,2.219416897897635,2.114761468609557,2.1417497120560185,2.0266075354460913,2.1470681581634077,2.1861638898510485,2.210547602415132,2.2650726125123026,2.1892386427427564,2.2840563021183313,2.3056253460459217,2.2986713204930718,2.307560386329698,2.342432781810782,2.392449268327611,2.418606520244118,2.4459153978261643,2.3397503349207356,2.1225112730433224,2.320193106065622,2.401532112867451,2.434247413236056,2.5391869474623574,2.6376924922524996,2.574201034513134,2.5443416663556073,2.7366460027811983,2.804392544989365,2.801122860164076,2.8347982604239594,2.87668286983578,2.9787545242060403,2.9896138056012362,3.0392195058678784,3.090836716698532,3.1414818611495643,3.038917460903081,3.1679271631663743,3.142685743463061,3.1990223787519687,3.068708185515785,3.0069359559093445,3.0266498814358105,2.816452847286757,2.821436401291892,2.655328429467862,2.8343681622242545,2.7338235552312633,2.5250287938616243,2.637322817453361,2.7500310440033844,2.625473144542589,2.7733580430025246,2.6918075235517698,2.748121036681826,2.769224781625435,2.753502272532981,2.844364535425688,2.8995345449162815,2.8450611823148395,2.716617486135928,2.6499804612393434,2.8359724925541268,2.943366629127108],\"marker\":{},\"line\":{},\"name\":\"60/40\"}];",
"",
"            var layout = {\"width\":600,\"height\":600,\"template\":{\"layout\":{\"title\":{\"x\":0.05},\"font\":{\"color\":\"rgba(42, 63, 95, 1.0)\"},\"paper_bgcolor\":\"rgba(255, 255, 255, 1.0)\",\"plot_bgcolor\":\"rgba(229, 236, 246, 1.0)\",\"autotypenumbers\":\"strict\",\"colorscale\":{\"diverging\":[[0.0,\"#8e0152\"],[0.1,\"#c51b7d\"],[0.2,\"#de77ae\"],[0.3,\"#f1b6da\"],[0.4,\"#fde0ef\"],[0.5,\"#f7f7f7\"],[0.6,\"#e6f5d0\"],[0.7,\"#b8e186\"],[0.8,\"#7fbc41\"],[0.9,\"#4d9221\"],[1.0,\"#276419\"]],\"sequential\":[[0.0,\"#0d0887\"],[0.1111111111111111,\"#46039f\"],[0.2222222222222222,\"#7201a8\"],[0.3333333333333333,\"#9c179e\"],[0.4444444444444444,\"#bd3786\"],[0.5555555555555556,\"#d8576b\"],[0.6666666666666666,\"#ed7953\"],[0.7777777777777778,\"#fb9f3a\"],[0.8888888888888888,\"#fdca26\"],[1.0,\"#f0f921\"]],\"sequentialminus\":[[0.0,\"#0d0887\"],[0.1111111111111111,\"#46039f\"],[0.2222222222222222,\"#7201a8\"],[0.3333333333333333,\"#9c179e\"],[0.4444444444444444,\"#bd3786\"],[0.5555555555555556,\"#d8576b\"],[0.6666666666666666,\"#ed7953\"],[0.7777777777777778,\"#fb9f3a\"],[0.8888888888888888,\"#fdca26\"],[1.0,\"#f0f921\"]]},\"hovermode\":\"closest\",\"hoverlabel\":{\"align\":\"left\"},\"coloraxis\":{\"colorbar\":{\"outlinewidth\":0.0,\"ticks\":\"\"}},\"geo\":{\"showland\":true,\"landcolor\":\"rgba(229, 236, 246, 1.0)\",\"showlakes\":true,\"lakecolor\":\"rgba(255, 255, 255, 1.0)\",\"subunitcolor\":\"rgba(255, 255, 255, 1.0)\",\"bgcolor\":\"rgba(255, 255, 255, 1.0)\"},\"mapbox\":{\"style\":\"light\"},\"polar\":{\"bgcolor\":\"rgba(229, 236, 246, 1.0)\",\"radialaxis\":{\"linecolor\":\"rgba(255, 255, 255, 1.0)\",\"gridcolor\":\"rgba(255, 255, 255, 1.0)\",\"ticks\":\"\"},\"angularaxis\":{\"linecolor\":\"rgba(255, 255, 255, 1.0)\",\"gridcolor\":\"rgba(255, 255, 255, 1.0)\",\"ticks\":\"\"}},\"scene\":{\"xaxis\":{\"ticks\":\"\",\"linecolor\":\"rgba(255, 255, 255, 1.0)\",\"gridcolor\":\"rgba(255, 255, 255, 1.0)\",\"gridwidth\":2.0,\"zerolinecolor\":\"rgba(255, 255, 255, 1.0)\",\"backgroundcolor\":\"rgba(229, 236, 246, 1.0)\",\"showbackground\":true},\"yaxis\":{\"ticks\":\"\",\"linecolor\":\"rgba(255, 255, 255, 1.0)\",\"gridcolor\":\"rgba(255, 255, 255, 1.0)\",\"gridwidth\":2.0,\"zerolinecolor\":\"rgba(255, 255, 255, 1.0)\",\"backgroundcolor\":\"rgba(229, 236, 246, 1.0)\",\"showbackground\":true},\"zaxis\":{\"ticks\":\"\",\"linecolor\":\"rgba(255, 255, 255, 1.0)\",\"gridcolor\":\"rgba(255, 255, 255, 1.0)\",\"gridwidth\":2.0,\"zerolinecolor\":\"rgba(255, 255, 255, 1.0)\",\"backgroundcolor\":\"rgba(229, 236, 246, 1.0)\",\"showbackground\":true}},\"ternary\":{\"aaxis\":{\"ticks\":\"\",\"linecolor\":\"rgba(255, 255, 255, 1.0)\",\"gridcolor\":\"rgba(255, 255, 255, 1.0)\"},\"baxis\":{\"ticks\":\"\",\"linecolor\":\"rgba(255, 255, 255, 1.0)\",\"gridcolor\":\"rgba(255, 255, 255, 1.0)\"},\"caxis\":{\"ticks\":\"\",\"linecolor\":\"rgba(255, 255, 255, 1.0)\",\"gridcolor\":\"rgba(255, 255, 255, 1.0)\"},\"bgcolor\":\"rgba(229, 236, 246, 1.0)\"},\"xaxis\":{\"title\":{\"standoff\":15},\"ticks\":\"\",\"automargin\":true,\"linecolor\":\"rgba(255, 255, 255, 1.0)\",\"gridcolor\":\"rgba(255, 255, 255, 1.0)\",\"zerolinecolor\":\"rgba(255, 255, 255, 1.0)\",\"zerolinewidth\":2.0},\"yaxis\":{\"title\":{\"standoff\":15},\"ticks\":\"\",\"automargin\":true,\"linecolor\":\"rgba(255, 255, 255, 1.0)\",\"gridcolor\":\"rgba(255, 255, 255, 1.0)\",\"zerolinecolor\":\"rgba(255, 255, 255, 1.0)\",\"zerolinewidth\":2.0},\"annotationdefaults\":{\"arrowcolor\":\"#2a3f5f\",\"arrowhead\":0,\"arrowwidth\":1},\"shapedefaults\":{\"line\":{\"color\":\"rgba(42, 63, 95, 1.0)\"}},\"colorway\":[\"rgba(99, 110, 250, 1.0)\",\"rgba(239, 85, 59, 1.0)\",\"rgba(0, 204, 150, 1.0)\",\"rgba(171, 99, 250, 1.0)\",\"rgba(255, 161, 90, 1.0)\",\"rgba(25, 211, 243, 1.0)\",\"rgba(255, 102, 146, 1.0)\",\"rgba(182, 232, 128, 1.0)\",\"rgba(255, 151, 255, 1.0)\",\"rgba(254, 203, 82, 1.0)\"]},\"data\":{\"bar\":[{\"marker\":{\"line\":{\"color\":\"rgba(229, 236, 246, 1.0)\",\"width\":0.5},\"pattern\":{\"fillmode\":\"overlay\",\"size\":10,\"solidity\":0.2}},\"error_x\":{\"color\":\"rgba(42, 63, 95, 1.0)\"},\"error_y\":{\"color\":\"rgba(42, 63, 95, 1.0)\"}}],\"barpolar\":[{\"marker\":{\"line\":{\"color\":\"rgba(229, 236, 246, 1.0)\",\"width\":0.5},\"pattern\":{\"fillmode\":\"overlay\",\"size\":10,\"solidity\":0.2}}}],\"carpet\":[{\"aaxis\":{\"linecolor\":\"rgba(255, 255, 255, 1.0)\",\"gridcolor\":\"rgba(255, 255, 255, 1.0)\",\"endlinecolor\":\"rgba(42, 63, 95, 1.0)\",\"minorgridcolor\":\"rgba(255, 255, 255, 1.0)\",\"startlinecolor\":\"rgba(42, 63, 95, 1.0)\"},\"baxis\":{\"linecolor\":\"rgba(255, 255, 255, 1.0)\",\"gridcolor\":\"rgba(255, 255, 255, 1.0)\",\"endlinecolor\":\"rgba(42, 63, 95, 1.0)\",\"minorgridcolor\":\"rgba(255, 255, 255, 1.0)\",\"startlinecolor\":\"rgba(42, 63, 95, 1.0)\"}}],\"choropleth\":[{\"colorbar\":{\"outlinewidth\":0.0,\"ticks\":\"\"},\"colorscale\":[[0.0,\"#0d0887\"],[0.1111111111111111,\"#46039f\"],[0.2222222222222222,\"#7201a8\"],[0.3333333333333333,\"#9c179e\"],[0.4444444444444444,\"#bd3786\"],[0.5555555555555556,\"#d8576b\"],[0.6666666666666666,\"#ed7953\"],[0.7777777777777778,\"#fb9f3a\"],[0.8888888888888888,\"#fdca26\"],[1.0,\"#f0f921\"]]}],\"contour\":[{\"colorbar\":{\"outlinewidth\":0.0,\"ticks\":\"\"},\"colorscale\":[[0.0,\"#0d0887\"],[0.1111111111111111,\"#46039f\"],[0.2222222222222222,\"#7201a8\"],[0.3333333333333333,\"#9c179e\"],[0.4444444444444444,\"#bd3786\"],[0.5555555555555556,\"#d8576b\"],[0.6666666666666666,\"#ed7953\"],[0.7777777777777778,\"#fb9f3a\"],[0.8888888888888888,\"#fdca26\"],[1.0,\"#f0f921\"]]}],\"contourcarpet\":[{\"colorbar\":{\"outlinewidth\":0.0,\"ticks\":\"\"}}],\"heatmap\":[{\"colorbar\":{\"outlinewidth\":0.0,\"ticks\":\"\"},\"colorscale\":[[0.0,\"#0d0887\"],[0.1111111111111111,\"#46039f\"],[0.2222222222222222,\"#7201a8\"],[0.3333333333333333,\"#9c179e\"],[0.4444444444444444,\"#bd3786\"],[0.5555555555555556,\"#d8576b\"],[0.6666666666666666,\"#ed7953\"],[0.7777777777777778,\"#fb9f3a\"],[0.8888888888888888,\"#fdca26\"],[1.0,\"#f0f921\"]]}],\"heatmapgl\":[{\"colorbar\":{\"outlinewidth\":0.0,\"ticks\":\"\"},\"colorscale\":[[0.0,\"#0d0887\"],[0.1111111111111111,\"#46039f\"],[0.2222222222222222,\"#7201a8\"],[0.3333333333333333,\"#9c179e\"],[0.4444444444444444,\"#bd3786\"],[0.5555555555555556,\"#d8576b\"],[0.6666666666666666,\"#ed7953\"],[0.7777777777777778,\"#fb9f3a\"],[0.8888888888888888,\"#fdca26\"],[1.0,\"#f0f921\"]]}],\"histogram\":[{\"marker\":{\"pattern\":{\"fillmode\":\"overlay\",\"size\":10,\"solidity\":0.2}}}],\"histogram2d\":[{\"colorbar\":{\"outlinewidth\":0.0,\"ticks\":\"\"},\"colorscale\":[[0.0,\"#0d0887\"],[0.1111111111111111,\"#46039f\"],[0.2222222222222222,\"#7201a8\"],[0.3333333333333333,\"#9c179e\"],[0.4444444444444444,\"#bd3786\"],[0.5555555555555556,\"#d8576b\"],[0.6666666666666666,\"#ed7953\"],[0.7777777777777778,\"#fb9f3a\"],[0.8888888888888888,\"#fdca26\"],[1.0,\"#f0f921\"]]}],\"histogram2dcontour\":[{\"colorbar\":{\"outlinewidth\":0.0,\"ticks\":\"\"},\"colorscale\":[[0.0,\"#0d0887\"],[0.1111111111111111,\"#46039f\"],[0.2222222222222222,\"#7201a8\"],[0.3333333333333333,\"#9c179e\"],[0.4444444444444444,\"#bd3786\"],[0.5555555555555556,\"#d8576b\"],[0.6666666666666666,\"#ed7953\"],[0.7777777777777778,\"#fb9f3a\"],[0.8888888888888888,\"#fdca26\"],[1.0,\"#f0f921\"]]}],\"mesh3d\":[{\"colorbar\":{\"outlinewidth\":0.0,\"ticks\":\"\"}}],\"parcoords\":[{\"line\":{\"colorbar\":{\"outlinewidth\":0.0,\"ticks\":\"\"}}}],\"pie\":[{\"automargin\":true}],\"scatter\":[{\"marker\":{\"colorbar\":{\"outlinewidth\":0.0,\"ticks\":\"\"}}}],\"scatter3d\":[{\"marker\":{\"colorbar\":{\"outlinewidth\":0.0,\"ticks\":\"\"}},\"line\":{\"colorbar\":{\"outlinewidth\":0.0,\"ticks\":\"\"}}}],\"scattercarpet\":[{\"marker\":{\"colorbar\":{\"outlinewidth\":0.0,\"ticks\":\"\"}}}],\"scattergeo\":[{\"marker\":{\"colorbar\":{\"outlinewidth\":0.0,\"ticks\":\"\"}}}],\"scattergl\":[{\"marker\":{\"colorbar\":{\"outlinewidth\":0.0,\"ticks\":\"\"}}}],\"scattermapbox\":[{\"marker\":{\"colorbar\":{\"outlinewidth\":0.0,\"ticks\":\"\"}}}],\"scatterpolar\":[{\"marker\":{\"colorbar\":{\"outlinewidth\":0.0,\"ticks\":\"\"}}}],\"scatterpolargl\":[{\"marker\":{\"colorbar\":{\"outlinewidth\":0.0,\"ticks\":\"\"}}}],\"scatterternary\":[{\"marker\":{\"colorbar\":{\"outlinewidth\":0.0,\"ticks\":\"\"}}}],\"surface\":[{\"colorbar\":{\"outlinewidth\":0.0,\"ticks\":\"\"},\"colorscale\":[[0.0,\"#0d0887\"],[0.1111111111111111,\"#46039f\"],[0.2222222222222222,\"#7201a8\"],[0.3333333333333333,\"#9c179e\"],[0.4444444444444444,\"#bd3786\"],[0.5555555555555556,\"#d8576b\"],[0.6666666666666666,\"#ed7953\"],[0.7777777777777778,\"#fb9f3a\"],[0.8888888888888888,\"#fdca26\"],[1.0,\"#f0f921\"]]}],\"table\":[{\"cells\":{\"fill\":{\"color\":\"rgba(235, 240, 248, 1.0)\"},\"line\":{\"color\":\"rgba(255, 255, 255, 1.0)\"}},\"header\":{\"fill\":{\"color\":\"rgba(200, 212, 227, 1.0)\"},\"line\":{\"color\":\"rgba(255, 255, 255, 1.0)\"}}}]}}};",
"",
"            var config = {\"responsive\":true};",
"",
"            Plotly.newPlot(\u0027cfbcb300-a355-4434-8cbb-a4ed3c0058f4\u0027, data, layout, config);",
"",
"});",
"",
"            };",
"",
"            if ((typeof(requirejs) !==  typeof(Function)) || (typeof(requirejs.config) !== typeof(Function))) {",
"",
"                var script = document.createElement(\"script\");",
"",
"                script.setAttribute(\"src\", \"https://cdnjs.cloudflare.com/ajax/libs/require.js/2.3.6/require.min.js\");",
"",
"                script.onload = function(){",
"",
"                    renderPlotly_cfbcb300a35544348cbba4ed3c0058f4();",
"",
"                };",
"",
"                document.getElementsByTagName(\"head\")[0].appendChild(script);",
"",
"            }",
"",
"            else {",
"",
"                renderPlotly_cfbcb300a35544348cbba4ed3c0058f4();",
"",
"            }",
"",
"\u003c/script\u003e",
"",
""]
        },
           "execution_count": null,
           "metadata": {},
           "output_type": "execute_result"
          }],
   "source": [
    "chartCombinedNormlizedVol\n"
   ]
  }
,
  {
   "cell_type": "markdown",
   "metadata": {},
   
   "source": [
    "## Key points to keep in mind.\n",
    "\n",
    "The mean-variance efficient portfolio will always look like the best portfolio in the sample period in which you estimated the weights. This is because we found it by literally looking for the portfolio with the highest sharpe ratio in that sample period.\n",
    "\n",
    "A more meaningful comparison would be to estimate mean-variance efficient weights based on past data and see how those weights perform in future data. For instance, estimate weights 2000-2010, and use those weights to determine the portfolio that you\u0027re going to hold in 2011. Finally, compare it to 60/40 in 2011. That is an \"out of sample\" test because your test period (2011) is different from the period when the weights were estimated (2000-2010). Then repeat, always using data **before** the holding period as your training period to estimate the weights for the test holding period.\n",
    "\n",
    "It is also important to remember that 10-20 years is not long enough to get a good estimate of a portfolio\u0027s expected return.\n",
    "\n",
    "One way to see this is to compare equity returns 2000-2010 and 2010-2020.\n",
    "\n"
   ]
  }
,
  {
   "cell_type": "code",
   "metadata": {
    "dotnet_interactive": {
     "language": "fsharp"
    },
    "polyglot_notebook": {
     "kernelName": "fsharp"
    }
   },
   "execution_count": 47, "outputs": [
          {
           "data": {
            "text/plain": ["-0.01769"]
        },
           "execution_count": 47,
           "metadata": {},
           "output_type": "execute_result"
          }],
   "source": [
    "ff3\n",
    "|\u003e Seq.filter(fun x -\u003e \n",
    "    x.Date \u003e= DateTime(2000,1,1) \u0026\u0026\n",
    "    x.Date \u003c= DateTime(2009,12,31))\n",
    "|\u003e Seq.averageBy(fun x -\u003e\n",
    "    12.0*x.MktRf)\n"
   ]
  }
,
  {
   "cell_type": "code",
   "metadata": {
    "dotnet_interactive": {
     "language": "fsharp"
    },
    "polyglot_notebook": {
     "kernelName": "fsharp"
    }
   },
   "execution_count": 48, "outputs": [
          {
           "data": {
            "text/plain": ["0.13093"]
        },
           "execution_count": 48,
           "metadata": {},
           "output_type": "execute_result"
          }],
   "source": [
    "ff3\n",
    "|\u003e Seq.filter(fun x -\u003e \n",
    "    x.Date \u003e= DateTime(2010,1,1) \u0026\u0026\n",
    "    x.Date \u003c= DateTime(2019,12,31))\n",
    "|\u003e Seq.averageBy(fun x -\u003e\n",
    "    12.0*x.MktRf)\n"
   ]
  }
,
  {
   "cell_type": "markdown",
   "metadata": {},
   
   "source": [
    "Neither of those 10-year periods is a good estimate of expected market returns.Thus it does not make sense to try forming a mean-variance efficient portfolio using the trailing 10-year period for estimating forward-looking returns.\n",
    "\n",
    "If we look at US returns 1900-2012, the data indicates that equity excess returns were about 5.5%, and bond excess returns were about 1%. Covariances over shorter periods are more reasonable, so we can use the recent sample to estimate covariances and the long sample for means.\n",
    "\n"
   ]
  }
,
  {
   "cell_type": "code",
   "metadata": {
    "dotnet_interactive": {
     "language": "fsharp"
    },
    "polyglot_notebook": {
     "kernelName": "fsharp"
    }
   },
   "execution_count": 49, "outputs": [
          {
           "data": {
            "text/plain": ["tensor([0.4083, 0.5917])"]
        },
           "execution_count": 49,
           "metadata": {},
           "output_type": "execute_result"
          }],
   "source": [
    "let symStockBond = [\"VTI\";\"BND\"]\n",
    "let covStockBond =\n",
    "    [ for x in symStockBond do\n",
    "        [ for y in symStockBond do\n",
    "            getCov x y ]]\n",
    "    |\u003e dsharp.tensor\n",
    "\n",
    "let meansStockBond = dsharp.tensor([ 0.055/12.0; 0.01/12.0])\n",
    "\n",
    "let wStockBond =\n",
    "    let w\u0027 = dsharp.solve(covStockBond, meansStockBond)\n",
    "    w\u0027 / w\u0027.sum()\n",
    "\n",
    "wStockBond\n"
   ]
  }
,
  {
   "cell_type": "code",
   "metadata": {
    "dotnet_interactive": {
     "language": "fsharp"
    },
    "polyglot_notebook": {
     "kernelName": "fsharp"
    }
   },
   "execution_count": 50, "outputs": [
          {
           "data": {
            "text/plain": ["(tensor(0.3758), tensor(0.0755))"]
        },
           "execution_count": 50,
           "metadata": {},
           "output_type": "execute_result"
          }],
   "source": [
    "let stockBondSharpeAndSD (weights:Tensor) =\n",
    "    let sbVar = weights.matmul(covStockBond).matmul(weights)\n",
    "    let sbStDev = sqrt(12.0)*sqrt(sbVar)\n",
    "    let sbMean = 12.0 * (weights.matmul(meansStockBond))\n",
    "    sbMean/sbStDev, sbStDev\n",
    "\n",
    "stockBondSharpeAndSD wStockBond\n"
   ]
  }
,
  {
   "cell_type": "code",
   "metadata": {
    "dotnet_interactive": {
     "language": "fsharp"
    },
    "polyglot_notebook": {
     "kernelName": "fsharp"
    }
   },
   "execution_count": 51, "outputs": [
          {
           "data": {
            "text/plain": ["(tensor(0.3701), tensor(0.1000))"]
        },
           "execution_count": 51,
           "metadata": {},
           "output_type": "execute_result"
          }],
   "source": [
    "stockBondSharpeAndSD (dsharp.tensor([0.6;0.4]))\n"
   ]
  }
 ],
 "metadata": {
  "kernelspec": {
   "display_name": ".NET (F#)",
   "language": "F#",
   "name": ".net-fsharp"
  },
  "language_info": {
   "file_extension": ".fs",
   "mimetype": "text/x-fsharp",
   "name": "polyglot-notebook",
   "pygments_lexer": "fsharp"
  },
  "polyglot_notebook": {
   "kernelInfo": {
    "defaultKernelName": "fsharp",
    "items": [
     {
      "aliases": [],
      "languageName": "fsharp",
      "name": "fsharp"
     }
    ]
   }
  }
 },
 "nbformat": 4,
 "nbformat_minor": 2
}

