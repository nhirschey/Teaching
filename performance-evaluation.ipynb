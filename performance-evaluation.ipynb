
{
 "cells": [
  {
   "cell_type": "markdown",
   "metadata": {},
   
   "source": [
    "[![Binder](img/badge-binder.svg)](https://mybinder.org/v2/gh/nhirschey/teaching/gh-pages?filepath=performance-evaluation.ipynb)\u0026emsp;\n",
    "[![Script](img/badge-script.svg)](/Teaching//performance-evaluation.fsx)\u0026emsp;\n",
    "[![Notebook](img/badge-notebook.svg)](/Teaching//performance-evaluation.ipynb)\n",
    "\n",
    "# Performance evaluation\n",
    "\n",
    "We\u0027re going to evaluate portfolio performance. The common way to do this is to estimate a portfolio\u0027s return adjusted for risk using a factor model with tradeable risk factors.\n",
    "\n",
    "What\u0027s a risk factor? These risk factors are portfolios and the idea is that the expected excess return on these risk factors is compensation to investors for bearing the risk inherent in holding those portfolios. For the return variation in these factors to be \"risky\", it should be something that investors cannot easily diversify. If it was easy to diversify, then investors could put a small bit of the asset in their portfolio and capture the return without affecting portfolio volatility. That would imply being able to increase return without adding risk. Hence the requirement that a factor constitute return variation that is hard to diversify away.\n",
    "\n",
    "The greater the riskiness of the factor, the greater the factor\u0027s expected return (i.e., the risk-return tradeoff). For example, most people feel that stocks are riskier than bonds and indeed stocks have historically had higher returns than bonds.\n",
    "\n",
    "The risk adjustment involves estimating a portfolio\u0027s $\\beta$\u0027s on different risk factors. These $\\beta$\u0027s constitute the exposure of the portfolio to the risk factor. If the factor return goes up by 1%, then the portfolio\u0027s return goes up by $\\beta \\times 1\\%$.\n",
    "\n",
    "We can estimate these $\\beta$\u0027s by OLS regressions of the portfolio\u0027s returns on contemporaneous returns of the risk factors. The slope coefficients on the risk factors are the portfolio\u0027s betas on the risk factors. The regression intercept is known as $\\alpha$. It represents the average return of the portfolio that is not explained by the portfolio\u0027s $\\beta$\u0027s on the risk factors. This alpha is the risk-adjusted return.\n",
    "\n",
    "Intuitively, $\\alpha$ is the average return on a portfolio long the investment you are evaluating and short a portfolio with the same factor risk as that portfolio. If the factors and factor betas accurately measure the portfolio\u0027s risk, then the alpha is the portfolio\u0027s return that is unrelated to the portfolio\u0027s risk. Investors like positive alphas because that implies that the portfolio\u0027s return is higher than what investors require for bearing the portfolio\u0027s risk.\n",
    "\n",
    "One thing to keep in mind is that throughout this discussion, we have discussed things from the perspective of arbitrage. That is, like a trader. We have not made any assumptions about utility functions or return distributions. This is the Arbitrage Pricing Theory (APT) of Stephen Ross (1976). He was motivated by the observation that\n",
    "\n",
    "\u003e \"... on theoretical grounds it is difficult to justify either the assumption [in mean-variance anlysis and CAPM]() of normality in returns...or of quadratic preferences...and on empirical grounds the conclusions as well as the assumptions of the theory have also come under attack.\"\n",
    "\u003e \n",
    "\n",
    "The APT way of thinking is less restrictive than economically motivated equilibrium asset pricing models. Which is nice. But it has the cost that it does not tell us as much. With the APT we cannot say precisely what a security\u0027s return should be. We can only say that if we go long a portfolio and short the portfolio that replicates its factor exposure, then the alpha shouldn\u0027t be **too** big. But if we\u0027re thinking like a trader, that\u0027s perhaps most of what we care about anyway.\n",
    "\n"
   ]
  }
,
  {
   "cell_type": "code",
   "metadata": {
    "dotnet_interactive": {
     "language": "fsharp"
    },
    "polyglot_notebook": {
     "kernelName": "fsharp"
    }
   },
   "execution_count": 1, "outputs": [],
   "source": [
    "#r \"nuget: FSharp.Stats, 0.5.0\"\n",
    "#r \"nuget: FSharp.Data, 5.0.2\"\n",
    "#r \"nuget: Plotly.NET, 3.*\"\n",
    "#r \"nuget: Plotly.NET.Interactive, 3.*\"\n",
    "#r \"nuget: NovaSBE.Finance, 0.5.0\"\n"
   ]
  }
,
  {
   "cell_type": "code",
   "metadata": {
    "dotnet_interactive": {
     "language": "fsharp"
    },
    "polyglot_notebook": {
     "kernelName": "fsharp"
    }
   },
   "execution_count": 2, "outputs": [],
   "source": [
    "#r \"nuget: Quotes.YahooFinance, 0.0.5\"\n",
    "\n",
    "open System\n",
    "open FSharp.Data\n",
    "open Quotes.YahooFinance\n",
    "\n",
    "open FSharp.Stats\n",
    "open Plotly.NET\n",
    "open NovaSBE.Finance\n",
    "open NovaSBE.Finance.Ols\n",
    "\n",
    "Environment.CurrentDirectory \u003c- __SOURCE_DIRECTORY__\n"
   ]
  }
,
  {
   "cell_type": "markdown",
   "metadata": {},
   
   "source": [
    "## Data\n",
    "\n",
    "We get the Fama-French 3-Factor asset pricing model data.\n",
    "\n"
   ]
  }
,
  {
   "cell_type": "code",
   "metadata": {
    "dotnet_interactive": {
     "language": "fsharp"
    },
    "polyglot_notebook": {
     "kernelName": "fsharp"
    }
   },
   "execution_count": 3, "outputs": [],
   "source": [
    "let ff3 = French.getFF3 French.Frequency.Monthly\n"
   ]
  }
,
  {
   "cell_type": "markdown",
   "metadata": {},
   
   "source": [
    "Let\u0027s get a portfolio to analyze.\n",
    "\n",
    "VBR is the Vanguard Small Cap Value ETF. It invests in small-cap value stocks.\n",
    "\n"
   ]
  }
,
  {
   "cell_type": "code",
   "metadata": {
    "dotnet_interactive": {
     "language": "fsharp"
    },
    "polyglot_notebook": {
     "kernelName": "fsharp"
    }
   },
   "execution_count": 4, "outputs": [],
   "source": [
    "type Return = { YearMonth: DateTime; Return: float }\n",
    "\n",
    "let getReturns (ticker: string) =\n",
    "    YahooFinance.History(\n",
    "        ticker,\n",
    "        startDate = DateTime(2010, 1, 1),\n",
    "        endDate = DateTime(DateTime.Now.Year - 1, 12, 31),\n",
    "        interval = Monthly\n",
    "    )\n",
    "    |\u003e List.sortBy (fun x -\u003e x.Date)\n",
    "    |\u003e List.pairwise\n",
    "    |\u003e List.map (fun (yesterday, today) -\u003e\n",
    "        { YearMonth = DateTime(today.Date.Year, today.Date.Month, 1)\n",
    "          Return = today.AdjustedClose / yesterday.AdjustedClose - 1.0 })\n",
    "    |\u003e List.toArray\n",
    "\n",
    "let vbr = getReturns \"VBR\"\n"
   ]
  }
,
  {
   "cell_type": "markdown",
   "metadata": {},
   
   "source": [
    "We\u0027ll also use VTI as a proxy for the market later.\n",
    "\n"
   ]
  }
,
  {
   "cell_type": "code",
   "metadata": {
    "dotnet_interactive": {
     "language": "fsharp"
    },
    "polyglot_notebook": {
     "kernelName": "fsharp"
    }
   },
   "execution_count": 5, "outputs": [],
   "source": [
    "let vti = getReturns \"VTI\"\n"
   ]
  }
,
  {
   "cell_type": "markdown",
   "metadata": {},
   
   "source": [
    "A function to accumulate simple returns.\n",
    "\n"
   ]
  }
,
  {
   "cell_type": "code",
   "metadata": {
    "dotnet_interactive": {
     "language": "fsharp"
    },
    "polyglot_notebook": {
     "kernelName": "fsharp"
    }
   },
   "execution_count": 6, "outputs": [],
   "source": [
    "let cumulativeReturn (xs: seq\u003cDateTime * float\u003e) =\n",
    "    let mutable cr = 1.0\n",
    "\n",
    "    [ for (dt, r) in xs do\n",
    "          cr \u003c- cr * (1.0 + r)\n",
    "          dt, cr - 1.0 ]\n"
   ]
  }
,
  {
   "cell_type": "markdown",
   "metadata": {},
   
   "source": [
    "Plot of vbr cumulative return.\n",
    "\n"
   ]
  }
,
  {
   "cell_type": "code",
   "metadata": {
    "dotnet_interactive": {
     "language": "fsharp"
    },
    "polyglot_notebook": {
     "kernelName": "fsharp"
    }
   },
   "execution_count": 7, "outputs": [],
   "source": [
    "let vbrChart =\n",
    "    vbr\n",
    "    |\u003e Array.map (fun x -\u003e x.YearMonth, x.Return)\n",
    "    |\u003e cumulativeReturn\n",
    "    |\u003e Chart.Line\n"
   ]
  }
,
  {
   "cell_type": "code",
   "metadata": {
    "dotnet_interactive": {
     "language": "fsharp"
    },
    "polyglot_notebook": {
     "kernelName": "fsharp"
    }
   },
   "execution_count": null, "outputs": [
          {
           "data": {
            "text/html": ["\u003cdiv id=\"8f163382-3482-4a73-8f5e-62ffae5aaf4a\"\u003e\u003c!-- Plotly chart will be drawn inside this DIV --\u003e\u003c/div\u003e",
"",
"\u003cscript type=\"text/javascript\"\u003e",
"",
"",
"",
"            var renderPlotly_8f16338234824a738f5e62ffae5aaf4a = function() {",
"",
"            var fsharpPlotlyRequire = requirejs.config({context:\u0027fsharp-plotly\u0027,paths:{plotly:\u0027https://cdn.plot.ly/plotly-2.6.3.min\u0027}}) || require;",
"",
"            fsharpPlotlyRequire([\u0027plotly\u0027], function(Plotly) {",
"",
"",
"",
"            var data = [{\"type\":\"scatter\",\"mode\":\"lines\",\"x\":[\"2010-02-01T00:00:00\",\"2010-03-01T00:00:00\",\"2010-04-01T00:00:00\",\"2010-05-01T00:00:00\",\"2010-06-01T00:00:00\",\"2010-07-01T00:00:00\",\"2010-08-01T00:00:00\",\"2010-09-01T00:00:00\",\"2010-10-01T00:00:00\",\"2010-11-01T00:00:00\",\"2010-12-01T00:00:00\",\"2011-01-01T00:00:00\",\"2011-02-01T00:00:00\",\"2011-03-01T00:00:00\",\"2011-04-01T00:00:00\",\"2011-05-01T00:00:00\",\"2011-06-01T00:00:00\",\"2011-07-01T00:00:00\",\"2011-08-01T00:00:00\",\"2011-09-01T00:00:00\",\"2011-10-01T00:00:00\",\"2011-11-01T00:00:00\",\"2011-12-01T00:00:00\",\"2012-01-01T00:00:00\",\"2012-02-01T00:00:00\",\"2012-03-01T00:00:00\",\"2012-04-01T00:00:00\",\"2012-05-01T00:00:00\",\"2012-06-01T00:00:00\",\"2012-07-01T00:00:00\",\"2012-08-01T00:00:00\",\"2012-09-01T00:00:00\",\"2012-10-01T00:00:00\",\"2012-11-01T00:00:00\",\"2012-12-01T00:00:00\",\"2013-01-01T00:00:00\",\"2013-02-01T00:00:00\",\"2013-03-01T00:00:00\",\"2013-04-01T00:00:00\",\"2013-05-01T00:00:00\",\"2013-06-01T00:00:00\",\"2013-07-01T00:00:00\",\"2013-08-01T00:00:00\",\"2013-09-01T00:00:00\",\"2013-10-01T00:00:00\",\"2013-11-01T00:00:00\",\"2013-12-01T00:00:00\",\"2014-01-01T00:00:00\",\"2014-02-01T00:00:00\",\"2014-03-01T00:00:00\",\"2014-04-01T00:00:00\",\"2014-05-01T00:00:00\",\"2014-06-01T00:00:00\",\"2014-07-01T00:00:00\",\"2014-08-01T00:00:00\",\"2014-09-01T00:00:00\",\"2014-10-01T00:00:00\",\"2014-11-01T00:00:00\",\"2014-12-01T00:00:00\",\"2015-01-01T00:00:00\",\"2015-02-01T00:00:00\",\"2015-03-01T00:00:00\",\"2015-04-01T00:00:00\",\"2015-05-01T00:00:00\",\"2015-06-01T00:00:00\",\"2015-07-01T00:00:00\",\"2015-08-01T00:00:00\",\"2015-09-01T00:00:00\",\"2015-10-01T00:00:00\",\"2015-11-01T00:00:00\",\"2015-12-01T00:00:00\",\"2016-01-01T00:00:00\",\"2016-02-01T00:00:00\",\"2016-03-01T00:00:00\",\"2016-04-01T00:00:00\",\"2016-05-01T00:00:00\",\"2016-06-01T00:00:00\",\"2016-07-01T00:00:00\",\"2016-08-01T00:00:00\",\"2016-09-01T00:00:00\",\"2016-10-01T00:00:00\",\"2016-11-01T00:00:00\",\"2016-12-01T00:00:00\",\"2017-01-01T00:00:00\",\"2017-02-01T00:00:00\",\"2017-03-01T00:00:00\",\"2017-04-01T00:00:00\",\"2017-05-01T00:00:00\",\"2017-06-01T00:00:00\",\"2017-07-01T00:00:00\",\"2017-08-01T00:00:00\",\"2017-09-01T00:00:00\",\"2017-10-01T00:00:00\",\"2017-11-01T00:00:00\",\"2017-12-01T00:00:00\",\"2018-01-01T00:00:00\",\"2018-02-01T00:00:00\",\"2018-03-01T00:00:00\",\"2018-04-01T00:00:00\",\"2018-05-01T00:00:00\",\"2018-06-01T00:00:00\",\"2018-07-01T00:00:00\",\"2018-08-01T00:00:00\",\"2018-09-01T00:00:00\",\"2018-10-01T00:00:00\",\"2018-11-01T00:00:00\",\"2018-12-01T00:00:00\",\"2019-01-01T00:00:00\",\"2019-02-01T00:00:00\",\"2019-03-01T00:00:00\",\"2019-04-01T00:00:00\",\"2019-05-01T00:00:00\",\"2019-06-01T00:00:00\",\"2019-07-01T00:00:00\",\"2019-08-01T00:00:00\",\"2019-09-01T00:00:00\",\"2019-10-01T00:00:00\",\"2019-11-01T00:00:00\",\"2019-12-01T00:00:00\",\"2020-01-01T00:00:00\",\"2020-02-01T00:00:00\",\"2020-03-01T00:00:00\",\"2020-04-01T00:00:00\",\"2020-05-01T00:00:00\",\"2020-06-01T00:00:00\",\"2020-07-01T00:00:00\",\"2020-08-01T00:00:00\",\"2020-09-01T00:00:00\",\"2020-10-01T00:00:00\",\"2020-11-01T00:00:00\",\"2020-12-01T00:00:00\",\"2021-01-01T00:00:00\",\"2021-02-01T00:00:00\",\"2021-03-01T00:00:00\",\"2021-04-01T00:00:00\",\"2021-05-01T00:00:00\",\"2021-06-01T00:00:00\",\"2021-07-01T00:00:00\",\"2021-08-01T00:00:00\",\"2021-09-01T00:00:00\",\"2021-10-01T00:00:00\",\"2021-11-01T00:00:00\",\"2021-12-01T00:00:00\",\"2022-01-01T00:00:00\",\"2022-02-01T00:00:00\",\"2022-03-01T00:00:00\",\"2022-04-01T00:00:00\",\"2022-05-01T00:00:00\",\"2022-06-01T00:00:00\",\"2022-07-01T00:00:00\",\"2022-08-01T00:00:00\",\"2022-09-01T00:00:00\",\"2022-10-01T00:00:00\",\"2022-11-01T00:00:00\",\"2022-12-01T00:00:00\",\"2023-01-01T00:00:00\",\"2023-02-01T00:00:00\",\"2023-03-01T00:00:00\",\"2023-04-01T00:00:00\",\"2023-05-01T00:00:00\",\"2023-06-01T00:00:00\",\"2023-07-01T00:00:00\",\"2023-08-01T00:00:00\",\"2023-09-01T00:00:00\",\"2023-10-01T00:00:00\",\"2023-11-01T00:00:00\",\"2023-12-01T00:00:00\"],\"y\":[0.05014212808664631,0.1356670029993292,0.20701365029036567,0.11103559849411115,0.020358052119011205,0.09645911252748252,0.023387063308668354,0.13015516898218804,0.17085599992622735,0.19754814641767315,0.26569825657750656,0.29741320350329015,0.3583677670866854,0.378235728979913,0.41061271076185113,0.3807100986635581,0.35196575938817687,0.3070159749049213,0.19994682204057357,0.0722355722125183,0.22695509689992477,0.22521903248389474,0.20901358727602037,0.32146278196037614,0.3551695009033333,0.38729932428642,0.37406736848252975,0.2873013223022365,0.34488269725987486,0.3391638572771194,0.3791947765718813,0.4178457201348509,0.4079858963137377,0.4221841040935501,0.4326352637496147,0.5644141087581487,0.58969938315104,0.6617103707010961,0.6635545008764374,0.7153519082203752,0.6935001471615498,0.8094338622183668,0.7339655388379698,0.82582354753856,0.897448380108677,0.9530890861459891,0.9700849003028531,0.9509246970892751,1.0477906171640314,1.0741715342686606,1.051167840244803,1.0847706239419161,1.1748571226574227,1.0707520454686925,1.1767122034963742,1.0561161953782823,1.1558911496352469,1.17959856788374,1.1804229415249932,1.145613279427891,1.267074582088095,1.2949757202654895,1.266754899557439,1.2978234691548618,1.263186328038847,1.2417733619920521,1.1332434482371734,1.0331098117177477,1.1930707658778856,1.2219524687406582,1.097507590538934,0.9787428407635186,1.008483306193618,1.1798688763696972,1.2339173174947033,1.2652723333981406,1.2616217279609248,1.373875635810898,1.3911094828136057,1.3837848336767102,1.3281550783030083,1.5658897587088512,1.6222357259060418,1.6564945888352414,1.7099336351361845,1.6798337189760018,1.7011713751958633,1.6363520918841372,1.6915363281541183,1.7282736912804295,1.6885004968143185,1.8080385171341393,1.846069211267888,1.9361612813736517,1.9319656402756964,2.0079351966623924,1.8654728266006617,1.8763635497363778,1.9002757646060733,2.031294306961319,2.0308495563252196,2.1178193424837346,2.193092859322013,2.122075116173094,1.8555864906465978,1.9227242407732028,1.5696900232154087,1.8775692754349351,1.9924083083645407,1.9215982435904055,2.049813031827625,1.8017424619089826,1.9763951721790147,2.0162244647815144,1.852249612115969,1.9549920040943967,2.0175487266107286,2.092355015134971,2.154961880163623,2.0712296480956227,1.7586575562268547,1.0590801749954473,1.3378767700691085,1.4500680478079087,1.488707368298099,1.5828896073207308,1.7023984258709244,1.587333271343613,1.6839300356338445,2.1515602582358606,2.345151084576779,2.434436647913496,2.7364375070602973,2.919626739906755,3.0930510546833885,3.1845363565874205,3.126555858758726,3.0738781717540515,3.158790385855279,3.0371458036672827,3.2373408407496873,3.1092407463050167,3.2823546001624546,3.1208626663828465,3.1878722745335217,3.240901919708967,2.9861871787325054,3.060449584297441,2.624071018703734,2.999245364795423,2.8893844651196394,2.4854248588517103,2.923792602884367,3.1419574868342295,2.879573054758698,3.2612862918440237,3.165093357289032,2.9057893276753632,2.8911776843150387,2.7580402846096694,3.093110995157887,3.339455971031846,3.191646987491654,2.9686899394524375,2.796965859288969,3.1257009385295085,3.5024706234039913],\"marker\":{},\"line\":{}}];",
"",
"            var layout = {\"width\":600,\"height\":600,\"template\":{\"layout\":{\"title\":{\"x\":0.05},\"font\":{\"color\":\"rgba(42, 63, 95, 1.0)\"},\"paper_bgcolor\":\"rgba(255, 255, 255, 1.0)\",\"plot_bgcolor\":\"rgba(229, 236, 246, 1.0)\",\"autotypenumbers\":\"strict\",\"colorscale\":{\"diverging\":[[0.0,\"#8e0152\"],[0.1,\"#c51b7d\"],[0.2,\"#de77ae\"],[0.3,\"#f1b6da\"],[0.4,\"#fde0ef\"],[0.5,\"#f7f7f7\"],[0.6,\"#e6f5d0\"],[0.7,\"#b8e186\"],[0.8,\"#7fbc41\"],[0.9,\"#4d9221\"],[1.0,\"#276419\"]],\"sequential\":[[0.0,\"#0d0887\"],[0.1111111111111111,\"#46039f\"],[0.2222222222222222,\"#7201a8\"],[0.3333333333333333,\"#9c179e\"],[0.4444444444444444,\"#bd3786\"],[0.5555555555555556,\"#d8576b\"],[0.6666666666666666,\"#ed7953\"],[0.7777777777777778,\"#fb9f3a\"],[0.8888888888888888,\"#fdca26\"],[1.0,\"#f0f921\"]],\"sequentialminus\":[[0.0,\"#0d0887\"],[0.1111111111111111,\"#46039f\"],[0.2222222222222222,\"#7201a8\"],[0.3333333333333333,\"#9c179e\"],[0.4444444444444444,\"#bd3786\"],[0.5555555555555556,\"#d8576b\"],[0.6666666666666666,\"#ed7953\"],[0.7777777777777778,\"#fb9f3a\"],[0.8888888888888888,\"#fdca26\"],[1.0,\"#f0f921\"]]},\"hovermode\":\"closest\",\"hoverlabel\":{\"align\":\"left\"},\"coloraxis\":{\"colorbar\":{\"outlinewidth\":0.0,\"ticks\":\"\"}},\"geo\":{\"showland\":true,\"landcolor\":\"rgba(229, 236, 246, 1.0)\",\"showlakes\":true,\"lakecolor\":\"rgba(255, 255, 255, 1.0)\",\"subunitcolor\":\"rgba(255, 255, 255, 1.0)\",\"bgcolor\":\"rgba(255, 255, 255, 1.0)\"},\"mapbox\":{\"style\":\"light\"},\"polar\":{\"bgcolor\":\"rgba(229, 236, 246, 1.0)\",\"radialaxis\":{\"linecolor\":\"rgba(255, 255, 255, 1.0)\",\"gridcolor\":\"rgba(255, 255, 255, 1.0)\",\"ticks\":\"\"},\"angularaxis\":{\"linecolor\":\"rgba(255, 255, 255, 1.0)\",\"gridcolor\":\"rgba(255, 255, 255, 1.0)\",\"ticks\":\"\"}},\"scene\":{\"xaxis\":{\"ticks\":\"\",\"linecolor\":\"rgba(255, 255, 255, 1.0)\",\"gridcolor\":\"rgba(255, 255, 255, 1.0)\",\"gridwidth\":2.0,\"zerolinecolor\":\"rgba(255, 255, 255, 1.0)\",\"backgroundcolor\":\"rgba(229, 236, 246, 1.0)\",\"showbackground\":true},\"yaxis\":{\"ticks\":\"\",\"linecolor\":\"rgba(255, 255, 255, 1.0)\",\"gridcolor\":\"rgba(255, 255, 255, 1.0)\",\"gridwidth\":2.0,\"zerolinecolor\":\"rgba(255, 255, 255, 1.0)\",\"backgroundcolor\":\"rgba(229, 236, 246, 1.0)\",\"showbackground\":true},\"zaxis\":{\"ticks\":\"\",\"linecolor\":\"rgba(255, 255, 255, 1.0)\",\"gridcolor\":\"rgba(255, 255, 255, 1.0)\",\"gridwidth\":2.0,\"zerolinecolor\":\"rgba(255, 255, 255, 1.0)\",\"backgroundcolor\":\"rgba(229, 236, 246, 1.0)\",\"showbackground\":true}},\"ternary\":{\"aaxis\":{\"ticks\":\"\",\"linecolor\":\"rgba(255, 255, 255, 1.0)\",\"gridcolor\":\"rgba(255, 255, 255, 1.0)\"},\"baxis\":{\"ticks\":\"\",\"linecolor\":\"rgba(255, 255, 255, 1.0)\",\"gridcolor\":\"rgba(255, 255, 255, 1.0)\"},\"caxis\":{\"ticks\":\"\",\"linecolor\":\"rgba(255, 255, 255, 1.0)\",\"gridcolor\":\"rgba(255, 255, 255, 1.0)\"},\"bgcolor\":\"rgba(229, 236, 246, 1.0)\"},\"xaxis\":{\"title\":{\"standoff\":15},\"ticks\":\"\",\"automargin\":true,\"linecolor\":\"rgba(255, 255, 255, 1.0)\",\"gridcolor\":\"rgba(255, 255, 255, 1.0)\",\"zerolinecolor\":\"rgba(255, 255, 255, 1.0)\",\"zerolinewidth\":2.0},\"yaxis\":{\"title\":{\"standoff\":15},\"ticks\":\"\",\"automargin\":true,\"linecolor\":\"rgba(255, 255, 255, 1.0)\",\"gridcolor\":\"rgba(255, 255, 255, 1.0)\",\"zerolinecolor\":\"rgba(255, 255, 255, 1.0)\",\"zerolinewidth\":2.0},\"annotationdefaults\":{\"arrowcolor\":\"#2a3f5f\",\"arrowhead\":0,\"arrowwidth\":1},\"shapedefaults\":{\"line\":{\"color\":\"rgba(42, 63, 95, 1.0)\"}},\"colorway\":[\"rgba(99, 110, 250, 1.0)\",\"rgba(239, 85, 59, 1.0)\",\"rgba(0, 204, 150, 1.0)\",\"rgba(171, 99, 250, 1.0)\",\"rgba(255, 161, 90, 1.0)\",\"rgba(25, 211, 243, 1.0)\",\"rgba(255, 102, 146, 1.0)\",\"rgba(182, 232, 128, 1.0)\",\"rgba(255, 151, 255, 1.0)\",\"rgba(254, 203, 82, 1.0)\"]},\"data\":{\"bar\":[{\"marker\":{\"line\":{\"color\":\"rgba(229, 236, 246, 1.0)\",\"width\":0.5},\"pattern\":{\"fillmode\":\"overlay\",\"size\":10,\"solidity\":0.2}},\"error_x\":{\"color\":\"rgba(42, 63, 95, 1.0)\"},\"error_y\":{\"color\":\"rgba(42, 63, 95, 1.0)\"}}],\"barpolar\":[{\"marker\":{\"line\":{\"color\":\"rgba(229, 236, 246, 1.0)\",\"width\":0.5},\"pattern\":{\"fillmode\":\"overlay\",\"size\":10,\"solidity\":0.2}}}],\"carpet\":[{\"aaxis\":{\"linecolor\":\"rgba(255, 255, 255, 1.0)\",\"gridcolor\":\"rgba(255, 255, 255, 1.0)\",\"endlinecolor\":\"rgba(42, 63, 95, 1.0)\",\"minorgridcolor\":\"rgba(255, 255, 255, 1.0)\",\"startlinecolor\":\"rgba(42, 63, 95, 1.0)\"},\"baxis\":{\"linecolor\":\"rgba(255, 255, 255, 1.0)\",\"gridcolor\":\"rgba(255, 255, 255, 1.0)\",\"endlinecolor\":\"rgba(42, 63, 95, 1.0)\",\"minorgridcolor\":\"rgba(255, 255, 255, 1.0)\",\"startlinecolor\":\"rgba(42, 63, 95, 1.0)\"}}],\"choropleth\":[{\"colorbar\":{\"outlinewidth\":0.0,\"ticks\":\"\"},\"colorscale\":[[0.0,\"#0d0887\"],[0.1111111111111111,\"#46039f\"],[0.2222222222222222,\"#7201a8\"],[0.3333333333333333,\"#9c179e\"],[0.4444444444444444,\"#bd3786\"],[0.5555555555555556,\"#d8576b\"],[0.6666666666666666,\"#ed7953\"],[0.7777777777777778,\"#fb9f3a\"],[0.8888888888888888,\"#fdca26\"],[1.0,\"#f0f921\"]]}],\"contour\":[{\"colorbar\":{\"outlinewidth\":0.0,\"ticks\":\"\"},\"colorscale\":[[0.0,\"#0d0887\"],[0.1111111111111111,\"#46039f\"],[0.2222222222222222,\"#7201a8\"],[0.3333333333333333,\"#9c179e\"],[0.4444444444444444,\"#bd3786\"],[0.5555555555555556,\"#d8576b\"],[0.6666666666666666,\"#ed7953\"],[0.7777777777777778,\"#fb9f3a\"],[0.8888888888888888,\"#fdca26\"],[1.0,\"#f0f921\"]]}],\"contourcarpet\":[{\"colorbar\":{\"outlinewidth\":0.0,\"ticks\":\"\"}}],\"heatmap\":[{\"colorbar\":{\"outlinewidth\":0.0,\"ticks\":\"\"},\"colorscale\":[[0.0,\"#0d0887\"],[0.1111111111111111,\"#46039f\"],[0.2222222222222222,\"#7201a8\"],[0.3333333333333333,\"#9c179e\"],[0.4444444444444444,\"#bd3786\"],[0.5555555555555556,\"#d8576b\"],[0.6666666666666666,\"#ed7953\"],[0.7777777777777778,\"#fb9f3a\"],[0.8888888888888888,\"#fdca26\"],[1.0,\"#f0f921\"]]}],\"heatmapgl\":[{\"colorbar\":{\"outlinewidth\":0.0,\"ticks\":\"\"},\"colorscale\":[[0.0,\"#0d0887\"],[0.1111111111111111,\"#46039f\"],[0.2222222222222222,\"#7201a8\"],[0.3333333333333333,\"#9c179e\"],[0.4444444444444444,\"#bd3786\"],[0.5555555555555556,\"#d8576b\"],[0.6666666666666666,\"#ed7953\"],[0.7777777777777778,\"#fb9f3a\"],[0.8888888888888888,\"#fdca26\"],[1.0,\"#f0f921\"]]}],\"histogram\":[{\"marker\":{\"pattern\":{\"fillmode\":\"overlay\",\"size\":10,\"solidity\":0.2}}}],\"histogram2d\":[{\"colorbar\":{\"outlinewidth\":0.0,\"ticks\":\"\"},\"colorscale\":[[0.0,\"#0d0887\"],[0.1111111111111111,\"#46039f\"],[0.2222222222222222,\"#7201a8\"],[0.3333333333333333,\"#9c179e\"],[0.4444444444444444,\"#bd3786\"],[0.5555555555555556,\"#d8576b\"],[0.6666666666666666,\"#ed7953\"],[0.7777777777777778,\"#fb9f3a\"],[0.8888888888888888,\"#fdca26\"],[1.0,\"#f0f921\"]]}],\"histogram2dcontour\":[{\"colorbar\":{\"outlinewidth\":0.0,\"ticks\":\"\"},\"colorscale\":[[0.0,\"#0d0887\"],[0.1111111111111111,\"#46039f\"],[0.2222222222222222,\"#7201a8\"],[0.3333333333333333,\"#9c179e\"],[0.4444444444444444,\"#bd3786\"],[0.5555555555555556,\"#d8576b\"],[0.6666666666666666,\"#ed7953\"],[0.7777777777777778,\"#fb9f3a\"],[0.8888888888888888,\"#fdca26\"],[1.0,\"#f0f921\"]]}],\"mesh3d\":[{\"colorbar\":{\"outlinewidth\":0.0,\"ticks\":\"\"}}],\"parcoords\":[{\"line\":{\"colorbar\":{\"outlinewidth\":0.0,\"ticks\":\"\"}}}],\"pie\":[{\"automargin\":true}],\"scatter\":[{\"marker\":{\"colorbar\":{\"outlinewidth\":0.0,\"ticks\":\"\"}}}],\"scatter3d\":[{\"marker\":{\"colorbar\":{\"outlinewidth\":0.0,\"ticks\":\"\"}},\"line\":{\"colorbar\":{\"outlinewidth\":0.0,\"ticks\":\"\"}}}],\"scattercarpet\":[{\"marker\":{\"colorbar\":{\"outlinewidth\":0.0,\"ticks\":\"\"}}}],\"scattergeo\":[{\"marker\":{\"colorbar\":{\"outlinewidth\":0.0,\"ticks\":\"\"}}}],\"scattergl\":[{\"marker\":{\"colorbar\":{\"outlinewidth\":0.0,\"ticks\":\"\"}}}],\"scattermapbox\":[{\"marker\":{\"colorbar\":{\"outlinewidth\":0.0,\"ticks\":\"\"}}}],\"scatterpolar\":[{\"marker\":{\"colorbar\":{\"outlinewidth\":0.0,\"ticks\":\"\"}}}],\"scatterpolargl\":[{\"marker\":{\"colorbar\":{\"outlinewidth\":0.0,\"ticks\":\"\"}}}],\"scatterternary\":[{\"marker\":{\"colorbar\":{\"outlinewidth\":0.0,\"ticks\":\"\"}}}],\"surface\":[{\"colorbar\":{\"outlinewidth\":0.0,\"ticks\":\"\"},\"colorscale\":[[0.0,\"#0d0887\"],[0.1111111111111111,\"#46039f\"],[0.2222222222222222,\"#7201a8\"],[0.3333333333333333,\"#9c179e\"],[0.4444444444444444,\"#bd3786\"],[0.5555555555555556,\"#d8576b\"],[0.6666666666666666,\"#ed7953\"],[0.7777777777777778,\"#fb9f3a\"],[0.8888888888888888,\"#fdca26\"],[1.0,\"#f0f921\"]]}],\"table\":[{\"cells\":{\"fill\":{\"color\":\"rgba(235, 240, 248, 1.0)\"},\"line\":{\"color\":\"rgba(255, 255, 255, 1.0)\"}},\"header\":{\"fill\":{\"color\":\"rgba(200, 212, 227, 1.0)\"},\"line\":{\"color\":\"rgba(255, 255, 255, 1.0)\"}}}]}}};",
"",
"            var config = {\"responsive\":true};",
"",
"            Plotly.newPlot(\u00278f163382-3482-4a73-8f5e-62ffae5aaf4a\u0027, data, layout, config);",
"",
"});",
"",
"            };",
"",
"            if ((typeof(requirejs) !==  typeof(Function)) || (typeof(requirejs.config) !== typeof(Function))) {",
"",
"                var script = document.createElement(\"script\");",
"",
"                script.setAttribute(\"src\", \"https://cdnjs.cloudflare.com/ajax/libs/require.js/2.3.6/require.min.js\");",
"",
"                script.onload = function(){",
"",
"                    renderPlotly_8f16338234824a738f5e62ffae5aaf4a();",
"",
"                };",
"",
"                document.getElementsByTagName(\"head\")[0].appendChild(script);",
"",
"            }",
"",
"            else {",
"",
"                renderPlotly_8f16338234824a738f5e62ffae5aaf4a();",
"",
"            }",
"",
"\u003c/script\u003e",
"",
""]
        },
           "execution_count": null,
           "metadata": {},
           "output_type": "execute_result"
          }],
   "source": [
    "vbrChart\n"
   ]
  }
,
  {
   "cell_type": "markdown",
   "metadata": {},
   
   "source": [
    "You want to work with excess returns. If you have a zero-cost, long-short portfolio then it is already an excess return. But if you have a long portfolio such as we have with VBR, we need to convert it to an excess return.\n",
    "\n"
   ]
  }
,
  {
   "cell_type": "code",
   "metadata": {
    "dotnet_interactive": {
     "language": "fsharp"
    },
    "polyglot_notebook": {
     "kernelName": "fsharp"
    }
   },
   "execution_count": 9, "outputs": [],
   "source": [
    "type ExcessReturn =\n",
    "    { YearMonth: DateTime\n",
    "      ExcessReturn: float }\n",
    "\n",
    "// ff3 indexed by month\n",
    "let ff3ByMonth =\n",
    "    ff3 |\u003e Array.map (fun x -\u003e DateTime(x.Date.Year, x.Date.Month, 1), x) |\u003e Map\n",
    "\n",
    "let vbrExcess =\n",
    "    vbr\n",
    "    |\u003e Array.map (fun x -\u003e\n",
    "        { YearMonth = x.YearMonth\n",
    "          ExcessReturn = x.Return - ff3ByMonth[x.YearMonth].Rf })\n",
    "\n",
    "let vtiExcess =\n",
    "    vti\n",
    "    |\u003e Array.map (fun x -\u003e\n",
    "        { YearMonth = x.YearMonth\n",
    "          ExcessReturn = x.Return - ff3ByMonth[x.YearMonth].Rf })\n"
   ]
  }
,
  {
   "cell_type": "markdown",
   "metadata": {},
   
   "source": [
    "## Factor Models\n",
    "\n",
    "For regression, it is helpful to have the portfolio\n",
    "return data merged into our factor model data.\n",
    "\n"
   ]
  }
,
  {
   "cell_type": "code",
   "metadata": {
    "dotnet_interactive": {
     "language": "fsharp"
    },
    "polyglot_notebook": {
     "kernelName": "fsharp"
    }
   },
   "execution_count": 10, "outputs": [],
   "source": [
    "type RegData =\n",
    "    {\n",
    "        Date: DateTime\n",
    "        /// Make sure Portfolio is an Excess Return\n",
    "        Portfolio: float\n",
    "        MktRf: float\n",
    "        Hml: float\n",
    "        Smb: float\n",
    "    }\n",
    "\n",
    "let regData =\n",
    "    vbrExcess\n",
    "    |\u003e Array.map (fun x -\u003e\n",
    "        let xff3 = ff3ByMonth[x.YearMonth]\n",
    "\n",
    "        { Date = x.YearMonth\n",
    "          Portfolio = x.ExcessReturn\n",
    "          MktRf = xff3.MktRf\n",
    "          Hml = xff3.Hml\n",
    "          Smb = xff3.Smb })\n"
   ]
  }
,
  {
   "cell_type": "markdown",
   "metadata": {},
   
   "source": [
    "One way to evaluate performance is Sharpe ratios.\n",
    "\n"
   ]
  }
,
  {
   "cell_type": "code",
   "metadata": {
    "dotnet_interactive": {
     "language": "fsharp"
    },
    "polyglot_notebook": {
     "kernelName": "fsharp"
    }
   },
   "execution_count": 11, "outputs": [],
   "source": [
    "/// Calculates sharpe ratio of a sequence of excess returns\n",
    "let sharpe (xs: float seq) = (Seq.mean xs) / (Seq.stDev xs)\n",
    "\n",
    "let annualizeMonthlySharpe monthlySharpe = sqrt (12.0) * monthlySharpe\n"
   ]
  }
,
  {
   "cell_type": "markdown",
   "metadata": {},
   
   "source": [
    "Our portfolio.\n",
    "\n"
   ]
  }
,
  {
   "cell_type": "code",
   "metadata": {
    "dotnet_interactive": {
     "language": "fsharp"
    },
    "polyglot_notebook": {
     "kernelName": "fsharp"
    }
   },
   "execution_count": 12, "outputs": [
          {
           "data": {
            "text/plain": [""]
        },
           "execution_count": 12,
           "metadata": {},
           "output_type": "execute_result"
          }],
   "source": [
    "regData |\u003e Array.map (fun x -\u003e x.Portfolio) |\u003e sharpe |\u003e annualizeMonthlySharpe\n"
   ]
  }
,
  {
   "cell_type": "markdown",
   "metadata": {},
   
   "source": [
    "The market.\n",
    "\n"
   ]
  }
,
  {
   "cell_type": "code",
   "metadata": {
    "dotnet_interactive": {
     "language": "fsharp"
    },
    "polyglot_notebook": {
     "kernelName": "fsharp"
    }
   },
   "execution_count": 13, "outputs": [
          {
           "data": {
            "text/plain": [""]
        },
           "execution_count": 13,
           "metadata": {},
           "output_type": "execute_result"
          }],
   "source": [
    "regData |\u003e Array.map (fun x -\u003e x.MktRf) |\u003e sharpe |\u003e annualizeMonthlySharpe\n"
   ]
  }
,
  {
   "cell_type": "markdown",
   "metadata": {},
   
   "source": [
    "The HML factor.\n",
    "\n"
   ]
  }
,
  {
   "cell_type": "code",
   "metadata": {
    "dotnet_interactive": {
     "language": "fsharp"
    },
    "polyglot_notebook": {
     "kernelName": "fsharp"
    }
   },
   "execution_count": 14, "outputs": [
          {
           "data": {
            "text/plain": [""]
        },
           "execution_count": 14,
           "metadata": {},
           "output_type": "execute_result"
          }],
   "source": [
    "regData |\u003e Array.map (fun x -\u003e x.Hml) |\u003e sharpe |\u003e annualizeMonthlySharpe\n"
   ]
  }
,
  {
   "cell_type": "markdown",
   "metadata": {},
   
   "source": [
    "Now we can estimate our factor models using OLS.\n",
    "\n"
   ]
  }
,
  {
   "cell_type": "code",
   "metadata": {
    "dotnet_interactive": {
     "language": "fsharp"
    },
    "polyglot_notebook": {
     "kernelName": "fsharp"
    }
   },
   "execution_count": 15, "outputs": [],
   "source": [
    "let capmEstimate = Ols(\"Portfolio ~ MktRf\", regData).fit()\n",
    "let ff3Estimate = Ols(\"Portfolio ~ MktRf + Hml + Smb\", regData).fit()\n"
   ]
  }
,
  {
   "cell_type": "markdown",
   "metadata": {},
   
   "source": [
    "CAPM results.\n",
    "\n"
   ]
  }
,
  {
   "cell_type": "code",
   "metadata": {
    "dotnet_interactive": {
     "language": "fsharp"
    },
    "polyglot_notebook": {
     "kernelName": "fsharp"
    }
   },
   "execution_count": 16, "outputs": [],
   "source": [
    "capmEstimate.summary ()\n"
   ]
  }
,
  {
   "cell_type": "markdown",
   "metadata": {},
   
   "source": [
    "* What\u0027s the interpretation of the alpha?\n",
    "\n",
    "* What\u0027s the interpretation of the beta?\n",
    "\n",
    "* If you want to replicate VBR with the MKT factor and risk-free bonds, what are the weights that you would use?\n",
    "\n",
    "Fama-French 3-Factor model results\n",
    "\n"
   ]
  }
,
  {
   "cell_type": "code",
   "metadata": {
    "dotnet_interactive": {
     "language": "fsharp"
    },
    "polyglot_notebook": {
     "kernelName": "fsharp"
    }
   },
   "execution_count": 17, "outputs": [],
   "source": [
    "ff3Estimate.summary ()\n"
   ]
  }
,
  {
   "cell_type": "markdown",
   "metadata": {},
   
   "source": [
    "* What\u0027s the interpretation of the alpha?\n",
    "\n",
    "* What\u0027s the interpretation of the factor betas?\n",
    "\n",
    "* If you want to replicate VBR with risk free bonds and the MKT, HML, and SMB factors, what are the weights that you would use?\n",
    "\n",
    "\u003e **Practice:** What is the expected annual return of VBR? When answering this,\n",
    "\u003e \n",
    "\n",
    "\u003e * Assume that your alpha and beta estimates for the 3 factor model explaining VBR returns are accurate.\n",
    "\u003e \n",
    "\u003e * Use the average annual premia on the Fama and French factors from 1926 until end of 2022 as your estimate of the factors\u0027 expected returns.\n",
    "\u003e \n",
    "\n"
   ]
  }
,
  {
   "cell_type": "code",
   "metadata": {
    "dotnet_interactive": {
     "language": "fsharp"
    },
    "polyglot_notebook": {
     "kernelName": "fsharp"
    }
   },
   "execution_count": 18, "outputs": [],
   "source": [
    "// Answer here\n"
   ]
  }
,
  {
   "cell_type": "markdown",
   "metadata": {},
   
   "source": [
    "You will probably see that the CAPM $R^2$ is lower than the\n",
    "Fama-French $R^2$. This means that you can explain more of the\n",
    "portfolio\u0027s returns with the Fama-French model. Or in trader terms,\n",
    "you can hedge the portfolio better with the multi-factor model.\n",
    "\n",
    "Let\u0027s turn things around and see if we can explain the HML factor.\n",
    "\n"
   ]
  }
,
  {
   "cell_type": "code",
   "metadata": {
    "dotnet_interactive": {
     "language": "fsharp"
    },
    "polyglot_notebook": {
     "kernelName": "fsharp"
    }
   },
   "execution_count": 19, "outputs": [],
   "source": [
    "let hmlRegData =\n",
    "    let vbrByMonth = vbrExcess |\u003e Array.map (fun x -\u003e x.YearMonth, x) |\u003e Map\n",
    "\n",
    "    [| for vti in vtiExcess do\n",
    "           {| YearMonth = vti.YearMonth\n",
    "              Hml = ff3ByMonth[vti.YearMonth].Hml\n",
    "              Vti = vti.ExcessReturn\n",
    "              Vbr = vbrByMonth[vti.YearMonth].ExcessReturn |} |]\n",
    "\n",
    "hmlRegData[..3]\n"
   ]
  }
,
  {
   "cell_type": "markdown",
   "metadata": {},
   
   "source": [
    "Explain the HML factor with VTI and VBR\n",
    "\n"
   ]
  }
,
  {
   "cell_type": "code",
   "metadata": {
    "dotnet_interactive": {
     "language": "fsharp"
    },
    "polyglot_notebook": {
     "kernelName": "fsharp"
    }
   },
   "execution_count": 20, "outputs": [],
   "source": [
    "let hmlModel = Ols(\"Hml ~ Vti + Vbr\", hmlRegData).fit()\n",
    "hmlModel.summary()\n"
   ]
  }
,
  {
   "cell_type": "markdown",
   "metadata": {},
   
   "source": [
    "* What\u0027s the interpretation of the alpha?\n",
    "\n",
    "* What\u0027s the interpretation of the betas?\n",
    "\n",
    "* If you want to replicate HML using VTI, VBR, and risk-free bonds, what are the weights you would use?\n",
    "\n",
    "Note:\n",
    "\n",
    "HML average return.\n",
    "\n"
   ]
  }
,
  {
   "cell_type": "code",
   "metadata": {
    "dotnet_interactive": {
     "language": "fsharp"
    },
    "polyglot_notebook": {
     "kernelName": "fsharp"
    }
   },
   "execution_count": 21, "outputs": [],
   "source": [
    "hmlRegData |\u003e Array.averageBy (fun x -\u003e 12.0 * x.Hml)\n"
   ]
  }
,
  {
   "cell_type": "markdown",
   "metadata": {},
   
   "source": [
    "VTI average return\n",
    "\n"
   ]
  }
,
  {
   "cell_type": "code",
   "metadata": {
    "dotnet_interactive": {
     "language": "fsharp"
    },
    "polyglot_notebook": {
     "kernelName": "fsharp"
    }
   },
   "execution_count": 22, "outputs": [],
   "source": [
    "hmlRegData |\u003e Array.averageBy (fun x -\u003e 12.0 * x.Vti)\n"
   ]
  }
,
  {
   "cell_type": "markdown",
   "metadata": {},
   
   "source": [
    "VBR average return.\n",
    "\n"
   ]
  }
,
  {
   "cell_type": "code",
   "metadata": {
    "dotnet_interactive": {
     "language": "fsharp"
    },
    "polyglot_notebook": {
     "kernelName": "fsharp"
    }
   },
   "execution_count": 23, "outputs": [],
   "source": [
    "hmlRegData |\u003e Array.averageBy (fun x -\u003e 12.0 * x.Vbr)\n"
   ]
  }
,
  {
   "cell_type": "markdown",
   "metadata": {},
   
   "source": [
    "## Information Ratios\n",
    "\n",
    "We want residuals so that we can estimate information ratios.\n",
    "\n"
   ]
  }
,
  {
   "cell_type": "code",
   "metadata": {
    "dotnet_interactive": {
     "language": "fsharp"
    },
    "polyglot_notebook": {
     "kernelName": "fsharp"
    }
   },
   "execution_count": 24, "outputs": [],
   "source": [
    "let capmResiduals = capmEstimate.resid\n",
    "let ff3Residuals = ff3Estimate.resid\n"
   ]
  }
,
  {
   "cell_type": "markdown",
   "metadata": {},
   
   "source": [
    "In general I would write a function to do this. Function makes it a bit\n",
    "simpler to follow. It\u0027s hard for me to read the next few lines and understand\n",
    "what everything is. Too much going on.\n",
    "\n"
   ]
  }
,
  {
   "cell_type": "code",
   "metadata": {
    "dotnet_interactive": {
     "language": "fsharp"
    },
    "polyglot_notebook": {
     "kernelName": "fsharp"
    }
   },
   "execution_count": 25, "outputs": [
          {
           "data": {
            "text/plain": ["val capmAlpha: float = -0.03043825019",
"",
"val capmStDevResiduals: float = 0.07553320385",
"",
"val capmInformationRatio: float = -0.4029784074"]
        },
           "execution_count": 25,
           "metadata": {},
           "output_type": "execute_result"
          }],
   "source": [
    "let capmAlpha = 12.0 * capmEstimate.coefs[\"Intercept\"]\n",
    "let capmStDevResiduals = sqrt (12.0) * (Seq.stDev capmResiduals)\n",
    "let capmInformationRatio = capmAlpha / capmStDevResiduals\n"
   ]
  }
,
  {
   "cell_type": "code",
   "metadata": {
    "dotnet_interactive": {
     "language": "fsharp"
    },
    "polyglot_notebook": {
     "kernelName": "fsharp"
    }
   },
   "execution_count": 26, "outputs": [
          {
           "data": {
            "text/plain": ["val ff3Alpha: float = -0.008830648345",
"",
"val ff3StDevResiduals: float = 0.03868124745",
"",
"val ff3InformationRatio: float = -0.2282927497"]
        },
           "execution_count": 26,
           "metadata": {},
           "output_type": "execute_result"
          }],
   "source": [
    "let ff3Alpha = 12.0 * ff3Estimate.coefs[\"Intercept\"]\n",
    "let ff3StDevResiduals = sqrt (12.0) * (Seq.stDev ff3Residuals)\n",
    "let ff3InformationRatio = ff3Alpha / ff3StDevResiduals\n"
   ]
  }
,
  {
   "cell_type": "markdown",
   "metadata": {},
   
   "source": [
    "Here is the function version.\n",
    "\n"
   ]
  }
,
  {
   "cell_type": "code",
   "metadata": {
    "dotnet_interactive": {
     "language": "fsharp"
    },
    "polyglot_notebook": {
     "kernelName": "fsharp"
    }
   },
   "execution_count": 27, "outputs": [
          {
           "data": {
            "text/plain": ["val informationRatio:",
"",
"  monthlyAlpha: float -\u003e monthlyResiduals: float array -\u003e float",
"",
"val it: float = -0.4029784074"]
        },
           "execution_count": 27,
           "metadata": {},
           "output_type": "execute_result"
          }],
   "source": [
    "let informationRatio monthlyAlpha (monthlyResiduals: float array) =\n",
    "    let annualAlpha = 12.0 * monthlyAlpha\n",
    "    let annualStDev = sqrt (12.0) * (Seq.stDev monthlyResiduals)\n",
    "    annualAlpha / annualStDev\n",
    "\n",
    "informationRatio capmEstimate.coefs[\"Intercept\"] capmResiduals\n"
   ]
  }
,
  {
   "cell_type": "code",
   "metadata": {
    "dotnet_interactive": {
     "language": "fsharp"
    },
    "polyglot_notebook": {
     "kernelName": "fsharp"
    }
   },
   "execution_count": 28, "outputs": [
          {
           "data": {
            "text/plain": ["val it: float = -0.2282927497"]
        },
           "execution_count": 28,
           "metadata": {},
           "output_type": "execute_result"
          }],
   "source": [
    "informationRatio ff3Estimate.coefs[\"Intercept\"] ff3Residuals\n"
   ]
  }
 ],
 "metadata": {
  "kernelspec": {
   "display_name": ".NET (F#)",
   "language": "F#",
   "name": ".net-fsharp"
  },
  "language_info": {
   "file_extension": ".fs",
   "mimetype": "text/x-fsharp",
   "name": "polyglot-notebook",
   "pygments_lexer": "fsharp"
  },
  "polyglot_notebook": {
   "kernelInfo": {
    "defaultKernelName": "fsharp",
    "items": [
     {
      "aliases": [],
      "languageName": "fsharp",
      "name": "fsharp"
     }
    ]
   }
  }
 },
 "nbformat": 4,
 "nbformat_minor": 2
}

