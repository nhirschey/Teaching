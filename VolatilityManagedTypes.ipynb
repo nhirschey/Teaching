
{
 "cells": [
  {
   "cell_type": "markdown",
   "metadata": {},
   
   "source": [
    "[![Binder](img/badge-binder.svg)](https://mybinder.org/v2/gh/nhirschey/teaching/gh-pages?filepath=VolatilityManagedTypes.ipynb)\u0026emsp;\n",
    "[![Script](img/badge-script.svg)](/Teaching//VolatilityManagedTypes.fsx)\u0026emsp;\n",
    "[![Notebook](img/badge-notebook.svg)](/Teaching//VolatilityManagedTypes.ipynb)\n",
    "\n",
    "# Objectives\n",
    "\n",
    "Last time we looked at volatility managed portfolios, but we hard coded the volatility predictions. This time, we\u0027re going to add some flexibility to use different types of volatility predictions.\n",
    "\n",
    "## Loading Fama and French data\n",
    "\n"
   ]
  }
,
  {
   "cell_type": "code",
   "metadata": {
    "dotnet_interactive": {
     "language": "fsharp"
    },
    "polyglot_notebook": {
     "kernelName": "fsharp"
    }
   },
   "execution_count": 1, "outputs": [],
   "source": [
    "#r \"nuget: FSharp.Data, 5.0.2\"\n",
    "#r \"nuget: NovaSBE.Finance, 0.5.0\"\n",
    "#r \"nuget: FSharp.Stats, 0.5.0\"\n",
    "#r \"nuget: Plotly.NET, 3.*\"\n",
    "#r \"nuget: Plotly.NET.Interactive, 3.*\"\n",
    "\n",
    "open System\n",
    "open FSharp.Data\n",
    "open FSharp.Stats\n",
    "open Plotly.NET\n",
    "open NovaSBE.Finance.French\n",
    "\n",
    "let ff3 = \n",
    "    getFF3 Frequency.Daily \n",
    "    |\u003e Array.toList\n"
   ]
  }
,
  {
   "cell_type": "markdown",
   "metadata": {},
   
   "source": [
    "## Realized volatility\n",
    "\n",
    "First, our volatility measure from last time. When we take a sample volatility from the past, this is known as realized volatility. The realized volatility measure is recognized as a high quality estimate of future volatility (see [Anderson, Bollerslev, Diebold, Labys (2003)](https://scholar.google.com/citations?view_op=view_citation\u0026hl=en\u0026user=MpRgtycAAAAJ\u0026citation_for_view=MpRgtycAAAAJ:O3NaXMp0MMsC) and [Anderson, Bollerslev, Diebold, Ebens (2001)](https://scholar.google.com/citations?view_op=view_citation\u0026hl=en\u0026user=MpRgtycAAAAJ\u0026citation_for_view=MpRgtycAAAAJ:YFjsv_pBGBYC)).\n",
    "\n"
   ]
  }
,
  {
   "cell_type": "code",
   "metadata": {
    "dotnet_interactive": {
     "language": "fsharp"
    },
    "polyglot_notebook": {
     "kernelName": "fsharp"
    }
   },
   "execution_count": 2, "outputs": [],
   "source": [
    "type ReturnObs = { Date: DateTime; Return: float}\n",
    "\n",
    "type VolatilityPrediction = \n",
    "    { /// First date the prediction is valid for\n",
    "      Date: DateTime\n",
    "      /// The volatility prediction\n",
    "      Vol: float}\n",
    "\n",
    "/// \u003csummary\u003eCalculates realized volatity of a return observation\u003c/summary\u003e\n",
    "/// \u003cparam name=\"width\"\u003eThe window width for calculating realized vol.\u003c/param\u003e\n",
    "/// \u003cparam name=\"data\"\u003eThe input data\u003c/param\u003e\n",
    "/// \u003creturns\u003eA prediction and date the prediction is valid for.\u003c/returns\u003e\n",
    "let realizedVol (width: int) (data: list\u003cReturnObs\u003e) =\n",
    "    data\n",
    "    |\u003e List.sortBy (fun x -\u003e x.Date)\n",
    "    |\u003e List.windowed (width + 1)\n",
    "    |\u003e List.map (fun window -\u003e\n",
    "        let sd =\n",
    "            window \n",
    "            |\u003e List.take width \n",
    "            |\u003e List.map (fun x -\u003e x.Return) \n",
    "            |\u003e stDev\n",
    "        let last = window |\u003e List.last\n",
    "        { VolatilityPrediction.Date = last.Date; Vol = sd })\n"
   ]
  }
,
  {
   "cell_type": "markdown",
   "metadata": {},
   
   "source": [
    "\u003e **Practice:** Calculate the realized volatility of the Fama and French data using a window width of 252 days. Plot the realized volatility over time.\n",
    "\u003e \n",
    "\n"
   ]
  }
,
  {
   "cell_type": "code",
   "metadata": {
    "dotnet_interactive": {
     "language": "fsharp"
    },
    "polyglot_notebook": {
     "kernelName": "fsharp"
    }
   },
   "execution_count": 6, "outputs": [],
   "source": [
    "// Answer here\n"
   ]
  }
,
  {
   "cell_type": "markdown",
   "metadata": {},
   
   "source": [
    "## Exponentially weighted moving realized volatility\n",
    "\n",
    "Another common measure is an exponetially weighted moving average of volatility. This is a simple moving average, but the weights are exponentially decaying. To understand, it\u0027s helpful to compare to the simple realized volatility measure which is an equal weight average of past vols.\n",
    "\n",
    "The equal weight realized volatility is calculated as follows:\n",
    "\n",
    "$$\\sigma_t = \\sqrt{\\sum_{i=1}^T \\frac{1}{T} r_{t-i}^2}$$\n",
    "\n",
    "where $r_t$ is the return at time $t$ and $T$ is the window width. You can think of $1/T$ as the weight of each observation.\n",
    "\n",
    "The exponentially weighted moving average is calculated as follows:\n",
    "\n",
    "$$\\sigma_t = \\sqrt{\\sum_{i=1}^T \\frac{\\lambda^{t-1}}{\\sum_{i=1}^T \\lambda^{t-1}} r_{t-i}^2}$$\n",
    "\n",
    "where $\\lambda$ is a parameter that you can specify or estimate. It is common to use the RiskMetrics estimate of $\\lambda=0.94$. With that $\\lambda$ the most recent observation has a weight of 0.94, the next most recent observation has a weight of 0.94 * 0.94, and so on. Note that if you set $\\lambda=1$, then you get the equal weight realized volatility.\n",
    "\n",
    "To simplify this term, as $T$ gets large, we can approximate the sum as:\n",
    "\n",
    "$$\\sigma_t = \\sqrt{\\sum_{i=1}^T (1-\\lambda)\\lambda^{t-1} r_{t-i}^2}$$\n",
    "\n",
    "What do the weights look like?\n",
    "\n"
   ]
  }
,
  {
   "cell_type": "code",
   "metadata": {
    "dotnet_interactive": {
     "language": "fsharp"
    },
    "polyglot_notebook": {
     "kernelName": "fsharp"
    }
   },
   "execution_count": 4, "outputs": [],
   "source": [
    "[ for i = 1.0 to 500.0 do i, (1.0 - 0.94)*0.94**(i-1.0)]\n",
    "|\u003e Chart.Line\n"
   ]
  }
,
  {
   "cell_type": "markdown",
   "metadata": {},
   
   "source": [
    "A function to calculate the exponentially weighted moving average of realized volatility.\n",
    "\n"
   ]
  }
,
  {
   "cell_type": "code",
   "metadata": {
    "dotnet_interactive": {
     "language": "fsharp"
    },
    "polyglot_notebook": {
     "kernelName": "fsharp"
    }
   },
   "execution_count": 5, "outputs": [],
   "source": [
    "/// \u003csummary\u003eCalculates exponentially weighted return obs\u003c/summary\u003e\n",
    "/// \u003cparam name=\"width\"\u003eThe window width for calculating realized vol.\u003c/param\u003e\n",
    "/// \u003cparam name=\"lambda\"\u003eThe lambda parameter for the exponentially weighted moving average\u003c/param\u003e\n",
    "/// \u003cparam name=\"data\"\u003eThe input data\u003c/param\u003e\n",
    "/// \u003creturns\u003eA prediction and date the prediction is valid for.\u003c/returns\u003e\n",
    "let expRealizedVol (width: int) (lambda: float) (data: list\u003cReturnObs\u003e) =\n",
    "    data\n",
    "    |\u003e List.sortBy (fun x -\u003e x.Date)\n",
    "    |\u003e List.windowed (width + 1)\n",
    "    |\u003e List.map (fun window -\u003e\n",
    "        // List.rev makes most recent be first, oldest last\n",
    "        let train = window |\u003e List.take width |\u003e List.rev\n",
    "        let mu = train |\u003e List.map (fun x -\u003e x.Return) |\u003e List.average\n",
    "        let sd =\n",
    "            [ for t = 1 to width do\n",
    "                let w = (1.0 - lambda)*lambda**(float t - 1.0)\n",
    "                w * (train[t-1].Return - mu)**2.0 ]\n",
    "            |\u003e List.sum\n",
    "            |\u003e sqrt\n",
    "        let last = window |\u003e List.last\n",
    "        { VolatilityPrediction.Date = last.Date; Vol = sd })\n"
   ]
  }
,
  {
   "cell_type": "markdown",
   "metadata": {},
   
   "source": [
    "\u003e **Practice:** Calculate the exponentially weighted realized volatility of the Fama and French data using a window width of 252 days. Plot the realized volatility over time.\n",
    "\u003e \n",
    "\n"
   ]
  }
,
  {
   "cell_type": "code",
   "metadata": {
    "dotnet_interactive": {
     "language": "fsharp"
    },
    "polyglot_notebook": {
     "kernelName": "fsharp"
    }
   },
   "execution_count": 6, "outputs": [],
   "source": [
    "// Answer here\n"
   ]
  }
,
  {
   "cell_type": "markdown",
   "metadata": {},
   
   "source": [
    "## Accuracy comparison\n",
    "\n",
    "Let\u0027s compare accuracy.\n",
    "\n"
   ]
  }
,
  {
   "cell_type": "code",
   "metadata": {
    "dotnet_interactive": {
     "language": "fsharp"
    },
    "polyglot_notebook": {
     "kernelName": "fsharp"
    }
   },
   "execution_count": 7, "outputs": [],
   "source": [
    "let retData = ff3 |\u003e List.map (fun x -\u003e { Date = x.Date; Return = x.MktRf })\n",
    "let rv22 = realizedVol 22 retData\n",
    "\n",
    "let exp500 = expRealizedVol 500 0.94 retData\n"
   ]
  }
,
  {
   "cell_type": "markdown",
   "metadata": {},
   
   "source": [
    "There are fewer observations in the exponentially weighted realized volatility measure, so we\u0027ll need to trim the realized volatility measure.\n",
    "\n"
   ]
  }
,
  {
   "cell_type": "code",
   "metadata": {
    "dotnet_interactive": {
     "language": "fsharp"
    },
    "polyglot_notebook": {
     "kernelName": "fsharp"
    }
   },
   "execution_count": 8, "outputs": [],
   "source": [
    "rv22 |\u003e List.minBy (fun x -\u003e x.Date)\n",
    "exp500 |\u003e List.minBy (fun x -\u003e x.Date)\n"
   ]
  }
,
  {
   "cell_type": "markdown",
   "metadata": {},
   
   "source": [
    "now filter\n",
    "\n"
   ]
  }
,
  {
   "cell_type": "code",
   "metadata": {
    "dotnet_interactive": {
     "language": "fsharp"
    },
    "polyglot_notebook": {
     "kernelName": "fsharp"
    }
   },
   "execution_count": 9, "outputs": [],
   "source": [
    "let minDate = exp500 |\u003e List.map (fun x -\u003e x.Date) |\u003e List.min\n",
    "let rv22Filtered= rv22 |\u003e List.filter (fun x -\u003e x.Date \u003e= minDate)\n"
   ]
  }
,
  {
   "cell_type": "markdown",
   "metadata": {},
   
   "source": [
    "check accuracy\n",
    "\n"
   ]
  }
,
  {
   "cell_type": "code",
   "metadata": {
    "dotnet_interactive": {
     "language": "fsharp"
    },
    "polyglot_notebook": {
     "kernelName": "fsharp"
    }
   },
   "execution_count": 10, "outputs": [],
   "source": [
    "let rmse (pred: list\u003cVolatilityPrediction\u003e) =\n",
    "    let actual = ff3 |\u003e List.map (fun x -\u003e x.Date, x.MktRf) |\u003e dict\n",
    "    let actualVsPred = \n",
    "        [ for p in pred do \n",
    "            abs actual[p.Date], p.Vol]\n",
    "    let rmse =\n",
    "        [ for (actual, pred) in actualVsPred do\n",
    "            (actual - pred)**2.0 ]\n",
    "        |\u003e List.average\n",
    "        |\u003e sqrt\n",
    "    rmse\n",
    "\n",
    "\n",
    "$\"Realized vol rmse is {rmse rv22Filtered}\"\n",
    "$\"Exp weighted Realized vol rmse is {rmse exp500}\"\n"
   ]
  }
,
  {
   "cell_type": "markdown",
   "metadata": {},
   
   "source": [
    "\u003e **Practice:** Plot a bin scatterplot with two lines, one for realized volatility and one for the exponentially weighted realized volatility. What do you notice?\n",
    "\u003e \n",
    "\n",
    "\u003e **Practice:** Calculate the RMSE of the realized volatility and the exponentially weighted realized volatility for different window widths. What is the best window width?\n",
    "\u003e \n",
    "\n"
   ]
  }
 ],
 "metadata": {
  "kernelspec": {
   "display_name": ".NET (F#)",
   "language": "F#",
   "name": ".net-fsharp"
  },
  "language_info": {
   "file_extension": ".fs",
   "mimetype": "text/x-fsharp",
   "name": "polyglot-notebook",
   "pygments_lexer": "fsharp"
  },
  "polyglot_notebook": {
   "kernelInfo": {
    "defaultKernelName": "fsharp",
    "items": [
     {
      "aliases": [],
      "languageName": "fsharp",
      "name": "fsharp"
     }
    ]
   }
  }
 },
 "nbformat": 4,
 "nbformat_minor": 2
}

