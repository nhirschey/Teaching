
{
 "cells": [
  {
   "cell_type": "markdown",
   "metadata": {},
   
   "source": [
    "[![Binder](img/badge-binder.svg)](https://mybinder.org/v2/gh/nhirschey/teaching/gh-pages?filepath=football-collection-functions.ipynb)\u0026emsp;\n",
    "[![Script](img/badge-script.svg)](/Teaching//football-collection-functions.fsx)\u0026emsp;\n",
    "[![Notebook](img/badge-notebook.svg)](/Teaching//football-collection-functions.ipynb)\n",
    "\n",
    "# Using List collection functions and calculating summary statistics.\n",
    "\n",
    "\u003e Developed with [Davide Costa](https://github.com/DavideGCosta)\n",
    "\u003e \n",
    "\n",
    "You should now feel comfortable with the footballer dataset and how to work with\n",
    "tuples, records, anonymous records. You should also know how to perform simple transformations.\n",
    "With a large and heterogeneous dataset, it\u0027s useful to understand how to sort, group,\n",
    "and filter the data, and also many other interesting List functions.\n",
    "\n",
    "It is a good idea to browse the documentation for lists at the [F# language reference](https://docs.microsoft.com/en-us/dotnet/fsharp/language-reference/Lists)\n",
    "and the [F# core library](https://fsharp.github.io/fsharp-core-docs/reference/fsharp-collections-listmodule.html) documentation sites before you start.\n",
    "For further discussion of collection functions, the related [F# for fun and profit](https://fsharpforfunandprofit.com/posts/list-module-functions/)\n",
    "page is also useful.\n",
    "\n",
    "### Reference needed nuget packages and open namespaces\n",
    "\n"
   ]
  }
,
  {
   "cell_type": "code",
   "metadata": {
    "dotnet_interactive": {
     "language": "fsharp"
    },
    "polyglot_notebook": {
     "kernelName": "fsharp"
    }
   },
   "execution_count": 4, "outputs": [],
   "source": [
    "#r \"nuget: FSharp.Data, 5.0.2\"\n",
    "#r \"nuget: FSharp.Stats, 0.5.0\"\n",
    "\n",
    "open FSharp.Data\n",
    "open FSharp.Stats\n",
    "open FSharp.Stats.Correlation\n"
   ]
  }
,
  {
   "cell_type": "markdown",
   "metadata": {},
   
   "source": [
    "### Load the Csv file.\n",
    "\n"
   ]
  }
,
  {
   "cell_type": "code",
   "metadata": {
    "dotnet_interactive": {
     "language": "fsharp"
    },
    "polyglot_notebook": {
     "kernelName": "fsharp"
    }
   },
   "execution_count": 5, "outputs": [],
   "source": [
    "let [\u003cLiteral\u003e] CsvPath = __SOURCE_DIRECTORY__ + \"/FootballPlayers.csv\"\n",
    "type FootballPlayersCsv = CsvProvider\u003cCsvPath\u003e\n",
    "\n",
    "let playerStatsTable = \n",
    "    FootballPlayersCsv.GetSample().Rows\n",
    "    |\u003e Seq.toList\n"
   ]
  }
,
  {
   "cell_type": "markdown",
   "metadata": {},
   
   "source": [
    "## EXERCISES - PART 2\n",
    "\n",
    "* [List Functions.](#List-Functions)\n",
    "  \n",
    "\n",
    "  0 [List.take](#1-List-take)\n",
    "    \n",
    "  \n",
    "  1 [List.truncate](#2-List-truncate)\n",
    "    \n",
    "  \n",
    "  2 [List.distinct](#3-List-distinct)\n",
    "    \n",
    "  \n",
    "  3 [List.countBy](#4-List-countBy)\n",
    "    \n",
    "  \n",
    "  4 [List.filter](#5-List-filter)\n",
    "    \n",
    "  \n",
    "  5 [List.sort and List.sortDescending](#6-List-sort-and-List-sortDescending)\n",
    "    \n",
    "  \n",
    "  6 [List.sortBy and List.sortByDescending](#7-List-sortBy-and-List-sortByDescending)\n",
    "    \n",
    "  \n",
    "  7 [List.splitInto](#8-List-splitInto)\n",
    "    \n",
    "  \n",
    "  8 [List.groupBy](#9-List-groupBy)\n",
    "    \n",
    "  \n",
    "\n",
    "* [Statistics List Functions.](#Statistics-List-Functions)\n",
    "  \n",
    "\n",
    "  0 [List.max](#1-List-max)\n",
    "    \n",
    "  \n",
    "  1 [List.min](#2-List-min)\n",
    "    \n",
    "  \n",
    "  2 [List.maxBy](#3-List-maxBy)\n",
    "    \n",
    "  \n",
    "  3 [List.minBy](#4-List-minBy)\n",
    "    \n",
    "  \n",
    "  4 [List.sum](#5-List-sum)\n",
    "    \n",
    "  \n",
    "  5 [List.sumBy](#6-List-sumBy)\n",
    "    \n",
    "  \n",
    "  6 [List.average](#7-List-average)\n",
    "    \n",
    "  \n",
    "  7 [List.averageBy](#8-List-averageBy)\n",
    "    \n",
    "  \n",
    "  8 [Seq.stDev](#9-Seq-stDev)\n",
    "    \n",
    "  \n",
    "  9 [Seq.pearsonOfPairs](#10-Seq-pearsonOfPairs)\n",
    "    \n",
    "  \n",
    "\n",
    "* [Further Statistics practice.](#Further-Statistics-practice)\n",
    "  \n",
    "\n",
    "  0 [List.countBy, List.filter and List.averageBy](#1-List-countBy-List-filter-and-List-averageBy)\n",
    "    \n",
    "  \n",
    "  1 [List.groupBy, List.map and transformations](#2-List-groupBy-List-map-and-transformations)\n",
    "    \n",
    "  \n",
    "  2 [List.sortDescending, List.splitInto, List.map and Seq.stDev](#3-List-sortDescending-List-splitInto-List-map-and-Seq-stDev)\n",
    "    \n",
    "  \n",
    "\n",
    "## List Functions.\n",
    "\n",
    "### 1 List.take\n",
    "\n",
    "`List.take 5` takes the first 5 rows.\n",
    "`List.take 2` takes the first 2 rows\n",
    "\n",
    "Example: Take the first 4 rows from `playerStatsTable` with `List.take`.\n",
    "\n"
   ]
  }
,
  {
   "cell_type": "code",
   "metadata": {
    "dotnet_interactive": {
     "language": "fsharp"
    },
    "polyglot_notebook": {
     "kernelName": "fsharp"
    }
   },
   "execution_count": 6, "outputs": [
          {
           "data": {
            "text/plain": ["val it: CsvProvider\u003c...\u003e.Row list =",
"",
"  [(\"Robert Lewandowski\", \"pl POL\", \"FW\", \"Bayern Munich\", \"deBundesliga\", 32,",
"",
"    34, 35);",
"",
"   (\"Kylian Mbappé\", \"fr FRA\", \"FW\", \"Paris S-G\", \"frLigue 1\", 22, 35, 28);",
"",
"   (\"Karim Benzema\", \"fr FRA\", \"FW\", \"Real Madrid\", \"esLa Liga\", 33, 32, 27);",
"",
"   (\"Ciro Immobile\", \"it ITA\", \"FW\", \"Lazio\", \"itSerie A\", 31, 31, 27)]"]
        },
           "execution_count": 6,
           "metadata": {},
           "output_type": "execute_result"
          }],
   "source": [
    "playerStatsTable\n",
    "|\u003e List.take 4\n"
   ]
  }
,
  {
   "cell_type": "markdown",
   "metadata": {},
   
   "source": [
    "* Take the first 7 rows from `playerStatsTable` with `List.take`.\n",
    "\n",
    "\u003cdiv style=\"padding-left: 40px;\"\u003e\n",
    "\u003cp\u003e \n",
    "\u003cspan\u003e\n",
    "\u003cdetails\u003e\n",
    "\u003csummary\u003e\u003cp style=\"display:inline\"\u003eanswer\u003c/p\u003e\u003c/summary\u003e\n",
    "\n",
    "```\n",
    "val it: CsvProvider\u003c...\u003e.Row list =\n",
    "  [(\"Robert Lewandowski\", \"pl POL\", \"FW\", \"Bayern Munich\", \"deBundesliga\", 32,\n",
    "    34, 35);\n",
    "   (\"Kylian Mbappé\", \"fr FRA\", \"FW\", \"Paris S-G\", \"frLigue 1\", 22, 35, 28);\n",
    "   (\"Karim Benzema\", \"fr FRA\", \"FW\", \"Real Madrid\", \"esLa Liga\", 33, 32, 27);\n",
    "   (\"Ciro Immobile\", \"it ITA\", \"FW\", \"Lazio\", \"itSerie A\", 31, 31, 27);\n",
    "   (\"Wissam Ben Yedder\", \"fr FRA\", \"FW\", \"Monaco\", \"frLigue 1\", 30, 37, 25);\n",
    "   (\"Patrik Schick\", \"cz CZE\", \"FW\", \"Leverkusen\", \"deBundesliga\", 25, 27, 24);\n",
    "   (\"Son Heung-min\", \"kr KOR\", \"MF,FW\", \"Tottenham\", \"engPremier League\", 29,\n",
    "    35, 23)]\n",
    "```\n",
    "\n",
    "\u003c/details\u003e\n",
    "\u003c/span\u003e\n",
    "\u003c/p\u003e\n",
    "\u003c/div\u003e\n",
    "\n"
   ]
  }
,
  {
   "cell_type": "code",
   "metadata": {
    "dotnet_interactive": {
     "language": "fsharp"
    },
    "polyglot_notebook": {
     "kernelName": "fsharp"
    }
   },
   "execution_count": null, "outputs": [],
   "source": [
    "// write your code here, see website for solution.\n"
   ]
  }
,
  {
   "cell_type": "markdown",
   "metadata": {},
   
   "source": [
    "### 2 List.truncate\n",
    "\n",
    "`List.truncate 5` takes the first 5 rows.\n",
    "`List.truncate 2` takes the first 2 rows\n",
    "\n",
    "You must have noted that `List.take` and `List.truncate` return similar outputs, but these are not exactly the same.\n",
    "`List.take` gives you the exact number of items that you specify in the parameters,\n",
    "while `List.truncate` takes at maximum the number of items you specified in the parameters.\n",
    "Thus, in most cases both give you the exact same output, except if you ask for more items then the ones available in the List (List length).\n",
    "In this particular scenario `List.truncate` returns the maximum number of elements (all the elements in the List),\n",
    "while `List.take` returns an error, since it is supposed to take the exact number of elements you asked for, which is impossible in this particular case.\n",
    "\n",
    "Example: Take the first 4 rows from `playerStatsTable` with `List.truncate`.\n",
    "\n"
   ]
  }
,
  {
   "cell_type": "code",
   "metadata": {
    "dotnet_interactive": {
     "language": "fsharp"
    },
    "polyglot_notebook": {
     "kernelName": "fsharp"
    }
   },
   "execution_count": 8, "outputs": [
          {
           "data": {
            "text/plain": ["val it: CsvProvider\u003c...\u003e.Row list =",
"",
"  [(\"Robert Lewandowski\", \"pl POL\", \"FW\", \"Bayern Munich\", \"deBundesliga\", 32,",
"",
"    34, 35);",
"",
"   (\"Kylian Mbappé\", \"fr FRA\", \"FW\", \"Paris S-G\", \"frLigue 1\", 22, 35, 28);",
"",
"   (\"Karim Benzema\", \"fr FRA\", \"FW\", \"Real Madrid\", \"esLa Liga\", 33, 32, 27);",
"",
"   (\"Ciro Immobile\", \"it ITA\", \"FW\", \"Lazio\", \"itSerie A\", 31, 31, 27)]"]
        },
           "execution_count": 8,
           "metadata": {},
           "output_type": "execute_result"
          }],
   "source": [
    "playerStatsTable\n",
    "|\u003e List.truncate 4\n"
   ]
  }
,
  {
   "cell_type": "markdown",
   "metadata": {},
   
   "source": [
    "* Take the first 7 rows from `playerStatsTable` with `List.truncate`.\n",
    "\n",
    "\u003cdiv style=\"padding-left: 40px;\"\u003e\n",
    "\u003cp\u003e \n",
    "\u003cspan\u003e\n",
    "\u003cdetails\u003e\n",
    "\u003csummary\u003e\u003cp style=\"display:inline\"\u003eanswer\u003c/p\u003e\u003c/summary\u003e\n",
    "\n",
    "```\n",
    "val it: CsvProvider\u003c...\u003e.Row list =\n",
    "  [(\"Robert Lewandowski\", \"pl POL\", \"FW\", \"Bayern Munich\", \"deBundesliga\", 32,\n",
    "    34, 35);\n",
    "   (\"Kylian Mbappé\", \"fr FRA\", \"FW\", \"Paris S-G\", \"frLigue 1\", 22, 35, 28);\n",
    "   (\"Karim Benzema\", \"fr FRA\", \"FW\", \"Real Madrid\", \"esLa Liga\", 33, 32, 27);\n",
    "   (\"Ciro Immobile\", \"it ITA\", \"FW\", \"Lazio\", \"itSerie A\", 31, 31, 27);\n",
    "   (\"Wissam Ben Yedder\", \"fr FRA\", \"FW\", \"Monaco\", \"frLigue 1\", 30, 37, 25);\n",
    "   (\"Patrik Schick\", \"cz CZE\", \"FW\", \"Leverkusen\", \"deBundesliga\", 25, 27, 24);\n",
    "   (\"Son Heung-min\", \"kr KOR\", \"MF,FW\", \"Tottenham\", \"engPremier League\", 29,\n",
    "    35, 23)]\n",
    "```\n",
    "\n",
    "\u003c/details\u003e\n",
    "\u003c/span\u003e\n",
    "\u003c/p\u003e\n",
    "\u003c/div\u003e\n",
    "\n"
   ]
  }
,
  {
   "cell_type": "code",
   "metadata": {
    "dotnet_interactive": {
     "language": "fsharp"
    },
    "polyglot_notebook": {
     "kernelName": "fsharp"
    }
   },
   "execution_count": null, "outputs": [],
   "source": [
    "// write your code here, see website for solution.\n"
   ]
  }
,
  {
   "cell_type": "markdown",
   "metadata": {},
   
   "source": [
    "### 3 List.distinct\n",
    "\n",
    "`List.distinct` returns the unique elements from the List.\n",
    "`[\"hello\"; \"world\"; \"hello\"; \"hi\"] |\u003e List.distinct` returns `[\"hello\"; \"world\"; \"hi\"]`\n",
    "\n",
    "Example: From `playerStatsTable` `Nation` field find the unique elements with `List.distinct`.\n",
    "\n"
   ]
  }
,
  {
   "cell_type": "code",
   "metadata": {
    "dotnet_interactive": {
     "language": "fsharp"
    },
    "polyglot_notebook": {
     "kernelName": "fsharp"
    }
   },
   "execution_count": 10, "outputs": [
          {
           "data": {
            "text/plain": ["val it: string list =",
"",
"  [\"pl POL\"; \"fr FRA\"; \"it ITA\"; \"cz CZE\"; \"kr KOR\"; \"eg EGY\"; \"no NOR\";",
"",
"   \"ar ARG\"; \"es ESP\"; \"pt POR\"; \"br BRA\"; \"eng ENG\"; \"rs SRB\"; \"sn SEN\";",
"",
"   \"tr TUR\"; \"dz ALG\"; \"be BEL\"; \"ca CAN\"; \"hr CRO\"; \"de GER\"; \"tn TUN\";",
"",
"   \"ng NGA\"; \"co COL\"; \"ci CIV\"; \"jp JPN\"; \"at AUT\"; \"zw ZIM\"; \"nl NED\";",
"",
"   \"sct SCO\"; \"uy URU\"; \"xk KVX\"; \"cm CMR\"; \"dk DEN\"; \"ml MLI\"; \"ch SUI\";",
"",
"   \"ir IRN\"; \"pe PER\"; \"\"; \"se SWE\"; \"gq EQG\"; \"ro ROU\"; \"me MNE\"]"]
        },
           "execution_count": 10,
           "metadata": {},
           "output_type": "execute_result"
          }],
   "source": [
    "playerStatsTable\n",
    "|\u003e List.map(fun x -\u003e x.Nation)\n",
    "|\u003e List.distinct\n"
   ]
  }
,
  {
   "cell_type": "markdown",
   "metadata": {},
   
   "source": [
    "* From `playerStatsTable` `League` field find the unique elements with `List.distinct`.\n",
    "\n",
    "\u003cdiv style=\"padding-left: 40px;\"\u003e\n",
    "\u003cp\u003e \n",
    "\u003cspan\u003e\n",
    "\u003cdetails\u003e\n",
    "\u003csummary\u003e\u003cp style=\"display:inline\"\u003eanswer\u003c/p\u003e\u003c/summary\u003e\n",
    "\n",
    "```\n",
    "val it: string list =\n",
    "  [\"deBundesliga\"; \"frLigue 1\"; \"esLa Liga\"; \"itSerie A\"; \"engPremier League\"]\n",
    "```\n",
    "\n",
    "\u003c/details\u003e\n",
    "\u003c/span\u003e\n",
    "\u003c/p\u003e\n",
    "\u003c/div\u003e\n",
    "\n"
   ]
  }
,
  {
   "cell_type": "code",
   "metadata": {
    "dotnet_interactive": {
     "language": "fsharp"
    },
    "polyglot_notebook": {
     "kernelName": "fsharp"
    }
   },
   "execution_count": null, "outputs": [],
   "source": [
    "// write your code here, see website for solution.\n"
   ]
  }
,
  {
   "cell_type": "markdown",
   "metadata": {},
   
   "source": [
    "### 4 List.countBy\n",
    "\n",
    "`List.countBy` returns a list of paired tuples with the unique elements and their counts.\n",
    "\n",
    "Example: From `playerStatsTable` `Team` field find the unique elements and their counts with `List.countBy`.\n",
    "\n"
   ]
  }
,
  {
   "cell_type": "code",
   "metadata": {
    "dotnet_interactive": {
     "language": "fsharp"
    },
    "polyglot_notebook": {
     "kernelName": "fsharp"
    }
   },
   "execution_count": 12, "outputs": [
          {
           "data": {
            "text/plain": ["val it: (string * int) list =",
"",
"  [(\"Bayern Munich\", 3); (\"Paris S-G\", 3); (\"Real Madrid\", 3); (\"Lazio\", 2);",
"",
"   (\"Monaco\", 3)]"]
        },
           "execution_count": 12,
           "metadata": {},
           "output_type": "execute_result"
          }],
   "source": [
    "playerStatsTable\n",
    "|\u003e List.countBy(fun x -\u003e x.Team)\n",
    "|\u003e List.truncate 5 //just to observe the first 5 rows, not a part of the exercise.\n"
   ]
  }
,
  {
   "cell_type": "markdown",
   "metadata": {},
   
   "source": [
    "* From `playerStatsTable` `League` field find the unique elements and their counts with `List.countBy`.\n",
    "\n",
    "\u003cdiv style=\"padding-left: 40px;\"\u003e\n",
    "\u003cp\u003e \n",
    "\u003cspan\u003e\n",
    "\u003cdetails\u003e\n",
    "\u003csummary\u003e\u003cp style=\"display:inline\"\u003eanswer\u003c/p\u003e\u003c/summary\u003e\n",
    "\n",
    "```\n",
    "val it: (string * int) list =\n",
    "  [(\"deBundesliga\", 36); (\"frLigue 1\", 46); (\"esLa Liga\", 30);\n",
    "   (\"itSerie A\", 52); (\"engPremier League\", 36)]\n",
    "```\n",
    "\n",
    "\u003c/details\u003e\n",
    "\u003c/span\u003e\n",
    "\u003c/p\u003e\n",
    "\u003c/div\u003e\n",
    "\n"
   ]
  }
,
  {
   "cell_type": "code",
   "metadata": {
    "dotnet_interactive": {
     "language": "fsharp"
    },
    "polyglot_notebook": {
     "kernelName": "fsharp"
    }
   },
   "execution_count": null, "outputs": [],
   "source": [
    "// write your code here, see website for solution.\n"
   ]
  }
,
  {
   "cell_type": "markdown",
   "metadata": {},
   
   "source": [
    "### 5 List.filter\n",
    "\n",
    "`List.filter` allows you to extract a subset of the dataset based on one or multiple conditions.\n",
    "\n",
    "Example: `Filter` the `playerStatsTable` to get only portuguese players. (`Nation = \"pt POR\"`).\n",
    "Remember that we have to look to the dataset to find the string correspondent to portuguese players,\n",
    "which in this case is `\"pt POR\"`\n",
    "\n"
   ]
  }
,
  {
   "cell_type": "code",
   "metadata": {
    "dotnet_interactive": {
     "language": "fsharp"
    },
    "polyglot_notebook": {
     "kernelName": "fsharp"
    }
   },
   "execution_count": 14, "outputs": [
          {
           "data": {
            "text/plain": ["val it: CsvProvider\u003c...\u003e.Row list =",
"",
"  [(\"Cristiano Ronaldo\", \"pt POR\", \"FW\", \"Manchester Utd\", \"engPremier League\",",
"",
"    36, 30, 18);",
"",
"   (\"Gonçalo Guedes\", \"pt POR\", \"FW,MF\", \"Valencia\", \"esLa Liga\", 24, 36, 11);",
"",
"   (\"Bruno Fernandes\", \"pt POR\", \"MF\", \"Manchester Utd\", \"engPremier League\",",
"",
"    26, 36, 10);",
"",
"   (\"Bernardo Silva\", \"pt POR\", \"MF,FW\", \"Manchester City\",",
"",
"    \"engPremier League\", 26, 35, 8);",
"",
"   (\"Raphaël Guerreiro\", \"pt POR\", \"DF\", \"Dortmund\", \"deBundesliga\", 27, 23, 4)]"]
        },
           "execution_count": 14,
           "metadata": {},
           "output_type": "execute_result"
          }],
   "source": [
    "playerStatsTable\n",
    "|\u003e List.filter(fun x -\u003e x.Nation = \"pt POR\")\n",
    "|\u003e List.truncate 5 //just to observe the first 5 rows, not a part of the exercise.\n"
   ]
  }
,
  {
   "cell_type": "markdown",
   "metadata": {},
   
   "source": [
    "* `Filter` the `playerStatsTable` to get only 16 year-old players. (`Age = 16`).\n",
    "\n",
    "\u003cdiv style=\"padding-left: 40px;\"\u003e\n",
    "\u003cp\u003e \n",
    "\u003cspan\u003e\n",
    "\u003cdetails\u003e\n",
    "\u003csummary\u003e\u003cp style=\"display:inline\"\u003eanswer\u003c/p\u003e\u003c/summary\u003e\n",
    "\n",
    "```\n",
    "val it: CsvProvider\u003c...\u003e.Row list = []\n",
    "```\n",
    "\n",
    "\u003c/details\u003e\n",
    "\u003c/span\u003e\n",
    "\u003c/p\u003e\n",
    "\u003c/div\u003e\n",
    "\n"
   ]
  }
,
  {
   "cell_type": "code",
   "metadata": {
    "dotnet_interactive": {
     "language": "fsharp"
    },
    "polyglot_notebook": {
     "kernelName": "fsharp"
    }
   },
   "execution_count": null, "outputs": [],
   "source": [
    "// write your code here, see website for solution.\n"
   ]
  }
,
  {
   "cell_type": "markdown",
   "metadata": {},
   
   "source": [
    "### 6 List.sort and List.sortDescending\n",
    "\n",
    "* `[1; 4; 5; 3; 6] |\u003e List.sort` returns `[1; 3; 4; 5; 6]` (ascending sort).\n",
    "\n",
    "* `[1; 4; 5; 3; 6] |\u003e List.sortDescending` returns `[6; 5; 4; 3; 1]` (descending sort).\n",
    "\n",
    "Example: map `playerStatsTable` to get a list of `Age` and sort it (ascending).\n",
    "\n",
    "Since we want to sort the age List we first use `List.map` to get only that List.\n",
    "Then we use `List.sort` to sort it.\n",
    "\n"
   ]
  }
,
  {
   "cell_type": "code",
   "metadata": {
    "dotnet_interactive": {
     "language": "fsharp"
    },
    "polyglot_notebook": {
     "kernelName": "fsharp"
    }
   },
   "execution_count": 16, "outputs": [
          {
           "data": {
            "text/plain": ["val it: int list =",
"",
"  [17; 17; 18; 18; 19; 19; 19; 19; 19; 20; 20; 20; 20; 21; 21; 21; 21; 21; 21;",
"",
"   21; 21; 21; 21; 21; 21; 21; 21; 21; 21; 22; 22; 22; 22; 22; 22; 22; 22; 22;",
"",
"   22; 22; 23; 23; 23; 23; 23; 23; 23; 23; 23; 23; 23; 23; 23; 23; 24; 24; 24;",
"",
"   24; 24; 24]"]
        },
           "execution_count": 16,
           "metadata": {},
           "output_type": "execute_result"
          }],
   "source": [
    "playerStatsTable\n",
    "|\u003e List.map(fun x -\u003e x.Age)\n",
    "|\u003e List.sort\n",
    "|\u003e List.truncate 60 //just to observe the first 60 values, not a part of the exercise.\n"
   ]
  }
,
  {
   "cell_type": "markdown",
   "metadata": {},
   
   "source": [
    "* map `playerStatsTable` to get a list of `GoalsScored` and sort it (ascending).\n",
    "Hint:\n",
    "To sort the GoalsScored List you first need to use `List.map` to get only that List.\n",
    "Then use `List.sort` to sort it.\n",
    "\n",
    "\u003cdiv style=\"padding-left: 40px;\"\u003e\n",
    "\u003cp\u003e \n",
    "\u003cspan\u003e\n",
    "\u003cdetails\u003e\n",
    "\u003csummary\u003e\u003cp style=\"display:inline\"\u003eanswer\u003c/p\u003e\u003c/summary\u003e\n",
    "\n",
    "```\n",
    "val it: int list =\n",
    "  [0; 0; 0; 0; 0; 0; 0; 0; 0; 0; 0; 0; 0; 0; 0; 0; 0; 0; 0; 0; 0; 0; 0; 0; 0;\n",
    "   1; 1; 1; 1; 1; 1; 1; 1; 1; 1; 1; 1; 1; 1; 1; 1; 1; 1; 1; 1; 1; 1; 2; 2; 2;\n",
    "   2; 2; 2; 2; 2; 2; 2; 2; 2; 2]\n",
    "```\n",
    "\n",
    "\u003c/details\u003e\n",
    "\u003c/span\u003e\n",
    "\u003c/p\u003e\n",
    "\u003c/div\u003e\n",
    "\n"
   ]
  }
,
  {
   "cell_type": "code",
   "metadata": {
    "dotnet_interactive": {
     "language": "fsharp"
    },
    "polyglot_notebook": {
     "kernelName": "fsharp"
    }
   },
   "execution_count": null, "outputs": [],
   "source": [
    "// write your code here, see website for solution.\n"
   ]
  }
,
  {
   "cell_type": "markdown",
   "metadata": {},
   
   "source": [
    "Example: Map `playerStatsTable` to get a list of `Age` and sort it (descending).\n",
    "\n",
    "Since we want to sort the age List we first use `List.map` to get only that List.\n",
    "Then we use `List.sortDescending` to sort it.\n",
    "\n"
   ]
  }
,
  {
   "cell_type": "code",
   "metadata": {
    "dotnet_interactive": {
     "language": "fsharp"
    },
    "polyglot_notebook": {
     "kernelName": "fsharp"
    }
   },
   "execution_count": 18, "outputs": [
          {
           "data": {
            "text/plain": ["val it: int list =",
"",
"  [40; 36; 36; 36; 35; 34; 34; 34; 34; 34; 34; 34; 34; 33; 33; 33; 33; 33; 33;",
"",
"   33; 33; 33; 33; 32; 32; 32; 32; 32; 32; 31; 31; 31; 31; 31; 31; 30; 30; 30;",
"",
"   30; 30; 30; 30; 30; 30; 29; 29; 29; 29; 29; 29; 29; 29; 29; 29; 29; 29; 29;",
"",
"   29; 28; 28]"]
        },
           "execution_count": 18,
           "metadata": {},
           "output_type": "execute_result"
          }],
   "source": [
    "playerStatsTable\n",
    "|\u003e List.map(fun x -\u003e x.Age)\n",
    "|\u003e List.sortDescending\n",
    "|\u003e List.truncate 60 //just to observe the first 60 values, not a part of the exercise.\n"
   ]
  }
,
  {
   "cell_type": "markdown",
   "metadata": {},
   
   "source": [
    "* Map `playerStatsTable` to get a list of `GoalsScored` and sort it (descending).\n",
    "Hint:\n",
    "To sort the GoalsScored List you first need to use `List.map` to get only that List.\n",
    "Then use `List.sortDescending` to sort it.\n",
    "\n",
    "\u003cdiv style=\"padding-left: 40px;\"\u003e\n",
    "\u003cp\u003e \n",
    "\u003cspan\u003e\n",
    "\u003cdetails\u003e\n",
    "\u003csummary\u003e\u003cp style=\"display:inline\"\u003eanswer\u003c/p\u003e\u003c/summary\u003e\n",
    "\n",
    "```\n",
    "val it: int list =\n",
    "  [35; 28; 27; 27; 25; 24; 23; 23; 22; 21; 21; 21; 20; 20; 18; 18; 17; 17; 17;\n",
    "   17; 17; 17; 16; 16; 16; 16; 16; 15; 15; 13; 13; 13; 13; 13; 12; 12; 12; 12;\n",
    "   12; 12; 11; 11; 11; 11; 11; 11; 11; 11; 11; 11; 11; 10; 10; 10; 10; 10; 10;\n",
    "   10; 10; 10]\n",
    "```\n",
    "\n",
    "\u003c/details\u003e\n",
    "\u003c/span\u003e\n",
    "\u003c/p\u003e\n",
    "\u003c/div\u003e\n",
    "\n"
   ]
  }
,
  {
   "cell_type": "code",
   "metadata": {
    "dotnet_interactive": {
     "language": "fsharp"
    },
    "polyglot_notebook": {
     "kernelName": "fsharp"
    }
   },
   "execution_count": null, "outputs": [],
   "source": [
    "// write your code here, see website for solution.\n"
   ]
  }
,
  {
   "cell_type": "markdown",
   "metadata": {},
   
   "source": [
    "### 7 List.sortBy and List.sortByDescending\n",
    "\n",
    "`List.sortBy` is very usefull to sort the dataset accordingly to a certain dataset field.\n",
    "\n",
    "Example: sort (ascending) `playerStatsTable` by `Age` (`List.sortBy`).\n",
    "\n"
   ]
  }
,
  {
   "cell_type": "code",
   "metadata": {
    "dotnet_interactive": {
     "language": "fsharp"
    },
    "polyglot_notebook": {
     "kernelName": "fsharp"
    }
   },
   "execution_count": 20, "outputs": [
          {
           "data": {
            "text/plain": ["val it: CsvProvider\u003c...\u003e.Row list =",
"",
"  [(\"Giorgio Scalvini\", \"it ITA\", \"DF,MF\", \"Atalanta\", \"itSerie A\", 17, 18, 1);",
"",
"   (\"Alejandro Primo\", \"es ESP\", \"GK\", \"Levante\", \"esLa Liga\", 17, 1, 0);",
"",
"   (\"Florian Wirtz\", \"de GER\", \"MF,FW\", \"Leverkusen\", \"deBundesliga\", 18, 24,",
"",
"    7); (\"Destiny Udogie\", \"it ITA\", \"DF\", \"Udinese\", \"itSerie A\", 18, 35, 5);",
"",
"   (\"Bukayo Saka\", \"eng ENG\", \"FW,MF\", \"Arsenal\", \"engPremier League\", 19, 38,",
"",
"    11)]"]
        },
           "execution_count": 20,
           "metadata": {},
           "output_type": "execute_result"
          }],
   "source": [
    "playerStatsTable\n",
    "|\u003e List.sortBy(fun x -\u003e x.Age)\n",
    "|\u003e List.truncate 5 //just to observe the first 5 rows, not a part of the exercise.\n"
   ]
  }
,
  {
   "cell_type": "markdown",
   "metadata": {},
   
   "source": [
    "* sort (ascending) `playerStatsTable` by `GoalsScored` (`List.sortBy`).\n",
    "\n",
    "\u003cdiv style=\"padding-left: 40px;\"\u003e\n",
    "\u003cp\u003e \n",
    "\u003cspan\u003e\n",
    "\u003cdetails\u003e\n",
    "\u003csummary\u003e\u003cp style=\"display:inline\"\u003eanswer\u003c/p\u003e\u003c/summary\u003e\n",
    "\n",
    "```\n",
    "val it: CsvProvider\u003c...\u003e.Row list =\n",
    "  [(\"Stefan Ortega\", \"de GER\", \"GK\", \"Arminia\", \"deBundesliga\", 28, 33, 0);\n",
    "   (\"Rui Patrício\", \"pt POR\", \"GK\", \"Roma\", \"itSerie A\", 33, 38, 0);\n",
    "   (\"Philipp Pentke\", \"de GER\", \"GK\", \"Hoffenheim\", \"deBundesliga\", 36, 1, 0);\n",
    "   (\"Pavao Pervan\", \"at AUT\", \"GK\", \"Wolfsburg\", \"deBundesliga\", 33, 6, 0);\n",
    "   (\"Nick Pope\", \"eng ENG\", \"GK\", \"Burnley\", \"engPremier League\", 29, 36, 0)]\n",
    "```\n",
    "\n",
    "\u003c/details\u003e\n",
    "\u003c/span\u003e\n",
    "\u003c/p\u003e\n",
    "\u003c/div\u003e\n",
    "\n"
   ]
  }
,
  {
   "cell_type": "code",
   "metadata": {
    "dotnet_interactive": {
     "language": "fsharp"
    },
    "polyglot_notebook": {
     "kernelName": "fsharp"
    }
   },
   "execution_count": null, "outputs": [],
   "source": [
    "// write your code here, see website for solution.\n"
   ]
  }
,
  {
   "cell_type": "markdown",
   "metadata": {},
   
   "source": [
    "Example: sort (descending) `playerStatsTable` by `Age` (`List.sortByDescending`).\n",
    "\n"
   ]
  }
,
  {
   "cell_type": "code",
   "metadata": {
    "dotnet_interactive": {
     "language": "fsharp"
    },
    "polyglot_notebook": {
     "kernelName": "fsharp"
    }
   },
   "execution_count": 22, "outputs": [
          {
           "data": {
            "text/plain": ["val it: CsvProvider\u003c...\u003e.Row list =",
"",
"  [(\"Gianluca Pegolo\", \"it ITA\", \"GK\", \"Sassuolo\", \"itSerie A\", 40, 1, 0);",
"",
"   (\"Cristiano Ronaldo\", \"pt POR\", \"FW\", \"Manchester Utd\", \"engPremier League\",",
"",
"    36, 30, 18);",
"",
"   (\"Fernandinho\", \"br BRA\", \"MF,DF\", \"Manchester City\", \"engPremier League\",",
"",
"    36, 19, 2);",
"",
"   (\"Philipp Pentke\", \"de GER\", \"GK\", \"Hoffenheim\", \"deBundesliga\", 36, 1, 0);",
"",
"   (\"Daniele Padelli\", \"it ITA\", \"GK\", \"Udinese\", \"itSerie A\", 35, 3, 0)]"]
        },
           "execution_count": 22,
           "metadata": {},
           "output_type": "execute_result"
          }],
   "source": [
    "playerStatsTable\n",
    "|\u003e List.sortByDescending(fun x -\u003e x.Age)\n",
    "|\u003e List.truncate 5 //just to observe the first 5 rows, not a part of the exercise.\n"
   ]
  }
,
  {
   "cell_type": "markdown",
   "metadata": {},
   
   "source": [
    "* sort (descending) `playerStatsTable` by `GoalsScored` (`List.sortByDescending`).\n",
    "\n",
    "\u003cdiv style=\"padding-left: 40px;\"\u003e\n",
    "\u003cp\u003e \n",
    "\u003cspan\u003e\n",
    "\u003cdetails\u003e\n",
    "\u003csummary\u003e\u003cp style=\"display:inline\"\u003eanswer\u003c/p\u003e\u003c/summary\u003e\n",
    "\n",
    "```\n",
    "val it: CsvProvider\u003c...\u003e.Row list =\n",
    "  [(\"Robert Lewandowski\", \"pl POL\", \"FW\", \"Bayern Munich\", \"deBundesliga\", 32,\n",
    "    34, 35);\n",
    "   (\"Kylian Mbappé\", \"fr FRA\", \"FW\", \"Paris S-G\", \"frLigue 1\", 22, 35, 28);\n",
    "   (\"Karim Benzema\", \"fr FRA\", \"FW\", \"Real Madrid\", \"esLa Liga\", 33, 32, 27);\n",
    "   (\"Ciro Immobile\", \"it ITA\", \"FW\", \"Lazio\", \"itSerie A\", 31, 31, 27);\n",
    "   (\"Wissam Ben Yedder\", \"fr FRA\", \"FW\", \"Monaco\", \"frLigue 1\", 30, 37, 25)]\n",
    "```\n",
    "\n",
    "\u003c/details\u003e\n",
    "\u003c/span\u003e\n",
    "\u003c/p\u003e\n",
    "\u003c/div\u003e\n",
    "\n"
   ]
  }
,
  {
   "cell_type": "code",
   "metadata": {
    "dotnet_interactive": {
     "language": "fsharp"
    },
    "polyglot_notebook": {
     "kernelName": "fsharp"
    }
   },
   "execution_count": null, "outputs": [],
   "source": [
    "// write your code here, see website for solution.\n"
   ]
  }
,
  {
   "cell_type": "markdown",
   "metadata": {},
   
   "source": [
    "### 8 List.splitInto\n",
    "\n",
    "`List.splitInto` is very usefull to split your dataset into multiple subsets.\n",
    "This function is commonly used to generate quantiles by splitting a sorted List.\n",
    "For instance, for investment strategies financial assets are usually sorted by a certain signal\n",
    "and then splitted into quantiles. If the signal has a positive sign, it means that the long strategy consists of going long\n",
    "on the first quantile stocks, and the long-short strategy consists of going long on the first quantile stocks and short on the last quantile stocks.\n",
    "\n",
    "Note: `List.splitInto` receives one parameter which refers to the number of groups you want to create out of the dataset.\n",
    "\n",
    "Example: Sort the `playerStatsTable` by `GoalsScored` and then split the dataset into 4 groups using `List.sortBy` and `List.splitInto`.\n",
    "\n"
   ]
  }
,
  {
   "cell_type": "code",
   "metadata": {
    "dotnet_interactive": {
     "language": "fsharp"
    },
    "polyglot_notebook": {
     "kernelName": "fsharp"
    }
   },
   "execution_count": 24, "outputs": [
          {
           "data": {
            "text/plain": ["val it: CsvProvider\u003c...\u003e.Row list list =",
"",
"  [[(\"Stefan Ortega\", \"de GER\", \"GK\", \"Arminia\", \"deBundesliga\", 28, 33, 0);",
"",
"    (\"Rui Patrício\", \"pt POR\", \"GK\", \"Roma\", \"itSerie A\", 33, 38, 0);",
"",
"    (\"Philipp Pentke\", \"de GER\", \"GK\", \"Hoffenheim\", \"deBundesliga\", 36, 1, 0);",
"",
"    (\"Pavao Pervan\", \"at AUT\", \"GK\", \"Wolfsburg\", \"deBundesliga\", 33, 6, 0);",
"",
"    (\"Nick Pope\", \"eng ENG\", \"GK\", \"Burnley\", \"engPremier League\", 29, 36, 0)];",
"",
"   [(\"Quentin Merlin\", \"fr FRA\", \"DF,MF\", \"Nantes\", \"frLigue 1\", 19, 28, 2);",
"",
"    (\"Pascal Groß\", \"de GER\", \"MF,DF\", \"Brighton\", \"engPremier League\", 30, 29,",
"",
"     2);",
"",
"    (\"Mads Pedersen\", \"dk DEN\", \"MF,DF\", \"Augsburg\", \"deBundesliga\", 24, 29, 2);",
"",
"    (\"Lukas Kübler\", \"de GER\", \"DF,MF\", \"Freiburg\", \"deBundesliga\", 28, 29, 2);",
"",
"    (\"Josan\", \"es ESP\", \"DF,MF\", \"Elche\", \"esLa Liga\", 31, 31, 2)]]"]
        },
           "execution_count": 24,
           "metadata": {},
           "output_type": "execute_result"
          }],
   "source": [
    "playerStatsTable\n",
    "|\u003e List.sortBy(fun x -\u003e x.GoalsScored)\n",
    "|\u003e List.splitInto 4\n",
    "|\u003e List.truncate 2 //just to observe the first 2 groups Lists, not a part of the exercise.\n",
    "|\u003e List.map(fun x -\u003e x |\u003e List.truncate 5) //just to observe the first 5 rows of each group List, not a part of the exercise.\n"
   ]
  }
,
  {
   "cell_type": "markdown",
   "metadata": {},
   
   "source": [
    "* Sort the `playerStatsTable` by `Age` and then split the dataset into 5 groups using `List.sortBy` and `List.splitInto`.\n",
    "\n",
    "\u003cdiv style=\"padding-left: 40px;\"\u003e\n",
    "\u003cp\u003e \n",
    "\u003cspan\u003e\n",
    "\u003cdetails\u003e\n",
    "\u003csummary\u003e\u003cp style=\"display:inline\"\u003eanswer\u003c/p\u003e\u003c/summary\u003e\n",
    "\n",
    "```\n",
    "val it: CsvProvider\u003c...\u003e.Row list list =\n",
    "  [[(\"Giorgio Scalvini\", \"it ITA\", \"DF,MF\", \"Atalanta\", \"itSerie A\", 17, 18, 1);\n",
    "    (\"Alejandro Primo\", \"es ESP\", \"GK\", \"Levante\", \"esLa Liga\", 17, 1, 0);\n",
    "    (\"Florian Wirtz\", \"de GER\", \"MF,FW\", \"Leverkusen\", \"deBundesliga\", 18, 24,\n",
    "     7); (\"Destiny Udogie\", \"it ITA\", \"DF\", \"Udinese\", \"itSerie A\", 18, 35, 5);\n",
    "    (\"Bukayo Saka\", \"eng ENG\", \"FW,MF\", \"Arsenal\", \"engPremier League\", 19, 38,\n",
    "     11)];\n",
    "   [(\"Lautaro Martínez\", \"ar ARG\", \"FW\", \"Inter\", \"itSerie A\", 23, 35, 21);\n",
    "    (\"Christopher Nkunku\", \"fr FRA\", \"FW,MF\", \"RB Leipzig\", \"deBundesliga\", 23,\n",
    "     34, 20);\n",
    "    (\"Tammy Abraham\", \"eng ENG\", \"FW\", \"Roma\", \"itSerie A\", 23, 37, 17);\n",
    "    (\"Ludovic Blas\", \"fr FRA\", \"MF,FW\", \"Nantes\", \"frLigue 1\", 23, 35, 10);\n",
    "    (\"Emmanuel Dennis\", \"ng NGA\", \"FW,MF\", \"Watford\", \"engPremier League\", 23,\n",
    "     33, 10)]]\n",
    "```\n",
    "\n",
    "\u003c/details\u003e\n",
    "\u003c/span\u003e\n",
    "\u003c/p\u003e\n",
    "\u003c/div\u003e\n",
    "\n"
   ]
  }
,
  {
   "cell_type": "code",
   "metadata": {
    "dotnet_interactive": {
     "language": "fsharp"
    },
    "polyglot_notebook": {
     "kernelName": "fsharp"
    }
   },
   "execution_count": null, "outputs": [],
   "source": [
    "// write your code here, see website for solution.\n"
   ]
  }
,
  {
   "cell_type": "markdown",
   "metadata": {},
   
   "source": [
    "### 9 List.groupBy\n",
    "\n",
    "`List.groupBy` allows you to group elements of a list.\n",
    "It takes a key-generating function and a list as inputs.\n",
    "The function is executed on each element of the List, returning a list of tuples\n",
    "where the first element of each tuple is the key and the second is a list of the elements for which the function produced that key.\n",
    "\n",
    "Example: Group the `playerStatsTable` by `Nation` using `List.groupBy`.\n",
    "\n"
   ]
  }
,
  {
   "cell_type": "code",
   "metadata": {
    "dotnet_interactive": {
     "language": "fsharp"
    },
    "polyglot_notebook": {
     "kernelName": "fsharp"
    }
   },
   "execution_count": 26, "outputs": [
          {
           "data": {
            "text/plain": ["val it: (string * CsvProvider\u003c...\u003e.Row list) list =",
"",
"  [(\"pl POL\",",
"",
"    [(\"Robert Lewandowski\", \"pl POL\", \"FW\", \"Bayern Munich\", \"deBundesliga\",",
"",
"      32, 34, 35);",
"",
"     (\"Przemysław Frankowski\", \"pl POL\", \"DF\", \"Lens\", \"frLigue 1\", 26, 37, 6);",
"",
"     (\"Matty Cash\", \"pl POL\", \"DF\", \"Aston Villa\", \"engPremier League\", 23, 38,",
"",
"      4)]);",
"",
"   (\"fr FRA\",",
"",
"    [(\"Kylian Mbappé\", \"fr FRA\", \"FW\", \"Paris S-G\", \"frLigue 1\", 22, 35, 28);",
"",
"     (\"Karim Benzema\", \"fr FRA\", \"FW\", \"Real Madrid\", \"esLa Liga\", 33, 32, 27);",
"",
"     (\"Wissam Ben Yedder\", \"fr FRA\", \"FW\", \"Monaco\", \"frLigue 1\", 30, 37, 25);",
"",
"     (\"Moussa Dembélé\", \"fr FRA\", \"FW\", \"Lyon\", \"frLigue 1\", 25, 30, 21);",
"",
"     (\"Martin Terrier\", \"fr FRA\", \"FW,MF\", \"Rennes\", \"frLigue 1\", 24, 37, 21)])]"]
        },
           "execution_count": 26,
           "metadata": {},
           "output_type": "execute_result"
          }],
   "source": [
    "playerStatsTable\n",
    "|\u003e List.groupBy(fun x -\u003e x.Nation)\n",
    "|\u003e List.truncate 2 //just to observe the first 2 groups Lists, not a part of the exercise.\n",
    "|\u003e List.map(fun (x, xs) -\u003e x, xs |\u003e List.truncate 5) //just to observe the first 5 rows of each group List, not a part of the exercise.\n"
   ]
  }
,
  {
   "cell_type": "markdown",
   "metadata": {},
   
   "source": [
    "* Group the `playerStatsTable` by `Age` using `List.groupBy`.\n",
    "\n",
    "\u003cdiv style=\"padding-left: 40px;\"\u003e\n",
    "\u003cp\u003e \n",
    "\u003cspan\u003e\n",
    "\u003cdetails\u003e\n",
    "\u003csummary\u003e\u003cp style=\"display:inline\"\u003eanswer\u003c/p\u003e\u003c/summary\u003e\n",
    "\n",
    "```\n",
    "val it: (int * CsvProvider\u003c...\u003e.Row list) list =\n",
    "  [(32,\n",
    "    [(\"Robert Lewandowski\", \"pl POL\", \"FW\", \"Bayern Munich\", \"deBundesliga\",\n",
    "      32, 34, 35);\n",
    "     (\"Marco Reus\", \"de GER\", \"MF,FW\", \"Dortmund\", \"deBundesliga\", 32, 29, 9);\n",
    "     (\"Ivan Perišić\", \"hr CRO\", \"DF\", \"Inter\", \"itSerie A\", 32, 35, 8);\n",
    "     (\"Axel Witsel\", \"be BEL\", \"MF,DF\", \"Dortmund\", \"deBundesliga\", 32, 29, 2);\n",
    "     (\"Ivan Radovanović\", \"rs SRB\", \"DF,MF\", \"Salernitana\", \"itSerie A\", 32,\n",
    "      14, 1)]);\n",
    "   (22,\n",
    "    [(\"Kylian Mbappé\", \"fr FRA\", \"FW\", \"Paris S-G\", \"frLigue 1\", 22, 35, 28);\n",
    "     (\"Gianluca Scamacca\", \"it ITA\", \"FW\", \"Sassuolo\", \"itSerie A\", 22, 36, 16);\n",
    "     (\"Moussa Diaby\", \"fr FRA\", \"FW,MF\", \"Leverkusen\", \"deBundesliga\", 22, 32,\n",
    "      13);\n",
    "     (\"Randal Kolo Muani\", \"fr FRA\", \"FW,MF\", \"Nantes\", \"frLigue 1\", 22, 36,\n",
    "      12);\n",
    "     (\"Mason Mount\", \"eng ENG\", \"MF\", \"Chelsea\", \"engPremier League\", 22, 32,\n",
    "      11)])]\n",
    "```\n",
    "\n",
    "\u003c/details\u003e\n",
    "\u003c/span\u003e\n",
    "\u003c/p\u003e\n",
    "\u003c/div\u003e\n",
    "\n"
   ]
  }
,
  {
   "cell_type": "code",
   "metadata": {
    "dotnet_interactive": {
     "language": "fsharp"
    },
    "polyglot_notebook": {
     "kernelName": "fsharp"
    }
   },
   "execution_count": null, "outputs": [],
   "source": [
    "// write your code here, see website for solution.\n"
   ]
  }
,
  {
   "cell_type": "markdown",
   "metadata": {},
   
   "source": [
    "## Statistics List Functions\n",
    "\n",
    "### 1 List.max\n",
    "\n",
    "`[1; 4; 5; 3; 6] |\u003e List.max` returns `6` (the highest value in the List).\n",
    "\n",
    "Example: Map `playerStatsTable` to get the `Age` List, and find the maximum (`List.max`).\n",
    "\n"
   ]
  }
,
  {
   "cell_type": "code",
   "metadata": {
    "dotnet_interactive": {
     "language": "fsharp"
    },
    "polyglot_notebook": {
     "kernelName": "fsharp"
    }
   },
   "execution_count": 28, "outputs": [
          {
           "data": {
            "text/plain": ["val it: int = 40"]
        },
           "execution_count": 28,
           "metadata": {},
           "output_type": "execute_result"
          }],
   "source": [
    "playerStatsTable\n",
    "|\u003e List.map(fun x -\u003e x.Age)\n",
    "|\u003e List.max\n"
   ]
  }
,
  {
   "cell_type": "markdown",
   "metadata": {},
   
   "source": [
    "* Map `playerStatsTable` to get the `GoalsScored` List, and find the maximum (`List.max`).\n",
    "\n",
    "\u003cdiv style=\"padding-left: 40px;\"\u003e\n",
    "\u003cp\u003e \n",
    "\u003cspan\u003e\n",
    "\u003cdetails\u003e\n",
    "\u003csummary\u003e\u003cp style=\"display:inline\"\u003eanswer\u003c/p\u003e\u003c/summary\u003e\n",
    "\n",
    "```\n",
    "val it: int = 35\n",
    "```\n",
    "\n",
    "\u003c/details\u003e\n",
    "\u003c/span\u003e\n",
    "\u003c/p\u003e\n",
    "\u003c/div\u003e\n",
    "\n"
   ]
  }
,
  {
   "cell_type": "code",
   "metadata": {
    "dotnet_interactive": {
     "language": "fsharp"
    },
    "polyglot_notebook": {
     "kernelName": "fsharp"
    }
   },
   "execution_count": null, "outputs": [],
   "source": [
    "// write your code here, see website for solution.\n"
   ]
  }
,
  {
   "cell_type": "markdown",
   "metadata": {},
   
   "source": [
    "### 2 List.min\n",
    "\n",
    "`[1; 4; 5; 3; 6] |\u003e List.min` returns `1` (the lowest value in the List).\n",
    "\n",
    "Example: Map `playerStatsTable` to get the `Age` List, and find the minimum (`List.min`).\n",
    "\n"
   ]
  }
,
  {
   "cell_type": "code",
   "metadata": {
    "dotnet_interactive": {
     "language": "fsharp"
    },
    "polyglot_notebook": {
     "kernelName": "fsharp"
    }
   },
   "execution_count": 30, "outputs": [
          {
           "data": {
            "text/plain": ["val it: int = 17"]
        },
           "execution_count": 30,
           "metadata": {},
           "output_type": "execute_result"
          }],
   "source": [
    "playerStatsTable\n",
    "|\u003e List.map(fun x -\u003e x.Age)\n",
    "|\u003e List.min\n"
   ]
  }
,
  {
   "cell_type": "markdown",
   "metadata": {},
   
   "source": [
    "* Map `playerStatsTable` to get the `GoalsScored` List, and find the minimum (`List.min`).\n",
    "\n",
    "\u003cdiv style=\"padding-left: 40px;\"\u003e\n",
    "\u003cp\u003e \n",
    "\u003cspan\u003e\n",
    "\u003cdetails\u003e\n",
    "\u003csummary\u003e\u003cp style=\"display:inline\"\u003eanswer\u003c/p\u003e\u003c/summary\u003e\n",
    "\n",
    "```\n",
    "val it: int = 0\n",
    "```\n",
    "\n",
    "\u003c/details\u003e\n",
    "\u003c/span\u003e\n",
    "\u003c/p\u003e\n",
    "\u003c/div\u003e\n",
    "\n"
   ]
  }
,
  {
   "cell_type": "code",
   "metadata": {
    "dotnet_interactive": {
     "language": "fsharp"
    },
    "polyglot_notebook": {
     "kernelName": "fsharp"
    }
   },
   "execution_count": null, "outputs": [],
   "source": [
    "// write your code here, see website for solution.\n"
   ]
  }
,
  {
   "cell_type": "markdown",
   "metadata": {},
   
   "source": [
    "### 3 List.maxBy\n",
    "\n",
    "Sometimes you want the element with the \"maximum y\" where \"y\" is the result of applying a particular function to a list element. This is what `List.maxBy` is for. This function is best understood by seeing an example.\n",
    "\n",
    "Example: Find the player in `playerStatsTable` with the maximum `Age` using `maxBy`. What we need to do then is write a function that takes a player as input and outputs the players age. `List.maxBy` will then find the player that is the maxiumum after transforming it using this function.\n",
    "\n"
   ]
  }
,
  {
   "cell_type": "code",
   "metadata": {
    "dotnet_interactive": {
     "language": "fsharp"
    },
    "polyglot_notebook": {
     "kernelName": "fsharp"
    }
   },
   "execution_count": 32, "outputs": [
          {
           "data": {
            "text/plain": ["val it: CsvProvider\u003c...\u003e.Row =",
"",
"  (\"Gianluca Pegolo\", \"it ITA\", \"GK\", \"Sassuolo\", \"itSerie A\", 40, 1, 0)"]
        },
           "execution_count": 32,
           "metadata": {},
           "output_type": "execute_result"
          }],
   "source": [
    "playerStatsTable\n",
    "|\u003e List.maxBy(fun x -\u003e x.Age)\n"
   ]
  }
,
  {
   "cell_type": "markdown",
   "metadata": {},
   
   "source": [
    "* Find the maximum `playerStatsTable` row by `GoalsScored` using `maxBy`.\n",
    "\n",
    "\u003cdiv style=\"padding-left: 40px;\"\u003e\n",
    "\u003cp\u003e \n",
    "\u003cspan\u003e\n",
    "\u003cdetails\u003e\n",
    "\u003csummary\u003e\u003cp style=\"display:inline\"\u003eanswer\u003c/p\u003e\u003c/summary\u003e\n",
    "\n",
    "```\n",
    "val it: CsvProvider\u003c...\u003e.Row =\n",
    "  (\"Robert Lewandowski\", \"pl POL\", \"FW\", \"Bayern Munich\", \"deBundesliga\", 32,\n",
    "   34, 35)\n",
    "```\n",
    "\n",
    "\u003c/details\u003e\n",
    "\u003c/span\u003e\n",
    "\u003c/p\u003e\n",
    "\u003c/div\u003e\n",
    "\n"
   ]
  }
,
  {
   "cell_type": "code",
   "metadata": {
    "dotnet_interactive": {
     "language": "fsharp"
    },
    "polyglot_notebook": {
     "kernelName": "fsharp"
    }
   },
   "execution_count": null, "outputs": [],
   "source": [
    "// write your code here, see website for solution.\n"
   ]
  }
,
  {
   "cell_type": "markdown",
   "metadata": {},
   
   "source": [
    "### 4 List.minBy\n",
    "\n",
    "Sometimes you want the element with the \"minimum y\" where \"y\" is the result of applying a particular function to a list element. This is what `List.minBy` is for.\n",
    "\n",
    "Example: Find the player in `playerStatsTable` with the minimum `Age` using `minBy`.\n",
    "\n"
   ]
  }
,
  {
   "cell_type": "code",
   "metadata": {
    "dotnet_interactive": {
     "language": "fsharp"
    },
    "polyglot_notebook": {
     "kernelName": "fsharp"
    }
   },
   "execution_count": 34, "outputs": [
          {
           "data": {
            "text/plain": ["val it: CsvProvider\u003c...\u003e.Row =",
"",
"  (\"Giorgio Scalvini\", \"it ITA\", \"DF,MF\", \"Atalanta\", \"itSerie A\", 17, 18, 1)"]
        },
           "execution_count": 34,
           "metadata": {},
           "output_type": "execute_result"
          }],
   "source": [
    "playerStatsTable\n",
    "|\u003e List.minBy(fun x -\u003e x.Age)\n"
   ]
  }
,
  {
   "cell_type": "markdown",
   "metadata": {},
   
   "source": [
    "* Find the minimum `playerStatsTable` row by `GoalsScored` using `minBy`.\n",
    "\n",
    "\u003cdiv style=\"padding-left: 40px;\"\u003e\n",
    "\u003cp\u003e \n",
    "\u003cspan\u003e\n",
    "\u003cdetails\u003e\n",
    "\u003csummary\u003e\u003cp style=\"display:inline\"\u003eanswer\u003c/p\u003e\u003c/summary\u003e\n",
    "\n",
    "```\n",
    "val it: CsvProvider\u003c...\u003e.Row =\n",
    "  (\"Stefan Ortega\", \"de GER\", \"GK\", \"Arminia\", \"deBundesliga\", 28, 33, 0)\n",
    "```\n",
    "\n",
    "\u003c/details\u003e\n",
    "\u003c/span\u003e\n",
    "\u003c/p\u003e\n",
    "\u003c/div\u003e\n",
    "\n"
   ]
  }
,
  {
   "cell_type": "code",
   "metadata": {
    "dotnet_interactive": {
     "language": "fsharp"
    },
    "polyglot_notebook": {
     "kernelName": "fsharp"
    }
   },
   "execution_count": null, "outputs": [],
   "source": [
    "// write your code here, see website for solution.\n"
   ]
  }
,
  {
   "cell_type": "markdown",
   "metadata": {},
   
   "source": [
    "### 5 List.sum\n",
    "\n",
    "`[1; 4; 5; 3; 6] |\u003e List.sum` returns `19` (sum of the List elements).\n",
    "\n",
    "Example: Calculate the total number of years lived by all players. Hint: transform (`List.map`) each element of `playerStatsTable` into an integer representing the player\u0027s `Age` and then get the sum (`List.sum`) of all the players\u0027 ages (the result should be an `int`).\n",
    "\n"
   ]
  }
,
  {
   "cell_type": "code",
   "metadata": {
    "dotnet_interactive": {
     "language": "fsharp"
    },
    "polyglot_notebook": {
     "kernelName": "fsharp"
    }
   },
   "execution_count": 36, "outputs": [
          {
           "data": {
            "text/plain": ["val it: int = 5270"]
        },
           "execution_count": 36,
           "metadata": {},
           "output_type": "execute_result"
          }],
   "source": [
    "playerStatsTable\n",
    "|\u003e List.map(fun x -\u003e x.Age)\n",
    "|\u003e List.sum\n"
   ]
  }
,
  {
   "cell_type": "markdown",
   "metadata": {},
   
   "source": [
    "* Calculate the total goals scored (`GoalsScored`) by all players in `playerStatsTable`.\n",
    "\n",
    "\u003cdiv style=\"padding-left: 40px;\"\u003e\n",
    "\u003cp\u003e \n",
    "\u003cspan\u003e\n",
    "\u003cdetails\u003e\n",
    "\u003csummary\u003e\u003cp style=\"display:inline\"\u003eanswer\u003c/p\u003e\u003c/summary\u003e\n",
    "\n",
    "```\n",
    "val it: int = 1470\n",
    "```\n",
    "\n",
    "\u003c/details\u003e\n",
    "\u003c/span\u003e\n",
    "\u003c/p\u003e\n",
    "\u003c/div\u003e\n",
    "\n"
   ]
  }
,
  {
   "cell_type": "code",
   "metadata": {
    "dotnet_interactive": {
     "language": "fsharp"
    },
    "polyglot_notebook": {
     "kernelName": "fsharp"
    }
   },
   "execution_count": null, "outputs": [],
   "source": [
    "// write your code here, see website for solution.\n"
   ]
  }
,
  {
   "cell_type": "markdown",
   "metadata": {},
   
   "source": [
    "### 6 List.sumBy\n",
    "\n",
    "We are using a dataset that has multiple fields per List element. If you want to get the sum for particular fields it convenient to use `List.sumBy`.\n",
    "It takes a function and transforms each element using that function and afterward sums all the transformed elements. It is like an `List.map` and `List.sum` combined into one function.\n",
    "\n",
    "Example: Use `List.sumBy` to calculate the total number of years lived by all players in `playerStatsTable`. Remember that each player has lived `Age` years.\n",
    "\n"
   ]
  }
,
  {
   "cell_type": "code",
   "metadata": {
    "dotnet_interactive": {
     "language": "fsharp"
    },
    "polyglot_notebook": {
     "kernelName": "fsharp"
    }
   },
   "execution_count": 38, "outputs": [
          {
           "data": {
            "text/plain": ["val it: int = 5270"]
        },
           "execution_count": 38,
           "metadata": {},
           "output_type": "execute_result"
          }],
   "source": [
    "playerStatsTable\n",
    "|\u003e List.sumBy(fun x -\u003e x.Age)\n"
   ]
  }
,
  {
   "cell_type": "markdown",
   "metadata": {},
   
   "source": [
    "* Find the sum of the `GoalsScored` by all players in `playerStatsTable` using `List.sumBy`.\n",
    "\n",
    "\u003cdiv style=\"padding-left: 40px;\"\u003e\n",
    "\u003cp\u003e \n",
    "\u003cspan\u003e\n",
    "\u003cdetails\u003e\n",
    "\u003csummary\u003e\u003cp style=\"display:inline\"\u003eanswer\u003c/p\u003e\u003c/summary\u003e\n",
    "\n",
    "```\n",
    "val it: int = 1470\n",
    "```\n",
    "\n",
    "\u003c/details\u003e\n",
    "\u003c/span\u003e\n",
    "\u003c/p\u003e\n",
    "\u003c/div\u003e\n",
    "\n"
   ]
  }
,
  {
   "cell_type": "code",
   "metadata": {
    "dotnet_interactive": {
     "language": "fsharp"
    },
    "polyglot_notebook": {
     "kernelName": "fsharp"
    }
   },
   "execution_count": null, "outputs": [],
   "source": [
    "// write your code here, see website for solution.\n"
   ]
  }
,
  {
   "cell_type": "markdown",
   "metadata": {},
   
   "source": [
    "### 7 List.average\n",
    "\n",
    "`[1.0; 2.0; 5.0; 2.0] |\u003e List.average` returns `2.5` (the average of all the List elements).\n",
    "\n",
    "Example: Transform `playerStatsTable` into a list of the players\u0027 ages (`Age`) and find the average `Age` (`List.average`).\n",
    "The field `x.Age` needs to be transformed from `int` to `float` because `List.average` only works with `floats` or `decimals`.\n",
    "\n"
   ]
  }
,
  {
   "cell_type": "code",
   "metadata": {
    "dotnet_interactive": {
     "language": "fsharp"
    },
    "polyglot_notebook": {
     "kernelName": "fsharp"
    }
   },
   "execution_count": 40, "outputs": [
          {
           "data": {
            "text/plain": ["val it: float = 26.35"]
        },
           "execution_count": 40,
           "metadata": {},
           "output_type": "execute_result"
          }],
   "source": [
    "playerStatsTable\n",
    "|\u003e List.map(fun x -\u003e float x.Age)\n",
    "|\u003e List.average\n"
   ]
  }
,
  {
   "cell_type": "markdown",
   "metadata": {},
   
   "source": [
    "* Use `List.map` to transform `playerStatsTable` into a list of the players\u0027 `GoalsScored` and find the average `GoalsScored` (`List.average`).\n",
    "Hint: The variable `x.GoalsScored` needs to be transformed from `int` to `float` since `List.average` only works with `floats` or `decimals`.\n",
    "\n",
    "\u003cdiv style=\"padding-left: 40px;\"\u003e\n",
    "\u003cp\u003e \n",
    "\u003cspan\u003e\n",
    "\u003cdetails\u003e\n",
    "\u003csummary\u003e\u003cp style=\"display:inline\"\u003eanswer\u003c/p\u003e\u003c/summary\u003e\n",
    "\n",
    "```\n",
    "val it: float = 7.35\n",
    "```\n",
    "\n",
    "\u003c/details\u003e\n",
    "\u003c/span\u003e\n",
    "\u003c/p\u003e\n",
    "\u003c/div\u003e\n",
    "\n"
   ]
  }
,
  {
   "cell_type": "code",
   "metadata": {
    "dotnet_interactive": {
     "language": "fsharp"
    },
    "polyglot_notebook": {
     "kernelName": "fsharp"
    }
   },
   "execution_count": null, "outputs": [],
   "source": [
    "// write your code here, see website for solution.\n"
   ]
  }
,
  {
   "cell_type": "markdown",
   "metadata": {},
   
   "source": [
    "### 8 List.averageBy\n",
    "\n",
    "We are using a dataset that has multiple fields per List element. If you want to get the average for particular fields it convenient to use `List.averageBy`.\n",
    "It takes a function and transforms each element using that function and afterward averages all the transformed elements. It is like an `List.map` and `List.average` combined into one function.\n",
    "\n",
    "Example: Find the average `Age` using `List.averageBy`.\n",
    "The `Age` needs to be transformed from `int` to `float` since `List.averageBy` only works with `floats` or `decimals`.\n",
    "\n"
   ]
  }
,
  {
   "cell_type": "code",
   "metadata": {
    "dotnet_interactive": {
     "language": "fsharp"
    },
    "polyglot_notebook": {
     "kernelName": "fsharp"
    }
   },
   "execution_count": 42, "outputs": [
          {
           "data": {
            "text/plain": ["val it: float = 26.35"]
        },
           "execution_count": 42,
           "metadata": {},
           "output_type": "execute_result"
          }],
   "source": [
    "playerStatsTable\n",
    "|\u003e List.averageBy(fun x -\u003e float x.Age)\n"
   ]
  }
,
  {
   "cell_type": "markdown",
   "metadata": {},
   
   "source": [
    "* Find the average `GoalsScored` using `List.averageBy`.\n",
    "Hint: The `GoalsScored` needs to be transformed from `int` to `float` since `List.averageBy` only works with `floats` or `decimals`.\n",
    "\n",
    "\u003cdiv style=\"padding-left: 40px;\"\u003e\n",
    "\u003cp\u003e \n",
    "\u003cspan\u003e\n",
    "\u003cdetails\u003e\n",
    "\u003csummary\u003e\u003cp style=\"display:inline\"\u003eanswer\u003c/p\u003e\u003c/summary\u003e\n",
    "\n",
    "```\n",
    "val it: float = 7.35\n",
    "```\n",
    "\n",
    "\u003c/details\u003e\n",
    "\u003c/span\u003e\n",
    "\u003c/p\u003e\n",
    "\u003c/div\u003e\n",
    "\n"
   ]
  }
,
  {
   "cell_type": "code",
   "metadata": {
    "dotnet_interactive": {
     "language": "fsharp"
    },
    "polyglot_notebook": {
     "kernelName": "fsharp"
    }
   },
   "execution_count": null, "outputs": [],
   "source": [
    "// write your code here, see website for solution.\n"
   ]
  }
,
  {
   "cell_type": "markdown",
   "metadata": {},
   
   "source": [
    "### 9 Seq.stDev\n",
    "\n",
    "For `Seq.stDev` to work, we loaded the `FSharp.Stats nuget` (`#r \"nuget: FSharp.Stats, 0.5.0\"`).\n",
    "This nuget contains the standard deviation function.\n",
    "Besides this we also opened the module `FSharp.Stats` (`open FSharp.Stats`).\n",
    "[FSharp.Stats documentation](https://fslab.org/FSharp.Stats/)\n",
    "\n",
    "Example: Use `List.map` to transform `playerStatsTable` by `GoalsScored` and find the standard deviation. (`Seq.stDev`).\n",
    "Note that for `Seq.stDev` to work the values need to be `floats` or `decimals`, so we need to transform the `GoalsScored` from `int` to `float`.\n",
    "\n"
   ]
  }
,
  {
   "cell_type": "code",
   "metadata": {
    "dotnet_interactive": {
     "language": "fsharp"
    },
    "polyglot_notebook": {
     "kernelName": "fsharp"
    }
   },
   "execution_count": 44, "outputs": [
          {
           "data": {
            "text/plain": ["val it: float = 6.733811781"]
        },
           "execution_count": 44,
           "metadata": {},
           "output_type": "execute_result"
          }],
   "source": [
    "playerStatsTable\n",
    "|\u003e List.map(fun x -\u003e float x.GoalsScored)\n",
    "|\u003e Seq.stDev\n"
   ]
  }
,
  {
   "cell_type": "markdown",
   "metadata": {},
   
   "source": [
    "* Transform `playerStatsTable` into a list of the players\u0027 `Age`\u0027s and find the standard deviation. (`Seq.stDev`).\n",
    "Hint: You need to transform `Age` values from `int` to `floats`.\n",
    "\n",
    "\u003cdiv style=\"padding-left: 40px;\"\u003e\n",
    "\u003cp\u003e \n",
    "\u003cspan\u003e\n",
    "\u003cdetails\u003e\n",
    "\u003csummary\u003e\u003cp style=\"display:inline\"\u003eanswer\u003c/p\u003e\u003c/summary\u003e\n",
    "\n",
    "```\n",
    "val it: float = 4.343018426\n",
    "```\n",
    "\n",
    "\u003c/details\u003e\n",
    "\u003c/span\u003e\n",
    "\u003c/p\u003e\n",
    "\u003c/div\u003e\n",
    "\n"
   ]
  }
,
  {
   "cell_type": "code",
   "metadata": {
    "dotnet_interactive": {
     "language": "fsharp"
    },
    "polyglot_notebook": {
     "kernelName": "fsharp"
    }
   },
   "execution_count": null, "outputs": [],
   "source": [
    "// write your code here, see website for solution.\n"
   ]
  }
,
  {
   "cell_type": "markdown",
   "metadata": {},
   
   "source": [
    "### 10 Seq.pearsonOfPairs\n",
    "\n",
    "In order to perform correlations we have to load and open the namespace `FSharp.Stats`.\n",
    "Also, we `open FSharpe.Stats.Correlation` to allow a easier access to the correlation functions.\n",
    "\n",
    "It will be helpfull to check the [FSharp.Stats.Correlation Documentation](https://fslab.org/FSharp.Stats/reference/fsharp-stats-correlation-seq.html#pearson) before starting the exercises.\n",
    "\n",
    "Example: Test the correlation between `MatchesPlayed` and `GoalsScored` using `pearsonOfPairs`.\n",
    "\n",
    "`Seq.pearsonOfPairs` expects a list of tuples (x1 * x2), computing the correlation between x1 and x2.\n",
    "So we use `List.map` to get a list of tuples with (`MatchesPlayed`, `GoalsScored`).\n",
    "Then we only need to pipe (`|\u003e`) to `Seq.pearsonOfPairs`.\n",
    "\n"
   ]
  }
,
  {
   "cell_type": "code",
   "metadata": {
    "dotnet_interactive": {
     "language": "fsharp"
    },
    "polyglot_notebook": {
     "kernelName": "fsharp"
    }
   },
   "execution_count": 46, "outputs": [
          {
           "data": {
            "text/plain": ["val it: float = 0.4641226145"]
        },
           "execution_count": 46,
           "metadata": {},
           "output_type": "execute_result"
          }],
   "source": [
    "playerStatsTable\n",
    "|\u003e List.map(fun x -\u003e x.MatchesPlayed, x.GoalsScored)\n",
    "|\u003e Seq.pearsonOfPairs\n"
   ]
  }
,
  {
   "cell_type": "markdown",
   "metadata": {},
   
   "source": [
    "* Test the correlation between `MatchesPlayed` and `Age` using `pearsonOfPairs`.\n",
    "Hints:\n",
    "`Seq.pearsonOfPairs` expects a list of tuples (x1 * x2). Use `List.map` to get a list of tuples with (`MatchesPlayed`, `Age`).\n",
    "Then you only need to pipe (`|\u003e`) to `Seq.pearsonOfPairs`.\n",
    "\n",
    "\u003cdiv style=\"padding-left: 40px;\"\u003e\n",
    "\u003cp\u003e \n",
    "\u003cspan\u003e\n",
    "\u003cdetails\u003e\n",
    "\u003csummary\u003e\u003cp style=\"display:inline\"\u003eanswer\u003c/p\u003e\u003c/summary\u003e\n",
    "\n",
    "```\n",
    "val it: float = -0.07750635099\n",
    "```\n",
    "\n",
    "\u003c/details\u003e\n",
    "\u003c/span\u003e\n",
    "\u003c/p\u003e\n",
    "\u003c/div\u003e\n",
    "\n"
   ]
  }
,
  {
   "cell_type": "code",
   "metadata": {
    "dotnet_interactive": {
     "language": "fsharp"
    },
    "polyglot_notebook": {
     "kernelName": "fsharp"
    }
   },
   "execution_count": null, "outputs": [],
   "source": [
    "// write your code here, see website for solution.\n"
   ]
  }
,
  {
   "cell_type": "markdown",
   "metadata": {},
   
   "source": [
    "* Test the correlation between `GoalsScored` and `Age` using `pearsonOfPairs`.\n",
    "Hints:\n",
    "`Seq.pearsonOfPairs` expects a list of tuples (x1 * x2). Use `List.map` to get a list of tuples with (`GoalsScored`, `Age`).\n",
    "Then you only need to pipe (`|\u003e`) to `Seq.pearsonOfPairs`.\n",
    "\n",
    "\u003cdiv style=\"padding-left: 40px;\"\u003e\n",
    "\u003cp\u003e \n",
    "\u003cspan\u003e\n",
    "\u003cdetails\u003e\n",
    "\u003csummary\u003e\u003cp style=\"display:inline\"\u003eanswer\u003c/p\u003e\u003c/summary\u003e\n",
    "\n",
    "```\n",
    "val it: float = 0.01881518088\n",
    "```\n",
    "\n",
    "\u003c/details\u003e\n",
    "\u003c/span\u003e\n",
    "\u003c/p\u003e\n",
    "\u003c/div\u003e\n",
    "\n"
   ]
  }
,
  {
   "cell_type": "code",
   "metadata": {
    "dotnet_interactive": {
     "language": "fsharp"
    },
    "polyglot_notebook": {
     "kernelName": "fsharp"
    }
   },
   "execution_count": null, "outputs": [],
   "source": [
    "// write your code here, see website for solution.\n"
   ]
  }
,
  {
   "cell_type": "markdown",
   "metadata": {},
   
   "source": [
    "## Further Statistics practice\n",
    "\n",
    "Now that you should feel confortable with `List.filter`, `List.groupBy`, `List.splitInto`\n",
    "and also some f# statistics functions, let\u0027s combine those concepts together.\n",
    "\n",
    "### 1 List.countBy, List.filter and List.averageBy\n",
    "\n",
    "Example: Find the average goals scored by portuguese players.\n",
    "\n",
    "In order to find the average goals for portuguese players we know that we need to use `List.filter`.\n",
    "But we need to know what is the string correspondent to portuguese players!\n",
    "Using `List.distinct` or `List.countBy` we can observe all the `Nation` strings, which allow us to see that portuguese Nation string is `\"pt POR\"`.\n",
    "\n"
   ]
  }
,
  {
   "cell_type": "code",
   "metadata": {
    "dotnet_interactive": {
     "language": "fsharp"
    },
    "polyglot_notebook": {
     "kernelName": "fsharp"
    }
   },
   "execution_count": 49, "outputs": [],
   "source": [
    "playerStatsTable\n",
    "|\u003e List.countBy(fun x -\u003e x.Nation)\n"
   ]
  }
,
  {
   "cell_type": "markdown",
   "metadata": {},
   
   "source": [
    "Now that we know what is the Portuguese string we can filter `x.Nation = \"pt POR\"` in order to only get portuguese players\u0027 rows!\n",
    "Then we can easily pipe it (`|\u003e`) to `List.averageBy (fun x -\u003e float x.Age)` to get the average age of portuguese players.\n",
    "\n"
   ]
  }
,
  {
   "cell_type": "code",
   "metadata": {
    "dotnet_interactive": {
     "language": "fsharp"
    },
    "polyglot_notebook": {
     "kernelName": "fsharp"
    }
   },
   "execution_count": 50, "outputs": [
          {
           "data": {
            "text/plain": ["val it: float = 28.66666667"]
        },
           "execution_count": 50,
           "metadata": {},
           "output_type": "execute_result"
          }],
   "source": [
    "playerStatsTable\n",
    "|\u003e List.filter(fun x -\u003e x.Nation = \"pt POR\")\n",
    "|\u003e List.averageBy(fun x -\u003e float x.Age)\n"
   ]
  }
,
  {
   "cell_type": "markdown",
   "metadata": {},
   
   "source": [
    "* Find the average age for players playing on the Premier League  .\n",
    "Hint:\n",
    "You\u0027ll first need to use `List.filter` to get only players from the Premier League (`x.League = \"engPremier League\"`).\n",
    "Then use averageBy to compute the average by age, don\u0027t forget to use `float x.Age` to transform age values to float type.\n",
    "\n",
    "\u003cdiv style=\"padding-left: 40px;\"\u003e\n",
    "\u003cp\u003e \n",
    "\u003cspan\u003e\n",
    "\u003cdetails\u003e\n",
    "\u003csummary\u003e\u003cp style=\"display:inline\"\u003eanswer\u003c/p\u003e\u003c/summary\u003e\n",
    "\n",
    "```\n",
    "val it: float = 25.58333333\n",
    "```\n",
    "\n",
    "\u003c/details\u003e\n",
    "\u003c/span\u003e\n",
    "\u003c/p\u003e\n",
    "\u003c/div\u003e\n",
    "\n"
   ]
  }
,
  {
   "cell_type": "code",
   "metadata": {
    "dotnet_interactive": {
     "language": "fsharp"
    },
    "polyglot_notebook": {
     "kernelName": "fsharp"
    }
   },
   "execution_count": null, "outputs": [],
   "source": [
    "// write your code here, see website for solution.\n"
   ]
  }
,
  {
   "cell_type": "markdown",
   "metadata": {},
   
   "source": [
    "### 2. List.groupBy, List.map and transformations.\n",
    "\n",
    "Example: Group `playerStatsTable` by `Team` and compute the average number of `GoalsScored`.\n",
    "\n"
   ]
  }
,
  {
   "cell_type": "code",
   "metadata": {
    "dotnet_interactive": {
     "language": "fsharp"
    },
    "polyglot_notebook": {
     "kernelName": "fsharp"
    }
   },
   "execution_count": 52, "outputs": [
          {
           "data": {
            "text/plain": ["type TeamAndAvgGls =",
"",
"  {",
"",
"    Team: string",
"",
"    AvgGoalsScored: float",
"",
"  }",
"",
"val it: TeamAndAvgGls list =",
"",
"  [{ Team = \"Bayern Munich\"",
"",
"     AvgGoalsScored = 14.66666667 }; { Team = \"Paris S-G\"",
"",
"                                       AvgGoalsScored = 15.33333333 };",
"",
"   { Team = \"Real Madrid\"",
"",
"     AvgGoalsScored = 18.0 }; { Team = \"Lazio\"",
"",
"                                AvgGoalsScored = 19.0 };",
"",
"   { Team = \"Monaco\"",
"",
"     AvgGoalsScored = 11.66666667 }]"]
        },
           "execution_count": 52,
           "metadata": {},
           "output_type": "execute_result"
          }],
   "source": [
    "//example using record:\n",
    "type TeamAndAvgGls =\n",
    "    { Team : string\n",
    "      AvgGoalsScored : float }\n",
    "\n",
    "playerStatsTable\n",
    "|\u003e List.groupBy(fun x -\u003e x.Team)\n",
    "|\u003e List.map(fun (team, playerStats) -\u003e \n",
    "    { Team = team\n",
    "      AvgGoalsScored = playerStats |\u003e List.averageBy(fun playerStats -\u003e float playerStats.GoalsScored)})\n",
    "|\u003e List.truncate 5 //just to observe the first 5 rows, not a part of the exercise.\n"
   ]
  }
,
  {
   "cell_type": "markdown",
   "metadata": {},
   
   "source": [
    "or\n",
    "\n"
   ]
  }
,
  {
   "cell_type": "code",
   "metadata": {
    "dotnet_interactive": {
     "language": "fsharp"
    },
    "polyglot_notebook": {
     "kernelName": "fsharp"
    }
   },
   "execution_count": 53, "outputs": [
          {
           "data": {
            "text/plain": ["val it: (string * float) list =",
"",
"  [(\"Bayern Munich\", 14.66666667); (\"Paris S-G\", 15.33333333);",
"",
"   (\"Real Madrid\", 18.0); (\"Lazio\", 19.0); (\"Monaco\", 11.66666667)]"]
        },
           "execution_count": 53,
           "metadata": {},
           "output_type": "execute_result"
          }],
   "source": [
    "//example using tuple:\n",
    "playerStatsTable\n",
    "|\u003e List.groupBy(fun x -\u003e x.Team)\n",
    "|\u003e List.map(fun (team, playerStats) -\u003e team, playerStats |\u003e List.averageBy(fun playerStats -\u003e float playerStats.GoalsScored))\n",
    "|\u003e List.truncate 5 //just to observe the first 5 rows, not a part of the exercise.\n"
   ]
  }
,
  {
   "cell_type": "markdown",
   "metadata": {},
   
   "source": [
    "* Group `playerStatsTable` by `League` and then compute the Average `Age` by group.\n",
    "Hint: Use `groupBy` to group by league (`League`).\n",
    "Then use `averageBy` to compute the average by age (`Age`) and pipe it\n",
    "(`|\u003e`) to `List.map` to organize the data in a record or tuple with League (`League`) and Average Age.\n",
    "\n",
    "\u003cdiv style=\"padding-left: 40px;\"\u003e\n",
    "\u003cp\u003e \n",
    "\u003cspan\u003e\n",
    "\u003cdetails\u003e\n",
    "\u003csummary\u003e\u003cp style=\"display:inline\"\u003eanswer\u003c/p\u003e\u003c/summary\u003e\n",
    "\n",
    "```\n",
    "type LeagueAndAvgAge =\n",
    "  {\n",
    "    League: string\n",
    "    AverageAge: float\n",
    "  }\n",
    "val it: (string * float) list =\n",
    "  [(\"deBundesliga\", 27.11111111); (\"frLigue 1\", 25.7173913);\n",
    "   (\"esLa Liga\", 26.53333333); (\"itSerie A\", 26.80769231);\n",
    "   (\"engPremier League\", 25.58333333)]\n",
    "```\n",
    "\n",
    "\u003c/details\u003e\n",
    "\u003c/span\u003e\n",
    "\u003c/p\u003e\n",
    "\u003c/div\u003e\n",
    "\n"
   ]
  }
,
  {
   "cell_type": "code",
   "metadata": {
    "dotnet_interactive": {
     "language": "fsharp"
    },
    "polyglot_notebook": {
     "kernelName": "fsharp"
    }
   },
   "execution_count": null, "outputs": [],
   "source": [
    "// write your code here, see website for solution.\n"
   ]
  }
,
  {
   "cell_type": "markdown",
   "metadata": {},
   
   "source": [
    "### 3 List.sortDescending, List.splitInto, List.map and Seq.stDev\n",
    "\n",
    "* From `playerStatsTable` sort the players\u0027 `Age` (descending), split the dataset into quartiles (4-quantiles) and compute the standard deviation for each quantile.\n",
    "Hint: You only need the `Age` field from the dataset, so you can use `map` straight away to get the `Age` List.\n",
    "Sort that List with `List.sortDescending`, and then split it into 4 parts using `List.splitInto`.\n",
    "Finally use `List.map` to iterate through each quantile and apply the function `Seq.stDev`.\n",
    "\n",
    "\u003cdiv style=\"padding-left: 40px;\"\u003e\n",
    "\u003cp\u003e \n",
    "\u003cspan\u003e\n",
    "\u003cdetails\u003e\n",
    "\u003csummary\u003e\u003cp style=\"display:inline\"\u003eanswer\u003c/p\u003e\u003c/summary\u003e\n",
    "\n",
    "```\n",
    "val it: float list = [2.294714424; 0.9082389329; 0.9171829097; 1.59604102]\n",
    "```\n",
    "\n",
    "\u003c/details\u003e\n",
    "\u003c/span\u003e\n",
    "\u003c/p\u003e\n",
    "\u003c/div\u003e\n",
    "\n"
   ]
  }
,
  {
   "cell_type": "code",
   "metadata": {
    "dotnet_interactive": {
     "language": "fsharp"
    },
    "polyglot_notebook": {
     "kernelName": "fsharp"
    }
   },
   "execution_count": null, "outputs": [],
   "source": [
    "// write your code here, see website for solution.\n"
   ]
  }
 ],
 "metadata": {
  "kernelspec": {
   "display_name": ".NET (F#)",
   "language": "F#",
   "name": ".net-fsharp"
  },
  "language_info": {
   "file_extension": ".fs",
   "mimetype": "text/x-fsharp",
   "name": "polyglot-notebook",
   "pygments_lexer": "fsharp"
  },
  "polyglot_notebook": {
   "kernelInfo": {
    "defaultKernelName": "fsharp",
    "items": [
     {
      "aliases": [],
      "languageName": "fsharp",
      "name": "fsharp"
     }
    ]
   }
  }
 },
 "nbformat": 4,
 "nbformat_minor": 2
}

