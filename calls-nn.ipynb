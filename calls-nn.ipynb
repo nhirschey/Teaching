
{
 "cells": [
  {
   "cell_type": "markdown",
   "metadata": {},
   
   "source": [
    "[![Binder](https://colab.research.google.com/assets/colab-badge.svg)](https://colab.research.google.com/github/nhirschey/teaching/blob/gh-pages/calls-nn.ipynb)\u0026emsp;\n",
    "[![Binder](img/badge-binder.svg)](https://mybinder.org/v2/gh/nhirschey/teaching/gh-pages?filepath=calls-nn.ipynb)\u0026emsp;\n",
    "[![Script](img/badge-script.svg)](/Teaching//calls-nn.fsx)\u0026emsp;\n",
    "[![Notebook](img/badge-notebook.svg)](/Teaching//calls-nn.ipynb)\n",
    "\n"
   ]
  }
,
  {
   "cell_type": "code",
   "metadata": {
    "dotnet_interactive": {
     "language": "fsharp"
    },
    "polyglot_notebook": {
     "kernelName": "fsharp"
    }
   },
   "execution_count": null, "outputs": [],
   "source": [
    "// Google Colab only: uncomment and run the following to install dotnet and the F# kernel\n",
    "// !bash \u003c(curl -Ls https://raw.githubusercontent.com/gbaydin/scripts/main/colab_dotnet6.sh)\n"
   ]
  }
,
  {
   "cell_type": "code",
   "metadata": {
    "dotnet_interactive": {
     "language": "fsharp"
    },
    "polyglot_notebook": {
     "kernelName": "fsharp"
    }
   },
   "execution_count": null, "outputs": [],
   "source": [
    "#r \"nuget:FSharp.Stats\"\n",
    "// Use lite if you\u0027re on Apple Silicon\n",
    "//#r \"nuget:DiffSharp-lite,1.0.7\"\n",
    "// Use CPU if you\u0027re on Windows/Linux/Intel Mac\n",
    "#r \"nuget: DiffSharp-cpu,1.0.7\"\n",
    "\n",
    "open DiffSharp\n",
    "open DiffSharp.Compose\n",
    "open DiffSharp.Model\n",
    "open DiffSharp.Data\n",
    "open DiffSharp.Optim\n",
    "open DiffSharp.Util\n",
    "open DiffSharp.Distributions\n",
    "\n",
    "open System\n",
    "open System.IO\n",
    "open System.IO.Compression\n",
    "open System.Text.Json\n",
    "\n",
    "Environment.CurrentDirectory \u003c- __SOURCE_DIRECTORY__\n",
    "\n",
    "dsharp.seed(1)\n"
   ]
  }
,
  {
   "cell_type": "code",
   "metadata": {
    "dotnet_interactive": {
     "language": "fsharp"
    },
    "polyglot_notebook": {
     "kernelName": "fsharp"
    }
   },
   "execution_count": null, "outputs": [],
   "source": [
    "// Set dotnet interactive formatter to plaintext\n",
    "Formatter.Register(fun (x:obj) (writer: TextWriter) -\u003e fprintfn writer \"%120A\" x )\n",
    "Formatter.SetPreferredMimeTypesFor(typeof\u003cobj\u003e, \"text/plain\")\n"
   ]
  }
,
  {
   "cell_type": "markdown",
   "metadata": {},
   
   "source": [
    "Below is some temp fixes for rnn state saving until the next DiffSharp release comes out. DiffSharp is in active development and a fix is in process.\n",
    "\n"
   ]
  }
,
  {
   "cell_type": "code",
   "metadata": {
    "dotnet_interactive": {
     "language": "fsharp"
    },
    "polyglot_notebook": {
     "kernelName": "fsharp"
    }
   },
   "execution_count": null, "outputs": [],
   "source": [
    "type ModelBase with\n",
    "    member m.saveState2(fileName, ?noDiff:bool) =\n",
    "        let noDiff = defaultArg noDiff true\n",
    "        let ss =\n",
    "            if noDiff then \n",
    "                let ss = m.state.copy()\n",
    "                ss.noDiff()\n",
    "                ss\n",
    "            else m.state\n",
    "        saveBinary ss fileName\n",
    "    member m.loadState2(filename) =\n",
    "        let s:ParameterDict = loadBinary filename\n",
    "        m.state.iter(fun (n,p) -\u003e p.value \u003c- s[n])\n"
   ]
  }
,
  {
   "cell_type": "markdown",
   "metadata": {},
   
   "source": [
    "## Data\n",
    "\n",
    "We\u0027ll use a dataset containing transcripts of quarterly conference calls from NASADAQ100 companies from 2018 to 2021. Let\u0027s download that.\n",
    "\n"
   ]
  }
,
  {
   "cell_type": "code",
   "metadata": {
    "dotnet_interactive": {
     "language": "fsharp"
    },
    "polyglot_notebook": {
     "kernelName": "fsharp"
    }
   },
   "execution_count": null, "outputs": [],
   "source": [
    "let gunzip (inputFile:string) (outputFile:string) =\n",
    "    Directory.CreateDirectory(Path.GetDirectoryName(outputFile)) |\u003e ignore\n",
    "    if File.Exists(outputFile) then File.Delete(outputFile)\n",
    "    use inputStream = File.OpenRead(inputFile)\n",
    "    use outputStream = File.Create(outputFile)\n",
    "    use gzipStream = new GZipStream(inputStream, CompressionMode.Decompress)\n",
    "    gzipStream.CopyTo(outputStream)\n",
    "\n",
    "let nq100FullUrl = \"https://www.dropbox.com/s/izcsjp06lgwbauu/Nasdaq100CallFull.json.gz?dl=1\"\n",
    "let dataFolder = \"data\"\n",
    "let nqFullFile = Path.Combine(dataFolder, \"Nasdaq100CallFull.json\")\n",
    "let nq100FullFileGz = nqFullFile.Replace(\".json\", \".json.gz\")\n",
    "\n",
    "download nq100FullUrl nq100FullFileGz\n",
    "gunzip nq100FullFileGz nqFullFile\n"
   ]
  }
,
  {
   "cell_type": "markdown",
   "metadata": {},
   
   "source": [
    "Read the downloaded data into a list\n",
    "\n"
   ]
  }
,
  {
   "cell_type": "code",
   "metadata": {
    "dotnet_interactive": {
     "language": "fsharp"
    },
    "polyglot_notebook": {
     "kernelName": "fsharp"
    }
   },
   "execution_count": null, "outputs": [],
   "source": [
    "// Types - Earnings Announcement\n",
    "type CallId =\n",
    "    { Ticker: string\n",
    "      Exchange: string\n",
    "      FiscalQuarter: int\n",
    "      Date: DateTime }\n",
    "\n",
    "type CallFull = \n",
    "    { CallId: CallId\n",
    "      Header: string\n",
    "      PreparedRemarks: string\n",
    "      QuestionsAndAnswers: string\n",
    "      Label: float }\n",
    "\n",
    "let corpus = \n",
    "    File.ReadAllText(nqFullFile)\n",
    "    |\u003e JsonSerializer.Deserialize\u003cList\u003cCallFull\u003e\u003e\n",
    "    |\u003e List.map (fun x -\u003e \n",
    "        let toTake = min 10_000 x.QuestionsAndAnswers.Length-1\n",
    "        x.QuestionsAndAnswers[..toTake])\n",
    "    |\u003e String.concat \" \"\n",
    "\n",
    "corpus.Length\n",
    "\n",
    "corpus[..500]\n"
   ]
  }
,
  {
   "cell_type": "markdown",
   "metadata": {},
   
   "source": [
    "Set up the NN model.\n",
    "\n"
   ]
  }
,
  {
   "cell_type": "code",
   "metadata": {
    "dotnet_interactive": {
     "language": "fsharp"
    },
    "polyglot_notebook": {
     "kernelName": "fsharp"
    }
   },
   "execution_count": null, "outputs": [],
   "source": [
    "let seqLen = 64\n",
    "let batchSize = 16\n",
    "let hiddenSize = 512\n",
    "let numLayers = 2\n"
   ]
  }
,
  {
   "cell_type": "markdown",
   "metadata": {},
   
   "source": [
    "Convert the text into tensor datasets.\n",
    "\n"
   ]
  }
,
  {
   "cell_type": "code",
   "metadata": {
    "dotnet_interactive": {
     "language": "fsharp"
    },
    "polyglot_notebook": {
     "kernelName": "fsharp"
    }
   },
   "execution_count": null, "outputs": [],
   "source": [
    "let dataset = TextDataset(corpus, seqLen)\n",
    "let loader = dataset.loader(batchSize=batchSize, shuffle=true)\n"
   ]
  }
,
  {
   "cell_type": "markdown",
   "metadata": {},
   
   "source": [
    "the total number of characters in the dataset:\n",
    "\n"
   ]
  }
,
  {
   "cell_type": "code",
   "metadata": {
    "dotnet_interactive": {
     "language": "fsharp"
    },
    "polyglot_notebook": {
     "kernelName": "fsharp"
    }
   },
   "execution_count": null, "outputs": [],
   "source": [
    "dataset.numChars\n"
   ]
  }
,
  {
   "cell_type": "markdown",
   "metadata": {},
   
   "source": [
    "the unique characters are:\n",
    "\n"
   ]
  }
,
  {
   "cell_type": "code",
   "metadata": {
    "dotnet_interactive": {
     "language": "fsharp"
    },
    "polyglot_notebook": {
     "kernelName": "fsharp"
    }
   },
   "execution_count": null, "outputs": [],
   "source": [
    "dataset.chars\n"
   ]
  }
,
  {
   "cell_type": "markdown",
   "metadata": {},
   
   "source": [
    "Actual model definition\n",
    "\n"
   ]
  }
,
  {
   "cell_type": "code",
   "metadata": {
    "dotnet_interactive": {
     "language": "fsharp"
    },
    "polyglot_notebook": {
     "kernelName": "fsharp"
    }
   },
   "execution_count": null, "outputs": [],
   "source": [
    "let rnn = LSTM(dataset.numChars, hiddenSize, numLayers=numLayers, batchFirst=true)\n",
    "let decoder = dsharp.view([-1; hiddenSize]) --\u003e Linear(hiddenSize, dataset.numChars)\n",
    "let languageModel = rnn --\u003e decoder\n",
    "\n",
    "printfn \"%s\" (languageModel.summary())\n"
   ]
  }
,
  {
   "cell_type": "markdown",
   "metadata": {},
   
   "source": [
    "If we want to retrain from a saved model.\n",
    "\n"
   ]
  }
,
  {
   "cell_type": "code",
   "metadata": {
    "dotnet_interactive": {
     "language": "fsharp"
    },
    "polyglot_notebook": {
     "kernelName": "fsharp"
    }
   },
   "execution_count": null, "outputs": [],
   "source": [
    "let modelFileName = \"data/rnn_language_model_1.07.params\"\n",
    "\n",
    "// You cannot load a model currently in .net notebooks.\n",
    "// You will need to use a script to load model state.\n",
    "if false then // keep this false to use a local  model.\n",
    "    let modelUrl = \"https://www.dropbox.com/s/zzm2lrzbwwigzc8/rnn_language_model_1.07.params?dl=1\"\n",
    "    download modelUrl modelFileName // downloads pre-trained model.\n",
    "\n",
    "if File.Exists(modelFileName) then \n",
    "    printfn \"Resuming training from existing model params found: %A\" modelFileName\n",
    "    languageModel.loadState2(modelFileName)\n"
   ]
  }
,
  {
   "cell_type": "markdown",
   "metadata": {},
   
   "source": [
    "Prediction function.\n",
    "\n"
   ]
  }
,
  {
   "cell_type": "code",
   "metadata": {
    "dotnet_interactive": {
     "language": "fsharp"
    },
    "polyglot_notebook": {
     "kernelName": "fsharp"
    }
   },
   "execution_count": null, "outputs": [],
   "source": [
    "let predict (text:string) len =\n",
    "    rnn.reset()\n",
    "    let mutable prediction = text\n",
    "    let mutable last = text\n",
    "    for i in 1..len do\n",
    "        let lastTensor = last |\u003e dataset.textToTensor\n",
    "        let nextCharProbs = lastTensor.unsqueeze(0) --\u003e languageModel --\u003e dsharp.slice([-1]) --\u003e dsharp.softmax(-1)\n",
    "        last \u003c- Categorical(nextCharProbs).sample() |\u003e int |\u003e dataset.indexToChar |\u003e string\n",
    "        prediction \u003c- prediction + last\n",
    "    prediction\n"
   ]
  }
,
  {
   "cell_type": "markdown",
   "metadata": {},
   
   "source": [
    "Test a prediction.\n",
    "\n"
   ]
  }
,
  {
   "cell_type": "code",
   "metadata": {
    "dotnet_interactive": {
     "language": "fsharp"
    },
    "polyglot_notebook": {
     "kernelName": "fsharp"
    }
   },
   "execution_count": null, "outputs": [],
   "source": [
    "predict \"Analyst What do you expect for gross margins next quarter?\" 512\n"
   ]
  }
,
  {
   "cell_type": "markdown",
   "metadata": {},
   
   "source": [
    "The actual model training.\n",
    "\n"
   ]
  }
,
  {
   "cell_type": "code",
   "metadata": {
    "dotnet_interactive": {
     "language": "fsharp"
    },
    "polyglot_notebook": {
     "kernelName": "fsharp"
    }
   },
   "execution_count": null, "outputs": [],
   "source": [
    "let optimizer = Adam(languageModel, lr=dsharp.tensor(0.001))\n",
    "\n",
    "let losses = ResizeArray\u003cfloat\u003e()\n",
    "\n",
    "let epochs = 10\n",
    "let validInterval = 100\n",
    "\n",
    "let start = System.DateTime.Now\n",
    "for epoch = 1 to epochs do\n",
    "    for i, x, t in loader.epoch() do\n",
    "        let input =  x[*,..seqLen-2]\n",
    "        let target = t[*,1..]\n",
    "        rnn.reset()\n",
    "        languageModel.reverseDiff()\n",
    "        let output = input --\u003e languageModel\n",
    "        let loss = dsharp.crossEntropyLoss(output, target.view(-1))\n",
    "        loss.reverse()\n",
    "        optimizer.step()\n",
    "        losses.Add(float loss)\n",
    "        printfn \"%A Epoch: %A/%A minibatch: %A/%A loss: %A\" (System.DateTime.Now - start) epoch epochs (i+1) loader.length (float loss)\n",
    "\n",
    "        if i % validInterval = 0 then\n",
    "            printfn \"\\nSample from language model:\\n%A\\n\" (predict \"Analyst Yes, I guess the first question,\" 512)\n",
    "\n",
    "            languageModel.saveState2(modelFileName)\n",
    "\n",
    "        // free tensor memory, especially useful with GPU.\n",
    "        GC.Collect() \n"
   ]
  }
 ],
 "metadata": {
  "kernelspec": {
   "display_name": ".NET (F#)",
   "language": "F#",
   "name": ".net-fsharp"
  },
  "language_info": {
   "file_extension": ".fs",
   "mimetype": "text/x-fsharp",
   "name": "polyglot-notebook",
   "pygments_lexer": "fsharp"
  },
  "polyglot_notebook": {
   "kernelInfo": {
    "defaultKernelName": "fsharp",
    "items": [
     {
      "aliases": [],
      "languageName": "fsharp",
      "name": "fsharp"
     }
    ]
   }
  }
 },
 "nbformat": 4,
 "nbformat_minor": 2
}

