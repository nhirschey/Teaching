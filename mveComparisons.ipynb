
{
 "cells": [
  {
   "cell_type": "markdown",
   "metadata": {},
   
   "source": [
    "[![Binder](img/badge-binder.svg)](https://mybinder.org/v2/gh/nhirschey/teaching/gh-pages?filepath=mveComparisons.ipynb)\u0026emsp;\n",
    "[![Script](img/badge-script.svg)](/Teaching//mveComparisons.fsx)\u0026emsp;\n",
    "[![Notebook](img/badge-notebook.svg)](/Teaching//mveComparisons.ipynb)\n",
    "\n",
    "# Objectives\n",
    "\n",
    "## Loading Fama and French data\n",
    "\n"
   ]
  }
,
  {
   "cell_type": "code",
   "metadata": {
    "dotnet_interactive": {
     "language": "fsharp"
    },
    "polyglot_notebook": {
     "kernelName": "fsharp"
    }
   },
   "execution_count": 1, "outputs": [],
   "source": [
    "#r \"nuget: FSharp.Data, 5.0.2\"\n",
    "#r \"nuget: NovaSBE.Finance, 0.5.0\"\n",
    "#r \"nuget: FSharp.Stats, 0.5.0\"\n",
    "#r \"nuget: Plotly.NET, 3.*\"\n",
    "#r \"nuget: Plotly.NET.Interactive, 3.*\"\n",
    "\n",
    "open System\n",
    "open FSharp.Data\n",
    "open FSharp.Stats\n",
    "open Plotly.NET\n",
    "open NovaSBE.Finance.French\n",
    "\n",
    "let ff3 = getFF3 Frequency.Daily \n"
   ]
  }
,
  {
   "cell_type": "markdown",
   "metadata": {},
   
   "source": [
    "Some volatility functions.\n",
    "\n",
    "First the input/output data types.\n",
    "\n"
   ]
  }
,
  {
   "cell_type": "code",
   "metadata": {
    "dotnet_interactive": {
     "language": "fsharp"
    },
    "polyglot_notebook": {
     "kernelName": "fsharp"
    }
   },
   "execution_count": 2, "outputs": [],
   "source": [
    "type ReturnObs = { Date: DateTime; Return: float}\n",
    "\n",
    "type VolatilityPrediction = \n",
    "    { /// First date the prediction is valid for\n",
    "      Date: DateTime\n",
    "      /// The volatility prediction\n",
    "      PredictedVol: float }\n"
   ]
  }
,
  {
   "cell_type": "markdown",
   "metadata": {},
   
   "source": [
    "Some test data with increasing dates and random returns.\n",
    "\n"
   ]
  }
,
  {
   "cell_type": "code",
   "metadata": {
    "dotnet_interactive": {
     "language": "fsharp"
    },
    "polyglot_notebook": {
     "kernelName": "fsharp"
    }
   },
   "execution_count": 3, "outputs": [],
   "source": [
    "let seed = 99\n",
    "Random.SetSampleGenerator(Random.RandThreadSafe(seed))\n",
    "\n",
    "// Let\u0027s start with this sample of returns\n",
    "let rnorm =  Distributions.Continuous.Normal.Init 0.01 1.0\n",
    "let testData = \n",
    "    [| for i=1 to 100 do \n",
    "        { Date = DateTime(2010, 1, 1).AddDays(float i); \n",
    "          Return = rnorm.Sample() }\n",
    "    |]\n"
   ]
  }
,
  {
   "cell_type": "markdown",
   "metadata": {},
   
   "source": [
    "The first example we\u0027ll use is an expanding window of volatility.\n",
    "\n"
   ]
  }
,
  {
   "cell_type": "code",
   "metadata": {
    "dotnet_interactive": {
     "language": "fsharp"
    },
    "polyglot_notebook": {
     "kernelName": "fsharp"
    }
   },
   "execution_count": 4, "outputs": [],
   "source": [
    "/// \u003csummary\u003eCalculates sample average expanding window volatility.\u003c/summary\u003e\n",
    "let expandingWindowVol (data: array\u003cReturnObs\u003e) =\n",
    "    [| for i=2 to data.Length-1 do \n",
    "        let sd = data[..i-1] |\u003e Array.map (fun x -\u003e x.Return) |\u003e stDev\n",
    "        { VolatilityPrediction.Date = data[i].Date; PredictedVol = sd }\n",
    "    |]\n"
   ]
  }
,
  {
   "cell_type": "markdown",
   "metadata": {},
   
   "source": [
    "Let\u0027s try it with our test data.\n",
    "\n"
   ]
  }
,
  {
   "cell_type": "code",
   "metadata": {
    "dotnet_interactive": {
     "language": "fsharp"
    },
    "polyglot_notebook": {
     "kernelName": "fsharp"
    }
   },
   "execution_count": 5, "outputs": [],
   "source": [
    "let expandingWindowVolsTest = expandingWindowVol testData\n"
   ]
  }
,
  {
   "cell_type": "markdown",
   "metadata": {},
   
   "source": [
    "First few observations.\n",
    "\n"
   ]
  }
,
  {
   "cell_type": "code",
   "metadata": {
    "dotnet_interactive": {
     "language": "fsharp"
    },
    "polyglot_notebook": {
     "kernelName": "fsharp"
    }
   },
   "execution_count": 6, "outputs": [],
   "source": [
    "expandingWindowVolsTest[..3]\n"
   ]
  }
,
  {
   "cell_type": "markdown",
   "metadata": {},
   
   "source": [
    "Last few observations.\n",
    "\n"
   ]
  }
,
  {
   "cell_type": "code",
   "metadata": {
    "dotnet_interactive": {
     "language": "fsharp"
    },
    "polyglot_notebook": {
     "kernelName": "fsharp"
    }
   },
   "execution_count": 7, "outputs": [],
   "source": [
    "expandingWindowVolsTest[expandingWindowVolsTest.Length-4..]\n"
   ]
  }
,
  {
   "cell_type": "markdown",
   "metadata": {},
   
   "source": [
    "Rolling window volatility.\n",
    "\n"
   ]
  }
,
  {
   "cell_type": "code",
   "metadata": {
    "dotnet_interactive": {
     "language": "fsharp"
    },
    "polyglot_notebook": {
     "kernelName": "fsharp"
    }
   },
   "execution_count": 8, "outputs": [],
   "source": [
    "/// \u003csummary\u003eCalculates realized volatity of a return observation \n",
    "/// over a rolling window of past observations.\u003c/summary\u003e\n",
    "/// \u003cparam name=\"width\"\u003eThe window width for calculating realized vol.\u003c/param\u003e\n",
    "/// \u003cparam name=\"data\"\u003eThe input data\u003c/param\u003e\n",
    "/// \u003creturns\u003eA prediction and date the prediction is valid for.\u003c/returns\u003e\n",
    "let rollingVol (width: int) (data: array\u003cReturnObs\u003e) =\n",
    "    data\n",
    "    |\u003e Array.sortBy (fun x -\u003e x.Date)\n",
    "    |\u003e Array.windowed (width + 1)\n",
    "    |\u003e Array.map (fun window -\u003e\n",
    "        let sd =\n",
    "            window \n",
    "            |\u003e Array.take width \n",
    "            |\u003e Array.map (fun x -\u003e x.Return) \n",
    "            |\u003e stDev\n",
    "        let last = window |\u003e Array.last\n",
    "        { VolatilityPrediction.Date = last.Date; PredictedVol = sd })\n"
   ]
  }
,
  {
   "cell_type": "markdown",
   "metadata": {},
   
   "source": [
    "Calculated using our test data\n",
    "\n"
   ]
  }
,
  {
   "cell_type": "code",
   "metadata": {
    "dotnet_interactive": {
     "language": "fsharp"
    },
    "polyglot_notebook": {
     "kernelName": "fsharp"
    }
   },
   "execution_count": 9, "outputs": [],
   "source": [
    "let rollingVolTest = rollingVol 22 testData\n"
   ]
  }
,
  {
   "cell_type": "markdown",
   "metadata": {},
   
   "source": [
    "First few observations.\n",
    "\n"
   ]
  }
,
  {
   "cell_type": "code",
   "metadata": {
    "dotnet_interactive": {
     "language": "fsharp"
    },
    "polyglot_notebook": {
     "kernelName": "fsharp"
    }
   },
   "execution_count": 10, "outputs": [],
   "source": [
    "rollingVolTest[..3]\n"
   ]
  }
,
  {
   "cell_type": "markdown",
   "metadata": {},
   
   "source": [
    "Last few observations.\n",
    "\n"
   ]
  }
,
  {
   "cell_type": "code",
   "metadata": {
    "dotnet_interactive": {
     "language": "fsharp"
    },
    "polyglot_notebook": {
     "kernelName": "fsharp"
    }
   },
   "execution_count": 11, "outputs": [],
   "source": [
    "rollingVolTest[rollingVolTest.Length-4..]\n"
   ]
  }
,
  {
   "cell_type": "markdown",
   "metadata": {},
   
   "source": [
    "Exponential weight volatility.\n",
    "\n"
   ]
  }
,
  {
   "cell_type": "code",
   "metadata": {
    "dotnet_interactive": {
     "language": "fsharp"
    },
    "polyglot_notebook": {
     "kernelName": "fsharp"
    }
   },
   "execution_count": 12, "outputs": [],
   "source": [
    "/// \u003csummary\u003eCalculates realized volatity of a return observation using an exponential weight.\u003c/summary\u003e\n",
    "/// \u003cparam name=\"width\"\u003eThe window width for calculating realized vol.\u003c/param\u003e\n",
    "/// \u003cparam name=\"lambda\"\u003eThe exponential weight\u003c/param\u003e\n",
    "/// \u003cparam name=\"data\"\u003eThe input data\u003c/param\u003e\n",
    "/// \u003creturns\u003eA prediction and date the prediction is valid for.\u003c/returns\u003e\n",
    "let expRealizedVol (width: int) (lambda: float) (data: array\u003cReturnObs\u003e) =\n",
    "    data\n",
    "    |\u003e Array.sortByDescending (fun x -\u003e x.Date)\n",
    "    |\u003e Array.windowed (width + 1)\n",
    "    |\u003e Array.Parallel.map (fun window -\u003e\n",
    "        let mu = window[1..] |\u003e Array.averageBy (fun x -\u003e x.Return)\n",
    "        let mutable acc = 0.0\n",
    "        for t = 1 to width do \n",
    "            let w = (1.0 - lambda)*lambda**(float t - 1.0)\n",
    "            acc \u003c- acc + w * (window[t].Return - mu)**2.0\n",
    "        { VolatilityPrediction.Date = window[0].Date; PredictedVol = sqrt acc })\n",
    "    |\u003e Array.rev\n"
   ]
  }
,
  {
   "cell_type": "markdown",
   "metadata": {},
   
   "source": [
    "Calculated using our test data.\n",
    "\n"
   ]
  }
,
  {
   "cell_type": "code",
   "metadata": {
    "dotnet_interactive": {
     "language": "fsharp"
    },
    "polyglot_notebook": {
     "kernelName": "fsharp"
    }
   },
   "execution_count": 13, "outputs": [],
   "source": [
    "let expRealizedVolTest = expRealizedVol 50 0.94 testData\n"
   ]
  }
,
  {
   "cell_type": "markdown",
   "metadata": {},
   
   "source": [
    "First few observations.\n",
    "\n"
   ]
  }
,
  {
   "cell_type": "code",
   "metadata": {
    "dotnet_interactive": {
     "language": "fsharp"
    },
    "polyglot_notebook": {
     "kernelName": "fsharp"
    }
   },
   "execution_count": 14, "outputs": [],
   "source": [
    "expRealizedVolTest[..3]\n"
   ]
  }
,
  {
   "cell_type": "markdown",
   "metadata": {},
   
   "source": [
    "Last few observations.\n",
    "\n"
   ]
  }
,
  {
   "cell_type": "code",
   "metadata": {
    "dotnet_interactive": {
     "language": "fsharp"
    },
    "polyglot_notebook": {
     "kernelName": "fsharp"
    }
   },
   "execution_count": 15, "outputs": [],
   "source": [
    "expRealizedVolTest[expRealizedVolTest.Length-4..]\n"
   ]
  }
,
  {
   "cell_type": "markdown",
   "metadata": {},
   
   "source": [
    "Now a plot of all of them together.\n",
    "\n"
   ]
  }
,
  {
   "cell_type": "code",
   "metadata": {
    "dotnet_interactive": {
     "language": "fsharp"
    },
    "polyglot_notebook": {
     "kernelName": "fsharp"
    }
   },
   "execution_count": 16, "outputs": [],
   "source": [
    "let combinedTestData = \n",
    "    [ expandingWindowVolsTest, \"expanding window\"\n",
    "      rollingVolTest, \"realized\"\n",
    "      expRealizedVolTest, \"exp realized\" ]\n",
    "\n",
    "[ for (vols, name) in combinedTestData do\n",
    "    let dataForChart = vols |\u003e Array.map (fun x -\u003e x.Date, x.PredictedVol)\n",
    "    Chart.Line(dataForChart,Name=name) ]\n",
    "|\u003e Chart.combine\n"
   ]
  }
,
  {
   "cell_type": "markdown",
   "metadata": {},
   
   "source": [
    "## Return predictions\n",
    "\n"
   ]
  }
,
  {
   "cell_type": "code",
   "metadata": {
    "dotnet_interactive": {
     "language": "fsharp"
    },
    "polyglot_notebook": {
     "kernelName": "fsharp"
    }
   },
   "execution_count": 17, "outputs": [],
   "source": [
    "type ReturnPrediction = { Date: DateTime; PredictedReturn: float }\n",
    "\n",
    "let avgReturnAccumulator (xs: array\u003cReturnObs\u003e) =\n",
    "    let mutable acc = 0.0\n",
    "    [| for i=0 to (xs.Length-2) do\n",
    "        acc \u003c- acc + xs[i].Return\n",
    "        let avgReturn = acc / float (i + 1)\n",
    "        { Date = xs[i+1].Date; PredictedReturn = avgReturn } |]\n"
   ]
  }
,
  {
   "cell_type": "markdown",
   "metadata": {},
   
   "source": [
    "Test it.\n",
    "\n"
   ]
  }
,
  {
   "cell_type": "code",
   "metadata": {
    "dotnet_interactive": {
     "language": "fsharp"
    },
    "polyglot_notebook": {
     "kernelName": "fsharp"
    }
   },
   "execution_count": 18, "outputs": [],
   "source": [
    "testData\n",
    "|\u003e avgReturnAccumulator\n",
    "|\u003e Array.map (fun x -\u003e x.Date, x.PredictedReturn)\n",
    "|\u003e Chart.Line\n"
   ]
  }
,
  {
   "cell_type": "markdown",
   "metadata": {},
   
   "source": [
    "## Combining predictions\n",
    "\n",
    "Now form portfolios based on these predictions.\n",
    "\n"
   ]
  }
,
  {
   "cell_type": "code",
   "metadata": {
    "dotnet_interactive": {
     "language": "fsharp"
    },
    "polyglot_notebook": {
     "kernelName": "fsharp"
    }
   },
   "execution_count": 19, "outputs": [],
   "source": [
    "type VolAndReturnPrediction = { Date: DateTime; PredictedVol: float; PredictedReturn: float }\n",
    "\n",
    "let combinePredictions (predReturns: seq\u003cReturnPrediction\u003e) (predVols: seq\u003cVolatilityPrediction\u003e) =\n",
    "    let predVols = \n",
    "        predVols \n",
    "        |\u003e Seq.map (fun x -\u003e x.Date, x.PredictedVol) \n",
    "        |\u003e Map\n",
    "    [ for retObs in predReturns do \n",
    "        if predVols.ContainsKey retObs.Date then\n",
    "            { Date = retObs.Date \n",
    "              PredictedVol = predVols[retObs.Date]\n",
    "              PredictedReturn = retObs.PredictedReturn } ]\n"
   ]
  }
,
  {
   "cell_type": "markdown",
   "metadata": {},
   
   "source": [
    "Now let\u0027s have a function that creates returns off of that.\n",
    "\n"
   ]
  }
,
  {
   "cell_type": "code",
   "metadata": {
    "dotnet_interactive": {
     "language": "fsharp"
    },
    "polyglot_notebook": {
     "kernelName": "fsharp"
    }
   },
   "execution_count": 20, "outputs": [],
   "source": [
    "let managedPortfolio gamma predVols predReturns (xs: seq\u003cReturnObs\u003e) =\n",
    "    let preds = \n",
    "        combinePredictions predReturns predVols\n",
    "        |\u003e Seq.map (fun x -\u003e x.Date, x)\n",
    "        |\u003e Map\n",
    "    [| for x in xs do \n",
    "        if preds.ContainsKey x.Date then\n",
    "            let pred = preds[x.Date]\n",
    "            let w = pred.PredictedReturn / (gamma* pred.PredictedVol ** 2.0)\n",
    "            { Date = x.Date\n",
    "              Return = w * x.Return } |]\n"
   ]
  }
,
  {
   "cell_type": "markdown",
   "metadata": {},
   
   "source": [
    "Let\u0027s compare results for our 3 volatility predictions.\n",
    "\n",
    "First, expected returns.\n",
    "\n"
   ]
  }
,
  {
   "cell_type": "code",
   "metadata": {
    "dotnet_interactive": {
     "language": "fsharp"
    },
    "polyglot_notebook": {
     "kernelName": "fsharp"
    }
   },
   "execution_count": 21, "outputs": [],
   "source": [
    "let retObs = ff3 |\u003e Array.map (fun x -\u003e { Date = x.Date; Return = x.MktRf })\n",
    "\n",
    "let expectedRet = \n",
    "    retObs\n",
    "    |\u003e avgReturnAccumulator\n"
   ]
  }
,
  {
   "cell_type": "markdown",
   "metadata": {},
   
   "source": [
    "Plot it.\n",
    "\n"
   ]
  }
,
  {
   "cell_type": "code",
   "metadata": {
    "dotnet_interactive": {
     "language": "fsharp"
    },
    "polyglot_notebook": {
     "kernelName": "fsharp"
    }
   },
   "execution_count": 22, "outputs": [],
   "source": [
    "expectedRet\n",
    "|\u003e Array.map (fun x -\u003e x.Date, x.PredictedReturn)\n",
    "|\u003e Chart.Line\n"
   ]
  }
,
  {
   "cell_type": "markdown",
   "metadata": {},
   
   "source": [
    "Optimal portfolios using our expected returns and expected vols.\n",
    "\n"
   ]
  }
,
  {
   "cell_type": "code",
   "metadata": {
    "dotnet_interactive": {
     "language": "fsharp"
    },
    "polyglot_notebook": {
     "kernelName": "fsharp"
    }
   },
   "execution_count": 23, "outputs": [],
   "source": [
    "let expandingVols = expandingWindowVol retObs\n",
    "let rollingVols = rollingVol 22 retObs\n",
    "let exponentialVols = expRealizedVol 500 0.94 retObs\n"
   ]
  }
,
  {
   "cell_type": "markdown",
   "metadata": {},
   
   "source": [
    "The portfolios.\n",
    "\n"
   ]
  }
,
  {
   "cell_type": "code",
   "metadata": {
    "dotnet_interactive": {
     "language": "fsharp"
    },
    "polyglot_notebook": {
     "kernelName": "fsharp"
    }
   },
   "execution_count": 24, "outputs": [],
   "source": [
    "let expandingVolPort  = managedPortfolio 3.0 expandingVols expectedRet retObs\n",
    "let rollingVolPort = managedPortfolio 3.0 rollingVols expectedRet retObs\n",
    "let exponentialVolPort = managedPortfolio 3.0 exponentialVols expectedRet retObs\n"
   ]
  }
,
  {
   "cell_type": "markdown",
   "metadata": {},
   
   "source": [
    "Let\u0027s plot these.\n",
    "\n"
   ]
  }
,
  {
   "cell_type": "code",
   "metadata": {
    "dotnet_interactive": {
     "language": "fsharp"
    },
    "polyglot_notebook": {
     "kernelName": "fsharp"
    }
   },
   "execution_count": 25, "outputs": [],
   "source": [
    "let retAsTuple (xs: array\u003cReturnObs\u003e) = xs |\u003e Array.map (fun x -\u003e x.Date, x.Return)\n",
    "\n",
    "let cumulativeReturns (xs: array\u003cDateTime * float\u003e) =\n",
    "    let xs = xs |\u003e Array.sortBy (fun (dt, r) -\u003e dt)\n",
    "    let mutable accRet = 0.0\n",
    "    [| for (dt, r) in xs do\n",
    "        let cr = (1.0 + accRet) * (1.0 + r) - 1.0\n",
    "        let broke = -1.0 + epsilon\n",
    "        accRet \u003c- max broke cr\n",
    "        (dt, accRet) |]\n",
    "\n",
    "open Plotly.NET.LayoutObjects\n",
    "\n",
    "let plotCumulativeReturns name (xs: array\u003cDateTime * float\u003e) =\n",
    "    let xsFromOne = \n",
    "        xs\n",
    "        |\u003e Array.map (fun (dt, r) -\u003e dt, 1.0 + r)\n",
    "    Chart.Line(xsFromOne, Name=name)\n",
    "    |\u003e Chart.withYAxisStyle(AxisType = StyleParam.AxisType.Log)\n",
    "\n",
    "[ expandingVolPort, \"expandingVol\"\n",
    "  rollingVolPort, \"rollingVol\"\n",
    "  exponentialVolPort, \"exponentialVol\" ]\n",
    "|\u003e List.map (fun (port, name) -\u003e\n",
    "    port\n",
    "    |\u003e retAsTuple\n",
    "    |\u003e cumulativeReturns\n",
    "    |\u003e plotCumulativeReturns name)\n",
    "|\u003e Chart.combine\n",
    "|\u003e Chart.show\n",
    "\n",
    "expandingVolPort\n",
    "|\u003e retAsTuple\n",
    "|\u003e cumulativeReturns\n",
    "|\u003e plotCumulativeReturns \"expandingVol\"\n",
    "|\u003e Chart.show\n"
   ]
  }
 ],
 "metadata": {
  "kernelspec": {
   "display_name": ".NET (F#)",
   "language": "F#",
   "name": ".net-fsharp"
  },
  "language_info": {
   "file_extension": ".fs",
   "mimetype": "text/x-fsharp",
   "name": "polyglot-notebook",
   "pygments_lexer": "fsharp"
  },
  "polyglot_notebook": {
   "kernelInfo": {
    "defaultKernelName": "fsharp",
    "items": [
     {
      "aliases": [],
      "languageName": "fsharp",
      "name": "fsharp"
     }
    ]
   }
  }
 },
 "nbformat": 4,
 "nbformat_minor": 2
}

