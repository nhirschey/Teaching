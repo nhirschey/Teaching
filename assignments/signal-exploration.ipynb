
{
 "cells": [
  {
   "cell_type": "markdown",
   "metadata": {},
   
   "source": [
    "[![Binder](../img/badge-binder.svg)](https://mybinder.org/v2/gh/nhirschey/teaching/gh-pages?filepath=assignments/signal-exploration.ipynb)\u0026emsp;\n",
    "[![Script](../img/badge-script.svg)](/Teaching//assignments/signal-exploration.fsx)\u0026emsp;\n",
    "[![Notebook](../img/badge-notebook.svg)](/Teaching//assignments/signal-exploration.ipynb)\n",
    "\n",
    "Group Name:\n",
    "\n",
    "Student Name | Student Number\n",
    "--- | ---\n",
    "**1:** | \u0026#32;\n",
    "**2:** | \u0026#32;\n",
    "**3:** | \u0026#32;\n",
    "**4:** | \u0026#32;\n",
    "**5:** | \u0026#32;\n",
    "\n",
    "\n",
    "This is an assignment. You should work in groups. Please write your group and group member names above. You will find sections labeled **Task** asking you to do each piece of analysis. Please make sure that you complete all of these tasks. I included some tests to help you see if you are calculating the solution correctly, but if you cannot get the test to pass submit your best attempt and you may recieve partial credit.\n",
    "\n",
    "All work that you submit should be your own. Make use of the course resources and example code on the course website. It should be possible to complete all the requested tasks using information given below or somewhere on the course website.\n",
    "\n",
    "Load libraries.\n",
    "\n"
   ]
  }
,
  {
   "cell_type": "code",
   "metadata": {
    "dotnet_interactive": {
     "language": "fsharp"
    },
    "polyglot_notebook": {
     "kernelName": "fsharp"
    }
   },
   "execution_count": 1, "outputs": [],
   "source": [
    "#r \"nuget: FSharp.Data, 5.0.2\"\n",
    "#r \"nuget: FSharp.Stats, 0.5.0\"\n",
    "#r \"nuget: Plotly.NET, 3.*\"\n",
    "#r \"nuget: Plotly.NET.Interactive, 3.*\"\n",
    "#r \"nuget: MathNet.Numerics\"\n",
    "#r \"nuget: MathNet.Numerics.FSharp\"\n",
    "\n",
    "open System\n",
    "open FSharp.Data\n",
    "open FSharp.Stats\n",
    "open Plotly.NET\n",
    "open MathNet.Numerics.Statistics\n"
   ]
  }
,
  {
   "cell_type": "markdown",
   "metadata": {},
   
   "source": [
    "### First, make sure that you\u0027re referencing the correct files.\n",
    "\n",
    "You\u0027re going to write code to explore an investment signal. The investment signals can be downloaded from moodle. You are free to use whichever signal you want. It does not have to be the signal that you are using for your final project.\n",
    "\n",
    "Here I\u0027m assuming that you have a class folder with this `signal-exploration.ipynb` notebook and a `data` folder inside of it. The folder hierarchy would look like below where you\n",
    "have the below files and folders accessible:\n",
    "\n",
    "```code\n",
    "/class\n",
    "    signal-exploration.ipynb\n",
    "    id_and_return_data.csv\n",
    "    zero_trades_252d.csv\n",
    "    \n",
    "```\n",
    "\n",
    "First, make sure that our working directory is the source file directory.\n",
    "\n"
   ]
  }
,
  {
   "cell_type": "code",
   "metadata": {
    "dotnet_interactive": {
     "language": "fsharp"
    },
    "polyglot_notebook": {
     "kernelName": "fsharp"
    }
   },
   "execution_count": 2, "outputs": [],
   "source": [
    "let [\u003cLiteral\u003e] ResolutionFolder = __SOURCE_DIRECTORY__\n",
    "Environment.CurrentDirectory \u003c- ResolutionFolder\n"
   ]
  }
,
  {
   "cell_type": "markdown",
   "metadata": {},
   
   "source": [
    "We assume the `id_and_return_data.csv` file and the signal csv file  are in the `data` folder. In this example the signal file is `zero_trades_252d.csv`. You should replace that file name with your signal file name.\n",
    "\n"
   ]
  }
,
  {
   "cell_type": "code",
   "metadata": {
    "dotnet_interactive": {
     "language": "fsharp"
    },
    "polyglot_notebook": {
     "kernelName": "fsharp"
    }
   },
   "execution_count": 3, "outputs": [],
   "source": [
    "let [\u003cLiteral\u003e] IdAndReturnsFilePath = \"id_and_return_data.csv\"\n",
    "let [\u003cLiteral\u003e] MySignalFilePath = \"zero_trades_252d.csv\"\n"
   ]
  }
,
  {
   "cell_type": "markdown",
   "metadata": {},
   
   "source": [
    "## Input data\n",
    "\n",
    "First, let\u0027s verify that the csv file exists where we think it will be.\n",
    "\n"
   ]
  }
,
  {
   "cell_type": "code",
   "metadata": {
    "dotnet_interactive": {
     "language": "fsharp"
    },
    "polyglot_notebook": {
     "kernelName": "fsharp"
    }
   },
   "execution_count": 4, "outputs": [],
   "source": [
    "if IO.File.Exists(ResolutionFolder + \"/\" + IdAndReturnsFilePath) \u0026\u0026\n",
    "   IO.File.Exists(ResolutionFolder + \"/\" + MySignalFilePath) then \n",
    "    printfn \"Success!!\"\n",
    "else\n",
    "    let filesThere = IO.Directory.EnumerateFiles(\n",
    "        ResolutionFolder,\n",
    "        searchPattern = \"*\",\n",
    "        searchOption=IO.SearchOption.AllDirectories)\n",
    "    printfn \"We did not find the files. Here are the files in your source directory.\\n\"\n",
    "    filesThere |\u003e Seq.iteri (printfn \"%i. %A\")\n"
   ]
  }
,
  {
   "cell_type": "markdown",
   "metadata": {},
   
   "source": [
    "Assuming that you got \"Success!!\" above this code below will work.\n",
    "\n",
    "If my paths are correct, then this code should read the first few lines of the files.\n",
    "If it doesn\u0027t show the first few lines, fix the above file paths.\n",
    "\n"
   ]
  }
,
  {
   "cell_type": "code",
   "metadata": {
    "dotnet_interactive": {
     "language": "fsharp"
    },
    "polyglot_notebook": {
     "kernelName": "fsharp"
    }
   },
   "execution_count": 5, "outputs": [],
   "source": [
    "IO.File.ReadLines(IdAndReturnsFilePath) |\u003e Seq.truncate 5\n"
   ]
  }
,
  {
   "cell_type": "code",
   "metadata": {
    "dotnet_interactive": {
     "language": "fsharp"
    },
    "polyglot_notebook": {
     "kernelName": "fsharp"
    }
   },
   "execution_count": 6, "outputs": [],
   "source": [
    "IO.File.ReadLines(MySignalFilePath) |\u003e Seq.truncate 5\n"
   ]
  }
,
  {
   "cell_type": "markdown",
   "metadata": {},
   
   "source": [
    "Assuming the paths are defined correctly and you saw the first 5 rows above,\n",
    "we can now read the data using the CSV provider that parses the fields in the file.\n",
    "\n",
    "First define the Csv types from the sample files:\n",
    "\n"
   ]
  }
,
  {
   "cell_type": "code",
   "metadata": {
    "dotnet_interactive": {
     "language": "fsharp"
    },
    "polyglot_notebook": {
     "kernelName": "fsharp"
    }
   },
   "execution_count": 7, "outputs": [],
   "source": [
    "type IdAndReturnsType = \n",
    "    CsvProvider\u003cSample=IdAndReturnsFilePath,\n",
    "                ResolutionFolder=ResolutionFolder\u003e\n",
    "\n",
    "type MySignalType = \n",
    "    CsvProvider\u003cMySignalFilePath,\n",
    "                ResolutionFolder=ResolutionFolder\u003e\n"
   ]
  }
,
  {
   "cell_type": "markdown",
   "metadata": {},
   
   "source": [
    "Now read in the data.\n",
    "\n"
   ]
  }
,
  {
   "cell_type": "code",
   "metadata": {
    "dotnet_interactive": {
     "language": "fsharp"
    },
    "polyglot_notebook": {
     "kernelName": "fsharp"
    }
   },
   "execution_count": 8, "outputs": [],
   "source": [
    "let idAndReturnsCsv = IdAndReturnsType.GetSample()\n",
    "\n",
    "let mySignalCsv = MySignalType.GetSample()\n",
    "    \n"
   ]
  }
,
  {
   "cell_type": "markdown",
   "metadata": {},
   
   "source": [
    "Columns in the `idAndReturnsCsv` are:\n",
    "\n"
   ]
  }
,
  {
   "cell_type": "code",
   "metadata": {
    "dotnet_interactive": {
     "language": "fsharp"
    },
    "polyglot_notebook": {
     "kernelName": "fsharp"
    }
   },
   "execution_count": 9, "outputs": [],
   "source": [
    "idAndReturnsCsv.Headers\n"
   ]
  }
,
  {
   "cell_type": "markdown",
   "metadata": {},
   
   "source": [
    "Columns in the `mySignalCsv` are:\n",
    "\n"
   ]
  }
,
  {
   "cell_type": "code",
   "metadata": {
    "dotnet_interactive": {
     "language": "fsharp"
    },
    "polyglot_notebook": {
     "kernelName": "fsharp"
    }
   },
   "execution_count": 10, "outputs": [],
   "source": [
    "mySignalCsv.Headers\n"
   ]
  }
,
  {
   "cell_type": "markdown",
   "metadata": {},
   
   "source": [
    "There are a lot of columns in the id and returns csv. You can look at the data documentation to figure out what they are.\n",
    "\n",
    "Put the rows into a list (we\u0027re more familiar with lists).\n",
    "\n"
   ]
  }
,
  {
   "cell_type": "code",
   "metadata": {
    "dotnet_interactive": {
     "language": "fsharp"
    },
    "polyglot_notebook": {
     "kernelName": "fsharp"
    }
   },
   "execution_count": 11, "outputs": [],
   "source": [
    "let idAndReturnsRows = idAndReturnsCsv.Rows |\u003e Seq.toList\n",
    "let mySignalRows = mySignalCsv.Rows |\u003e Seq.toList\n"
   ]
  }
,
  {
   "cell_type": "markdown",
   "metadata": {},
   
   "source": [
    "### Distribution of unique stocks in the id and returns data\n",
    "\n",
    "To get you started, I will walk you through some simple analysis of the id and returns data.\n",
    "\n",
    "Count the total number of stocks.\n",
    "\n",
    "First, look at a few ids\n",
    "\n"
   ]
  }
,
  {
   "cell_type": "code",
   "metadata": {
    "dotnet_interactive": {
     "language": "fsharp"
    },
    "polyglot_notebook": {
     "kernelName": "fsharp"
    }
   },
   "execution_count": 12, "outputs": [],
   "source": [
    "idAndReturnsRows\n",
    "|\u003e List.map (fun row -\u003e row.Id)\n",
    "|\u003e List.truncate 5\n"
   ]
  }
,
  {
   "cell_type": "markdown",
   "metadata": {},
   
   "source": [
    "Now count all of them.\n",
    "\n"
   ]
  }
,
  {
   "cell_type": "code",
   "metadata": {
    "dotnet_interactive": {
     "language": "fsharp"
    },
    "polyglot_notebook": {
     "kernelName": "fsharp"
    }
   },
   "execution_count": 13, "outputs": [],
   "source": [
    "idAndReturnsRows\n",
    "|\u003e List.map (fun row -\u003e row.Id)\n",
    "|\u003e List.distinct\n",
    "|\u003e List.length\n"
   ]
  }
,
  {
   "cell_type": "markdown",
   "metadata": {},
   
   "source": [
    "Number of stocks each month.\n",
    "\n",
    "First look at the date column\n",
    "\n"
   ]
  }
,
  {
   "cell_type": "code",
   "metadata": {
    "dotnet_interactive": {
     "language": "fsharp"
    },
    "polyglot_notebook": {
     "kernelName": "fsharp"
    }
   },
   "execution_count": 14, "outputs": [],
   "source": [
    "idAndReturnsRows\n",
    "|\u003e List.map (fun row -\u003e row.Eom)\n",
    "|\u003e List.truncate 5\n"
   ]
  }
,
  {
   "cell_type": "markdown",
   "metadata": {},
   
   "source": [
    "Group by month, then count per month.\n",
    "\n"
   ]
  }
,
  {
   "cell_type": "code",
   "metadata": {
    "dotnet_interactive": {
     "language": "fsharp"
    },
    "polyglot_notebook": {
     "kernelName": "fsharp"
    }
   },
   "execution_count": 15, "outputs": [],
   "source": [
    "let idAndReturnStocksPerMonth =\n",
    "    let byMonth =\n",
    "        idAndReturnsRows\n",
    "        |\u003e List.groupBy (fun row -\u003e row.Eom)\n",
    "        |\u003e List.sortBy (fun (month, rows) -\u003e month)\n",
    "    [ for (month, rows) in byMonth do\n",
    "        let nStocks = \n",
    "            rows\n",
    "            |\u003e List.map (fun row -\u003e row.Id)\n",
    "            |\u003e List.distinct\n",
    "            |\u003e List.length\n",
    "        month, nStocks ]\n"
   ]
  }
,
  {
   "cell_type": "markdown",
   "metadata": {},
   
   "source": [
    "Look at a first few months.\n",
    "\n"
   ]
  }
,
  {
   "cell_type": "code",
   "metadata": {
    "dotnet_interactive": {
     "language": "fsharp"
    },
    "polyglot_notebook": {
     "kernelName": "fsharp"
    }
   },
   "execution_count": 16, "outputs": [],
   "source": [
    "idAndReturnStocksPerMonth\n",
    "|\u003e List.sortBy (fun (month, nStocks) -\u003e month) \n",
    "|\u003e List.truncate 5\n"
   ]
  }
,
  {
   "cell_type": "markdown",
   "metadata": {},
   
   "source": [
    "Look at the last few.\n",
    "\n"
   ]
  }
,
  {
   "cell_type": "code",
   "metadata": {
    "dotnet_interactive": {
     "language": "fsharp"
    },
    "polyglot_notebook": {
     "kernelName": "fsharp"
    }
   },
   "execution_count": 17, "outputs": [],
   "source": [
    "idAndReturnStocksPerMonth\n",
    "|\u003e List.sortByDescending (fun (month, nStocks) -\u003e month)\n",
    "|\u003e List.truncate 5\n"
   ]
  }
,
  {
   "cell_type": "markdown",
   "metadata": {},
   
   "source": [
    "Create a column chart showing the number of stocks per month (Plotly.net column chart [docs](https://plotly.net/02_1_bar-and-column-charts.html)).\n",
    "\n"
   ]
  }
,
  {
   "cell_type": "code",
   "metadata": {
    "dotnet_interactive": {
     "language": "fsharp"
    },
    "polyglot_notebook": {
     "kernelName": "fsharp"
    }
   },
   "execution_count": 18, "outputs": [],
   "source": [
    "idAndReturnStocksPerMonth\n",
    "|\u003e Chart.Column\n"
   ]
  }
,
  {
   "cell_type": "markdown",
   "metadata": {},
   
   "source": [
    "Add some lables to the axes (Plotly.net axis styling [docs](https://plotly.net/01_0_axis-styling.html)).\n",
    "\n"
   ]
  }
,
  {
   "cell_type": "code",
   "metadata": {
    "dotnet_interactive": {
     "language": "fsharp"
    },
    "polyglot_notebook": {
     "kernelName": "fsharp"
    }
   },
   "execution_count": 19, "outputs": [],
   "source": [
    "idAndReturnStocksPerMonth\n",
    "|\u003e List.sortBy (fun (month, nStocks) -\u003e month)\n",
    "|\u003e Chart.Column\n",
    "|\u003e Chart.withXAxisStyle (TitleText=\"Month\")\n",
    "|\u003e Chart.withYAxisStyle (TitleText=\"Number of Stocks\")\n"
   ]
  }
,
  {
   "cell_type": "markdown",
   "metadata": {},
   
   "source": [
    "We have some different size groups already assigned in the data:\n",
    "\n"
   ]
  }
,
  {
   "cell_type": "code",
   "metadata": {
    "dotnet_interactive": {
     "language": "fsharp"
    },
    "polyglot_notebook": {
     "kernelName": "fsharp"
    }
   },
   "execution_count": 20, "outputs": [],
   "source": [
    "idAndReturnsRows\n",
    "|\u003e List.countBy (fun row -\u003e row.SizeGrp)\n"
   ]
  }
,
  {
   "cell_type": "markdown",
   "metadata": {},
   
   "source": [
    "Let\u0027s make a plot with separate bars for each group in 2015. You can read more about multiple charts in the Plotly.net [docs](https://plotly.net/01_2_multiple-charts.html).\n",
    "\n",
    "We\u0027ll write a function. We need to give a type hint so that\n",
    "it knows the type of the input data. If we didn\u0027t include the type hint, we\u0027d get an error saying \u0027Lookup of indeterminate type ..\u0027 because it doesn\u0027t know the data type of the \u0027rows\u0027 input. The type hint the  `: list\u003cIdAndReturnsType.Row\u003e` part of the function definition.\n",
    "This is saying we have a list of rows from the CsvProvider type that we defined earlier for this csv file data.\n",
    "\n"
   ]
  }
,
  {
   "cell_type": "code",
   "metadata": {
    "dotnet_interactive": {
     "language": "fsharp"
    },
    "polyglot_notebook": {
     "kernelName": "fsharp"
    }
   },
   "execution_count": 21, "outputs": [],
   "source": [
    "let countIdAndReturnsRows (rows: list\u003cIdAndReturnsType.Row\u003e) =\n",
    "    let byMonth =\n",
    "        rows\n",
    "        |\u003e List.groupBy (fun row -\u003e row.Eom)\n",
    "        |\u003e List.sortBy (fun (month, rows) -\u003e month)\n",
    "    [ for (month, rows) in byMonth do\n",
    "        let nStocks = \n",
    "            rows\n",
    "            |\u003e List.map (fun row -\u003e row.Id)\n",
    "            |\u003e List.distinct\n",
    "            |\u003e List.length\n",
    "        month, nStocks ]\n"
   ]
  }
,
  {
   "cell_type": "markdown",
   "metadata": {},
   
   "source": [
    "Look at the function output. It is a list of tuples where each tuple is a pair of month (`DateTime`) and the count (`int`).\n",
    "\n"
   ]
  }
,
  {
   "cell_type": "code",
   "metadata": {
    "dotnet_interactive": {
     "language": "fsharp"
    },
    "polyglot_notebook": {
     "kernelName": "fsharp"
    }
   },
   "execution_count": 22, "outputs": [],
   "source": [
    "idAndReturnsRows\n",
    "|\u003e countIdAndReturnsRows\n",
    "|\u003e List.truncate 3\n"
   ]
  }
,
  {
   "cell_type": "markdown",
   "metadata": {},
   
   "source": [
    "Just for large caps.\n",
    "\n"
   ]
  }
,
  {
   "cell_type": "code",
   "metadata": {
    "dotnet_interactive": {
     "language": "fsharp"
    },
    "polyglot_notebook": {
     "kernelName": "fsharp"
    }
   },
   "execution_count": 23, "outputs": [],
   "source": [
    "let stockCountsLarge =\n",
    "    let toPlot = \n",
    "        idAndReturnsRows\n",
    "        |\u003e List.filter (fun row -\u003e \n",
    "            row.SizeGrp = \"large\" \u0026\u0026 \n",
    "            row.Eom.Year = 2015)\n",
    "        |\u003e countIdAndReturnsRows\n",
    "    Chart.Column(toPlot, Name = \"Large caps\")\n",
    "\n",
    "stockCountsLarge\n"
   ]
  }
,
  {
   "cell_type": "markdown",
   "metadata": {},
   
   "source": [
    "Just for small caps.\n",
    "\n"
   ]
  }
,
  {
   "cell_type": "code",
   "metadata": {
    "dotnet_interactive": {
     "language": "fsharp"
    },
    "polyglot_notebook": {
     "kernelName": "fsharp"
    }
   },
   "execution_count": 24, "outputs": [],
   "source": [
    "let stockCountsSmall =\n",
    "    let toPlot = \n",
    "        idAndReturnsRows\n",
    "        |\u003e List.filter (fun row -\u003e \n",
    "            row.SizeGrp = \"small\" \u0026\u0026\n",
    "            row.Eom.Year = 2015)\n",
    "        |\u003e countIdAndReturnsRows\n",
    "    Chart.Column(toPlot, Name = \"Small caps\")\n",
    "\n",
    "stockCountsSmall\n"
   ]
  }
,
  {
   "cell_type": "markdown",
   "metadata": {},
   
   "source": [
    "combined:\n",
    "\n"
   ]
  }
,
  {
   "cell_type": "code",
   "metadata": {
    "dotnet_interactive": {
     "language": "fsharp"
    },
    "polyglot_notebook": {
     "kernelName": "fsharp"
    }
   },
   "execution_count": 25, "outputs": [],
   "source": [
    "[ stockCountsLarge; stockCountsSmall ]\n",
    "|\u003e Chart.combine\n"
   ]
  }
,
  {
   "cell_type": "markdown",
   "metadata": {},
   
   "source": [
    "Now all groups\n",
    "\n"
   ]
  }
,
  {
   "cell_type": "code",
   "metadata": {
    "dotnet_interactive": {
     "language": "fsharp"
    },
    "polyglot_notebook": {
     "kernelName": "fsharp"
    }
   },
   "execution_count": 26, "outputs": [],
   "source": [
    "let stockCountsAllSizes =\n",
    "    idAndReturnsRows\n",
    "    |\u003e List.filter (fun row -\u003e row.Eom.Year = 2015)\n",
    "    |\u003e List.groupBy (fun row -\u003e row.SizeGrp)\n",
    "    |\u003e List.map (fun (sizeGrp, rows) -\u003e \n",
    "        let toPlot = countIdAndReturnsRows rows\n",
    "        sizeGrp, toPlot)\n",
    "\n",
    "// first few observations of all size Groups\n",
    "stockCountsAllSizes\n",
    "|\u003e List.map (fun (sizeGroup, xs) -\u003e\n",
    "    sizeGroup, xs |\u003e List.truncate 3)\n"
   ]
  }
,
  {
   "cell_type": "markdown",
   "metadata": {},
   
   "source": [
    "A combined chart.\n",
    "\n"
   ]
  }
,
  {
   "cell_type": "code",
   "metadata": {
    "dotnet_interactive": {
     "language": "fsharp"
    },
    "polyglot_notebook": {
     "kernelName": "fsharp"
    }
   },
   "execution_count": 27, "outputs": [],
   "source": [
    "stockCountsAllSizes\n",
    "|\u003e List.map (fun (sizeGrp, toPlot) -\u003e \n",
    "    Chart.Column(toPlot, Name = sizeGrp))\n",
    "|\u003e Chart.combine\n",
    "\n",
    "(** Same, but stacking each chart on top of eachother. *)   \n",
    "\n",
    "stockCountsAllSizes\n",
    "|\u003e List.map (fun (sizeGrp, toPlot) -\u003e \n",
    "    Chart.Column(toPlot, Name = sizeGrp))\n",
    "|\u003e Chart.SingleStack()\n"
   ]
  }
,
  {
   "cell_type": "markdown",
   "metadata": {},
   
   "source": [
    "You should now have some a good idea of how to work with this data.\n",
    "\n",
    "### Distribution of unique stocks in the your signal data\n",
    "\n",
    "Do similar analysis as above, but for the your signal data.\n",
    "\n",
    "\u003e **Task:** Complete this function. It takes a list of `MySignalType.Row` as input and should return a list of the month and the integer count of unique stock ids that month (`list\u003cDateTime * int\u003e`).\n",
    "\u003e \n",
    "\n"
   ]
  }
,
  {
   "cell_type": "code",
   "metadata": {
    "dotnet_interactive": {
     "language": "fsharp"
    },
    "polyglot_notebook": {
     "kernelName": "fsharp"
    }
   },
   "execution_count": 28, "outputs": [],
   "source": [
    "// solution here\n",
    "let countMySignalRows (rows: list\u003cMySignalType.Row\u003e) =\n",
    "    failwith \"I am not implemented yet\"\n",
    "    \n"
   ]
  }
,
  {
   "cell_type": "markdown",
   "metadata": {},
   
   "source": [
    "\u003e **Task:** Create a column chart showing the number of stocks per month in your signal data csv file.\n",
    "\u003e \n",
    "\n"
   ]
  }
,
  {
   "cell_type": "code",
   "metadata": {
    "dotnet_interactive": {
     "language": "fsharp"
    },
    "polyglot_notebook": {
     "kernelName": "fsharp"
    }
   },
   "execution_count": 45, "outputs": [],
   "source": [
    "// solution here\n"
   ]
  }
,
  {
   "cell_type": "markdown",
   "metadata": {},
   
   "source": [
    "You may have some stocks with missing data. If you have some stocks with missing signal data, the below code will return the first 3 observations.\n",
    "If you do not have missing data it will return an empty list.\n",
    "\n"
   ]
  }
,
  {
   "cell_type": "code",
   "metadata": {
    "dotnet_interactive": {
     "language": "fsharp"
    },
    "polyglot_notebook": {
     "kernelName": "fsharp"
    }
   },
   "execution_count": 30, "outputs": [],
   "source": [
    "mySignalRows\n",
    "|\u003e List.choose (fun row -\u003e \n",
    "    // Choose the rows where row.Signal is None.\n",
    "    match row.Signal with\n",
    "    | None -\u003e Some row\n",
    "    | Some signal -\u003e None )\n",
    "|\u003e List.truncate 3\n"
   ]
  }
,
  {
   "cell_type": "markdown",
   "metadata": {},
   
   "source": [
    "We can create a list that only contains stocks with non-missing signals. We define a record type to hold this data. The main change is making signal have `float` type instead of `Option\u003cfloat\u003e` because we\u0027re removing missing data.\n",
    "\n"
   ]
  }
,
  {
   "cell_type": "code",
   "metadata": {
    "dotnet_interactive": {
     "language": "fsharp"
    },
    "polyglot_notebook": {
     "kernelName": "fsharp"
    }
   },
   "execution_count": 31, "outputs": [],
   "source": [
    "type NonMissingSignal =\n",
    "    {\n",
    "        Id: string\n",
    "        Eom: DateTime\n",
    "        Signal: float\n",
    "    }\n",
    "\n",
    "let myNonMissingSignals =\n",
    "    mySignalRows\n",
    "    |\u003e List.choose (fun row -\u003e \n",
    "        match row.Signal with\n",
    "        | None -\u003e None\n",
    "        | Some signal -\u003e \n",
    "            Some { Id = row.Id; Eom = row.Eom; Signal = signal })\n"
   ]
  }
,
  {
   "cell_type": "markdown",
   "metadata": {},
   
   "source": [
    "\u003e **Task:** Complete this function. It takes a list of `NonMissingSignal` records as input and should return a list of the month and the integer count of unique stock ids that month (`list\u003cDateTime * int\u003e`).\n",
    "\u003e \n",
    "\n"
   ]
  }
,
  {
   "cell_type": "code",
   "metadata": {
    "dotnet_interactive": {
     "language": "fsharp"
    },
    "polyglot_notebook": {
     "kernelName": "fsharp"
    }
   },
   "execution_count": 32, "outputs": [],
   "source": [
    "// solution here\n",
    "let countMyNonMissingSignalRows (rows: list\u003cNonMissingSignal\u003e) =\n",
    "    failwith \"I am not implemented yet\"\n",
    "    \n"
   ]
  }
,
  {
   "cell_type": "markdown",
   "metadata": {},
   
   "source": [
    "\u003e **Task:** Create a column chart showing the number of stocks per month in your signal data that **do not** have missing signals.\n",
    "\u003e \n",
    "\n"
   ]
  }
,
  {
   "cell_type": "code",
   "metadata": {
    "dotnet_interactive": {
     "language": "fsharp"
    },
    "polyglot_notebook": {
     "kernelName": "fsharp"
    }
   },
   "execution_count": 45, "outputs": [],
   "source": [
    "// solution here\n"
   ]
  }
,
  {
   "cell_type": "markdown",
   "metadata": {},
   
   "source": [
    "### Distribution of the signal\n",
    "\n",
    "\u003e **Task:** Compute the minimum, maximum, median, standard deviation, and average of the non-missing signals in your dataset.\n",
    "\u003e \n",
    "\n"
   ]
  }
,
  {
   "cell_type": "code",
   "metadata": {
    "dotnet_interactive": {
     "language": "fsharp"
    },
    "polyglot_notebook": {
     "kernelName": "fsharp"
    }
   },
   "execution_count": 42, "outputs": [],
   "source": [
    "// solution here.\n"
   ]
  }
,
  {
   "cell_type": "markdown",
   "metadata": {},
   
   "source": [
    "It can also be useful to compute percentiles of the signal. You can calculate percentils using `MathNet.Numerics.Statistics` quantile function.\n",
    "\n"
   ]
  }
,
  {
   "cell_type": "code",
   "metadata": {
    "dotnet_interactive": {
     "language": "fsharp"
    },
    "polyglot_notebook": {
     "kernelName": "fsharp"
    }
   },
   "execution_count": 35, "outputs": [],
   "source": [
    "// 10th, 50th, and 90th percentiles\n",
    "let pctlExamples = [0.1; 0.5; 0.9]\n",
    "\n",
    "// you must have an array of values\n",
    "let pctlExamplesData = \n",
    "    [ 10.0; -20.0; 0.1; -5.0; 7.0; 4.0]\n",
    "    |\u003e List.toArray \n"
   ]
  }
,
  {
   "cell_type": "markdown",
   "metadata": {},
   
   "source": [
    "Compute the percentiles.\n",
    "\n"
   ]
  }
,
  {
   "cell_type": "code",
   "metadata": {
    "dotnet_interactive": {
     "language": "fsharp"
    },
    "polyglot_notebook": {
     "kernelName": "fsharp"
    }
   },
   "execution_count": 36, "outputs": [],
   "source": [
    "let pctlExamplesComputed =    \n",
    "    [ for pctl in pctlExamples do\n",
    "        Statistics.quantileFunc pctlExamplesData pctl ]\n",
    "pctlExamplesComputed\n"
   ]
  }
,
  {
   "cell_type": "markdown",
   "metadata": {},
   
   "source": [
    "\u003e **Task:** Compute the 1st, 10th, 50th, 90th, and 99th percentiles of the non-missing signals in your dataset. Once these percentiles are calculated them, assign the signals to the values below. Explain what you learn about the distribution. Is it uniformly distributed, a skewed distribution, are there outliers, etc.?\n",
    "\u003e \n",
    "\n"
   ]
  }
,
  {
   "cell_type": "code",
   "metadata": {
    "dotnet_interactive": {
     "language": "fsharp"
    },
    "polyglot_notebook": {
     "kernelName": "fsharp"
    }
   },
   "execution_count": 37, "outputs": [],
   "source": [
    "// solution here\n",
    "\n",
    "let signalP01: float = failwith \"I am not implemented yet\"\n",
    "let signalP10: float = failwith \"I am not implemented yet\"\n",
    "let signalP50: float = failwith \"I am not implemented yet\"\n",
    "let signalP90: float = failwith \"I am not implemented yet\"\n",
    "let signalP99: float = failwith \"I am not implemented yet\"\n"
   ]
  }
,
  {
   "cell_type": "markdown",
   "metadata": {},
   
   "source": [
    "\u003e **Task:** Create a [histogram](https://plotly.net/04_0_histograms.html) showing the distribution of the signal for all stocks in your dataset that have non-missing signals. Limit the data to 2015 to make it easier to plot. Explain what you learn about the distribution. Is it uniformly distributed, are there outliers, etc. How do you see this in the plot, and is there anything new that you learned relative to the percentiles?\n",
    "\u003e \n",
    "\n"
   ]
  }
,
  {
   "cell_type": "code",
   "metadata": {
    "dotnet_interactive": {
     "language": "fsharp"
    },
    "polyglot_notebook": {
     "kernelName": "fsharp"
    }
   },
   "execution_count": 42, "outputs": [],
   "source": [
    "// solution here.\n"
   ]
  }
,
  {
   "cell_type": "markdown",
   "metadata": {},
   
   "source": [
    "[Winsorizing](https://en.wikipedia.org/wiki/Winsorizing) is a technique to remove the influence of outliers from a dataset. Let\u0027s create a winsorized version of your data.\n",
    "\n",
    "Assuming that you have defined the percentile above correctly, this will create a winsorized version of your signal dataset. It is winsorized at the 1st and 99th percentiles.\n",
    "\n"
   ]
  }
,
  {
   "cell_type": "code",
   "metadata": {
    "dotnet_interactive": {
     "language": "fsharp"
    },
    "polyglot_notebook": {
     "kernelName": "fsharp"
    }
   },
   "execution_count": 39, "outputs": [],
   "source": [
    "let winsorizeSignals (signalOb: NonMissingSignal) =\n",
    "    let newSignal =\n",
    "        if signalOb.Signal \u003c signalP01 then \n",
    "            signalP01\n",
    "        elif signalOb.Signal \u003e signalP99 then\n",
    "            signalP99\n",
    "        else\n",
    "            signalOb.Signal\n",
    "    // copy and update the observation with the\n",
    "    // winsorized signal.\n",
    "    { signalOb with Signal = newSignal }\n"
   ]
  }
,
  {
   "cell_type": "markdown",
   "metadata": {},
   
   "source": [
    "Test on a random signal\n",
    "\n"
   ]
  }
,
  {
   "cell_type": "code",
   "metadata": {
    "dotnet_interactive": {
     "language": "fsharp"
    },
    "polyglot_notebook": {
     "kernelName": "fsharp"
    }
   },
   "execution_count": 40, "outputs": [],
   "source": [
    "winsorizeSignals myNonMissingSignals[99]\n"
   ]
  }
,
  {
   "cell_type": "markdown",
   "metadata": {},
   
   "source": [
    "do for all\n",
    "\n"
   ]
  }
,
  {
   "cell_type": "code",
   "metadata": {
    "dotnet_interactive": {
     "language": "fsharp"
    },
    "polyglot_notebook": {
     "kernelName": "fsharp"
    }
   },
   "execution_count": 41, "outputs": [],
   "source": [
    "let myWinsorizedSignals =\n",
    "    myNonMissingSignals\n",
    "    |\u003e List.map winsorizeSignals\n"
   ]
  }
,
  {
   "cell_type": "markdown",
   "metadata": {},
   
   "source": [
    "\u003e **Task:** Create a [histogram](https://plotly.net/04_0_histograms.html) showing the distribution of the **winsorized signals** for all stocks in your dataset. Limit the data to 2015 to make it easier to plot. Explain what you learn about the distribution. Is it uniformly distributed, are there outliers, etc. How do you see this in the plot, and is there anything new that you learned relative to the percentiles and non-winsorized histogram?\n",
    "\u003e \n",
    "\n"
   ]
  }
,
  {
   "cell_type": "code",
   "metadata": {
    "dotnet_interactive": {
     "language": "fsharp"
    },
    "polyglot_notebook": {
     "kernelName": "fsharp"
    }
   },
   "execution_count": 42, "outputs": [],
   "source": [
    "// solution here.\n"
   ]
  }
,
  {
   "cell_type": "markdown",
   "metadata": {},
   
   "source": [
    "\u003e **Task:** Create a map collection called `byStockMonthIdAndReturnMap` where the key is a tuple of stock id as string and month as DateTime (`string * DateTime`) and the value is an `IdAndReturnsType.Row`.\n",
    "\u003e \n",
    "\n",
    "**Note:** I have added a type constraint of `: Map\u003c(string * DateTime), IdAndReturnsType.Row\u003e` to make sure that the type of the map is correct. If you fill in code below, you will get a type mismatch error until your code is correct. You don\u0027t generally need these type constraints, but I am putting it here to make the compiler check that you produce the output that I am asking for.\n",
    "\n",
    "**Hint:** we did things like this in the momentum signal lecture. There\u0027s also a practice quiz on map collections.\n",
    "\n"
   ]
  }
,
  {
   "cell_type": "code",
   "metadata": {
    "dotnet_interactive": {
     "language": "fsharp"
    },
    "polyglot_notebook": {
     "kernelName": "fsharp"
    }
   },
   "execution_count": 43, "outputs": [],
   "source": [
    "// solution here\n",
    "let byStockMonthIdAndReturnMap: Map\u003cstring * DateTime, IdAndReturnsType.Row\u003e =\n",
    "    // fill in code here\n",
    "    failwith \"you haven\u0027t created your map collection.\"\n"
   ]
  }
,
  {
   "cell_type": "markdown",
   "metadata": {},
   
   "source": [
    "\u003e **Task:** Create a [histogram](https://plotly.net/04_0_histograms.html) showing the distribution of the **winsorized signals** for only **small-cap stocks** in your dataset. Limit the data to 2015 to make it easier to plot.\n",
    "\u003e \n",
    "\n",
    "**Hint:** if you have a stock and it\u0027s signal in a particular month, the `byStockMonthIdAndReturnMap` is useful for looking up thinks about the stock that month.)\n",
    "\n"
   ]
  }
,
  {
   "cell_type": "code",
   "metadata": {
    "dotnet_interactive": {
     "language": "fsharp"
    },
    "polyglot_notebook": {
     "kernelName": "fsharp"
    }
   },
   "execution_count": 45, "outputs": [],
   "source": [
    "// solution here\n"
   ]
  }
,
  {
   "cell_type": "markdown",
   "metadata": {},
   
   "source": [
    "\u003e **Task:** Create a [histogram](https://plotly.net/04_0_histograms.html) showing the distribution of the **winsorized signals** for only **large-cap stocks** in your dataset. Limit the data to 2015 to make it easier to plot.\n",
    "\u003e \n",
    "\n"
   ]
  }
,
  {
   "cell_type": "code",
   "metadata": {
    "dotnet_interactive": {
     "language": "fsharp"
    },
    "polyglot_notebook": {
     "kernelName": "fsharp"
    }
   },
   "execution_count": 45, "outputs": [],
   "source": [
    "// solution here\n"
   ]
  }
,
  {
   "cell_type": "markdown",
   "metadata": {},
   
   "source": [
    "\u003e **Task:** Compare and contrast the histograms for the **small-cap** and **large-cap** stocks. Are there any differences? If we wanted to sort stocks based on the signal, do you think that we would end up with stocks that have different average sizes in the low and high signal portfolios?\n",
    "\u003e \n",
    "\n",
    "### Towards portfolios.\n",
    "\n",
    "\u003e **Task:** Using your winsorized list of signals, group your stocks by month. Assign this result to a value named `byStockMonthSignals` that is a list of `DateTime * list\u003cNonMissingSignal\u003e` tuples. The first thing in the tuple is the month and the second thing is a list of `NonMissingSignal` records for all stocks in that month.\n",
    "\u003e \n",
    "\n"
   ]
  }
,
  {
   "cell_type": "code",
   "metadata": {
    "dotnet_interactive": {
     "language": "fsharp"
    },
    "polyglot_notebook": {
     "kernelName": "fsharp"
    }
   },
   "execution_count": 46, "outputs": [],
   "source": [
    "// solution here\n",
    "let byStockMonthSignals: list\u003cDateTime * list\u003cNonMissingSignal\u003e\u003e =\n",
    "    failwith \"I am not implemented yet\"\n"
   ]
  }
,
  {
   "cell_type": "markdown",
   "metadata": {},
   
   "source": [
    "Now assuming `byStockMonthSignals` is correct, we\u0027ll sort the stocks each month from smallest to largest based on the signal that month. Then split the stocks into 3 equal-sized portfolios (aka terciles) based on the sorted signal. We\u0027ll create a `SortedPort` record for each portfolio and assign the list to a value named `terciles`.\n",
    "\n"
   ]
  }
,
  {
   "cell_type": "code",
   "metadata": {
    "dotnet_interactive": {
     "language": "fsharp"
    },
    "polyglot_notebook": {
     "kernelName": "fsharp"
    }
   },
   "execution_count": 47, "outputs": [],
   "source": [
    "type SortedPort =\n",
    "    { Portfolio: int\n",
    "      Eom: DateTime\n",
    "      Stocks: list\u003cNonMissingSignal\u003e }\n",
    "\n",
    "let terciles =\n",
    "    byStockMonthSignals\n",
    "    |\u003e List.collect (fun (eom, signals) -\u003e\n",
    "        let sortedSignals =\n",
    "            signals\n",
    "            |\u003e List.sortBy (fun signalOb -\u003e signalOb.Signal)\n",
    "            |\u003e List.splitInto 3\n",
    "        sortedSignals\n",
    "        |\u003e List.mapi (fun i p -\u003e \n",
    "            { Portfolio = i + 1\n",
    "              Eom = eom\n",
    "              Stocks = p }))\n"
   ]
  }
,
  {
   "cell_type": "markdown",
   "metadata": {},
   
   "source": [
    "look at the first portfolio\n",
    "\n"
   ]
  }
,
  {
   "cell_type": "code",
   "metadata": {
    "dotnet_interactive": {
     "language": "fsharp"
    },
    "polyglot_notebook": {
     "kernelName": "fsharp"
    }
   },
   "execution_count": 48, "outputs": [],
   "source": [
    "terciles[0]\n"
   ]
  }
,
  {
   "cell_type": "markdown",
   "metadata": {},
   
   "source": [
    "look at the last portfolio\n",
    "\n"
   ]
  }
,
  {
   "cell_type": "code",
   "metadata": {
    "dotnet_interactive": {
     "language": "fsharp"
    },
    "polyglot_notebook": {
     "kernelName": "fsharp"
    }
   },
   "execution_count": 49, "outputs": [],
   "source": [
    "terciles |\u003e List.last\n"
   ]
  }
,
  {
   "cell_type": "markdown",
   "metadata": {},
   
   "source": [
    "\u003e **Task:** Using `terciles`, compute the average signal in each tercile portfolio each month. Plot a combined (`Chart.combine`) line chart (`Chart.line`) showing the average signal for each tercile portfolio from the start to the end of the sample. What do you learn? Is the average signal in each tercile constant throughout the sample, or does it vary over time?\n",
    "\u003e \n",
    "\n",
    "\u003e **Task:** Using `byStockMonthSignals`, sort the stocks each month from smallest to largest based on the signal that month. Then split the stocks into 5 equal-sized portfolios (aka quintiles) based on the sorted signal. Create a `SortedPort` record for each portfolio and assign the list to a value named `quintiles`.\n",
    "\u003e \n",
    "\n"
   ]
  }
,
  {
   "cell_type": "code",
   "metadata": {
    "dotnet_interactive": {
     "language": "fsharp"
    },
    "polyglot_notebook": {
     "kernelName": "fsharp"
    }
   },
   "execution_count": 50, "outputs": [],
   "source": [
    "// solution here\n",
    "let quintiles: list\u003cSortedPort\u003e =\n",
    "    failwith \"I am not implemented yet\"\n"
   ]
  }
,
  {
   "cell_type": "markdown",
   "metadata": {},
   
   "source": [
    "\u003e **Task:** Filter `quintiles` to the quintile portfolio of stocks each month that has the lowest signal value. This should be stocks where `SortedPort.Portfolio = 1`. Assign the filtered list to a value named `bottomQuintile`.\n",
    "\u003e \n",
    "\n"
   ]
  }
,
  {
   "cell_type": "code",
   "metadata": {
    "dotnet_interactive": {
     "language": "fsharp"
    },
    "polyglot_notebook": {
     "kernelName": "fsharp"
    }
   },
   "execution_count": 51, "outputs": [],
   "source": [
    "// solution here\n",
    "let bottomQuintile: list\u003cSortedPort\u003e =\n",
    "    failwith \"I am not implemented yet\"\n"
   ]
  }
,
  {
   "cell_type": "markdown",
   "metadata": {},
   
   "source": [
    "\u003e **Task:** Create a list named `bottomQuintileReturn` that contains the return of the bottom quintile portfolio each month. The portfolio return for a given month should be calculated using equal weights on every stock in the portfolio that month. The result should be given as a list of `SortedPortfolioReturn` records. **Additionally,** the month of the return should be lagged one month relative to the portfolio formation month. That means that if you formed a portfolio based on a signal known as of the end of February 2022 (Eom = DateTime(2022,02,28)), the portfolio return during the first month that you hold it will be calculated using stock returns during March 2022 (MonthOfReturn = DateTime(2022,03,31)).\n",
    "\u003e \n",
    "\n",
    "Quick example getting end of month addition:\n",
    "\n"
   ]
  }
,
  {
   "cell_type": "code",
   "metadata": {
    "dotnet_interactive": {
     "language": "fsharp"
    },
    "polyglot_notebook": {
     "kernelName": "fsharp"
    }
   },
   "execution_count": 52, "outputs": [],
   "source": [
    "let endOfFebruary = DateTime(2022,02,28)\n",
    "\n",
    "let addOneEom (eom: DateTime) =\n",
    "    DateTime(eom.Year, eom.Month, 1).AddMonths(2).AddDays(-1.0)\n",
    "\n",
    "addOneEom endOfFebruary\n"
   ]
  }
,
  {
   "cell_type": "markdown",
   "metadata": {},
   
   "source": [
    "That will give you the end of March. So in summary, if the signal that you use to form portfolios comes from February 2022 (signal EOM = DateTime(2022,2,28)), make sure that you get returns from March 2022 (return EOM = DateTime(2022,3,31)).\n",
    "\n"
   ]
  }
,
  {
   "cell_type": "code",
   "metadata": {
    "dotnet_interactive": {
     "language": "fsharp"
    },
    "polyglot_notebook": {
     "kernelName": "fsharp"
    }
   },
   "execution_count": 53, "outputs": [],
   "source": [
    "type SortedPortfolioReturn =\n",
    "    { \n",
    "        Portfolio: int\n",
    "        MonthOfReturn: DateTime\n",
    "        AvgReturn: float\n",
    "    }\n",
    "\n",
    "let bottomQuintileReturn: list\u003cSortedPortfolioReturn\u003e =\n",
    "    failwith \"I am not implemented yet\"\n"
   ]
  }
,
  {
   "cell_type": "markdown",
   "metadata": {},
   
   "source": [
    "\u003e **Task:** Plot a line chart of the cumulative return of the bottom quintile portfolio during the sample. For reference you will find the [plotting returns](https://nhirschey.github.io/Teaching/Momentum-Class.html#Plotting-returns) section of the momentum class lecture useful. It provides an example of calculating a portfolio\u0027s cumulative returns using `List.scan`.\n",
    "\u003e \n",
    "\n"
   ]
  }
 ],
 "metadata": {
  "kernelspec": {
   "display_name": ".NET (F#)",
   "language": "F#",
   "name": ".net-fsharp"
  },
  "language_info": {
   "file_extension": ".fs",
   "mimetype": "text/x-fsharp",
   "name": "polyglot-notebook",
   "pygments_lexer": "fsharp"
  },
  "polyglot_notebook": {
   "kernelInfo": {
    "defaultKernelName": "fsharp",
    "items": [
     {
      "aliases": [],
      "languageName": "fsharp",
      "name": "fsharp"
     }
    ]
   }
  }
 },
 "nbformat": 4,
 "nbformat_minor": 2
}

