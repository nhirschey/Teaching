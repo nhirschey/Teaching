
{
 "cells": [
  {
   "cell_type": "markdown",
   "metadata": {},
   
   "source": [
    "[![Binder](img/badge-binder.svg)](https://mybinder.org/v2/gh/nhirschey/teaching/gh-pages?filepath=portfolio-statistics.ipynb)\u0026emsp;\n",
    "[![Script](img/badge-script.svg)](/Teaching//portfolio-statistics.fsx)\u0026emsp;\n",
    "[![Notebook](img/badge-notebook.svg)](/Teaching//portfolio-statistics.ipynb)\n",
    "\n",
    "This page covers important fundamentals for building portfolios.\n",
    "\n",
    "* [Portfolio Weights](#Portfolio-Weights)\n",
    "\n",
    "* [Mean and Variance of Portfolio Returns](#Mean-and-Variance-of-Portfolio-Returns)\n",
    "\n",
    "* [Leverage](#Leverage)\n",
    "\n",
    "## Portfolio Weights\n",
    "\n",
    "An investment portfolio consists of positions in assets.\n",
    "It is common to refer to a position\u0027s size as its share of\n",
    "the portfolio\u0027s total value.\n",
    "This is known as the asset\u0027s portfolio weight.\n",
    "\n",
    "The portfolio weight of asset $i$ in portfolio $p$ is\n",
    "\n",
    "\\begin{equation}\n",
    "w_i=(\\text{positionValue}_i)/(\\text{portfolioValue}_p)\n",
    "\\end{equation}\n",
    "\n",
    "### Long positions\n",
    "\n",
    "When an investor buys a long position,\n",
    "they pay for the position now and hope to sell it later at a higher price.\n",
    "\n",
    "Let\u0027s look at cash flows for long positions.\n",
    "\n",
    "* At time 0: investor has $100 cash and no shares.\n",
    "\n",
    "* At time 1: investor takes their $100 of cash and buys 4 shares \n",
    "of stock at a price of $25 per share. They have no cash and are long 4 shares.\n",
    "\n",
    "* At time 2: the stock has risen to $27, the investor sells their 4 shares.\n",
    "They have $108 of cash and no shares.\n",
    "\n",
    "We can define some functions to update an account given these trades.\n",
    "\n"
   ]
  }
,
  {
   "cell_type": "code",
   "metadata": {
    "dotnet_interactive": {
     "language": "fsharp"
    },
    "polyglot_notebook": {
     "kernelName": "fsharp"
    }
   },
   "execution_count": 1, "outputs": [],
   "source": [
    "// A record type that defines an account\n",
    "type AccountBalances =\n",
    "    { Time: int\n",
    "      Cash: float \n",
    "      Shares: float }\n",
    "\n",
    "// A record type that defines a trade\n",
    "type Trade = \n",
    "    { Shares: float \n",
    "      Price : float }\n",
    "\n",
    "let accountAt0 = { Time = 0; Cash = 100.0; Shares = 0.0 }\n",
    "let tradeAt1 = { Shares = 4.0; Price = 25.0 }\n"
   ]
  }
,
  {
   "cell_type": "markdown",
   "metadata": {},
   
   "source": [
    "`updateAccount` is a function that updates an account after a trade is made.\n",
    "\n",
    "(trade: Trade) restricts the `trade` parameter to data of type `Trade`.\n",
    "\n",
    "(inAccount: AccountBalances) restricts the `inAccount` parameter\n",
    "to data of type `AccountBalances`\n",
    "\n"
   ]
  }
,
  {
   "cell_type": "code",
   "metadata": {
    "dotnet_interactive": {
     "language": "fsharp"
    },
    "polyglot_notebook": {
     "kernelName": "fsharp"
    }
   },
   "execution_count": 2, "outputs": [],
   "source": [
    "/// Function that updates an account after a trade is made.\n",
    "let updateAccount (trade: Trade) (inAccount: AccountBalances) =\n",
    "    let tradeValue = trade.Price * trade.Shares\n",
    "    let newCash = inAccount.Cash - tradeValue\n",
    "    let newShares = inAccount.Shares + trade.Shares\n",
    "    let newTime = inAccount.Time + 1\n",
    "    { Time = newTime \n",
    "      Cash = newCash \n",
    "      Shares = newShares }\n"
   ]
  }
,
  {
   "cell_type": "markdown",
   "metadata": {},
   
   "source": [
    "You can make names with spaces using \"``\" before and after.\n",
    "\n"
   ]
  }
,
  {
   "cell_type": "code",
   "metadata": {
    "dotnet_interactive": {
     "language": "fsharp"
    },
    "polyglot_notebook": {
     "kernelName": "fsharp"
    }
   },
   "execution_count": 3, "outputs": [
          {
           "data": {
            "text/plain": ["{ Time = 1",
"  Cash = 0.0",
"  Shares = 4.0 }"]
        },
           "execution_count": 3,
           "metadata": {},
           "output_type": "execute_result"
          }],
   "source": [
    "let ``expected account at t1`` = { Time = 1; Cash = 0.0; Shares = 4.0}\n",
    "let ``actual account at t1`` = updateAccount tradeAt1 accountAt0 \n",
    "\n",
    "``actual account at t1``\n"
   ]
  }
,
  {
   "cell_type": "code",
   "metadata": {
    "dotnet_interactive": {
     "language": "fsharp"
    },
    "polyglot_notebook": {
     "kernelName": "fsharp"
    }
   },
   "execution_count": 4, "outputs": [],
   "source": [
    "if ``actual account at t1`` \u003c\u003e ``expected account at t1`` then\n",
    "    failwith \"You are not updating account correctly after a trade\"\n"
   ]
  }
,
  {
   "cell_type": "markdown",
   "metadata": {},
   
   "source": [
    "Now we can calculate how the account value changes over time.\n",
    "\n"
   ]
  }
,
  {
   "cell_type": "code",
   "metadata": {
    "dotnet_interactive": {
     "language": "fsharp"
    },
    "polyglot_notebook": {
     "kernelName": "fsharp"
    }
   },
   "execution_count": 5, "outputs": [
          {
           "data": {
            "text/plain": ["{ Time = 1",
"  Cash = 0.0",
"  Shares = 4.0 }"]
        },
           "execution_count": 5,
           "metadata": {},
           "output_type": "execute_result"
          }],
   "source": [
    "let accountAt1 = updateAccount tradeAt1 accountAt0\n",
    "\n",
    "accountAt1\n"
   ]
  }
,
  {
   "cell_type": "code",
   "metadata": {
    "dotnet_interactive": {
     "language": "fsharp"
    },
    "polyglot_notebook": {
     "kernelName": "fsharp"
    }
   },
   "execution_count": 6, "outputs": [
          {
           "data": {
            "text/plain": ["{ Time = 2",
"  Cash = 108.0",
"  Shares = 0.0 }"]
        },
           "execution_count": 6,
           "metadata": {},
           "output_type": "execute_result"
          }],
   "source": [
    "let tradeAt2 = { Shares = -4.0; Price = 27.0 }\n",
    "let accountAt2 = updateAccount tradeAt2 accountAt1\n",
    "\n",
    "accountAt2\n"
   ]
  }
,
  {
   "cell_type": "markdown",
   "metadata": {},
   
   "source": [
    "We could have also written this code using the pipe operator.\n",
    "\n"
   ]
  }
,
  {
   "cell_type": "code",
   "metadata": {
    "dotnet_interactive": {
     "language": "fsharp"
    },
    "polyglot_notebook": {
     "kernelName": "fsharp"
    }
   },
   "execution_count": 7, "outputs": [
          {
           "data": {
            "text/plain": ["{ Time = 1",
"  Cash = 0.0",
"  Shares = 4.0 }"]
        },
           "execution_count": 7,
           "metadata": {},
           "output_type": "execute_result"
          }],
   "source": [
    "let accountAt1\u0027 = accountAt0 |\u003e updateAccount tradeAt1 // same as \"updateAccount tradeAt1 accountAt0\"\n",
    "let accountAt2\u0027 = accountAt1 |\u003e updateAccount tradeAt2 // same as \"updateAccount tradeAt2 accountAt1\"\n",
    "\n",
    "accountAt1\u0027\n"
   ]
  }
,
  {
   "cell_type": "code",
   "metadata": {
    "dotnet_interactive": {
     "language": "fsharp"
    },
    "polyglot_notebook": {
     "kernelName": "fsharp"
    }
   },
   "execution_count": 8, "outputs": [
          {
           "data": {
            "text/plain": ["{ Time = 2",
"  Cash = 108.0",
"  Shares = 0.0 }"]
        },
           "execution_count": 8,
           "metadata": {},
           "output_type": "execute_result"
          }],
   "source": [
    "accountAt2\u0027\n"
   ]
  }
,
  {
   "cell_type": "markdown",
   "metadata": {},
   
   "source": [
    "The pipe operator does not look very useful above because\n",
    "we are only doing one operation.\n",
    "It is more useful when you\u0027re doing a series of multiple operations.\n",
    "This example recomputes the account value at time 2 by\n",
    "chaining together updates for the trades at times 1 and 2.\n",
    "\n"
   ]
  }
,
  {
   "cell_type": "code",
   "metadata": {
    "dotnet_interactive": {
     "language": "fsharp"
    },
    "polyglot_notebook": {
     "kernelName": "fsharp"
    }
   },
   "execution_count": 9, "outputs": [
          {
           "data": {
            "text/plain": ["{ Time = 2",
"  Cash = 108.0",
"  Shares = 0.0 }"]
        },
           "execution_count": 9,
           "metadata": {},
           "output_type": "execute_result"
          }],
   "source": [
    "let accountAt2\u0027\u0027 =\n",
    "    accountAt0\n",
    "    |\u003e updateAccount tradeAt1\n",
    "    |\u003e updateAccount tradeAt2\n",
    "\n",
    "accountAt2\u0027\u0027\n"
   ]
  }
,
  {
   "cell_type": "markdown",
   "metadata": {},
   
   "source": [
    "This code is closer to how you would describe it in English:\n",
    "\"Start with the account at time 0,\n",
    "update it for the trade at time 1,\n",
    "then update it for the trade at time 2.\"\n",
    "\n",
    "\u003e Practice: complete the code for the `accountValue` function below.\n",
    "It should calculate total account value of\n",
    "the stock and cash positiions.\n",
    "If it is correct then the account value test below should evaluate to `true`\n",
    "\u003e \n",
    "\n"
   ]
  }
,
  {
   "cell_type": "code",
   "metadata": {
    "dotnet_interactive": {
     "language": "fsharp"
    },
    "polyglot_notebook": {
     "kernelName": "fsharp"
    }
   },
   "execution_count": 10, "outputs": [],
   "source": [
    "let accountValue (stockPrice: float) (account: AccountBalances) =\n",
    "    failwith \"unimplemented\"\n"
   ]
  }
,
  {
   "cell_type": "markdown",
   "metadata": {},
   
   "source": [
    "    // simple account value test\n",
    "    (accountValue 27.0 accountAt2) = 108.0\n",
    "### Portfolio weights of long positions\n",
    "\n",
    "Now that we understand long positions we can calculate portfolio weights for them.\n",
    "Let\u0027s calculate weights for an example **Portfolio A** consisting of\n",
    "\n",
    "* $100 invested in AAPL\n",
    "\n",
    "* $300 invested in GOOG\n",
    "\n",
    "* $500 invested in TSLA\n",
    "\n",
    "These are all long positions, meaning that they have positive costs.\n",
    "\n"
   ]
  }
,
  {
   "cell_type": "code",
   "metadata": {
    "dotnet_interactive": {
     "language": "fsharp"
    },
    "polyglot_notebook": {
     "kernelName": "fsharp"
    }
   },
   "execution_count": 11, "outputs": [
          {
           "data": {
            "text/plain": ["900.0"]
        },
           "execution_count": 11,
           "metadata": {},
           "output_type": "execute_result"
          }],
   "source": [
    "let aaplPositionValue = 100.0\n",
    "let googPositionValue = 300.0\n",
    "let tslaPositionValue = 500.0\n",
    "\n",
    "// This implies:\n",
    "\n",
    "let portfolioValueA = aaplPositionValue + googPositionValue + tslaPositionValue\n",
    "\n",
    "portfolioValueA\n"
   ]
  }
,
  {
   "cell_type": "markdown",
   "metadata": {},
   
   "source": [
    "The portfolio weights are then\n",
    "\n"
   ]
  }
,
  {
   "cell_type": "code",
   "metadata": {
    "dotnet_interactive": {
     "language": "fsharp"
    },
    "polyglot_notebook": {
     "kernelName": "fsharp"
    }
   },
   "execution_count": 12, "outputs": [
          {
           "data": {
            "text/plain": ["0.1111111111"]
        },
           "execution_count": 12,
           "metadata": {},
           "output_type": "execute_result"
          }],
   "source": [
    "let aaplWeight = aaplPositionValue / portfolioValueA\n",
    "\n",
    "aaplWeight\n"
   ]
  }
,
  {
   "cell_type": "code",
   "metadata": {
    "dotnet_interactive": {
     "language": "fsharp"
    },
    "polyglot_notebook": {
     "kernelName": "fsharp"
    }
   },
   "execution_count": 13, "outputs": [
          {
           "data": {
            "text/plain": ["0.3333333333"]
        },
           "execution_count": 13,
           "metadata": {},
           "output_type": "execute_result"
          }],
   "source": [
    "let googWeight = googPositionValue / portfolioValueA\n",
    "\n",
    "googWeight\n"
   ]
  }
,
  {
   "cell_type": "code",
   "metadata": {
    "dotnet_interactive": {
     "language": "fsharp"
    },
    "polyglot_notebook": {
     "kernelName": "fsharp"
    }
   },
   "execution_count": 14, "outputs": [
          {
           "data": {
            "text/plain": ["0.5555555556"]
        },
           "execution_count": 14,
           "metadata": {},
           "output_type": "execute_result"
          }],
   "source": [
    "let tslaWeight = tslaPositionValue / portfolioValueA\n",
    "\n",
    "tslaWeight\n"
   ]
  }
,
  {
   "cell_type": "markdown",
   "metadata": {},
   
   "source": [
    "These weights for AAPL, GOOG, and TSLA are all positive.\n",
    "Long positions always have positive weights.\n",
    "\n",
    "Another thing to notice is that the portfolio weights add up to one (or 100%):\n",
    "\n"
   ]
  }
,
  {
   "cell_type": "code",
   "metadata": {
    "dotnet_interactive": {
     "language": "fsharp"
    },
    "polyglot_notebook": {
     "kernelName": "fsharp"
    }
   },
   "execution_count": 15, "outputs": [
          {
           "data": {
            "text/plain": ["val it: float = 1.0"]
        },
           "execution_count": 15,
           "metadata": {},
           "output_type": "execute_result"
          }],
   "source": [
    "aaplWeight + googWeight + tslaWeight\n"
   ]
  }
,
  {
   "cell_type": "markdown",
   "metadata": {},
   
   "source": [
    "This portfolio is a net long portfolio,\n",
    "meaning that it costs you money to purchase it.\n",
    "Net long portfolios such as this one must\n",
    "have portfolio weights that add up to one.\n",
    "Due to margin requirements, real-world\n",
    "portfolios are generally net long--you must\n",
    "put up capital to acquire the portfolio.\n",
    "\n",
    "The other type of portfolio is a zero-cost portfolio.\n",
    "As the name implies, zero-cost portfolios do not require any investment to purchase.\n",
    "There is no cost because long positions are funded by offsetting short positions.\n",
    "To see how this works we need to examine how short positions work.\n",
    "\n",
    "### Short positions\n",
    "\n",
    "When an investor buys a long position,\n",
    "they pay for the position now and hope to sell it later at a higher price.\n",
    "A short sale reverses this.\n",
    "The investor sells the position now and hopes to buy it back later at a lower price.\n",
    "\n",
    "We now go through an example to see how the cash flows work.\n",
    "\n",
    "* At time 0: investor has $100 cash and no shares.\n",
    "\n",
    "* At time 1: investor borrows 4 shares of stock and sells them\n",
    "for a price of $25 per share. They have $200 cash and are short 4 shares.\n",
    "\n",
    "* At time 2: the stock has risen to $27, the investor buys back the\n",
    "4 shares that they sold short and returns them to the person that\n",
    "they borrowed them from. They have $92 of cash and 0 shares.\n",
    "\n",
    "The investor\u0027s cash and stock balances at the end of each period will look something like\n",
    "\n"
   ]
  }
,
  {
   "cell_type": "code",
   "metadata": {
    "dotnet_interactive": {
     "language": "fsharp"
    },
    "polyglot_notebook": {
     "kernelName": "fsharp"
    }
   },
   "execution_count": 16, "outputs": [
          {
           "data": {
            "text/plain": ["{ Time = 1",
"  Cash = 200.0",
"  Shares = -4.0 }"]
        },
           "execution_count": 16,
           "metadata": {},
           "output_type": "execute_result"
          }],
   "source": [
    "let shortAt1 = { Shares = -4.0; Price = 25.0 }\n",
    "let shortCoverAt2 = { Shares = 4.0; Price = 27.0 }\n",
    "\n",
    "// positions at t1\n",
    "accountAt0 \n",
    "|\u003e updateAccount shortAt1\n"
   ]
  }
,
  {
   "cell_type": "code",
   "metadata": {
    "dotnet_interactive": {
     "language": "fsharp"
    },
    "polyglot_notebook": {
     "kernelName": "fsharp"
    }
   },
   "execution_count": 17, "outputs": [
          {
           "data": {
            "text/plain": ["{ Time = 2",
"  Cash = 92.0",
"  Shares = 0.0 }"]
        },
           "execution_count": 17,
           "metadata": {},
           "output_type": "execute_result"
          }],
   "source": [
    "// positions at t2\n",
    "accountAt0 \n",
    "|\u003e updateAccount shortAt1 \n",
    "|\u003e updateAccount shortCoverAt2\n"
   ]
  }
,
  {
   "cell_type": "markdown",
   "metadata": {},
   
   "source": [
    "### Portfolio weights for short positions\n",
    "\n",
    "Let\u0027s create a new portfolio, **Portfolio B**, that includes short sales and calculate weights. Assume that you start with **Portfolio A** and short $150 of AMZN stock. This generates $150 of cash that you have to put somewhere. For individual investors, often your broker puts it in bonds and gives you none of the interest. Institutional investors can get some of the interest or even reinvest the proceeds in something else. We will assume that we are an institution and can reinvest all of the short proceeds. We will take the $150 and add $50 to each of our AAPL, GOOG, and TLSA positions.\n",
    "\n",
    "Short positions have negative portfolio weights.\n",
    "\n"
   ]
  }
,
  {
   "cell_type": "code",
   "metadata": {
    "dotnet_interactive": {
     "language": "fsharp"
    },
    "polyglot_notebook": {
     "kernelName": "fsharp"
    }
   },
   "execution_count": 18, "outputs": [
          {
           "data": {
            "text/plain": ["900.0"]
        },
           "execution_count": 18,
           "metadata": {},
           "output_type": "execute_result"
          }],
   "source": [
    "let amznPositionValueB = -150.0\n",
    "let aaplPositionValueB = aaplPositionValue + 50.0\n",
    "let googPositionValueB = googPositionValue + 50.0\n",
    "let tslaPositionValueB = tslaPositionValue + 50.0\n",
    "\n",
    "let portfolioValueB = \n",
    "    amznPositionValueB +\n",
    "    aaplPositionValueB +\n",
    "    googPositionValueB +\n",
    "    tslaPositionValueB\n",
    "\n",
    "portfolioValueB\n"
   ]
  }
,
  {
   "cell_type": "markdown",
   "metadata": {},
   
   "source": [
    "Compare to **Portfolio A**\n",
    "\n"
   ]
  }
,
  {
   "cell_type": "code",
   "metadata": {
    "dotnet_interactive": {
     "language": "fsharp"
    },
    "polyglot_notebook": {
     "kernelName": "fsharp"
    }
   },
   "execution_count": 19, "outputs": [
          {
           "data": {
            "text/plain": ["val it: bool = true"]
        },
           "execution_count": 19,
           "metadata": {},
           "output_type": "execute_result"
          }],
   "source": [
    "portfolioValueA = portfolioValueB \n"
   ]
  }
,
  {
   "cell_type": "markdown",
   "metadata": {},
   
   "source": [
    "The weights in **Portfolio B**:\n",
    "\n"
   ]
  }
,
  {
   "cell_type": "code",
   "metadata": {
    "dotnet_interactive": {
     "language": "fsharp"
    },
    "polyglot_notebook": {
     "kernelName": "fsharp"
    }
   },
   "execution_count": 20, "outputs": [
          {
           "data": {
            "text/plain": ["-0.1666666667"]
        },
           "execution_count": 20,
           "metadata": {},
           "output_type": "execute_result"
          }],
   "source": [
    "let amznWeightB = amznPositionValueB / portfolioValueB\n",
    "\n",
    "amznWeightB\n"
   ]
  }
,
  {
   "cell_type": "code",
   "metadata": {
    "dotnet_interactive": {
     "language": "fsharp"
    },
    "polyglot_notebook": {
     "kernelName": "fsharp"
    }
   },
   "execution_count": 21, "outputs": [
          {
           "data": {
            "text/plain": ["0.1666666667"]
        },
           "execution_count": 21,
           "metadata": {},
           "output_type": "execute_result"
          }],
   "source": [
    "let aaplWeightB = aaplPositionValueB / portfolioValueB\n",
    "\n",
    "aaplWeightB\n"
   ]
  }
,
  {
   "cell_type": "code",
   "metadata": {
    "dotnet_interactive": {
     "language": "fsharp"
    },
    "polyglot_notebook": {
     "kernelName": "fsharp"
    }
   },
   "execution_count": 22, "outputs": [
          {
           "data": {
            "text/plain": ["0.3888888889"]
        },
           "execution_count": 22,
           "metadata": {},
           "output_type": "execute_result"
          }],
   "source": [
    "let googWeightB = googPositionValueB / portfolioValueB\n",
    "\n",
    "googWeightB\n"
   ]
  }
,
  {
   "cell_type": "code",
   "metadata": {
    "dotnet_interactive": {
     "language": "fsharp"
    },
    "polyglot_notebook": {
     "kernelName": "fsharp"
    }
   },
   "execution_count": 23, "outputs": [
          {
           "data": {
            "text/plain": ["0.6111111111"]
        },
           "execution_count": 23,
           "metadata": {},
           "output_type": "execute_result"
          }],
   "source": [
    "let tslaWeightB = tslaPositionValueB / portfolioValueB\n",
    "\n",
    "tslaWeightB\n"
   ]
  }
,
  {
   "cell_type": "markdown",
   "metadata": {},
   
   "source": [
    "The weights of **Portfolio B** also add up to one.\n",
    "\n"
   ]
  }
,
  {
   "cell_type": "code",
   "metadata": {
    "dotnet_interactive": {
     "language": "fsharp"
    },
    "polyglot_notebook": {
     "kernelName": "fsharp"
    }
   },
   "execution_count": 24, "outputs": [
          {
           "data": {
            "text/plain": ["val it: float = 1.0"]
        },
           "execution_count": 24,
           "metadata": {},
           "output_type": "execute_result"
          }],
   "source": [
    "amznWeightB + aaplWeightB + googWeightB + tslaWeightB\n"
   ]
  }
,
  {
   "cell_type": "markdown",
   "metadata": {},
   
   "source": [
    "### Zero-cost portfolios\n",
    "\n",
    "Another type of portfolio that you will see is zero-cost portfolios.\n",
    "They are called self funding because the short sale proceeds\n",
    "fund the long investments. The portfolio weights add up to 0.\n",
    "You can scale weights relative to what they would be per $ long or short.\n",
    "\n",
    "An example:\n",
    "\n"
   ]
  }
,
  {
   "cell_type": "code",
   "metadata": {
    "dotnet_interactive": {
     "language": "fsharp"
    },
    "polyglot_notebook": {
     "kernelName": "fsharp"
    }
   },
   "execution_count": 25, "outputs": [
          {
           "data": {
            "text/plain": ["koWeight = -1",
"",
"hogWeight= 0.8",
"",
"yumWeight= 0.2"]
        },
           "execution_count": 25,
           "metadata": {},
           "output_type": "execute_result"
          }],
   "source": [
    "// Portfolio C\n",
    "let koPositionValue = -50.0\n",
    "let hogPositionValue = 40.0\n",
    "let yumPositionValue = 10.0\n",
    "\n",
    "let dollarsLong = 50.0\n",
    "let koWeight = koPositionValue / dollarsLong\n",
    "let hogWeight = hogPositionValue / dollarsLong\n",
    "let yumWeight = yumPositionValue / dollarsLong\n",
    "\n",
    "printfn $\"koWeight = {koWeight}\"\n",
    "printfn $\"hogWeight= {hogWeight}\"\n",
    "printfn $\"yumWeight= {yumWeight}\"\n"
   ]
  }
,
  {
   "cell_type": "code",
   "metadata": {
    "dotnet_interactive": {
     "language": "fsharp"
    },
    "polyglot_notebook": {
     "kernelName": "fsharp"
    }
   },
   "execution_count": 26, "outputs": [
          {
           "data": {
            "text/plain": ["5.551115123e-17"]
        },
           "execution_count": 26,
           "metadata": {},
           "output_type": "execute_result"
          }],
   "source": [
    "koWeight + hogWeight + yumWeight\n"
   ]
  }
,
  {
   "cell_type": "markdown",
   "metadata": {},
   
   "source": [
    "### Calculating weights using a list of positions\n",
    "\n",
    "The calculations that we did thus far required code for each position.\n",
    "We did the same thing to each position, so there was some repetition.\n",
    "We can reduce the repetition by putting the positions into a list\n",
    "and then operating on the elements of the list via iteration.\n",
    "\n"
   ]
  }
,
  {
   "cell_type": "code",
   "metadata": {
    "dotnet_interactive": {
     "language": "fsharp"
    },
    "polyglot_notebook": {
     "kernelName": "fsharp"
    }
   },
   "execution_count": 27, "outputs": [
          {
           "data": {
            "text/plain": ["[-150.0; 150.0; 350.0; 550.0]"]
        },
           "execution_count": 27,
           "metadata": {},
           "output_type": "execute_result"
          }],
   "source": [
    "// defining a position record type\n",
    "type Position = { Id: string; PositionValue: float }\n",
    "\n",
    "// assigning a list of positions to a value named portfolio\n",
    "let portfolio =\n",
    "    [ { Id = \"AMZN\"; PositionValue = amznPositionValueB }\n",
    "      { Id = \"AAPL\"; PositionValue = aaplPositionValueB }\n",
    "      { Id = \"GOOG\"; PositionValue = googPositionValueB }\n",
    "      { Id = \"TSLA\"; PositionValue = tslaPositionValueB } ]\n",
    "\n",
    "// This is called a list comprehension\n",
    "let positionValues = [ for p in portfolio do p.PositionValue ]\n"
   ]
  }
,
  {
   "cell_type": "markdown",
   "metadata": {},
   
   "source": [
    "The list module has many different functions for operating on lists.\n",
    "If you type `List.` you should see many different functions pop up.\n",
    "These functions are very useful. We will explore them in more detail later.\n",
    "\n",
    "For now, let\u0027s see what `List.map` does.\n",
    "\n"
   ]
  }
,
  {
   "cell_type": "code",
   "metadata": {
    "dotnet_interactive": {
     "language": "fsharp"
    },
    "polyglot_notebook": {
     "kernelName": "fsharp"
    }
   },
   "execution_count": 29, "outputs": [
          {
           "data": {
            "text/plain": ["val it: float list = [-150.0; 150.0; 350.0; 550.0]"]
        },
           "execution_count": 29,
           "metadata": {},
           "output_type": "execute_result"
          }],
   "source": [
    "portfolio |\u003e List.map (fun p -\u003e p.PositionValue)\n"
   ]
  }
,
  {
   "cell_type": "markdown",
   "metadata": {},
   
   "source": [
    "This is the same result as the `positionValues` value that we calculated\n",
    "using the list comprehension.\n",
    "`List.map` \"maps\" each element of the list to an output using a function.\n",
    "In this case, our function `(fun p -\u003e p.PositionValue)` was an anonymous function.\n",
    "\n",
    "Another useful function from the list module is `List.sum`.\n",
    "We can use it to calculate the total value of the portfolio by\n",
    "summing position values.\n",
    "\n"
   ]
  }
,
  {
   "cell_type": "code",
   "metadata": {
    "dotnet_interactive": {
     "language": "fsharp"
    },
    "polyglot_notebook": {
     "kernelName": "fsharp"
    }
   },
   "execution_count": 30, "outputs": [
          {
           "data": {
            "text/plain": ["900.0"]
        },
           "execution_count": 30,
           "metadata": {},
           "output_type": "execute_result"
          }],
   "source": [
    "let portfolioValue = positionValues |\u003e List.sum\n"
   ]
  }
,
  {
   "cell_type": "markdown",
   "metadata": {},
   
   "source": [
    "And with this we can calculate portfolio weights.\n",
    "\n"
   ]
  }
,
  {
   "cell_type": "code",
   "metadata": {
    "dotnet_interactive": {
     "language": "fsharp"
    },
    "polyglot_notebook": {
     "kernelName": "fsharp"
    }
   },
   "execution_count": 32, "outputs": [
          {
           "data": {
            "text/plain": ["[(\"AMZN\", -0.1666666667); (\"AAPL\", 0.1666666667); (\"GOOG\", 0.3888888889);",
" (\"TSLA\", 0.6111111111)]"]
        },
           "execution_count": 32,
           "metadata": {},
           "output_type": "execute_result"
          }],
   "source": [
    "let portfolioWeights =\n",
    "    [ for p in portfolio do \n",
    "        let weight = p.PositionValue / portfolioValue \n",
    "        p.Id, weight ]\n",
    "portfolioWeights\n"
   ]
  }
,
  {
   "cell_type": "markdown",
   "metadata": {},
   
   "source": [
    "## Mean and Variance of Portfolio Returns\n",
    "\n",
    "### A portfolio\u0027s return.\n",
    "\n",
    "A portfolio\u0027s return is the weighted average return of the portfolio\u0027s positions.\n",
    "\n",
    "\\begin{equation}\n",
    " r_p = \\Sigma^N_{i=1} w_i r_i,\n",
    "\\end{equation}\n",
    "\n",
    "where $r$ is return, $i$ indexes stocks, and $w$ is portfolio weights.\n",
    "\n"
   ]
  }
,
  {
   "cell_type": "code",
   "metadata": {
    "dotnet_interactive": {
     "language": "fsharp"
    },
    "polyglot_notebook": {
     "kernelName": "fsharp"
    }
   },
   "execution_count": 34, "outputs": [
          {
           "data": {
            "text/plain": ["[0.025; 0.15]"]
        },
           "execution_count": 34,
           "metadata": {},
           "output_type": "execute_result"
          }],
   "source": [
    "type PositionsWithReturn =\n",
    "    { Id: string \n",
    "      Weight: float \n",
    "      Return: float }\n",
    "\n",
    "let exPortfolio =\n",
    "    [ { Id = \"A\"; Weight = 0.25; Return = 0.1 }\n",
    "      { Id = \"B\"; Weight = 0.75; Return = 0.2 } ]\n",
    "\n",
    "let weightsXreturn = [ for pos in exPortfolio do pos.Weight * pos.Return ]\n",
    "weightsXreturn\n"
   ]
  }
,
  {
   "cell_type": "code",
   "metadata": {
    "dotnet_interactive": {
     "language": "fsharp"
    },
    "polyglot_notebook": {
     "kernelName": "fsharp"
    }
   },
   "execution_count": 36, "outputs": [
          {
           "data": {
            "text/plain": ["0.175"]
        },
           "execution_count": 36,
           "metadata": {},
           "output_type": "execute_result"
          }],
   "source": [
    "let exPortfolioReturn = weightsXreturn |\u003e List.sum \n",
    "exPortfolioReturn\n"
   ]
  }
,
  {
   "cell_type": "markdown",
   "metadata": {},
   
   "source": [
    "We are now going to look at returns of actual stock and bond portfolios.\n",
    "The two portfolios are [VTI](https://investor.vanguard.com/etf/profile/VTI) and\n",
    "[BND](https://investor.vanguard.com/etf/profile/BND).\n",
    "These are value-weighted exchange traded funds (ETFs).\n",
    "VTI tracks a stock market index and BND tracks a bond market index.\n",
    "They are good proxies for the return of the overall US stock and bond markets.\n",
    "\n",
    "We are going to load some helper code that allows us to download and plot this data.\n",
    "This will introduce using the `nuget` package manager for loading external libraries,\n",
    "and how to open namespaces.\n",
    "\n",
    "We\u0027re going to use the **Quotes.YahooFinance** library for this.\n",
    "We download the code from the [nuget.org](http://www.nuget.org) package manager.\n",
    "\n",
    "This is equivalent to loading libraries with `pip` or `conda` in python\n",
    "or `install.packages` in R.\n",
    "\n"
   ]
  }
,
  {
   "cell_type": "code",
   "metadata": {
    "dotnet_interactive": {
     "language": "fsharp"
    },
    "polyglot_notebook": {
     "kernelName": "fsharp"
    }
   },
   "execution_count": 38, "outputs": [],
   "source": [
    "#r \"nuget: Quotes.YahooFinance, 0.0.5\"\n"
   ]
  }
,
  {
   "cell_type": "markdown",
   "metadata": {},
   
   "source": [
    "We now have access to the code in the **Quotes.YahooFinance** library.\n",
    "The library has a function called `YahooFinance.History` that we\n",
    "can use to download quote histories from yahoo finance.\n",
    "\n",
    "We can access code using fully qualified names.\n",
    "\n"
   ]
  }
,
  {
   "cell_type": "code",
   "metadata": {
    "dotnet_interactive": {
     "language": "fsharp"
    },
    "polyglot_notebook": {
     "kernelName": "fsharp"
    }
   },
   "execution_count": 39, "outputs": [],
   "source": [
    "Quotes.YahooFinance.YahooFinance.History(\"AAPL\")\n"
   ]
  }
,
  {
   "cell_type": "markdown",
   "metadata": {},
   
   "source": [
    "However, it\u0027s common to open a library\u0027s namespace in order to access\n",
    "the library\u0027s functionality directly.\n",
    "\n"
   ]
  }
,
  {
   "cell_type": "code",
   "metadata": {
    "dotnet_interactive": {
     "language": "fsharp"
    },
    "polyglot_notebook": {
     "kernelName": "fsharp"
    }
   },
   "execution_count": 40, "outputs": [],
   "source": [
    "open Quotes.YahooFinance\n",
    "\n",
    "YahooFinance.History(\"AAPL\")\n"
   ]
  }
,
  {
   "cell_type": "markdown",
   "metadata": {},
   
   "source": [
    "Namespaces such as `Quotes.YahooFinance` are a hierarchical way of organizing code.\n",
    "\n",
    "We are ready to request some data. Let\u0027s define our start and end dates.\n",
    "`DateTime` is a type in the `System` namespace.\n",
    "\n"
   ]
  }
,
  {
   "cell_type": "code",
   "metadata": {
    "dotnet_interactive": {
     "language": "fsharp"
    },
    "polyglot_notebook": {
     "kernelName": "fsharp"
    }
   },
   "execution_count": 41, "outputs": [
          {
           "data": {
            "text/plain": ["2/20/2024 12:51:37 PM"]
        },
           "execution_count": 41,
           "metadata": {},
           "output_type": "execute_result"
          }],
   "source": [
    "open System\n",
    "\n",
    "let myStart = DateTime(2010,1,1)\n",
    "let myEnd = DateTime.UtcNow\n",
    "myEnd\n"
   ]
  }
,
  {
   "cell_type": "code",
   "metadata": {
    "dotnet_interactive": {
     "language": "fsharp"
    },
    "polyglot_notebook": {
     "kernelName": "fsharp"
    }
   },
   "execution_count": 42, "outputs": [],
   "source": [
    "let bnd = YahooFinance.History(\"BND\",startDate=myStart,endDate=myEnd,interval = Interval.Daily)\n",
    "let vti = YahooFinance.History(\"VTI\",startDate=myStart,endDate=myEnd,interval = Interval.Daily)\n"
   ]
  }
,
  {
   "cell_type": "markdown",
   "metadata": {},
   
   "source": [
    "This returns several data items for each point in time.\n",
    "\n"
   ]
  }
,
  {
   "cell_type": "code",
   "metadata": {
    "dotnet_interactive": {
     "language": "fsharp"
    },
    "polyglot_notebook": {
     "kernelName": "fsharp"
    }
   },
   "execution_count": 43, "outputs": [
          {
           "data": {
            "text/plain": ["No value returned by any evaluator"]
        },
           "execution_count": 43,
           "metadata": {},
           "output_type": "execute_result"
          }],
   "source": [
    "vti[0..3]\n"
   ]
  }
,
  {
   "cell_type": "markdown",
   "metadata": {},
   
   "source": [
    "The adjusted close is adjusted for stock splits and dividends.\n",
    "This adjustment is done so that you can calculate returns from the price changes.\n",
    "\n",
    "Let\u0027s see what it looks like to plot it.\n",
    "We\u0027re going to use the [plotly.NET](https://plotly.net) library for this.\n",
    "\n"
   ]
  }
,
  {
   "cell_type": "code",
   "metadata": {
    "dotnet_interactive": {
     "language": "fsharp"
    },
    "polyglot_notebook": {
     "kernelName": "fsharp"
    }
   },
   "execution_count": 44, "outputs": [],
   "source": [
    "#r \"nuget: Plotly.NET, 3.*\"\n",
    "#r \"nuget: Plotly.NET.Interactive, 3.*\"\n"
   ]
  }
,
  {
   "cell_type": "code",
   "metadata": {
    "dotnet_interactive": {
     "language": "fsharp"
    },
    "polyglot_notebook": {
     "kernelName": "fsharp"
    }
   },
   "execution_count": 45, "outputs": [],
   "source": [
    "open Plotly.NET\n"
   ]
  }
,
  {
   "cell_type": "markdown",
   "metadata": {},
   
   "source": [
    "Above we are loading an exact version by using a \",\" and version number.\n",
    "\n",
    "Plot prices as a line chart.\n",
    "\n"
   ]
  }
,
  {
   "cell_type": "code",
   "metadata": {
    "dotnet_interactive": {
     "language": "fsharp"
    },
    "polyglot_notebook": {
     "kernelName": "fsharp"
    }
   },
   "execution_count": 46, "outputs": [],
   "source": [
    "let vtiAdjPrices = [ for period in vti do period.Date, period.AdjustedClose ]\n"
   ]
  }
,
  {
   "cell_type": "code",
   "metadata": {
    "dotnet_interactive": {
     "language": "fsharp"
    },
    "polyglot_notebook": {
     "kernelName": "fsharp"
    }
   },
   "execution_count": null, "outputs": [
          {
           "data": {
            "text/plain": ["No value returned by any evaluator"]
        },
           "execution_count": null,
           "metadata": {},
           "output_type": "execute_result"
          }],
   "source": [
    "Chart.Line(vtiAdjPrices)\n"
   ]
  }
,
  {
   "cell_type": "markdown",
   "metadata": {},
   
   "source": [
    "Ok, back to the main objective. We need to calculate returns.\n",
    "We calculate returns from sequential days,\n",
    "so we need to make sure that our data is sorted correctly\n",
    "from the oldest to the newest data. We can do this with `List.Sort`.\n",
    "\n"
   ]
  }
,
  {
   "cell_type": "code",
   "metadata": {
    "dotnet_interactive": {
     "language": "fsharp"
    },
    "polyglot_notebook": {
     "kernelName": "fsharp"
    }
   },
   "execution_count": 48, "outputs": [
          {
           "data": {
            "text/plain": ["[-1; 1; 2; 7; 10]"]
        },
           "execution_count": 48,
           "metadata": {},
           "output_type": "execute_result"
          }],
   "source": [
    "[1; 7; 10; 2; -1] |\u003e List.sort\n"
   ]
  }
,
  {
   "cell_type": "markdown",
   "metadata": {},
   
   "source": [
    "Sort it by the date field.\n",
    "\n"
   ]
  }
,
  {
   "cell_type": "code",
   "metadata": {
    "dotnet_interactive": {
     "language": "fsharp"
    },
    "polyglot_notebook": {
     "kernelName": "fsharp"
    }
   },
   "execution_count": 49, "outputs": [],
   "source": [
    "let sortedBnd = bnd |\u003e List.sortBy (fun x -\u003e x.Date)\n"
   ]
  }
,
  {
   "cell_type": "markdown",
   "metadata": {},
   
   "source": [
    "The first three observations.\n",
    "\n"
   ]
  }
,
  {
   "cell_type": "code",
   "metadata": {
    "dotnet_interactive": {
     "language": "fsharp"
    },
    "polyglot_notebook": {
     "kernelName": "fsharp"
    }
   },
   "execution_count": 50, "outputs": [
          {
           "data": {
            "text/plain": ["No value returned by any evaluator"]
        },
           "execution_count": 50,
           "metadata": {},
           "output_type": "execute_result"
          }],
   "source": [
    "sortedBnd[0..2]\n"
   ]
  }
,
  {
   "cell_type": "markdown",
   "metadata": {},
   
   "source": [
    "The last 3 observations.\n",
    "\n"
   ]
  }
,
  {
   "cell_type": "code",
   "metadata": {
    "dotnet_interactive": {
     "language": "fsharp"
    },
    "polyglot_notebook": {
     "kernelName": "fsharp"
    }
   },
   "execution_count": 51, "outputs": [
          {
           "data": {
            "text/plain": ["No value returned by any evaluator"]
        },
           "execution_count": 51,
           "metadata": {},
           "output_type": "execute_result"
          }],
   "source": [
    "sortedBnd[(sortedBnd.Length-3)..]\n"
   ]
  }
,
  {
   "cell_type": "markdown",
   "metadata": {},
   
   "source": [
    "Great, they are properly sorted. Now I want sequential pairs of data.\n",
    "`List.pairwise` is good for this.\n",
    "\n"
   ]
  }
,
  {
   "cell_type": "code",
   "metadata": {
    "dotnet_interactive": {
     "language": "fsharp"
    },
    "polyglot_notebook": {
     "kernelName": "fsharp"
    }
   },
   "execution_count": 52, "outputs": [
          {
           "data": {
            "text/plain": ["[(1, 2); (2, 3); (3, 4); (4, 5)]"]
        },
           "execution_count": 52,
           "metadata": {},
           "output_type": "execute_result"
          }],
   "source": [
    "[1 .. 5] |\u003e List.pairwise\n"
   ]
  }
,
  {
   "cell_type": "code",
   "metadata": {
    "dotnet_interactive": {
     "language": "fsharp"
    },
    "polyglot_notebook": {
     "kernelName": "fsharp"
    }
   },
   "execution_count": 53, "outputs": [
          {
           "data": {
            "text/plain": ["No value returned by any evaluator"]
        },
           "execution_count": 53,
           "metadata": {},
           "output_type": "execute_result"
          }],
   "source": [
    "let sequentialBnd = bnd |\u003e List.pairwise\n",
    "\n",
    "sequentialBnd[0]\n"
   ]
  }
,
  {
   "cell_type": "code",
   "metadata": {
    "dotnet_interactive": {
     "language": "fsharp"
    },
    "polyglot_notebook": {
     "kernelName": "fsharp"
    }
   },
   "execution_count": 54, "outputs": [
          {
           "data": {
            "text/plain": ["No value returned by any evaluator"]
        },
           "execution_count": 54,
           "metadata": {},
           "output_type": "execute_result"
          }],
   "source": [
    "sequentialBnd[1]\n"
   ]
  }
,
  {
   "cell_type": "markdown",
   "metadata": {},
   
   "source": [
    "Take the first pair to see how to calculate returns.\n",
    "\n",
    "Extract the first and second elements of the tuple using pattern matching.\n",
    "\n"
   ]
  }
,
  {
   "cell_type": "code",
   "metadata": {
    "dotnet_interactive": {
     "language": "fsharp"
    },
    "polyglot_notebook": {
     "kernelName": "fsharp"
    }
   },
   "execution_count": 55, "outputs": [
          {
           "data": {
            "text/plain": ["No value returned by any evaluator"]
        },
           "execution_count": 55,
           "metadata": {},
           "output_type": "execute_result"
          }],
   "source": [
    "let (bndA, bndB) = sequentialBnd[0]\n",
    "bndA\n"
   ]
  }
,
  {
   "cell_type": "code",
   "metadata": {
    "dotnet_interactive": {
     "language": "fsharp"
    },
    "polyglot_notebook": {
     "kernelName": "fsharp"
    }
   },
   "execution_count": 56, "outputs": [
          {
           "data": {
            "text/plain": ["No value returned by any evaluator"]
        },
           "execution_count": 56,
           "metadata": {},
           "output_type": "execute_result"
          }],
   "source": [
    "bndB\n"
   ]
  }
,
  {
   "cell_type": "markdown",
   "metadata": {},
   
   "source": [
    "Remember that with continuous compounding, $FV_T = PV_t \\times e^{r}$\n",
    "where $FV$ is the future value, $PV$ is the present value, $r$ is return\n",
    "between period $t$ and $T$.\n",
    "\n",
    "If we take the log of both sides of the equation, we get\n",
    "\n",
    "\\begin{equation}\n",
    " log(FV) = log(PV) + r \\rightarrow log(FV) - log (PV) = r\n",
    "\\end{equation}\n",
    "\n",
    "This $r$ is known as the log return.\n",
    "So to find the log return between two periods we can take the\n",
    "difference of the log prices (where the prices are adjusted for dividends).\n",
    "\n"
   ]
  }
,
  {
   "cell_type": "code",
   "metadata": {
    "dotnet_interactive": {
     "language": "fsharp"
    },
    "polyglot_notebook": {
     "kernelName": "fsharp"
    }
   },
   "execution_count": 57, "outputs": [
          {
           "data": {
            "text/plain": ["No value returned by any evaluator"]
        },
           "execution_count": 57,
           "metadata": {},
           "output_type": "execute_result"
          }],
   "source": [
    "(log bndB.AdjustedClose) - (log bndA.AdjustedClose)\n"
   ]
  }
,
  {
   "cell_type": "markdown",
   "metadata": {},
   
   "source": [
    "Putting it all together.\n",
    "\n"
   ]
  }
,
  {
   "cell_type": "code",
   "metadata": {
    "dotnet_interactive": {
     "language": "fsharp"
    },
    "polyglot_notebook": {
     "kernelName": "fsharp"
    }
   },
   "execution_count": 58, "outputs": [
          {
           "data": {
            "text/plain": ["No value returned by any evaluator"]
        },
           "execution_count": 58,
           "metadata": {},
           "output_type": "execute_result"
          }],
   "source": [
    "let bndReturn = \n",
    "    bnd\n",
    "    |\u003e List.sortBy (fun x -\u003e x.Date)\n",
    "    |\u003e List.pairwise\n",
    "    |\u003e List.map (fun (a, b) -\u003e (log b.AdjustedClose) - (log a.AdjustedClose))\n",
    "\n",
    "let vtiReturn =\n",
    "    vti\n",
    "    |\u003e List.sortBy (fun x -\u003e x.Date)\n",
    "    |\u003e List.pairwise\n",
    "    |\u003e List.map (fun (a, b) -\u003e (log b.AdjustedClose) - (log a.AdjustedClose))\n",
    "\n",
    "\n",
    "let bndAvgReturn = bndReturn |\u003e List.average\n",
    "bndAvgReturn\n"
   ]
  }
,
  {
   "cell_type": "code",
   "metadata": {
    "dotnet_interactive": {
     "language": "fsharp"
    },
    "polyglot_notebook": {
     "kernelName": "fsharp"
    }
   },
   "execution_count": 59, "outputs": [
          {
           "data": {
            "text/plain": ["No value returned by any evaluator"]
        },
           "execution_count": 59,
           "metadata": {},
           "output_type": "execute_result"
          }],
   "source": [
    "let vtiAvgReturn = vtiReturn |\u003e List.average\n",
    "vtiAvgReturn\n"
   ]
  }
,
  {
   "cell_type": "markdown",
   "metadata": {},
   
   "source": [
    "* Portfolio returns for different weights.\n",
    "\n"
   ]
  }
,
  {
   "cell_type": "code",
   "metadata": {
    "dotnet_interactive": {
     "language": "fsharp"
    },
    "polyglot_notebook": {
     "kernelName": "fsharp"
    }
   },
   "execution_count": 60, "outputs": [
          {
           "data": {
            "text/plain": ["No value returned by any evaluator"]
        },
           "execution_count": 60,
           "metadata": {},
           "output_type": "execute_result"
          }],
   "source": [
    "let differentReturns =\n",
    "  [ for w in [0.0 .. 0.2 .. 1.0] do w, w*bndAvgReturn + (1.0-w)*vtiAvgReturn ]\n",
    "\n",
    "differentReturns\n"
   ]
  }
,
  {
   "cell_type": "code",
   "metadata": {
    "dotnet_interactive": {
     "language": "fsharp"
    },
    "polyglot_notebook": {
     "kernelName": "fsharp"
    }
   },
   "execution_count": 61, "outputs": [],
   "source": [
    "Chart.Line(differentReturns)\n"
   ]
  }
,
  {
   "cell_type": "markdown",
   "metadata": {},
   
   "source": [
    "## Portfolio Variance\n",
    "\n",
    "For a portfolio of $N$ assets, the portfolio variance $\\sigma_p^2$ is\n",
    "\n",
    "\\begin{equation}\n",
    " \\sigma_p^2 = \\sum^N_{i=1} \\sum^N_{j=1} w_i w_j cov(r_i,r_j) = \\sum^N_{i=1} w^2_i\\sigma^2_i + 2\\sum_{j\u003ci} w_i w_j cov(r_i,r_j)\n",
    "\\end{equation}\n",
    "\n",
    "where $i$ and $j$ index assets, $r_i$ is the return of asset $i$, $\\sigma^2_i$ is the variance of $r_i$,\n",
    "and $cov(r_i,r_j)$ is the covariance between $r_i$ and $r_j$.\n",
    "\n",
    "For a portfolio of two assets $x$ and $y$ this simplifies to:\n",
    "\n",
    "\\begin{equation}\n",
    " \\sigma^2_p = w_x^2 \\sigma^2_x + w_y^2 \\sigma^2_y + 2 w_x w_y cov(r_x,r_y).\n",
    "\\end{equation}\n",
    "\n",
    "this.\n",
    "For next time: Portfolio Variance and Leverage\n",
    "\n",
    "## Leverage\n",
    "\n"
   ]
  }
,
  {
   "cell_type": "code",
   "metadata": {
    "dotnet_interactive": {
     "language": "fsharp"
    },
    "polyglot_notebook": {
     "kernelName": "fsharp"
    }
   },
   "execution_count": 62, "outputs": [],
   "source": [
    "#r \"nuget: FSharp.Stats, 0.5.0\"\n",
    "\n",
    "open FSharp.Stats\n",
    "open FSharp.Stats.Correlation\n",
    "\n",
    "\n",
    "\n",
    "\n",
    "Seq.pearson bndReturn vtiReturn\n"
   ]
  }
 ],
 "metadata": {
  "kernelspec": {
   "display_name": ".NET (F#)",
   "language": "F#",
   "name": ".net-fsharp"
  },
  "language_info": {
   "file_extension": ".fs",
   "mimetype": "text/x-fsharp",
   "name": "polyglot-notebook",
   "pygments_lexer": "fsharp"
  },
  "polyglot_notebook": {
   "kernelInfo": {
    "defaultKernelName": "fsharp",
    "items": [
     {
      "aliases": [],
      "languageName": "fsharp",
      "name": "fsharp"
     }
    ]
   }
  }
 },
 "nbformat": 4,
 "nbformat_minor": 2
}

