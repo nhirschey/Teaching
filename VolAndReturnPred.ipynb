
{
 "cells": [
  {
   "cell_type": "markdown",
   "metadata": {},
   
   "source": [
    "[![Binder](img/badge-binder.svg)](https://mybinder.org/v2/gh/nhirschey/teaching/gh-pages?filepath=VolAndReturnPred.ipynb)\u0026emsp;\n",
    "[![Script](img/badge-script.svg)](/Teaching//VolAndReturnPred.fsx)\u0026emsp;\n",
    "[![Notebook](img/badge-notebook.svg)](/Teaching//VolAndReturnPred.ipynb)\n",
    "\n",
    "# Objectives\n",
    "\n",
    "## Loading Fama and French data\n",
    "\n"
   ]
  }
,
  {
   "cell_type": "code",
   "metadata": {
    "dotnet_interactive": {
     "language": "fsharp"
    },
    "polyglot_notebook": {
     "kernelName": "fsharp"
    }
   },
   "execution_count": 1, "outputs": [],
   "source": [
    "#r \"nuget: FSharp.Data, 5.0.2\"\n",
    "#r \"nuget: NovaSBE.Finance, 0.5.0\"\n",
    "#r \"nuget: FSharp.Stats, 0.5.0\"\n",
    "#r \"nuget: Plotly.NET, 3.*\"\n",
    "#r \"nuget: Plotly.NET.Interactive, 3.*\"\n",
    "\n",
    "open System\n",
    "open FSharp.Data\n",
    "open FSharp.Stats\n",
    "open Plotly.NET\n",
    "open NovaSBE.Finance.French\n",
    "\n",
    "let ff3 = \n",
    "    getFF3 Frequency.Daily \n",
    "    |\u003e Array.toList\n"
   ]
  }
,
  {
   "cell_type": "markdown",
   "metadata": {},
   
   "source": [
    "## Faster code\n",
    "\n",
    "Let\u0027s revisit our exponentially weighted volatility predicton from before.\n",
    "\n",
    "This is the original, working with lists, with some minor changes for clarity.\n",
    "\n"
   ]
  }
,
  {
   "cell_type": "code",
   "metadata": {
    "dotnet_interactive": {
     "language": "fsharp"
    },
    "polyglot_notebook": {
     "kernelName": "fsharp"
    }
   },
   "execution_count": 2, "outputs": [],
   "source": [
    "type ReturnObs = { Date: DateTime; Return: float}\n",
    "\n",
    "type VolatilityPrediction = \n",
    "    { /// First date the prediction is valid for\n",
    "      Date: DateTime\n",
    "      /// The volatility prediction\n",
    "      PredictedVol: float}\n",
    "\n",
    "let expRealizedVolList (width: int) (lambda: float) (data: list\u003cReturnObs\u003e) =\n",
    "    data\n",
    "    // Descending gets us ordered t, t-1, t-2, ...\n",
    "    |\u003e List.sortByDescending (fun x -\u003e x.Date)\n",
    "    |\u003e List.windowed (width + 1)\n",
    "    |\u003e List.map (fun window -\u003e\n",
    "        let dayToPredict = window[0]\n",
    "        let trainingDays = window[1..]\n",
    "        let mu = \n",
    "            trainingDays \n",
    "            |\u003e List.map (fun x -\u003e x.Return) \n",
    "            |\u003e List.average\n",
    "        let sd =\n",
    "            [ for t = 1 to width do\n",
    "                let w = (1.0 - lambda)*lambda**(float t - 1.0)\n",
    "                w * (trainingDays[t-1].Return - mu)**2.0 ]\n",
    "            |\u003e List.sum\n",
    "            |\u003e sqrt\n",
    "\n",
    "        { VolatilityPrediction.Date = dayToPredict.Date; PredictedVol = sd })\n",
    "    |\u003e List.rev\n"
   ]
  }
,
  {
   "cell_type": "markdown",
   "metadata": {},
   
   "source": [
    "let\u0027s time it.\n",
    "\n"
   ]
  }
,
  {
   "cell_type": "code",
   "metadata": {
    "dotnet_interactive": {
     "language": "fsharp"
    },
    "polyglot_notebook": {
     "kernelName": "fsharp"
    }
   },
   "execution_count": 3, "outputs": [],
   "source": [
    "let rets = ff3 |\u003e List.map (fun x -\u003e { Date = x.Date; Return = x.MktRf})\n",
    "\n",
    "#if FSX\n",
    "#time \"on\"\n",
    "#endif // FSX\n",
    "\n",
    "let vList = expRealizedVolList 500 0.94 rets\n"
   ]
  }
,
  {
   "cell_type": "markdown",
   "metadata": {},
   
   "source": [
    "That\u0027s kinda slow.\n",
    "\n",
    "Part of the reason is that it\u0027s iterating through lists,\n",
    "and iterating through large\n",
    "lists can be slow.\n",
    "\n",
    "Try it with array.\n",
    "\n"
   ]
  }
,
  {
   "cell_type": "code",
   "metadata": {
    "dotnet_interactive": {
     "language": "fsharp"
    },
    "polyglot_notebook": {
     "kernelName": "fsharp"
    }
   },
   "execution_count": 4, "outputs": [],
   "source": [
    "let xvArray (width: int) (lambda: float) (data: array\u003cReturnObs\u003e) =\n",
    "    data\n",
    "    // Descending gets us ordered t, t-1, t-2, ...\n",
    "    |\u003e Array.sortByDescending (fun x -\u003e x.Date)\n",
    "    |\u003e Array.windowed (width + 1)\n",
    "    |\u003e Array.map (fun window -\u003e\n",
    "        let dayToPredict = window[0]\n",
    "        let trainingDays = window[1..]\n",
    "        let mu = \n",
    "            trainingDays \n",
    "            |\u003e Array.map (fun x -\u003e x.Return) \n",
    "            |\u003e Array.average\n",
    "        let sd =\n",
    "            [| for t = 1 to width do\n",
    "                let w = (1.0 - lambda)*lambda**(float t - 1.0)\n",
    "                w * (trainingDays[t-1].Return - mu)**2.0 |]\n",
    "            |\u003e Array.sum\n",
    "            |\u003e sqrt\n",
    "\n",
    "        { VolatilityPrediction.Date = dayToPredict.Date; PredictedVol = sd })\n",
    "    |\u003e Array.rev\n"
   ]
  }
,
  {
   "cell_type": "markdown",
   "metadata": {},
   
   "source": [
    "Data to test it.\n",
    "\n"
   ]
  }
,
  {
   "cell_type": "code",
   "metadata": {
    "dotnet_interactive": {
     "language": "fsharp"
    },
    "polyglot_notebook": {
     "kernelName": "fsharp"
    }
   },
   "execution_count": 5, "outputs": [],
   "source": [
    "let retsArray = rets |\u003e List.toArray\n"
   ]
  }
,
  {
   "cell_type": "markdown",
   "metadata": {},
   
   "source": [
    "Test it.\n",
    "\n"
   ]
  }
,
  {
   "cell_type": "code",
   "metadata": {
    "dotnet_interactive": {
     "language": "fsharp"
    },
    "polyglot_notebook": {
     "kernelName": "fsharp"
    }
   },
   "execution_count": 6, "outputs": [],
   "source": [
    "let vArray = xvArray 500 0.94 retsArray\n"
   ]
  }
,
  {
   "cell_type": "markdown",
   "metadata": {},
   
   "source": [
    "That\u0027s somewhat faster.\n",
    "\n",
    "We can be even faster by reducing allocations.\n",
    "\n"
   ]
  }
,
  {
   "cell_type": "code",
   "metadata": {
    "dotnet_interactive": {
     "language": "fsharp"
    },
    "polyglot_notebook": {
     "kernelName": "fsharp"
    }
   },
   "execution_count": 7, "outputs": [],
   "source": [
    "let xvArrayFewerAlloc (width: int) (lambda: float) (data: array\u003cReturnObs\u003e) =\n",
    "    data\n",
    "    |\u003e Array.sortByDescending (fun x -\u003e x.Date)\n",
    "    |\u003e Array.windowed (width + 1)\n",
    "    |\u003e Array.map (fun window -\u003e\n",
    "        let mu = window[1..] |\u003e Array.averageBy (fun x -\u003e x.Return)\n",
    "        let mutable acc = 0.0\n",
    "        for t = 1 to width do \n",
    "            let w = (1.0 - lambda)*lambda**(float t - 1.0)\n",
    "            acc \u003c- acc + w * (window[t].Return - mu)**2.0\n",
    "        { VolatilityPrediction.Date = window[0].Date; PredictedVol = sqrt acc })\n",
    "    |\u003e Array.rev\n"
   ]
  }
,
  {
   "cell_type": "markdown",
   "metadata": {},
   
   "source": [
    "Test it.\n",
    "\n"
   ]
  }
,
  {
   "cell_type": "code",
   "metadata": {
    "dotnet_interactive": {
     "language": "fsharp"
    },
    "polyglot_notebook": {
     "kernelName": "fsharp"
    }
   },
   "execution_count": 8, "outputs": [],
   "source": [
    "let vFewerAlloc = xvArrayFewerAlloc 500 0.94 retsArray \n"
   ]
  }
,
  {
   "cell_type": "markdown",
   "metadata": {},
   
   "source": [
    "Even fewer allocations.\n",
    "\n"
   ]
  }
,
  {
   "cell_type": "code",
   "metadata": {
    "dotnet_interactive": {
     "language": "fsharp"
    },
    "polyglot_notebook": {
     "kernelName": "fsharp"
    }
   },
   "execution_count": 9, "outputs": [],
   "source": [
    "let xvArrayFewerAlloc2 (width: int) (lambda: float) (data: array\u003cReturnObs\u003e) =\n",
    "    let data = data |\u003e Array.sortByDescending (fun x -\u003e x.Date)\n",
    "    data[..data.Length-1-width]\n",
    "    |\u003e Array.mapi (fun i x -\u003e\n",
    "        let mu = data[i+1..i+width] |\u003e Array.averageBy (fun x -\u003e x.Return)\n",
    "        let mutable acc = 0.0\n",
    "        for t = 1 to width do \n",
    "            let w = (1.0 - lambda)*lambda**(float t - 1.0)\n",
    "            acc \u003c- acc + w * (data[i+t].Return - mu)**2.0\n",
    "        { VolatilityPrediction.Date = x.Date; PredictedVol = sqrt acc })\n",
    "    |\u003e Array.rev\n",
    "\n",
    "let vFewerAlloc2 = xvArrayFewerAlloc2 500 0.94 retsArray \n"
   ]
  }
,
  {
   "cell_type": "markdown",
   "metadata": {},
   
   "source": [
    "Now make the fewer alloc version parallel.\n",
    "\n"
   ]
  }
,
  {
   "cell_type": "code",
   "metadata": {
    "dotnet_interactive": {
     "language": "fsharp"
    },
    "polyglot_notebook": {
     "kernelName": "fsharp"
    }
   },
   "execution_count": 10, "outputs": [],
   "source": [
    "let xvFewerAllocParallel (width: int) (lambda: float) (data: array\u003cReturnObs\u003e) =\n",
    "    data\n",
    "    |\u003e Array.sortByDescending (fun x -\u003e x.Date)\n",
    "    |\u003e Array.windowed (width + 1)\n",
    "    |\u003e Array.Parallel.map (fun window -\u003e\n",
    "        let mu = window[1..] |\u003e Array.averageBy (fun x -\u003e x.Return)\n",
    "        let mutable acc = 0.0\n",
    "        for t = 1 to width do \n",
    "            let w = (1.0 - lambda)*lambda**(float t - 1.0)\n",
    "            acc \u003c- acc + w * (window[t].Return - mu)**2.0\n",
    "        { VolatilityPrediction.Date = window[0].Date; PredictedVol = sqrt acc })\n",
    "    |\u003e Array.rev\n"
   ]
  }
,
  {
   "cell_type": "markdown",
   "metadata": {},
   
   "source": [
    "Test it.\n",
    "\n"
   ]
  }
,
  {
   "cell_type": "code",
   "metadata": {
    "dotnet_interactive": {
     "language": "fsharp"
    },
    "polyglot_notebook": {
     "kernelName": "fsharp"
    }
   },
   "execution_count": 11, "outputs": [],
   "source": [
    "let vFewerParallel = xvFewerAllocParallel 500 0.94 retsArray\n"
   ]
  }
,
  {
   "cell_type": "markdown",
   "metadata": {},
   
   "source": [
    "Now make the second fewer alloc version parallel.\n",
    "\n"
   ]
  }
,
  {
   "cell_type": "code",
   "metadata": {
    "dotnet_interactive": {
     "language": "fsharp"
    },
    "polyglot_notebook": {
     "kernelName": "fsharp"
    }
   },
   "execution_count": 12, "outputs": [],
   "source": [
    "let xvFewerAlloc2Parallel (width: int) (lambda: float) (data: array\u003cReturnObs\u003e) =\n",
    "    let data = data |\u003e Array.sortByDescending (fun x -\u003e x.Date)\n",
    "    data[..data.Length-1-width]\n",
    "    |\u003e Array.Parallel.mapi (fun i x -\u003e\n",
    "        let mu = data[i+1..i+width] |\u003e Array.averageBy (fun x -\u003e x.Return)\n",
    "        let mutable acc = 0.0\n",
    "        for t = 1 to width do \n",
    "            let w = (1.0 - lambda)*lambda**(float t - 1.0)\n",
    "            acc \u003c- acc + w * (data[i+t].Return - mu)**2.0\n",
    "        { VolatilityPrediction.Date = x.Date; PredictedVol = sqrt acc })\n",
    "    |\u003e Array.rev\n"
   ]
  }
,
  {
   "cell_type": "markdown",
   "metadata": {},
   
   "source": [
    "Test it.\n",
    "\n"
   ]
  }
,
  {
   "cell_type": "code",
   "metadata": {
    "dotnet_interactive": {
     "language": "fsharp"
    },
    "polyglot_notebook": {
     "kernelName": "fsharp"
    }
   },
   "execution_count": 13, "outputs": [],
   "source": [
    "let vFewer2Parallel = xvFewerAlloc2Parallel 500 0.94 retsArray\n"
   ]
  }
,
  {
   "cell_type": "markdown",
   "metadata": {},
   
   "source": [
    "Compare results.\n",
    "\n"
   ]
  }
,
  {
   "cell_type": "code",
   "metadata": {
    "dotnet_interactive": {
     "language": "fsharp"
    },
    "polyglot_notebook": {
     "kernelName": "fsharp"
    }
   },
   "execution_count": 14, "outputs": [],
   "source": [
    "(vList |\u003e List.toArray) = vFewerAlloc2\n",
    "\n",
    "[ vArray; vFewerAlloc; vFewerAlloc2; vFewerParallel; vFewer2Parallel]\n",
    "|\u003e List.forall (fun x -\u003e x = (vList |\u003e List.toArray ))\n"
   ]
  }
,
  {
   "cell_type": "markdown",
   "metadata": {},
   
   "source": [
    "## Return predictions\n",
    "\n"
   ]
  }
,
  {
   "cell_type": "code",
   "metadata": {
    "dotnet_interactive": {
     "language": "fsharp"
    },
    "polyglot_notebook": {
     "kernelName": "fsharp"
    }
   },
   "execution_count": 15, "outputs": [],
   "source": [
    "type ReturnPrediction = { Date: DateTime; PredictedReturn: float }\n",
    "\n",
    "let avgReturnAccumulatorList (xs: list\u003cReturnObs\u003e) =\n",
    "    let mutable acc = 0.0\n",
    "    [ for i=0 to (xs.Length-2) do\n",
    "        acc \u003c- acc + xs[i].Return\n",
    "        let avgReturn = acc / float (i + 1)\n",
    "        { Date = xs[i+1].Date; PredictedReturn = avgReturn }]\n"
   ]
  }
,
  {
   "cell_type": "markdown",
   "metadata": {},
   
   "source": [
    "Test it.\n",
    "\n"
   ]
  }
,
  {
   "cell_type": "code",
   "metadata": {
    "dotnet_interactive": {
     "language": "fsharp"
    },
    "polyglot_notebook": {
     "kernelName": "fsharp"
    }
   },
   "execution_count": 16, "outputs": [],
   "source": [
    "let testData =\n",
    "    [{ Date = DateTime(1999,1,1); Return = 1.0 }\n",
    "     { Date = DateTime(1999,1,2); Return = 2.0 }\n",
    "     { Date = DateTime(1999,1,3); Return = -3.0 } \n",
    "     { Date = DateTime(1999,1,4); Return = 0.0 }]\n",
    "\n",
    "avgReturnAccumulatorList testData\n"
   ]
  }
,
  {
   "cell_type": "markdown",
   "metadata": {},
   
   "source": [
    "For the whole dataset\n",
    "\n"
   ]
  }
,
  {
   "cell_type": "code",
   "metadata": {
    "dotnet_interactive": {
     "language": "fsharp"
    },
    "polyglot_notebook": {
     "kernelName": "fsharp"
    }
   },
   "execution_count": 17, "outputs": [],
   "source": [
    "let retPredictions = avgReturnAccumulatorList rets\n"
   ]
  }
,
  {
   "cell_type": "markdown",
   "metadata": {},
   
   "source": [
    "## Combining predictions\n",
    "\n",
    "Now form portfolios based on these predictions.\n",
    "\n"
   ]
  }
,
  {
   "cell_type": "code",
   "metadata": {
    "dotnet_interactive": {
     "language": "fsharp"
    },
    "polyglot_notebook": {
     "kernelName": "fsharp"
    }
   },
   "execution_count": 18, "outputs": [],
   "source": [
    "type VolAndReturnPrediction = { Date: DateTime; PredictedVol: float; PredictedReturn: float }\n",
    "\n",
    "let combinePredictions (predReturns: seq\u003cReturnPrediction\u003e) (predVols: seq\u003cVolatilityPrediction\u003e) =\n",
    "    let predVols = \n",
    "        predVols \n",
    "        |\u003e Seq.map (fun x -\u003e x.Date, x.PredictedVol) \n",
    "        |\u003e Map\n",
    "    [ for retObs in predReturns do \n",
    "        if predVols.ContainsKey retObs.Date then\n",
    "            { Date = retObs.Date \n",
    "              PredictedVol = predVols[retObs.Date]\n",
    "              PredictedReturn = retObs.PredictedReturn } ]\n"
   ]
  }
,
  {
   "cell_type": "markdown",
   "metadata": {},
   
   "source": [
    "Let\u0027s see how it works\n",
    "\n"
   ]
  }
,
  {
   "cell_type": "code",
   "metadata": {
    "dotnet_interactive": {
     "language": "fsharp"
    },
    "polyglot_notebook": {
     "kernelName": "fsharp"
    }
   },
   "execution_count": 19, "outputs": [],
   "source": [
    "combinePredictions retPredictions[1000..1005] vFewer2Parallel\n"
   ]
  }
,
  {
   "cell_type": "markdown",
   "metadata": {},
   
   "source": [
    "Now let\u0027s have a function that creates returns off of that.\n",
    "\n"
   ]
  }
,
  {
   "cell_type": "code",
   "metadata": {
    "dotnet_interactive": {
     "language": "fsharp"
    },
    "polyglot_notebook": {
     "kernelName": "fsharp"
    }
   },
   "execution_count": 20, "outputs": [],
   "source": [
    "let managedPortfolio gamma predVols predReturns (xs: list\u003cReturnObs\u003e) =\n",
    "    let preds = \n",
    "        combinePredictions predReturns predVols\n",
    "        |\u003e List.map (fun x -\u003e x.Date, x)\n",
    "        |\u003e Map\n",
    "    [ for x in xs do \n",
    "        if preds.ContainsKey x.Date then\n",
    "            let pred = preds[x.Date]\n",
    "            let w = pred.PredictedReturn / (gamma* pred.PredictedVol ** 2.0)\n",
    "            { Date = x.Date\n",
    "              Return = w * x.Return } ]\n"
   ]
  }
,
  {
   "cell_type": "markdown",
   "metadata": {},
   
   "source": [
    "Let\u0027s see how it works\n",
    "\n"
   ]
  }
,
  {
   "cell_type": "code",
   "metadata": {
    "dotnet_interactive": {
     "language": "fsharp"
    },
    "polyglot_notebook": {
     "kernelName": "fsharp"
    }
   },
   "execution_count": 21, "outputs": [],
   "source": [
    "managedPortfolio 3.0 vFewer2Parallel retPredictions[1000..1005] rets\n"
   ]
  }
,
  {
   "cell_type": "markdown",
   "metadata": {},
   
   "source": [
    "Doing it for the full sample.\n",
    "\n"
   ]
  }
,
  {
   "cell_type": "code",
   "metadata": {
    "dotnet_interactive": {
     "language": "fsharp"
    },
    "polyglot_notebook": {
     "kernelName": "fsharp"
    }
   },
   "execution_count": 22, "outputs": [],
   "source": [
    "let result = \n",
    "    managedPortfolio 3.0 vFewer2Parallel retPredictions rets\n"
   ]
  }
,
  {
   "cell_type": "markdown",
   "metadata": {},
   
   "source": [
    "Now calculate mean-variance utility of the portfolio.\n",
    "\n"
   ]
  }
,
  {
   "cell_type": "code",
   "metadata": {
    "dotnet_interactive": {
     "language": "fsharp"
    },
    "polyglot_notebook": {
     "kernelName": "fsharp"
    }
   },
   "execution_count": 23, "outputs": [],
   "source": [
    "let avgReturn = result |\u003e List.averageBy (fun x -\u003e x.Return)\n",
    "let varResult = result |\u003e varBy (fun x -\u003e x.Return)\n",
    "\n",
    "(avgReturn - (3.0/2.0) * varResult)*252.0\n"
   ]
  }
,
  {
   "cell_type": "markdown",
   "metadata": {},
   
   "source": [
    "Compare to just buy and hold\n",
    "\n"
   ]
  }
,
  {
   "cell_type": "code",
   "metadata": {
    "dotnet_interactive": {
     "language": "fsharp"
    },
    "polyglot_notebook": {
     "kernelName": "fsharp"
    }
   },
   "execution_count": 24, "outputs": [],
   "source": [
    "let managedMinDate = result |\u003e List.map (fun x -\u003e x.Date) |\u003e List.min\n",
    "let buyHoldPeriod = rets |\u003e List.filter (fun x -\u003e x.Date \u003e= managedMinDate)\n",
    "let avgBuyHold = buyHoldPeriod |\u003e List.averageBy (fun x -\u003e x.Return)\n",
    "let varBuyHold = buyHoldPeriod |\u003e varBy (fun x -\u003e x.Return)\n",
    "\n",
    "(avgBuyHold - (3.0/2.0) * varBuyHold)*252.0\n"
   ]
  }
,
  {
   "cell_type": "markdown",
   "metadata": {},
   
   "source": [
    "Now our managed portfolio.\n",
    "\n"
   ]
  }
,
  {
   "cell_type": "code",
   "metadata": {
    "dotnet_interactive": {
     "language": "fsharp"
    },
    "polyglot_notebook": {
     "kernelName": "fsharp"
    }
   },
   "execution_count": 25, "outputs": [],
   "source": [
    "let avgManagedReturn = result |\u003e List.averageBy (fun x -\u003e x.Return)\n",
    "let varManagedResult = result |\u003e varBy (fun x -\u003e x.Return)\n",
    "\n",
    "(avgManagedReturn - (3.0/2.0) * varManagedResult)*252.0\n"
   ]
  }
,
  {
   "cell_type": "markdown",
   "metadata": {},
   
   "source": [
    "Why the difference?\n",
    "\n",
    "Try scaling managed to full sample variance.\n",
    "\n"
   ]
  }
,
  {
   "cell_type": "code",
   "metadata": {
    "dotnet_interactive": {
     "language": "fsharp"
    },
    "polyglot_notebook": {
     "kernelName": "fsharp"
    }
   },
   "execution_count": 26, "outputs": [],
   "source": [
    "let c = sqrt varBuyHold / sqrt varManagedResult\n",
    "(c * avgManagedReturn - (3.0/2.0) * c ** 2.0 * varManagedResult)*252.0\n"
   ]
  }
,
  {
   "cell_type": "markdown",
   "metadata": {},
   
   "source": [
    "Another way of seeing it.\n",
    "\n"
   ]
  }
,
  {
   "cell_type": "code",
   "metadata": {
    "dotnet_interactive": {
     "language": "fsharp"
    },
    "polyglot_notebook": {
     "kernelName": "fsharp"
    }
   },
   "execution_count": 27, "outputs": [],
   "source": [
    "let mvu gamma mu sigma =\n",
    "    mu - 0.5 * gamma * sigma ** 2.0\n",
    "\n",
    "mvu 3.0 (avgBuyHold * 252.0) (sqrt (varBuyHold * 252.0))\n",
    "\n",
    "let w_star = avgBuyHold / (3.0 * varBuyHold)\n",
    "\n",
    "mvu 3.0 (w_star * avgBuyHold * 252.0) (sqrt (w_star ** 2.0 * varBuyHold * 252.0))\n"
   ]
  }
 ],
 "metadata": {
  "kernelspec": {
   "display_name": ".NET (F#)",
   "language": "F#",
   "name": ".net-fsharp"
  },
  "language_info": {
   "file_extension": ".fs",
   "mimetype": "text/x-fsharp",
   "name": "polyglot-notebook",
   "pygments_lexer": "fsharp"
  },
  "polyglot_notebook": {
   "kernelInfo": {
    "defaultKernelName": "fsharp",
    "items": [
     {
      "aliases": [],
      "languageName": "fsharp",
      "name": "fsharp"
     }
    ]
   }
  }
 },
 "nbformat": 4,
 "nbformat_minor": 2
}

