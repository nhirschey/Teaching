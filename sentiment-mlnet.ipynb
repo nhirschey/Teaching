
{
 "cells": [
  {
   "cell_type": "markdown",
   "metadata": {},
   
   "source": [
    "[![Binder](img/badge-binder.svg)](https://mybinder.org/v2/gh/nhirschey/teaching/gh-pages?filepath=sentiment-mlnet.ipynb)\u0026emsp;\n",
    "[![Script](img/badge-script.svg)](/Teaching//sentiment-mlnet.fsx)\u0026emsp;\n",
    "[![Notebook](img/badge-notebook.svg)](/Teaching//sentiment-mlnet.ipynb)\n",
    "\n",
    "\u003e Developed with [Antonio Salomao](https://github.com/aexsalomao), building off his independent work [here](https://aexsalomao.github.io/ConferenceCalls/).\n",
    "\u003e \n",
    "\n",
    "A lot of the growth in machine learning involves learning from loosely structured data such as text and images. The following analysis provides a light introduction to learning from textual data. We will see if it is possible to identify whether a firm is reporting good or bad results from the text of their quarterly earnings conference call. This is something that can be learned from looking at financial statements, but we want to see if we can train a model to learn similar information from the words spoken during the call. This is known as sentiment analysis and has been explored in finance contexts by [Tetlock (2007)](https://scholar.google.com/citations?view_op=view_citation\u0026hl=en\u0026citation_for_view=MwKqqlAAAAAJ:3fE2CSJIrl8C), [Loughran and McDonald (2011)](https://scholar.google.com/citations?view_op=view_citation\u0026hl=en\u0026citation_for_view=FnFYSIQAAAAJ:blknAaTinKkC), and others.\n",
    "\n",
    "We\u0027re going to use [ML.NET](https://dotnet.microsoft.com/en-us/apps/machinelearning-ai/ml-dotnet), which provides a production-ready API for training and deploying machine learning models.\n",
    "\n",
    "To start we\u0027ll load some libaries.\n",
    "\n"
   ]
  }
,
  {
   "cell_type": "code",
   "metadata": {
    "dotnet_interactive": {
     "language": "fsharp"
    },
    "polyglot_notebook": {
     "kernelName": "fsharp"
    }
   },
   "execution_count": null, "outputs": [],
   "source": [
    "#r \"nuget:FSharp.Stats\"\n",
    "#r \"nuget: Microsoft.ML, 1.7.*\"\n",
    "#r \"nuget: Microsoft.ML.FastTree\"\n",
    "#r \"nuget: FSharp.Data, 5.0.2\"\n",
    "#r \"nuget: Plotly.NET, 3.*\"\n",
    "#r \"nuget: Plotly.NET.Interactive, 3.*\"\n"
   ]
  }
,
  {
   "cell_type": "code",
   "metadata": {
    "dotnet_interactive": {
     "language": "fsharp"
    },
    "polyglot_notebook": {
     "kernelName": "fsharp"
    }
   },
   "execution_count": null, "outputs": [],
   "source": [
    "#time \"on\"\n",
    "\n",
    "open System\n",
    "open System.IO\n",
    "open System.IO.Compression\n",
    "open System.Text.Json\n",
    "open System.Net\n",
    "open FSharp.Data\n",
    "open FSharp.Stats\n",
    "open Plotly.NET\n",
    "open Microsoft.ML\n",
    "open Microsoft.ML.Data\n",
    "open Microsoft.ML.Transforms.Text\n",
    "\n",
    "Environment.CurrentDirectory \u003c- __SOURCE_DIRECTORY__\n"
   ]
  }
,
  {
   "cell_type": "code",
   "metadata": {
    "dotnet_interactive": {
     "language": "fsharp"
    },
    "polyglot_notebook": {
     "kernelName": "fsharp"
    }
   },
   "execution_count": null, "outputs": [],
   "source": [
    "// Set dotnet interactive formatter to plaintext\n",
    "Formatter.Register(fun (x:obj) (writer: TextWriter) -\u003e fprintfn writer \"%120A\" x )\n",
    "Formatter.SetPreferredMimeTypesFor(typeof\u003cobj\u003e, \"text/plain\")\n",
    "// Make plotly graphs work with interactive plaintext formatter\n",
    "Formatter.SetPreferredMimeTypesFor(typeof\u003cGenericChart.GenericChart\u003e,\"text/html\")\n"
   ]
  }
,
  {
   "cell_type": "markdown",
   "metadata": {},
   
   "source": [
    "## Data\n",
    "\n",
    "We\u0027ll use a dataset containing transcripts of quarterly conference calls from NASADAQ100 companies from 2018 to 2021. Let\u0027s download that.\n",
    "\n"
   ]
  }
,
  {
   "cell_type": "code",
   "metadata": {
    "dotnet_interactive": {
     "language": "fsharp"
    },
    "polyglot_notebook": {
     "kernelName": "fsharp"
    }
   },
   "execution_count": null, "outputs": [],
   "source": [
    "let download (inputUrl:string) (outputFile:string) =\n",
    "    Directory.CreateDirectory(Path.GetDirectoryName(outputFile)) |\u003e ignore\n",
    "    if IO.File.Exists(outputFile) then\n",
    "        printfn $\"The file {outputFile} already exists. Skipping download\" \n",
    "    else\n",
    "        let web = Http.RequestStream(inputUrl)\n",
    "        use fileStream = IO.File.Create(outputFile)\n",
    "        web.ResponseStream.CopyTo(fileStream)\n",
    "        fileStream.Close()\n",
    "\n",
    "// Decompress a gzip file\n",
    "let gunzip (inputFile:string) (outputFile:string) =\n",
    "    Directory.CreateDirectory(Path.GetDirectoryName(outputFile)) |\u003e ignore\n",
    "    if File.Exists(outputFile) then File.Delete(outputFile)\n",
    "    use inputStream = File.OpenRead(inputFile)\n",
    "    use outputStream = File.Create(outputFile)\n",
    "    use gzipStream = new GZipStream(inputStream, CompressionMode.Decompress)\n",
    "    gzipStream.CopyTo(outputStream)\n",
    "\n",
    "let nq100FullUrl = \"https://www.dropbox.com/s/izcsjp06lgwbauu/Nasdaq100CallFull.json.gz?dl=1\"\n",
    "let dataFolder = \"data\"\n",
    "let nqFullFile = Path.Combine(dataFolder, \"Nasdaq100CallFull.json\")\n",
    "let nq100FullFileGz = nqFullFile.Replace(\".json\", \".json.gz\")\n",
    "\n",
    "download nq100FullUrl nq100FullFileGz\n",
    "gunzip nq100FullFileGz nqFullFile\n"
   ]
  }
,
  {
   "cell_type": "markdown",
   "metadata": {},
   
   "source": [
    "You should now have a file called `Nasdaq100CallFull.json` in the `data` folder.\n",
    "\n",
    "Let\u0027s read it into a list.\n",
    "\n"
   ]
  }
,
  {
   "cell_type": "code",
   "metadata": {
    "dotnet_interactive": {
     "language": "fsharp"
    },
    "polyglot_notebook": {
     "kernelName": "fsharp"
    }
   },
   "execution_count": null, "outputs": [],
   "source": [
    "// Types - Earnings Announcement\n",
    "type CallId =\n",
    "    { Ticker: string\n",
    "      Exchange: string\n",
    "      FiscalQuarter: int\n",
    "      Date: DateTime }\n",
    "\n",
    "type CallFull = \n",
    "    { CallId: CallId\n",
    "      Header: string\n",
    "      PreparedRemarks: string\n",
    "      QuestionsAndAnswers: string\n",
    "      Label: float }\n",
    "\n",
    "let nq100Full = \n",
    "    File.ReadAllText(nqFullFile)\n",
    "    |\u003e JsonSerializer.Deserialize\u003cList\u003cCallFull\u003e\u003e\n"
   ]
  }
,
  {
   "cell_type": "markdown",
   "metadata": {},
   
   "source": [
    "Let\u0027s look at a call.\n",
    "\n"
   ]
  }
,
  {
   "cell_type": "code",
   "metadata": {
    "dotnet_interactive": {
     "language": "fsharp"
    },
    "polyglot_notebook": {
     "kernelName": "fsharp"
    }
   },
   "execution_count": null, "outputs": [],
   "source": [
    "let tsla2021q4 =\n",
    "    nq100Full\n",
    "    |\u003e List.find (fun x -\u003e \n",
    "        x.CallId.Ticker = \"TSLA\" \u0026\u0026\n",
    "        x.CallId.Date.Year = 2021 \u0026\u0026 \n",
    "        x.CallId.FiscalQuarter = 4)\n"
   ]
  }
,
  {
   "cell_type": "markdown",
   "metadata": {},
   
   "source": [
    "The opening of the prepared remarks section.\n",
    "\n"
   ]
  }
,
  {
   "cell_type": "code",
   "metadata": {
    "dotnet_interactive": {
     "language": "fsharp"
    },
    "polyglot_notebook": {
     "kernelName": "fsharp"
    }
   },
   "execution_count": null, "outputs": [],
   "source": [
    "let elonStarts = tsla2021q4.PreparedRemarks.IndexOf(\"Elon has some opening remarks. Elon?\")\n",
    "tsla2021q4.PreparedRemarks[elonStarts..elonStarts+1_000]\n"
   ]
  }
,
  {
   "cell_type": "markdown",
   "metadata": {},
   
   "source": [
    "Opening of the Q\u0026amp;A section.\n",
    "\n"
   ]
  }
,
  {
   "cell_type": "code",
   "metadata": {
    "dotnet_interactive": {
     "language": "fsharp"
    },
    "polyglot_notebook": {
     "kernelName": "fsharp"
    }
   },
   "execution_count": null, "outputs": [],
   "source": [
    "let firstAnalystQuestion = tsla2021q4.QuestionsAndAnswers.IndexOf(\"Please go ahead.\")\n",
    "tsla2021q4.QuestionsAndAnswers[firstAnalystQuestion..firstAnalystQuestion+1_000]\n"
   ]
  }
,
  {
   "cell_type": "markdown",
   "metadata": {},
   
   "source": [
    "And the market-adjusted stock return from the day before to the day after the call.\n",
    "\n"
   ]
  }
,
  {
   "cell_type": "code",
   "metadata": {
    "dotnet_interactive": {
     "language": "fsharp"
    },
    "polyglot_notebook": {
     "kernelName": "fsharp"
    }
   },
   "execution_count": null, "outputs": [],
   "source": [
    "tsla2021q4.Label\n"
   ]
  }
,
  {
   "cell_type": "markdown",
   "metadata": {},
   
   "source": [
    "Typical word lengths of the prepared remarks, Q\u0026amp;A, and market return.\n",
    "\n"
   ]
  }
,
  {
   "cell_type": "code",
   "metadata": {
    "dotnet_interactive": {
     "language": "fsharp"
    },
    "polyglot_notebook": {
     "kernelName": "fsharp"
    }
   },
   "execution_count": null, "outputs": [],
   "source": [
    "let preparedLengthChart =\n",
    "    nq100Full\n",
    "    |\u003e Seq.map (fun x -\u003e x.PreparedRemarks.Split([|\u0027 \u0027|]).Length)\n",
    "    |\u003e Chart.Histogram\n",
    "    |\u003e Chart.withTraceInfo(Name = \"Prepared Remarks Length\")\n",
    "\n",
    "\n",
    "let qaLengthChart =\n",
    "    nq100Full\n",
    "    |\u003e Seq.map (fun x -\u003e x.QuestionsAndAnswers.Split([|\u0027 \u0027|]).Length)\n",
    "    |\u003e Chart.Histogram\n",
    "    |\u003e Chart.withTraceInfo(Name = \"Q\u0026A Length\")\n",
    "\n",
    "let returnChart =\n",
    "    nq100Full\n",
    "    |\u003e Seq.map (fun x -\u003e x.Label)\n",
    "    |\u003e Chart.Histogram\n",
    "    |\u003e Chart.withTraceInfo(Name = \"Return\")\n",
    "\n",
    "[ preparedLengthChart; qaLengthChart; returnChart ]\n",
    "|\u003e Chart.SingleStack()\n"
   ]
  }
,
  {
   "cell_type": "markdown",
   "metadata": {},
   
   "source": [
    "## Binary sentiment model\n",
    "\n",
    "Is the market\u0027s reaction to the call correlated with the text of the call?\n",
    "\n",
    "We need some types that work with ML.NET.\n",
    "\n"
   ]
  }
,
  {
   "cell_type": "code",
   "metadata": {
    "dotnet_interactive": {
     "language": "fsharp"
    },
    "polyglot_notebook": {
     "kernelName": "fsharp"
    }
   },
   "execution_count": null, "outputs": [],
   "source": [
    "[\u003cCLIMutable\u003e]\n",
    "type BinarySentimentInput =\n",
    "    { Label: bool\n",
    "      Text: string }\n",
    "\n",
    "[\u003cCLIMutable\u003e]\n",
    "type BinarySentimentOutput =\n",
    "    { PredictedLabel: bool\n",
    "      Probability: single\n",
    "      Score: single }\n",
    "\n",
    "// ML.NET context\n",
    "let ctx = new MLContext(seed = 1)\n"
   ]
  }
,
  {
   "cell_type": "markdown",
   "metadata": {},
   
   "source": [
    "A train and test split of the data.\n",
    "\n"
   ]
  }
,
  {
   "cell_type": "code",
   "metadata": {
    "dotnet_interactive": {
     "language": "fsharp"
    },
    "polyglot_notebook": {
     "kernelName": "fsharp"
    }
   },
   "execution_count": null, "outputs": [],
   "source": [
    "let nq100FullSentiment =\n",
    "    nq100Full\n",
    "    |\u003e Seq.map (fun x -\u003e\n",
    "        { Label = x.Label \u003e 0.0\n",
    "          Text =  x.QuestionsAndAnswers })\n",
    "    |\u003e ctx.Data.LoadFromEnumerable    \n",
    "    \n",
    "\n",
    "let nq100FullSplits =\n",
    "    ctx.Data.TrainTestSplit(nq100FullSentiment,\n",
    "                            testFraction = 0.2, \n",
    "                            seed = 1)\n"
   ]
  }
,
  {
   "cell_type": "markdown",
   "metadata": {},
   
   "source": [
    "ML.NET has some built-in featurization [transforms](https://docs.microsoft.com/en-us/dotnet/machine-learning/how-to-guides/prepare-data-ml-net) that we can use to prepare the data.\n",
    "\n",
    "[FeaturizeText](https://docs.microsoft.com/en-us/dotnet/api/microsoft.ml.textcatalog.featurizetext?view=ml-dotnet) converts the text into vectors of normalized word and character n-grams.\n",
    "\n"
   ]
  }
,
  {
   "cell_type": "code",
   "metadata": {
    "dotnet_interactive": {
     "language": "fsharp"
    },
    "polyglot_notebook": {
     "kernelName": "fsharp"
    }
   },
   "execution_count": null, "outputs": [],
   "source": [
    "let featurizePipeline = \n",
    "    ctx.Transforms.Text.FeaturizeText(\n",
    "        outputColumnName = \"Features\", \n",
    "        inputColumnName = \"Text\")\n"
   ]
  }
,
  {
   "cell_type": "markdown",
   "metadata": {},
   
   "source": [
    "There are many different trainers.\n",
    "\n"
   ]
  }
,
  {
   "cell_type": "code",
   "metadata": {
    "dotnet_interactive": {
     "language": "fsharp"
    },
    "polyglot_notebook": {
     "kernelName": "fsharp"
    }
   },
   "execution_count": null, "outputs": [],
   "source": [
    "let treeTrainer = \n",
    "    ctx.BinaryClassification.Trainers.FastTree(\n",
    "        labelColumnName = \"Label\",\n",
    "        featureColumnName = \"Features\")\n"
   ]
  }
,
  {
   "cell_type": "markdown",
   "metadata": {},
   
   "source": [
    "We can put the featurization and the trainer together into a pipeline.\n",
    "\n"
   ]
  }
,
  {
   "cell_type": "code",
   "metadata": {
    "dotnet_interactive": {
     "language": "fsharp"
    },
    "polyglot_notebook": {
     "kernelName": "fsharp"
    }
   },
   "execution_count": null, "outputs": [],
   "source": [
    "let treePipeline = featurizePipeline.Append(treeTrainer)\n"
   ]
  }
,
  {
   "cell_type": "markdown",
   "metadata": {},
   
   "source": [
    "Trained model.\n",
    "\n"
   ]
  }
,
  {
   "cell_type": "code",
   "metadata": {
    "dotnet_interactive": {
     "language": "fsharp"
    },
    "polyglot_notebook": {
     "kernelName": "fsharp"
    }
   },
   "execution_count": null, "outputs": [],
   "source": [
    "let binaryTreeModel = treePipeline.Fit(nq100FullSplits.TrainSet)\n"
   ]
  }
,
  {
   "cell_type": "markdown",
   "metadata": {},
   
   "source": [
    "Model performance. First some functions to compute metrics.\n",
    "\n"
   ]
  }
,
  {
   "cell_type": "code",
   "metadata": {
    "dotnet_interactive": {
     "language": "fsharp"
    },
    "polyglot_notebook": {
     "kernelName": "fsharp"
    }
   },
   "execution_count": null, "outputs": [],
   "source": [
    "let computeMetrics (model:TransformerChain\u003c_\u003e) iDataView =\n",
    "    let predictions = model.Transform iDataView\n",
    "    ctx.BinaryClassification\n",
    "        .Evaluate(predictions, \n",
    "                  labelColumnName = \"Label\",\n",
    "                  scoreColumnName = \"Score\")\n",
    "\n",
    "let printBinaryClassificationMetrics name (metrics : CalibratedBinaryClassificationMetrics) =\n",
    "    printfn\"************************************************************\"\n",
    "    printfn\"*       Metrics for %s binary classification model      \" name\n",
    "    printfn\"*-----------------------------------------------------------\"\n",
    "    printfn\"*       Accuracy:                             %.2f%%\" (metrics.Accuracy * 100.)\n",
    "    printfn\"*       Area Under Curve:                     %.2f%%\" (metrics.AreaUnderRocCurve * 100.)\n",
    "    printfn\"*       Area under Precision recall Curve:    %.2f%%\" (metrics.AreaUnderPrecisionRecallCurve * 100.)\n",
    "    printfn\"*       F1Score:                              %.2f%%\" (metrics.F1Score * 100.)\n",
    "    printfn\"*       LogLogg:                              %.2f%%\" (metrics.LogLoss)\n",
    "    printfn\"*       LogLossreduction:                     %.2f%%\" (metrics.LogLossReduction)\n",
    "    printfn\"*       PositivePrecision:                    %.2f\" (metrics.PositivePrecision)\n",
    "    printfn\"*       PositiveRecall:                       %.2f\" (metrics.PositiveRecall)\n",
    "    printfn\"*       NegativePrecision:                    %.2f\" (metrics.NegativePrecision)\n",
    "    printfn\"*       NegativeRecall:                       %.2f\" (metrics.NegativeRecall)\n",
    "    printfn\"*\\n-----------------------------------------------------------\"\n",
    "    printfn\"*      Confusion matrix for %s binary classification model      \" name\n",
    "    printfn\"*-----------------------------------------------------------\"\n",
    "    printfn $\"{(metrics.ConfusionMatrix.GetFormattedConfusionTable())}\"\n",
    "    printfn\"************************************************************\"\n"
   ]
  }
,
  {
   "cell_type": "markdown",
   "metadata": {},
   
   "source": [
    "Now let\u0027s actually look at the model performance.\n",
    "\n",
    "We should be good in the training set.\n",
    "\n"
   ]
  }
,
  {
   "cell_type": "code",
   "metadata": {
    "dotnet_interactive": {
     "language": "fsharp"
    },
    "polyglot_notebook": {
     "kernelName": "fsharp"
    }
   },
   "execution_count": null, "outputs": [],
   "source": [
    "nq100FullSplits.TrainSet \n",
    "|\u003e computeMetrics binaryTreeModel\n",
    "|\u003e printBinaryClassificationMetrics \"Train set\"\n"
   ]
  }
,
  {
   "cell_type": "markdown",
   "metadata": {},
   
   "source": [
    "The test is how well we do in the test set.\n",
    "\n"
   ]
  }
,
  {
   "cell_type": "code",
   "metadata": {
    "dotnet_interactive": {
     "language": "fsharp"
    },
    "polyglot_notebook": {
     "kernelName": "fsharp"
    }
   },
   "execution_count": null, "outputs": [],
   "source": [
    "nq100FullSplits.TestSet \n",
    "|\u003e computeMetrics binaryTreeModel\n",
    "|\u003e printBinaryClassificationMetrics \"Test set\"\n"
   ]
  }
,
  {
   "cell_type": "markdown",
   "metadata": {},
   
   "source": [
    "That looks pretty good. But maybe there\u0027s something special about our train/test sample.\n",
    "\n",
    "Let\u0027s try k-fold cross validation. If we do 5 folds,\n",
    "that means that we split the data into 5 random groups.\n",
    "Then we train the model on 4/5 of the data and test on the remaining 1/5.\n",
    "We do this 5 times, cycling through the data.\n",
    "\n"
   ]
  }
,
  {
   "cell_type": "code",
   "metadata": {
    "dotnet_interactive": {
     "language": "fsharp"
    },
    "polyglot_notebook": {
     "kernelName": "fsharp"
    }
   },
   "execution_count": null, "outputs": [],
   "source": [
    "let downcastPipeline (pipeline : IEstimator\u003c\u0027a\u003e) =\n",
    "    match pipeline with\n",
    "    | :? IEstimator\u003cITransformer\u003e as p -\u003e p\n",
    "    | _ -\u003e failwith \"The pipeline has to be an instance of IEstimator\u003cITransformer\u003e.\"\n",
    "\n",
    "//https://docs.microsoft.com/en-us/dotnet/machine-learning/how-to-guides/train-machine-learning-model-cross-validation-ml-net\n",
    "let cvResults = \n",
    "    ctx.BinaryClassification\n",
    "        .CrossValidate(data = nq100FullSentiment, \n",
    "                       estimator = downcastPipeline treePipeline,\n",
    "                       numberOfFolds=5,\n",
    "                       seed = 1) \n"
   ]
  }
,
  {
   "cell_type": "markdown",
   "metadata": {},
   
   "source": [
    "Results.\n",
    "\n"
   ]
  }
,
  {
   "cell_type": "code",
   "metadata": {
    "dotnet_interactive": {
     "language": "fsharp"
    },
    "polyglot_notebook": {
     "kernelName": "fsharp"
    }
   },
   "execution_count": null, "outputs": [],
   "source": [
    "cvResults\n",
    "|\u003e Seq.iteri (fun i x -\u003e printfn $\"Fold {i+1}: {x.Metrics.Accuracy}\")\n",
    "\n",
    "cvResults\n",
    "|\u003e Seq.averageBy (fun  x -\u003e x.Metrics.Accuracy)\n",
    "|\u003e printfn \"Average accuracy: %.2f%%\"\n"
   ]
  }
,
  {
   "cell_type": "markdown",
   "metadata": {},
   
   "source": [
    "That\u0027s actually pretty good.\n",
    "\n",
    "Let\u0027s see if there\u0027s much cost to simplifying the text feaurization pipeline. Currently we\u0027re using defaults, which uses all words and character n-grams. We have relatively few observations compared to our vocabulary size, so it might make sense to use fewer features.\n",
    "\n"
   ]
  }
,
  {
   "cell_type": "code",
   "metadata": {
    "dotnet_interactive": {
     "language": "fsharp"
    },
    "polyglot_notebook": {
     "kernelName": "fsharp"
    }
   },
   "execution_count": null, "outputs": [],
   "source": [
    "let textFeatureOptions =\n",
    "    // Set up word n-gram options\n",
    "    // https://docs.microsoft.com/en-us/dotnet/api/microsoft.ml.transforms.text.wordbagestimator.options?view=ml-dotnet\n",
    "    let wordOptions = new WordBagEstimator.Options()\n",
    "    wordOptions.NgramLength \u003c- 2\n",
    "    wordOptions.MaximumNgramsCount \u003c- [| for i = 0 to wordOptions.NgramLength-1 do 1_000 |]\n",
    "\n",
    "    // Set up stop word options\n",
    "    // https://docs.microsoft.com/en-us/dotnet/api/microsoft.ml.transforms.text.textfeaturizingestimator.options.stopwordsremoveroptions?view=ml-dotnet\n",
    "    let stopOptions = new StopWordsRemovingEstimator.Options()\n",
    "\n",
    "    // Set up char n-gram options\n",
    "    // https://docs.microsoft.com/en-us/dotnet/api/microsoft.ml.transforms.text.charbagestimator.options?view=ml-dotnet\n",
    "    let charOptions = null //new WordBagEstimator.Options()                                        \n",
    "    \n",
    "    // Set the text options\n",
    "    // https://docs.microsoft.com/en-us/dotnet/api/microsoft.ml.transforms.text.textfeaturizingestimator?view=ml-dotnet\n",
    "    let textOptions = new Transforms.Text.TextFeaturizingEstimator.Options()\n",
    "    textOptions.CharFeatureExtractor \u003c- charOptions\n",
    "    textOptions.WordFeatureExtractor \u003c- wordOptions\n",
    "    textOptions.StopWordsRemoverOptions \u003c- stopOptions\n",
    "    \n",
    "    // return the text options\n",
    "    textOptions\n",
    "\n",
    "let featurizePipelineSimple = \n",
    "    ctx.Transforms.Text\n",
    "        .FeaturizeText(\"Features\",\n",
    "                       \"Text\", \n",
    "                       options=textFeatureOptions)\n",
    "\n",
    "let treeSimple = featurizePipelineSimple.Append(treeTrainer)\n"
   ]
  }
,
  {
   "cell_type": "markdown",
   "metadata": {},
   
   "source": [
    "Now try cross-validation on the simpler example.\n",
    "\n"
   ]
  }
,
  {
   "cell_type": "code",
   "metadata": {
    "dotnet_interactive": {
     "language": "fsharp"
    },
    "polyglot_notebook": {
     "kernelName": "fsharp"
    }
   },
   "execution_count": null, "outputs": [],
   "source": [
    "let cvSimple = \n",
    "    ctx.BinaryClassification\n",
    "        .CrossValidate(data = nq100FullSentiment, \n",
    "                       estimator = downcastPipeline treeSimple,\n",
    "                       numberOfFolds=5,\n",
    "                       seed = 1) \n",
    "\n",
    "cvSimple\n",
    "|\u003e Seq.iteri (fun i x -\u003e printfn $\"Fold {i+1}: {x.Metrics.Accuracy}\")\n",
    "\n",
    "cvSimple\n",
    "|\u003e Seq.averageBy (fun  x -\u003e x.Metrics.Accuracy)\n",
    "|\u003e printfn \"Average accuracy: %.2f%%\"\n",
    "\n",
    "(* That\u0027s pretty good, and much faster that the default featurization pipeline. Let\u0027s use that going forward.\n",
    "\n",
    "Let\u0027s try a model on prepared remarks.\n",
    "*)\n",
    "\n",
    "let nq100PreparedSentiment =\n",
    "    nq100Full\n",
    "    |\u003e Seq.map (fun x -\u003e\n",
    "        { Label = x.Label \u003e 0.0\n",
    "          Text =  x.PreparedRemarks })\n",
    "    |\u003e ctx.Data.LoadFromEnumerable    \n",
    "\n",
    "let cvPreparedRemarks = \n",
    "    ctx.BinaryClassification\n",
    "        .CrossValidate(data = nq100PreparedSentiment, \n",
    "                       estimator = downcastPipeline treeSimple,\n",
    "                       numberOfFolds=5, \n",
    "                       seed = 1)\n"
   ]
  }
,
  {
   "cell_type": "markdown",
   "metadata": {},
   
   "source": [
    "Look at the cross validation performance.\n",
    "\n"
   ]
  }
,
  {
   "cell_type": "code",
   "metadata": {
    "dotnet_interactive": {
     "language": "fsharp"
    },
    "polyglot_notebook": {
     "kernelName": "fsharp"
    }
   },
   "execution_count": null, "outputs": [],
   "source": [
    "cvPreparedRemarks\n",
    "|\u003e Seq.iteri (fun i x -\u003e printfn $\"Fold {i+1}: {x.Metrics.Accuracy}\")\n",
    "\n",
    "cvPreparedRemarks\n",
    "|\u003e Seq.averageBy (fun  x -\u003e x.Metrics.Accuracy)\n",
    "|\u003e printfn \"Average accuracy: %.2f%%\"\n"
   ]
  }
,
  {
   "cell_type": "markdown",
   "metadata": {},
   
   "source": [
    "It\u0027s not a huge difference, but prepared remarks is not as informative as the Q\u0026amp;A.\n",
    "That can make sense if management tries to put a positive spin on things.\n",
    "\n",
    "Is the model improved by training it with extreme events?\n",
    "\n"
   ]
  }
,
  {
   "cell_type": "code",
   "metadata": {
    "dotnet_interactive": {
     "language": "fsharp"
    },
    "polyglot_notebook": {
     "kernelName": "fsharp"
    }
   },
   "execution_count": null, "outputs": [],
   "source": [
    "let nq100ExtremeSentiment =\n",
    "    nq100Full\n",
    "    |\u003e Seq.filter (fun x -\u003e (abs x.Label) \u003e 0.075)\n",
    "    |\u003e Seq.map (fun x -\u003e\n",
    "        { Label = x.Label \u003e 0.0\n",
    "          Text =  x.QuestionsAndAnswers })\n",
    "    |\u003e ctx.Data.LoadFromEnumerable    \n",
    "\n",
    "let cvExtreme = \n",
    "    ctx.BinaryClassification\n",
    "        .CrossValidate(data = nq100ExtremeSentiment, \n",
    "                       estimator = downcastPipeline treeSimple,\n",
    "                       numberOfFolds=5, \n",
    "                       seed = 1)\n"
   ]
  }
,
  {
   "cell_type": "markdown",
   "metadata": {},
   
   "source": [
    "Look at the cross validation performance.\n",
    "\n"
   ]
  }
,
  {
   "cell_type": "code",
   "metadata": {
    "dotnet_interactive": {
     "language": "fsharp"
    },
    "polyglot_notebook": {
     "kernelName": "fsharp"
    }
   },
   "execution_count": null, "outputs": [],
   "source": [
    "cvExtreme\n",
    "|\u003e Seq.iteri (fun i x -\u003e printfn $\"Fold {i+1}: {x.Metrics.Accuracy}\")\n",
    "\n",
    "cvExtreme\n",
    "|\u003e Seq.averageBy (fun  x -\u003e x.Metrics.Accuracy)\n",
    "|\u003e printfn \"Average accuracy: %.2f%%\"\n"
   ]
  }
,
  {
   "cell_type": "markdown",
   "metadata": {},
   
   "source": [
    "## Multiclass model\n",
    "\n",
    "The multiple classes will be \"positive\", \"negative\", and \"neutral\".\n",
    "\n"
   ]
  }
,
  {
   "cell_type": "code",
   "metadata": {
    "dotnet_interactive": {
     "language": "fsharp"
    },
    "polyglot_notebook": {
     "kernelName": "fsharp"
    }
   },
   "execution_count": null, "outputs": [],
   "source": [
    "[\u003cCLIMutable\u003e]\n",
    "type MulticlassSentimentInput =\n",
    "    { Label: string\n",
    "      Text: string }\n",
    "\n",
    "[\u003cCLIMutable\u003e]\n",
    "type MulticlassSentimentOutput =\n",
    "    { PredictedLabel: string\n",
    "      Probability: single\n",
    "      Score: single }\n",
    "\n",
    "let nq100MulticlassSentiment =\n",
    "    nq100Full\n",
    "    |\u003e Seq.map (fun x -\u003e\n",
    "        { Label = \n",
    "            if x.Label \u003c -0.05 then \"neg\"\n",
    "            elif x.Label \u003e 0.05 then \"pos\"\n",
    "            else \"neutral\"\n",
    "          Text =  x.QuestionsAndAnswers })\n",
    "    |\u003e ctx.Data.LoadFromEnumerable    \n",
    "\n",
    "let nq100MulticlassSplits =\n",
    "    ctx.Data.TrainTestSplit(nq100MulticlassSentiment,\n",
    "                            testFraction = 0.2, \n",
    "                            seed = 1)\n"
   ]
  }
,
  {
   "cell_type": "markdown",
   "metadata": {},
   
   "source": [
    "Picking a multi-class trainer.\n",
    "\n"
   ]
  }
,
  {
   "cell_type": "code",
   "metadata": {
    "dotnet_interactive": {
     "language": "fsharp"
    },
    "polyglot_notebook": {
     "kernelName": "fsharp"
    }
   },
   "execution_count": null, "outputs": [],
   "source": [
    "let multiTrainer = \n",
    "    ctx.MulticlassClassification.Trainers.SdcaMaximumEntropy(\n",
    "        labelColumnName = \"Label\",\n",
    "        featureColumnName = \"Features\")\n"
   ]
  }
,
  {
   "cell_type": "markdown",
   "metadata": {},
   
   "source": [
    "The finished pipeline.\n",
    "\n"
   ]
  }
,
  {
   "cell_type": "code",
   "metadata": {
    "dotnet_interactive": {
     "language": "fsharp"
    },
    "polyglot_notebook": {
     "kernelName": "fsharp"
    }
   },
   "execution_count": null, "outputs": [],
   "source": [
    "let multiPipeline =\n",
    "    // Estimator chain seems to speed this up.\n",
    "    EstimatorChain()\n",
    "        .Append(featurizePipelineSimple)\n",
    "        // for multiclass, you have to put the label in a keyvalue store\n",
    "        .Append(ctx.Transforms.Conversion.MapValueToKey(\"Label\"))\n",
    "        .AppendCacheCheckpoint(ctx)\n",
    "        .Append(multiTrainer)\n"
   ]
  }
,
  {
   "cell_type": "markdown",
   "metadata": {},
   
   "source": [
    "The model (this can be slow to train).\n",
    "\n"
   ]
  }
,
  {
   "cell_type": "code",
   "metadata": {
    "dotnet_interactive": {
     "language": "fsharp"
    },
    "polyglot_notebook": {
     "kernelName": "fsharp"
    }
   },
   "execution_count": null, "outputs": [],
   "source": [
    "let multiModel = multiPipeline.Fit(nq100MulticlassSplits.TrainSet)\n"
   ]
  }
,
  {
   "cell_type": "markdown",
   "metadata": {},
   
   "source": [
    "Evaluating the model.\n",
    "\n"
   ]
  }
,
  {
   "cell_type": "code",
   "metadata": {
    "dotnet_interactive": {
     "language": "fsharp"
    },
    "polyglot_notebook": {
     "kernelName": "fsharp"
    }
   },
   "execution_count": null, "outputs": [],
   "source": [
    "let computeMultiClassMetrics (model:TransformerChain\u003c_\u003e) iDataView =\n",
    "    let predictions = model.Transform iDataView\n",
    "    ctx.MulticlassClassification\n",
    "        .Evaluate(predictions, \n",
    "                  labelColumnName = \"Label\",\n",
    "                  scoreColumnName = \"Score\")\n",
    "\n",
    "let printMultiClassClassificationMetrics name (metrics : MulticlassClassificationMetrics) =\n",
    "    printfn \"************************************************************\"\n",
    "    printfn \"*    Metrics for %s multi-class classification model   \" name\n",
    "    printfn \"*-----------------------------------------------------------\"\n",
    "    printfn \"    AccuracyMacro = %.4f, a value between 0 and 1, the closer to 1, the better\" metrics.MacroAccuracy\n",
    "    printfn \"    AccuracyMicro = %.4f, a value between 0 and 1, the closer to 1, the better\" metrics.MacroAccuracy\n",
    "    printfn \"    LogLoss = %.4f, the closer to 0, the better\" metrics.LogLoss\n",
    "    printfn \"    LogLoss for class 1 = %.4f, the closer to 0, the better\" metrics.PerClassLogLoss.[0]\n",
    "    printfn \"    LogLoss for class 2 = %.4f, the closer to 0, the better\" metrics.PerClassLogLoss.[1]\n",
    "    printfn \"    LogLoss for class 3 = %.4f, the closer to 0, the better\" metrics.PerClassLogLoss.[2]\n",
    "    printfn \"************************************************************\"\n",
    "    printfn $\"{metrics.ConfusionMatrix.GetFormattedConfusionTable()}\"\n",
    "\n",
    "nq100MulticlassSplits.TrainSet\n",
    "|\u003e computeMultiClassMetrics multiModel\n",
    "|\u003e printMultiClassClassificationMetrics \"Multi-class: TrainSet\"\n",
    "\n",
    "nq100MulticlassSplits.TestSet\n",
    "|\u003e computeMultiClassMetrics multiModel\n",
    "|\u003e printMultiClassClassificationMetrics \"Multi-class: TestSet\"\n"
   ]
  }
,
  {
   "cell_type": "markdown",
   "metadata": {},
   
   "source": [
    "A function to make predictions.\n",
    "\n"
   ]
  }
,
  {
   "cell_type": "code",
   "metadata": {
    "dotnet_interactive": {
     "language": "fsharp"
    },
    "polyglot_notebook": {
     "kernelName": "fsharp"
    }
   },
   "execution_count": null, "outputs": [],
   "source": [
    "let binaryTreePredictions = \n",
    "    ctx.Model.CreatePredictionEngine\u003cBinarySentimentInput, BinarySentimentOutput\u003e(binaryTreeModel)\n"
   ]
  }
,
  {
   "cell_type": "markdown",
   "metadata": {},
   
   "source": [
    "Look at test output for a negative call.\n",
    "\n"
   ]
  }
,
  {
   "cell_type": "code",
   "metadata": {
    "dotnet_interactive": {
     "language": "fsharp"
    },
    "polyglot_notebook": {
     "kernelName": "fsharp"
    }
   },
   "execution_count": null, "outputs": [],
   "source": [
    "let sampleNegCall :BinarySentimentInput = { \n",
    "    Label = false\n",
    "    Text = \"Our earnings are terrible. All our customers are leaving \n",
    "    and are profits and free cash flow is falling. \"}\n",
    "\n",
    "binaryTreePredictions.Predict(sampleNegCall)\n"
   ]
  }
,
  {
   "cell_type": "markdown",
   "metadata": {},
   
   "source": [
    "Look at test output for a positive call.\n",
    "\n"
   ]
  }
,
  {
   "cell_type": "code",
   "metadata": {
    "dotnet_interactive": {
     "language": "fsharp"
    },
    "polyglot_notebook": {
     "kernelName": "fsharp"
    }
   },
   "execution_count": null, "outputs": [],
   "source": [
    "let samplePosCall: BinarySentimentInput = { \n",
    "    Label = true\n",
    "    Text = \"We had very high free cash flow. Sales were up, profits were up, \n",
    "    we paid down debt. We expect to beat expectations.\"}\n",
    "\n",
    "binaryTreePredictions.Predict(samplePosCall)\n"
   ]
  }
 ],
 "metadata": {
  "kernelspec": {
   "display_name": ".NET (F#)",
   "language": "F#",
   "name": ".net-fsharp"
  },
  "language_info": {
   "file_extension": ".fs",
   "mimetype": "text/x-fsharp",
   "name": "polyglot-notebook",
   "pygments_lexer": "fsharp"
  },
  "polyglot_notebook": {
   "kernelInfo": {
    "defaultKernelName": "fsharp",
    "items": [
     {
      "aliases": [],
      "languageName": "fsharp",
      "name": "fsharp"
     }
    ]
   }
  }
 },
 "nbformat": 4,
 "nbformat_minor": 2
}

