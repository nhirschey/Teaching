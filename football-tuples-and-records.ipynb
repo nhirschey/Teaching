
{
 "cells": [
  {
   "cell_type": "markdown",
   "metadata": {},
   
   "source": [
    "[![Binder](img/badge-binder.svg)](https://mybinder.org/v2/gh/nhirschey/teaching/gh-pages?filepath=football-tuples-and-records.ipynb)\u0026emsp;\n",
    "[![Script](img/badge-script.svg)](/Teaching//football-tuples-and-records.fsx)\u0026emsp;\n",
    "[![Notebook](img/badge-notebook.svg)](/Teaching//football-tuples-and-records.ipynb)\n",
    "\n",
    "# Working with Tuples and Records.\n",
    "\n",
    "\u003e Developed with [Davide Costa](https://github.com/DavideGCosta)\n",
    "\u003e \n",
    "\n",
    "This set of exercises covers creating and manipulating tuples, records, and anonymous records.\n",
    "Before you start it is a good idea to review the relevant sections of\n",
    "the F# language reference (\n",
    "[tuples](https://docs.microsoft.com/en-us/dotnet/fsharp/language-reference/tuples),\n",
    "[records](https://docs.microsoft.com/en-us/dotnet/fsharp/language-reference/records),\n",
    "and [anonymous records](https://docs.microsoft.com/en-us/dotnet/fsharp/language-reference/anonymous-records)\n",
    ") and\n",
    "F# for fun and profit (\n",
    "[tuples](https://fsharpforfunandprofit.com/posts/tuples/) and\n",
    "[records](https://fsharpforfunandprofit.com/posts/records/))\n",
    "before you start.\n",
    "\n",
    "## Import the Football Players Data from the Csv File\n",
    "\n"
   ]
  }
,
  {
   "cell_type": "code",
   "metadata": {
    "dotnet_interactive": {
     "language": "fsharp"
    },
    "polyglot_notebook": {
     "kernelName": "fsharp"
    }
   },
   "execution_count": 4, "outputs": [],
   "source": [
    "#r \"nuget: FSharp.Data, 5.0.2\"\n",
    "open FSharp.Data\n"
   ]
  }
,
  {
   "cell_type": "markdown",
   "metadata": {},
   
   "source": [
    "In order to import the data correctly we need to create the sample, define the type from the sample and then load the csv file.\n",
    "We\u0027ll use [FSharp.Data CsvProvider](https://fsprojects.github.io/FSharp.Data/library/CsvProvider.html).\n",
    "\n",
    "### Load the Csv file.\n",
    "\n",
    "We define the type from the csv sample file.\n",
    "\n"
   ]
  }
,
  {
   "cell_type": "code",
   "metadata": {
    "dotnet_interactive": {
     "language": "fsharp"
    },
    "polyglot_notebook": {
     "kernelName": "fsharp"
    }
   },
   "execution_count": 5, "outputs": [],
   "source": [
    "let [\u003cLiteral\u003e] CsvPath = __SOURCE_DIRECTORY__ + \"/FootballPlayers.csv\"\n",
    "type FootballPlayersCsv = CsvProvider\u003cCsvPath\u003e\n"
   ]
  }
,
  {
   "cell_type": "markdown",
   "metadata": {},
   
   "source": [
    "This will load the sample csv file.\n",
    "\n"
   ]
  }
,
  {
   "cell_type": "code",
   "metadata": {
    "dotnet_interactive": {
     "language": "fsharp"
    },
    "polyglot_notebook": {
     "kernelName": "fsharp"
    }
   },
   "execution_count": 6, "outputs": [],
   "source": [
    "let playerStatsTable = \n",
    "    FootballPlayersCsv.GetSample().Rows\n",
    "    |\u003e Seq.toList\n"
   ]
  }
,
  {
   "cell_type": "markdown",
   "metadata": {},
   
   "source": [
    "Let\u0027s see the first 5 rows from the loaded Csv data, stored in `playerStatsTable`.\n",
    "Again, we do this by using the List `List.truncate` property.\n",
    "\n"
   ]
  }
,
  {
   "cell_type": "code",
   "metadata": {
    "dotnet_interactive": {
     "language": "fsharp"
    },
    "polyglot_notebook": {
     "kernelName": "fsharp"
    }
   },
   "execution_count": 7, "outputs": [
          {
           "data": {
            "text/plain": ["val it: CsvProvider\u003c...\u003e.Row list =",
"",
"  [(\"Robert Lewandowski\", \"pl POL\", \"FW\", \"Bayern Munich\", \"deBundesliga\", 32,",
"",
"    34, 35);",
"",
"   (\"Kylian Mbappé\", \"fr FRA\", \"FW\", \"Paris S-G\", \"frLigue 1\", 22, 35, 28);",
"",
"   (\"Karim Benzema\", \"fr FRA\", \"FW\", \"Real Madrid\", \"esLa Liga\", 33, 32, 27);",
"",
"   (\"Ciro Immobile\", \"it ITA\", \"FW\", \"Lazio\", \"itSerie A\", 31, 31, 27);",
"",
"   (\"Wissam Ben Yedder\", \"fr FRA\", \"FW\", \"Monaco\", \"frLigue 1\", 30, 37, 25)]"]
        },
           "execution_count": 7,
           "metadata": {},
           "output_type": "execute_result"
          }],
   "source": [
    "playerStatsTable\n",
    "|\u003e List.truncate 5\n"
   ]
  }
,
  {
   "cell_type": "markdown",
   "metadata": {},
   
   "source": [
    "## EXERCISES - PART 1\n",
    "\n",
    "* [Transforming collection elements into new types.](#Transforming-collections)\n",
    "  \n",
    "\n",
    "  0 [Creating tuples.](#Creating-tuples)\n",
    "    \n",
    "  \n",
    "  1 [Creating records.](#Creating-records)\n",
    "    \n",
    "  \n",
    "  2 [Creating anonymous records.](#Creating-anonymous-records)\n",
    "    \n",
    "  \n",
    "\n",
    "* [Simple data transformations.](#Simple-transformations)\n",
    "  \n",
    "\n",
    "  0 [Transformations using tuples.](#Transformations-using-tuples)\n",
    "    \n",
    "  \n",
    "  1 [Transformations using records.](#Transformations-using-records)\n",
    "    \n",
    "  \n",
    "  2 [Transformations using anonymous records.](#Transformations-using-anonymous-records)\n",
    "    \n",
    "  \n",
    "\n",
    "* [Creating and transforming TeamRecord.](#Creating-and-transforming-TeamRecord)\n",
    "  \n",
    "\n",
    "\u003ch2 class=numbered\u003e\u003ca name=Transforming-collections class=anchor href=#Transforming-collections\u003eTransforming collections\u003c/a\u003e\u003c/h2\u003e\n",
    "\n",
    "\u003ch3 class=numbered\u003e\u003ca name=Creating-tuples class=anchor href=#Creating-tuples\u003eCreating tuples\u003c/a\u003e\u003c/h3\u003e\n",
    "\n",
    "Example: Transform each element of the `playerStatsTable` List into a tuple with the player and nation ( `Player`, `Nation`)\n",
    "\n"
   ]
  }
,
  {
   "cell_type": "code",
   "metadata": {
    "dotnet_interactive": {
     "language": "fsharp"
    },
    "polyglot_notebook": {
     "kernelName": "fsharp"
    }
   },
   "execution_count": 10, "outputs": [
          {
           "data": {
            "text/plain": ["val it: (string * string) list =",
"",
"  [(\"Robert Lewandowski\", \"pl POL\"); (\"Kylian Mbappé\", \"fr FRA\");",
"",
"   (\"Karim Benzema\", \"fr FRA\"); (\"Ciro Immobile\", \"it ITA\");",
"",
"   (\"Wissam Ben Yedder\", \"fr FRA\")]"]
        },
           "execution_count": 10,
           "metadata": {},
           "output_type": "execute_result"
          }],
   "source": [
    "playerStatsTable\n",
    "|\u003e List.map(fun x -\u003e x.Player, x.Nation)\n",
    "|\u003e List.truncate 5 //just to observe the first 5 rows, not a part of the exercise.\n"
   ]
  }
,
  {
   "cell_type": "markdown",
   "metadata": {},
   
   "source": [
    "* Transform each element of the `playerStatsTable` List into a tuple with the player and team ( `Player`, `Team`)\n",
    "\n",
    "\u003cdiv style=\"padding-left: 40px;\"\u003e\n",
    "\u003cp\u003e \n",
    "\u003cspan\u003e\n",
    "\u003cdetails\u003e\n",
    "\u003csummary\u003e\u003cp style=\"display:inline\"\u003eanswer\u003c/p\u003e\u003c/summary\u003e\n",
    "\n",
    "```\n",
    "val it: (string * string) list =\n",
    "  [(\"Robert Lewandowski\", \"Bayern Munich\"); (\"Kylian Mbappé\", \"Paris S-G\");\n",
    "   (\"Karim Benzema\", \"Real Madrid\"); (\"Ciro Immobile\", \"Lazio\");\n",
    "   (\"Wissam Ben Yedder\", \"Monaco\")]\n",
    "```\n",
    "\n",
    "\u003c/details\u003e\n",
    "\u003c/span\u003e\n",
    "\u003c/p\u003e\n",
    "\u003c/div\u003e\n",
    "\n"
   ]
  }
,
  {
   "cell_type": "code",
   "metadata": {
    "dotnet_interactive": {
     "language": "fsharp"
    },
    "polyglot_notebook": {
     "kernelName": "fsharp"
    }
   },
   "execution_count": null, "outputs": [],
   "source": [
    "// write your code here, see website for solution.\n"
   ]
  }
,
  {
   "cell_type": "markdown",
   "metadata": {},
   
   "source": [
    "* Transform each element of the `playerStatsTable` List into a tuple with the player and league/competiton ( `Player`, `League`)\n",
    "\n",
    "\u003cdiv style=\"padding-left: 40px;\"\u003e\n",
    "\u003cp\u003e \n",
    "\u003cspan\u003e\n",
    "\u003cdetails\u003e\n",
    "\u003csummary\u003e\u003cp style=\"display:inline\"\u003eanswer\u003c/p\u003e\u003c/summary\u003e\n",
    "\n",
    "```\n",
    "val it: (string * string) list =\n",
    "  [(\"Robert Lewandowski\", \"deBundesliga\"); (\"Kylian Mbappé\", \"frLigue 1\");\n",
    "   (\"Karim Benzema\", \"esLa Liga\"); (\"Ciro Immobile\", \"itSerie A\");\n",
    "   (\"Wissam Ben Yedder\", \"frLigue 1\")]\n",
    "```\n",
    "\n",
    "\u003c/details\u003e\n",
    "\u003c/span\u003e\n",
    "\u003c/p\u003e\n",
    "\u003c/div\u003e\n",
    "\n"
   ]
  }
,
  {
   "cell_type": "code",
   "metadata": {
    "dotnet_interactive": {
     "language": "fsharp"
    },
    "polyglot_notebook": {
     "kernelName": "fsharp"
    }
   },
   "execution_count": null, "outputs": [],
   "source": [
    "// write your code here, see website for solution.\n"
   ]
  }
,
  {
   "cell_type": "markdown",
   "metadata": {},
   
   "source": [
    "* Transform each element of the `playerStatsTable` List into a tuple with the player and age ( `Player`, `Age`)\n",
    "\n",
    "\u003cdiv style=\"padding-left: 40px;\"\u003e\n",
    "\u003cp\u003e \n",
    "\u003cspan\u003e\n",
    "\u003cdetails\u003e\n",
    "\u003csummary\u003e\u003cp style=\"display:inline\"\u003eanswer\u003c/p\u003e\u003c/summary\u003e\n",
    "\n",
    "```\n",
    "val it: (string * int) list =\n",
    "  [(\"Robert Lewandowski\", 32); (\"Kylian Mbappé\", 22); (\"Karim Benzema\", 33);\n",
    "   (\"Ciro Immobile\", 31); (\"Wissam Ben Yedder\", 30)]\n",
    "```\n",
    "\n",
    "\u003c/details\u003e\n",
    "\u003c/span\u003e\n",
    "\u003c/p\u003e\n",
    "\u003c/div\u003e\n",
    "\n"
   ]
  }
,
  {
   "cell_type": "code",
   "metadata": {
    "dotnet_interactive": {
     "language": "fsharp"
    },
    "polyglot_notebook": {
     "kernelName": "fsharp"
    }
   },
   "execution_count": null, "outputs": [],
   "source": [
    "// write your code here, see website for solution.\n"
   ]
  }
,
  {
   "cell_type": "markdown",
   "metadata": {},
   
   "source": [
    "* Transform each element of the `playerStatsTable` List into a tuple with the player and matches played ( `Player`, `MatchesPlayed`)\n",
    "\n",
    "\u003cdiv style=\"padding-left: 40px;\"\u003e\n",
    "\u003cp\u003e \n",
    "\u003cspan\u003e\n",
    "\u003cdetails\u003e\n",
    "\u003csummary\u003e\u003cp style=\"display:inline\"\u003eanswer\u003c/p\u003e\u003c/summary\u003e\n",
    "\n",
    "```\n",
    "val it: (string * int) list =\n",
    "  [(\"Robert Lewandowski\", 34); (\"Kylian Mbappé\", 35); (\"Karim Benzema\", 32);\n",
    "   (\"Ciro Immobile\", 31); (\"Wissam Ben Yedder\", 37)]\n",
    "```\n",
    "\n",
    "\u003c/details\u003e\n",
    "\u003c/span\u003e\n",
    "\u003c/p\u003e\n",
    "\u003c/div\u003e\n",
    "\n"
   ]
  }
,
  {
   "cell_type": "code",
   "metadata": {
    "dotnet_interactive": {
     "language": "fsharp"
    },
    "polyglot_notebook": {
     "kernelName": "fsharp"
    }
   },
   "execution_count": null, "outputs": [],
   "source": [
    "// write your code here, see website for solution.\n"
   ]
  }
,
  {
   "cell_type": "markdown",
   "metadata": {},
   
   "source": [
    "* Transform each element of the `playerStatsTable` List into a tuple with the player and goals scored ( `Player`, `GoalsScored`)\n",
    "\n",
    "\u003cdiv style=\"padding-left: 40px;\"\u003e\n",
    "\u003cp\u003e \n",
    "\u003cspan\u003e\n",
    "\u003cdetails\u003e\n",
    "\u003csummary\u003e\u003cp style=\"display:inline\"\u003eanswer\u003c/p\u003e\u003c/summary\u003e\n",
    "\n",
    "```\n",
    "val it: (string * int) list =\n",
    "  [(\"Robert Lewandowski\", 35); (\"Kylian Mbappé\", 28); (\"Karim Benzema\", 27);\n",
    "   (\"Ciro Immobile\", 27); (\"Wissam Ben Yedder\", 25)]\n",
    "```\n",
    "\n",
    "\u003c/details\u003e\n",
    "\u003c/span\u003e\n",
    "\u003c/p\u003e\n",
    "\u003c/div\u003e\n",
    "\n"
   ]
  }
,
  {
   "cell_type": "code",
   "metadata": {
    "dotnet_interactive": {
     "language": "fsharp"
    },
    "polyglot_notebook": {
     "kernelName": "fsharp"
    }
   },
   "execution_count": null, "outputs": [
          {
           "data": {
            "text/html": ["\u003ch3 class=numbered\u003e\u003ca name=Creating-records class=anchor href=#Creating-records\u003eCreating records\u003c/a\u003e\u003c/h3\u003e"]
        },
           "execution_count": null,
           "metadata": {},
           "output_type": "execute_result"
          }],
   "source": [
    "// write your code here, see website for solution.\n"
   ]
  }
,
  {
   "cell_type": "markdown",
   "metadata": {},
   
   "source": [
    "Example: Define a record named `PlayerAndNation` with a field named `Player` that is a `string` and `Nation` that is a `string`.\n",
    "Then transform each element of the `playerStatsTable` List into a `PlayerAndNation` record.\n",
    "\n"
   ]
  }
,
  {
   "cell_type": "code",
   "metadata": {
    "dotnet_interactive": {
     "language": "fsharp"
    },
    "polyglot_notebook": {
     "kernelName": "fsharp"
    }
   },
   "execution_count": 17, "outputs": [],
   "source": [
    "type PlayerAndNation =\n",
    "    { Player : string \n",
    "      Nation : string }\n"
   ]
  }
,
  {
   "cell_type": "markdown",
   "metadata": {},
   
   "source": [
    "The above code creates a record type called `PlayerAndNation`.\n",
    "This record contains two fields: `Player` of `string` type and `Nation` of `string` type.\n",
    "Remember, if the types from the csv file are different an error will occur when creating an instance of the record.\n",
    "\n",
    "Common types:\n",
    "\n",
    "* `string`, example: `\"hello world\"`\n",
    "\n",
    "* `int`, example: `2`\n",
    "\n",
    "* `float`, example: `2.0`\n",
    "\n",
    "* `decimal`, example: `2.0m`\n",
    "\n",
    "Check [basic types documentation](https://docs.microsoft.com/en-us/dotnet/fsharp/language-reference/basic-types)\n",
    "to learn about F# basic types.\n",
    "\n",
    "Now by having the record type created we can `map` the `playerStatsTable` rows to the record `PlayerAndNation`.\n",
    "\n"
   ]
  }
,
  {
   "cell_type": "code",
   "metadata": {
    "dotnet_interactive": {
     "language": "fsharp"
    },
    "polyglot_notebook": {
     "kernelName": "fsharp"
    }
   },
   "execution_count": 18, "outputs": [
          {
           "data": {
            "text/plain": ["val it: PlayerAndNation list =",
"",
"  [{ Player = \"Robert Lewandowski\"",
"",
"     Nation = \"pl POL\" }; { Player = \"Kylian Mbappé\"",
"",
"                            Nation = \"fr FRA\" }; { Player = \"Karim Benzema\"",
"",
"                                                   Nation = \"fr FRA\" };",
"",
"   { Player = \"Ciro Immobile\"",
"",
"     Nation = \"it ITA\" }; { Player = \"Wissam Ben Yedder\"",
"",
"                            Nation = \"fr FRA\" }]"]
        },
           "execution_count": 18,
           "metadata": {},
           "output_type": "execute_result"
          }],
   "source": [
    "playerStatsTable\n",
    "|\u003e List.map(fun x -\u003e \n",
    "    { Player = x.Player\n",
    "      Nation = x.Nation })\n",
    "|\u003e List.truncate 5 //just to observe the first 5 rows, not a part of the exercise.\n"
   ]
  }
,
  {
   "cell_type": "markdown",
   "metadata": {},
   
   "source": [
    "Note that you choose the name of the fields in the record. Instead of `Player` it could be anything.\n",
    "The following code block for example would have also worked,\n",
    "but the field name for the player is `PlayerName` instead of `Player` and `Nationality` instead of `Nation`:\n",
    "\n"
   ]
  }
,
  {
   "cell_type": "code",
   "metadata": {
    "dotnet_interactive": {
     "language": "fsharp"
    },
    "polyglot_notebook": {
     "kernelName": "fsharp"
    }
   },
   "execution_count": 19, "outputs": [],
   "source": [
    "type PlayerAndNation2 =\n",
    "    { PlayerName : string \n",
    "      Nationality : string }\n",
    "\n",
    "playerStatsTable\n",
    "|\u003e List.map(fun x -\u003e \n",
    "    { PlayerName = x.Player\n",
    "      Nationality = x.Nation })\n"
   ]
  }
,
  {
   "cell_type": "markdown",
   "metadata": {},
   
   "source": [
    "* Define a record named `PlayerAndTeam` with a field named `Player` that is a `string` and `Team` that is a `string`. \n",
    "Then transform each element of the `playerStatsTable` List into a `PlayerAndTeam` record.\n",
    "\n",
    "\u003cdiv style=\"padding-left: 40px;\"\u003e\n",
    "\u003cp\u003e \n",
    "\u003cspan\u003e\n",
    "\u003cdetails\u003e\n",
    "\u003csummary\u003e\u003cp style=\"display:inline\"\u003eanswer\u003c/p\u003e\u003c/summary\u003e\n",
    "\n",
    "```\n",
    "type PlayerAndTeam =\n",
    "  {\n",
    "    Player: string\n",
    "    Team: string\n",
    "  }\n",
    "val it: PlayerAndTeam list =\n",
    "  [{ Player = \"Robert Lewandowski\"\n",
    "     Team = \"Bayern Munich\" }; { Player = \"Kylian Mbappé\"\n",
    "                                 Team = \"Paris S-G\" };\n",
    "   { Player = \"Karim Benzema\"\n",
    "     Team = \"Real Madrid\" }; { Player = \"Ciro Immobile\"\n",
    "                               Team = \"Lazio\" };\n",
    "   { Player = \"Wissam Ben Yedder\"\n",
    "     Team = \"Monaco\" }]\n",
    "```\n",
    "\n",
    "\u003c/details\u003e\n",
    "\u003c/span\u003e\n",
    "\u003c/p\u003e\n",
    "\u003c/div\u003e\n",
    "\n"
   ]
  }
,
  {
   "cell_type": "code",
   "metadata": {
    "dotnet_interactive": {
     "language": "fsharp"
    },
    "polyglot_notebook": {
     "kernelName": "fsharp"
    }
   },
   "execution_count": null, "outputs": [],
   "source": [
    "// write your code here, see website for solution.\n"
   ]
  }
,
  {
   "cell_type": "markdown",
   "metadata": {},
   
   "source": [
    "* Define a record named `PlayerAndLeague` with a field named `Player` that is a `string` and `League` that is a `string`. \n",
    "Then transform each element of the `playerStatsTable` List into a `PlayerAndLeague` record.\n",
    "\n",
    "\u003cdiv style=\"padding-left: 40px;\"\u003e\n",
    "\u003cp\u003e \n",
    "\u003cspan\u003e\n",
    "\u003cdetails\u003e\n",
    "\u003csummary\u003e\u003cp style=\"display:inline\"\u003eanswer\u003c/p\u003e\u003c/summary\u003e\n",
    "\n",
    "```\n",
    "type PlayerAndLeague =\n",
    "  {\n",
    "    Player: string\n",
    "    League: string\n",
    "  }\n",
    "val it: PlayerAndLeague list =\n",
    "  [{ Player = \"Robert Lewandowski\"\n",
    "     League = \"deBundesliga\" }; { Player = \"Kylian Mbappé\"\n",
    "                                  League = \"frLigue 1\" };\n",
    "   { Player = \"Karim Benzema\"\n",
    "     League = \"esLa Liga\" }; { Player = \"Ciro Immobile\"\n",
    "                               League = \"itSerie A\" };\n",
    "   { Player = \"Wissam Ben Yedder\"\n",
    "     League = \"frLigue 1\" }]\n",
    "```\n",
    "\n",
    "\u003c/details\u003e\n",
    "\u003c/span\u003e\n",
    "\u003c/p\u003e\n",
    "\u003c/div\u003e\n",
    "\n"
   ]
  }
,
  {
   "cell_type": "code",
   "metadata": {
    "dotnet_interactive": {
     "language": "fsharp"
    },
    "polyglot_notebook": {
     "kernelName": "fsharp"
    }
   },
   "execution_count": null, "outputs": [],
   "source": [
    "// write your code here, see website for solution.\n"
   ]
  }
,
  {
   "cell_type": "markdown",
   "metadata": {},
   
   "source": [
    "* Define a record named `PlayerAndAge` with a field named `Player` that is a `string` and `Age` that is a integer(`int`). \n",
    "Then transform each element of the `playerStatsTable` List into a `PlayerAndAge` record.\n",
    "\n",
    "\u003cdiv style=\"padding-left: 40px;\"\u003e\n",
    "\u003cp\u003e \n",
    "\u003cspan\u003e\n",
    "\u003cdetails\u003e\n",
    "\u003csummary\u003e\u003cp style=\"display:inline\"\u003eanswer\u003c/p\u003e\u003c/summary\u003e\n",
    "\n",
    "```\n",
    "type PlayerAndAge =\n",
    "  {\n",
    "    Player: string\n",
    "    Age: int\n",
    "  }\n",
    "val it: PlayerAndAge list =\n",
    "  [{ Player = \"Robert Lewandowski\"\n",
    "     Age = 32 }; { Player = \"Kylian Mbappé\"\n",
    "                   Age = 22 }; { Player = \"Karim Benzema\"\n",
    "                                 Age = 33 }; { Player = \"Ciro Immobile\"\n",
    "                                               Age = 31 };\n",
    "   { Player = \"Wissam Ben Yedder\"\n",
    "     Age = 30 }]\n",
    "```\n",
    "\n",
    "\u003c/details\u003e\n",
    "\u003c/span\u003e\n",
    "\u003c/p\u003e\n",
    "\u003c/div\u003e\n",
    "\n"
   ]
  }
,
  {
   "cell_type": "code",
   "metadata": {
    "dotnet_interactive": {
     "language": "fsharp"
    },
    "polyglot_notebook": {
     "kernelName": "fsharp"
    }
   },
   "execution_count": null, "outputs": [],
   "source": [
    "// write your code here, see website for solution.\n"
   ]
  }
,
  {
   "cell_type": "markdown",
   "metadata": {},
   
   "source": [
    "* Define a record named `PlayerAndMatchesPlayed` with a field named `Player` that is a `string` and `MatchesPlayed` that is a integer(`int`). \n",
    "Then transform each element of the `playerStatsTable` List into a `PlayerAndMatchesPlayed` record.\n",
    "\n",
    "\u003cdiv style=\"padding-left: 40px;\"\u003e\n",
    "\u003cp\u003e \n",
    "\u003cspan\u003e\n",
    "\u003cdetails\u003e\n",
    "\u003csummary\u003e\u003cp style=\"display:inline\"\u003eanswer\u003c/p\u003e\u003c/summary\u003e\n",
    "\n",
    "```\n",
    "type PlayerAndMatchesPlayed =\n",
    "  {\n",
    "    Player: string\n",
    "    MatchesPlayed: int\n",
    "  }\n",
    "val it: PlayerAndMatchesPlayed list =\n",
    "  [{ Player = \"Robert Lewandowski\"\n",
    "     MatchesPlayed = 34 }; { Player = \"Kylian Mbappé\"\n",
    "                             MatchesPlayed = 35 }; { Player = \"Karim Benzema\"\n",
    "                                                     MatchesPlayed = 32 };\n",
    "   { Player = \"Ciro Immobile\"\n",
    "     MatchesPlayed = 31 }; { Player = \"Wissam Ben Yedder\"\n",
    "                             MatchesPlayed = 37 }]\n",
    "```\n",
    "\n",
    "\u003c/details\u003e\n",
    "\u003c/span\u003e\n",
    "\u003c/p\u003e\n",
    "\u003c/div\u003e\n",
    "\n"
   ]
  }
,
  {
   "cell_type": "code",
   "metadata": {
    "dotnet_interactive": {
     "language": "fsharp"
    },
    "polyglot_notebook": {
     "kernelName": "fsharp"
    }
   },
   "execution_count": null, "outputs": [],
   "source": [
    "// write your code here, see website for solution.\n"
   ]
  }
,
  {
   "cell_type": "markdown",
   "metadata": {},
   
   "source": [
    "* Define a record named `PlayerAndGoalsScored` with a field named `Player` that is a `string` and `GoalsScored` that is a integer(`int`). \n",
    "Then transform each element of the `playerStatsTable` List into a `PlayerAndGoalsScored` record.\n",
    "\n",
    "\u003cdiv style=\"padding-left: 40px;\"\u003e\n",
    "\u003cp\u003e \n",
    "\u003cspan\u003e\n",
    "\u003cdetails\u003e\n",
    "\u003csummary\u003e\u003cp style=\"display:inline\"\u003eanswer\u003c/p\u003e\u003c/summary\u003e\n",
    "\n",
    "```\n",
    "type PlayerAndGoalsScored =\n",
    "  {\n",
    "    Player: string\n",
    "    GoalsScored: int\n",
    "  }\n",
    "val it: PlayerAndGoalsScored list =\n",
    "  [{ Player = \"Robert Lewandowski\"\n",
    "     GoalsScored = 35 }; { Player = \"Kylian Mbappé\"\n",
    "                           GoalsScored = 28 }; { Player = \"Karim Benzema\"\n",
    "                                                 GoalsScored = 27 };\n",
    "   { Player = \"Ciro Immobile\"\n",
    "     GoalsScored = 27 }; { Player = \"Wissam Ben Yedder\"\n",
    "                           GoalsScored = 25 }]\n",
    "```\n",
    "\n",
    "\u003c/details\u003e\n",
    "\u003c/span\u003e\n",
    "\u003c/p\u003e\n",
    "\u003c/div\u003e\n",
    "\n"
   ]
  }
,
  {
   "cell_type": "code",
   "metadata": {
    "dotnet_interactive": {
     "language": "fsharp"
    },
    "polyglot_notebook": {
     "kernelName": "fsharp"
    }
   },
   "execution_count": null, "outputs": [
          {
           "data": {
            "text/html": ["\u003ch3 class=numbered\u003e\u003ca name=Creating-anonymous-records class=anchor href=#Creating-anonymous-records\u003eCreating anonymous records\u003c/a\u003e\u003c/h3\u003e"]
        },
           "execution_count": null,
           "metadata": {},
           "output_type": "execute_result"
          }],
   "source": [
    "// write your code here, see website for solution.\n"
   ]
  }
,
  {
   "cell_type": "markdown",
   "metadata": {},
   
   "source": [
    "Example: Transform each element of the `playerStatsTable` List into an anonymous record with a `Player` field that is a `string` and a `Nation` field that is a `string`.\n",
    "\n",
    "With `Anonymous records` we don\u0027t need to define the record type beforehand and we don\u0027t need to specify the type of each field.\n",
    "\n"
   ]
  }
,
  {
   "cell_type": "code",
   "metadata": {
    "dotnet_interactive": {
     "language": "fsharp"
    },
    "polyglot_notebook": {
     "kernelName": "fsharp"
    }
   },
   "execution_count": 26, "outputs": [
          {
           "data": {
            "text/plain": ["val it: {| Nation: string; Player: string |} list =",
"",
"  [{ Nation = \"pl POL\"",
"",
"     Player = \"Robert Lewandowski\" }; { Nation = \"fr FRA\"",
"",
"                                        Player = \"Kylian Mbappé\" };",
"",
"   { Nation = \"fr FRA\"",
"",
"     Player = \"Karim Benzema\" }; { Nation = \"it ITA\"",
"",
"                                   Player = \"Ciro Immobile\" };",
"",
"   { Nation = \"fr FRA\"",
"",
"     Player = \"Wissam Ben Yedder\" }]"]
        },
           "execution_count": 26,
           "metadata": {},
           "output_type": "execute_result"
          }],
   "source": [
    "playerStatsTable\n",
    "|\u003e List.map(fun x -\u003e \n",
    "    {| Player = x.Player\n",
    "       Nation = x.Nation |})\n",
    "|\u003e List.truncate 5 //just to observe the first 5 rows, not a part of the exercise.\n"
   ]
  }
,
  {
   "cell_type": "markdown",
   "metadata": {},
   
   "source": [
    "* Transform each element of the `playerStatsTable` List into an anonymous record with a `Player` field that is a `string` and a `Team` field that is a `string`.\n",
    "\n",
    "\u003cdiv style=\"padding-left: 40px;\"\u003e\n",
    "\u003cp\u003e \n",
    "\u003cspan\u003e\n",
    "\u003cdetails\u003e\n",
    "\u003csummary\u003e\u003cp style=\"display:inline\"\u003eanswer\u003c/p\u003e\u003c/summary\u003e\n",
    "\n",
    "```\n",
    "val it: {| Player: string; Team: string |} list =\n",
    "  [{ Player = \"Robert Lewandowski\"\n",
    "     Team = \"Bayern Munich\" }; { Player = \"Kylian Mbappé\"\n",
    "                                 Team = \"Paris S-G\" };\n",
    "   { Player = \"Karim Benzema\"\n",
    "     Team = \"Real Madrid\" }; { Player = \"Ciro Immobile\"\n",
    "                               Team = \"Lazio\" };\n",
    "   { Player = \"Wissam Ben Yedder\"\n",
    "     Team = \"Monaco\" }]\n",
    "```\n",
    "\n",
    "\u003c/details\u003e\n",
    "\u003c/span\u003e\n",
    "\u003c/p\u003e\n",
    "\u003c/div\u003e\n",
    "\n"
   ]
  }
,
  {
   "cell_type": "code",
   "metadata": {
    "dotnet_interactive": {
     "language": "fsharp"
    },
    "polyglot_notebook": {
     "kernelName": "fsharp"
    }
   },
   "execution_count": null, "outputs": [],
   "source": [
    "// write your code here, see website for solution.\n"
   ]
  }
,
  {
   "cell_type": "markdown",
   "metadata": {},
   
   "source": [
    "* Transform each element of the `playerStatsTable` List into an anonymous record with a `Player` field that is a `string` and a `League` field that is a `string`.\n",
    "\n",
    "\u003cdiv style=\"padding-left: 40px;\"\u003e\n",
    "\u003cp\u003e \n",
    "\u003cspan\u003e\n",
    "\u003cdetails\u003e\n",
    "\u003csummary\u003e\u003cp style=\"display:inline\"\u003eanswer\u003c/p\u003e\u003c/summary\u003e\n",
    "\n",
    "```\n",
    "val it: {| League: string; Player: string |} list =\n",
    "  [{ League = \"deBundesliga\"\n",
    "     Player = \"Robert Lewandowski\" }; { League = \"frLigue 1\"\n",
    "                                        Player = \"Kylian Mbappé\" };\n",
    "   { League = \"esLa Liga\"\n",
    "     Player = \"Karim Benzema\" }; { League = \"itSerie A\"\n",
    "                                   Player = \"Ciro Immobile\" };\n",
    "   { League = \"frLigue 1\"\n",
    "     Player = \"Wissam Ben Yedder\" }]\n",
    "```\n",
    "\n",
    "\u003c/details\u003e\n",
    "\u003c/span\u003e\n",
    "\u003c/p\u003e\n",
    "\u003c/div\u003e\n",
    "\n"
   ]
  }
,
  {
   "cell_type": "code",
   "metadata": {
    "dotnet_interactive": {
     "language": "fsharp"
    },
    "polyglot_notebook": {
     "kernelName": "fsharp"
    }
   },
   "execution_count": null, "outputs": [],
   "source": [
    "// write your code here, see website for solution.\n"
   ]
  }
,
  {
   "cell_type": "markdown",
   "metadata": {},
   
   "source": [
    "* Transform each element of the `playerStatsTable` List into an anonymous record with a `Player` field that is a `string` and a `Age` field that is a integer(`int`).\n",
    "\n",
    "\u003cdiv style=\"padding-left: 40px;\"\u003e\n",
    "\u003cp\u003e \n",
    "\u003cspan\u003e\n",
    "\u003cdetails\u003e\n",
    "\u003csummary\u003e\u003cp style=\"display:inline\"\u003eanswer\u003c/p\u003e\u003c/summary\u003e\n",
    "\n",
    "```\n",
    "val it: {| Age: int; Player: string |} list =\n",
    "  [{ Age = 32\n",
    "     Player = \"Robert Lewandowski\" }; { Age = 22\n",
    "                                        Player = \"Kylian Mbappé\" };\n",
    "   { Age = 33\n",
    "     Player = \"Karim Benzema\" }; { Age = 31\n",
    "                                   Player = \"Ciro Immobile\" };\n",
    "   { Age = 30\n",
    "     Player = \"Wissam Ben Yedder\" }]\n",
    "```\n",
    "\n",
    "\u003c/details\u003e\n",
    "\u003c/span\u003e\n",
    "\u003c/p\u003e\n",
    "\u003c/div\u003e\n",
    "\n"
   ]
  }
,
  {
   "cell_type": "code",
   "metadata": {
    "dotnet_interactive": {
     "language": "fsharp"
    },
    "polyglot_notebook": {
     "kernelName": "fsharp"
    }
   },
   "execution_count": null, "outputs": [],
   "source": [
    "// write your code here, see website for solution.\n"
   ]
  }
,
  {
   "cell_type": "markdown",
   "metadata": {},
   
   "source": [
    "* Transform each element of the `playerStatsTable` List into an anonymous record with a `Player` field that is a `string` and a `MatchesPlayed` field that is a integer(`int`).\n",
    "\n",
    "\u003cdiv style=\"padding-left: 40px;\"\u003e\n",
    "\u003cp\u003e \n",
    "\u003cspan\u003e\n",
    "\u003cdetails\u003e\n",
    "\u003csummary\u003e\u003cp style=\"display:inline\"\u003eanswer\u003c/p\u003e\u003c/summary\u003e\n",
    "\n",
    "```\n",
    "val it: {| MatchesPlayed: int; Player: string |} list =\n",
    "  [{ MatchesPlayed = 34\n",
    "     Player = \"Robert Lewandowski\" }; { MatchesPlayed = 35\n",
    "                                        Player = \"Kylian Mbappé\" };\n",
    "   { MatchesPlayed = 32\n",
    "     Player = \"Karim Benzema\" }; { MatchesPlayed = 31\n",
    "                                   Player = \"Ciro Immobile\" };\n",
    "   { MatchesPlayed = 37\n",
    "     Player = \"Wissam Ben Yedder\" }]\n",
    "```\n",
    "\n",
    "\u003c/details\u003e\n",
    "\u003c/span\u003e\n",
    "\u003c/p\u003e\n",
    "\u003c/div\u003e\n",
    "\n"
   ]
  }
,
  {
   "cell_type": "code",
   "metadata": {
    "dotnet_interactive": {
     "language": "fsharp"
    },
    "polyglot_notebook": {
     "kernelName": "fsharp"
    }
   },
   "execution_count": null, "outputs": [],
   "source": [
    "// write your code here, see website for solution.\n"
   ]
  }
,
  {
   "cell_type": "markdown",
   "metadata": {},
   
   "source": [
    "* Transform each element of the `playerStatsTable` List into an anonymous record with a `Player` field that is a `string` and a `GoalsScored` field that is a integer(`int`).\n",
    "\n",
    "\u003cdiv style=\"padding-left: 40px;\"\u003e\n",
    "\u003cp\u003e \n",
    "\u003cspan\u003e\n",
    "\u003cdetails\u003e\n",
    "\u003csummary\u003e\u003cp style=\"display:inline\"\u003eanswer\u003c/p\u003e\u003c/summary\u003e\n",
    "\n",
    "```\n",
    "val it: {| GoalsScored: int; Player: string |} list =\n",
    "  [{ GoalsScored = 35\n",
    "     Player = \"Robert Lewandowski\" }; { GoalsScored = 28\n",
    "                                        Player = \"Kylian Mbappé\" };\n",
    "   { GoalsScored = 27\n",
    "     Player = \"Karim Benzema\" }; { GoalsScored = 27\n",
    "                                   Player = \"Ciro Immobile\" };\n",
    "   { GoalsScored = 25\n",
    "     Player = \"Wissam Ben Yedder\" }]\n",
    "```\n",
    "\n",
    "\u003c/details\u003e\n",
    "\u003c/span\u003e\n",
    "\u003c/p\u003e\n",
    "\u003c/div\u003e\n",
    "\n"
   ]
  }
,
  {
   "cell_type": "code",
   "metadata": {
    "dotnet_interactive": {
     "language": "fsharp"
    },
    "polyglot_notebook": {
     "kernelName": "fsharp"
    }
   },
   "execution_count": null, "outputs": [
          {
           "data": {
            "text/html": ["\u003ch2 class=numbered\u003e\u003ca name=Simple-transformations class=anchor href=#Simple-transformations\u003eSimple transformations\u003c/a\u003e\u003c/h2\u003e"]
        },
           "execution_count": null,
           "metadata": {},
           "output_type": "execute_result"
          }],
   "source": [
    "// write your code here, see website for solution.\n"
   ]
  }
,
  {
   "cell_type": "markdown",
   "metadata": {},
   
   "source": [
    "Now that you are used to work with `List.map` to organize the data into tuples, records and anonymous records.\n",
    "Let\u0027s try to do it while applying some simple transformations as sum, multiplication, type transformations and so on.\n",
    "\n",
    "\u003ch3 class=numbered\u003e\u003ca name=Transformations-using-tuples class=anchor href=#Transformations-using-tuples\u003eTransformations using tuples\u003c/a\u003e\u003c/h3\u003e\n",
    "\n",
    "Example: map the `playerStatsTable` to a tuple of player and age, but add 1 to age. ( `Player`, `Age + 1`)\n",
    "\n"
   ]
  }
,
  {
   "cell_type": "code",
   "metadata": {
    "dotnet_interactive": {
     "language": "fsharp"
    },
    "polyglot_notebook": {
     "kernelName": "fsharp"
    }
   },
   "execution_count": 34, "outputs": [
          {
           "data": {
            "text/plain": ["val it: int list = [33; 23; 34; 32; 31]"]
        },
           "execution_count": 34,
           "metadata": {},
           "output_type": "execute_result"
          }],
   "source": [
    "playerStatsTable\n",
    "|\u003e List.map(fun x -\u003e x.Age + 1)\n",
    "|\u003e List.truncate 5 //just to observe the first 5 rows, not a part of the exercise.\n"
   ]
  }
,
  {
   "cell_type": "markdown",
   "metadata": {},
   
   "source": [
    "When to use integers or floats/decimals:\n",
    "\n",
    "0 Use integers if the results of the calculations should be integers (1, 2, 3, 4, ...).\n",
    "\n",
    "1 Use floats or decimals if the results of the calculations may be floats or decimals (1.1, 2.1324, ...).\n",
    "\n",
    "* map the `playerStatsTable` to a tuple of player and goals scored, but multiply goals scored by 10. ( `Player`, `GoalsScored * 10`)\n",
    "\n",
    "\u003cdiv style=\"padding-left: 40px;\"\u003e\n",
    "\u003cp\u003e \n",
    "\u003cspan\u003e\n",
    "\u003cdetails\u003e\n",
    "\u003csummary\u003e\u003cp style=\"display:inline\"\u003eanswer\u003c/p\u003e\u003c/summary\u003e\n",
    "\n",
    "```\n",
    "val it: (string * int) list =\n",
    "  [(\"Robert Lewandowski\", 350); (\"Kylian Mbappé\", 280); (\"Karim Benzema\", 270);\n",
    "   (\"Ciro Immobile\", 270); (\"Wissam Ben Yedder\", 250)]\n",
    "```\n",
    "\n",
    "\u003c/details\u003e\n",
    "\u003c/span\u003e\n",
    "\u003c/p\u003e\n",
    "\u003c/div\u003e\n",
    "\n"
   ]
  }
,
  {
   "cell_type": "code",
   "metadata": {
    "dotnet_interactive": {
     "language": "fsharp"
    },
    "polyglot_notebook": {
     "kernelName": "fsharp"
    }
   },
   "execution_count": null, "outputs": [],
   "source": [
    "// write your code here, see website for solution.\n"
   ]
  }
,
  {
   "cell_type": "markdown",
   "metadata": {},
   
   "source": [
    "* map the `playerStatsTable` to a tuple of player and goals scored, but divide GoalsScored by 2. ( `Player`, `GoalsScored / 2`)\n",
    "\n",
    "\u003cdiv style=\"padding-left: 40px;\"\u003e\n",
    "\u003cp\u003e \n",
    "\u003cspan\u003e\n",
    "\u003cdetails\u003e\n",
    "\u003csummary\u003e\u003cp style=\"display:inline\"\u003eanswer\u003c/p\u003e\u003c/summary\u003e\n",
    "\n",
    "```\n",
    "val it: (string * int) list =\n",
    "  [(\"Robert Lewandowski\", 17); (\"Kylian Mbappé\", 14); (\"Karim Benzema\", 13);\n",
    "   (\"Ciro Immobile\", 13); (\"Wissam Ben Yedder\", 12)]\n",
    "```\n",
    "\n",
    "\u003c/details\u003e\n",
    "\u003c/span\u003e\n",
    "\u003c/p\u003e\n",
    "\u003c/div\u003e\n",
    "\n"
   ]
  }
,
  {
   "cell_type": "code",
   "metadata": {
    "dotnet_interactive": {
     "language": "fsharp"
    },
    "polyglot_notebook": {
     "kernelName": "fsharp"
    }
   },
   "execution_count": null, "outputs": [],
   "source": [
    "// write your code here, see website for solution.\n"
   ]
  }
,
  {
   "cell_type": "markdown",
   "metadata": {},
   
   "source": [
    "In this case, look how dividing using integers rounds the results to the nearest integers.\n",
    "If the results are decimals you might prefer to get exact results.\n",
    "For that you can use floats or decimals types.\n",
    "In order to convert a variable to float you have to use the syntax: `float variable`.\n",
    "\n",
    "Example: map the `playerStatsTable` to a tuple of player and age, but convert age to float. ( `Player`, `float Age`)\n",
    "\n"
   ]
  }
,
  {
   "cell_type": "code",
   "metadata": {
    "dotnet_interactive": {
     "language": "fsharp"
    },
    "polyglot_notebook": {
     "kernelName": "fsharp"
    }
   },
   "execution_count": 37, "outputs": [
          {
           "data": {
            "text/plain": ["val it: (string * float) list =",
"",
"  [(\"Robert Lewandowski\", 32.0); (\"Kylian Mbappé\", 22.0);",
"",
"   (\"Karim Benzema\", 33.0); (\"Ciro Immobile\", 31.0);",
"",
"   (\"Wissam Ben Yedder\", 30.0)]"]
        },
           "execution_count": 37,
           "metadata": {},
           "output_type": "execute_result"
          }],
   "source": [
    "playerStatsTable\n",
    "|\u003e List.map(fun x -\u003e x.Player, float x.Age) \n",
    "|\u003e List.truncate 5 //just to observe the first 5 rows, not a part of the exercise.\n"
   ]
  }
,
  {
   "cell_type": "markdown",
   "metadata": {},
   
   "source": [
    "* map the `playerStatsTable` to a tuple of player and goals scored, but convert goalsScored to float. ( `Player`, `float GoalsScored`)\n",
    "\n",
    "\u003cdiv style=\"padding-left: 40px;\"\u003e\n",
    "\u003cp\u003e \n",
    "\u003cspan\u003e\n",
    "\u003cdetails\u003e\n",
    "\u003csummary\u003e\u003cp style=\"display:inline\"\u003eanswer\u003c/p\u003e\u003c/summary\u003e\n",
    "\n",
    "```\n",
    "val it: (string * float) list =\n",
    "  [(\"Robert Lewandowski\", 35.0); (\"Kylian Mbappé\", 28.0);\n",
    "   (\"Karim Benzema\", 27.0); (\"Ciro Immobile\", 27.0);\n",
    "   (\"Wissam Ben Yedder\", 25.0)]\n",
    "```\n",
    "\n",
    "\u003c/details\u003e\n",
    "\u003c/span\u003e\n",
    "\u003c/p\u003e\n",
    "\u003c/div\u003e\n",
    "\n"
   ]
  }
,
  {
   "cell_type": "code",
   "metadata": {
    "dotnet_interactive": {
     "language": "fsharp"
    },
    "polyglot_notebook": {
     "kernelName": "fsharp"
    }
   },
   "execution_count": null, "outputs": [],
   "source": [
    "// write your code here, see website for solution.\n"
   ]
  }
,
  {
   "cell_type": "markdown",
   "metadata": {},
   
   "source": [
    "* map the `playerStatsTable` to a tuple of player and goals scored, but divide goalsScored by 2.0. ( `Player`, `GoalsScored / 2.0`)\n",
    "Hint: convert goals scored to float and divide by 2.0 (you can\u0027t divide by 2 because if you perform math operations with different types, you\u0027ll get an error).\n",
    "\n",
    "\u003cdiv style=\"padding-left: 40px;\"\u003e\n",
    "\u003cp\u003e \n",
    "\u003cspan\u003e\n",
    "\u003cdetails\u003e\n",
    "\u003csummary\u003e\u003cp style=\"display:inline\"\u003eanswer\u003c/p\u003e\u003c/summary\u003e\n",
    "\n",
    "```\n",
    "val it: (string * int) list =\n",
    "  [(\"Robert Lewandowski\", 17); (\"Kylian Mbappé\", 14); (\"Karim Benzema\", 13);\n",
    "   (\"Ciro Immobile\", 13); (\"Wissam Ben Yedder\", 12)]\n",
    "```\n",
    "\n",
    "\u003c/details\u003e\n",
    "\u003c/span\u003e\n",
    "\u003c/p\u003e\n",
    "\u003c/div\u003e\n",
    "\n"
   ]
  }
,
  {
   "cell_type": "code",
   "metadata": {
    "dotnet_interactive": {
     "language": "fsharp"
    },
    "polyglot_notebook": {
     "kernelName": "fsharp"
    }
   },
   "execution_count": null, "outputs": [
          {
           "data": {
            "text/html": ["\u003ch3 class=numbered\u003e\u003ca name=Transformations-using-records class=anchor href=#Transformations-using-records\u003eTransformations using records\u003c/a\u003e\u003c/h3\u003e"]
        },
           "execution_count": null,
           "metadata": {},
           "output_type": "execute_result"
          }],
   "source": [
    "// write your code here, see website for solution.\n"
   ]
  }
,
  {
   "cell_type": "markdown",
   "metadata": {},
   
   "source": [
    "Example: map the `playerStatsTable` to a record of player and age, but add 1 to age. ( `Player`, `Age + 1`)\n",
    "\n"
   ]
  }
,
  {
   "cell_type": "code",
   "metadata": {
    "dotnet_interactive": {
     "language": "fsharp"
    },
    "polyglot_notebook": {
     "kernelName": "fsharp"
    }
   },
   "execution_count": 41, "outputs": [
          {
           "data": {
            "text/plain": ["type PlayerAndAgePlus1Int =",
"",
"  {",
"",
"    Player: string",
"",
"    AgePlus1Int: int",
"",
"  }",
"",
"val it: PlayerAndAgePlus1Int list =",
"",
"  [{ Player = \"Robert Lewandowski\"",
"",
"     AgePlus1Int = 33 }; { Player = \"Kylian Mbappé\"",
"",
"                           AgePlus1Int = 23 }; { Player = \"Karim Benzema\"",
"",
"                                                 AgePlus1Int = 34 };",
"",
"   { Player = \"Ciro Immobile\"",
"",
"     AgePlus1Int = 32 }; { Player = \"Wissam Ben Yedder\"",
"",
"                           AgePlus1Int = 31 }]"]
        },
           "execution_count": 41,
           "metadata": {},
           "output_type": "execute_result"
          }],
   "source": [
    "type PlayerAndAgePlus1Int =\n",
    "    { Player : string\n",
    "      AgePlus1Int : int }\n",
    "\n",
    "playerStatsTable\n",
    "|\u003e List.map(fun x -\u003e\n",
    "    { Player = x.Player \n",
    "      AgePlus1Int = x.Age + 1})\n",
    "|\u003e List.truncate 5 //just to observe the first 5 rows, not a part of the exercise.\n"
   ]
  }
,
  {
   "cell_type": "markdown",
   "metadata": {},
   
   "source": [
    "* map the `playerStatsTable` to a record of player and goals scored, but multiply goals scored by 10. ( `Player`, `GoalsScored * 10`)\n",
    "Hint: You have to create a new type record.\n",
    "\n",
    "\u003cdiv style=\"padding-left: 40px;\"\u003e\n",
    "\u003cp\u003e \n",
    "\u003cspan\u003e\n",
    "\u003cdetails\u003e\n",
    "\u003csummary\u003e\u003cp style=\"display:inline\"\u003eanswer\u003c/p\u003e\u003c/summary\u003e\n",
    "\n",
    "```\n",
    "type PlayerAndGls =\n",
    "  {\n",
    "    Player: string\n",
    "    GoalsScored: int\n",
    "  }\n",
    "val it: PlayerAndGls list =\n",
    "  [{ Player = \"Robert Lewandowski\"\n",
    "     GoalsScored = 350 }; { Player = \"Kylian Mbappé\"\n",
    "                            GoalsScored = 280 }; { Player = \"Karim Benzema\"\n",
    "                                                   GoalsScored = 270 };\n",
    "   { Player = \"Ciro Immobile\"\n",
    "     GoalsScored = 270 }; { Player = \"Wissam Ben Yedder\"\n",
    "                            GoalsScored = 250 }]\n",
    "```\n",
    "\n",
    "\u003c/details\u003e\n",
    "\u003c/span\u003e\n",
    "\u003c/p\u003e\n",
    "\u003c/div\u003e\n",
    "\n"
   ]
  }
,
  {
   "cell_type": "code",
   "metadata": {
    "dotnet_interactive": {
     "language": "fsharp"
    },
    "polyglot_notebook": {
     "kernelName": "fsharp"
    }
   },
   "execution_count": null, "outputs": [],
   "source": [
    "// write your code here, see website for solution.\n"
   ]
  }
,
  {
   "cell_type": "markdown",
   "metadata": {},
   
   "source": [
    "* map the `playerStatsTable` to a record of player and goals scored, but divide goals scored by 2.0. ( `Player`, `float GoalsScored  / 2.0`)\n",
    "Hint: You have to create a new type record, because previous type has goals scored as integers but you want floats.\n",
    "\n",
    "\u003cdiv style=\"padding-left: 40px;\"\u003e\n",
    "\u003cp\u003e \n",
    "\u003cspan\u003e\n",
    "\u003cdetails\u003e\n",
    "\u003csummary\u003e\u003cp style=\"display:inline\"\u003eanswer\u003c/p\u003e\u003c/summary\u003e\n",
    "\n",
    "```\n",
    "type PlayerAndGlsFloat =\n",
    "  {\n",
    "    Player: string\n",
    "    GoalsScoredFloat: float\n",
    "  }\n",
    "val it: PlayerAndGlsFloat list =\n",
    "  [{ Player = \"Robert Lewandowski\"\n",
    "     GoalsScoredFloat = 17.5 }; { Player = \"Kylian Mbappé\"\n",
    "                                  GoalsScoredFloat = 14.0 };\n",
    "   { Player = \"Karim Benzema\"\n",
    "     GoalsScoredFloat = 13.5 }; { Player = \"Ciro Immobile\"\n",
    "                                  GoalsScoredFloat = 13.5 };\n",
    "   { Player = \"Wissam Ben Yedder\"\n",
    "     GoalsScoredFloat = 12.5 }]\n",
    "```\n",
    "\n",
    "\u003c/details\u003e\n",
    "\u003c/span\u003e\n",
    "\u003c/p\u003e\n",
    "\u003c/div\u003e\n",
    "\n"
   ]
  }
,
  {
   "cell_type": "code",
   "metadata": {
    "dotnet_interactive": {
     "language": "fsharp"
    },
    "polyglot_notebook": {
     "kernelName": "fsharp"
    }
   },
   "execution_count": null, "outputs": [
          {
           "data": {
            "text/html": ["\u003ch3 class=numbered\u003e\u003ca name=Transformations-using-anonymous-records class=anchor href=#Transformations-using-anonymous-records\u003eTransformations using anonymous records\u003c/a\u003e\u003c/h3\u003e"]
        },
           "execution_count": null,
           "metadata": {},
           "output_type": "execute_result"
          }],
   "source": [
    "// write your code here, see website for solution.\n"
   ]
  }
,
  {
   "cell_type": "markdown",
   "metadata": {},
   
   "source": [
    "Example: map the `playerStatsTable` to an anonymoys record of player and age, but add 1 to age. ( `Player`, `Age + 1`)\n",
    "\n"
   ]
  }
,
  {
   "cell_type": "code",
   "metadata": {
    "dotnet_interactive": {
     "language": "fsharp"
    },
    "polyglot_notebook": {
     "kernelName": "fsharp"
    }
   },
   "execution_count": 45, "outputs": [
          {
           "data": {
            "text/plain": ["val it: {| AgePlus1: int; Player: string |} list =",
"",
"  [{ AgePlus1 = 33",
"",
"     Player = \"Robert Lewandowski\" }; { AgePlus1 = 23",
"",
"                                        Player = \"Kylian Mbappé\" };",
"",
"   { AgePlus1 = 34",
"",
"     Player = \"Karim Benzema\" }; { AgePlus1 = 32",
"",
"                                   Player = \"Ciro Immobile\" };",
"",
"   { AgePlus1 = 31",
"",
"     Player = \"Wissam Ben Yedder\" }]"]
        },
           "execution_count": 45,
           "metadata": {},
           "output_type": "execute_result"
          }],
   "source": [
    "playerStatsTable\n",
    "|\u003e List.map(fun x -\u003e \n",
    "    {| Player = x.Player\n",
    "       AgePlus1 = x.Age + 1 |})\n",
    "|\u003e List.truncate 5 //just to observe the first 5 rows, not a part of the exercise.\n"
   ]
  }
,
  {
   "cell_type": "code",
   "metadata": {
    "dotnet_interactive": {
     "language": "fsharp"
    },
    "polyglot_notebook": {
     "kernelName": "fsharp"
    }
   },
   "execution_count": 46, "outputs": [
          {
           "data": {
            "text/plain": ["val it: {| AgePlus1Float: float; Player: string |} list =",
"",
"  [{ AgePlus1Float = 33.0",
"",
"     Player = \"Robert Lewandowski\" }; { AgePlus1Float = 23.0",
"",
"                                        Player = \"Kylian Mbappé\" };",
"",
"   { AgePlus1Float = 34.0",
"",
"     Player = \"Karim Benzema\" }; { AgePlus1Float = 32.0",
"",
"                                   Player = \"Ciro Immobile\" };",
"",
"   { AgePlus1Float = 31.0",
"",
"     Player = \"Wissam Ben Yedder\" }]"]
        },
           "execution_count": 46,
           "metadata": {},
           "output_type": "execute_result"
          }],
   "source": [
    "// or \n",
    "\n",
    "playerStatsTable\n",
    "|\u003e List.map(fun x -\u003e\n",
    "    {| Player = x.Player \n",
    "       AgePlus1Float = (float x.Age) + 1.0 |})\n",
    "|\u003e List.truncate 5 //just to observe the first 5 rows, not a part of the exercise.\n"
   ]
  }
,
  {
   "cell_type": "markdown",
   "metadata": {},
   
   "source": [
    "* map the `playerStatsTable` to an anonymous record of player and goals scored, but multiply goals scored by 10. ( `Player`, `GoalsScored * 10`)\n",
    "\n",
    "\u003cdiv style=\"padding-left: 40px;\"\u003e\n",
    "\u003cp\u003e \n",
    "\u003cspan\u003e\n",
    "\u003cdetails\u003e\n",
    "\u003csummary\u003e\u003cp style=\"display:inline\"\u003eanswer\u003c/p\u003e\u003c/summary\u003e\n",
    "\n",
    "```\n",
    "val it: {| AgePlus1Float: float; Player: string |} list =\n",
    "  [{ AgePlus1Float = 350.0\n",
    "     Player = \"Robert Lewandowski\" }; { AgePlus1Float = 280.0\n",
    "                                        Player = \"Kylian Mbappé\" };\n",
    "   { AgePlus1Float = 270.0\n",
    "     Player = \"Karim Benzema\" }; { AgePlus1Float = 270.0\n",
    "                                   Player = \"Ciro Immobile\" };\n",
    "   { AgePlus1Float = 250.0\n",
    "     Player = \"Wissam Ben Yedder\" }]\n",
    "```\n",
    "\n",
    "\u003c/details\u003e\n",
    "\u003c/span\u003e\n",
    "\u003c/p\u003e\n",
    "\u003c/div\u003e\n",
    "\n"
   ]
  }
,
  {
   "cell_type": "code",
   "metadata": {
    "dotnet_interactive": {
     "language": "fsharp"
    },
    "polyglot_notebook": {
     "kernelName": "fsharp"
    }
   },
   "execution_count": null, "outputs": [],
   "source": [
    "// write your code here, see website for solution.\n"
   ]
  }
,
  {
   "cell_type": "markdown",
   "metadata": {},
   
   "source": [
    "* map the `playerStatsTable` to an anonymous record of player and goals scored, but divide goals scored by 2.0. ( `Player`, `float GoalsScored  / 2.0`)\n",
    "Hint: Remember that you have to transform GoalsScored to float.\n",
    "\n",
    "\u003cdiv style=\"padding-left: 40px;\"\u003e\n",
    "\u003cp\u003e \n",
    "\u003cspan\u003e\n",
    "\u003cdetails\u003e\n",
    "\u003csummary\u003e\u003cp style=\"display:inline\"\u003eanswer\u003c/p\u003e\u003c/summary\u003e\n",
    "\n",
    "```\n",
    "val it: {| GoalsScoredFloat: float; Player: string |} list =\n",
    "  [{ GoalsScoredFloat = 17.5\n",
    "     Player = \"Robert Lewandowski\" }; { GoalsScoredFloat = 14.0\n",
    "                                        Player = \"Kylian Mbappé\" };\n",
    "   { GoalsScoredFloat = 13.5\n",
    "     Player = \"Karim Benzema\" }; { GoalsScoredFloat = 13.5\n",
    "                                   Player = \"Ciro Immobile\" };\n",
    "   { GoalsScoredFloat = 12.5\n",
    "     Player = \"Wissam Ben Yedder\" }]\n",
    "```\n",
    "\n",
    "\u003c/details\u003e\n",
    "\u003c/span\u003e\n",
    "\u003c/p\u003e\n",
    "\u003c/div\u003e\n",
    "\n"
   ]
  }
,
  {
   "cell_type": "code",
   "metadata": {
    "dotnet_interactive": {
     "language": "fsharp"
    },
    "polyglot_notebook": {
     "kernelName": "fsharp"
    }
   },
   "execution_count": null, "outputs": [
          {
           "data": {
            "text/html": ["\u003ch2 class=numbered\u003e\u003ca name=Creating-and-transforming-TeamRecord class=anchor href=#Creating-and-transforming-TeamRecord\u003eCreating and transforming TeamRecord\u003c/a\u003e\u003c/h2\u003e"]
        },
           "execution_count": null,
           "metadata": {},
           "output_type": "execute_result"
          }],
   "source": [
    "// write your code here, see website for solution.\n"
   ]
  }
,
  {
   "cell_type": "markdown",
   "metadata": {},
   
   "source": [
    "Now that you are used to work with records and perform simple Transformations, map `playerStatsTable` to a record type that includes:\n",
    "\n",
    "* Player (`Player`) - type `string`\n",
    "\n",
    "* Nation (`Nation`) - type `string`\n",
    "\n",
    "* League (`League`) - type `string`\n",
    "\n",
    "* AgeNextYear (`Age + 1`) - type `int`\n",
    "\n",
    "* HalfGoalsScored (`GoalsScored / 2.0`) - type `float`\n",
    "\n",
    "Hint: Create a new type.\n",
    "\n",
    "\u003cdiv style=\"padding-left: 40px;\"\u003e\n",
    "\u003cp\u003e \n",
    "\u003cspan\u003e\n",
    "\u003cdetails\u003e\n",
    "\u003csummary\u003e\u003cp style=\"display:inline\"\u003eanswer\u003c/p\u003e\u003c/summary\u003e\n",
    "\n",
    "```\n",
    "type TeamRecord =\n",
    "  {\n",
    "    Player: string\n",
    "    Nation: string\n",
    "    League: string\n",
    "    AgeNextYear: int\n",
    "    HalfGoalsScored: float\n",
    "  }\n",
    "val it: TeamRecord list =\n",
    "  [{ Player = \"Robert Lewandowski\"\n",
    "     Nation = \"pl POL\"\n",
    "     League = \"deBundesliga\"\n",
    "     AgeNextYear = 33\n",
    "     HalfGoalsScored = 17.5 }; { Player = \"Kylian Mbappé\"\n",
    "                                 Nation = \"fr FRA\"\n",
    "                                 League = \"frLigue 1\"\n",
    "                                 AgeNextYear = 23\n",
    "                                 HalfGoalsScored = 14.0 };\n",
    "   { Player = \"Karim Benzema\"\n",
    "     Nation = \"fr FRA\"\n",
    "     League = \"esLa Liga\"\n",
    "     AgeNextYear = 34\n",
    "     HalfGoalsScored = 13.5 }; { Player = \"Ciro Immobile\"\n",
    "                                 Nation = \"it ITA\"\n",
    "                                 League = \"itSerie A\"\n",
    "                                 AgeNextYear = 32\n",
    "                                 HalfGoalsScored = 13.5 };\n",
    "   { Player = \"Wissam Ben Yedder\"\n",
    "     Nation = \"fr FRA\"\n",
    "     League = \"frLigue 1\"\n",
    "     AgeNextYear = 31\n",
    "     HalfGoalsScored = 12.5 }]\n",
    "```\n",
    "\n",
    "\u003c/details\u003e\n",
    "\u003c/span\u003e\n",
    "\u003c/p\u003e\n",
    "\u003c/div\u003e\n",
    "\n"
   ]
  }
,
  {
   "cell_type": "code",
   "metadata": {
    "dotnet_interactive": {
     "language": "fsharp"
    },
    "polyglot_notebook": {
     "kernelName": "fsharp"
    }
   },
   "execution_count": null, "outputs": [],
   "source": [
    "// write your code here, see website for solution.\n"
   ]
  }
 ],
 "metadata": {
  "kernelspec": {
   "display_name": ".NET (F#)",
   "language": "F#",
   "name": ".net-fsharp"
  },
  "language_info": {
   "file_extension": ".fs",
   "mimetype": "text/x-fsharp",
   "name": "polyglot-notebook",
   "pygments_lexer": "fsharp"
  },
  "polyglot_notebook": {
   "kernelInfo": {
    "defaultKernelName": "fsharp",
    "items": [
     {
      "aliases": [],
      "languageName": "fsharp",
      "name": "fsharp"
     }
    ]
   }
  }
 },
 "nbformat": 4,
 "nbformat_minor": 2
}

