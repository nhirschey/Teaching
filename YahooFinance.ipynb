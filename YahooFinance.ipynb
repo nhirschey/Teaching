
{
 "cells": [
  {
   "cell_type": "markdown",
   "metadata": {},
   
   "source": [
    "[![Script](img/badge-script.svg)](/Teaching//YahooFinance.fsx)\n",
    "\n",
    "Based on code from [https://github.com/aexsalomao/YahooFinance/](https://github.com/aexsalomao/YahooFinance/)\n",
    "\n"
   ]
  }
,
  {
   "cell_type": "code",
   "metadata": {
    "dotnet_interactive": {
     "language": "fsharp"
    },
    "polyglot_notebook": {
     "kernelName": "fsharp"
    }
   },
   "execution_count": 1, "outputs": [],
   "source": [
    "#r \"nuget: FSharp.Data, 5.0.2\"\n",
    "\n",
    "open System\n",
    "open FSharp.Data\n",
    "\n",
    "type Interval = \n",
    "    | Daily\n",
    "    | Weekly\n",
    "    | Monthly\n",
    "    override this.ToString() = \n",
    "        match this with\n",
    "        | Daily -\u003e \"1d\"\n",
    "        | Weekly -\u003e \"1wk\"\n",
    "        | Monthly -\u003e \"1mo\"\n",
    "\n",
    "type PriceObs = \n",
    "    { Symbol : string\n",
    "      Date : DateTime\n",
    "      Open : float\n",
    "      High : float\n",
    "      Low : float\n",
    "      Close : float\n",
    "      AdjustedClose : float\n",
    "      Volume : float }\n",
    "\n",
    "type private PriceObsCsv = CsvProvider\u003cSample=\"Date (date),Open (float),High (float),Low (float), Close (float),AdjClose (float),Volume (float)\"\u003e\n",
    "let private parseYahooPriceHistory symbol result = \n",
    "    PriceObsCsv.Parse(result).Rows\n",
    "    |\u003e Seq.map (fun x -\u003e \n",
    "        { Symbol = symbol \n",
    "          Date = x.Date\n",
    "          Open = x.Open\n",
    "          High = x.High\n",
    "          Low = x.Low\n",
    "          Close = x.Close \n",
    "          AdjustedClose = x.AdjClose\n",
    "          Volume = x.Volume })\n",
    "    |\u003e Seq.toArray\n",
    "\n",
    "\n",
    "let private cc = System.Net.CookieContainer()\n",
    "let private retryCount = 5\n",
    "let private parallelSymbols = 5\n",
    "\n",
    "type YahooFinance =\n",
    "    static member PriceHistory(symbols: seq\u003cstring\u003e,?startDate: DateTime,?endDate: DateTime,?interval: Interval) =\n",
    "        let symbols = Seq.toList symbols\n",
    "        let startDate = defaultArg startDate (DateTime.Now.AddYears(-1))\n",
    "        let endDate = defaultArg endDate (DateTime.Now)\n",
    "        let interval = defaultArg interval Interval.Monthly\n",
    "\n",
    "        let generateYahooUrl (symbol: string) (startDate: DateTime) (endDate: DateTime) (interval: Interval) =\n",
    "            let time dt = DateTimeOffset(dt).ToUnixTimeSeconds()\n",
    "            $\"https://query1.finance.yahoo.com/v7/finance/download/{symbol}?\" +\n",
    "            $\"period1={time startDate}\u0026period2={time endDate}\u0026interval={interval}\" +\n",
    "            $\"\u0026events=history\u0026includeAdjustedClose=true\"\n",
    "        \n",
    "        let rec yahooRequest attempt symbol =\n",
    "            async {\n",
    "                let url = generateYahooUrl symbol startDate endDate interval\n",
    "                try\n",
    "                    let! result = \n",
    "                        Http.AsyncRequestString(\n",
    "                            url = url, \n",
    "                            httpMethod = \"GET\",\n",
    "                            query = [\"format\",\"csv\"],\n",
    "                            headers = [HttpRequestHeaders.Accept HttpContentTypes.Csv],\n",
    "                            cookieContainer = cc)\n",
    "                    return parseYahooPriceHistory symbol result\n",
    "                with e -\u003e\n",
    "                    if attempt \u003e 0 then\n",
    "                        return! yahooRequest (attempt - 1) symbol\n",
    "                    else return! failwith $\"Failed to request {symbol}, Error: {e}\"\n",
    "            }\n",
    "        let rec getSymbols (symbols: list\u003cstring\u003e) output parallelSymbols =\n",
    "            let download thisDownload =\n",
    "                [| for symbol in thisDownload do \n",
    "                    yahooRequest retryCount symbol |]\n",
    "                |\u003e Async.Parallel\n",
    "                |\u003e Async.RunSynchronously\n",
    "                |\u003e Array.collect id\n",
    "                |\u003e Array.toList\n",
    "\n",
    "            if symbols.Length \u003e parallelSymbols then\n",
    "                let thisDownload, remaining = symbols |\u003e List.splitAt parallelSymbols\n",
    "                let result = download thisDownload\n",
    "                System.Threading.Thread.Sleep(1000) // Throttle 1 sec per batch of symbols\n",
    "                getSymbols remaining (result @ output) parallelSymbols\n",
    "            else\n",
    "                let result = download symbols\n",
    "                result @ output\n",
    "        getSymbols symbols [] parallelSymbols                \n",
    "    static member PriceHistory(symbol: string,?startDate: DateTime,?endDate: DateTime,?interval: Interval) =\n",
    "        YahooFinance.PriceHistory(symbols=[symbol],?startDate=startDate,?endDate=endDate,?interval=interval)\n"
   ]
  }
 ],
 "metadata": {
  "kernelspec": {
   "display_name": ".NET (F#)",
   "language": "F#",
   "name": ".net-fsharp"
  },
  "language_info": {
   "file_extension": ".fs",
   "mimetype": "text/x-fsharp",
   "name": "polyglot-notebook",
   "pygments_lexer": "fsharp"
  },
  "polyglot_notebook": {
   "kernelInfo": {
    "defaultKernelName": "fsharp",
    "items": [
     {
      "aliases": [],
      "languageName": "fsharp",
      "name": "fsharp"
     }
    ]
   }
  }
 },
 "nbformat": 4,
 "nbformat_minor": 2
}

