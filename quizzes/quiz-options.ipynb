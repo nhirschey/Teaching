
{
 "cells": [
  {
   "cell_type": "markdown",
   "metadata": {},
   
   "source": [
    "[![Binder](../img/badge-binder.svg)](https://mybinder.org/v2/gh/nhirschey/teaching/gh-pages?filepath=quizzes/quiz-options.ipynb)\u0026emsp;\n",
    "[![Script](../img/badge-script.svg)](/Teaching//quizzes/quiz-options.fsx)\u0026emsp;\n",
    "[![Notebook](../img/badge-notebook.svg)](/Teaching//quizzes/quiz-options.ipynb)\n",
    "\n",
    "# Options\n",
    "\n",
    "Sometimes something exists or doesn\u0027t exist. This can be useful to model explicitly. [FSharp For Fun And Profit](https://fsharpforfunandprofit.com/posts/the-option-type/) has a nice discussion of option types and how to use them. You can also find information on the [tour of F#](https://docs.microsoft.com/en-us/dotnet/fsharp/tour#options), [F# language reference](https://docs.microsoft.com/en-us/dotnet/fsharp/language-reference/options) and the [F# core documentation](https://fsharp.github.io/fsharp-core-docs/reference/fsharp-core-optionmodule.html).\n",
    "Finally, Jane Street\u0027s tech [blog](https://blog.janestreet.com/making-something-out-of-nothing-or-why-none-is-better-than-nan-and-null/) has a good discussion as well.\n",
    "\n",
    "The main purpose is to model situations where you could have \"something\" or \"nothing\" explicitly.\n",
    "\n",
    "For example, this `testMap` does not contain a \"c\" key.\n",
    "\n"
   ]
  }
,
  {
   "cell_type": "code",
   "metadata": {
    "dotnet_interactive": {
     "language": "fsharp"
    },
    "polyglot_notebook": {
     "kernelName": "fsharp"
    }
   },
   "execution_count": 3, "outputs": [],
   "source": [
    "let testMap = Map [(\"a\", 1); (\"b\", 1)]\n"
   ]
  }
,
  {
   "cell_type": "markdown",
   "metadata": {},
   
   "source": [
    "If we try to find the value indexed by \"c\" we will get an exception.\n",
    "\n"
   ]
  }
,
  {
   "cell_type": "code",
   "metadata": {
    "dotnet_interactive": {
     "language": "fsharp"
    },
    "polyglot_notebook": {
     "kernelName": "fsharp"
    }
   },
   "execution_count": null, "outputs": [],
   "source": [
    "Map.find \"c\" testMap\n"
   ]
  }
,
  {
   "cell_type": "markdown",
   "metadata": {},
   
   "source": [
    "The preferred way to do this is to try to get the key, and then if there is no value for that key return nothing. Options are either `Some x` or `None`, where `x` is the data that you want. This is what the \"..try\" functions are about.\n",
    "\n"
   ]
  }
,
  {
   "cell_type": "code",
   "metadata": {
    "dotnet_interactive": {
     "language": "fsharp"
    },
    "polyglot_notebook": {
     "kernelName": "fsharp"
    }
   },
   "execution_count": 4, "outputs": [],
   "source": [
    "Map.tryFind \"a\" testMap\n"
   ]
  }
,
  {
   "cell_type": "code",
   "metadata": {
    "dotnet_interactive": {
     "language": "fsharp"
    },
    "polyglot_notebook": {
     "kernelName": "fsharp"
    }
   },
   "execution_count": null, "outputs": [],
   "source": [
    "Map.tryFind \"c\" testMap\n"
   ]
  }
,
  {
   "cell_type": "markdown",
   "metadata": {},
   
   "source": [
    "Other option examples\n",
    "\n"
   ]
  }
,
  {
   "cell_type": "code",
   "metadata": {
    "dotnet_interactive": {
     "language": "fsharp"
    },
    "polyglot_notebook": {
     "kernelName": "fsharp"
    }
   },
   "execution_count": 5, "outputs": [
          {
           "data": {
            "text/plain": ["Some 5.0"]
        },
           "execution_count": 5,
           "metadata": {},
           "output_type": "execute_result"
          }],
   "source": [
    "let xx = Some 4.0\n",
    "let yy = None\n",
    "\n",
    "xx |\u003e Option.map(fun x -\u003e x + 1.0)\n"
   ]
  }
,
  {
   "cell_type": "code",
   "metadata": {
    "dotnet_interactive": {
     "language": "fsharp"
    },
    "polyglot_notebook": {
     "kernelName": "fsharp"
    }
   },
   "execution_count": 6, "outputs": [
          {
           "data": {
            "text/plain": ["\u003cnull\u003e"]
        },
           "execution_count": 6,
           "metadata": {},
           "output_type": "execute_result"
          }],
   "source": [
    "yy |\u003e Option.map (fun x -\u003e x + 1.0)\n"
   ]
  }
,
  {
   "cell_type": "code",
   "metadata": {
    "dotnet_interactive": {
     "language": "fsharp"
    },
    "polyglot_notebook": {
     "kernelName": "fsharp"
    }
   },
   "execution_count": 7, "outputs": [
          {
           "data": {
            "text/plain": ["[Some 4.0; None; Some 4.0; None; Some 104.0]"]
        },
           "execution_count": 7,
           "metadata": {},
           "output_type": "execute_result"
          }],
   "source": [
    "let add100ToOption x = x |\u003e Option.map(fun x -\u003e x + 100.0)\n",
    "let xxyy = [xx; yy; xx; yy; add100ToOption xx ] \n",
    "xxyy\n"
   ]
  }
,
  {
   "cell_type": "markdown",
   "metadata": {},
   
   "source": [
    "now add another 100 to every element\n",
    "\n"
   ]
  }
,
  {
   "cell_type": "code",
   "metadata": {
    "dotnet_interactive": {
     "language": "fsharp"
    },
    "polyglot_notebook": {
     "kernelName": "fsharp"
    }
   },
   "execution_count": 8, "outputs": [
          {
           "data": {
            "text/plain": ["[Some 104.0; None; Some 104.0; None; Some 204.0]"]
        },
           "execution_count": 8,
           "metadata": {},
           "output_type": "execute_result"
          }],
   "source": [
    "xxyy |\u003e List.map add100ToOption\n"
   ]
  }
,
  {
   "cell_type": "code",
   "metadata": {
    "dotnet_interactive": {
     "language": "fsharp"
    },
    "polyglot_notebook": {
     "kernelName": "fsharp"
    }
   },
   "execution_count": 9, "outputs": [
          {
           "data": {
            "text/plain": ["[Some 2.0; None; Some 2.0; None; Some 52.0]"]
        },
           "execution_count": 9,
           "metadata": {},
           "output_type": "execute_result"
          }],
   "source": [
    "let divideBy2 x = x / 2.0\n",
    "xxyy \n",
    "|\u003e List.map(fun x -\u003e \n",
    "    x |\u003e Option.map divideBy2\n",
    ")\n"
   ]
  }
,
  {
   "cell_type": "markdown",
   "metadata": {},
   
   "source": [
    "Choose is like *.map but it discards\n",
    "the `None` results and unwraps the `Some` results.\n",
    "\n"
   ]
  }
,
  {
   "cell_type": "code",
   "metadata": {
    "dotnet_interactive": {
     "language": "fsharp"
    },
    "polyglot_notebook": {
     "kernelName": "fsharp"
    }
   },
   "execution_count": 10, "outputs": [
          {
           "data": {
            "text/plain": ["[2.0; 2.0; 52.0]"]
        },
           "execution_count": 10,
           "metadata": {},
           "output_type": "execute_result"
          }],
   "source": [
    "xxyy \n",
    "|\u003e List.choose(fun x -\u003e \n",
    "    x |\u003e Option.map divideBy2\n",
    ")\n"
   ]
  }
,
  {
   "cell_type": "markdown",
   "metadata": {},
   
   "source": [
    "## Question 1\n",
    "\n",
    "Create a value named `a` and assign `Some 4` to it.\n",
    "\n",
    "\u003cdiv style=\"padding-left: 40px;\"\u003e\n",
    "\u003cp\u003e \n",
    "\u003cspan\u003e\n",
    "\u003cdetails\u003e\n",
    "\u003csummary\u003e\u003cp style=\"display:inline\"\u003eanswer\u003c/p\u003e\u003c/summary\u003e\n",
    "\n",
    "```\n",
    "val a: int option = Some 4\n",
    "```\n",
    "\n",
    "\u003c/details\u003e\n",
    "\u003c/span\u003e\n",
    "\u003c/p\u003e\n",
    "\u003c/div\u003e\n",
    "\n"
   ]
  }
,
  {
   "cell_type": "code",
   "metadata": {
    "dotnet_interactive": {
     "language": "fsharp"
    },
    "polyglot_notebook": {
     "kernelName": "fsharp"
    }
   },
   "execution_count": null, "outputs": [],
   "source": [
    "// write your code here, see website for solution.\n"
   ]
  }
,
  {
   "cell_type": "markdown",
   "metadata": {},
   
   "source": [
    "## Question 2\n",
    "\n",
    "Create a value name `b` and assign `None` to it.\n",
    "\n",
    "\u003cdiv style=\"padding-left: 40px;\"\u003e\n",
    "\u003cp\u003e \n",
    "\u003cspan\u003e\n",
    "\u003cdetails\u003e\n",
    "\u003csummary\u003e\u003cp style=\"display:inline\"\u003eanswer\u003c/p\u003e\u003c/summary\u003e\n",
    "\n",
    "```\n",
    "val b: \u0027a option\n",
    "```\n",
    "\n",
    "\u003c/details\u003e\n",
    "\u003c/span\u003e\n",
    "\u003c/p\u003e\n",
    "\u003c/div\u003e\n",
    "\n"
   ]
  }
,
  {
   "cell_type": "code",
   "metadata": {
    "dotnet_interactive": {
     "language": "fsharp"
    },
    "polyglot_notebook": {
     "kernelName": "fsharp"
    }
   },
   "execution_count": null, "outputs": [],
   "source": [
    "// write your code here, see website for solution.\n"
   ]
  }
,
  {
   "cell_type": "markdown",
   "metadata": {},
   
   "source": [
    "## Question 3\n",
    "\n",
    "Create a tuple named `c` and assign `(Some 4, None)` to it.\n",
    "\n",
    "\u003cdiv style=\"padding-left: 40px;\"\u003e\n",
    "\u003cp\u003e \n",
    "\u003cspan\u003e\n",
    "\u003cdetails\u003e\n",
    "\u003csummary\u003e\u003cp style=\"display:inline\"\u003eanswer\u003c/p\u003e\u003c/summary\u003e\n",
    "\n",
    "```\n",
    "val c: int option * \u0027a option\n",
    "```\n",
    "\n",
    "\u003c/details\u003e\n",
    "\u003c/span\u003e\n",
    "\u003c/p\u003e\n",
    "\u003c/div\u003e\n",
    "\n"
   ]
  }
,
  {
   "cell_type": "code",
   "metadata": {
    "dotnet_interactive": {
     "language": "fsharp"
    },
    "polyglot_notebook": {
     "kernelName": "fsharp"
    }
   },
   "execution_count": null, "outputs": [],
   "source": [
    "// write your code here, see website for solution.\n"
   ]
  }
,
  {
   "cell_type": "markdown",
   "metadata": {},
   
   "source": [
    "## Question 4\n",
    "\n",
    "Write a function named d that takes `x: float` as an input and outputs\n",
    "`Some x` if x \u003c 0 and `None` if x \u003e= 0. Test it by mapping each element of\n",
    "`[0.0; 1.4; -7.0]` by function d.\n",
    "\n",
    "\u003cdiv style=\"padding-left: 40px;\"\u003e\n",
    "\u003cp\u003e \n",
    "\u003cspan\u003e\n",
    "\u003cdetails\u003e\n",
    "\u003csummary\u003e\u003cp style=\"display:inline\"\u003eanswer\u003c/p\u003e\u003c/summary\u003e\n",
    "\n",
    "```\n",
    "val d: x: float -\u003e float option\n",
    "val it: float option list = [None; None; Some -7.0]\n",
    "```\n",
    "\n",
    "or, we don\u0027t actually have to tell it that `x` is a `float`\n",
    "because type inference can tell that `x` must be a `float`\n",
    "because the function does `x \u003c 0.0` and `0.0` is a `float`.\n",
    "\n",
    "```\n",
    "val d2: x: float -\u003e float option\n",
    "val it: float option list = [None; None; Some -7.0]\n",
    "```\n",
    "\n",
    "\u003c/details\u003e\n",
    "\u003c/span\u003e\n",
    "\u003c/p\u003e\n",
    "\u003c/div\u003e\n",
    "\n"
   ]
  }
,
  {
   "cell_type": "code",
   "metadata": {
    "dotnet_interactive": {
     "language": "fsharp"
    },
    "polyglot_notebook": {
     "kernelName": "fsharp"
    }
   },
   "execution_count": null, "outputs": [],
   "source": [
    "// write your code here, see website for solution.\n"
   ]
  }
,
  {
   "cell_type": "markdown",
   "metadata": {},
   
   "source": [
    "## Question 5\n",
    "\n",
    "Consider this list of trading days for a stock and it\u0027s price and dividends:\n",
    "\n"
   ]
  }
,
  {
   "cell_type": "code",
   "metadata": {
    "dotnet_interactive": {
     "language": "fsharp"
    },
    "polyglot_notebook": {
     "kernelName": "fsharp"
    }
   },
   "execution_count": 16, "outputs": [],
   "source": [
    "type StockDays = \n",
    "    { \n",
    "        Day : int \n",
    "        Price : decimal\n",
    "        Dividend : decimal Option \n",
    "    }\n",
    "\n",
    "let stockDays = \n",
    "    [ for day = 0 to 5 do \n",
    "        let dividend = if day % 2 = 0 then None else Some 1m\n",
    "        { Day = day\n",
    "          Price = 100m + decimal day\n",
    "          Dividend = dividend } ]   \n"
   ]
  }
,
  {
   "cell_type": "markdown",
   "metadata": {},
   
   "source": [
    "0 create a new list called `stockDaysWithDividends` that is a filtered\n",
    "version of `stockDays` that only contains days with dividends.\n",
    "\n",
    "1 Then create an list called `stockDaysWithoutDividends` that is a filtered\n",
    "version of `stockDays` that only contains days that do not have dividends.\n",
    "\n",
    "\u003cdiv style=\"padding-left: 40px;\"\u003e\n",
    "\u003cp\u003e \n",
    "\u003cspan\u003e\n",
    "\u003cdetails\u003e\n",
    "\u003csummary\u003e\u003cp style=\"display:inline\"\u003eanswer\u003c/p\u003e\u003c/summary\u003e\n",
    "\n",
    "```\n",
    "val stockDaysWithDivideds: StockDays list =\n",
    "  [{ Day = 1\n",
    "     Price = 101M\n",
    "     Dividend = Some 1M }; { Day = 3\n",
    "                             Price = 103M\n",
    "                             Dividend = Some 1M }; { Day = 5\n",
    "                                                     Price = 105M\n",
    "                                                     Dividend = Some 1M }]\n",
    "```\n",
    "\n",
    "```\n",
    "val stockDaysWithoutDividends: StockDays list =\n",
    "  [{ Day = 0\n",
    "     Price = 100M\n",
    "     Dividend = None }; { Day = 2\n",
    "                          Price = 102M\n",
    "                          Dividend = None }; { Day = 4\n",
    "                                               Price = 104M\n",
    "                                               Dividend = None }]\n",
    "```\n",
    "\n",
    "\u003c/details\u003e\n",
    "\u003c/span\u003e\n",
    "\u003c/p\u003e\n",
    "\u003c/div\u003e\n",
    "\n"
   ]
  }
,
  {
   "cell_type": "code",
   "metadata": {
    "dotnet_interactive": {
     "language": "fsharp"
    },
    "polyglot_notebook": {
     "kernelName": "fsharp"
    }
   },
   "execution_count": null, "outputs": [],
   "source": [
    "// write your code here, see website for solution.\n"
   ]
  }
,
  {
   "cell_type": "markdown",
   "metadata": {},
   
   "source": [
    "## Question 6\n",
    "\n",
    "Consider the value `let nestedOption = (Some (Some 4))`. Pipe\n",
    "it to `Option.flatten` so that you are left with `Some 4`.\n",
    "\n",
    "\u003cdiv style=\"padding-left: 40px;\"\u003e\n",
    "\u003cp\u003e \n",
    "\u003cspan\u003e\n",
    "\u003cdetails\u003e\n",
    "\u003csummary\u003e\u003cp style=\"display:inline\"\u003eanswer\u003c/p\u003e\u003c/summary\u003e\n",
    "\n",
    "```\n",
    "val nestedOption: int option option = Some (Some 4)\n",
    "val it: int option = Some 4\n",
    "```\n",
    "\n",
    "\u003c/details\u003e\n",
    "\u003c/span\u003e\n",
    "\u003c/p\u003e\n",
    "\u003c/div\u003e\n",
    "\n"
   ]
  }
,
  {
   "cell_type": "code",
   "metadata": {
    "dotnet_interactive": {
     "language": "fsharp"
    },
    "polyglot_notebook": {
     "kernelName": "fsharp"
    }
   },
   "execution_count": null, "outputs": [],
   "source": [
    "// write your code here, see website for solution.\n"
   ]
  }
,
  {
   "cell_type": "markdown",
   "metadata": {},
   
   "source": [
    "## Question 7\n",
    "\n",
    "Consider this list `let listOfNestedOptions = [(Some (Some 4)); Some (None); None]`.\n",
    "Show how to transform it into `[Some 4; None; None]` by mapping a function to each\n",
    "element of the list.\n",
    "\n",
    "\u003cdiv style=\"padding-left: 40px;\"\u003e\n",
    "\u003cp\u003e \n",
    "\u003cspan\u003e\n",
    "\u003cdetails\u003e\n",
    "\u003csummary\u003e\u003cp style=\"display:inline\"\u003eanswer\u003c/p\u003e\u003c/summary\u003e\n",
    "\n",
    "```\n",
    "val listOfNestedOptions: int option option list =\n",
    "  [Some (Some 4); Some None; None]\n",
    "val it: int option list = [Some 4; None; None]\n",
    "```\n",
    "\n",
    "\u003c/details\u003e\n",
    "\u003c/span\u003e\n",
    "\u003c/p\u003e\n",
    "\u003c/div\u003e\n",
    "\n"
   ]
  }
,
  {
   "cell_type": "code",
   "metadata": {
    "dotnet_interactive": {
     "language": "fsharp"
    },
    "polyglot_notebook": {
     "kernelName": "fsharp"
    }
   },
   "execution_count": null, "outputs": [],
   "source": [
    "// write your code here, see website for solution.\n"
   ]
  }
 ],
 "metadata": {
  "kernelspec": {
   "display_name": ".NET (F#)",
   "language": "F#",
   "name": ".net-fsharp"
  },
  "language_info": {
   "file_extension": ".fs",
   "mimetype": "text/x-fsharp",
   "name": "polyglot-notebook",
   "pygments_lexer": "fsharp"
  },
  "polyglot_notebook": {
   "kernelInfo": {
    "defaultKernelName": "fsharp",
    "items": [
     {
      "aliases": [],
      "languageName": "fsharp",
      "name": "fsharp"
     }
    ]
   }
  }
 },
 "nbformat": 4,
 "nbformat_minor": 2
}

