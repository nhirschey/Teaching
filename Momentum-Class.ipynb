
{
 "cells": [
  {
   "cell_type": "markdown",
   "metadata": {},
   
   "source": [
    "[![Binder](img/badge-binder.svg)](https://mybinder.org/v2/gh/nhirschey/teaching/gh-pages?filepath=Momentum-Class.ipynb)\u0026emsp;\n",
    "[![Script](img/badge-script.svg)](/Teaching//Momentum-Class.fsx)\u0026emsp;\n",
    "[![Notebook](img/badge-notebook.svg)](/Teaching//Momentum-Class.ipynb)\n",
    "\n"
   ]
  }
,
  {
   "cell_type": "code",
   "metadata": {
    "dotnet_interactive": {
     "language": "fsharp"
    },
    "polyglot_notebook": {
     "kernelName": "fsharp"
    }
   },
   "execution_count": null, "outputs": [],
   "source": [
    "#time \"on\"\n",
    "\n",
    "#r \"nuget: FSharp.Data, 5.0.2\"\n",
    "#r \"nuget: FSharp.Stats, 0.5.0\"\n",
    "#r \"nuget: Plotly.NET, 3.*\"\n",
    "#r \"nuget: Plotly.NET.Interactive, 3.*\"\n",
    "#r \"nuget: NovaSBE.Finance, 0.5.0\"\n",
    "\n",
    "open System\n",
    "open FSharp.Data\n",
    "open FSharp.Stats\n",
    "open Plotly.NET\n",
    "\n",
    "open NovaSBE.Finance.Portfolio\n",
    "\n",
    "Environment.CurrentDirectory \u003c- __SOURCE_DIRECTORY__\n",
    "\n",
    "let samplePeriod x = \n",
    "    x \u003e= DateTime(2010, 1, 1) \u0026\u0026\n",
    "    x \u003c= DateTime(2020, 2, 1)\n"
   ]
  }
,
  {
   "cell_type": "code",
   "metadata": {
    "dotnet_interactive": {
     "language": "fsharp"
    },
    "polyglot_notebook": {
     "kernelName": "fsharp"
    }
   },
   "execution_count": null, "outputs": [],
   "source": [
    "// Set dotnet interactive formatter to plaintext\n",
    "Formatter.Register(fun (x:obj) (writer: TextWriter) -\u003e fprintfn writer \"%120A\" x )\n",
    "Formatter.SetPreferredMimeTypesFor(typeof\u003cobj\u003e, \"text/plain\")\n",
    "// Make plotly graphs work with interactive plaintext formatter\n",
    "Formatter.SetPreferredMimeTypesFor(typeof\u003cGenericChart.GenericChart\u003e,\"text/html\")\n"
   ]
  }
,
  {
   "cell_type": "markdown",
   "metadata": {},
   
   "source": [
    "# Price momentum\n",
    "\n",
    "Price momentum is one of the most common quant signals. It is (fairly)\n",
    "straight forward to calculate, and you only need returns to do it,\n",
    "so it is a good starting point and reference \u0027strategy\u0027.\n",
    "\n",
    "## Input data\n",
    "\n",
    "Create a type that represents the file.\n",
    "This code figures out what the columns of the csv file are.\n",
    "\n",
    "* `Sample` is the path to our file. We assume in our source\n",
    "directory there is a folder called `data`. Inside this data\n",
    "folder we have our csv file.\n",
    "\n",
    "* `ResolutionFolder` to indicate what folder relative paths\n",
    "are relative to.\n",
    "\n",
    "First, let\u0027s verify that the csv file exists where we think it will be.\n",
    "\n"
   ]
  }
,
  {
   "cell_type": "code",
   "metadata": {
    "dotnet_interactive": {
     "language": "fsharp"
    },
    "polyglot_notebook": {
     "kernelName": "fsharp"
    }
   },
   "execution_count": null, "outputs": [],
   "source": [
    "let [\u003cLiteral\u003e] ResolutionFolder = __SOURCE_DIRECTORY__\n",
    "\n",
    "let [\u003cLiteral\u003e] CsvFile = \"data/msf-momentum.csv\"\n",
    "\n",
    "if IO.File.Exists(ResolutionFolder + \"/\" + CsvFile) then \n",
    "    printfn \"Success!!\"\n",
    "else\n",
    "    let filesThere = IO.Directory.EnumerateFiles(\n",
    "        ResolutionFolder,\n",
    "        searchPattern = \"*\",\n",
    "        searchOption=IO.SearchOption.AllDirectories)\n",
    "    printfn \"We did not find the file. Here are the files in your source directory.\\n\"\n",
    "    filesThere |\u003e Seq.iteri (printfn \"%i. %A\")\n"
   ]
  }
,
  {
   "cell_type": "markdown",
   "metadata": {},
   
   "source": [
    "Assuming that you got \"Success!!\" above this code below will work.\n",
    "\n"
   ]
  }
,
  {
   "cell_type": "code",
   "metadata": {
    "dotnet_interactive": {
     "language": "fsharp"
    },
    "polyglot_notebook": {
     "kernelName": "fsharp"
    }
   },
   "execution_count": null, "outputs": [],
   "source": [
    "type MsfCsv = CsvProvider\u003cSample=CsvFile,\n",
    "                          ResolutionFolder=ResolutionFolder\u003e\n",
    "\n",
    "// assign the content of the file to a value\n",
    "let msfCsv = MsfCsv.GetSample()\n"
   ]
  }
,
  {
   "cell_type": "markdown",
   "metadata": {},
   
   "source": [
    "look at the file attributes\n",
    "\n"
   ]
  }
,
  {
   "cell_type": "code",
   "metadata": {
    "dotnet_interactive": {
     "language": "fsharp"
    },
    "polyglot_notebook": {
     "kernelName": "fsharp"
    }
   },
   "execution_count": null, "outputs": [],
   "source": [
    "msfCsv\n"
   ]
  }
,
  {
   "cell_type": "markdown",
   "metadata": {},
   
   "source": [
    "look at the headers\n",
    "\n"
   ]
  }
,
  {
   "cell_type": "code",
   "metadata": {
    "dotnet_interactive": {
     "language": "fsharp"
    },
    "polyglot_notebook": {
     "kernelName": "fsharp"
    }
   },
   "execution_count": null, "outputs": [],
   "source": [
    "msfCsv.Headers\n"
   ]
  }
,
  {
   "cell_type": "markdown",
   "metadata": {},
   
   "source": [
    "look at the first few rows\n",
    "\n"
   ]
  }
,
  {
   "cell_type": "code",
   "metadata": {
    "dotnet_interactive": {
     "language": "fsharp"
    },
    "polyglot_notebook": {
     "kernelName": "fsharp"
    }
   },
   "execution_count": null, "outputs": [],
   "source": [
    "msfCsv.Rows |\u003e Seq.truncate 3\n"
   ]
  }
,
  {
   "cell_type": "markdown",
   "metadata": {},
   
   "source": [
    "Read them into a list.\n",
    "\n"
   ]
  }
,
  {
   "cell_type": "code",
   "metadata": {
    "dotnet_interactive": {
     "language": "fsharp"
    },
    "polyglot_notebook": {
     "kernelName": "fsharp"
    }
   },
   "execution_count": null, "outputs": [],
   "source": [
    "let msfRows = msfCsv.Rows |\u003e Seq.toList\n",
    "\n",
    "msfRows[..3]\n"
   ]
  }
,
  {
   "cell_type": "markdown",
   "metadata": {},
   
   "source": [
    "## Signal construction\n",
    "\n",
    "We want to create a momentum signal and see how it relates to future returns.\n",
    "The signal is some measure of past returns. A common measure is the past year return,\n",
    "skipping the most recent month. We skip the most recent month because stocks tend\n",
    "to reverse following very recent returns (known as \"reversals\").\n",
    "The reversal is very likely a liquidity effect and it is less important this century.\n",
    "So returns are positively correlated with returns from 12 months to 1 months ago,\n",
    "but negatively correlated with returns last month. This is illustrated very nicely\n",
    "in Jegadeesh (1990).\n",
    "\n",
    "If we\u0027re forming a portfolio at the end of month $t-1$ to hold in month $t$,\n",
    "then we\u0027re saying returns in month $t$ are positively correlated\n",
    "with returns in months $t-12$ through month $t-2$.\n",
    "For example, if we want to hold a momenum portfolio in January 2021,\n",
    "then we will form it on December 31, 2020.\n",
    "We will want to go long stocks that had high returns from the beginning\n",
    "of January 2020 to the end of November 2020.\n",
    "\n",
    "Let\u0027s create a record to hold some info about past returns for a stock.\n",
    "We will use this as a trading signal.\n",
    "\n"
   ]
  }
,
  {
   "cell_type": "code",
   "metadata": {
    "dotnet_interactive": {
     "language": "fsharp"
    },
    "polyglot_notebook": {
     "kernelName": "fsharp"
    }
   },
   "execution_count": null, "outputs": [],
   "source": [
    "type PriorReturnOb = \n",
    "    { SecurityId : SecurityId\n",
    "      FormationMonth : DateTime \n",
    "      Retm12m2 : float\n",
    "      N : int }\n"
   ]
  }
,
  {
   "cell_type": "markdown",
   "metadata": {},
   
   "source": [
    "We\u0027re dealing with monthly data.\n",
    "When we use `DateTime`, then we have to give the month a\n",
    "day value. We will give it the first day of the month. Why?\n",
    "\n",
    "If we use the last day of the month,\n",
    "then what happens when we add months. For example,\n",
    "we have to start doing things like.\n",
    "\n"
   ]
  }
,
  {
   "cell_type": "code",
   "metadata": {
    "dotnet_interactive": {
     "language": "fsharp"
    },
    "polyglot_notebook": {
     "kernelName": "fsharp"
    }
   },
   "execution_count": null, "outputs": [],
   "source": [
    "let endOfFebruary = DateTime(2020,2,28)\n",
    "let endOfMarch = DateTime(2020, 3, 31)\n"
   ]
  }
,
  {
   "cell_type": "markdown",
   "metadata": {},
   
   "source": [
    "What if we add one month to `endOfFebruary`?\n",
    "\n"
   ]
  }
,
  {
   "cell_type": "code",
   "metadata": {
    "dotnet_interactive": {
     "language": "fsharp"
    },
    "polyglot_notebook": {
     "kernelName": "fsharp"
    }
   },
   "execution_count": null, "outputs": [],
   "source": [
    "let endOfFebruaryPlus1Month = endOfFebruary.AddMonths(1)\n",
    "endOfFebruaryPlus1Month\n"
   ]
  }
,
  {
   "cell_type": "markdown",
   "metadata": {},
   
   "source": [
    "Hmm.\n",
    "\n"
   ]
  }
,
  {
   "cell_type": "code",
   "metadata": {
    "dotnet_interactive": {
     "language": "fsharp"
    },
    "polyglot_notebook": {
     "kernelName": "fsharp"
    }
   },
   "execution_count": null, "outputs": [],
   "source": [
    "(endOfMarch - endOfFebruaryPlus1Month).Days\n"
   ]
  }
,
  {
   "cell_type": "markdown",
   "metadata": {},
   
   "source": [
    "That\u0027s a problem. Instead, if we do it with the first day of the\n",
    "month we\u0027re ok.\n",
    "\n"
   ]
  }
,
  {
   "cell_type": "code",
   "metadata": {
    "dotnet_interactive": {
     "language": "fsharp"
    },
    "polyglot_notebook": {
     "kernelName": "fsharp"
    }
   },
   "execution_count": null, "outputs": [],
   "source": [
    "let beginningOfFebruary = DateTime(2020,2,1)\n",
    "let beginningOfMarch = DateTime(2020,3,1) \n",
    "\n",
    "DateTime(2020,3,1) = (beginningOfFebruary.AddMonths(1)) \n"
   ]
  }
,
  {
   "cell_type": "markdown",
   "metadata": {},
   
   "source": [
    "We just have to remember that 2000-01-01 is the\n",
    "return for the full month of January, from December 31, 1999, until\n",
    "January 31, 2000.\n",
    "\n",
    "Note: the NodaTime library has a `YearMonth` to handle monthly data\n",
    "without having to specify a day. But we\u0027re using `DateTime` to\n",
    "keep things slightly simpler.\n",
    "\n",
    "Let\u0027s focus on a single stock.\n",
    "\n",
    "First few rows\n",
    "\n"
   ]
  }
,
  {
   "cell_type": "code",
   "metadata": {
    "dotnet_interactive": {
     "language": "fsharp"
    },
    "polyglot_notebook": {
     "kernelName": "fsharp"
    }
   },
   "execution_count": null, "outputs": [],
   "source": [
    "msfRows\n",
    "|\u003e List.filter(fun x -\u003e x.Ticker = \"AMZN\")\n",
    "|\u003e List.truncate 3\n"
   ]
  }
,
  {
   "cell_type": "markdown",
   "metadata": {},
   
   "source": [
    "Key by security and month\n",
    "\n"
   ]
  }
,
  {
   "cell_type": "code",
   "metadata": {
    "dotnet_interactive": {
     "language": "fsharp"
    },
    "polyglot_notebook": {
     "kernelName": "fsharp"
    }
   },
   "execution_count": null, "outputs": [],
   "source": [
    "msfRows\n",
    "|\u003e List.filter(fun x -\u003e x.Ticker = \"AMZN\")\n",
    "|\u003e List.map(fun x -\u003e\n",
    "    let ym = DateTime(x.Month.Year,x.Month.Month, 1) \n",
    "    let key = Permno x.Permno, ym\n",
    "    key, x)\n",
    "|\u003e List.truncate 3\n"
   ]
  }
,
  {
   "cell_type": "markdown",
   "metadata": {},
   
   "source": [
    "Assign those to a value and index with a Map collection.\n",
    "\n"
   ]
  }
,
  {
   "cell_type": "code",
   "metadata": {
    "dotnet_interactive": {
     "language": "fsharp"
    },
    "polyglot_notebook": {
     "kernelName": "fsharp"
    }
   },
   "execution_count": null, "outputs": [],
   "source": [
    "let amznReturns = \n",
    "    // we\u0027re filtering and then storing as a Map collection\n",
    "    // that allows us to look up by a key of (permno, yearMonth)\n",
    "    msfRows\n",
    "    |\u003e List.filter(fun x -\u003e x.Ticker = \"AMZN\")\n",
    "    |\u003e List.map(fun x -\u003e\n",
    "        let ym = DateTime(x.Month.Year,x.Month.Month, 1) \n",
    "        let key = Permno x.Permno, ym\n",
    "        key, x)\n",
    "    |\u003e Map\n"
   ]
  }
,
  {
   "cell_type": "markdown",
   "metadata": {},
   
   "source": [
    "Amazon is Permno 84788\n",
    "\n"
   ]
  }
,
  {
   "cell_type": "code",
   "metadata": {
    "dotnet_interactive": {
     "language": "fsharp"
    },
    "polyglot_notebook": {
     "kernelName": "fsharp"
    }
   },
   "execution_count": null, "outputs": [],
   "source": [
    "let amznPermno = Permno 84788\n",
    "amznReturns[amznPermno, DateTime(2019,1,1)]\n"
   ]
  }
,
  {
   "cell_type": "markdown",
   "metadata": {},
   
   "source": [
    "A function to get past year of returns.\n",
    "\n"
   ]
  }
,
  {
   "cell_type": "code",
   "metadata": {
    "dotnet_interactive": {
     "language": "fsharp"
    },
    "polyglot_notebook": {
     "kernelName": "fsharp"
    }
   },
   "execution_count": null, "outputs": [],
   "source": [
    "let getPastYearObs returns (security, formationMonth: DateTime) =\n",
    "        [ -11 .. -1 ]\n",
    "        |\u003e List.choose(fun i -\u003e \n",
    "            let returnMonth = formationMonth.AddMonths(i)\n",
    "            Map.tryFind (security, returnMonth) returns)    \n"
   ]
  }
,
  {
   "cell_type": "markdown",
   "metadata": {},
   
   "source": [
    "check Permno Amzn\n",
    "\n"
   ]
  }
,
  {
   "cell_type": "code",
   "metadata": {
    "dotnet_interactive": {
     "language": "fsharp"
    },
    "polyglot_notebook": {
     "kernelName": "fsharp"
    }
   },
   "execution_count": null, "outputs": [],
   "source": [
    "getPastYearObs amznReturns (amznPermno, DateTime(2019,1,1))  \n"
   ]
  }
,
  {
   "cell_type": "markdown",
   "metadata": {},
   
   "source": [
    "Check bad data, nothing is returned\n",
    "\n"
   ]
  }
,
  {
   "cell_type": "code",
   "metadata": {
    "dotnet_interactive": {
     "language": "fsharp"
    },
    "polyglot_notebook": {
     "kernelName": "fsharp"
    }
   },
   "execution_count": null, "outputs": [],
   "source": [
    "getPastYearObs amznReturns (Permno -400, DateTime(2019,1,1))  \n",
    "\n",
    "// making cumulative returns \n",
    "let cumulativeReturn rets =\n",
    "    // using Seq so that it will work with any collection\n",
    "    let mutable cr = 1.0\n",
    "    for r in rets do\n",
    "        cr \u003c- cr * (1.0 + r)\n",
    "    cr - 1.0\n"
   ]
  }
,
  {
   "cell_type": "markdown",
   "metadata": {},
   
   "source": [
    "check result with no data.\n",
    "\n"
   ]
  }
,
  {
   "cell_type": "code",
   "metadata": {
    "dotnet_interactive": {
     "language": "fsharp"
    },
    "polyglot_notebook": {
     "kernelName": "fsharp"
    }
   },
   "execution_count": null, "outputs": [],
   "source": [
    "cumulativeReturn []\n"
   ]
  }
,
  {
   "cell_type": "markdown",
   "metadata": {},
   
   "source": [
    "check up 100\\% and then down 50\\%.\n",
    "\n"
   ]
  }
,
  {
   "cell_type": "code",
   "metadata": {
    "dotnet_interactive": {
     "language": "fsharp"
    },
    "polyglot_notebook": {
     "kernelName": "fsharp"
    }
   },
   "execution_count": null, "outputs": [],
   "source": [
    "cumulativeReturn [1.0;-0.5]\n"
   ]
  }
,
  {
   "cell_type": "markdown",
   "metadata": {},
   
   "source": [
    "check\n",
    "\n"
   ]
  }
,
  {
   "cell_type": "code",
   "metadata": {
    "dotnet_interactive": {
     "language": "fsharp"
    },
    "polyglot_notebook": {
     "kernelName": "fsharp"
    }
   },
   "execution_count": null, "outputs": [],
   "source": [
    "cumulativeReturn [0.1; 0.1; 0.1; 0.1]\n"
   ]
  }
,
  {
   "cell_type": "markdown",
   "metadata": {},
   
   "source": [
    "compared to\n",
    "\n"
   ]
  }
,
  {
   "cell_type": "code",
   "metadata": {
    "dotnet_interactive": {
     "language": "fsharp"
    },
    "polyglot_notebook": {
     "kernelName": "fsharp"
    }
   },
   "execution_count": null, "outputs": [],
   "source": [
    "1.1 ** 4.0 - 1.0\n"
   ]
  }
,
  {
   "cell_type": "markdown",
   "metadata": {},
   
   "source": [
    "We\u0027re now ready to create our Momentum signal function.\n",
    "\n"
   ]
  }
,
  {
   "cell_type": "code",
   "metadata": {
    "dotnet_interactive": {
     "language": "fsharp"
    },
    "polyglot_notebook": {
     "kernelName": "fsharp"
    }
   },
   "execution_count": null, "outputs": [],
   "source": [
    "// If you don\u0027t want to write the typessecurity, month all the time.\n",
    "// \n",
    "\n",
    "let getMomentumSignal returns (security, formationMonth) =\n",
    "    let priorObs = getPastYearObs  returns (security, formationMonth)\n",
    "    let priorRets = priorObs |\u003e List.choose(fun (x:MsfCsv.Row) -\u003e x.Ret)\n",
    "    // We should probably return None if there are no observations.\n",
    "    // If they are all missing, List.choose will return an empty\n",
    "    // array. See:\n",
    "    // ([ None; None ]: int option list) |\u003e List.choose id\n",
    "    //\n",
    "    // So we\u0027ll check for an empty array and return None in that case.\n",
    "    if List.isEmpty priorRets then\n",
    "        None \n",
    "    else\n",
    "        Some { SecurityId = security \n",
    "               FormationMonth = formationMonth\n",
    "               Retm12m2 = cumulativeReturn priorRets\n",
    "               N = priorRets.Length }\n",
    "\n",
    "// Check\n",
    "getMomentumSignal amznReturns (amznPermno, DateTime(2019,1,1)) \n",
    "getMomentumSignal amznReturns (Permno -400, DateTime(2019,1,1))  \n"
   ]
  }
,
  {
   "cell_type": "markdown",
   "metadata": {},
   
   "source": [
    "One thing you may notice is that our momentum signal function gets everything from\n",
    "it\u0027s inputs. That means that if we give it different intputs then\n",
    "we could get momentum signals for other stocks.\n",
    "\n",
    "For example we can create a map collection like we had for amzn, but for all stocks.\n",
    "\n"
   ]
  }
,
  {
   "cell_type": "code",
   "metadata": {
    "dotnet_interactive": {
     "language": "fsharp"
    },
    "polyglot_notebook": {
     "kernelName": "fsharp"
    }
   },
   "execution_count": null, "outputs": [],
   "source": [
    "let msfByPermnoMonth =\n",
    "    msfRows\n",
    "    |\u003e List.map(fun x -\u003e\n",
    "        let ym = DateTime(x.Month.Year,x.Month.Month,1) \n",
    "        let key = Permno x.Permno, ym\n",
    "        key, x)\n",
    "    |\u003e Map\n"
   ]
  }
,
  {
   "cell_type": "markdown",
   "metadata": {},
   
   "source": [
    "finding some permnos for notable tickers\n",
    "\n",
    "don\u0027t use tickers. companies change tickers, so you might look up the wrong company\n",
    "That\u0027s why I\u0027m picking some tickers that I know haven\u0027t changed, but my function\n",
    "is using PERMNO.\n",
    "\n"
   ]
  }
,
  {
   "cell_type": "code",
   "metadata": {
    "dotnet_interactive": {
     "language": "fsharp"
    },
    "polyglot_notebook": {
     "kernelName": "fsharp"
    }
   },
   "execution_count": null, "outputs": [],
   "source": [
    "let testTicker = \"HOG\"\n",
    "let firstTestTickerRow = \n",
    "    msfRows\n",
    "    |\u003e List.find (fun row -\u003e row.Ticker = testTicker)\n",
    "\n",
    "firstTestTickerRow.Ticker, firstTestTickerRow.Permno\n"
   ]
  }
,
  {
   "cell_type": "markdown",
   "metadata": {},
   
   "source": [
    "Now do for a list of tickers\n",
    "\n"
   ]
  }
,
  {
   "cell_type": "code",
   "metadata": {
    "dotnet_interactive": {
     "language": "fsharp"
    },
    "polyglot_notebook": {
     "kernelName": "fsharp"
    }
   },
   "execution_count": null, "outputs": [],
   "source": [
    "let notableTicks =\n",
    "    [ for ticker in [\"MSFT\";\"AAPL\";\"HOG\"] do\n",
    "        let firstTickerRow =\n",
    "            msfRows\n",
    "            |\u003e List.find (fun row -\u003e row.Ticker = ticker)\n",
    "        firstTickerRow.Ticker, firstTickerRow.Permno ]\n",
    "    |\u003e Map\n",
    "\n",
    "notableTicks\n"
   ]
  }
,
  {
   "cell_type": "markdown",
   "metadata": {},
   
   "source": [
    "wrap integer ticker in `Permno` tag\n",
    "to make it have type `SecurityId`.\n",
    "\n"
   ]
  }
,
  {
   "cell_type": "code",
   "metadata": {
    "dotnet_interactive": {
     "language": "fsharp"
    },
    "polyglot_notebook": {
     "kernelName": "fsharp"
    }
   },
   "execution_count": null, "outputs": [],
   "source": [
    "let msftPermno = Permno notableTicks[\"MSFT\"]\n",
    "let aaplPermno = Permno notableTicks[\"AAPL\"]\n",
    "let hogPermno = Permno notableTicks[\"HOG\"]\n",
    "\n",
    "msftPermno, aaplPermno, hogPermno\n"
   ]
  }
,
  {
   "cell_type": "markdown",
   "metadata": {},
   
   "source": [
    "Creating a tuple of (permno, yearMonth) that\n",
    "we can use for looking up things in that month\n",
    "for that ticker.\n",
    "\n"
   ]
  }
,
  {
   "cell_type": "code",
   "metadata": {
    "dotnet_interactive": {
     "language": "fsharp"
    },
    "polyglot_notebook": {
     "kernelName": "fsharp"
    }
   },
   "execution_count": null, "outputs": [],
   "source": [
    "let msftTestIndex = (msftPermno, DateTime(2019,1,1))\n",
    "let aaplTestIndex = (aaplPermno, DateTime(2019,1,1))  \n",
    "\n",
    "msftTestIndex, aaplTestIndex\n"
   ]
  }
,
  {
   "cell_type": "markdown",
   "metadata": {},
   
   "source": [
    "Microsoft momentum signal:\n",
    "\n"
   ]
  }
,
  {
   "cell_type": "code",
   "metadata": {
    "dotnet_interactive": {
     "language": "fsharp"
    },
    "polyglot_notebook": {
     "kernelName": "fsharp"
    }
   },
   "execution_count": null, "outputs": [],
   "source": [
    "getMomentumSignal msfByPermnoMonth msftTestIndex \n"
   ]
  }
,
  {
   "cell_type": "markdown",
   "metadata": {},
   
   "source": [
    "Apple momentum signal:\n",
    "\n"
   ]
  }
,
  {
   "cell_type": "code",
   "metadata": {
    "dotnet_interactive": {
     "language": "fsharp"
    },
    "polyglot_notebook": {
     "kernelName": "fsharp"
    }
   },
   "execution_count": null, "outputs": [],
   "source": [
    "getMomentumSignal msfByPermnoMonth aaplTestIndex  \n"
   ]
  }
,
  {
   "cell_type": "markdown",
   "metadata": {},
   
   "source": [
    "and we can use [partial function application](https://fsharpforfunandprofit.com/posts/partial-application/)\n",
    "to \"bake in\" the msfByPermnoMonth parameter so that we don\u0027t keep having to pass it around.\n",
    "\n"
   ]
  }
,
  {
   "cell_type": "code",
   "metadata": {
    "dotnet_interactive": {
     "language": "fsharp"
    },
    "polyglot_notebook": {
     "kernelName": "fsharp"
    }
   },
   "execution_count": null, "outputs": [],
   "source": [
    "let getMomentumSignalAny = getMomentumSignal msfByPermnoMonth\n"
   ]
  }
,
  {
   "cell_type": "markdown",
   "metadata": {},
   
   "source": [
    "Microsoft again:\n",
    "\n"
   ]
  }
,
  {
   "cell_type": "code",
   "metadata": {
    "dotnet_interactive": {
     "language": "fsharp"
    },
    "polyglot_notebook": {
     "kernelName": "fsharp"
    }
   },
   "execution_count": null, "outputs": [],
   "source": [
    "getMomentumSignalAny msftTestIndex \n"
   ]
  }
,
  {
   "cell_type": "markdown",
   "metadata": {},
   
   "source": [
    "Apple again:\n",
    "\n"
   ]
  }
,
  {
   "cell_type": "code",
   "metadata": {
    "dotnet_interactive": {
     "language": "fsharp"
    },
    "polyglot_notebook": {
     "kernelName": "fsharp"
    }
   },
   "execution_count": null, "outputs": [],
   "source": [
    "getMomentumSignalAny aaplTestIndex  \n"
   ]
  }
,
  {
   "cell_type": "markdown",
   "metadata": {},
   
   "source": [
    "## Defining the investment universe\n",
    "\n",
    "Let\u0027s say we have a portfolio formation month. Can we look up securities available to invest in?\n",
    "\n"
   ]
  }
,
  {
   "cell_type": "code",
   "metadata": {
    "dotnet_interactive": {
     "language": "fsharp"
    },
    "polyglot_notebook": {
     "kernelName": "fsharp"
    }
   },
   "execution_count": null, "outputs": [],
   "source": [
    "let securitiesByFormationMonth =\n",
    "    let byYearMonth =\n",
    "        msfRows\n",
    "        |\u003e List.groupBy (fun x -\u003e DateTime(x.Month.Year, x.Month.Month,1))\n",
    "    [ for (yearMonth, stocksThatMonth) in byYearMonth do \n",
    "        let permnos = [ for stock in stocksThatMonth do Permno stock.Permno ]\n",
    "        yearMonth, permnos ]\n",
    "    |\u003e Map\n",
    "\n",
    "let getInvestmentUniverse formationMonth =\n",
    "    match Map.tryFind formationMonth securitiesByFormationMonth with\n",
    "    | Some securities -\u003e \n",
    "        { FormationMonth = formationMonth \n",
    "          Securities = securities }\n",
    "    | None -\u003e failwith $\"{formationMonth} is not in the date range\"      \n",
    "\n",
    "getInvestmentUniverse (DateTime(2011,10,1))\n",
    "// getInvestmentUniverse (YearMonth(1990,10))\n"
   ]
  }
,
  {
   "cell_type": "markdown",
   "metadata": {},
   
   "source": [
    "You might also want to filter the investment universe by some criteria.\n",
    "\n"
   ]
  }
,
  {
   "cell_type": "code",
   "metadata": {
    "dotnet_interactive": {
     "language": "fsharp"
    },
    "polyglot_notebook": {
     "kernelName": "fsharp"
    }
   },
   "execution_count": null, "outputs": [],
   "source": [
    "let isCommonStock securityFormationMonth =\n",
    "    match Map.tryFind securityFormationMonth msfByPermnoMonth with\n",
    "    | None -\u003e false\n",
    "    | Some x -\u003e List.contains x.Shrcd [10; 11]\n",
    "\n",
    "let onNyseNasdaqAmex securityFormationMonth =\n",
    "    match Map.tryFind securityFormationMonth msfByPermnoMonth with\n",
    "    | None -\u003e false\n",
    "    | Some x -\u003e List.contains x.Exchcd [ 1; 2; 3]\n",
    "\n",
    "let hasPrice13mAgo (security, formationMonth:DateTime) =\n",
    "    //13m before the holding month, 12m before the formation month\n",
    "    match Map.tryFind (security, formationMonth.AddMonths(-12)) msfByPermnoMonth with\n",
    "    | None -\u003e false\n",
    "    | Some m13 -\u003e m13.Prc.IsSome\n",
    "\n",
    "let hasReturn2mAgo (security, formationMonth:DateTime) =\n",
    "    //2m before the holding month, 1m before the formation month\n",
    "    match Map.tryFind (security, formationMonth.AddMonths(-1)) msfByPermnoMonth with\n",
    "    | None -\u003e false\n",
    "    | Some m2 -\u003e m2.Ret.IsSome\n",
    "\n",
    "let hasMe1mAgo (security, formationMonth) =\n",
    "    //1m before the holding month, so the formation month\n",
    "    match Map.tryFind (security, formationMonth) msfByPermnoMonth with\n",
    "    | None -\u003e false\n",
    "    | Some m1 -\u003e m1.Prc.IsSome \u0026\u0026 m1.Shrout.IsSome\n",
    "\n",
    "let has8ReturnsPastYear securityFormationMonth =\n",
    "    match getMomentumSignalAny securityFormationMonth with \n",
    "    | None -\u003e false \n",
    "    | Some x -\u003e x.N \u003e= 8\n",
    "\n",
    "let danielMoskowitzRestrictions securityFormationMonth =\n",
    "    isCommonStock securityFormationMonth \u0026\u0026\n",
    "    onNyseNasdaqAmex securityFormationMonth \u0026\u0026\n",
    "    hasPrice13mAgo securityFormationMonth \u0026\u0026\n",
    "    hasReturn2mAgo securityFormationMonth \u0026\u0026\n",
    "    hasMe1mAgo securityFormationMonth \u0026\u0026\n",
    "    has8ReturnsPastYear securityFormationMonth \n",
    "\n",
    "let restrictUniverse (investmentUniverse: InvestmentUniverse) =\n",
    "    let filtered =\n",
    "        investmentUniverse.Securities\n",
    "        |\u003e List.filter(fun security -\u003e \n",
    "            danielMoskowitzRestrictions (security, investmentUniverse.FormationMonth))\n",
    "    { FormationMonth = investmentUniverse.FormationMonth\n",
    "      Securities = filtered }        \n"
   ]
  }
,
  {
   "cell_type": "markdown",
   "metadata": {},
   
   "source": [
    "Now we can see where we are.\n",
    "\n"
   ]
  }
,
  {
   "cell_type": "code",
   "metadata": {
    "dotnet_interactive": {
     "language": "fsharp"
    },
    "polyglot_notebook": {
     "kernelName": "fsharp"
    }
   },
   "execution_count": null, "outputs": [],
   "source": [
    "DateTime(2011,10,1)\n",
    "|\u003e getInvestmentUniverse\n",
    "|\u003e restrictUniverse\n",
    "\n",
    "let investmentUniverse =\n",
    "    DateTime(2011,10,1)\n",
    "    |\u003e getInvestmentUniverse\n",
    "let restrictedInvestmentUniverse =\n",
    "    investmentUniverse |\u003e restrictUniverse\n",
    "\n",
    "// See if we\u0027re excluding some securities.\n",
    "investmentUniverse.Securities.Length\n",
    "restrictedInvestmentUniverse.Securities.Length\n"
   ]
  }
,
  {
   "cell_type": "markdown",
   "metadata": {},
   
   "source": [
    "## Momentum signals for our investment universe\n",
    "\n",
    "Let\u0027s look at how to transform our array of securities in our investment\n",
    "universe into an array with the signals.\n",
    "\n",
    "Recall that our momentum function returns a type of observation specific to momentum.\n",
    "\n"
   ]
  }
,
  {
   "cell_type": "code",
   "metadata": {
    "dotnet_interactive": {
     "language": "fsharp"
    },
    "polyglot_notebook": {
     "kernelName": "fsharp"
    }
   },
   "execution_count": null, "outputs": [],
   "source": [
    "getMomentumSignalAny (Permno 84788, DateTime(2019,1,1)) \n"
   ]
  }
,
  {
   "cell_type": "markdown",
   "metadata": {},
   
   "source": [
    "This is fine, but if we want our code to work with any type of signal,\n",
    "then we need to transform it into something more generic.\n",
    "\n",
    "This is the purpose of the `SecuritySignal` record in the `Portfolio` module.\n",
    "It\u0027s the same thing that we had in the simpler portfolio formation example.\n",
    "It can represent any signal that is a float.\n",
    "And to hold an array of security signals for a particular month,\n",
    "we now have the type `SecuritiesWithSignals` also from the `Portfolio` module.\n",
    "\n",
    "Let\u0027s write a function that transforms our momentum signal into a more generic\n",
    "security signal.\n",
    "\n"
   ]
  }
,
  {
   "cell_type": "code",
   "metadata": {
    "dotnet_interactive": {
     "language": "fsharp"
    },
    "polyglot_notebook": {
     "kernelName": "fsharp"
    }
   },
   "execution_count": null, "outputs": [],
   "source": [
    "let getMomentumSecuritySignal (security, formationMonth ) =\n",
    "    match getMomentumSignalAny (security, formationMonth) with\n",
    "    | None -\u003e None\n",
    "    | Some signalOb -\u003e\n",
    "        let signal = { SecurityId = security; Signal = signalOb.Retm12m2 }\n",
    "        Some signal\n"
   ]
  }
,
  {
   "cell_type": "markdown",
   "metadata": {},
   
   "source": [
    "Now compare\n",
    "\n"
   ]
  }
,
  {
   "cell_type": "code",
   "metadata": {
    "dotnet_interactive": {
     "language": "fsharp"
    },
    "polyglot_notebook": {
     "kernelName": "fsharp"
    }
   },
   "execution_count": null, "outputs": [],
   "source": [
    "getMomentumSignalAny (Permno 84788, DateTime(2019,1,1)) \n"
   ]
  }
,
  {
   "cell_type": "markdown",
   "metadata": {},
   
   "source": [
    "to\n",
    "\n"
   ]
  }
,
  {
   "cell_type": "code",
   "metadata": {
    "dotnet_interactive": {
     "language": "fsharp"
    },
    "polyglot_notebook": {
     "kernelName": "fsharp"
    }
   },
   "execution_count": null, "outputs": [],
   "source": [
    "getMomentumSecuritySignal (Permno 84788, DateTime(2019,1,1))\n"
   ]
  }
,
  {
   "cell_type": "markdown",
   "metadata": {},
   
   "source": [
    "Now a function that takes our investment universe and returns\n",
    "our securities with their (now more generic) signal.\n",
    "\n"
   ]
  }
,
  {
   "cell_type": "code",
   "metadata": {
    "dotnet_interactive": {
     "language": "fsharp"
    },
    "polyglot_notebook": {
     "kernelName": "fsharp"
    }
   },
   "execution_count": null, "outputs": [],
   "source": [
    "let getMomentumSignals (investmentUniverse: InvestmentUniverse) =\n",
    "    let arrayOfSecuritySignals =\n",
    "        investmentUniverse.Securities\n",
    "        |\u003e List.choose(fun security -\u003e \n",
    "            getMomentumSecuritySignal (security, investmentUniverse.FormationMonth))    \n",
    "    { FormationMonth = investmentUniverse.FormationMonth \n",
    "      Signals = arrayOfSecuritySignals }\n",
    "\n",
    "restrictedInvestmentUniverse\n",
    "|\u003e getMomentumSignals\n"
   ]
  }
,
  {
   "cell_type": "markdown",
   "metadata": {},
   
   "source": [
    "or, if we want to look at the full pipeline.\n",
    "\n"
   ]
  }
,
  {
   "cell_type": "code",
   "metadata": {
    "dotnet_interactive": {
     "language": "fsharp"
    },
    "polyglot_notebook": {
     "kernelName": "fsharp"
    }
   },
   "execution_count": null, "outputs": [],
   "source": [
    "DateTime(2015,7,1)\n",
    "|\u003e getInvestmentUniverse\n",
    "|\u003e restrictUniverse\n",
    "|\u003e getMomentumSignals\n"
   ]
  }
,
  {
   "cell_type": "markdown",
   "metadata": {},
   
   "source": [
    "## Assigning portfolios\n",
    "\n",
    "Now that we have the signals for our portfolio,\n",
    "we can assign portfolios. For many strategies it\n",
    "is common to use decile sorts. This means that\n",
    "you sort securities into 10 portfolios based on the signal.\n",
    "But other numbers of portfolios (tercile = 3, quintile = 5, etc)\n",
    "are also common.\n",
    "\n",
    "There\u0027s a tradeoff between signal strength and diversification.\n",
    "More portfolios means that top/bottom portfolios are stronger bets\n",
    "on the signal. But there are fewer securities,\n",
    "so they are also less diversified. Often, the trade-off between\n",
    "a stronger signal vs. less diversificaton balances out.\n",
    "Specifically, long-short tercile sorts may have a lower return spread\n",
    "than decile sorts. But since terciles are better diversified,\n",
    "the tercile and decile shorts are not as different when looking\n",
    "at sharpe ratios.\n",
    "\n",
    "The `Portfolio` module has a function named `assignSignalSorts`\n",
    "to form portfolios by sorting securities into `n` groups.\n",
    "\n"
   ]
  }
,
  {
   "cell_type": "code",
   "metadata": {
    "dotnet_interactive": {
     "language": "fsharp"
    },
    "polyglot_notebook": {
     "kernelName": "fsharp"
    }
   },
   "execution_count": null, "outputs": [],
   "source": [
    "let mom201507 =\n",
    "    DateTime(2015,7,1)\n",
    "    |\u003e getInvestmentUniverse\n",
    "    |\u003e restrictUniverse\n",
    "    |\u003e getMomentumSignals\n",
    "    |\u003e assignSignalSort \"Momentum\" 10\n",
    "\n",
    "[ for port in mom201507 do \n",
    "    $\"My name is {port.PortfolioId} and I have {port.Signals.Length} stocks\" ]\n"
   ]
  }
,
  {
   "cell_type": "markdown",
   "metadata": {},
   
   "source": [
    "## Calculating Portfolio weights\n",
    "\n",
    "We\u0027ll use a value-weight scheme. So we need a function that gets market capitalizations.\n",
    "\n"
   ]
  }
,
  {
   "cell_type": "code",
   "metadata": {
    "dotnet_interactive": {
     "language": "fsharp"
    },
    "polyglot_notebook": {
     "kernelName": "fsharp"
    }
   },
   "execution_count": null, "outputs": [],
   "source": [
    "let getMarketCap (security, formationMonth) =\n",
    "    match Map.tryFind (security, formationMonth) msfByPermnoMonth with\n",
    "    | None -\u003e None\n",
    "    | Some x -\u003e \n",
    "        match x.Prc, x.Shrout with \n",
    "        // we need valid price and valid shrout to get market caps\n",
    "        | Some prc, Some shrout -\u003e Some (security, prc*shrout)\n",
    "        // anything else and we can\u0027t calculate it\n",
    "        | _ -\u003e None\n"
   ]
  }
,
  {
   "cell_type": "markdown",
   "metadata": {},
   
   "source": [
    "Some examples.\n",
    "\n",
    "Amazon market cap:\n",
    "\n"
   ]
  }
,
  {
   "cell_type": "code",
   "metadata": {
    "dotnet_interactive": {
     "language": "fsharp"
    },
    "polyglot_notebook": {
     "kernelName": "fsharp"
    }
   },
   "execution_count": null, "outputs": [],
   "source": [
    "getMarketCap (amznPermno, DateTime(2019,1,1))\n"
   ]
  }
,
  {
   "cell_type": "markdown",
   "metadata": {},
   
   "source": [
    "Amazon future market cap, returns none:\n",
    "\n"
   ]
  }
,
  {
   "cell_type": "code",
   "metadata": {
    "dotnet_interactive": {
     "language": "fsharp"
    },
    "polyglot_notebook": {
     "kernelName": "fsharp"
    }
   },
   "execution_count": null, "outputs": [],
   "source": [
    "getMarketCap (amznPermno, DateTime(2030,1,1))\n"
   ]
  }
,
  {
   "cell_type": "markdown",
   "metadata": {},
   
   "source": [
    "Now for a list of securities:\n",
    "\n"
   ]
  }
,
  {
   "cell_type": "code",
   "metadata": {
    "dotnet_interactive": {
     "language": "fsharp"
    },
    "polyglot_notebook": {
     "kernelName": "fsharp"
    }
   },
   "execution_count": null, "outputs": [],
   "source": [
    "[ getMarketCap (amznPermno, DateTime(2019,1,1))\n",
    "  getMarketCap (hogPermno, DateTime(2019,1,1)) ]\n"
   ]
  }
,
  {
   "cell_type": "markdown",
   "metadata": {},
   
   "source": [
    "Using List.choose will unwrap the option type.\n",
    "\n",
    "Compare this\n",
    "\n"
   ]
  }
,
  {
   "cell_type": "code",
   "metadata": {
    "dotnet_interactive": {
     "language": "fsharp"
    },
    "polyglot_notebook": {
     "kernelName": "fsharp"
    }
   },
   "execution_count": null, "outputs": [],
   "source": [
    "[ getMarketCap (amznPermno, DateTime(2019,1,1))\n",
    "  None\n",
    "  getMarketCap (hogPermno, DateTime(2019,1,1)) ]\n"
   ]
  }
,
  {
   "cell_type": "markdown",
   "metadata": {},
   
   "source": [
    "to this\n",
    "\n"
   ]
  }
,
  {
   "cell_type": "code",
   "metadata": {
    "dotnet_interactive": {
     "language": "fsharp"
    },
    "polyglot_notebook": {
     "kernelName": "fsharp"
    }
   },
   "execution_count": null, "outputs": [],
   "source": [
    "[ getMarketCap (amznPermno, DateTime(2019,1,1))\n",
    "  None\n",
    "  getMarketCap (hogPermno, DateTime(2019,1,1)) ]\n",
    "|\u003e List.choose id // id is a special build-in function: `let id x = x`\n"
   ]
  }
,
  {
   "cell_type": "markdown",
   "metadata": {},
   
   "source": [
    "Assign our example capitalizations to a value\n",
    "\n"
   ]
  }
,
  {
   "cell_type": "code",
   "metadata": {
    "dotnet_interactive": {
     "language": "fsharp"
    },
    "polyglot_notebook": {
     "kernelName": "fsharp"
    }
   },
   "execution_count": null, "outputs": [],
   "source": [
    "let exampleCapitalizations =\n",
    "    [ getMarketCap (amznPermno, DateTime(2019,1,1))\n",
    "      getMarketCap (hogPermno, DateTime(2019,1,1)) ]\n",
    "    |\u003e List.choose id \n",
    "\n",
    "exampleCapitalizations\n"
   ]
  }
,
  {
   "cell_type": "markdown",
   "metadata": {},
   
   "source": [
    "Now the value weights\n",
    "\n"
   ]
  }
,
  {
   "cell_type": "code",
   "metadata": {
    "dotnet_interactive": {
     "language": "fsharp"
    },
    "polyglot_notebook": {
     "kernelName": "fsharp"
    }
   },
   "execution_count": null, "outputs": [],
   "source": [
    "let exampleValueWeights =\n",
    "    let tot = exampleCapitalizations |\u003e List.sumBy snd\n",
    "    exampleCapitalizations\n",
    "    |\u003e List.map(fun (_id, cap) -\u003e cap / tot )\n",
    "    |\u003e List.sortDescending\n",
    "\n",
    "exampleValueWeights\n"
   ]
  }
,
  {
   "cell_type": "markdown",
   "metadata": {},
   
   "source": [
    "Now imagining we have the same example in terms of an assigned portfolio\n",
    "with made up signals.\n",
    "\n"
   ]
  }
,
  {
   "cell_type": "code",
   "metadata": {
    "dotnet_interactive": {
     "language": "fsharp"
    },
    "polyglot_notebook": {
     "kernelName": "fsharp"
    }
   },
   "execution_count": null, "outputs": [],
   "source": [
    "let mktCapExPort: AssignedPortfolio =\n",
    "    let signals =\n",
    "        [ { SecurityId = amznPermno; Signal = 1.0 }\n",
    "          { SecurityId = hogPermno; Signal = 1.0 } ]  \n",
    "    { PortfolioId = Named \"Mkt Cap Example\"\n",
    "      FormationMonth = DateTime(2019,1,1)\n",
    "      Signals = signals }\n"
   ]
  }
,
  {
   "cell_type": "markdown",
   "metadata": {},
   
   "source": [
    "The portfolio module has a function that can help us.\n",
    "It has two inputs.\n",
    "\n",
    "* A function that gets market capitalizations\n",
    "\n",
    "* An assigned portfolio\n",
    "\n",
    "We should see that it gives the same value weights.\n",
    "\n"
   ]
  }
,
  {
   "cell_type": "code",
   "metadata": {
    "dotnet_interactive": {
     "language": "fsharp"
    },
    "polyglot_notebook": {
     "kernelName": "fsharp"
    }
   },
   "execution_count": null, "outputs": [],
   "source": [
    "let exampleValueWeights2 =\n",
    "    giveValueWeights getMarketCap mktCapExPort\n",
    "\n",
    "exampleValueWeights2\n"
   ]
  }
,
  {
   "cell_type": "markdown",
   "metadata": {},
   
   "source": [
    "It can be more convenient to \"bake in\" my function to get market caps:\n",
    "\n"
   ]
  }
,
  {
   "cell_type": "code",
   "metadata": {
    "dotnet_interactive": {
     "language": "fsharp"
    },
    "polyglot_notebook": {
     "kernelName": "fsharp"
    }
   },
   "execution_count": null, "outputs": [],
   "source": [
    "let myValueWeights = giveValueWeights getMarketCap\n",
    "\n",
    "myValueWeights mktCapExPort\n"
   ]
  }
,
  {
   "cell_type": "markdown",
   "metadata": {},
   
   "source": [
    "So now we can construct our portfolios with value weights.\n",
    "\n"
   ]
  }
,
  {
   "cell_type": "code",
   "metadata": {
    "dotnet_interactive": {
     "language": "fsharp"
    },
    "polyglot_notebook": {
     "kernelName": "fsharp"
    }
   },
   "execution_count": null, "outputs": [],
   "source": [
    "let portfoliosWithWeights =\n",
    "    let assignedPortfolios =\n",
    "        DateTime(2015,7,1)\n",
    "        |\u003e getInvestmentUniverse\n",
    "        |\u003e restrictUniverse\n",
    "        |\u003e getMomentumSignals\n",
    "        |\u003e assignSignalSort \"Momentum\" 10\n",
    "\n",
    "    [ for portfolio in assignedPortfolios do\n",
    "        myValueWeights portfolio ]\n"
   ]
  }
,
  {
   "cell_type": "markdown",
   "metadata": {},
   
   "source": [
    "Note that because of the size distribution,\n",
    "some of these portfolios are not very diversified.\n",
    "This is illustrated by inspecting maximum portfolio\n",
    "weights.\n",
    "\n"
   ]
  }
,
  {
   "cell_type": "code",
   "metadata": {
    "dotnet_interactive": {
     "language": "fsharp"
    },
    "polyglot_notebook": {
     "kernelName": "fsharp"
    }
   },
   "execution_count": null, "outputs": [],
   "source": [
    "[ for port in portfoliosWithWeights do\n",
    "    let maxWeight = \n",
    "        [ for position in port.Positions do \n",
    "            position.Weight ] \n",
    "        |\u003e List.max\n",
    "    let totalWeights =\n",
    "        [ for position in port.Positions do \n",
    "            position.Weight ]\n",
    "        |\u003e List.sum    \n",
    "    port.PortfolioId.ToString() , maxWeight ]\n",
    "|\u003e Chart.Bar\n"
   ]
  }
,
  {
   "cell_type": "markdown",
   "metadata": {},
   
   "source": [
    "## Calculating Portfolio returns\n",
    "\n",
    "We need our function to get returns given weights.\n",
    "\n",
    "We can start with a function that gets returns.\n",
    "It looks a lot like our function to get market capitalizations.\n",
    "\n"
   ]
  }
,
  {
   "cell_type": "code",
   "metadata": {
    "dotnet_interactive": {
     "language": "fsharp"
    },
    "polyglot_notebook": {
     "kernelName": "fsharp"
    }
   },
   "execution_count": null, "outputs": [],
   "source": [
    "let getSecurityReturn (security, formationMonth) =\n",
    "    // If the security has a missing return, assume that we got 0.0.\n",
    "    // Note: If we were doing excess returns, we\u0027d need 0.0 - rf\n",
    "    let missingReturn = 0.0\n",
    "    match Map.tryFind (security, formationMonth) msfByPermnoMonth with\n",
    "    | None -\u003e security, missingReturn\n",
    "    | Some x -\u003e  \n",
    "        match x.Ret with \n",
    "        | None -\u003e security, missingReturn\n",
    "        | Some r -\u003e security, r\n",
    "\n",
    "getSecurityReturn (amznPermno, DateTime(2019,1,1))        \n",
    "\n",
    "let portReturn =\n",
    "    getPortfolioReturn getSecurityReturn exampleValueWeights2\n",
    "\n",
    "portfoliosWithWeights\n",
    "|\u003e List.map (getPortfolioReturn getSecurityReturn)    \n"
   ]
  }
,
  {
   "cell_type": "markdown",
   "metadata": {},
   
   "source": [
    "baking in the getSecurityReturn function\n",
    "\n"
   ]
  }
,
  {
   "cell_type": "code",
   "metadata": {
    "dotnet_interactive": {
     "language": "fsharp"
    },
    "polyglot_notebook": {
     "kernelName": "fsharp"
    }
   },
   "execution_count": null, "outputs": [],
   "source": [
    "let myPortfolioReturns = getPortfolioReturn getSecurityReturn\n",
    "\n",
    "portfoliosWithWeights\n",
    "|\u003e List.map myPortfolioReturns\n",
    "\n",
    "\n",
    "// Put it all together.\n",
    "let sampleMonths = getSampleMonths (DateTime(2010,5,1), DateTime(2020,2,1)) \n",
    "\n",
    "sampleMonths |\u003e List.rev |\u003e List.take 3\n"
   ]
  }
,
  {
   "cell_type": "markdown",
   "metadata": {},
   
   "source": [
    "These two functions below produce the same result. The first assigns each function\n",
    "result to an intermediate value. The second uses a pipeline.\n",
    "Either style is fine, though while I may start with something like the first\n",
    "version while writing test code, I typically use the pipeline\n",
    "style shown in in the second version.\n",
    "\n"
   ]
  }
,
  {
   "cell_type": "code",
   "metadata": {
    "dotnet_interactive": {
     "language": "fsharp"
    },
    "polyglot_notebook": {
     "kernelName": "fsharp"
    }
   },
   "execution_count": null, "outputs": [],
   "source": [
    "let formMomtenumPortWithAssignments ym =\n",
    "    let universe = getInvestmentUniverse ym\n",
    "    let restricted = restrictUniverse universe\n",
    "    let signals = getMomentumSignals restricted\n",
    "    let assignedPortfolios = assignSignalSort \"Momentum\" 10 signals\n",
    "    let portfoliosWithWeights =\n",
    "        [ for portfolio in assignedPortfolios do\n",
    "            myValueWeights portfolio ]\n",
    "    let portfolioReturns =\n",
    "        [ for portfolio in portfoliosWithWeights do\n",
    "            myPortfolioReturns portfolio ]\n",
    "    portfolioReturns\n",
    "\n",
    "\n",
    "let formMomentumPort ym =\n",
    "    ym\n",
    "    |\u003e getInvestmentUniverse\n",
    "    |\u003e restrictUniverse\n",
    "    |\u003e getMomentumSignals\n",
    "    |\u003e assignSignalSort \"Momentum\" 10\n",
    "    |\u003e List.map myValueWeights\n",
    "    |\u003e List.map myPortfolioReturns\n"
   ]
  }
,
  {
   "cell_type": "markdown",
   "metadata": {},
   
   "source": [
    "We can process months sequentially.\n",
    "\n"
   ]
  }
,
  {
   "cell_type": "code",
   "metadata": {
    "dotnet_interactive": {
     "language": "fsharp"
    },
    "polyglot_notebook": {
     "kernelName": "fsharp"
    }
   },
   "execution_count": null, "outputs": [],
   "source": [
    "let momentumPortsSequential =\n",
    "    sampleMonths\n",
    "    |\u003e List.collect formMomentumPort\n"
   ]
  }
,
  {
   "cell_type": "markdown",
   "metadata": {},
   
   "source": [
    "Or we can speed things up and process months in Parallel using\n",
    "all available CPU cores. Note that the only changes are to\n",
    "\n",
    "0 Use `Array.Parallel.collect` intead of \n",
    "`List.collect`. The array collection is the only parallel\n",
    "collection in base F# and the module functions are somewhat limited,\n",
    "but if you google F# parallel processing\n",
    "you can find other options and also asynchronous coding and PSeq\n",
    "(I mostly use PSeq for my parallel code).\n",
    "\n",
    "1 `Array.Parallel.collect` expects to operate on arrays, so \n",
    "we need to have our portfolio returned as arrays instead of lists.\n",
    "This is what we are doing with `formMomentumPortArray`.\n",
    "\n"
   ]
  }
,
  {
   "cell_type": "code",
   "metadata": {
    "dotnet_interactive": {
     "language": "fsharp"
    },
    "polyglot_notebook": {
     "kernelName": "fsharp"
    }
   },
   "execution_count": null, "outputs": [],
   "source": [
    "let formMomentumPortArray ym =\n",
    "    ym \n",
    "    |\u003e formMomentumPort \n",
    "    |\u003e List.toArray\n",
    "\n",
    "let momentumPortsParallel =\n",
    "    sampleMonths\n",
    "    |\u003e List.toArray\n",
    "    |\u003e Array.Parallel.collect formMomentumPortArray \n"
   ]
  }
,
  {
   "cell_type": "markdown",
   "metadata": {},
   
   "source": [
    "## Plotting returns\n",
    "\n",
    "Let\u0027s look at the cumulative returns of the portfolios.\n",
    "\n",
    "To start, get the top momentum portfolio.\n",
    "\n"
   ]
  }
,
  {
   "cell_type": "code",
   "metadata": {
    "dotnet_interactive": {
     "language": "fsharp"
    },
    "polyglot_notebook": {
     "kernelName": "fsharp"
    }
   },
   "execution_count": null, "outputs": [],
   "source": [
    "let mom10 = \n",
    "    momentumPortsSequential\n",
    "    |\u003e List.filter (fun p -\u003e \n",
    "        p.PortfolioId = Indexed {| Index = 10; Name = \"Momentum\" |})\n",
    "    |\u003e List.sortBy (fun p -\u003e p.YearMonth )\n",
    "\n",
    "// first few months\n",
    "mom10[0..3]\n"
   ]
  }
,
  {
   "cell_type": "markdown",
   "metadata": {},
   
   "source": [
    "Now calculate returns.\n",
    "\n"
   ]
  }
,
  {
   "cell_type": "code",
   "metadata": {
    "dotnet_interactive": {
     "language": "fsharp"
    },
    "polyglot_notebook": {
     "kernelName": "fsharp"
    }
   },
   "execution_count": null, "outputs": [],
   "source": [
    "let mom10CumulativeReturns =\n",
    "    let mutable cr = 1.0\n",
    "    [ for x in mom10 do \n",
    "        cr \u003c- cr * (1.0 + x.Return)\n",
    "        { x with Return = cr - 1.0 } ]\n"
   ]
  }
,
  {
   "cell_type": "markdown",
   "metadata": {},
   
   "source": [
    "The first cumulative return is just the first return:\n",
    "\n"
   ]
  }
,
  {
   "cell_type": "code",
   "metadata": {
    "dotnet_interactive": {
     "language": "fsharp"
    },
    "polyglot_notebook": {
     "kernelName": "fsharp"
    }
   },
   "execution_count": null, "outputs": [],
   "source": [
    "printfn $\"The first return is:            %.4f{mom10[0].Return}\"\n",
    "printfn $\"The first cumulative return is: %.4f{mom10CumulativeReturns[0].Return}\"\n"
   ]
  }
,
  {
   "cell_type": "markdown",
   "metadata": {},
   
   "source": [
    "But subsequently the cumulative returns reflect the running total:\n",
    "\n"
   ]
  }
,
  {
   "cell_type": "code",
   "metadata": {
    "dotnet_interactive": {
     "language": "fsharp"
    },
    "polyglot_notebook": {
     "kernelName": "fsharp"
    }
   },
   "execution_count": null, "outputs": [],
   "source": [
    "[ for month in mom10CumulativeReturns do\n",
    "    month.YearMonth, month.Return ]\n",
    "|\u003e Chart.Line\n",
    "|\u003e Chart.withTitle \"Momentum Portfolio 10\"\n"
   ]
  }
,
  {
   "cell_type": "markdown",
   "metadata": {},
   
   "source": [
    "We can also plot all 10 portfolios.\n",
    "\n"
   ]
  }
,
  {
   "cell_type": "code",
   "metadata": {
    "dotnet_interactive": {
     "language": "fsharp"
    },
    "polyglot_notebook": {
     "kernelName": "fsharp"
    }
   },
   "execution_count": null, "outputs": [],
   "source": [
    "let makeCumulativeReturn portfolioObs =\n",
    "    let sorted = portfolioObs |\u003e List.sortBy (fun p -\u003e p.YearMonth )\n",
    "    let mutable cr = 1.0\n",
    "    [ for x in sorted do \n",
    "        cr \u003c- cr * (1.0 + x.Return)\n",
    "        { x with Return = cr - 1.0 } ]\n",
    "\n",
    "// test it\n",
    "let testMom10 = makeCumulativeReturn mom10\n",
    "\n",
    "testMom10 = mom10CumulativeReturns // should evaluate to true\n"
   ]
  }
,
  {
   "cell_type": "markdown",
   "metadata": {},
   
   "source": [
    "Now let\u0027s use that function to do it for all 10 portfolios.\n",
    "\n"
   ]
  }
,
  {
   "cell_type": "code",
   "metadata": {
    "dotnet_interactive": {
     "language": "fsharp"
    },
    "polyglot_notebook": {
     "kernelName": "fsharp"
    }
   },
   "execution_count": null, "outputs": [],
   "source": [
    "let byPortfolioId =\n",
    "    momentumPortsSequential\n",
    "    |\u003e List.groupBy (fun p -\u003e p.PortfolioId)\n",
    "\n",
    "let listOfCharts =\n",
    "    [ for (portId, portObs) in byPortfolioId do\n",
    "        let cumulativeReturn = makeCumulativeReturn portObs\n",
    "        let plotData =\n",
    "            [ for month in cumulativeReturn do\n",
    "                month.YearMonth, month.Return ]\n",
    "        Chart.Line(plotData, Name = portId.ToString()) ]\n"
   ]
  }
,
  {
   "cell_type": "markdown",
   "metadata": {},
   
   "source": [
    "Plot one of them.\n",
    "\n"
   ]
  }
,
  {
   "cell_type": "code",
   "metadata": {
    "dotnet_interactive": {
     "language": "fsharp"
    },
    "polyglot_notebook": {
     "kernelName": "fsharp"
    }
   },
   "execution_count": null, "outputs": [],
   "source": [
    "listOfCharts[0]\n"
   ]
  }
,
  {
   "cell_type": "markdown",
   "metadata": {},
   
   "source": [
    "Plot all of them.\n",
    "\n"
   ]
  }
,
  {
   "cell_type": "code",
   "metadata": {
    "dotnet_interactive": {
     "language": "fsharp"
    },
    "polyglot_notebook": {
     "kernelName": "fsharp"
    }
   },
   "execution_count": null, "outputs": [],
   "source": [
    "listOfCharts\n",
    "|\u003e Chart.combine\n"
   ]
  }
 ],
 "metadata": {
  "kernelspec": {
   "display_name": ".NET (F#)",
   "language": "F#",
   "name": ".net-fsharp"
  },
  "language_info": {
   "file_extension": ".fs",
   "mimetype": "text/x-fsharp",
   "name": "polyglot-notebook",
   "pygments_lexer": "fsharp"
  },
  "polyglot_notebook": {
   "kernelInfo": {
    "defaultKernelName": "fsharp",
    "items": [
     {
      "aliases": [],
      "languageName": "fsharp",
      "name": "fsharp"
     }
    ]
   }
  }
 },
 "nbformat": 4,
 "nbformat_minor": 2
}

