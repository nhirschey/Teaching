
{
 "cells": [
  {
   "cell_type": "markdown",
   "metadata": {},
   
   "source": [
    "[![Binder](../img/badge-binder.svg)](https://mybinder.org/v2/gh/nhirschey/teaching/gh-pages?filepath=quizzes/quiz-map-collection.ipynb)\u0026emsp;\n",
    "[![Script](../img/badge-script.svg)](/Teaching//quizzes/quiz-map-collection.fsx)\u0026emsp;\n",
    "[![Notebook](../img/badge-notebook.svg)](/Teaching//quizzes/quiz-map-collection.ipynb)\n",
    "\n",
    "# Map Collections\n",
    "\n",
    "If we\u0027re doing lookups, then a good data structure\n",
    "for that is a Map collection. A Map is an immutable dictionary of elements.\n",
    "Maps consist of key and value pairs.\n",
    "If you look up the key, you get the value.\n",
    "\n",
    "If you need to do lookups on a key, maps are much more efficient than trying to do the same thing with a list or array.\n",
    "\n",
    "* Some references.\n",
    "\n",
    "  * [Map type documentation](https://fsharp.github.io/fsharp-core-docs/reference/fsharp-collections-fsharpmap-2.html)\n",
    "  \n",
    "  * [Map module documentation](https://fsharp.github.io/fsharp-core-docs/reference/fsharp-collections-mapmodule.html)\n",
    "  \n",
    "  * [F# Wikibook](https://en.wikibooks.org/wiki/F_Sharp_Programming/Sets_and_Maps#Maps)\n",
    "  \n",
    "\n"
   ]
  }
,
  {
   "cell_type": "code",
   "metadata": {
    "dotnet_interactive": {
     "language": "fsharp"
    },
    "polyglot_notebook": {
     "kernelName": "fsharp"
    }
   },
   "execution_count": 3, "outputs": [],
   "source": [
    "let exampleMap = Map [(\"a\", \"hey\"); (\"b\",\"ho\")]\n",
    "let exampleMap2 = [(4,\"apple\"); (10,\"pizza\")] |\u003e Map\n"
   ]
  }
,
  {
   "cell_type": "markdown",
   "metadata": {},
   
   "source": [
    "Three equivalent ways to find a key given a value.async\n",
    "\n",
    "Option 1:\n",
    "\n"
   ]
  }
,
  {
   "cell_type": "code",
   "metadata": {
    "dotnet_interactive": {
     "language": "fsharp"
    },
    "polyglot_notebook": {
     "kernelName": "fsharp"
    }
   },
   "execution_count": 4, "outputs": [],
   "source": [
    "exampleMap[\"a\"]\n"
   ]
  }
,
  {
   "cell_type": "markdown",
   "metadata": {},
   
   "source": [
    "Option 2:\n",
    "\n"
   ]
  }
,
  {
   "cell_type": "code",
   "metadata": {
    "dotnet_interactive": {
     "language": "fsharp"
    },
    "polyglot_notebook": {
     "kernelName": "fsharp"
    }
   },
   "execution_count": 5, "outputs": [],
   "source": [
    "Map.find \"a\" exampleMap\n"
   ]
  }
,
  {
   "cell_type": "markdown",
   "metadata": {},
   
   "source": [
    "Option 3:\n",
    "\n"
   ]
  }
,
  {
   "cell_type": "code",
   "metadata": {
    "dotnet_interactive": {
     "language": "fsharp"
    },
    "polyglot_notebook": {
     "kernelName": "fsharp"
    }
   },
   "execution_count": 6, "outputs": [
          {
           "data": {
            "text/plain": ["(100, false)"]
        },
           "execution_count": 6,
           "metadata": {},
           "output_type": "execute_result"
          }],
   "source": [
    "exampleMap2 |\u003e Map.find 10\n",
    "\n",
    "// Comparing performance of list vs. Map lookups.\n",
    "\n",
    "#time \"on\"\n",
    "let isOdd x = if x % 2 = 0 then false else true\n",
    "let arr = [ for i = 1 to 100_000 do (i, isOdd i) ]\n",
    "let arrMap = arr |\u003e Map\n",
    "\n",
    "arr |\u003e List.find (fun (a,b) -\u003e a = 100)\n"
   ]
  }
,
  {
   "cell_type": "code",
   "metadata": {
    "dotnet_interactive": {
     "language": "fsharp"
    },
    "polyglot_notebook": {
     "kernelName": "fsharp"
    }
   },
   "execution_count": 7, "outputs": [
          {
           "data": {
            "text/plain": ["true"]
        },
           "execution_count": 7,
           "metadata": {},
           "output_type": "execute_result"
          }],
   "source": [
    "arrMap |\u003e Map.find 101\n"
   ]
  }
,
  {
   "cell_type": "markdown",
   "metadata": {},
   
   "source": [
    "Compare performance to find something at the beginning of an list.\n",
    "\n"
   ]
  }
,
  {
   "cell_type": "code",
   "metadata": {
    "dotnet_interactive": {
     "language": "fsharp"
    },
    "polyglot_notebook": {
     "kernelName": "fsharp"
    }
   },
   "execution_count": null, "outputs": [],
   "source": [
    "for i = 1 to 100 do \n",
    "    arr |\u003e List.find(fun (a,b) -\u003e a = 1_000) |\u003e ignore\n"
   ]
  }
,
  {
   "cell_type": "code",
   "metadata": {
    "dotnet_interactive": {
     "language": "fsharp"
    },
    "polyglot_notebook": {
     "kernelName": "fsharp"
    }
   },
   "execution_count": null, "outputs": [],
   "source": [
    "for i = 1 to 100 do\n",
    "    arrMap |\u003e Map.find 1_000 |\u003e ignore\n"
   ]
  }
,
  {
   "cell_type": "markdown",
   "metadata": {},
   
   "source": [
    "Compare performance to find something that is towards the end of the list.\n",
    "\n"
   ]
  }
,
  {
   "cell_type": "code",
   "metadata": {
    "dotnet_interactive": {
     "language": "fsharp"
    },
    "polyglot_notebook": {
     "kernelName": "fsharp"
    }
   },
   "execution_count": null, "outputs": [],
   "source": [
    "for i = 1 to 100 do \n",
    "    arr |\u003e List.find(fun (a,b) -\u003e a = 99_000) |\u003e ignore\n"
   ]
  }
,
  {
   "cell_type": "code",
   "metadata": {
    "dotnet_interactive": {
     "language": "fsharp"
    },
    "polyglot_notebook": {
     "kernelName": "fsharp"
    }
   },
   "execution_count": null, "outputs": [],
   "source": [
    "for i = 1 to 100 do\n",
    "    arrMap |\u003e Map.find 99_000 |\u003e ignore\n"
   ]
  }
,
  {
   "cell_type": "markdown",
   "metadata": {},
   
   "source": [
    "## Question 1\n",
    "\n",
    "Create a Map collection named `mapA`\n",
    "from the list `[(\"a\",1);(\"b\",2)]` where the first thing\n",
    "in the tuple is the key and the second thing is the value.\n",
    "\n",
    "0 Use `Map.tryFind` to retrieve the value for key `\"a\"`\n",
    "\n",
    "1 Use `Map.tryFind` to retrieve the value for key `\"c\"`\n",
    "\n",
    "\u003cdiv style=\"padding-left: 40px;\"\u003e\n",
    "\u003cp\u003e \n",
    "\u003cspan\u003e\n",
    "\u003cdetails\u003e\n",
    "\u003csummary\u003e\u003cp style=\"display:inline\"\u003eanswer\u003c/p\u003e\u003c/summary\u003e\n",
    "\n",
    "Create Map Collection:\n",
    "\n",
    "```\n",
    "Real: 00:00:00.000, CPU: 00:00:00.000, GC gen0: 0, gen1: 0, gen2: 0\n",
    "val mapA: Map\u003cstring,int\u003e = map [(\"a\", 1); (\"b\", 2)]\n",
    "```\n",
    "\n",
    "or\n",
    "\n",
    "```\n",
    "Real: 00:00:00.000, CPU: 00:00:00.000, GC gen0: 0, gen1: 0, gen2: 0\n",
    "val mapA2: Map\u003cstring,int\u003e = map [(\"a\", 1); (\"b\", 2)]\n",
    "```\n",
    "\n",
    "or\n",
    "\n",
    "```\n",
    "Real: 00:00:00.000, CPU: 00:00:00.000, GC gen0: 0, gen1: 0, gen2: 0\n",
    "val mapA3: Map\u003cstring,int\u003e = map [(\"a\", 1); (\"b\", 2)]\n",
    "```\n",
    "\n",
    "Use `Map.tryFind` to retrieve the value for key `\"a\"`:\n",
    "\n",
    "```\n",
    "Real: 00:00:00.000, CPU: 00:00:00.000, GC gen0: 0, gen1: 0, gen2: 0\n",
    "val it: int option = Some 1\n",
    "```\n",
    "\n",
    "or\n",
    "\n",
    "```\n",
    "Real: 00:00:00.000, CPU: 00:00:00.000, GC gen0: 0, gen1: 0, gen2: 0\n",
    "val it: int option = Some 1\n",
    "```\n",
    "\n",
    "Use `Map.tryFind` to retrieve the value for key `\"c\"`:\n",
    "\n",
    "```\n",
    "Real: 00:00:00.000, CPU: 00:00:00.000, GC gen0: 0, gen1: 0, gen2: 0\n",
    "val it: int option = None\n",
    "```\n",
    "\n",
    "or\n",
    "\n",
    "```\n",
    "Real: 00:00:00.000, CPU: 00:00:00.000, GC gen0: 0, gen1: 0, gen2: 0\n",
    "val it: int option = None\n",
    "```\n",
    "\n",
    "\u003c/details\u003e\n",
    "\u003c/span\u003e\n",
    "\u003c/p\u003e\n",
    "\u003c/div\u003e\n",
    "\n"
   ]
  }
,
  {
   "cell_type": "code",
   "metadata": {
    "dotnet_interactive": {
     "language": "fsharp"
    },
    "polyglot_notebook": {
     "kernelName": "fsharp"
    }
   },
   "execution_count": null, "outputs": [],
   "source": [
    "// write your code here, see website for solution.\n"
   ]
  }
,
  {
   "cell_type": "markdown",
   "metadata": {},
   
   "source": [
    "## Question 2\n",
    "\n",
    "Create a Map collection named `mapB`\n",
    "from the list `[(1,\"a\");(2,\"b\")]` where the first thing\n",
    "in the tuple is the key and the second thing is the value.\n",
    "\n",
    "0 Use `Map.tryFind` to retrieve the value for key `1`\n",
    "\n",
    "1 Use `Map.tryFind` to retrieve the value for key `3`\n",
    "\n",
    "\u003cdiv style=\"padding-left: 40px;\"\u003e\n",
    "\u003cp\u003e \n",
    "\u003cspan\u003e\n",
    "\u003cdetails\u003e\n",
    "\u003csummary\u003e\u003cp style=\"display:inline\"\u003eanswer\u003c/p\u003e\u003c/summary\u003e\n",
    "\n",
    "```\n",
    "Real: 00:00:00.000, CPU: 00:00:00.000, GC gen0: 0, gen1: 0, gen2: 0\n",
    "val mapB: Map\u003cint,string\u003e = map [(1, \"a\"); (2, \"b\")]\n",
    "val tryFindMapB1: string option = Some \"a\"\n",
    "val tryFindMapB3: string option = None\n",
    "```\n",
    "\n",
    "\u003c/details\u003e\n",
    "\u003c/span\u003e\n",
    "\u003c/p\u003e\n",
    "\u003c/div\u003e\n",
    "\n"
   ]
  }
,
  {
   "cell_type": "code",
   "metadata": {
    "dotnet_interactive": {
     "language": "fsharp"
    },
    "polyglot_notebook": {
     "kernelName": "fsharp"
    }
   },
   "execution_count": null, "outputs": [],
   "source": [
    "// write your code here, see website for solution.\n"
   ]
  }
,
  {
   "cell_type": "markdown",
   "metadata": {},
   
   "source": [
    "## Question 3\n",
    "\n",
    "Use this list\n",
    "\n"
   ]
  }
,
  {
   "cell_type": "code",
   "metadata": {
    "dotnet_interactive": {
     "language": "fsharp"
    },
    "polyglot_notebook": {
     "kernelName": "fsharp"
    }
   },
   "execution_count": 16, "outputs": [],
   "source": [
    "type StockDays3 = \n",
    "    {\n",
    "        Day: int\n",
    "        Price: decimal\n",
    "        Dividend: decimal Option \n",
    "    }\n",
    "let stockDays3 = \n",
    "    [ for day = 0 to 5 do \n",
    "        let dividend = if day % 2 = 0 then None else Some 1m\n",
    "        { Day = day\n",
    "          Price = 100m + decimal day\n",
    "          Dividend = dividend } ]     \n"
   ]
  }
,
  {
   "cell_type": "markdown",
   "metadata": {},
   
   "source": [
    "0 Create a Map collection named `mapC`. The key should be the day field, \n",
    "and the value should be the full `StockDays3` record.\n",
    "\n",
    "1 Create a Map collection named `mapD`. The key should be the full\n",
    "`StockDay3` record. The value should be the day field.\n",
    "\n",
    "\u003cdiv style=\"padding-left: 40px;\"\u003e\n",
    "\u003cp\u003e \n",
    "\u003cspan\u003e\n",
    "\u003cdetails\u003e\n",
    "\u003csummary\u003e\u003cp style=\"display:inline\"\u003eanswer\u003c/p\u003e\u003c/summary\u003e\n",
    "\n",
    "```\n",
    "Real: 00:00:00.000, CPU: 00:00:00.000, GC gen0: 0, gen1: 0, gen2: 0\n",
    "val mapC: Map\u003cint,StockDays3\u003e =\n",
    "  map\n",
    "    [(0, { Day = 0\n",
    "           Price = 100M\n",
    "           Dividend = None }); (1, { Day = 1\n",
    "                                     Price = 101M\n",
    "                                     Dividend = Some 1M });\n",
    "     (2, { Day = 2\n",
    "           Price = 102M\n",
    "           Dividend = None }); (3, { Day = 3\n",
    "                                     Price = 103M\n",
    "                                     Dividend = Some 1M });\n",
    "     (4, { Day = 4\n",
    "           Price = 104M\n",
    "           Dividend = None }); (5, { Day = 5\n",
    "                                     Price = 105M\n",
    "                                     Dividend = Some 1M })]\n",
    "```\n",
    "\n",
    "```\n",
    "Real: 00:00:00.001, CPU: 00:00:00.000, GC gen0: 0, gen1: 0, gen2: 0\n",
    "val mapD: Map\u003cStockDays3,int\u003e =\n",
    "  map\n",
    "    [({ Day = 0\n",
    "        Price = 100M\n",
    "        Dividend = None }, 0); ({ Day = 1\n",
    "                                  Price = 101M\n",
    "                                  Dividend = Some 1M }, 1);\n",
    "     ({ Day = 2\n",
    "        Price = 102M\n",
    "        Dividend = None }, 2); ({ Day = 3\n",
    "                                  Price = 103M\n",
    "                                  Dividend = Some 1M }, 3);\n",
    "     ({ Day = 4\n",
    "        Price = 104M\n",
    "        Dividend = None }, 4); ({ Day = 5\n",
    "                                  Price = 105M\n",
    "                                  Dividend = Some 1M }, 5)]\n",
    "```\n",
    "\n",
    "\u003c/details\u003e\n",
    "\u003c/span\u003e\n",
    "\u003c/p\u003e\n",
    "\u003c/div\u003e\n",
    "\n"
   ]
  }
,
  {
   "cell_type": "code",
   "metadata": {
    "dotnet_interactive": {
     "language": "fsharp"
    },
    "polyglot_notebook": {
     "kernelName": "fsharp"
    }
   },
   "execution_count": null, "outputs": [],
   "source": [
    "// write your code here, see website for solution.\n"
   ]
  }
,
  {
   "cell_type": "markdown",
   "metadata": {},
   
   "source": [
    "## Question 4\n",
    "\n",
    "Consider a the following Map collection:\n",
    "\n"
   ]
  }
,
  {
   "cell_type": "code",
   "metadata": {
    "dotnet_interactive": {
     "language": "fsharp"
    },
    "polyglot_notebook": {
     "kernelName": "fsharp"
    }
   },
   "execution_count": 19, "outputs": [],
   "source": [
    "let mapp = [(\"a\", 1); (\"d\",7)] |\u003e Map.ofList\n"
   ]
  }
,
  {
   "cell_type": "markdown",
   "metadata": {},
   
   "source": [
    "Write a function named `lookFor` that takes `x: string` as an input and\n",
    "looks up the value in `mapp`. If it finds `Some y`, print\n",
    "`\"I found y\"` to standard output where `y` is the actual integer found.\n",
    "If it finds `None`, print `\"I did not find x\"` to standard output\n",
    "where `x` is the actual key that was looked up. Test it by looking\n",
    "up `\"a\"`,`\"b\"`,\"`c\"`,`\"d\"`\n",
    "\n",
    "\u003cdiv style=\"padding-left: 40px;\"\u003e\n",
    "\u003cp\u003e \n",
    "\u003cspan\u003e\n",
    "\u003cdetails\u003e\n",
    "\u003csummary\u003e\u003cp style=\"display:inline\"\u003eanswer\u003c/p\u003e\u003c/summary\u003e\n",
    "\n",
    "```\n",
    "I found 1\n",
    "I did not find b\n",
    "I did not find c\n",
    "I found 7\n",
    "Real: 00:00:00.000, CPU: 00:00:00.000, GC gen0: 0, gen1: 0, gen2: 0\n",
    "val lookFor: x: string -\u003e unit\n",
    "val it: unit = ()\n",
    "```\n",
    "\n",
    "or iterate it\n",
    "we use iter instead of map\n",
    "because the result of iter has type `unit`,\n",
    "and iter is for when your function has type `unit`.\n",
    "Basically, unit type means the function did something\n",
    "(in this case, printed to standard output) but\n",
    "it doesn\u0027t actually return any output.\n",
    "You could use map, but then we get `unit list` which\n",
    "isn\u0027t really what we want. We just want to iterate\n",
    "through the list and print to output.\n",
    "\n",
    "```\n",
    "I found 1\n",
    "I did not find b\n",
    "I did not find c\n",
    "I found 7\n",
    "Real: 00:00:00.000, CPU: 00:00:00.000, GC gen0: 0, gen1: 0, gen2: 0\n",
    "val it: unit = ()\n",
    "```\n",
    "\n",
    "or loop it\n",
    "\n",
    "```\n",
    "I found 1\n",
    "\n",
    "I did not find b\n",
    "\n",
    "I did not find c\n",
    "\n",
    "I found 7\n",
    "\n",
    "Real: 00:00:00.000, CPU: 00:00:00.000, GC gen0: 0, gen1: 0, gen2: 0\n",
    "val it: unit = ()\n",
    "```\n",
    "\n",
    "\u003c/details\u003e\n",
    "\u003c/span\u003e\n",
    "\u003c/p\u003e\n",
    "\u003c/div\u003e\n",
    "\n"
   ]
  }
,
  {
   "cell_type": "code",
   "metadata": {
    "dotnet_interactive": {
     "language": "fsharp"
    },
    "polyglot_notebook": {
     "kernelName": "fsharp"
    }
   },
   "execution_count": null, "outputs": [],
   "source": [
    "// write your code here, see website for solution.\n"
   ]
  }
,
  {
   "cell_type": "markdown",
   "metadata": {},
   
   "source": [
    "# Joins\n",
    "\n",
    "For the following questions use this data:\n",
    "\n"
   ]
  }
,
  {
   "cell_type": "code",
   "metadata": {
    "dotnet_interactive": {
     "language": "fsharp"
    },
    "polyglot_notebook": {
     "kernelName": "fsharp"
    }
   },
   "execution_count": 23, "outputs": [],
   "source": [
    "type StockPriceOb =\n",
    "    { Stock : string \n",
    "      Time : int\n",
    "      Price : int }\n",
    "type TwoStocksPriceOb =\n",
    "    { Time : int \n",
    "      PriceA : int option \n",
    "      PriceB : int option }\n",
    "let stockA = \n",
    "    [{ Stock = \"A\"; Time = 1; Price = 5}\n",
    "     { Stock = \"A\"; Time = 2; Price = 6}]\n",
    "let stockB =     \n",
    "    [{ Stock = \"B\"; Time = 2; Price = 5}\n",
    "     { Stock = \"B\"; Time = 3; Price = 4}]\n"
   ]
  }
,
  {
   "cell_type": "markdown",
   "metadata": {},
   
   "source": [
    "Hint: remember that Map collections are useful for lookups.\n",
    "\n",
    "## Question 1\n",
    "\n",
    "Create a `TwoStocksPriceOb list` named `tslA` that has prices for\n",
    "every observation of `stockA`. If there is a price for `stockB`\n",
    "at the same time as `stockA`, then include the `stockB` price. Otherwise,\n",
    "the `stockB` price should be `None`.\n",
    "\n",
    "\u003cdiv style=\"padding-left: 40px;\"\u003e\n",
    "\u003cp\u003e \n",
    "\u003cspan\u003e\n",
    "\u003cdetails\u003e\n",
    "\u003csummary\u003e\u003cp style=\"display:inline\"\u003eanswer\u003c/p\u003e\u003c/summary\u003e\n",
    "\n",
    "```\n",
    "Real: 00:00:00.001, CPU: 00:00:00.000, GC gen0: 0, gen1: 0, gen2: 0\n",
    "val stockbByTime: Map\u003cint,StockPriceOb\u003e =\n",
    "  map [(2, { Stock = \"B\"\n",
    "             Time = 2\n",
    "             Price = 5 }); (3, { Stock = \"B\"\n",
    "                                 Time = 3\n",
    "                                 Price = 4 })]\n",
    "val tslA1: TwoStocksPriceOb list = [{ Time = 1\n",
    "                                      PriceA = Some 5\n",
    "                                      PriceB = None }; { Time = 2\n",
    "                                                         PriceA = Some 6\n",
    "                                                         PriceB = Some 5 }]\n",
    "val tslA2: TwoStocksPriceOb list = [{ Time = 1\n",
    "                                      PriceA = Some 5\n",
    "                                      PriceB = None }; { Time = 2\n",
    "                                                         PriceA = Some 6\n",
    "                                                         PriceB = Some 5 }]\n",
    "val tslA4: TwoStocksPriceOb list = [{ Time = 1\n",
    "                                      PriceA = Some 5\n",
    "                                      PriceB = None }; { Time = 2\n",
    "                                                         PriceA = Some 6\n",
    "                                                         PriceB = Some 5 }]\n",
    "val tslA5: TwoStocksPriceOb list = [{ Time = 1\n",
    "                                      PriceA = Some 5\n",
    "                                      PriceB = None }; { Time = 2\n",
    "                                                         PriceA = Some 6\n",
    "                                                         PriceB = Some 5 }]\n",
    "val tryFindBforA: dayA: StockPriceOb -\u003e TwoStocksPriceOb\n",
    "val tslA3: TwoStocksPriceOb list = [{ Time = 1\n",
    "                                      PriceA = Some 5\n",
    "                                      PriceB = None }; { Time = 2\n",
    "                                                         PriceA = Some 6\n",
    "                                                         PriceB = Some 5 }]\n",
    "```\n",
    "\n",
    "\u003c/details\u003e\n",
    "\u003c/span\u003e\n",
    "\u003c/p\u003e\n",
    "\u003c/div\u003e\n",
    "\n"
   ]
  }
,
  {
   "cell_type": "code",
   "metadata": {
    "dotnet_interactive": {
     "language": "fsharp"
    },
    "polyglot_notebook": {
     "kernelName": "fsharp"
    }
   },
   "execution_count": null, "outputs": [],
   "source": [
    "// write your code here, see website for solution.\n"
   ]
  }
,
  {
   "cell_type": "markdown",
   "metadata": {},
   
   "source": [
    "## Question 2\n",
    "\n",
    "Create a `TwoStocksPriceOb list` named `tslB` that has prices for\n",
    "every observation of stockB. If there is a price for `stockA`\n",
    "at the same time as `stockB`, then include the `stockA` price. Otherwise,\n",
    "the `stockA` price should be `None`.\n",
    "\n",
    "\u003cdiv style=\"padding-left: 40px;\"\u003e\n",
    "\u003cp\u003e \n",
    "\u003cspan\u003e\n",
    "\u003cdetails\u003e\n",
    "\u003csummary\u003e\u003cp style=\"display:inline\"\u003eanswer\u003c/p\u003e\u003c/summary\u003e\n",
    "\n",
    "```\n",
    "Real: 00:00:00.000, CPU: 00:00:00.000, GC gen0: 0, gen1: 0, gen2: 0\n",
    "val stockaByTime: Map\u003cint,StockPriceOb\u003e =\n",
    "  map [(1, { Stock = \"A\"\n",
    "             Time = 1\n",
    "             Price = 5 }); (2, { Stock = \"A\"\n",
    "                                 Time = 2\n",
    "                                 Price = 6 })]\n",
    "val tslB: TwoStocksPriceOb list = [{ Time = 2\n",
    "                                     PriceA = Some 6\n",
    "                                     PriceB = Some 5 }; { Time = 3\n",
    "                                                          PriceA = None\n",
    "                                                          PriceB = Some 4 }]\n",
    "```\n",
    "\n",
    "\u003c/details\u003e\n",
    "\u003c/span\u003e\n",
    "\u003c/p\u003e\n",
    "\u003c/div\u003e\n",
    "\n"
   ]
  }
,
  {
   "cell_type": "code",
   "metadata": {
    "dotnet_interactive": {
     "language": "fsharp"
    },
    "polyglot_notebook": {
     "kernelName": "fsharp"
    }
   },
   "execution_count": null, "outputs": [],
   "source": [
    "// write your code here, see website for solution.\n"
   ]
  }
,
  {
   "cell_type": "markdown",
   "metadata": {},
   
   "source": [
    "## Question 3\n",
    "\n",
    "Create a `TwoStocksPriceOb list` named `tslC` that only includes times\n",
    "when there is a price for both `stockA` and `stockB`. The prices for stocks\n",
    "A and B should always be something.\n",
    "\n",
    "\u003cdiv style=\"padding-left: 40px;\"\u003e\n",
    "\u003cp\u003e \n",
    "\u003cspan\u003e\n",
    "\u003cdetails\u003e\n",
    "\u003csummary\u003e\u003cp style=\"display:inline\"\u003eanswer\u003c/p\u003e\u003c/summary\u003e\n",
    "\n",
    "```\n",
    "Real: 00:00:00.001, CPU: 00:00:00.000, GC gen0: 0, gen1: 0, gen2: 0\n",
    "val stockaByTime2: Map\u003cint,StockPriceOb\u003e =\n",
    "  map [(1, { Stock = \"A\"\n",
    "             Time = 1\n",
    "             Price = 5 }); (2, { Stock = \"A\"\n",
    "                                 Time = 2\n",
    "                                 Price = 6 })]\n",
    "val tslC1: TwoStocksPriceOb list = [{ Time = 2\n",
    "                                      PriceA = Some 6\n",
    "                                      PriceB = Some 5 }]\n",
    "val timesA: Set\u003cint\u003e = set [1; 2]\n",
    "val timesB: Set\u003cint\u003e = set [2; 3]\n",
    "val timesAandB: Set\u003cint\u003e = set [2]\n",
    "val tslC2: TwoStocksPriceOb list = [{ Time = 2\n",
    "                                      PriceA = Some 6\n",
    "                                      PriceB = Some 5 }]\n",
    "```\n",
    "\n",
    "\u003c/details\u003e\n",
    "\u003c/span\u003e\n",
    "\u003c/p\u003e\n",
    "\u003c/div\u003e\n",
    "\n"
   ]
  }
,
  {
   "cell_type": "code",
   "metadata": {
    "dotnet_interactive": {
     "language": "fsharp"
    },
    "polyglot_notebook": {
     "kernelName": "fsharp"
    }
   },
   "execution_count": null, "outputs": [],
   "source": [
    "// write your code here, see website for solution.\n"
   ]
  }
,
  {
   "cell_type": "markdown",
   "metadata": {},
   
   "source": [
    "## Question 4\n",
    "\n",
    "Create a `TwoStocksPriceOb list` named `tslD` that includes available\n",
    "stock prices for `stockA` and `stockB` at all possible times. If a price for\n",
    "one of the stocks is missing for a given time, it should be None.\n",
    "\n",
    "\u003cdiv style=\"padding-left: 40px;\"\u003e\n",
    "\u003cp\u003e \n",
    "\u003cspan\u003e\n",
    "\u003cdetails\u003e\n",
    "\u003csummary\u003e\u003cp style=\"display:inline\"\u003eanswer\u003c/p\u003e\u003c/summary\u003e\n",
    "\n",
    "```\n",
    "Real: 00:00:00.000, CPU: 00:00:00.000, GC gen0: 0, gen1: 0, gen2: 0\n",
    "val stockATimes: int list = [1; 2]\n",
    "val stockBTimes: int list = [2; 3]\n",
    "val allTimes: int list = [1; 2; 3]\n",
    "val tslD: TwoStocksPriceOb list =\n",
    "  [{ Time = 1\n",
    "     PriceA = Some 5\n",
    "     PriceB = None }; { Time = 2\n",
    "                        PriceA = Some 6\n",
    "                        PriceB = Some 5 }; { Time = 3\n",
    "                                             PriceA = None\n",
    "                                             PriceB = Some 4 }]\n",
    "val testTime: int = 1\n",
    "val time1A: StockPriceOb option = Some { Stock = \"A\"\n",
    "                                         Time = 1\n",
    "                                         Price = 5 }\n",
    "val time1B: StockPriceOb option = None\n",
    "val time1Aprice: int option = Some 5\n",
    "val time1Bprice: int option = None\n",
    "val testOutput: TwoStocksPriceOb = { Time = 1\n",
    "                                     PriceA = Some 5\n",
    "                                     PriceB = None }\n",
    "val getTheMatch: time: int -\u003e TwoStocksPriceOb\n",
    "val tslD2: TwoStocksPriceOb list =\n",
    "  [{ Time = 1\n",
    "     PriceA = Some 5\n",
    "     PriceB = None }; { Time = 2\n",
    "                        PriceA = Some 6\n",
    "                        PriceB = Some 5 }; { Time = 3\n",
    "                                             PriceA = None\n",
    "                                             PriceB = Some 4 }]\n",
    "```\n",
    "\n",
    "\u003c/details\u003e\n",
    "\u003c/span\u003e\n",
    "\u003c/p\u003e\n",
    "\u003c/div\u003e\n",
    "\n"
   ]
  }
,
  {
   "cell_type": "code",
   "metadata": {
    "dotnet_interactive": {
     "language": "fsharp"
    },
    "polyglot_notebook": {
     "kernelName": "fsharp"
    }
   },
   "execution_count": null, "outputs": [],
   "source": [
    "// write your code here, see website for solution.\n"
   ]
  }
 ],
 "metadata": {
  "kernelspec": {
   "display_name": ".NET (F#)",
   "language": "F#",
   "name": ".net-fsharp"
  },
  "language_info": {
   "file_extension": ".fs",
   "mimetype": "text/x-fsharp",
   "name": "polyglot-notebook",
   "pygments_lexer": "fsharp"
  },
  "polyglot_notebook": {
   "kernelInfo": {
    "defaultKernelName": "fsharp",
    "items": [
     {
      "aliases": [],
      "languageName": "fsharp",
      "name": "fsharp"
     }
    ]
   }
  }
 },
 "nbformat": 4,
 "nbformat_minor": 2
}

