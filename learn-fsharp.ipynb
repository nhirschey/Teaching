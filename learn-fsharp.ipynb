
{
 "cells": [
  {
   "cell_type": "markdown",
   "metadata": {},
   
   "source": [
    "The code on this site is mostly written in [F#](https://dotnet.microsoft.com/languages/fsharp).\n",
    "F# code tends to be as simple as equivalent Python or R code,\n",
    "but it is usually faster and more robust.\n",
    "This makes it a good language for finance, where simplicity, speed, and correctness are important.\n",
    "\n",
    "## Resources for learning F#\n",
    "\n",
    "0 Microsoft\u0027s [Learn F# site](https://dotnet.microsoft.com/en-us/learn/fsharp). In particular:\n",
    "\n",
    "  * [Luis Quintanilla\u0027s F# for Beginners YouTube series](https://youtube.com/playlist?list=PLdo4fOcmZ0oUFghYOp89baYFBTGxUkC7Z), with code samples in [this github repo.](https://github.com/luisquintanilla/fsharp-101-samples)\n",
    "  \n",
    "  * [Self-guided F# tutorials](https://docs.microsoft.com/en-us/learn/paths/fsharp-first-steps/)\n",
    "  \n",
    "  * The [What is F#?](https://docs.microsoft.com/en-us/dotnet/fsharp/what-is-fsharp?) page.\n",
    "  \n",
    "\n",
    "1 Exorcism.org is a great site for learning languages. This [link](https://exercism.org/tracks/fsharp) takes you to the F# learning track.\n",
    "\n",
    "2 [F# Syntax Cheatsheet.](https://github.com/adelarsq/fsharp-cheatsheet)\n",
    "\n",
    "3 [Official F# Language Guide.](https://docs.microsoft.com/en-us/dotnet/fsharp/language-reference/)\n",
    "\n",
    "4 [F# for Fun and Profit](https://fsharpforfunandprofit.com/) has many great articles on F# and domain modelling with types.\n",
    "\n"
   ]
  }
 ],
 "metadata": {
  "kernelspec": {
   "display_name": ".NET (F#)",
   "language": "F#",
   "name": ".net-fsharp"
  },
  "language_info": {
   "file_extension": ".fs",
   "mimetype": "text/x-fsharp",
   "name": "polyglot-notebook",
   "pygments_lexer": "fsharp"
  },
  "polyglot_notebook": {
   "kernelInfo": {
    "defaultKernelName": "fsharp",
    "items": [
     {
      "aliases": [],
      "languageName": "fsharp",
      "name": "fsharp"
     }
    ]
   }
  }
 },
 "nbformat": 4,
 "nbformat_minor": 2
}

