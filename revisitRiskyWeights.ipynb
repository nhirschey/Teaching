
{
 "cells": [
  {
   "cell_type": "markdown",
   "metadata": {},
   
   "source": [
    "[![Binder](img/badge-binder.svg)](https://mybinder.org/v2/gh/nhirschey/teaching/gh-pages?filepath=revisitRiskyWeights.ipynb)\u0026emsp;\n",
    "[![Script](img/badge-script.svg)](/Teaching//revisitRiskyWeights.fsx)\u0026emsp;\n",
    "[![Notebook](img/badge-notebook.svg)](/Teaching//revisitRiskyWeights.ipynb)\n",
    "\n",
    "# Predictability\n",
    "\n",
    "We\u0027ll revisit some old topics but also touch on new ones.\n",
    "Objectives:\n",
    "\n",
    "* Simple vol managed\n",
    "\n",
    "* Mean-variance efficient version\n",
    "\n",
    "  * known mean and known variance\n",
    "  \n",
    "  * known mean and predicted variance\n",
    "  \n",
    "  * predicted mean and known variance\n",
    "  \n",
    "  * predicted mean and predicted variance\n",
    "  \n",
    "\n",
    "* Adding leverage constraints\n",
    "\n",
    "* Effect of different volatility predictions.\n",
    "\n"
   ]
  }
,
  {
   "cell_type": "code",
   "metadata": {
    "dotnet_interactive": {
     "language": "fsharp"
    },
    "polyglot_notebook": {
     "kernelName": "fsharp"
    }
   },
   "execution_count": 1, "outputs": [],
   "source": [
    "#r \"nuget: NovaSBE.Finance, 0.5.0\"\n",
    "#r \"nuget: FSharp.Stats, 0.5.0\"\n",
    "#r \"nuget: ExcelProvider, 2.0.0\"\n",
    "#r \"nuget: Plotly.NET, 3.*\"\n",
    "#r \"nuget: Plotly.NET.Interactive, 3.*\"\n",
    "\n",
    "open System\n",
    "open NovaSBE.Finance\n",
    "open NovaSBE.Finance.Utils\n",
    "open FSharp.Stats\n",
    "open Plotly.NET\n",
    "open Plotly.NET.Interactive\n",
    "\n",
    "let ff3 = French.getFF3 French.Monthly\n",
    "let ff3Daily = French.getFF3 French.Daily\n"
   ]
  }
,
  {
   "cell_type": "markdown",
   "metadata": {},
   
   "source": [
    "## Vol Managed Portfolios\n",
    "\n",
    "### Simple vol managed\n",
    "\n",
    "Following Moreia and Muir (2017) this strategy is $w_t = \\frac{c}{\\hat{\\sigma}^2_t}$ where $c$ is a constant that sets the strategie\u0027s standard deviation to that of the buy-hold portfolio.\n",
    "\n",
    "The variance prediction is based on realized variance the prior month.\n",
    "\n"
   ]
  }
,
  {
   "cell_type": "code",
   "metadata": {
    "dotnet_interactive": {
     "language": "fsharp"
    },
    "polyglot_notebook": {
     "kernelName": "fsharp"
    }
   },
   "execution_count": 2, "outputs": [],
   "source": [
    "type ManagedObs =\n",
    "    { Month: DateTime \n",
    "      RiskyWeight: float \n",
    "      Return: float }\n",
    "\n",
    "/// Realized variance from month t-1 to predict month t. The key is month t, the value is predicted variance\n",
    "let mmVarPred =\n",
    "    ff3Daily\n",
    "    |\u003e Array.groupBy (fun x -\u003e DateTime(x.Date.Year, x.Date.Month, 1))\n",
    "    |\u003e Array.map (fun (month, dayObs) -\u003e\n",
    "        let mu = dayObs |\u003e Array.averageBy (fun x -\u003e x.MktRf)\n",
    "        let realizedVar = \n",
    "            dayObs \n",
    "            |\u003e Array.map (fun x -\u003e (x.MktRf - mu) ** 2.0) \n",
    "            |\u003e Array.sum\n",
    "        month.AddMonths(1), realizedVar)\n",
    "    |\u003e Map\n",
    "\n",
    "let minMonth = mmVarPred.Keys |\u003e Seq.min\n",
    "let maxMonth = mmVarPred.Keys |\u003e Seq.max\n",
    "    \n",
    "let simpleManaged =\n",
    "    ff3\n",
    "    |\u003e Array.filter (fun x -\u003e x.Date \u003e= minMonth \u0026\u0026 x.Date \u003c= maxMonth)\n",
    "    |\u003e Array.map (fun x -\u003e\n",
    "        let var = mmVarPred[x.Date]\n",
    "        let w = 1.0 / var\n",
    "        { Month = x.Date\n",
    "          RiskyWeight = w\n",
    "          Return = w * x.MktRf })\n",
    "\n",
    "\n",
    "let buyHold =\n",
    "    ff3\n",
    "    |\u003e Array.filter (fun x -\u003e x.Date \u003e= minMonth \u0026\u0026 x.Date \u003c= maxMonth)\n",
    "    |\u003e Array.map (fun x -\u003e\n",
    "        { Month = x.Date\n",
    "          RiskyWeight = 1.0\n",
    "          Return = x.MktRf })\n"
   ]
  }
,
  {
   "cell_type": "markdown",
   "metadata": {},
   
   "source": [
    "Let\u0027s compare the unnormalized managed vol port and the buy and hold.\n",
    "\n"
   ]
  }
,
  {
   "cell_type": "code",
   "metadata": {
    "dotnet_interactive": {
     "language": "fsharp"
    },
    "polyglot_notebook": {
     "kernelName": "fsharp"
    }
   },
   "execution_count": 3, "outputs": [],
   "source": [
    "let annualizedStDev (xs: seq\u003cManagedObs\u003e) =\n",
    "    xs\n",
    "    |\u003e Seq.map (fun x -\u003e x.Return)\n",
    "    |\u003e stDev\n",
    "    |\u003e (*) (sqrt 12.0)\n"
   ]
  }
,
  {
   "cell_type": "markdown",
   "metadata": {},
   
   "source": [
    "unnormalized managed vol.\n",
    "\n"
   ]
  }
,
  {
   "cell_type": "code",
   "metadata": {
    "dotnet_interactive": {
     "language": "fsharp"
    },
    "polyglot_notebook": {
     "kernelName": "fsharp"
    }
   },
   "execution_count": 4, "outputs": [],
   "source": [
    "let unnormalizedStDev =\n",
    "    simpleManaged\n",
    "    |\u003e annualizedStDev\n",
    "unnormalizedStDev\n"
   ]
  }
,
  {
   "cell_type": "markdown",
   "metadata": {},
   
   "source": [
    "buy and hold.\n",
    "\n"
   ]
  }
,
  {
   "cell_type": "code",
   "metadata": {
    "dotnet_interactive": {
     "language": "fsharp"
    },
    "polyglot_notebook": {
     "kernelName": "fsharp"
    }
   },
   "execution_count": 5, "outputs": [],
   "source": [
    "let buyHoldStDev =\n",
    "    buyHold\n",
    "    |\u003e annualizedStDev\n"
   ]
  }
,
  {
   "cell_type": "markdown",
   "metadata": {},
   
   "source": [
    "Normalized managed vol\n",
    "\n"
   ]
  }
,
  {
   "cell_type": "code",
   "metadata": {
    "dotnet_interactive": {
     "language": "fsharp"
    },
    "polyglot_notebook": {
     "kernelName": "fsharp"
    }
   },
   "execution_count": 6, "outputs": [],
   "source": [
    "let mmConstant = buyHoldStDev / unnormalizedStDev\n",
    "mmConstant\n"
   ]
  }
,
  {
   "cell_type": "markdown",
   "metadata": {},
   
   "source": [
    "Normalized the strategy.\n",
    "\n"
   ]
  }
,
  {
   "cell_type": "code",
   "metadata": {
    "dotnet_interactive": {
     "language": "fsharp"
    },
    "polyglot_notebook": {
     "kernelName": "fsharp"
    }
   },
   "execution_count": 7, "outputs": [],
   "source": [
    "let simpleManaged2 =\n",
    "    simpleManaged\n",
    "    |\u003e Array.map (fun x -\u003e \n",
    "        { x with \n",
    "            RiskyWeight = mmConstant * x.RiskyWeight\n",
    "            Return = mmConstant * x.Return })\n",
    "\n",
    "simpleManaged2\n",
    "|\u003e annualizedStDev\n"
   ]
  }
,
  {
   "cell_type": "markdown",
   "metadata": {},
   
   "source": [
    "Plot all portfolios.\n",
    "\n"
   ]
  }
,
  {
   "cell_type": "code",
   "metadata": {
    "dotnet_interactive": {
     "language": "fsharp"
    },
    "polyglot_notebook": {
     "kernelName": "fsharp"
    }
   },
   "execution_count": 8, "outputs": [],
   "source": [
    "let accumulateFromOne (xs: seq\u003cManagedObs\u003e) =\n",
    "    let sortedXs = xs |\u003e Seq.sortBy (fun x -\u003e x.Month)\n",
    "    let mutable cr = 1.0\n",
    "    [| for x in sortedXs do \n",
    "        cr \u003c- cr * (1.0 + x.Return )\n",
    "        x.Month, cr |]\n",
    "\n",
    "[ \"Buy and Hold\", buyHold\n",
    "  \"Unnormalized Managed Vol\", simpleManaged\n",
    "  \"Normalized Managed Vol\", simpleManaged2 ]\n",
    "|\u003e List.map (fun (name, port) -\u003e\n",
    "    port\n",
    "    |\u003e accumulateFromOne\n",
    "    |\u003e Chart.Line\n",
    "    |\u003e Chart.withTraceInfo(Name=name))\n",
    "|\u003e Chart.combine\n",
    "|\u003e Chart.withYAxisStyle(AxisType=StyleParam.AxisType.Log)\n"
   ]
  }
,
  {
   "cell_type": "markdown",
   "metadata": {},
   
   "source": [
    "Unnormalized doesn\u0027t make any sense.\n",
    "\n"
   ]
  }
,
  {
   "cell_type": "code",
   "metadata": {
    "dotnet_interactive": {
     "language": "fsharp"
    },
    "polyglot_notebook": {
     "kernelName": "fsharp"
    }
   },
   "execution_count": 9, "outputs": [],
   "source": [
    "[ \"Buy and Hold\", buyHold\n",
    "  \"Managed Vol\", simpleManaged2 ]\n",
    "|\u003e List.map (fun (name, port) -\u003e\n",
    "    port\n",
    "    |\u003e accumulateFromOne\n",
    "    |\u003e Chart.Line\n",
    "    |\u003e Chart.withTraceInfo(Name=name))\n",
    "|\u003e Chart.combine\n",
    "|\u003e Chart.withYAxisStyle(AxisType=StyleParam.AxisType.Log)\n"
   ]
  }
,
  {
   "cell_type": "markdown",
   "metadata": {},
   
   "source": [
    "Look at sharpe ratios.\n",
    "\n"
   ]
  }
,
  {
   "cell_type": "code",
   "metadata": {
    "dotnet_interactive": {
     "language": "fsharp"
    },
    "polyglot_notebook": {
     "kernelName": "fsharp"
    }
   },
   "execution_count": 10, "outputs": [],
   "source": [
    "let sharpe (xs: seq\u003cManagedObs\u003e) =\n",
    "    let sd = xs |\u003e annualizedStDev\n",
    "    let mean = xs |\u003e Seq.averageBy (fun x -\u003e 12.0 * x.Return)\n",
    "    mean / sd\n",
    "\n",
    "$\"Buy and Hold: {buyHold |\u003e sharpe}\"\n",
    "$\"Unnormalized Managed Vol: {simpleManaged |\u003e sharpe}\"\n",
    "$\"Managed Vol: {simpleManaged2 |\u003e sharpe}\"\n"
   ]
  }
,
  {
   "cell_type": "markdown",
   "metadata": {},
   
   "source": [
    "By decade.\n",
    "\n"
   ]
  }
,
  {
   "cell_type": "code",
   "metadata": {
    "dotnet_interactive": {
     "language": "fsharp"
    },
    "polyglot_notebook": {
     "kernelName": "fsharp"
    }
   },
   "execution_count": 11, "outputs": [],
   "source": [
    "let sharpeByDecade (xs: seq\u003cManagedObs\u003e) =\n",
    "    xs\n",
    "    |\u003e Seq.groupBy (fun x -\u003e 10 * (x.Month.Year / 10))\n",
    "    |\u003e Seq.map (fun (decade, decadeObs) -\u003e\n",
    "        {| Decade = decade; Sharpe = sharpe decadeObs|})\n",
    "    |\u003e Array.ofSeq\n",
    "\n",
    "let buyHoldDecades = buyHold |\u003e sharpeByDecade\n",
    "let simpleManaged2Decades = simpleManaged2 |\u003e sharpeByDecade\n",
    "\n",
    "for i = 0 to buyHoldDecades.Length-1 do \n",
    "    printfn $\"Decade: {buyHoldDecades[i].Decade}\"\n",
    "    printfn $\"  Buy-Hold/Managed: %.2f{buyHoldDecades[i].Sharpe} / %.2f{simpleManaged2Decades[i].Sharpe}\"\n"
   ]
  }
,
  {
   "cell_type": "markdown",
   "metadata": {},
   
   "source": [
    "Check alphas\n",
    "\n"
   ]
  }
,
  {
   "cell_type": "code",
   "metadata": {
    "dotnet_interactive": {
     "language": "fsharp"
    },
    "polyglot_notebook": {
     "kernelName": "fsharp"
    }
   },
   "execution_count": 12, "outputs": [],
   "source": [
    "let ff3Map = ff3 |\u003e Array.map (fun x -\u003e x.Date, x) |\u003e Map\n",
    "\n",
    "let regData =\n",
    "    simpleManaged2\n",
    "    |\u003e Array.filter (fun x -\u003e x.Month \u003c= DateTime(2015,12,31) \u0026\u0026 x.Month \u003e= DateTime(1927,1,1))\n",
    "    |\u003e Array.map (fun x -\u003e\n",
    "        {| Month = x.Month\n",
    "           Managed = x.Return * 12.0 \n",
    "           MktRf = ff3Map[x.Month].MktRf * 12.0 |})\n",
    "\n",
    "open NovaSBE.Finance.Ols\n",
    "\n",
    "Ols(\"Managed ~ MktRf\", regData).fit().summary()\n"
   ]
  }
,
  {
   "cell_type": "markdown",
   "metadata": {},
   
   "source": [
    "### Mean-variance optimal managed vols\n",
    "\n",
    "Mean-variance utility\n",
    "\n"
   ]
  }
,
  {
   "cell_type": "code",
   "metadata": {
    "dotnet_interactive": {
     "language": "fsharp"
    },
    "polyglot_notebook": {
     "kernelName": "fsharp"
    }
   },
   "execution_count": 13, "outputs": [],
   "source": [
    "let mvUtility gamma mu sigma =\n",
    "    mu - 0.5 * gamma * sigma ** 2.0\n",
    "\n",
    "/// Annualized buy-and-hold sample return.\n",
    "let buyHoldAvg = buyHold |\u003e Array.averageBy (fun x -\u003e 12.0 * x.Return)\n",
    "\n",
    "printfn $\"Mean: {buyHoldAvg}\"\n",
    "printfn $\"StDev: {buyHoldStDev}\"\n",
    "\n",
    "mvUtility 3.0 buyHoldAvg buyHoldStDev\n"
   ]
  }
,
  {
   "cell_type": "markdown",
   "metadata": {},
   
   "source": [
    "Function to to it for our managed portfolios.\n",
    "\n"
   ]
  }
,
  {
   "cell_type": "code",
   "metadata": {
    "dotnet_interactive": {
     "language": "fsharp"
    },
    "polyglot_notebook": {
     "kernelName": "fsharp"
    }
   },
   "execution_count": 14, "outputs": [],
   "source": [
    "let managedMVUtility gamma (xs: seq\u003cManagedObs\u003e) =\n",
    "    let avg = xs |\u003e Seq.averageBy (fun x -\u003e 12.0 * x.Return)\n",
    "    let stDev = xs |\u003e annualizedStDev\n",
    "    mvUtility gamma avg stDev\n",
    "\n",
    "let portSummary name port =\n",
    "    printfn $\"_________\\n{name}\\nNumber of months: {Seq.length port}\"\n",
    "    printfn $\"Sharpe: {port |\u003e sharpe}\"\n",
    "    printfn $\"MV Utility: {managedMVUtility 3.0 port}\"\n",
    "    printfn $\"annaluzed stdev: {port |\u003e annualizedStDev}\"\n",
    "\n",
    "portSummary \"Buy and Hold\" buyHold\n",
    "portSummary \"Unnormalized Managed Vol\" simpleManaged\n",
    "portSummary \"Normalized Managed Vol\" simpleManaged2\n"
   ]
  }
,
  {
   "cell_type": "markdown",
   "metadata": {},
   
   "source": [
    "Mean-variance optimal weight.\n",
    "\n"
   ]
  }
,
  {
   "cell_type": "code",
   "metadata": {
    "dotnet_interactive": {
     "language": "fsharp"
    },
    "polyglot_notebook": {
     "kernelName": "fsharp"
    }
   },
   "execution_count": 15, "outputs": [],
   "source": [
    "let mvWeight gamma mu sigma =\n",
    "    mu / (gamma * sigma ** 2.0)\n",
    "\n",
    "mvWeight 3.0 buyHoldAvg buyHoldStDev\n"
   ]
  }
,
  {
   "cell_type": "markdown",
   "metadata": {},
   
   "source": [
    "Managed portfolio assuming we knew the full-sample mean and standard deviation ahead of time.\n",
    "We cannot use this to trade, because it uses future information.\n",
    "But it\u0027s a good benchmark.\n",
    "\n"
   ]
  }
,
  {
   "cell_type": "code",
   "metadata": {
    "dotnet_interactive": {
     "language": "fsharp"
    },
    "polyglot_notebook": {
     "kernelName": "fsharp"
    }
   },
   "execution_count": 16, "outputs": [],
   "source": [
    "let w_staticMuSigma = mvWeight 3.0 buyHoldAvg buyHoldStDev\n",
    "let managedStaticMuSigma =\n",
    "    buyHold\n",
    "    |\u003e Array.map (fun x -\u003e \n",
    "        { x with \n",
    "            RiskyWeight = w_staticMuSigma\n",
    "            Return = w_staticMuSigma * x.Return })\n",
    "\n",
    "portSummary \"Managed, known mu and sigma\" managedStaticMuSigma\n",
    "portSummary \"Managed, base case\" simpleManaged2\n"
   ]
  }
,
  {
   "cell_type": "markdown",
   "metadata": {},
   
   "source": [
    "Let\u0027s now try with a static mean return estimate, but we\u0027ll use the rolling variance estimate.\n",
    "\n"
   ]
  }
,
  {
   "cell_type": "code",
   "metadata": {
    "dotnet_interactive": {
     "language": "fsharp"
    },
    "polyglot_notebook": {
     "kernelName": "fsharp"
    }
   },
   "execution_count": 17, "outputs": [],
   "source": [
    "/// Calculates a mean-variance optimal port given gamma and estimates of mu\u0027s and sigma\u0027s.\n",
    "let managedMVPort gamma muEstimates varEstimates =\n",
    "    ff3\n",
    "    |\u003e Array.choose (fun x -\u003e\n",
    "        let sd = varEstimates |\u003e Map.tryFind x.Date |\u003e Option.map sqrt\n",
    "        let mu = muEstimates |\u003e Map.tryFind x.Date\n",
    "        match sd, mu with\n",
    "        | Some sd, Some mu -\u003e\n",
    "            let w = mvWeight 3.0 mu sd\n",
    "            let result = \n",
    "                { Month = x.Date\n",
    "                  RiskyWeight = w\n",
    "                  Return = w * x.MktRf }\n",
    "            Some result\n",
    "        | _ -\u003e None)\n"
   ]
  }
,
  {
   "cell_type": "markdown",
   "metadata": {},
   
   "source": [
    "Full sample \u0027estimates\u0027\n",
    "\n"
   ]
  }
,
  {
   "cell_type": "code",
   "metadata": {
    "dotnet_interactive": {
     "language": "fsharp"
    },
    "polyglot_notebook": {
     "kernelName": "fsharp"
    }
   },
   "execution_count": 18, "outputs": [],
   "source": [
    "let muEstFull = [ for x in ff3 do x.Date, buyHoldAvg / 12.0 ] |\u003e Map\n",
    "let sigmaEstFull = [ for x in ff3 do x.Date, buyHoldStDev / sqrt 12.0 ] |\u003e Map\n",
    "\n",
    "portSummary \"Managed, static mu and static sigma\" managedStaticMuSigma\n",
    "portSummary \"Managed, static mu and rolling sigma\" (managedMVPort 3.0 muEstFull sigmaEstFull)\n"
   ]
  }
,
  {
   "cell_type": "markdown",
   "metadata": {},
   
   "source": [
    "Now actual static mu but rolling sigma estimates.\n",
    "\n"
   ]
  }
,
  {
   "cell_type": "code",
   "metadata": {
    "dotnet_interactive": {
     "language": "fsharp"
    },
    "polyglot_notebook": {
     "kernelName": "fsharp"
    }
   },
   "execution_count": 19, "outputs": [],
   "source": [
    "let managedStaticMuRollingSigma = managedMVPort 3.0 muEstFull mmVarPred\n",
    "\n",
    "portSummary \"Managd, static mu and rolling sigma\" managedStaticMuRollingSigma\n",
    "portSummary \"Managed, base case\" simpleManaged2\n"
   ]
  }
,
  {
   "cell_type": "markdown",
   "metadata": {},
   
   "source": [
    "How volatile is that portfolio?\n",
    "\n"
   ]
  }
,
  {
   "cell_type": "code",
   "metadata": {
    "dotnet_interactive": {
     "language": "fsharp"
    },
    "polyglot_notebook": {
     "kernelName": "fsharp"
    }
   },
   "execution_count": 20, "outputs": [],
   "source": [
    "let sigmaStaticMuRollingSigma = managedStaticMuRollingSigma |\u003e annualizedStDev\n",
    "sigmaStaticMuRollingSigma\n"
   ]
  }
,
  {
   "cell_type": "markdown",
   "metadata": {},
   
   "source": [
    "Let\u0027s try rescaling our static mu rolling sigma.\n",
    "\n"
   ]
  }
,
  {
   "cell_type": "code",
   "metadata": {
    "dotnet_interactive": {
     "language": "fsharp"
    },
    "polyglot_notebook": {
     "kernelName": "fsharp"
    }
   },
   "execution_count": 21, "outputs": [],
   "source": [
    "let managedStaticMuRollingSigma2 = \n",
    "    managedStaticMuRollingSigma\n",
    "    |\u003e Array.map (fun x -\u003e \n",
    "        let c = buyHoldStDev / sigmaStaticMuRollingSigma\n",
    "        { x with \n",
    "            RiskyWeight = x.RiskyWeight * c\n",
    "            Return = x.Return * c })\n",
    "\n",
    "portSummary \"Managed, static mu and rolling sigma\" managedStaticMuRollingSigma2\n",
    "portSummary \"Managed base case\" simpleManaged2\n"
   ]
  }
,
  {
   "cell_type": "markdown",
   "metadata": {},
   
   "source": [
    "Why is the ex-post rescaling so critical to the utility calculation?\n",
    "\n"
   ]
  }
,
  {
   "cell_type": "code",
   "metadata": {
    "dotnet_interactive": {
     "language": "fsharp"
    },
    "polyglot_notebook": {
     "kernelName": "fsharp"
    }
   },
   "execution_count": 22, "outputs": [],
   "source": [
    "let managedHiVolDays =\n",
    "    managedStaticMuRollingSigma\n",
    "    |\u003e Array.sortByDescending (fun x -\u003e abs x.Return)\n",
    "    |\u003e Array.take 10\n",
    "managedHiVolDays\n"
   ]
  }
,
  {
   "cell_type": "markdown",
   "metadata": {},
   
   "source": [
    "Let\u0027s compare predicted and realized vols on those bad miss days.\n",
    "\n"
   ]
  }
,
  {
   "cell_type": "code",
   "metadata": {
    "dotnet_interactive": {
     "language": "fsharp"
    },
    "polyglot_notebook": {
     "kernelName": "fsharp"
    }
   },
   "execution_count": 23, "outputs": [],
   "source": [
    "[ for x in managedHiVolDays do\n",
    "    let sd = sqrt (mmVarPred[x.Month]*12.0)\n",
    "    let realized = (sqrt 12.0) * abs ff3Map[x.Month].MktRf\n",
    "    {| Month = x.Month \n",
    "       RiskyWeight = x.RiskyWeight\n",
    "       Predicted = sd\n",
    "       Realized = realized |} ]\n"
   ]
  }
,
  {
   "cell_type": "markdown",
   "metadata": {},
   
   "source": [
    "We might be able to control this ex-ante by using reasonable leverage limits.\n",
    "\n"
   ]
  }
,
  {
   "cell_type": "code",
   "metadata": {
    "dotnet_interactive": {
     "language": "fsharp"
    },
    "polyglot_notebook": {
     "kernelName": "fsharp"
    }
   },
   "execution_count": 24, "outputs": [],
   "source": [
    "let managedMVPortLimited gamma muEstimates varEstimates =\n",
    "    ff3\n",
    "    |\u003e Array.choose (fun x -\u003e\n",
    "        let sd = varEstimates |\u003e Map.tryFind x.Date |\u003e Option.map sqrt\n",
    "        let mu = muEstimates |\u003e Map.tryFind x.Date\n",
    "        match sd, mu with\n",
    "        | Some sd, Some mu -\u003e\n",
    "            let w = mvWeight 3.0 mu sd\n",
    "            let w2 = \n",
    "                if w \u003e 2.0 then 2.0 \n",
    "                elif w \u003c 0.0 then 0.0 \n",
    "                else w\n",
    "            let result = \n",
    "                { Month = x.Date\n",
    "                  RiskyWeight = w2\n",
    "                  Return = w2 * x.MktRf }\n",
    "            Some result\n",
    "        | _ -\u003e None)\n",
    "\n",
    "let managedStaticMuRollingSigma3 = managedMVPortLimited 3.0 muEstFull mmVarPred\n",
    "\n",
    "\n",
    "portSummary \"Managed, static mu and rolling sigma\" managedStaticMuRollingSigma3\n",
    "portSummary \"Managed base case\" simpleManaged2\n",
    "portSummary \"Buy-and-hold\" buyHold\n"
   ]
  }
,
  {
   "cell_type": "markdown",
   "metadata": {},
   
   "source": [
    "Rolling \u0027mu estimates\u0027, because our portfolios still have a \"look-ahead\" bias becuase they know what\n",
    "future returns will be.\n",
    "\n"
   ]
  }
,
  {
   "cell_type": "code",
   "metadata": {
    "dotnet_interactive": {
     "language": "fsharp"
    },
    "polyglot_notebook": {
     "kernelName": "fsharp"
    }
   },
   "execution_count": 25, "outputs": [],
   "source": [
    "let muExpandingEstimate =\n",
    "    let mutable acc = 0.0\n",
    "    [| for i = 0 to ff3.Length-1 do\n",
    "        acc \u003c- acc + ff3[i].MktRf\n",
    "        ff3[i].Date, acc / (float i + 1.0) |]\n",
    "\n",
    "muExpandingEstimate\n",
    "|\u003e Chart.Line\n"
   ]
  }
,
  {
   "cell_type": "markdown",
   "metadata": {},
   
   "source": [
    "How big of a burn-in period to use? Let\u0027s just use post-war period.\n",
    "\n"
   ]
  }
,
  {
   "cell_type": "code",
   "metadata": {
    "dotnet_interactive": {
     "language": "fsharp"
    },
    "polyglot_notebook": {
     "kernelName": "fsharp"
    }
   },
   "execution_count": 26, "outputs": [],
   "source": [
    "let muExpandingMap = muExpandingEstimate |\u003e Map\n",
    "let managedEstAll = \n",
    "    managedMVPortLimited 3.0 muExpandingMap mmVarPred\n",
    "    |\u003e Array.filter (fun x -\u003e x.Month \u003e= DateTime(1945,1,1))\n",
    "\n",
    "let buyHold1945 = buyHold |\u003e Array.filter (fun x -\u003e x.Month \u003e= DateTime(1945,1,1))\n",
    "let simpleManaged21945 = \n",
    "    let since1945 = simpleManaged2 |\u003e Array.filter (fun x -\u003e x.Month \u003e= DateTime(1945,1,1))\n",
    "    let sd = since1945 |\u003e annualizedStDev\n",
    "    let sdBuyHold = buyHold1945 |\u003e annualizedStDev\n",
    "    let c = sdBuyHold / sd\n",
    "    since1945\n",
    "    |\u003e Array.map (fun x -\u003e \n",
    "        { x with \n",
    "            RiskyWeight = x.RiskyWeight * c \n",
    "            Return = x.Return * c })\n",
    "\n",
    "portSummary \"Managed, rolling mu and rolling sigma\" managedEstAll\n",
    "portSummary \"Managed base case\" simpleManaged21945\n",
    "portSummary \"Buy-and-hold\" buyHold1945\n"
   ]
  }
,
  {
   "cell_type": "markdown",
   "metadata": {},
   
   "source": [
    "Comparin decades.\n",
    "\n"
   ]
  }
,
  {
   "cell_type": "code",
   "metadata": {
    "dotnet_interactive": {
     "language": "fsharp"
    },
    "polyglot_notebook": {
     "kernelName": "fsharp"
    }
   },
   "execution_count": 27, "outputs": [],
   "source": [
    "let buyHold1945Decades = buyHold1945 |\u003e sharpeByDecade\n",
    "let managedEstAllDecades = managedEstAll |\u003e sharpeByDecade\n",
    "\n",
    "for i = 0 to buyHold1945Decades.Length-1 do \n",
    "    printfn $\"Decade: {buyHold1945Decades[i].Decade}\"\n",
    "    printfn $\"  Buy-Hold/Managed: %.2f{buyHold1945Decades[i].Sharpe} / %.2f{managedEstAllDecades[i].Sharpe}\"\n"
   ]
  }
,
  {
   "cell_type": "markdown",
   "metadata": {},
   
   "source": [
    "### Comparing Vol forecasts\n",
    "\n"
   ]
  }
,
  {
   "cell_type": "code",
   "metadata": {
    "dotnet_interactive": {
     "language": "fsharp"
    },
    "polyglot_notebook": {
     "kernelName": "fsharp"
    }
   },
   "execution_count": 28, "outputs": [],
   "source": [
    "type ReturnObs = { Date: DateTime; Return: float}\n",
    "\n",
    "type VolatilityPrediction = \n",
    "    { /// First date the prediction is valid for\n",
    "      Date: DateTime\n",
    "      /// The volatility prediction\n",
    "      PredictedVol: float }\n",
    "\n",
    "/// \u003csummary\u003eCalculates realized volatity of a return observation using an exponential weight.\u003c/summary\u003e\n",
    "/// \u003cparam name=\"width\"\u003eThe window width for calculating realized vol.\u003c/param\u003e\n",
    "/// \u003cparam name=\"lambda\"\u003eThe exponential weight\u003c/param\u003e\n",
    "/// \u003cparam name=\"data\"\u003eThe input data\u003c/param\u003e\n",
    "/// \u003creturns\u003eA prediction and date the prediction is valid for.\u003c/returns\u003e\n",
    "let expRealizedVol (width: int) (lambda: float) (data: array\u003cReturnObs\u003e) =\n",
    "    data\n",
    "    |\u003e Array.sortByDescending (fun x -\u003e x.Date)\n",
    "    |\u003e Array.windowed (width + 1)\n",
    "    |\u003e Array.Parallel.map (fun window -\u003e\n",
    "        let mu = window[1..] |\u003e Array.averageBy (fun x -\u003e x.Return)\n",
    "        let mutable acc = 0.0\n",
    "        for t = 1 to width do \n",
    "            let w = (1.0 - lambda)*lambda**(float t - 1.0)\n",
    "            acc \u003c- acc + w * (window[t].Return - mu)**2.0\n",
    "        { VolatilityPrediction.Date = window[0].Date; PredictedVol = sqrt acc })\n",
    "    |\u003e Array.rev\n",
    "\n",
    "let expVarPred =\n",
    "    ff3Daily\n",
    "    |\u003e Array.map (fun x -\u003e { Date = x.Date; Return = x.MktRf })\n",
    "    |\u003e expRealizedVol 500 0.94 \n",
    "    |\u003e Array.groupBy (fun x -\u003e DateTime(x.Date.Year, x.Date.Month, 1))\n",
    "    |\u003e Array.map (fun (month, xs) -\u003e\n",
    "        let last = xs |\u003e Array.sortBy (fun x -\u003e x.Date) |\u003e Array.last\n",
    "        month.AddMonths(1), 22.0 * last.PredictedVol ** 2.0)\n",
    "    |\u003e Map\n"
   ]
  }
,
  {
   "cell_type": "markdown",
   "metadata": {},
   
   "source": [
    "Compare vol accuracies\n",
    "\n"
   ]
  }
,
  {
   "cell_type": "code",
   "metadata": {
    "dotnet_interactive": {
     "language": "fsharp"
    },
    "polyglot_notebook": {
     "kernelName": "fsharp"
    }
   },
   "execution_count": 29, "outputs": [],
   "source": [
    "let checkVols =\n",
    "    [| for dt in expVarPred.Keys |\u003e Seq.filter (fun x -\u003e x \u003e= DateTime(1945,1,1) ) do\n",
    "        if expVarPred.ContainsKey (dt.AddMonths(1)) then\n",
    "           {| Date = dt\n",
    "              ExpVar = expVarPred[dt]\n",
    "              Var22d = mmVarPred[dt]\n",
    "              Actual = mmVarPred[dt.AddMonths(1)]|}|]\n"
   ]
  }
,
  {
   "cell_type": "markdown",
   "metadata": {},
   
   "source": [
    "Exponential vol\n",
    "\n"
   ]
  }
,
  {
   "cell_type": "code",
   "metadata": {
    "dotnet_interactive": {
     "language": "fsharp"
    },
    "polyglot_notebook": {
     "kernelName": "fsharp"
    }
   },
   "execution_count": 30, "outputs": [],
   "source": [
    "Ols(\"Actual~ExpVar\", checkVols).fit().summary()\n"
   ]
  }
,
  {
   "cell_type": "markdown",
   "metadata": {},
   
   "source": [
    "Rolling vol\n",
    "\n"
   ]
  }
,
  {
   "cell_type": "code",
   "metadata": {
    "dotnet_interactive": {
     "language": "fsharp"
    },
    "polyglot_notebook": {
     "kernelName": "fsharp"
    }
   },
   "execution_count": 31, "outputs": [],
   "source": [
    "Ols(\"Actual~Var22d\", checkVols).fit().summary()\n"
   ]
  }
,
  {
   "cell_type": "markdown",
   "metadata": {},
   
   "source": [
    "Compare ports\n",
    "\n"
   ]
  }
,
  {
   "cell_type": "code",
   "metadata": {
    "dotnet_interactive": {
     "language": "fsharp"
    },
    "polyglot_notebook": {
     "kernelName": "fsharp"
    }
   },
   "execution_count": 32, "outputs": [],
   "source": [
    "let managedExpVar = \n",
    "    managedMVPortLimited 3.0 muExpandingMap expVarPred\n",
    "    |\u003e Array.filter (fun x -\u003e x.Month \u003e= DateTime(1945,1,1))\n",
    "\n",
    "portSummary \"Managed, rolling mu and exp. vol\" managedExpVar\n",
    "portSummary \"Managed, rolling mu and rolling vol\" managedEstAll\n",
    "portSummary \"Buy and hold\" buyHold1945\n"
   ]
  }
 ],
 "metadata": {
  "kernelspec": {
   "display_name": ".NET (F#)",
   "language": "F#",
   "name": ".net-fsharp"
  },
  "language_info": {
   "file_extension": ".fs",
   "mimetype": "text/x-fsharp",
   "name": "polyglot-notebook",
   "pygments_lexer": "fsharp"
  },
  "polyglot_notebook": {
   "kernelInfo": {
    "defaultKernelName": "fsharp",
    "items": [
     {
      "aliases": [],
      "languageName": "fsharp",
      "name": "fsharp"
     }
    ]
   }
  }
 },
 "nbformat": 4,
 "nbformat_minor": 2
}

