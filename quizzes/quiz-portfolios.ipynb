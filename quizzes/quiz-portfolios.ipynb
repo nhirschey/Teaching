
{
 "cells": [
  {
   "cell_type": "markdown",
   "metadata": {},
   
   "source": [
    "[![Binder](../img/badge-binder.svg)](https://mybinder.org/v2/gh/nhirschey/teaching/gh-pages?filepath=quizzes/quiz-portfolios.ipynb)\u0026emsp;\n",
    "[![Script](../img/badge-script.svg)](/Teaching//quizzes/quiz-portfolios.fsx)\u0026emsp;\n",
    "[![Notebook](../img/badge-notebook.svg)](/Teaching//quizzes/quiz-portfolios.ipynb)\n",
    "\n",
    "# Some good things to reference\n",
    "\n",
    "[Anonymous Records](https://docs.microsoft.com/en-us/dotnet/fsharp/language-reference/anonymous-records#syntax). You can read the above link for details, but the point of these is quite simple.\n",
    "\n",
    "Records have been our main type for holding data for an observation. We\u0027ve typically defined these ahead of time with a name before using them. This is good for important types that you will use frequently.\n",
    "\n",
    "If you\u0027re using a particular record in only a few lines of code, then it can feel cumbersome to define the type beforehand. Anonymous records are a good solution in these circumstances. They are records that you can essentially use like regular records that we\u0027ve been using, but you don\u0027t have to define the name of the record ahead of time.\n",
    "\n",
    "I rarely use anonymous records, but you might find them useful for exploratory data manipulation. They\u0027re also kind of nice for these short problems because I don\u0027t need to define a record for each problem.\n",
    "\n",
    "# Anonymous records\n",
    "\n",
    "## Question 1\n",
    "\n",
    "0 Create a **record** named `ExampleRec` that has an `X` field of type int and a `Y` field of type int. Create an example `ExampleRec` and assign it to a value named `r`.\n",
    "\n",
    "1 Create an **anonymous record** that has an `X` field of type int and a `Y` field of type int. Create an example of the anonymous record and assign it to a value named `ar`.\n",
    "\n",
    "\u003cdiv style=\"padding-left: 40px;\"\u003e\n",
    "\u003cp\u003e \n",
    "\u003cspan\u003e\n",
    "\u003cdetails\u003e\n",
    "\u003csummary\u003e\u003cp style=\"display:inline\"\u003eanswer\u003c/p\u003e\u003c/summary\u003e\n",
    "\n",
    "```\n",
    "type ExampleRec =\n",
    "  {\n",
    "    X: int\n",
    "    Y: int\n",
    "  }\n",
    "val r: ExampleRec = { X = 1\n",
    "                      Y = 2 }\n",
    "val ar: {| X: int; Y: int |} = { X = 1\n",
    "                                 Y = 2 }\n",
    "```\n",
    "\n",
    "\u003c/details\u003e\n",
    "\u003c/span\u003e\n",
    "\u003c/p\u003e\n",
    "\u003c/div\u003e\n",
    "\n"
   ]
  }
,
  {
   "cell_type": "code",
   "metadata": {
    "dotnet_interactive": {
     "language": "fsharp"
    },
    "polyglot_notebook": {
     "kernelName": "fsharp"
    }
   },
   "execution_count": null, "outputs": [],
   "source": [
    "// write your code here, see website for solution.\n"
   ]
  }
,
  {
   "cell_type": "markdown",
   "metadata": {},
   
   "source": [
    "## Question 2\n",
    "\n",
    "Imagine you have this list\n",
    "\n"
   ]
  }
,
  {
   "cell_type": "code",
   "metadata": {
    "dotnet_interactive": {
     "language": "fsharp"
    },
    "polyglot_notebook": {
     "kernelName": "fsharp"
    }
   },
   "execution_count": 4, "outputs": [],
   "source": [
    "open System\n",
    "type ArExample = { Date : DateTime; Value: float}\n",
    "let arr = [ { Date = DateTime(1990,1,1); Value = 1.25}\n",
    "            { Date = DateTime(1990,1,2); Value = 2.25}\n",
    "            { Date = DateTime(1991,1,1); Value = 3.25} ]\n"
   ]
  }
,
  {
   "cell_type": "markdown",
   "metadata": {},
   
   "source": [
    "0 Group the observations by a tuple of `(year,month)` and find the \n",
    "minimum value for each group. Report the result as a tuple of the group\n",
    "and the minimum value [so it will be `((year, month), minValue)`]().\n",
    "\n",
    "1 Now, the same thing with anonymous records.\n",
    "Group the observations by an Anonymous Record `{| Year = year; Month= month|}` and find the\n",
    "minimum value for each group. Report the result as an Anonymous record with a Group\n",
    "field for the group and a value field for the minimum value [so it will be\n",
    "`{| Group = {| Year = year; Month= month|}; Value = minValue |}`]().\n",
    "\n",
    "\u003cdiv style=\"padding-left: 40px;\"\u003e\n",
    "\u003cp\u003e \n",
    "\u003cspan\u003e\n",
    "\u003cdetails\u003e\n",
    "\u003csummary\u003e\u003cp style=\"display:inline\"\u003eanswer\u003c/p\u003e\u003c/summary\u003e\n",
    "\n",
    "```\n",
    "val it: {| Group: {| Month: int; Year: int |}; Value: float |} list =\n",
    "  [{ Group = { Month = 1\n",
    "               Year = 1990 }\n",
    "     Value = 1.25 }; { Group = { Month = 1\n",
    "                                 Year = 1991 }\n",
    "                       Value = 3.25 }]\n",
    "```\n",
    "\n",
    "\u003c/details\u003e\n",
    "\u003c/span\u003e\n",
    "\u003c/p\u003e\n",
    "\u003c/div\u003e\n",
    "\n"
   ]
  }
,
  {
   "cell_type": "code",
   "metadata": {
    "dotnet_interactive": {
     "language": "fsharp"
    },
    "polyglot_notebook": {
     "kernelName": "fsharp"
    }
   },
   "execution_count": null, "outputs": [],
   "source": [
    "// write your code here, see website for solution.\n"
   ]
  }
,
  {
   "cell_type": "markdown",
   "metadata": {},
   
   "source": [
    "# Portfolio Returns\n",
    "\n",
    "## Question 1\n",
    "\n",
    "Imagine that you have the following positions in your portfolio.\n",
    "For each position you have a weight and a return.\n",
    "What is the return of the entire portfolio?\n",
    "\n"
   ]
  }
,
  {
   "cell_type": "code",
   "metadata": {
    "dotnet_interactive": {
     "language": "fsharp"
    },
    "polyglot_notebook": {
     "kernelName": "fsharp"
    }
   },
   "execution_count": 6, "outputs": [
          {
           "data": {
            "text/html": ["",
"",
"\u003cdiv style=\"padding-left: 40px;\"\u003e",
"",
"\u003cp\u003e ",
"",
"\u003cspan\u003e",
"",
"\u003cdetails\u003e",
"",
"\u003csummary\u003e\u003cp style=\"display:inline\"\u003eanswer\u003c/p\u003e\u003c/summary\u003e",
"",
"",
"",
""]
        },
           "execution_count": 6,
           "metadata": {},
           "output_type": "execute_result"
          },

          {
           "data": {
            "text/plain": ["val stockAndBondPort: float = 0.0625",
"",
"val weightXreturn: float list = [0.025; 0.0375]",
"",
"val stockAndBondPort2: float = 0.0625",
"",
"val it: bool = true"]
        },
           "execution_count": 6,
           "metadata": {},
           "output_type": "execute_result"
          },

          {
           "data": {
            "text/html": ["",
"",
"",
"",
"\u003c/details\u003e",
"",
"\u003c/span\u003e",
"",
"\u003c/p\u003e",
"",
"\u003c/div\u003e",
"",
""]
        },
           "execution_count": 6,
           "metadata": {},
           "output_type": "execute_result"
          }],
   "source": [
    "type PortReturnPos = { Id: string;  Weight: float; Return: float}\n",
    "let stockPos = { Id = \"stock\"; Weight = 0.25; Return = 0.1 }\n",
    "let bondPos = { Id = \"bond\"; Weight = 0.75; Return = 0.05}\n"
   ]
  }
,
  {
   "cell_type": "code",
   "metadata": {
    "dotnet_interactive": {
     "language": "fsharp"
    },
    "polyglot_notebook": {
     "kernelName": "fsharp"
    }
   },
   "execution_count": null, "outputs": [],
   "source": [
    "// write your code here, see website for solution.\n"
   ]
  }
,
  {
   "cell_type": "markdown",
   "metadata": {},
   
   "source": [
    "## Question 2\n",
    "\n",
    "Imagine that you have the following positions in your portfolio.\n",
    "For each position you have a weight and a return.\n",
    "What is the return of the entire portfolio?\n",
    "\n"
   ]
  }
,
  {
   "cell_type": "code",
   "metadata": {
    "dotnet_interactive": {
     "language": "fsharp"
    },
    "polyglot_notebook": {
     "kernelName": "fsharp"
    }
   },
   "execution_count": 8, "outputs": [
          {
           "data": {
            "text/html": ["",
"",
"\u003cdiv style=\"padding-left: 40px;\"\u003e",
"",
"\u003cp\u003e ",
"",
"\u003cspan\u003e",
"",
"\u003cdetails\u003e",
"",
"\u003csummary\u003e\u003cp style=\"display:inline\"\u003eanswer\u003c/p\u003e\u003c/summary\u003e",
"",
"",
"",
""]
        },
           "execution_count": 8,
           "metadata": {},
           "output_type": "execute_result"
          },

          {
           "data": {
            "text/plain": ["val threeAssetPortfolioReturn: float = 0.01",
"",
"val threeAssetPortfolioReturn2: float = 0.01",
"",
"val threeAssetPortfolioReturn3: float = 0.01"]
        },
           "execution_count": 8,
           "metadata": {},
           "output_type": "execute_result"
          },

          {
           "data": {
            "text/html": ["",
"",
"",
"",
"\u003c/details\u003e",
"",
"\u003c/span\u003e",
"",
"\u003c/p\u003e",
"",
"\u003c/div\u003e",
"",
""]
        },
           "execution_count": 8,
           "metadata": {},
           "output_type": "execute_result"
          }],
   "source": [
    "let positions =\n",
    "    [ { Id = \"stock\"; Weight = 0.25; Return = 0.12 }\n",
    "      { Id = \"bond\"; Weight = 0.25; Return = 0.22 }\n",
    "      { Id = \"real-estate\"; Weight = 0.5; Return = -0.15 } ]\n"
   ]
  }
,
  {
   "cell_type": "code",
   "metadata": {
    "dotnet_interactive": {
     "language": "fsharp"
    },
    "polyglot_notebook": {
     "kernelName": "fsharp"
    }
   },
   "execution_count": null, "outputs": [],
   "source": [
    "// write your code here, see website for solution.\n"
   ]
  }
,
  {
   "cell_type": "markdown",
   "metadata": {},
   
   "source": [
    "## Question 3\n",
    "\n",
    "Imagine that you have the following positions in your portfolio.\n",
    "For each position you have a weight and a return.\n",
    "What is the return of the entire portfolio?\n",
    "\n"
   ]
  }
,
  {
   "cell_type": "code",
   "metadata": {
    "dotnet_interactive": {
     "language": "fsharp"
    },
    "polyglot_notebook": {
     "kernelName": "fsharp"
    }
   },
   "execution_count": 10, "outputs": [
          {
           "data": {
            "text/html": ["",
"",
"\u003cdiv style=\"padding-left: 40px;\"\u003e",
"",
"\u003cp\u003e ",
"",
"\u003cspan\u003e",
"",
"\u003cdetails\u003e",
"",
"\u003csummary\u003e\u003cp style=\"display:inline\"\u003eanswer\u003c/p\u003e\u003c/summary\u003e",
"",
"",
"",
""]
        },
           "execution_count": 10,
           "metadata": {},
           "output_type": "execute_result"
          },

          {
           "data": {
            "text/plain": ["val positionsWithShortReturn: float = -0.175"]
        },
           "execution_count": 10,
           "metadata": {},
           "output_type": "execute_result"
          },

          {
           "data": {
            "text/html": ["",
"",
"",
"",
"\u003c/details\u003e",
"",
"\u003c/span\u003e",
"",
"\u003c/p\u003e",
"",
"\u003c/div\u003e",
"",
""]
        },
           "execution_count": 10,
           "metadata": {},
           "output_type": "execute_result"
          }],
   "source": [
    "let positionsWithShort =\n",
    "    [ { Id = \"stock\"; Weight = 0.25; Return = 0.12 }\n",
    "      { Id = \"bond\"; Weight = -0.25; Return = 0.22 }\n",
    "      { Id = \"real-estate\"; Weight = 1.0; Return = -0.15 } ]\n"
   ]
  }
,
  {
   "cell_type": "code",
   "metadata": {
    "dotnet_interactive": {
     "language": "fsharp"
    },
    "polyglot_notebook": {
     "kernelName": "fsharp"
    }
   },
   "execution_count": null, "outputs": [],
   "source": [
    "// write your code here, see website for solution.\n"
   ]
  }
,
  {
   "cell_type": "markdown",
   "metadata": {},
   
   "source": [
    "# Sharpe Ratios\n",
    "\n",
    "## Question 1\n",
    "\n",
    "Imagine that you have the following array of **annual** returns in\n",
    "excess of the risk-free rate. What is the **annualized** Sharpe ratio?\n",
    "\n"
   ]
  }
,
  {
   "cell_type": "code",
   "metadata": {
    "dotnet_interactive": {
     "language": "fsharp"
    },
    "polyglot_notebook": {
     "kernelName": "fsharp"
    }
   },
   "execution_count": 12, "outputs": [
          {
           "data": {
            "text/html": ["",
"",
"\u003cdiv style=\"padding-left: 40px;\"\u003e",
"",
"\u003cp\u003e ",
"",
"\u003cspan\u003e",
"",
"\u003cdetails\u003e",
"",
"\u003csummary\u003e\u003cp style=\"display:inline\"\u003eanswer\u003c/p\u003e\u003c/summary\u003e",
"",
"",
"",
""]
        },
           "execution_count": 12,
           "metadata": {},
           "output_type": "execute_result"
          },

          {
           "data": {
            "text/plain": ["[Loading C:\\Users\\runneradmin\\.packagemanagement\\nuget\\Cache\\ec63001b4149383af67dc5083312da4ecf34b844b655d861ca5bad281c016ede.fsx]",
"",
"module FSI_0051.",
"",
"       Ec63001b4149383af67dc5083312da4ecf34b844b655d861ca5bad281c016ede",
"",
"",
"",
"val retsAvg: float = 0.004",
"",
"val retsStdDev: float = 0.241516045",
"",
"val retsSharpeRatio: float = 0.01656204663"]
        },
           "execution_count": 12,
           "metadata": {},
           "output_type": "execute_result"
          },

          {
           "data": {
            "text/html": ["",
"",
"",
"",
"\u003c/details\u003e",
"",
"\u003c/span\u003e",
"",
"\u003c/p\u003e",
"",
"\u003c/div\u003e",
"",
""]
        },
           "execution_count": 12,
           "metadata": {},
           "output_type": "execute_result"
          }],
   "source": [
    "let rets = [ 0.1; -0.4; 0.2; 0.15; -0.03 ]\n",
    "//Note that the units are such that 0.1 is 10%.\n"
   ]
  }
,
  {
   "cell_type": "code",
   "metadata": {
    "dotnet_interactive": {
     "language": "fsharp"
    },
    "polyglot_notebook": {
     "kernelName": "fsharp"
    }
   },
   "execution_count": null, "outputs": [],
   "source": [
    "// write your code here, see website for solution.\n"
   ]
  }
,
  {
   "cell_type": "markdown",
   "metadata": {},
   
   "source": [
    "## Question 2\n",
    "\n",
    "Imagine that you have the following array of **monthly** returns in\n",
    "excess of the risk-free rate. What is the **annualized** Sharpe ratio?\n",
    "\n",
    "```fsharp\n",
    "let rets = [ 0.1; -0.4; 0.2; 0.15; -0.03 ]\n",
    "//Note that the units are such that 0.1 is 10%.\n",
    "```\n",
    "\u003cdiv style=\"padding-left: 40px;\"\u003e\n",
    "\u003cp\u003e \n",
    "\u003cspan\u003e\n",
    "\u003cdetails\u003e\n",
    "\u003csummary\u003e\u003cp style=\"display:inline\"\u003eanswer\u003c/p\u003e\u003c/summary\u003e\n",
    "\n",
    "```\n",
    "val monthlyRetsAnnualizedAvg: float = 0.048\n",
    "val monthlyRetsAnnualizedAvg2: float = 0.048\n",
    "val monthlyRetsAvg: float = 0.004\n",
    "val monthlyRetsAnnualizedAvg3: float = 0.048\n",
    "val monthlyRetsAnnualizedSd: float = 0.8366361216\n",
    "val monthlyRetsSd: float = 0.241516045\n",
    "val monthlyRetsAnnualizedSd2: float = 0.8366361216\n",
    "val annualizedSharpeFromMonthly: float = 0.05737261249\n",
    "val annualizedSharpeFromMonthly2: float = 0.05737261249\n",
    "val it: bool = true\n",
    "```\n",
    "\n",
    "\u003c/details\u003e\n",
    "\u003c/span\u003e\n",
    "\u003c/p\u003e\n",
    "\u003c/div\u003e\n",
    "\n"
   ]
  }
,
  {
   "cell_type": "code",
   "metadata": {
    "dotnet_interactive": {
     "language": "fsharp"
    },
    "polyglot_notebook": {
     "kernelName": "fsharp"
    }
   },
   "execution_count": null, "outputs": [],
   "source": [
    "// write your code here, see website for solution.\n"
   ]
  }
,
  {
   "cell_type": "markdown",
   "metadata": {},
   
   "source": [
    "## Question 3\n",
    "\n",
    "Imagine that you have the following array of **daily** returns in\n",
    "excess of the risk-free rate. What is the **annualized** Sharpe ratio?\n",
    "\n",
    "```fsharp\n",
    "let rets = [ 0.1; -0.4; 0.2; 0.15; -0.03 ]\n",
    "//Note that the units are such that 0.1 is 10%.\n",
    "```\n",
    "\u003cdiv style=\"padding-left: 40px;\"\u003e\n",
    "\u003cp\u003e \n",
    "\u003cspan\u003e\n",
    "\u003cdetails\u003e\n",
    "\u003csummary\u003e\u003cp style=\"display:inline\"\u003eanswer\u003c/p\u003e\u003c/summary\u003e\n",
    "\n",
    "```\n",
    "val annualizedSharpeFromDaily: float = 0.2629143395\n",
    "val dailyAvgRet: float = 0.004\n",
    "val dailyStDevRet: float = 0.241516045\n",
    "val annualizedSharpeFromDaily2: float = 0.2629143395\n",
    "```\n",
    "\n",
    "\u003c/details\u003e\n",
    "\u003c/span\u003e\n",
    "\u003c/p\u003e\n",
    "\u003c/div\u003e\n",
    "\n"
   ]
  }
,
  {
   "cell_type": "code",
   "metadata": {
    "dotnet_interactive": {
     "language": "fsharp"
    },
    "polyglot_notebook": {
     "kernelName": "fsharp"
    }
   },
   "execution_count": null, "outputs": [],
   "source": [
    "// write your code here, see website for solution.\n"
   ]
  }
,
  {
   "cell_type": "markdown",
   "metadata": {},
   
   "source": [
    "# Risky weights\n",
    "\n",
    "## Question 1\n",
    "\n",
    "Assume that you are a mean-variance investor where your\n",
    "utility function has the form\n",
    "\n",
    "$$U = \\mu - \\frac{\\gamma}{2}\\sigma^2$$\n",
    "\n",
    "You plan to allocate only between a risky asset and the risk-free asset.\n",
    "Your risk aversion parameter $\\gamma=3$. For the risky asset, $\\mu=0.1$ and $\\sigma=0.2$. What is your optimal weight in the risky asset?\n",
    "\n",
    "\u003cdiv style=\"padding-left: 40px;\"\u003e\n",
    "\u003cp\u003e \n",
    "\u003cspan\u003e\n",
    "\u003cdetails\u003e\n",
    "\u003csummary\u003e\u003cp style=\"display:inline\"\u003eanswer\u003c/p\u003e\u003c/summary\u003e\n",
    "\n",
    "```\n",
    "val mu: float = 0.1\n",
    "val sigma: float = 0.2\n",
    "val gamma: float = 3.0\n",
    "val riskyWeight: float = 0.8333333333\n",
    "```\n",
    "\n",
    "\u003c/details\u003e\n",
    "\u003c/span\u003e\n",
    "\u003c/p\u003e\n",
    "\u003c/div\u003e\n",
    "\n"
   ]
  }
,
  {
   "cell_type": "code",
   "metadata": {
    "dotnet_interactive": {
     "language": "fsharp"
    },
    "polyglot_notebook": {
     "kernelName": "fsharp"
    }
   },
   "execution_count": null, "outputs": [],
   "source": [
    "// write your code here, see website for solution.\n"
   ]
  }
 ],
 "metadata": {
  "kernelspec": {
   "display_name": ".NET (F#)",
   "language": "F#",
   "name": ".net-fsharp"
  },
  "language_info": {
   "file_extension": ".fs",
   "mimetype": "text/x-fsharp",
   "name": "polyglot-notebook",
   "pygments_lexer": "fsharp"
  },
  "polyglot_notebook": {
   "kernelInfo": {
    "defaultKernelName": "fsharp",
    "items": [
     {
      "aliases": [],
      "languageName": "fsharp",
      "name": "fsharp"
     }
    ]
   }
  }
 },
 "nbformat": 4,
 "nbformat_minor": 2
}

