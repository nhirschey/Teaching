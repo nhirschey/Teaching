
{
 "cells": [
  {
   "cell_type": "markdown",
   "metadata": {},
   
   "source": [
    "[![Binder](img/badge-binder.svg)](https://mybinder.org/v2/gh/nhirschey/teaching/gh-pages?filepath=football-1-download-data.ipynb)\u0026emsp;\n",
    "[![Script](img/badge-script.svg)](/Teaching//football-1-download-data.fsx)\u0026emsp;\n",
    "[![Notebook](img/badge-notebook.svg)](/Teaching//football-1-download-data.ipynb)\n",
    "\n",
    "# Webscraping HTML to CSV\n",
    "\n",
    "\u003e Developed with [Davide Costa](https://github.com/DavideGCosta)\n",
    "\u003e \n",
    "\n",
    "For the **Football Players\u0027 Exercises** we are trying to scrape data from [Sports Reference\u0027s](https://www.sports-reference.com/) [Football Reference](https://fbref.com/en/) website. The particular data that we want to scrape is player data from the [Big 5 European Leauges table](https://fbref.com/en/comps/Big5/stats/players/Big-5-European-Leagues-Stats). This data consists on the stats of the players that played in the big 5 football european leagues in the most recent season. Since we need to scrape the data from a webpage and store it in a csv file we will need to use 2 type providers from [FSharp.Data](https://fsharp.github.io/FSharp.Data/):\n",
    "\n",
    "* We\u0027ll use the [HTML Type Provider](https://fsprojects.github.io/FSharp.Data/library/HtmlProvider.html) to scrape the html from the webpage and access the players\u0027 table.\n",
    "\n",
    "* We\u0027ll use the [CSV Type Provider](https://fsprojects.github.io/FSharp.Data/library/CsvProvider.html) to save the data to a csv file.\n",
    "\n",
    "Both type providers are located in `FSharp.Data` assembly. To use it we need to load and open `FSharp.Data`.\n",
    "\n"
   ]
  }
,
  {
   "cell_type": "code",
   "metadata": {
    "dotnet_interactive": {
     "language": "fsharp"
    },
    "polyglot_notebook": {
     "kernelName": "fsharp"
    }
   },
   "execution_count": 2, "outputs": [],
   "source": [
    "#r \"nuget: FSharp.Data, 5.0.2\"\n",
    "open FSharp.Data\n"
   ]
  }
,
  {
   "cell_type": "markdown",
   "metadata": {},
   
   "source": [
    "## Get the players\u0027 table using HTML type provider.\n",
    "\n",
    "We need to define the type of data that we\u0027re going to access.\n",
    "We do this by providing a sample of the data.\n",
    "The type provider uses the sample to generate code to read data with that format.\n",
    "\n"
   ]
  }
,
  {
   "cell_type": "code",
   "metadata": {
    "dotnet_interactive": {
     "language": "fsharp"
    },
    "polyglot_notebook": {
     "kernelName": "fsharp"
    }
   },
   "execution_count": 3, "outputs": [],
   "source": [
    "type Big5EuropeanLeagues = \n",
    "    HtmlProvider\u003c\"https://fbref.com/en/comps/Big5/2021-2022/stats/players/2021-2022-Big-5-European-Leagues-Stats\"\u003e\n"
   ]
  }
,
  {
   "cell_type": "markdown",
   "metadata": {},
   
   "source": [
    "The type `Big5EuropeanLeagues` contains information about the structure of the web page. It knows what the html is, it knows what the html tables are, etc.\n",
    "\n",
    "Now that we have the `Big5EuropeanLeagues` HTML type defined we can use `GetSample()` to load the sample webpage\n",
    "that we used to define the type.\n",
    "\n"
   ]
  }
,
  {
   "cell_type": "code",
   "metadata": {
    "dotnet_interactive": {
     "language": "fsharp"
    },
    "polyglot_notebook": {
     "kernelName": "fsharp"
    }
   },
   "execution_count": 4, "outputs": [],
   "source": [
    "let big5 = Big5EuropeanLeagues.GetSample()\n"
   ]
  }
,
  {
   "cell_type": "markdown",
   "metadata": {},
   
   "source": [
    "Now, we have the HTML of the webpage stored in the variable `big5`. Let\u0027s observe the first 200 characters of the HTML.\n",
    "\n"
   ]
  }
,
  {
   "cell_type": "code",
   "metadata": {
    "dotnet_interactive": {
     "language": "fsharp"
    },
    "polyglot_notebook": {
     "kernelName": "fsharp"
    }
   },
   "execution_count": null, "outputs": [
          {
           "data": {
            "text/plain": ["\"\u003c!DOCTYPE html\u003e",
"",
"\u003chtml data-version=\"klecko-\" data-root=\"/home/fb/deploy/www/base\" lang=\"en\" class=\"no-js\"\u003e",
"",
"  \u003chead\u003e",
"",
"    \u003cmeta charset=\"utf-8\" /\u003e\u003cmeta http-equiv=\"x-ua-compatible\" content=\"ie=edge\" /\""]
        },
           "execution_count": null,
           "metadata": {},
           "output_type": "execute_result"
          }],
   "source": [
    "big5.Html.ToString()[..200]\n"
   ]
  }
,
  {
   "cell_type": "markdown",
   "metadata": {},
   
   "source": [
    "From the tables available in the webpage, let\u0027s assign the player stats table to a variable called `footballers`.\n",
    "\n"
   ]
  }
,
  {
   "cell_type": "code",
   "metadata": {
    "dotnet_interactive": {
     "language": "fsharp"
    },
    "polyglot_notebook": {
     "kernelName": "fsharp"
    }
   },
   "execution_count": 6, "outputs": [],
   "source": [
    "let footballers = big5.Tables.``Player Standard Stats 2021-2022 Big 5 European Leagues``\n"
   ]
  }
,
  {
   "cell_type": "markdown",
   "metadata": {},
   
   "source": [
    "Now let\u0027s observe the first 3 table rows. The `Rows` property gives us an array of rows.\n",
    "We can index into the array using `[..2]` to limit it to the first 3 rows.\n",
    "\n"
   ]
  }
,
  {
   "cell_type": "code",
   "metadata": {
    "dotnet_interactive": {
     "language": "fsharp"
    },
    "polyglot_notebook": {
     "kernelName": "fsharp"
    }
   },
   "execution_count": null, "outputs": [
          {
           "data": {
            "text/plain": ["[|(\"1\", \"Max Aarons\", \"eng ENG\", \"DF\", \"Norwich City\", \"engPremier League\", \"21\",",
"   \"2000\", \"34\", \"32\", \"2,881\", \"32.0\", \"0\", \"2\", \"2\", \"0\", \"0\", \"0\", \"8\", \"0\",",
"   \"0.8\", \"0.8\", \"1.7\", \"2.5\", \"78\", \"117\", \"85\", \"0.00\", \"0.06\", \"0.06\", \"0.00\",",
"   \"0.06\", \"0.03\", \"0.05\", \"0.08\", \"0.03\", \"0.08\", \"Matches\");",
"  (\"2\", \"Yunis Abdelhamid\", \"ma MAR\", \"DF\", \"Reims\", \"frLigue 1\", \"33\", \"1987\",",
"   \"34\", \"34\", \"2,983\", \"33.1\", \"2\", \"0\", \"2\", \"2\", \"0\", \"0\", \"5\", \"1\", \"1.2\",",
"   \"1.2\", \"0.8\", \"2.0\", \"23\", \"119\", \"14\", \"0.06\", \"0.00\", \"0.06\", \"0.06\",",
"   \"0.06\", \"0.04\", \"0.02\", \"0.06\", \"0.04\", \"0.06\", \"Matches\");",
"  (\"3\", \"Salis Abdul Samed\", \"gh GHA\", \"MF\", \"Clermont Foot\", \"frLigue 1\", \"21\",",
"   \"2000\", \"31\", \"29\", \"2,462\", \"27.4\", \"1\", \"0\", \"1\", \"1\", \"0\", \"0\", \"12\", \"3\",",
"   \"0.7\", \"0.7\", \"0.9\", \"1.6\", \"24\", \"108\", \"47\", \"0.04\", \"0.00\", \"0.04\", \"0.04\",",
"   \"0.04\", \"0.03\", \"0.03\", \"0.06\", \"0.03\", \"0.06\", \"Matches\")|]"]
        },
           "execution_count": null,
           "metadata": {},
           "output_type": "execute_result"
          }],
   "source": [
    "footballers.Rows[..2]\n"
   ]
  }
,
  {
   "cell_type": "markdown",
   "metadata": {},
   
   "source": [
    "Let\u0027s look at the header fields in the table using the property `Headers`.\n",
    "\n"
   ]
  }
,
  {
   "cell_type": "code",
   "metadata": {
    "dotnet_interactive": {
     "language": "fsharp"
    },
    "polyglot_notebook": {
     "kernelName": "fsharp"
    }
   },
   "execution_count": 8, "outputs": [
          {
           "data": {
            "text/plain": ["Some",
"  [|\"Rk\"; \"Player\"; \"Nation\"; \"Pos\"; \"Squad\"; \"Comp\"; \"Age\"; \"Born\";",
"    \"Playing Time - MP\"; \"Playing Time - Starts\"; \"Playing Time - Min\";",
"    \"Playing Time - 90s\"; \"Performance - Gls\"; \"Performance - Ast\";",
"    \"Performance - G+A\"; \"Performance - G-PK\"; \"Performance - PK\";",
"    \"Performance - PKatt\"; \"Performance - CrdY\"; \"Performance - CrdR\";",
"    \"Expected - xG\"; \"Expected - npxG\"; \"Expected - xAG\"; \"Expected - npxG+xAG\";",
"    \"Progression - PrgC\"; \"Progression - PrgP\"; \"Progression - PrgR\";",
"    \"Per 90 Minutes - Gls\"; \"Per 90 Minutes - Ast\"; \"Per 90 Minutes - G+A\";",
"    \"Per 90 Minutes - G-PK\"; \"Per 90 Minutes - G+A-PK\"; \"Per 90 Minutes - xG\";",
"    \"Per 90 Minutes - xAG\"; \"Per 90 Minutes - xG+xAG\"; \"Per 90 Minutes - npxG\";",
"    \"Per 90 Minutes - npxG+xAG\"; \"Matches\"|]"]
        },
           "execution_count": 8,
           "metadata": {},
           "output_type": "execute_result"
          }],
   "source": [
    "footballers.Headers\n"
   ]
  }
,
  {
   "cell_type": "markdown",
   "metadata": {},
   
   "source": [
    "Let´s look at the first 5 rows of fields `Player` and `Age`.\n",
    "\n"
   ]
  }
,
  {
   "cell_type": "code",
   "metadata": {
    "dotnet_interactive": {
     "language": "fsharp"
    },
    "polyglot_notebook": {
     "kernelName": "fsharp"
    }
   },
   "execution_count": null, "outputs": [
          {
           "data": {
            "text/plain": ["[(\"Max Aarons\", \"21\"); (\"Yunis Abdelhamid\", \"33\"); (\"Salis Abdul Samed\", \"21\");",
" (\"Laurent Abergel\", \"28\"); (\"Charles Abi\", \"21\")]"]
        },
           "execution_count": null,
           "metadata": {},
           "output_type": "execute_result"
          }],
   "source": [
    "[ for row in footballers.Rows[..4] do row.Player, row.Age]\n"
   ]
  }
,
  {
   "cell_type": "markdown",
   "metadata": {},
   
   "source": [
    "## Clean the data\n",
    "\n",
    "The table data is not exactly what we need. To work with it, we need to clean it up.\n",
    "\n",
    "### Repeated headers\n",
    "\n",
    "The table header line repeats after every 25 players.\n",
    "We can see this if we look at the 26th row of the table.\n",
    "\n"
   ]
  }
,
  {
   "cell_type": "code",
   "metadata": {
    "dotnet_interactive": {
     "language": "fsharp"
    },
    "polyglot_notebook": {
     "kernelName": "fsharp"
    }
   },
   "execution_count": null, "outputs": [
          {
           "data": {
            "text/plain": ["(\"Rk\", \"Player\", \"Nation\", \"Pos\", \"Squad\", \"Comp\", \"Age\", \"Born\", \"MP\", \"Starts\",",
" \"Min\", \"90s\", \"Gls\", \"Ast\", \"G+A\", \"G-PK\", \"PK\", \"PKatt\", \"CrdY\", \"CrdR\", \"xG\",",
" \"npxG\", \"xAG\", \"npxG+xAG\", \"PrgC\", \"PrgP\", \"PrgR\", \"Gls\", \"Ast\", \"G+A\", \"G-PK\",",
" \"G+A-PK\", \"xG\", \"xAG\", \"xG+xAG\", \"npxG\", \"npxG+xAG\", \"Matches\")"]
        },
           "execution_count": null,
           "metadata": {},
           "output_type": "execute_result"
          }],
   "source": [
    "footballers.Rows[25]\n"
   ]
  }
,
  {
   "cell_type": "markdown",
   "metadata": {},
   
   "source": [
    "We can remove these lines by using [Array.filter](https://fsharp.github.io/fsharp-core-docs/reference/fsharp-collections-arraymodule.html#filter). `Array.filter` applies a function to each element of the array and\n",
    "returns only those elements where the function evaluates to `true`.\n",
    "We\u0027ll create a function that evaluates to `true` if the player\u0027s name **does not** equal `\"Player\"`\n",
    "\n"
   ]
  }
,
  {
   "cell_type": "code",
   "metadata": {
    "dotnet_interactive": {
     "language": "fsharp"
    },
    "polyglot_notebook": {
     "kernelName": "fsharp"
    }
   },
   "execution_count": 11, "outputs": [],
   "source": [
    "let footballersNoHeaders = \n",
    "    footballers.Rows\n",
    "    // 1. Rows where row.Player does not equal \"Player\"\n",
    "    |\u003e Array.filter (fun row -\u003e row.Player \u003c\u003e \"Player\") \n"
   ]
  }
,
  {
   "cell_type": "markdown",
   "metadata": {},
   
   "source": [
    "### Removing missing values\n",
    "\n",
    "In order to make some arithmetic operations with age and goals scored, we need to convert the data into integers or floats/decimals. But some players\u0027 age and goals scored is missing, and converting empty strings (\"\") into these types returns an error.\n",
    "We remove those lines by removing filtering to rows where age and goals are not \"\".\n",
    "\n"
   ]
  }
,
  {
   "cell_type": "code",
   "metadata": {
    "dotnet_interactive": {
     "language": "fsharp"
    },
    "polyglot_notebook": {
     "kernelName": "fsharp"
    }
   },
   "execution_count": 12, "outputs": [],
   "source": [
    "let footballersClean =\n",
    "    footballersNoHeaders\n",
    "    |\u003e Array.filter (fun row -\u003e \n",
    "        row.Age \u003c\u003e \"\" \u0026\u0026 \n",
    "        row.``Performance - Gls`` \u003c\u003e \"\")\n"
   ]
  }
,
  {
   "cell_type": "markdown",
   "metadata": {},
   
   "source": [
    "Now we have the data we need, but\n",
    "there are more than 2500 rows.\n",
    "\n"
   ]
  }
,
  {
   "cell_type": "code",
   "metadata": {
    "dotnet_interactive": {
     "language": "fsharp"
    },
    "polyglot_notebook": {
     "kernelName": "fsharp"
    }
   },
   "execution_count": 13, "outputs": [],
   "source": [
    "footballersClean.Length\n"
   ]
  }
,
  {
   "cell_type": "markdown",
   "metadata": {},
   
   "source": [
    "For our exercises we don\u0027t need so many observations,\n",
    "so let\u0027s transform it to get the best players by position!\n",
    "\n"
   ]
  }
,
  {
   "cell_type": "code",
   "metadata": {
    "dotnet_interactive": {
     "language": "fsharp"
    },
    "polyglot_notebook": {
     "kernelName": "fsharp"
    }
   },
   "execution_count": 14, "outputs": [],
   "source": [
    "let playersByPosition =\n",
    "    footballersClean\n",
    "    // 1. filter out odd positions with few players\n",
    "    |\u003e Array.filter(fun x -\u003e x.Pos \u003c\u003e \"GK,FW\" \u0026\u0026 x.Pos \u003c\u003e \"FW,DF\" \u0026\u0026 x.Pos \u003c\u003e \"DF,FW\" )\n",
    "    // 2. group players by position\n",
    "    |\u003e Array.groupBy(fun x -\u003e x.Pos)\n",
    "    // 3. sort positions.\n",
    "    |\u003e Array.sortBy (fun (position, _players) -\u003e position)\n",
    "\n",
    "\n",
    "let bestPlayersByPosition =\n",
    "    // This will get top 25 players for each position\n",
    "    // We create a new list by looping through each position group.\n",
    "    [| for (position, playersInPosition) in playersByPosition do\n",
    "        // 4. Sort best to worst (and convert to list at the end)\n",
    "        let bestToWorst =\n",
    "            playersInPosition\n",
    "            |\u003e Array.sortByDescending (fun player -\u003e\n",
    "                int player.``Performance - Gls``, player.Matches)\n",
    "        // 5. Truncate to top 25\n",
    "        let top25 = bestToWorst |\u003e Array.truncate 25         \n",
    "        top25 |]\n",
    "    // 6. concatenate to a single big array\n",
    "    |\u003e Array.concat\n",
    "    \n",
    "let bestPlayers = \n",
    "    // sort best by position to overall top goal scorers,\n",
    "    // with ties broken by alphabetical sorting on \n",
    "    // the players name and squad.\n",
    "    bestPlayersByPosition\n",
    "    |\u003e Array.sortByDescending (fun player -\u003e \n",
    "        int player.``Performance - Gls``,\n",
    "        player.Player,\n",
    "        player.Squad)\n"
   ]
  }
,
  {
   "cell_type": "markdown",
   "metadata": {},
   
   "source": [
    "## Create a Csv and store the Data using Csv Provider.\n",
    "\n",
    "Now that the data is scraped from the webpage and stored to `FootballPlayersParsedTable` variable.\n",
    "We need to save the data to a Csv file in order to use it in the Exercises.\n",
    "\n",
    "First we need to construct a sample of the data that will be stored in the comma separated (csv) File.\n",
    "By running `footballers.Headers` as done previously, we can easily observe that the table has fields that will not be used.\n",
    "The csv file doesn\u0027t need to contain all those fields, we only need:\n",
    "\n",
    "* `Player` (Players\u0027 Name)\n",
    "\n",
    "* `Nation` (Players\u0027 Nationality)\n",
    "\n",
    "* `Pos` (Players\u0027 Position)\n",
    "\n",
    "* `Squad` (Players\u0027 Team)\n",
    "\n",
    "* `Comp` (Players\u0027 League)\n",
    "\n",
    "* `Age` (Players\u0027 Age)\n",
    "\n",
    "* `Playing Time - MP` (Players\u0027 Matches Played)\n",
    "\n",
    "* `Performance - Gls` (Players\u0027 Goals Scored)\n",
    "\n",
    "The csv type provider will infer csv field types from a sample that you give it.\n",
    "It can infer the types from rows of the sample or from explicitly defined types\n",
    "added in parentheses after column names.\n",
    "We\u0027ll use explicit column type definitions in our sample.\n",
    "\n"
   ]
  }
,
  {
   "cell_type": "code",
   "metadata": {
    "dotnet_interactive": {
     "language": "fsharp"
    },
    "polyglot_notebook": {
     "kernelName": "fsharp"
    }
   },
   "execution_count": 15, "outputs": [
          {
           "data": {
            "text/plain": ["\"Player (string),Nation (string),Position (string),Team (string),League (string),Age (int),MatchesPlayed (int),GoalsScored (int)\""]
        },
           "execution_count": 15,
           "metadata": {},
           "output_type": "execute_result"
          }],
   "source": [
    "[\u003cLiteral\u003e]\n",
    "let FootballPlayersCsvSample = \n",
    "    \"Player (string),\" +\n",
    "    \"Nation (string),\" +\n",
    "    \"Position (string),\" +\n",
    "    \"Team (string),\" +\n",
    "    \"League (string),\" +\n",
    "    \"Age (int),\" +\n",
    "    \"MatchesPlayed (int),\" +\n",
    "    \"GoalsScored (int)\"\n",
    "\n",
    "// the sample csv file that we\u0027ve created:\n",
    "FootballPlayersCsvSample\n"
   ]
  }
,
  {
   "cell_type": "markdown",
   "metadata": {},
   
   "source": [
    "With the sample created, now we define the type from the sample.\n",
    "\n"
   ]
  }
,
  {
   "cell_type": "code",
   "metadata": {
    "dotnet_interactive": {
     "language": "fsharp"
    },
    "polyglot_notebook": {
     "kernelName": "fsharp"
    }
   },
   "execution_count": 16, "outputs": [],
   "source": [
    "type FootballPlayersCsv = CsvProvider\u003cFootballPlayersCsvSample,ResolutionFolder = __SOURCE_DIRECTORY__\u003e\n"
   ]
  }
,
  {
   "cell_type": "markdown",
   "metadata": {},
   
   "source": [
    "Now that we have the data and the Csv sample let\u0027s create a \"list of CSV rows\".\n",
    "\n"
   ]
  }
,
  {
   "cell_type": "code",
   "metadata": {
    "dotnet_interactive": {
     "language": "fsharp"
    },
    "polyglot_notebook": {
     "kernelName": "fsharp"
    }
   },
   "execution_count": 17, "outputs": [],
   "source": [
    "let bestPlayersCsvRows = \n",
    "    [ for player in bestPlayers do\n",
    "        FootballPlayersCsv.Row( \n",
    "            player = player.Player,\n",
    "            nation = player.Nation,\n",
    "            position = player.Pos,\n",
    "            team = player.Squad,\n",
    "            league = player.Comp,\n",
    "            // For the age variable just take the year (first two digits).\n",
    "            // Sometimes 29 and 185 days old is given as \"29-185\" and we\n",
    "            // want to throw away the days part.\n",
    "            age = int player.Age.[0..1], \n",
    "            matchesPlayed = int player.``Playing Time - MP``,\n",
    "            goalsScored = int player.``Performance - Gls`` ) ]\n"
   ]
  }
,
  {
   "cell_type": "markdown",
   "metadata": {},
   
   "source": [
    "Note that we use `int` to convert `age`, `matchesPlayed` and `goalsScored` because those fields\u0027 values are `strings` in the html table and we want `integers` instead.\n",
    "\n",
    "Let\u0027s look at the first 5 csv rows. We don\u0027t need to use `bestPlayersCsvRows.Rows` because the variable is already a list of csv rows.\n",
    "\n"
   ]
  }
,
  {
   "cell_type": "code",
   "metadata": {
    "dotnet_interactive": {
     "language": "fsharp"
    },
    "polyglot_notebook": {
     "kernelName": "fsharp"
    }
   },
   "execution_count": null, "outputs": [
          {
           "data": {
            "text/plain": ["[(\"Robert Lewandowski\", \"pl POL\", \"FW\", \"Bayern Munich\", \"deBundesliga\", 32, 34,",
"  35); (\"Kylian Mbappé\", \"fr FRA\", \"FW\", \"Paris S-G\", \"frLigue 1\", 22, 35, 28);",
" (\"Karim Benzema\", \"fr FRA\", \"FW\", \"Real Madrid\", \"esLa Liga\", 33, 32, 27);",
" (\"Ciro Immobile\", \"it ITA\", \"FW\", \"Lazio\", \"itSerie A\", 31, 31, 27);",
" (\"Wissam Ben Yedder\", \"fr FRA\", \"FW\", \"Monaco\", \"frLigue 1\", 30, 37, 25)]"]
        },
           "execution_count": null,
           "metadata": {},
           "output_type": "execute_result"
          }],
   "source": [
    "bestPlayersCsvRows[0..4]\n"
   ]
  }
,
  {
   "cell_type": "markdown",
   "metadata": {},
   
   "source": [
    "Rather than a \"list of Csv rows\", we want a \"Csv file\".  Here\u0027s how we do that.\n",
    "\n"
   ]
  }
,
  {
   "cell_type": "code",
   "metadata": {
    "dotnet_interactive": {
     "language": "fsharp"
    },
    "polyglot_notebook": {
     "kernelName": "fsharp"
    }
   },
   "execution_count": 19, "outputs": [],
   "source": [
    "let bestPlayersCsvFile = new FootballPlayersCsv(bestPlayersCsvRows)\n"
   ]
  }
,
  {
   "cell_type": "markdown",
   "metadata": {},
   
   "source": [
    "Ok, let\u0027s write the file. Remember that `__SOURCE_DIRECTORY__` is a magic variable that points\n",
    "to whatever folder this code file (aka the source code file) is contained in.\n",
    "So this will write the data to a csv file named \"FootballPlayers.csv\" in the current directory.\n",
    "\n"
   ]
  }
,
  {
   "cell_type": "code",
   "metadata": {
    "dotnet_interactive": {
     "language": "fsharp"
    },
    "polyglot_notebook": {
     "kernelName": "fsharp"
    }
   },
   "execution_count": 20, "outputs": [],
   "source": [
    "let filePath = System.IO.Path.Combine(__SOURCE_DIRECTORY__,\"FootballPlayers.csv\")\n",
    "bestPlayersCsvFile.Save(filePath)\n"
   ]
  }
,
  {
   "cell_type": "markdown",
   "metadata": {},
   
   "source": [
    "And if you want to read the data back in from the file to see that it works:\n",
    "\n"
   ]
  }
,
  {
   "cell_type": "code",
   "metadata": {
    "dotnet_interactive": {
     "language": "fsharp"
    },
    "polyglot_notebook": {
     "kernelName": "fsharp"
    }
   },
   "execution_count": 21, "outputs": [
          {
           "data": {
            "text/plain": ["(\"Robert Lewandowski\", \"pl POL\", \"FW\", \"Bayern Munich\", \"deBundesliga\", 32, 34,",
" 35)",
"",
"(\"Kylian Mbappé\", \"fr FRA\", \"FW\", \"Paris S-G\", \"frLigue 1\", 22, 35, 28)",
"",
"(\"Karim Benzema\", \"fr FRA\", \"FW\", \"Real Madrid\", \"esLa Liga\", 33, 32, 27)",
"",
"(\"Ciro Immobile\", \"it ITA\", \"FW\", \"Lazio\", \"itSerie A\", 31, 31, 27)",
"",
"(\"Wissam Ben Yedder\", \"fr FRA\", \"FW\", \"Monaco\", \"frLigue 1\", 30, 37, 25)"]
        },
           "execution_count": 21,
           "metadata": {},
           "output_type": "execute_result"
          }],
   "source": [
    "let backIn = FootballPlayersCsv.Load(filePath)\n",
    "\n",
    "backIn.Rows\n",
    "|\u003e Seq.truncate 5\n",
    "|\u003e Seq.iter (printfn \"%A\")\n"
   ]
  }
 ],
 "metadata": {
  "kernelspec": {
   "display_name": ".NET (F#)",
   "language": "F#",
   "name": ".net-fsharp"
  },
  "language_info": {
   "file_extension": ".fs",
   "mimetype": "text/x-fsharp",
   "name": "polyglot-notebook",
   "pygments_lexer": "fsharp"
  },
  "polyglot_notebook": {
   "kernelInfo": {
    "defaultKernelName": "fsharp",
    "items": [
     {
      "aliases": [],
      "languageName": "fsharp",
      "name": "fsharp"
     }
    ]
   }
  }
 },
 "nbformat": 4,
 "nbformat_minor": 2
}

