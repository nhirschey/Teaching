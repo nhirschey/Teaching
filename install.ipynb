
{
 "cells": [
  {
   "cell_type": "markdown",
   "metadata": {},
   
   "source": [
    "## Quick start\n",
    "\n",
    "Install the software below to run the code on this site. Once this software is installed, click the links at the top of the webpages to download the page as a script or jupyter notebook. The code should run on your computer inside visual studio code as long as the below software is installed:\n",
    "\n",
    "0 [.NET 7 SDK](https://dotnet.microsoft.com/en-us/download) for your operating system.\n",
    "\n",
    "  * This includes the F# language.\n",
    "  \n",
    "  * If it is installed correctly, then if you open a terminal (powershell on windows, terminal app on Mac) and type\n",
    "    \n",
    "  \n",
    "    ```code\n",
    "    dotnet --version\n",
    "    ```\n",
    "  \n",
    "    you should see a version number showing which SDK version you installed.\n",
    "    \n",
    "  \n",
    "      ```code\n",
    "      PS C:\\Users\\nicho\u003e dotnet --version\n",
    "      7.0.100\n",
    "      PS C:\\Users\\nicho\u003e\n",
    "      ```\n",
    "  \n",
    "\n",
    "1 [Visual Studio Code](https://code.visualstudio.com/) for your operating system.\n",
    "\n",
    "2 [Polyglot Notebooks](https://marketplace.visualstudio.com/items?itemName=ms-dotnettools.dotnet-interactive-vscode)  extension for visual studio code (make sure that visual studio code is installed first).\n",
    "\n",
    "3 **This one is optional**: [Ionide](https://marketplace.visualstudio.com/items?itemName=Ionide.Ionide-fsharp) extension for visual studio code (make sure that visual studio code is installed first).\n",
    "\n",
    "## More detailed guides\n",
    "\n",
    "0 See Microsoft\u0027s [get started with F#](https://dotnet.microsoft.com/en-us/languages/fsharp) website.\n",
    "\n",
    "1 Watch this [Youtube video](https://youtu.be/1ROKvmcOloo) showing how to download F# tools for use in Visual Studio Code.\n",
    "\n"
   ]
  }
 ],
 "metadata": {
  "kernelspec": {
   "display_name": ".NET (F#)",
   "language": "F#",
   "name": ".net-fsharp"
  },
  "language_info": {
   "file_extension": ".fs",
   "mimetype": "text/x-fsharp",
   "name": "polyglot-notebook",
   "pygments_lexer": "fsharp"
  },
  "polyglot_notebook": {
   "kernelInfo": {
    "defaultKernelName": "fsharp",
    "items": [
     {
      "aliases": [],
      "languageName": "fsharp",
      "name": "fsharp"
     }
    ]
   }
  }
 },
 "nbformat": 4,
 "nbformat_minor": 2
}

