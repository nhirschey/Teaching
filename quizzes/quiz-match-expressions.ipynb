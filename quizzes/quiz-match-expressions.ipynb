
{
 "cells": [
  {
   "cell_type": "markdown",
   "metadata": {},
   
   "source": [
    "[![Binder](../img/badge-binder.svg)](https://mybinder.org/v2/gh/nhirschey/teaching/gh-pages?filepath=quizzes/quiz-match-expressions.ipynb)\u0026emsp;\n",
    "[![Script](../img/badge-script.svg)](/Teaching//quizzes/quiz-match-expressions.fsx)\u0026emsp;\n",
    "[![Notebook](../img/badge-notebook.svg)](/Teaching//quizzes/quiz-match-expressions.ipynb)\n",
    "\n",
    "# Match Expressions\n",
    "\n",
    "There is a very good discussion of match expressions with examples on [FSharp For Fun and Profit](https://fsharpforfunandprofit.com/posts/match-expression/).The [F# Language reference](https://docs.microsoft.com/en-us/dotnet/fsharp/language-reference/match-expressions) and [Tour of F#](https://docs.microsoft.com/en-us/dotnet/fsharp/tour#pattern-matching) are also good resources on this.\n",
    "\n",
    "The idea is that you give the match expression a value to match, the things it can match to, and then what you want to return for each of those matches.\n",
    "\n",
    "Simple match expressions such as the one below are\n",
    "similar to if/then/else statements. However, as shown in the linked\n",
    "F# for fun and profit article, pattern matching is can do much\n",
    "more than if/then/else.\n",
    "\n"
   ]
  }
,
  {
   "cell_type": "code",
   "metadata": {
    "dotnet_interactive": {
     "language": "fsharp"
    },
    "polyglot_notebook": {
     "kernelName": "fsharp"
    }
   },
   "execution_count": 3, "outputs": [],
   "source": [
    "let f1 x =\n",
    "    match x with // x is the thing that I am matching\n",
    "    | 1.0 -\u003e 1.0 // when x matches 1.0 then return 1.0\n",
    "    | 2.0 -\u003e 1.0 // when x matches with 2.0 then return 1.0\n",
    "    | 3.0 -\u003e 7.0 + 7.0 // when x matches with 3.0 return 7.0+7.0\n",
    "    | z -\u003e z ** 2.0 // everything else matches an arbitrary y, and let\u0027s return y**2.0\n",
    "    \n",
    "[ 1.0 .. 10.0] |\u003e List.map f1\n"
   ]
  }
,
  {
   "cell_type": "markdown",
   "metadata": {},
   
   "source": [
    "## Question 1\n",
    "\n",
    "Write a function named `ma` that takes `x: float Option` as an input.\n",
    "Use a match expression to output the `float` if `x` is something and\n",
    "`0.0` if the `float` is nothing. Provide a test case for both cases to show\n",
    "that the function works.\n",
    "\n",
    "\u003cdiv style=\"padding-left: 40px;\"\u003e\n",
    "\u003cp\u003e \n",
    "\u003cspan\u003e\n",
    "\u003cdetails\u003e\n",
    "\u003csummary\u003e\u003cp style=\"display:inline\"\u003eanswer\u003c/p\u003e\u003c/summary\u003e\n",
    "\n",
    "```\n",
    "val ma: x: float option -\u003e float\n",
    "val ma2Some7: float = 7.0\n",
    "val ma2None: float = 0.0\n",
    "```\n",
    "\n",
    "or, see the `x` in the (`Some x`) part of the match expression\n",
    "is the `float`, not the original (`x: float Option`)\n",
    "To see this, hover your cursor over the first two xs. it says `x is float Option`.\n",
    "Then hover over the second two xs. It says `x is float`. Two different xs!\n",
    "\n",
    "```\n",
    "val ma2: x: float option -\u003e float\n",
    "val ma2Some7Other: float = 7.0\n",
    "val ma2NoneOther: float = 0.0\n",
    "```\n",
    "\n",
    "\u003c/details\u003e\n",
    "\u003c/span\u003e\n",
    "\u003c/p\u003e\n",
    "\u003c/div\u003e\n",
    "\n"
   ]
  }
,
  {
   "cell_type": "code",
   "metadata": {
    "dotnet_interactive": {
     "language": "fsharp"
    },
    "polyglot_notebook": {
     "kernelName": "fsharp"
    }
   },
   "execution_count": null, "outputs": [],
   "source": [
    "// write your code here, see website for solution.\n"
   ]
  }
,
  {
   "cell_type": "markdown",
   "metadata": {},
   
   "source": [
    "## Question 2\n",
    "\n",
    "Write a function named `mb` that takes `x: float` as an input.\n",
    "Use a match expression to output `1.0` if `x` is `1.0`, `4.0` if `x` is `2.0`,\n",
    "and `x^3.0` if `x` is anything else. Provide 3 tests for the 3 test cases\n",
    "to show that the function works.\n",
    "\n",
    "\u003cdiv style=\"padding-left: 40px;\"\u003e\n",
    "\u003cp\u003e \n",
    "\u003cspan\u003e\n",
    "\u003cdetails\u003e\n",
    "\u003csummary\u003e\u003cp style=\"display:inline\"\u003eanswer\u003c/p\u003e\u003c/summary\u003e\n",
    "\n",
    "```\n",
    "val mb: x: float -\u003e float\n",
    "val mb1: float = 1.0\n",
    "val mb2: float = 4.0\n",
    "val mb7: float = 343.0\n",
    "```\n",
    "\n",
    "\u003c/details\u003e\n",
    "\u003c/span\u003e\n",
    "\u003c/p\u003e\n",
    "\u003c/div\u003e\n",
    "\n"
   ]
  }
,
  {
   "cell_type": "code",
   "metadata": {
    "dotnet_interactive": {
     "language": "fsharp"
    },
    "polyglot_notebook": {
     "kernelName": "fsharp"
    }
   },
   "execution_count": null, "outputs": [],
   "source": [
    "// write your code here, see website for solution.\n"
   ]
  }
,
  {
   "cell_type": "markdown",
   "metadata": {},
   
   "source": [
    "## Question 3\n",
    "\n",
    "Write a function named `mc` that takes a tuple pair of ints  `x: int * int`\n",
    "as an input. Handle these cases in the following order:\n",
    "\n",
    "0 if the first `int` is `7`, return `\"a\"`.\n",
    "\n",
    "1 if the second int is `7`, return `\"b\"`.\n",
    "\n",
    "2 For everything else, return `\"c\"`.\n",
    "\n",
    "Finally, test the function on `(7,6)`, `(6,7)`, `(7, 7)`, and `(6,6)`.\n",
    "Make sure that you understand how those 4 examples are handled.\n",
    "\n",
    "\u003cdiv style=\"padding-left: 40px;\"\u003e\n",
    "\u003cp\u003e \n",
    "\u003cspan\u003e\n",
    "\u003cdetails\u003e\n",
    "\u003csummary\u003e\u003cp style=\"display:inline\"\u003eanswer\u003c/p\u003e\u003c/summary\u003e\n",
    "\n",
    "```\n",
    "val mc: int * int -\u003e string\n",
    "val mc76: string = \"a\"\n",
    "val mc67: string = \"b\"\n",
    "val mc77: string = \"a\"\n",
    "val mc66: string = \"c\"\n",
    "```\n",
    "\n",
    "\u003c/details\u003e\n",
    "\u003c/span\u003e\n",
    "\u003c/p\u003e\n",
    "\u003c/div\u003e\n",
    "\n"
   ]
  }
,
  {
   "cell_type": "code",
   "metadata": {
    "dotnet_interactive": {
     "language": "fsharp"
    },
    "polyglot_notebook": {
     "kernelName": "fsharp"
    }
   },
   "execution_count": null, "outputs": [],
   "source": [
    "// write your code here, see website for solution.\n"
   ]
  }
,
  {
   "cell_type": "markdown",
   "metadata": {},
   
   "source": [
    "## Question 4\n",
    "\n",
    "Consider this list of trading days for a stock and it\u0027s price and dividends:\n",
    "\n"
   ]
  }
,
  {
   "cell_type": "code",
   "metadata": {
    "dotnet_interactive": {
     "language": "fsharp"
    },
    "polyglot_notebook": {
     "kernelName": "fsharp"
    }
   },
   "execution_count": 8, "outputs": [],
   "source": [
    "type StockDays2 = { Day : int; Price : decimal; Dividend : decimal Option }\n",
    "let stockDays2 = \n",
    "    [ for day = 0 to 5 do \n",
    "        let dividend = if day % 2 = 0 then None else Some 1m\n",
    "        { Day = day\n",
    "          Price = 100m + decimal day\n",
    "          Dividend = dividend } ]   \n"
   ]
  }
,
  {
   "cell_type": "markdown",
   "metadata": {},
   
   "source": [
    "0 create a new list called `daysWithDividends` that is a filtered\n",
    "version of `stockDays` that only contains days with dividends. For\n",
    "each day with a dividend, you should return a `(int * decimal)` tuple\n",
    "where the int is the day  and the decimal is the dividend.\n",
    "Thus the result is an `(int * decimal) list`.\n",
    "\n",
    "1 Then create a list called `daysWithoutDividends` that is a filtered\n",
    "version of `stockDays` that only contains days that do not have dividends.\n",
    "For each day without a dividend, you should return the day as an `int`.\n",
    "Thus the result is an `int list`.\n",
    "\n",
    "\u003cdiv style=\"padding-left: 40px;\"\u003e\n",
    "\u003cp\u003e \n",
    "\u003cspan\u003e\n",
    "\u003cdetails\u003e\n",
    "\u003csummary\u003e\u003cp style=\"display:inline\"\u003eanswer\u003c/p\u003e\u003c/summary\u003e\n",
    "\n",
    "Days With Dividends:\n",
    "\n",
    "```\n",
    "val daysWithDividends1: (int * decimal) list = [(1, 1M); (3, 1M); (5, 1M)]\n",
    "```\n",
    "\n",
    "or\n",
    "\n",
    "```\n",
    "val daysWithDividends2: (int * decimal) list = [(1, 1M); (3, 1M); (5, 1M)]\n",
    "```\n",
    "\n",
    "Days Without Dividends:\n",
    "\n",
    "```\n",
    "val daysWithoutDividends: int list = [0; 2; 4]\n",
    "```\n",
    "\n",
    "\u003c/details\u003e\n",
    "\u003c/span\u003e\n",
    "\u003c/p\u003e\n",
    "\u003c/div\u003e\n",
    "\n"
   ]
  }
,
  {
   "cell_type": "code",
   "metadata": {
    "dotnet_interactive": {
     "language": "fsharp"
    },
    "polyglot_notebook": {
     "kernelName": "fsharp"
    }
   },
   "execution_count": null, "outputs": [],
   "source": [
    "// write your code here, see website for solution.\n"
   ]
  }
 ],
 "metadata": {
  "kernelspec": {
   "display_name": ".NET (F#)",
   "language": "F#",
   "name": ".net-fsharp"
  },
  "language_info": {
   "file_extension": ".fs",
   "mimetype": "text/x-fsharp",
   "name": "polyglot-notebook",
   "pygments_lexer": "fsharp"
  },
  "polyglot_notebook": {
   "kernelInfo": {
    "defaultKernelName": "fsharp",
    "items": [
     {
      "aliases": [],
      "languageName": "fsharp",
      "name": "fsharp"
     }
    ]
   }
  }
 },
 "nbformat": 4,
 "nbformat_minor": 2
}

