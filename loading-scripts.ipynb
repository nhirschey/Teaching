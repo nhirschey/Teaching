
{
 "cells": [
  {
   "cell_type": "markdown",
   "metadata": {},
   
   "source": [
    "[![Binder](img/badge-binder.svg)](https://mybinder.org/v2/gh/nhirschey/teaching/gh-pages?filepath=loading-scripts.ipynb)\u0026emsp;\n",
    "[![Script](img/badge-script.svg)](/Teaching//loading-scripts.fsx)\u0026emsp;\n",
    "[![Notebook](img/badge-notebook.svg)](/Teaching//loading-scripts.ipynb)\n",
    "\n",
    "This will introduce using `#load` to load scripts with external code.\n",
    "\n",
    "When you type `#load \"Script.fsx\"` in the REPL,\n",
    "F# interactive compiles the code in `Script.fsx` and puts it into\n",
    "a code module with the same name as the script.\n",
    "\n",
    "We are going to use a helper script called `YahooFinance.fsx` that includes\n",
    "code for requesting price histories from yahoo. To download it,\n",
    "go to the [YahooFinance](YahooFinance.html) page and click the \"download script\"\n",
    "button at the top. Make sure that you have saved it in\n",
    "the same directory as this file.\n",
    "\n",
    "If you have downloaded it correctly then the following code will evaluate to `true`.\n",
    "\n"
   ]
  }
,
  {
   "cell_type": "code",
   "metadata": {
    "dotnet_interactive": {
     "language": "fsharp"
    },
    "polyglot_notebook": {
     "kernelName": "fsharp"
    }
   },
   "execution_count": 1, "outputs": [
          {
           "data": {
            "text/plain": ["true"]
        },
           "execution_count": 1,
           "metadata": {},
           "output_type": "execute_result"
          }],
   "source": [
    "System.IO.File.Exists(\"YahooFinance.fsx\")\n"
   ]
  }
,
  {
   "cell_type": "markdown",
   "metadata": {},
   
   "source": [
    "Assuming that the above code evaluated to `true` we can now load it into our session.\n",
    "\n"
   ]
  }
,
  {
   "cell_type": "code",
   "metadata": {
    "dotnet_interactive": {
     "language": "fsharp"
    },
    "polyglot_notebook": {
     "kernelName": "fsharp"
    }
   },
   "execution_count": 2, "outputs": [],
   "source": [
    "#load \"YahooFinance.fsx\"\n"
   ]
  }
,
  {
   "cell_type": "markdown",
   "metadata": {},
   
   "source": [
    "Namespaces are a hierarchical way of organizing code.\n",
    "If we `open` a namespace, then we have access to the code inside the namespace directly.\n",
    "\n",
    "It is common to open the `System` namespace.\n",
    "\n"
   ]
  }
,
  {
   "cell_type": "code",
   "metadata": {
    "dotnet_interactive": {
     "language": "fsharp"
    },
    "polyglot_notebook": {
     "kernelName": "fsharp"
    }
   },
   "execution_count": 3, "outputs": [],
   "source": [
    "open System\n"
   ]
  }
,
  {
   "cell_type": "markdown",
   "metadata": {},
   
   "source": [
    "Now we can leave `System` off when accessing code in the `System` namespace,\n",
    "such as `System.IO.File.Exists` that we used above.\n",
    "\n"
   ]
  }
,
  {
   "cell_type": "code",
   "metadata": {
    "dotnet_interactive": {
     "language": "fsharp"
    },
    "polyglot_notebook": {
     "kernelName": "fsharp"
    }
   },
   "execution_count": 4, "outputs": [
          {
           "data": {
            "text/plain": ["true"]
        },
           "execution_count": 4,
           "metadata": {},
           "output_type": "execute_result"
          }],
   "source": [
    "IO.File.Exists(\"YahooFinance.fsx\")\n"
   ]
  }
,
  {
   "cell_type": "markdown",
   "metadata": {},
   
   "source": [
    "We also want to open the `YahooFinance` module from `YahooFinance.fsx`,\n",
    "which is similar to a namespace.\n",
    "\n"
   ]
  }
,
  {
   "cell_type": "code",
   "metadata": {
    "dotnet_interactive": {
     "language": "fsharp"
    },
    "polyglot_notebook": {
     "kernelName": "fsharp"
    }
   },
   "execution_count": 5, "outputs": [],
   "source": [
    "open YahooFinance\n"
   ]
  }
,
  {
   "cell_type": "markdown",
   "metadata": {},
   
   "source": [
    "We are ready to request some data. Let\u0027s define our start and end dates.\n",
    "`DateTime` is a type in the `System` namespace.\n",
    "We have opened that namespace so we can access the type directly.\n",
    "\n"
   ]
  }
,
  {
   "cell_type": "code",
   "metadata": {
    "dotnet_interactive": {
     "language": "fsharp"
    },
    "polyglot_notebook": {
     "kernelName": "fsharp"
    }
   },
   "execution_count": 6, "outputs": [
          {
           "data": {
            "text/plain": ["2/20/2024 12:49:14 PM"]
        },
           "execution_count": 6,
           "metadata": {},
           "output_type": "execute_result"
          }],
   "source": [
    "let myStart = DateTime(2010,1,1)\n",
    "let myEnd = DateTime.UtcNow\n",
    "myEnd\n"
   ]
  }
,
  {
   "cell_type": "markdown",
   "metadata": {},
   
   "source": [
    "Our `YahooFinance` module has code for requesting price histories of stocks.\n",
    "\n"
   ]
  }
,
  {
   "cell_type": "code",
   "metadata": {
    "dotnet_interactive": {
     "language": "fsharp"
    },
    "polyglot_notebook": {
     "kernelName": "fsharp"
    }
   },
   "execution_count": 7, "outputs": [],
   "source": [
    "let bnd = YahooFinance.PriceHistory(\"BND\",startDate=myStart,endDate=myEnd,interval = Interval.Daily)\n",
    "let vti = YahooFinance.PriceHistory(\"VTI\",startDate=myStart,endDate=myEnd,interval = Interval.Daily)\n"
   ]
  }
,
  {
   "cell_type": "markdown",
   "metadata": {},
   
   "source": [
    "This returns several data items for each point in time.\n",
    "\n"
   ]
  }
,
  {
   "cell_type": "code",
   "metadata": {
    "dotnet_interactive": {
     "language": "fsharp"
    },
    "polyglot_notebook": {
     "kernelName": "fsharp"
    }
   },
   "execution_count": 8, "outputs": [
          {
           "data": {
            "text/plain": ["[{ Symbol = \"VTI\"",
"   Date = 1/4/2010 12:00:00 AM",
"   Open = 56.860001",
"   High = 57.380001",
"   Low = 56.84",
"   Close = 57.310001",
"   AdjustedClose = 44.335239",
"   Volume = 2251500.0 }; { Symbol = \"VTI\"",
"                           Date = 1/5/2010 12:00:00 AM",
"                           Open = 57.34",
"                           High = 57.540001",
"                           Low = 57.110001",
"                           Close = 57.529999",
"                           AdjustedClose = 44.505432",
"                           Volume = 1597700.0 }; { Symbol = \"VTI\"",
"                                                   Date = 1/6/2010 12:00:00 AM",
"                                                   Open = 57.5",
"                                                   High = 57.720001",
"                                                   Low = 57.41",
"                                                   Close = 57.610001",
"                                                   AdjustedClose = 44.567322",
"                                                   Volume = 2120300.0 };",
" { Symbol = \"VTI\"",
"   Date = 1/7/2010 12:00:00 AM",
"   Open = 57.549999",
"   High = 57.889999",
"   Low = 57.290001",
"   Close = 57.849998",
"   AdjustedClose = 44.752972",
"   Volume = 1656700.0 }]"]
        },
           "execution_count": 8,
           "metadata": {},
           "output_type": "execute_result"
          }],
   "source": [
    "vti[0..3]\n"
   ]
  }
 ],
 "metadata": {
  "kernelspec": {
   "display_name": ".NET (F#)",
   "language": "F#",
   "name": ".net-fsharp"
  },
  "language_info": {
   "file_extension": ".fs",
   "mimetype": "text/x-fsharp",
   "name": "polyglot-notebook",
   "pygments_lexer": "fsharp"
  },
  "polyglot_notebook": {
   "kernelInfo": {
    "defaultKernelName": "fsharp",
    "items": [
     {
      "aliases": [],
      "languageName": "fsharp",
      "name": "fsharp"
     }
    ]
   }
  }
 },
 "nbformat": 4,
 "nbformat_minor": 2
}

