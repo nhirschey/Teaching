
{
 "cells": [
  {
   "cell_type": "markdown",
   "metadata": {},
   
   "source": [
    "[![Binder](img/badge-binder.svg)](https://mybinder.org/v2/gh/nhirschey/teaching/gh-pages?filepath=fundamentals.ipynb)\u0026emsp;\n",
    "[![Script](img/badge-script.svg)](/Teaching//fundamentals.fsx)\u0026emsp;\n",
    "[![Notebook](img/badge-notebook.svg)](/Teaching//fundamentals.ipynb)\n",
    "\n",
    "# Fundamentals\n",
    "\n",
    "A good place to start is to define a one-period return calculation.\n",
    "\n",
    "Objectives:\n",
    "\n",
    "* [Interactive programming](#Interactive-programming)\n",
    "\n",
    "* [How to calculate returns](#Calculating-returns).\n",
    "\n",
    "* [Working with data.](#Working-with-data)\n",
    "\n",
    "* [How to calculate return volatility](#Volatility)\n",
    "\n",
    "## Interactive programming\n",
    "\n",
    "We are going to focus on interactive programming. This is the most productive (and most common) type of analytic programming. In constrast to compiled programs (e.g, C, C++, Fortran, Java), interactive programs:\n",
    "\n",
    "* Allow rapid iterative development.\n",
    "\n",
    "* You can quickly quickly write and rewrite sections of code, evaluating the output, without having to rerun the entire program.\n",
    "\n",
    "* This is especially useful for financial analysis, because we often evaluate large datasets that take a long time to process.\n",
    "\n",
    "Interactive programming typically involves a [REPL](https://en.wikipedia.org/wiki/Read%E2%80%93eval%E2%80%93print_loop) (Read, Evaluate, Print, Loop). It is common for scripting langauges such as R, Python, Julia, Ruby, and Perl.\n",
    "\n",
    "### The terminal\n",
    "\n",
    "The most basic way that you can run interactive code is at the command line using an interpreter. We can start the F# interactive interpreter by opening a terminal (e.g., terminal.app, cmd, powershell) and running `dotnet fsi`.\n",
    "\n",
    "Once fsi is open, we can type a code snippet in the prompt followed by \";;\" to terminate it and it will run.\n",
    "\n",
    "![fsi](img/fsi.png)\n",
    "\n",
    "It is fine to run code this way, but we can do better using an IDE (Integrated development environment) that incorportes syntax highlighting, intellisense tooltips, and execution. We will use two common IDE\u0027s: Visual Studio Code with the Ionide extension and Jupyter Notebooks.\n",
    "\n",
    "## Calculating returns\n",
    "\n",
    "### Basic calculations in fsi\n",
    "\n",
    "Let\u0027s assume that you have $120.00 today and that you had $100.00 a year ago. Your annual return is then:\n",
    "\n"
   ]
  }
,
  {
   "cell_type": "code",
   "metadata": {
    "dotnet_interactive": {
     "language": "fsharp"
    },
    "polyglot_notebook": {
     "kernelName": "fsharp"
    }
   },
   "execution_count": 1, "outputs": [
          {
           "data": {
            "text/plain": ["val it: float = 0.2"]
        },
           "execution_count": 1,
           "metadata": {},
           "output_type": "execute_result"
          }],
   "source": [
    "(120.0 / 100.0) - 1.0\n"
   ]
  }
,
  {
   "cell_type": "markdown",
   "metadata": {},
   
   "source": [
    "### Basic numerical types: float, int, and decimal\n",
    "\n",
    "Notice that I included a decimal point \".\" in the numbers. The decimal point makes it a [floating point](https://en.wikipedia.org/wiki/Floating-point_arithmetic) number. Floating point numbers (floats) are the most commonly used numerical type for mathematical calculations.\n",
    "\n",
    "If we left the decimal point off and wrote \"120\" without the \".0\" at the end it would be an integer and we would get the wrong answer because integers cannot represent fractions.\n",
    "\n"
   ]
  }
,
  {
   "cell_type": "code",
   "metadata": {
    "dotnet_interactive": {
     "language": "fsharp"
    },
    "polyglot_notebook": {
     "kernelName": "fsharp"
    }
   },
   "execution_count": 2, "outputs": [
          {
           "data": {
            "text/plain": ["val it: int = 0"]
        },
           "execution_count": 2,
           "metadata": {},
           "output_type": "execute_result"
          }],
   "source": [
    "(120/100) - 1\n"
   ]
  }
,
  {
   "cell_type": "markdown",
   "metadata": {},
   
   "source": [
    "The other main numerical data type is [decimal](https://en.wikipedia.org/wiki/Decimal_data_type).\n",
    "\n"
   ]
  }
,
  {
   "cell_type": "code",
   "metadata": {
    "dotnet_interactive": {
     "language": "fsharp"
    },
    "polyglot_notebook": {
     "kernelName": "fsharp"
    }
   },
   "execution_count": 3, "outputs": [
          {
           "data": {
            "text/plain": ["val it: decimal = 0.2M {Scale = 1uy;}"]
        },
           "execution_count": 3,
           "metadata": {},
           "output_type": "execute_result"
          }],
   "source": [
    "(120m/100m) - 1m\n"
   ]
  }
,
  {
   "cell_type": "markdown",
   "metadata": {},
   
   "source": [
    "Decimals are used when you need an exact fractional amount. Floats are insufficient in these circumstances because **\"... such representations typically restrict the denominator to a power of two ... 0.3 (3/10) might be represented as 5404319552844595/18014398509481984 (0.299999999999999988897769...)\"** ([see wiki](https://en.wikipedia.org/wiki/Decimal_data_type)).\n",
    "\n",
    "### Static type checking\n",
    "\n",
    "Finally, since F# is staticly typed, we must do arithmetic using numbers that are all the same type. If we mix floats and integers we will get an error:\n",
    "\n",
    "```fsharp\n",
    "(120.0 / 100) - 1.0\n",
    "```\n",
    "```output\n",
    "fundamentals.fsx(18,10): error FS0001: The type \u0027int\u0027 does not match the type \u0027float\u0027\n",
    "```\n",
    "Static tying can slow you down a bit writing simple small programs, but as programs get larger and more complex the benefits become apparent. Specifically, static typing as implemented by F#:\n",
    "\n",
    "* helps you ensure that the code is correct (i.e., the type of the input data matches what the function expects). In the words of Yaron Minksy at Janestreet, you can [\"make illegal states unrepresentable\"](https://blog.janestreet.com/effective-ml-revisited/) (see [here](https://fsharpforfunandprofit.com/posts/designing-with-types-making-illegal-states-unrepresentable/) for F# examples).\n",
    "\n",
    "* it also facilitates editor tooling that can check your code without running it and give tooltip errors (you should have seen a tooltip error in your editor if you type `(120.0 / 100) - 1.0` in your program file). It\u0027s like clippy on steriods (you are too young, but your parents might get this reference).\n",
    "\n",
    "![clippy](img/intellisense-example.png)\n",
    "\n",
    "[Image source](https://blog.codinghorror.com/it-looks-like-youre-writing-a-for-loop/)\n",
    "\n",
    "### Assigning values\n",
    "\n",
    "We could also do the same calculations by assigning $120.00 and $100.0 to named values.\n",
    "\n"
   ]
  }
,
  {
   "cell_type": "code",
   "metadata": {
    "dotnet_interactive": {
     "language": "fsharp"
    },
    "polyglot_notebook": {
     "kernelName": "fsharp"
    }
   },
   "execution_count": 4, "outputs": [
          {
           "data": {
            "text/plain": ["val yearAgo: float = 100.0",
"",
"val today: float = 120.0",
"",
"val it: float = 0.2"]
        },
           "execution_count": 4,
           "metadata": {},
           "output_type": "execute_result"
          }],
   "source": [
    "let yearAgo = 100.0\n",
    "let today = 120.0\n",
    "(today / yearAgo) - 1.0\n"
   ]
  }
,
  {
   "cell_type": "markdown",
   "metadata": {},
   
   "source": [
    "This works for one-off calculations, but if we want to do this more than once, then it makes more sense to define a function to do this calculation.\n",
    "\n",
    "### Defining functions\n",
    "\n",
    "Functions map (or transform) inputs into outputs.\n",
    "\n",
    "Here is a simple function named `addOne`.\n",
    "It takes an input x and then it adds 1 to whatever x is.\n",
    "\n"
   ]
  }
,
  {
   "cell_type": "code",
   "metadata": {
    "dotnet_interactive": {
     "language": "fsharp"
    },
    "polyglot_notebook": {
     "kernelName": "fsharp"
    }
   },
   "execution_count": 5, "outputs": [],
   "source": [
    "let addOne x = x + 1\n",
    "\n",
    "addOne 0 // here x is 0\n",
    "addOne 1 // here x is 1\n",
    "addOne 2 // here x is 2\n"
   ]
  }
,
  {
   "cell_type": "markdown",
   "metadata": {},
   
   "source": [
    "We can also chain them\n",
    "\n"
   ]
  }
,
  {
   "cell_type": "code",
   "metadata": {
    "dotnet_interactive": {
     "language": "fsharp"
    },
    "polyglot_notebook": {
     "kernelName": "fsharp"
    }
   },
   "execution_count": 38, "outputs": [],
   "source": [
    "addOne (addOne (addOne 0)) // = (1 + (1 + (1 + 0)))\n"
   ]
  }
,
  {
   "cell_type": "markdown",
   "metadata": {},
   
   "source": [
    "We can define a function to calcuate a return.\n",
    "\n"
   ]
  }
,
  {
   "cell_type": "code",
   "metadata": {
    "dotnet_interactive": {
     "language": "fsharp"
    },
    "polyglot_notebook": {
     "kernelName": "fsharp"
    }
   },
   "execution_count": 7, "outputs": [],
   "source": [
    "let calcReturn pv fv = (fv / pv) - 1.0\n"
   ]
  }
,
  {
   "cell_type": "markdown",
   "metadata": {},
   
   "source": [
    "The type signature tells us that `calcReturn` is a function with two float inputs (pv and fv) and it maps those two inputs into a float output. The program was able to infer that `pv` and `fv` are floats because of the `1.0` float in the calculation.\n",
    "\n",
    "We can execute it on simple floats:\n",
    "\n"
   ]
  }
,
  {
   "cell_type": "code",
   "metadata": {
    "dotnet_interactive": {
     "language": "fsharp"
    },
    "polyglot_notebook": {
     "kernelName": "fsharp"
    }
   },
   "execution_count": 8, "outputs": [
          {
           "data": {
            "text/plain": ["val it: float = 0.1"]
        },
           "execution_count": 8,
           "metadata": {},
           "output_type": "execute_result"
          }],
   "source": [
    "// here pv = 100., fv = 110.0\n",
    "calcReturn 100.0 110.0\n"
   ]
  }
,
  {
   "cell_type": "code",
   "metadata": {
    "dotnet_interactive": {
     "language": "fsharp"
    },
    "polyglot_notebook": {
     "kernelName": "fsharp"
    }
   },
   "execution_count": 9, "outputs": [
          {
           "data": {
            "text/plain": ["val it: float = -0.25"]
        },
           "execution_count": 9,
           "metadata": {},
           "output_type": "execute_result"
          }],
   "source": [
    "// here pv = 80.0, fv = 60.0\n",
    "calcReturn 80.0 60.0\n"
   ]
  }
,
  {
   "cell_type": "markdown",
   "metadata": {},
   
   "source": [
    "Or we can execute it on our previously defined `yearAgo` and `today` values:\n",
    "\n"
   ]
  }
,
  {
   "cell_type": "code",
   "metadata": {
    "dotnet_interactive": {
     "language": "fsharp"
    },
    "polyglot_notebook": {
     "kernelName": "fsharp"
    }
   },
   "execution_count": 10, "outputs": [
          {
           "data": {
            "text/plain": ["val it: float = 0.2"]
        },
           "execution_count": 10,
           "metadata": {},
           "output_type": "execute_result"
          }],
   "source": [
    "calcReturn yearAgo today\n"
   ]
  }
,
  {
   "cell_type": "markdown",
   "metadata": {},
   
   "source": [
    "### Handling dividends\n",
    "\n",
    "Our prior return calculation did not handle cash distributions such as dividends. We can incorporate dividends with a small modificaton:\n",
    "\n"
   ]
  }
,
  {
   "cell_type": "code",
   "metadata": {
    "dotnet_interactive": {
     "language": "fsharp"
    },
    "polyglot_notebook": {
     "kernelName": "fsharp"
    }
   },
   "execution_count": 11, "outputs": [],
   "source": [
    "let simpleReturn beginningPrice endingPrice dividend =\n",
    "    // This is solving for `r` in FV = PV*(1+r)^t where t=1.\n",
    "    (endingPrice + dividend) / beginningPrice - 1.0\n"
   ]
  }
,
  {
   "cell_type": "markdown",
   "metadata": {},
   
   "source": [
    "The examples thus far have used simple (per period) compounding. We can also calculate continuously compounded returns, also known as log returns.\n",
    "\n"
   ]
  }
,
  {
   "cell_type": "code",
   "metadata": {
    "dotnet_interactive": {
     "language": "fsharp"
    },
    "polyglot_notebook": {
     "kernelName": "fsharp"
    }
   },
   "execution_count": 12, "outputs": [],
   "source": [
    "let logReturn beginningPrice endingPrice dividend =\n",
    "    // This is solving for `r` in FV = PV*e^(rt) where t=1.\n",
    "    log(endingPrice + dividend) - log(beginningPrice)\n"
   ]
  }
,
  {
   "cell_type": "markdown",
   "metadata": {},
   
   "source": [
    "These two calculations give slightly different returns.\n",
    "\n"
   ]
  }
,
  {
   "cell_type": "code",
   "metadata": {
    "dotnet_interactive": {
     "language": "fsharp"
    },
    "polyglot_notebook": {
     "kernelName": "fsharp"
    }
   },
   "execution_count": 13, "outputs": [
          {
           "data": {
            "text/plain": ["val it: float = 0.1"]
        },
           "execution_count": 13,
           "metadata": {},
           "output_type": "execute_result"
          }],
   "source": [
    "simpleReturn 100.0 110.0 0.0 \n"
   ]
  }
,
  {
   "cell_type": "code",
   "metadata": {
    "dotnet_interactive": {
     "language": "fsharp"
    },
    "polyglot_notebook": {
     "kernelName": "fsharp"
    }
   },
   "execution_count": 14, "outputs": [
          {
           "data": {
            "text/plain": ["val it: float = 0.0953101798"]
        },
           "execution_count": 14,
           "metadata": {},
           "output_type": "execute_result"
          }],
   "source": [
    "logReturn 100.0 110.0 0.0\n"
   ]
  }
,
  {
   "cell_type": "markdown",
   "metadata": {},
   
   "source": [
    "It is typically not important which version of return you use so long as you are consistent and keep track of what type of return it is when you\u0027re compounding things.\n",
    "\n",
    "**Practice:** Can you write a function to compound an initial investment of $100.00 at 6% for 5 years? You can calculate power and exponents using:\n",
    "\n"
   ]
  }
,
  {
   "cell_type": "code",
   "metadata": {
    "dotnet_interactive": {
     "language": "fsharp"
    },
    "polyglot_notebook": {
     "kernelName": "fsharp"
    }
   },
   "execution_count": 15, "outputs": [
          {
           "data": {
            "text/plain": ["val it: float = 8.0"]
        },
           "execution_count": 15,
           "metadata": {},
           "output_type": "execute_result"
          }],
   "source": [
    "2.0**3.0\n"
   ]
  }
,
  {
   "cell_type": "code",
   "metadata": {
    "dotnet_interactive": {
     "language": "fsharp"
    },
    "polyglot_notebook": {
     "kernelName": "fsharp"
    }
   },
   "execution_count": 16, "outputs": [
          {
           "data": {
            "text/plain": ["val it: float = 0.6931471806"]
        },
           "execution_count": 16,
           "metadata": {},
           "output_type": "execute_result"
          }],
   "source": [
    "log 2.0\n"
   ]
  }
,
  {
   "cell_type": "code",
   "metadata": {
    "dotnet_interactive": {
     "language": "fsharp"
    },
    "polyglot_notebook": {
     "kernelName": "fsharp"
    }
   },
   "execution_count": 17, "outputs": [
          {
           "data": {
            "text/plain": ["val it: float = 1.999905641"]
        },
           "execution_count": 17,
           "metadata": {},
           "output_type": "execute_result"
          }],
   "source": [
    "exp 0.6931\n"
   ]
  }
,
  {
   "cell_type": "code",
   "metadata": {
    "dotnet_interactive": {
     "language": "fsharp"
    },
    "polyglot_notebook": {
     "kernelName": "fsharp"
    }
   },
   "execution_count": 18, "outputs": [
          {
           "data": {
            "text/plain": ["val it: float = 2.0"]
        },
           "execution_count": 18,
           "metadata": {},
           "output_type": "execute_result"
          }],
   "source": [
    "exp(log(2.0))\n"
   ]
  }
,
  {
   "cell_type": "markdown",
   "metadata": {},
   
   "source": [
    "### Tuples\n",
    "\n",
    "Looking at our return functions, we\u0027re starting to get several values that we\u0027re passing into the functions individaully. It can be useful to group these values together to make it easy to pass them around. Tuples are a simple way to group values.\n",
    "\n",
    "Further information about tuples can be found in the [F# Language reference](https://docs.microsoft.com/en-us/dotnet/fsharp/language-reference/tuples) and the [F# for Fun and Profit](https://fsharpforfunandprofit.com/posts/tuples/) websites.\n",
    "\n"
   ]
  }
,
  {
   "cell_type": "code",
   "metadata": {
    "dotnet_interactive": {
     "language": "fsharp"
    },
    "polyglot_notebook": {
     "kernelName": "fsharp"
    }
   },
   "execution_count": 19, "outputs": [
          {
           "data": {
            "text/plain": ["val it: int * int = (1, 2)"]
        },
           "execution_count": 19,
           "metadata": {},
           "output_type": "execute_result"
          }],
   "source": [
    "(1,2)\n"
   ]
  }
,
  {
   "cell_type": "code",
   "metadata": {
    "dotnet_interactive": {
     "language": "fsharp"
    },
    "polyglot_notebook": {
     "kernelName": "fsharp"
    }
   },
   "execution_count": 20, "outputs": [
          {
           "data": {
            "text/plain": ["val it: int * int * int = (1, 2, 3)"]
        },
           "execution_count": 20,
           "metadata": {},
           "output_type": "execute_result"
          }],
   "source": [
    "(1,2,3)\n"
   ]
  }
,
  {
   "cell_type": "markdown",
   "metadata": {},
   
   "source": [
    "Tubles can contain mixed types.\n",
    "\n"
   ]
  }
,
  {
   "cell_type": "code",
   "metadata": {
    "dotnet_interactive": {
     "language": "fsharp"
    },
    "polyglot_notebook": {
     "kernelName": "fsharp"
    }
   },
   "execution_count": 21, "outputs": [
          {
           "data": {
            "text/plain": ["val it: int * string = (1, \"2\")"]
        },
           "execution_count": 21,
           "metadata": {},
           "output_type": "execute_result"
          }],
   "source": [
    "(1,\"2\")\n"
   ]
  }
,
  {
   "cell_type": "markdown",
   "metadata": {},
   
   "source": [
    "We can also deconstruct tuples. We can use built-in convenience functions for pairs.\n",
    "\n"
   ]
  }
,
  {
   "cell_type": "code",
   "metadata": {
    "dotnet_interactive": {
     "language": "fsharp"
    },
    "polyglot_notebook": {
     "kernelName": "fsharp"
    }
   },
   "execution_count": 22, "outputs": [
          {
           "data": {
            "text/plain": ["val it: int = 1"]
        },
           "execution_count": 22,
           "metadata": {},
           "output_type": "execute_result"
          }],
   "source": [
    "fst (1,2)\n"
   ]
  }
,
  {
   "cell_type": "code",
   "metadata": {
    "dotnet_interactive": {
     "language": "fsharp"
    },
    "polyglot_notebook": {
     "kernelName": "fsharp"
    }
   },
   "execution_count": 23, "outputs": [
          {
           "data": {
            "text/plain": ["val it: int = 2"]
        },
           "execution_count": 23,
           "metadata": {},
           "output_type": "execute_result"
          }],
   "source": [
    "snd (1,2)\n"
   ]
  }
,
  {
   "cell_type": "markdown",
   "metadata": {},
   
   "source": [
    "We can also deconstruct tuples using pattern matching.\n",
    "\n"
   ]
  }
,
  {
   "cell_type": "code",
   "metadata": {
    "dotnet_interactive": {
     "language": "fsharp"
    },
    "polyglot_notebook": {
     "kernelName": "fsharp"
    }
   },
   "execution_count": 24, "outputs": [
          {
           "data": {
            "text/plain": ["val b: int = 2",
"",
"val a: int = 1"]
        },
           "execution_count": 24,
           "metadata": {},
           "output_type": "execute_result"
          }],
   "source": [
    "let (a, b) = (1, 2)\n"
   ]
  }
,
  {
   "cell_type": "code",
   "metadata": {
    "dotnet_interactive": {
     "language": "fsharp"
    },
    "polyglot_notebook": {
     "kernelName": "fsharp"
    }
   },
   "execution_count": 25, "outputs": [
          {
           "data": {
            "text/plain": ["val e: float = 3.0",
"",
"val d: string = \"2\"",
"",
"val c: int = 1"]
        },
           "execution_count": 25,
           "metadata": {},
           "output_type": "execute_result"
          }],
   "source": [
    "let (c, d, e) = (1, \"2\", 3.0)\n"
   ]
  }
,
  {
   "cell_type": "markdown",
   "metadata": {},
   
   "source": [
    "Now redefining our simple return function to take a single tuple as the input parameter.\n",
    "\n"
   ]
  }
,
  {
   "cell_type": "code",
   "metadata": {
    "dotnet_interactive": {
     "language": "fsharp"
    },
    "polyglot_notebook": {
     "kernelName": "fsharp"
    }
   },
   "execution_count": 26, "outputs": [
          {
           "data": {
            "text/plain": ["val simpleReturnTuple:",
"",
"  beginningPrice: float * endingPrice: float * dividend: float -\u003e float",
"",
"val it: float = 0.1"]
        },
           "execution_count": 26,
           "metadata": {},
           "output_type": "execute_result"
          }],
   "source": [
    "let simpleReturnTuple (beginningPrice, endingPrice, dividend) =\n",
    "    // This is solving for `r` in FV = PV*(1+r)^t where t=1.\n",
    "    (endingPrice + dividend) / beginningPrice - 1.0\n",
    "\n",
    "simpleReturnTuple (100.0, 110.0, 0.0)\n"
   ]
  }
,
  {
   "cell_type": "code",
   "metadata": {
    "dotnet_interactive": {
     "language": "fsharp"
    },
    "polyglot_notebook": {
     "kernelName": "fsharp"
    }
   },
   "execution_count": 27, "outputs": [
          {
           "data": {
            "text/plain": ["val xx: float * float * float = (100.0, 110.0, 0.0)",
"",
"val it: float = 0.1"]
        },
           "execution_count": 27,
           "metadata": {},
           "output_type": "execute_result"
          }],
   "source": [
    "let xx = (100.0, 110.0, 0.0)\n",
    "simpleReturnTuple xx\n"
   ]
  }
,
  {
   "cell_type": "markdown",
   "metadata": {},
   
   "source": [
    "### Records\n",
    "\n",
    "If we want more structure than a tuple, then we can define a record.\n",
    "\n",
    "For more information on records see the relevant sections of the [F# language reference](https://docs.microsoft.com/en-us/dotnet/fsharp/language-reference/records) or [F# for Fun and Profit](https://fsharpforfunandprofit.com/posts/records/) websites.\n",
    "\n",
    "You must first define the record type before you use it:\n",
    "\n"
   ]
  }
,
  {
   "cell_type": "code",
   "metadata": {
    "dotnet_interactive": {
     "language": "fsharp"
    },
    "polyglot_notebook": {
     "kernelName": "fsharp"
    }
   },
   "execution_count": 28, "outputs": [],
   "source": [
    "type RecordExample = \n",
    "    { BeginningPrice : float \n",
    "      EndingPrice : float \n",
    "      Dividend : float }      \n"
   ]
  }
,
  {
   "cell_type": "markdown",
   "metadata": {},
   
   "source": [
    "And construct a value with that record type.\n",
    "\n"
   ]
  }
,
  {
   "cell_type": "code",
   "metadata": {
    "dotnet_interactive": {
     "language": "fsharp"
    },
    "polyglot_notebook": {
     "kernelName": "fsharp"
    }
   },
   "execution_count": 29, "outputs": [
          {
           "data": {
            "text/plain": ["val x: RecordExample = { BeginningPrice = 100.0",
"",
"                         EndingPrice = 110.0",
"",
"                         Dividend = 0.0 }"]
        },
           "execution_count": 29,
           "metadata": {},
           "output_type": "execute_result"
          }],
   "source": [
    "let x = { BeginningPrice = 100.0; EndingPrice = 110.0; Dividend = 0.0}\n"
   ]
  }
,
  {
   "cell_type": "markdown",
   "metadata": {},
   
   "source": [
    "Similar to tuples, we can deconstruct our record value `x` using pattern matching.\n",
    "\n"
   ]
  }
,
  {
   "cell_type": "code",
   "metadata": {
    "dotnet_interactive": {
     "language": "fsharp"
    },
    "polyglot_notebook": {
     "kernelName": "fsharp"
    }
   },
   "execution_count": 30, "outputs": [
          {
           "data": {
            "text/plain": ["val cc: float = 0.0",
"",
"val bb: float = 110.0",
"",
"val aa: float = 100.0"]
        },
           "execution_count": 30,
           "metadata": {},
           "output_type": "execute_result"
          }],
   "source": [
    "let { BeginningPrice = aa; EndingPrice = bb; Dividend = cc} = x\n"
   ]
  }
,
  {
   "cell_type": "markdown",
   "metadata": {},
   
   "source": [
    "We can also access individual fields by name.\n",
    "\n"
   ]
  }
,
  {
   "cell_type": "code",
   "metadata": {
    "dotnet_interactive": {
     "language": "fsharp"
    },
    "polyglot_notebook": {
     "kernelName": "fsharp"
    }
   },
   "execution_count": 31, "outputs": [
          {
           "data": {
            "text/plain": ["val it: float = 1.1"]
        },
           "execution_count": 31,
           "metadata": {},
           "output_type": "execute_result"
          }],
   "source": [
    "x.EndingPrice / x.BeginningPrice\n"
   ]
  }
,
  {
   "cell_type": "markdown",
   "metadata": {},
   
   "source": [
    "We can define a return function that operates on the `RecordExample` type explicitly:\n",
    "\n"
   ]
  }
,
  {
   "cell_type": "code",
   "metadata": {
    "dotnet_interactive": {
     "language": "fsharp"
    },
    "polyglot_notebook": {
     "kernelName": "fsharp"
    }
   },
   "execution_count": 32, "outputs": [],
   "source": [
    "let simpleReturnRecord1 { BeginningPrice = beginningPrice; EndingPrice = endingPrice; Dividend = dividend} =\n",
    "    // This is solving for `r` in FV = PV*(1+r)^t where t=1.\n",
    "    (endingPrice + dividend) / beginningPrice - 1.0\n"
   ]
  }
,
  {
   "cell_type": "markdown",
   "metadata": {},
   
   "source": [
    "Or we can let the compiler\u0027s type inference figure out the input type.\n",
    "\n"
   ]
  }
,
  {
   "cell_type": "code",
   "metadata": {
    "dotnet_interactive": {
     "language": "fsharp"
    },
    "polyglot_notebook": {
     "kernelName": "fsharp"
    }
   },
   "execution_count": 33, "outputs": [],
   "source": [
    "let simpleReturnRecord2 x =\n",
    "    // This is solving for `r` in FV = PV*(1+r)^t where t=1.\n",
    "    (x.EndingPrice + x.Dividend) / x.BeginningPrice - 1.0\n"
   ]
  }
,
  {
   "cell_type": "markdown",
   "metadata": {},
   
   "source": [
    "Or we can provide a type hint to tell the compiler the type of the input.\n",
    "\n"
   ]
  }
,
  {
   "cell_type": "code",
   "metadata": {
    "dotnet_interactive": {
     "language": "fsharp"
    },
    "polyglot_notebook": {
     "kernelName": "fsharp"
    }
   },
   "execution_count": 34, "outputs": [],
   "source": [
    "let simpleReturnRecord3 (x : RecordExample) =\n",
    "    // This is solving for `r` in FV = PV*(1+r)^t where t=1.\n",
    "    (x.EndingPrice + x.Dividend) / x.BeginningPrice - 1.0\n"
   ]
  }
,
  {
   "cell_type": "markdown",
   "metadata": {},
   
   "source": [
    "All 3 can be used interchangably, but when you have many similar types a type hint may be necessary to make the particular type that you want explicit.\n",
    "\n"
   ]
  }
,
  {
   "cell_type": "code",
   "metadata": {
    "dotnet_interactive": {
     "language": "fsharp"
    },
    "polyglot_notebook": {
     "kernelName": "fsharp"
    }
   },
   "execution_count": 35, "outputs": [
          {
           "data": {
            "text/plain": ["val it: float = 0.1"]
        },
           "execution_count": 35,
           "metadata": {},
           "output_type": "execute_result"
          }],
   "source": [
    "simpleReturnRecord1 x\n"
   ]
  }
,
  {
   "cell_type": "code",
   "metadata": {
    "dotnet_interactive": {
     "language": "fsharp"
    },
    "polyglot_notebook": {
     "kernelName": "fsharp"
    }
   },
   "execution_count": 36, "outputs": [
          {
           "data": {
            "text/plain": ["val it: float = 0.1"]
        },
           "execution_count": 36,
           "metadata": {},
           "output_type": "execute_result"
          }],
   "source": [
    "simpleReturnRecord2 x\n"
   ]
  }
,
  {
   "cell_type": "code",
   "metadata": {
    "dotnet_interactive": {
     "language": "fsharp"
    },
    "polyglot_notebook": {
     "kernelName": "fsharp"
    }
   },
   "execution_count": 37, "outputs": [
          {
           "data": {
            "text/plain": ["val it: float = 0.1"]
        },
           "execution_count": 37,
           "metadata": {},
           "output_type": "execute_result"
          }],
   "source": [
    "simpleReturnRecord3 x\n"
   ]
  }
,
  {
   "cell_type": "markdown",
   "metadata": {},
   
   "source": [
    "### Pipelines and lambda expressions\n",
    "\n",
    "Pipelines and lambda functions are two important tools. Pipelines are created using the pipe operator (`|\u003e`) and allow you to pipe the output of one function to the input of another. Lambda expressions allow you to create functions on the fly.\n",
    "\n",
    "Take this example from before\n",
    "\n"
   ]
  }
,
  {
   "cell_type": "code",
   "metadata": {
    "dotnet_interactive": {
     "language": "fsharp"
    },
    "polyglot_notebook": {
     "kernelName": "fsharp"
    }
   },
   "execution_count": 38, "outputs": [],
   "source": [
    "addOne (addOne (addOne 0)) // = (1 + (1 + (1 + 0)))\n"
   ]
  }
,
  {
   "cell_type": "markdown",
   "metadata": {},
   
   "source": [
    "We can write the same thing using pipes.\n",
    "\n"
   ]
  }
,
  {
   "cell_type": "code",
   "metadata": {
    "dotnet_interactive": {
     "language": "fsharp"
    },
    "polyglot_notebook": {
     "kernelName": "fsharp"
    }
   },
   "execution_count": 39, "outputs": [],
   "source": [
    "0 |\u003e addOne |\u003e addOne |\u003e addOne // = (1 + (1 + (1 + 0)))\n"
   ]
  }
,
  {
   "cell_type": "markdown",
   "metadata": {},
   
   "source": [
    "lambda expressions `fun x -\u003e ...` are used to create functions on the fly.\n",
    "\n"
   ]
  }
,
  {
   "cell_type": "code",
   "metadata": {
    "dotnet_interactive": {
     "language": "fsharp"
    },
    "polyglot_notebook": {
     "kernelName": "fsharp"
    }
   },
   "execution_count": 40, "outputs": [
          {
           "data": {
            "text/plain": ["val it: float = 4.0"]
        },
           "execution_count": 40,
           "metadata": {},
           "output_type": "execute_result"
          }],
   "source": [
    "1.0 |\u003e fun x -\u003e x + 1.0 |\u003e fun x -\u003e x ** 2.0\n"
   ]
  }
,
  {
   "cell_type": "markdown",
   "metadata": {},
   
   "source": [
    "### Collections: Arrays, Lists, Sequences\n",
    "\n",
    "Collections provide a way to store multiple values together.\n",
    "Maybe you want to store a list of stock prices, or an array of portfolios.\n",
    "\n",
    "A simple int array.\n",
    "\n"
   ]
  }
,
  {
   "cell_type": "code",
   "metadata": {
    "dotnet_interactive": {
     "language": "fsharp"
    },
    "polyglot_notebook": {
     "kernelName": "fsharp"
    }
   },
   "execution_count": 41, "outputs": [],
   "source": [
    "let ar = [| 0 .. 10 |] \n"
   ]
  }
,
  {
   "cell_type": "code",
   "metadata": {
    "dotnet_interactive": {
     "language": "fsharp"
    },
    "polyglot_notebook": {
     "kernelName": "fsharp"
    }
   },
   "execution_count": 42, "outputs": [
          {
           "data": {
            "text/plain": ["val it: int array = [|0; 1; 2; 3; 4; 5; 6; 7; 8; 9; 10|]"]
        },
           "execution_count": 42,
           "metadata": {},
           "output_type": "execute_result"
          }],
   "source": [
    "ar \n"
   ]
  }
,
  {
   "cell_type": "markdown",
   "metadata": {},
   
   "source": [
    "When we look at the type signature of the elements in the array `val ar : int []`, it tells us that we have a integer array, meaning an array in which each element of the array is an integer. Arrays are \"zero indexed\", meaning the 0th item is the first in the array.\n",
    "\n",
    "We can access the elements individually\n",
    "\n"
   ]
  }
,
  {
   "cell_type": "code",
   "metadata": {
    "dotnet_interactive": {
     "language": "fsharp"
    },
    "polyglot_notebook": {
     "kernelName": "fsharp"
    }
   },
   "execution_count": 43, "outputs": [
          {
           "data": {
            "text/plain": ["val it: int = 0"]
        },
           "execution_count": 43,
           "metadata": {},
           "output_type": "execute_result"
          }],
   "source": [
    "ar[0]\n"
   ]
  }
,
  {
   "cell_type": "code",
   "metadata": {
    "dotnet_interactive": {
     "language": "fsharp"
    },
    "polyglot_notebook": {
     "kernelName": "fsharp"
    }
   },
   "execution_count": 44, "outputs": [
          {
           "data": {
            "text/plain": ["val it: int = 3"]
        },
           "execution_count": 44,
           "metadata": {},
           "output_type": "execute_result"
          }],
   "source": [
    "ar[3]\n"
   ]
  }
,
  {
   "cell_type": "markdown",
   "metadata": {},
   
   "source": [
    "Or we can access a range of elements.\n",
    "\n"
   ]
  }
,
  {
   "cell_type": "code",
   "metadata": {
    "dotnet_interactive": {
     "language": "fsharp"
    },
    "polyglot_notebook": {
     "kernelName": "fsharp"
    }
   },
   "execution_count": 45, "outputs": [
          {
           "data": {
            "text/plain": ["val it: int array = [|0; 1; 2|]"]
        },
           "execution_count": 45,
           "metadata": {},
           "output_type": "execute_result"
          }],
   "source": [
    "ar[0 .. 2]\n"
   ]
  }
,
  {
   "cell_type": "markdown",
   "metadata": {},
   
   "source": [
    "Lists and sequences are similar.\n",
    "\n"
   ]
  }
,
  {
   "cell_type": "code",
   "metadata": {
    "dotnet_interactive": {
     "language": "fsharp"
    },
    "polyglot_notebook": {
     "kernelName": "fsharp"
    }
   },
   "execution_count": 46, "outputs": [
          {
           "data": {
            "text/plain": ["val it: float list = [1.0; 2.0; 3.0; 4.0; 5.0; 6.0; 7.0; 8.0; 9.0; 10.0]"]
        },
           "execution_count": 46,
           "metadata": {},
           "output_type": "execute_result"
          }],
   "source": [
    "// List\n",
    "[ 1.0 .. 10.0 ]\n"
   ]
  }
,
  {
   "cell_type": "code",
   "metadata": {
    "dotnet_interactive": {
     "language": "fsharp"
    },
    "polyglot_notebook": {
     "kernelName": "fsharp"
    }
   },
   "execution_count": 47, "outputs": [
          {
           "data": {
            "text/plain": ["val it: float seq = seq [1.0; 2.0; 3.0; 4.0; ...]"]
        },
           "execution_count": 47,
           "metadata": {},
           "output_type": "execute_result"
          }],
   "source": [
    "// Sequence\n",
    "seq { 1.0 .. 10.0 }\n"
   ]
  }
,
  {
   "cell_type": "markdown",
   "metadata": {},
   
   "source": [
    "Arrays, lists, and sequences have different properties that can make one data structure preferable to the others in a given setting. We\u0027ll discuss these different properties in due time, but for an overview you can see the F# collection language reference [here](https://docs.microsoft.com/en-us/dotnet/fsharp/language-reference/fsharp-collection-types). Sequences are the most different as they are \"lazy\", meaning \"Sequences are particularly useful when you have a large, ordered collection of data but don\u0027t necessarily expect to use all the elements. Individual sequence elements are computed only as required, so a sequence can perform better than a list if not all the elements are used\" (see F# language reference).\n",
    "\n",
    "These collections have several built-in functions for operating on them such as map, filter, groupBy, etc.\n",
    "\n",
    "Array.map applies a function to each element of an array.\n",
    "\n"
   ]
  }
,
  {
   "cell_type": "code",
   "metadata": {
    "dotnet_interactive": {
     "language": "fsharp"
    },
    "polyglot_notebook": {
     "kernelName": "fsharp"
    }
   },
   "execution_count": 48, "outputs": [
          {
           "data": {
            "text/plain": ["val it: int array = [|1; 2; 3; 4; 5; 6; 7; 8; 9; 10; 11|]"]
        },
           "execution_count": 48,
           "metadata": {},
           "output_type": "execute_result"
          }],
   "source": [
    "ar\n",
    "|\u003e Array.map(fun x -\u003e x + 1)\n"
   ]
  }
,
  {
   "cell_type": "markdown",
   "metadata": {},
   
   "source": [
    "The Array.map function is equivalent to\n",
    "\n"
   ]
  }
,
  {
   "cell_type": "code",
   "metadata": {
    "dotnet_interactive": {
     "language": "fsharp"
    },
    "polyglot_notebook": {
     "kernelName": "fsharp"
    }
   },
   "execution_count": 49, "outputs": [],
   "source": [
    "[| for x in ar do x + 1 |]\n"
   ]
  }
,
  {
   "cell_type": "markdown",
   "metadata": {},
   
   "source": [
    "Array.filter filters elements of a list to those for which a function evaluates to `true`.\n",
    "\n"
   ]
  }
,
  {
   "cell_type": "code",
   "metadata": {
    "dotnet_interactive": {
     "language": "fsharp"
    },
    "polyglot_notebook": {
     "kernelName": "fsharp"
    }
   },
   "execution_count": 50, "outputs": [
          {
           "data": {
            "text/plain": ["val it: int array = [|0; 1; 2; 3; 4|]"]
        },
           "execution_count": 50,
           "metadata": {},
           "output_type": "execute_result"
          }],
   "source": [
    "ar\n",
    "|\u003e Array.filter(fun x -\u003e x \u003c 5)\n"
   ]
  }
,
  {
   "cell_type": "markdown",
   "metadata": {},
   
   "source": [
    "Array.filter is equivalent to\n",
    "\n"
   ]
  }
,
  {
   "cell_type": "code",
   "metadata": {
    "dotnet_interactive": {
     "language": "fsharp"
    },
    "polyglot_notebook": {
     "kernelName": "fsharp"
    }
   },
   "execution_count": 51, "outputs": [],
   "source": [
    "[| for x in ar do if x \u003c 5 then x |]\n"
   ]
  }
,
  {
   "cell_type": "markdown",
   "metadata": {},
   
   "source": [
    "While the comprehension syntax `[| for x in ar do ... |]` is common to use,\n",
    "the Array module functions tend to be more useful when you\u0027re chaining multiple operations\n",
    "together using pipes.\n",
    "\n",
    "For example, this is what a groupBy function does.\n",
    "\n"
   ]
  }
,
  {
   "cell_type": "code",
   "metadata": {
    "dotnet_interactive": {
     "language": "fsharp"
    },
    "polyglot_notebook": {
     "kernelName": "fsharp"
    }
   },
   "execution_count": 52, "outputs": [
          {
           "data": {
            "text/plain": ["val it: (bool * int array) array =",
"",
"  [|(true, [|0; 1; 2; 3; 4|]); (false, [|5; 6; 7; 8; 9; 10|])|]"]
        },
           "execution_count": 52,
           "metadata": {},
           "output_type": "execute_result"
          }],
   "source": [
    "ar\n",
    "|\u003e Array.groupBy(fun x -\u003e x \u003c 5)\n"
   ]
  }
,
  {
   "cell_type": "markdown",
   "metadata": {},
   
   "source": [
    "Now a pipeline of two operations.\n",
    "\n"
   ]
  }
,
  {
   "cell_type": "code",
   "metadata": {
    "dotnet_interactive": {
     "language": "fsharp"
    },
    "polyglot_notebook": {
     "kernelName": "fsharp"
    }
   },
   "execution_count": 53, "outputs": [
          {
           "data": {
            "text/plain": ["val it: (int * int) array = [|(0, 4); (5, 10)|]"]
        },
           "execution_count": 53,
           "metadata": {},
           "output_type": "execute_result"
          }],
   "source": [
    "ar\n",
    "|\u003e Array.groupBy(fun x -\u003e x \u003c 5)\n",
    "|\u003e Array.map(fun (group, xs) -\u003e Array.min xs, Array.max xs)\n"
   ]
  }
,
  {
   "cell_type": "markdown",
   "metadata": {},
   
   "source": [
    "## Working with data\n",
    "\n",
    "With this foundation, let\u0027s now try loading some data.\n",
    "We are going to load some helper code that allows us to download and plot this data.\n",
    "This will introduce using the `nuget` package manager for loading external libraries,\n",
    "and how to open namespaces.\n",
    "\n",
    "We\u0027re going to use the **Quotes.YahooFinance** library for this.\n",
    "We download the code from the [nuget.org](http://www.nuget.org) package manager.\n",
    "\n",
    "This is equivalent to loading libraries with `pip` or `conda` in python\n",
    "or `install.packages` in R.\n",
    "\n"
   ]
  }
,
  {
   "cell_type": "code",
   "metadata": {
    "dotnet_interactive": {
     "language": "fsharp"
    },
    "polyglot_notebook": {
     "kernelName": "fsharp"
    }
   },
   "execution_count": 54, "outputs": [],
   "source": [
    "#r \"nuget: Quotes.YahooFinance, 0.0.5\"\n"
   ]
  }
,
  {
   "cell_type": "markdown",
   "metadata": {},
   
   "source": [
    "We now have access to the code in the **Quotes.YahooFinance** library.\n",
    "The library has a function called `YahooFinance.History` that we\n",
    "can use to download quote histories from yahoo finance.\n",
    "\n",
    "We can access code using fully qualified names.\n",
    "\n"
   ]
  }
,
  {
   "cell_type": "code",
   "metadata": {
    "dotnet_interactive": {
     "language": "fsharp"
    },
    "polyglot_notebook": {
     "kernelName": "fsharp"
    }
   },
   "execution_count": 55, "outputs": [],
   "source": [
    "Quotes.YahooFinance.YahooFinance.History(\"AAPL\")\n"
   ]
  }
,
  {
   "cell_type": "markdown",
   "metadata": {},
   
   "source": [
    "However, it\u0027s common to open a library\u0027s namespace in order to access\n",
    "the library\u0027s functionality directly.\n",
    "\n"
   ]
  }
,
  {
   "cell_type": "code",
   "metadata": {
    "dotnet_interactive": {
     "language": "fsharp"
    },
    "polyglot_notebook": {
     "kernelName": "fsharp"
    }
   },
   "execution_count": 56, "outputs": [],
   "source": [
    "open Quotes.YahooFinance\n",
    "\n",
    "YahooFinance.History(\"AAPL\")\n"
   ]
  }
,
  {
   "cell_type": "markdown",
   "metadata": {},
   
   "source": [
    "Namespaces such as `Quotes.YahooFinance` are a hierarchical way of organizing code.\n",
    "\n",
    "We are ready to request some data. Let\u0027s define our start and end dates.\n",
    "`DateTime` is a type in the `System` namespace.\n",
    "\n"
   ]
  }
,
  {
   "cell_type": "code",
   "metadata": {
    "dotnet_interactive": {
     "language": "fsharp"
    },
    "polyglot_notebook": {
     "kernelName": "fsharp"
    }
   },
   "execution_count": 57, "outputs": [
          {
           "data": {
            "text/plain": ["2/20/2024 12:49:01 PM"]
        },
           "execution_count": 57,
           "metadata": {},
           "output_type": "execute_result"
          }],
   "source": [
    "open System\n",
    "\n",
    "let myStart = DateTime(2020,1,1)\n",
    "let myEnd = DateTime.UtcNow\n",
    "myEnd\n"
   ]
  }
,
  {
   "cell_type": "code",
   "metadata": {
    "dotnet_interactive": {
     "language": "fsharp"
    },
    "polyglot_notebook": {
     "kernelName": "fsharp"
    }
   },
   "execution_count": 58, "outputs": [],
   "source": [
    "let aapl = YahooFinance.History(\"AAPL\",startDate=myStart,endDate=myEnd,interval = Interval.Daily)\n"
   ]
  }
,
  {
   "cell_type": "markdown",
   "metadata": {},
   
   "source": [
    "### Plotting\n",
    "\n",
    "Now let\u0027s plot the stock price using [Plotly.NET](https://plotly.github.io/Plotly.NET/).\n",
    "\n"
   ]
  }
,
  {
   "cell_type": "code",
   "metadata": {
    "dotnet_interactive": {
     "language": "fsharp"
    },
    "polyglot_notebook": {
     "kernelName": "fsharp"
    }
   },
   "execution_count": 59, "outputs": [
          {
           "data": {
            "text/plain": ["input.fsx (6,31)-(6,35) typecheck error The value or constructor \u0027aapl\u0027 is not defined.",
"",
"input.fsx (6,39)-(6,45) typecheck error Lookup on object of indeterminate type based on information prior to this program point. A type annotation may be needed prior to this program point to constrain the type of the object. This may allow the lookup to be resolved.",
"",
"input.fsx (6,47)-(6,62) typecheck error Lookup on object of indeterminate type based on information prior to this program point. A type annotation may be needed prior to this program point to constrain the type of the object. This may allow the lookup to be resolved.",
"",
"[Loading C:\\Users\\runneradmin\\.packagemanagement\\nuget\\Projects\\4004--7a8efa2a-ea6d-42c2-840c-f0c8c771a57c\\Project.fsproj.fsx]",
"",
"module FSI_0231.Project.fsproj"]
        },
           "execution_count": 59,
           "metadata": {},
           "output_type": "execute_result"
          }],
   "source": [
    "#r \"nuget: Plotly.NET, 3.*\"\n",
    "#r \"nuget: Plotly.NET.Interactive, 3.*\"\n",
    "open Plotly.NET\n",
    "\n",
    "\n",
    "let dateAdjClose = [ for x in aapl do x.Date, x.AdjustedClose ]\n",
    "\n",
    "dateAdjClose[..3]\n"
   ]
  }
,
  {
   "cell_type": "code",
   "metadata": {
    "dotnet_interactive": {
     "language": "fsharp"
    },
    "polyglot_notebook": {
     "kernelName": "fsharp"
    }
   },
   "execution_count": null, "outputs": [
          {
           "data": {
            "text/plain": ["No value returned by any evaluator"]
        },
           "execution_count": null,
           "metadata": {},
           "output_type": "execute_result"
          }],
   "source": [
    "dateAdjClose\n",
    "|\u003e Chart.Line   \n"
   ]
  }
,
  {
   "cell_type": "markdown",
   "metadata": {},
   
   "source": [
    "Let\u0027s calculate returns for this data. Typically we calculate close-close returns. Looking at the data, we could use the `close`, `divCash`, and `splitFacor` columns to calculate returns accounting for stock splits and dividends (a good at home exercise). But there is also an `adjClose` column that accounts for both those things. So we we can use this\n",
    "\n"
   ]
  }
,
  {
   "cell_type": "code",
   "metadata": {
    "dotnet_interactive": {
     "language": "fsharp"
    },
    "polyglot_notebook": {
     "kernelName": "fsharp"
    }
   },
   "execution_count": 61, "outputs": [],
   "source": [
    "// Returns\n",
    "let returns = \n",
    "    aapl\n",
    "    |\u003e List.sortBy(fun x -\u003e x.Date)\n",
    "    |\u003e List.pairwise\n",
    "    |\u003e List.map(fun (a,b) -\u003e b.Date, calcReturn a.AdjustedClose b.AdjustedClose)\n",
    "\n",
    "let avgReturnEachMonth = \n",
    "    returns\n",
    "    |\u003e List.groupBy(fun (date, ret) -\u003e DateTime(date.Year, date.Month,1))\n",
    "    |\u003e List.map(fun (month, xs) -\u003e \n",
    "        let avgPrice = [ for (date, price) in xs do price ] |\u003e List.average\n",
    "        month, xs.Length, avgPrice)\n"
   ]
  }
,
  {
   "cell_type": "markdown",
   "metadata": {},
   
   "source": [
    "We can look at a few of these\n",
    "\n"
   ]
  }
,
  {
   "cell_type": "code",
   "metadata": {
    "dotnet_interactive": {
     "language": "fsharp"
    },
    "polyglot_notebook": {
     "kernelName": "fsharp"
    }
   },
   "execution_count": 62, "outputs": [
          {
           "data": {
            "text/plain": ["input.fsx (1,1)-(1,19) typecheck error The value or constructor \u0027avgReturnEachMonth\u0027 is not defined."]
        },
           "execution_count": 62,
           "metadata": {},
           "output_type": "execute_result"
          }],
   "source": [
    "avgReturnEachMonth |\u003e List.take 3 \n"
   ]
  }
,
  {
   "cell_type": "code",
   "metadata": {
    "dotnet_interactive": {
     "language": "fsharp"
    },
    "polyglot_notebook": {
     "kernelName": "fsharp"
    }
   },
   "execution_count": 63, "outputs": [],
   "source": [
    "let monthlyReturnChart =\n",
    "    avgReturnEachMonth\n",
    "    |\u003e List.map(fun (month, cnt, ret) -\u003e month, ret)\n",
    "    |\u003e Chart.Bar\n"
   ]
  }
,
  {
   "cell_type": "code",
   "metadata": {
    "dotnet_interactive": {
     "language": "fsharp"
    },
    "polyglot_notebook": {
     "kernelName": "fsharp"
    }
   },
   "execution_count": null, "outputs": [
          {
           "data": {
            "text/plain": ["No value returned by any evaluator"]
        },
           "execution_count": null,
           "metadata": {},
           "output_type": "execute_result"
          }],
   "source": [
    "monthlyReturnChart \n"
   ]
  }
,
  {
   "cell_type": "markdown",
   "metadata": {},
   
   "source": [
    "## Volatility\n",
    "\n",
    "We represent volatility by the standard deviation of returns. We can define a standard deviation function ourself.\n",
    "\n"
   ]
  }
,
  {
   "cell_type": "code",
   "metadata": {
    "dotnet_interactive": {
     "language": "fsharp"
    },
    "polyglot_notebook": {
     "kernelName": "fsharp"
    }
   },
   "execution_count": 65, "outputs": [
          {
           "data": {
            "text/plain": ["val stddev: xs: float seq -\u003e float",
"",
"val it: float = 3.027650354"]
        },
           "execution_count": 65,
           "metadata": {},
           "output_type": "execute_result"
          }],
   "source": [
    "let stddev xs =\n",
    "    let mu = xs |\u003e Seq.average\n",
    "    let sse = xs |\u003e Seq.sumBy(fun x -\u003e (x - mu)**2.0)\n",
    "    let n = xs |\u003e Seq.length |\u003e float\n",
    "    sqrt (sse / (n - 1.0))\n",
    "\n",
    "[1.0 .. 10.0 ] |\u003e stddev    \n"
   ]
  }
,
  {
   "cell_type": "markdown",
   "metadata": {},
   
   "source": [
    "But it is also convenient to use the [FSharp.Stats](https://fslab.org/FSharp.Stats/)\n",
    "\n"
   ]
  }
,
  {
   "cell_type": "code",
   "metadata": {
    "dotnet_interactive": {
     "language": "fsharp"
    },
    "polyglot_notebook": {
     "kernelName": "fsharp"
    }
   },
   "execution_count": 66, "outputs": [
          {
           "data": {
            "text/plain": ["[Loading C:\\Users\\runneradmin\\.packagemanagement\\nuget\\Projects\\4004--7a8efa2a-ea6d-42c2-840c-f0c8c771a57c\\Project.fsproj.fsx]",
"",
"module FSI_0254.Project.fsproj",
"",
"",
"",
"val it: float = 3.027650354"]
        },
           "execution_count": 66,
           "metadata": {},
           "output_type": "execute_result"
          }],
   "source": [
    "#r \"nuget: FSharp.Stats, 0.5.0\"\n",
    "\n",
    "open FSharp.Stats\n",
    "\n",
    "[1.0 .. 10.0 ] |\u003e stDev\n"
   ]
  }
,
  {
   "cell_type": "markdown",
   "metadata": {},
   
   "source": [
    "Now let\u0027s look at 5-day rolling volatilities.\n",
    "\n"
   ]
  }
,
  {
   "cell_type": "code",
   "metadata": {
    "dotnet_interactive": {
     "language": "fsharp"
    },
    "polyglot_notebook": {
     "kernelName": "fsharp"
    }
   },
   "execution_count": 67, "outputs": [],
   "source": [
    "let rollingVols =\n",
    "    returns\n",
    "    // Sort by date again because you never can be too careful\n",
    "    // about making sure that you have the right sort order.\n",
    "    |\u003e List.sortBy fst \n",
    "    |\u003e List.windowed 5\n",
    "    |\u003e List.map(fun xs -\u003e\n",
    "        let maxWindowDate = xs |\u003e Seq.map fst |\u003e Seq.max\n",
    "        let dailyVol = \n",
    "            xs \n",
    "            |\u003e List.map (fun (date, ret) -\u003e ret) \n",
    "            |\u003e stDev\n",
    "        let annualizedVolInPct = dailyVol * sqrt(252.0) * 100.0\n",
    "        maxWindowDate, annualizedVolInPct)\n",
    "\n",
    "let volChart = \n",
    "    rollingVols\n",
    "    |\u003e Chart.Line\n"
   ]
  }
,
  {
   "cell_type": "code",
   "metadata": {
    "dotnet_interactive": {
     "language": "fsharp"
    },
    "polyglot_notebook": {
     "kernelName": "fsharp"
    }
   },
   "execution_count": null, "outputs": [
          {
           "data": {
            "text/plain": ["No value returned by any evaluator"]
        },
           "execution_count": null,
           "metadata": {},
           "output_type": "execute_result"
          }],
   "source": [
    "volChart     \n"
   ]
  }
 ],
 "metadata": {
  "kernelspec": {
   "display_name": ".NET (F#)",
   "language": "F#",
   "name": ".net-fsharp"
  },
  "language_info": {
   "file_extension": ".fs",
   "mimetype": "text/x-fsharp",
   "name": "polyglot-notebook",
   "pygments_lexer": "fsharp"
  },
  "polyglot_notebook": {
   "kernelInfo": {
    "defaultKernelName": "fsharp",
    "items": [
     {
      "aliases": [],
      "languageName": "fsharp",
      "name": "fsharp"
     }
    ]
   }
  }
 },
 "nbformat": 4,
 "nbformat_minor": 2
}

