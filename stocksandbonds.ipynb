
{
 "cells": [
  {
   "cell_type": "markdown",
   "metadata": {},
   
   "source": [
    "[![Binder](img/badge-binder.svg)](https://mybinder.org/v2/gh/nhirschey/teaching/gh-pages?filepath=stocksandbonds.ipynb)\u0026emsp;\n",
    "[![Script](img/badge-script.svg)](/Teaching//stocksandbonds.fsx)\u0026emsp;\n",
    "[![Notebook](img/badge-notebook.svg)](/Teaching//stocksandbonds.ipynb)\n",
    "\n",
    "# Stocks for the long run, this time with both stocks and bonds\n",
    "\n"
   ]
  }
,
  {
   "cell_type": "code",
   "metadata": {
    "dotnet_interactive": {
     "language": "fsharp"
    },
    "polyglot_notebook": {
     "kernelName": "fsharp"
    }
   },
   "execution_count": 1, "outputs": [],
   "source": [
    "#r \"nuget: ExcelProvider, 2.0.0\"\n",
    "#r \"nuget: FSharp.Stats, 0.5.0\"\n",
    "#r \"nuget: Plotly.NET, 3.*\"\n",
    "#r \"nuget: Plotly.NET.Interactive, 3.*\"\n",
    "#r \"nuget: NovaSBE.Finance, 0.5.0\"\n",
    "\n",
    "\n",
    "open FSharp.Interop.Excel\n",
    "open System\n",
    "open FSharp.Stats\n",
    "open Plotly.NET\n",
    "open NovaSBE.Finance.Utils\n",
    "\n",
    "Environment.CurrentDirectory \u003c- __SOURCE_DIRECTORY__\n"
   ]
  }
,
  {
   "cell_type": "markdown",
   "metadata": {},
   
   "source": [
    "Download the excel file from Robert Shiller\u0027s website to your current directory.\n",
    "\n"
   ]
  }
,
  {
   "cell_type": "code",
   "metadata": {
    "dotnet_interactive": {
     "language": "fsharp"
    },
    "polyglot_notebook": {
     "kernelName": "fsharp"
    }
   },
   "execution_count": 2, "outputs": [],
   "source": [
    "download \"http://www.econ.yale.edu/~shiller/data/ie_data.xls\" \"shiller_data.xls\"\n"
   ]
  }
,
  {
   "cell_type": "markdown",
   "metadata": {},
   
   "source": [
    "Now loading the excel data.\n",
    "\n"
   ]
  }
,
  {
   "cell_type": "code",
   "metadata": {
    "dotnet_interactive": {
     "language": "fsharp"
    },
    "polyglot_notebook": {
     "kernelName": "fsharp"
    }
   },
   "execution_count": 3, "outputs": [],
   "source": [
    "let [\u003cLiteral\u003e] shillerFile = __SOURCE_DIRECTORY__ + \"/shiller_data.xls\"\n",
    "type ShillerXls = ExcelFile\u003cshillerFile,SheetName=\"Data\",Range=\"A8:V2000\",ForceString = true\u003e\n",
    "\n",
    "let shiller = \n",
    "    ShillerXls().Data |\u003e Seq.toList\n"
   ]
  }
,
  {
   "cell_type": "markdown",
   "metadata": {},
   
   "source": [
    "Let\u0027s look at the dates.\n",
    "\n"
   ]
  }
,
  {
   "cell_type": "code",
   "metadata": {
    "dotnet_interactive": {
     "language": "fsharp"
    },
    "polyglot_notebook": {
     "kernelName": "fsharp"
    }
   },
   "execution_count": 4, "outputs": [],
   "source": [
    "shiller[..11] |\u003e List.map (fun x -\u003e x.Date)\n"
   ]
  }
,
  {
   "cell_type": "markdown",
   "metadata": {},
   
   "source": [
    "Remember that is the same as\n",
    "\n"
   ]
  }
,
  {
   "cell_type": "code",
   "metadata": {
    "dotnet_interactive": {
     "language": "fsharp"
    },
    "polyglot_notebook": {
     "kernelName": "fsharp"
    }
   },
   "execution_count": 5, "outputs": [],
   "source": [
    "[ for x in shiller[..11] do x.Date ]\n"
   ]
  }
,
  {
   "cell_type": "markdown",
   "metadata": {},
   
   "source": [
    "Function to parse the dates.\n",
    "\n"
   ]
  }
,
  {
   "cell_type": "code",
   "metadata": {
    "dotnet_interactive": {
     "language": "fsharp"
    },
    "polyglot_notebook": {
     "kernelName": "fsharp"
    }
   },
   "execution_count": 6, "outputs": [],
   "source": [
    "let parseDate (x: ShillerXls.Row) =\n",
    "    let year = int x.Date[..3]\n",
    "    let month = \n",
    "        let m = x.Date[5..]\n",
    "        if m = \"1\" then 10 else int m\n",
    "    DateTime(year, month, 1)\n"
   ]
  }
,
  {
   "cell_type": "markdown",
   "metadata": {},
   
   "source": [
    "Parse the first few dates.\n",
    "\n"
   ]
  }
,
  {
   "cell_type": "code",
   "metadata": {
    "dotnet_interactive": {
     "language": "fsharp"
    },
    "polyglot_notebook": {
     "kernelName": "fsharp"
    }
   },
   "execution_count": 7, "outputs": [],
   "source": [
    "shiller[..11] \n",
    "|\u003e List.map (fun x -\u003e x.Date, parseDate x)\n"
   ]
  }
,
  {
   "cell_type": "markdown",
   "metadata": {},
   
   "source": [
    "Check that we\u0027re getting the right data.\n",
    "\n"
   ]
  }
,
  {
   "cell_type": "code",
   "metadata": {
    "dotnet_interactive": {
     "language": "fsharp"
    },
    "polyglot_notebook": {
     "kernelName": "fsharp"
    }
   },
   "execution_count": 8, "outputs": [],
   "source": [
    "shiller[1823..1825]\n"
   ]
  }
,
  {
   "cell_type": "markdown",
   "metadata": {},
   
   "source": [
    "Some specific columns.\n",
    "\n"
   ]
  }
,
  {
   "cell_type": "code",
   "metadata": {
    "dotnet_interactive": {
     "language": "fsharp"
    },
    "polyglot_notebook": {
     "kernelName": "fsharp"
    }
   },
   "execution_count": 9, "outputs": [],
   "source": [
    "shiller[1823..1825]\n",
    "|\u003e List.map (fun x -\u003e \n",
    "    x.Date, x.D, x.E)\n"
   ]
  }
,
  {
   "cell_type": "markdown",
   "metadata": {},
   
   "source": [
    "Take the data until I get to those bad rows.\n",
    "\n"
   ]
  }
,
  {
   "cell_type": "code",
   "metadata": {
    "dotnet_interactive": {
     "language": "fsharp"
    },
    "polyglot_notebook": {
     "kernelName": "fsharp"
    }
   },
   "execution_count": 10, "outputs": [],
   "source": [
    "let shillerClean =\n",
    "    shiller\n",
    "    |\u003e List.takeWhile (fun x -\u003e \n",
    "        not (isNull x.Date) \u0026\u0026\n",
    "        not (isNull x.D) \u0026\u0026\n",
    "        not (isNull x.E))\n"
   ]
  }
,
  {
   "cell_type": "markdown",
   "metadata": {},
   
   "source": [
    "The S\u0026amp;P500 total (price + dividend) return index is the Price2 column.\n",
    "To calculate returns from it we want consecutive observations.\n",
    "\n"
   ]
  }
,
  {
   "cell_type": "code",
   "metadata": {
    "dotnet_interactive": {
     "language": "fsharp"
    },
    "polyglot_notebook": {
     "kernelName": "fsharp"
    }
   },
   "execution_count": 11, "outputs": [],
   "source": [
    "let x0 = shillerClean[0]\n",
    "let x1 = shillerClean[1]\n",
    "\n",
    "x0.Price2, x1.Price2\n"
   ]
  }
,
  {
   "cell_type": "markdown",
   "metadata": {},
   
   "source": [
    "We can do this for the whole list using `List.pairwise`\n",
    "\n"
   ]
  }
,
  {
   "cell_type": "code",
   "metadata": {
    "dotnet_interactive": {
     "language": "fsharp"
    },
    "polyglot_notebook": {
     "kernelName": "fsharp"
    }
   },
   "execution_count": 12, "outputs": [],
   "source": [
    "shillerClean\n",
    "|\u003e List.pairwise\n",
    "|\u003e List.map (fun (x0, x1) -\u003e x0.Price2, x1.Price2)\n",
    "|\u003e List.take 3\n"
   ]
  }
,
  {
   "cell_type": "markdown",
   "metadata": {},
   
   "source": [
    "We\u0027ll calculate a log return.\n",
    "\n"
   ]
  }
,
  {
   "cell_type": "code",
   "metadata": {
    "dotnet_interactive": {
     "language": "fsharp"
    },
    "polyglot_notebook": {
     "kernelName": "fsharp"
    }
   },
   "execution_count": 13, "outputs": [],
   "source": [
    "let logReturn (p0, p1) = log (p1 / p0)\n",
    "\n",
    "logReturn (float x0.Price2, float x1.Price2)\n"
   ]
  }
,
  {
   "cell_type": "markdown",
   "metadata": {},
   
   "source": [
    "Now for the whole list.\n",
    "\n"
   ]
  }
,
  {
   "cell_type": "code",
   "metadata": {
    "dotnet_interactive": {
     "language": "fsharp"
    },
    "polyglot_notebook": {
     "kernelName": "fsharp"
    }
   },
   "execution_count": 14, "outputs": [],
   "source": [
    "shillerClean[0..5] \n",
    "|\u003e List.map (fun x -\u003e float x.Price2)\n",
    "|\u003e List.pairwise\n",
    "|\u003e List.map logReturn\n"
   ]
  }
,
  {
   "cell_type": "markdown",
   "metadata": {},
   
   "source": [
    "A type to hold return data.\n",
    "\n"
   ]
  }
,
  {
   "cell_type": "code",
   "metadata": {
    "dotnet_interactive": {
     "language": "fsharp"
    },
    "polyglot_notebook": {
     "kernelName": "fsharp"
    }
   },
   "execution_count": 15, "outputs": [],
   "source": [
    "type ShillerObs =\n",
    "    {\n",
    "        Date: DateTime\n",
    "        /// S\u0026P 500 log return\n",
    "        SP500RealReturn: float\n",
    "        /// 10-year US Treasury log return\n",
    "        GS10RealReturn: float\n",
    "        CAPE: float\n",
    "    }\n"
   ]
  }
,
  {
   "cell_type": "markdown",
   "metadata": {},
   
   "source": [
    "Function to make the return data.\n",
    "\n"
   ]
  }
,
  {
   "cell_type": "code",
   "metadata": {
    "dotnet_interactive": {
     "language": "fsharp"
    },
    "polyglot_notebook": {
     "kernelName": "fsharp"
    }
   },
   "execution_count": 16, "outputs": [],
   "source": [
    "let makeShillerObs (x0: ShillerXls.Row, x1: ShillerXls.Row) =\n",
    "    {\n",
    "        Date = parseDate x0\n",
    "        SP500RealReturn = logReturn (float x0.Price2, float x1.Price2)\n",
    "        GS10RealReturn = logReturn (float x0.Returns2, float x1.Returns2)\n",
    "        CAPE = if x0.CAPE = \"NA\" then nan else float x0.CAPE\n",
    "    }\n"
   ]
  }
,
  {
   "cell_type": "markdown",
   "metadata": {},
   
   "source": [
    "Making our list of records containing stock and bond returns.\n",
    "\n"
   ]
  }
,
  {
   "cell_type": "code",
   "metadata": {
    "dotnet_interactive": {
     "language": "fsharp"
    },
    "polyglot_notebook": {
     "kernelName": "fsharp"
    }
   },
   "execution_count": 17, "outputs": [],
   "source": [
    "let shillerObs =\n",
    "    shillerClean\n",
    "    |\u003e List.pairwise\n",
    "    |\u003e List.map makeShillerObs\n"
   ]
  }
,
  {
   "cell_type": "markdown",
   "metadata": {},
   
   "source": [
    "Average annualized stock and bond returns\n",
    "\n"
   ]
  }
,
  {
   "cell_type": "code",
   "metadata": {
    "dotnet_interactive": {
     "language": "fsharp"
    },
    "polyglot_notebook": {
     "kernelName": "fsharp"
    }
   },
   "execution_count": 18, "outputs": [],
   "source": [
    "let avgStock = shillerObs |\u003e List.averageBy (fun x -\u003e x.SP500RealReturn * 12.0)\n",
    "let avgBond = shillerObs |\u003e List.averageBy (fun x -\u003e x.GS10RealReturn * 12.0)\n",
    "let port6040 = shillerObs |\u003e List.map (fun x -\u003e x.SP500RealReturn * 0.6 + x.GS10RealReturn * 0.4)\n",
    "let avg6040 = port6040 |\u003e List.averageBy (fun x -\u003e x * 12.0)\n",
    "\n",
    "let sdStock = shillerObs |\u003e Seq.stDevBy _.SP500RealReturn |\u003e fun x -\u003e  x * sqrt 12.0 \n",
    "let sdBond = shillerObs |\u003e Seq.stDevBy _.GS10RealReturn |\u003e fun x -\u003e  x * sqrt 12.0\n",
    "let sd6040 = port6040 |\u003e Seq.stDev |\u003e fun x -\u003e  x * sqrt 12.0 \n",
    "\n",
    "let lev6040 = sdStock / sd6040\n",
    "/// this is a cost above the risk-free rate\n",
    "let costOfLeverage = 0.01\n",
    "let lev6040Return = lev6040 * avg6040 - max 0.0 ((lev6040 - 1.0) * costOfLeverage)\n"
   ]
  }
,
  {
   "cell_type": "markdown",
   "metadata": {},
   
   "source": [
    "Standard deviation of stock and bond returns\n",
    "\n",
    "Let\u0027s look at returns by decade.\n",
    "\n"
   ]
  }
,
  {
   "cell_type": "code",
   "metadata": {
    "dotnet_interactive": {
     "language": "fsharp"
    },
    "polyglot_notebook": {
     "kernelName": "fsharp"
    }
   },
   "execution_count": 19, "outputs": [],
   "source": [
    "let dateToDecade (date: DateTime) = floor (float date.Year / 10.0) * 10.0\n",
    "\n",
    "[ for i in [1..10] do \n",
    "    let y = DateTime(2005,1,1).AddYears(i) \n",
    "    y, dateToDecade y ]\n"
   ]
  }
,
  {
   "cell_type": "markdown",
   "metadata": {},
   
   "source": [
    "Starting with stocks, remember how group by works\n",
    "\n"
   ]
  }
,
  {
   "cell_type": "code",
   "metadata": {
    "dotnet_interactive": {
     "language": "fsharp"
    },
    "polyglot_notebook": {
     "kernelName": "fsharp"
    }
   },
   "execution_count": 20, "outputs": [],
   "source": [
    "[ (\"a\", 1); (\"a\", 2); (\"b\", 3)]\n",
    "|\u003e List.groupBy (fun (x, y) -\u003e x)\n"
   ]
  }
,
  {
   "cell_type": "markdown",
   "metadata": {},
   
   "source": [
    "Now with the stock data.\n",
    "\n"
   ]
  }
,
  {
   "cell_type": "code",
   "metadata": {
    "dotnet_interactive": {
     "language": "fsharp"
    },
    "polyglot_notebook": {
     "kernelName": "fsharp"
    }
   },
   "execution_count": 21, "outputs": [],
   "source": [
    "shillerObs\n",
    "|\u003e List.groupBy (fun x -\u003e dateToDecade x.Date)\n"
   ]
  }
,
  {
   "cell_type": "markdown",
   "metadata": {},
   
   "source": [
    "Return by decade\n",
    "\n"
   ]
  }
,
  {
   "cell_type": "code",
   "metadata": {
    "dotnet_interactive": {
     "language": "fsharp"
    },
    "polyglot_notebook": {
     "kernelName": "fsharp"
    }
   },
   "execution_count": 22, "outputs": [],
   "source": [
    "let stockByDecade =\n",
    "    shillerObs\n",
    "    |\u003e List.groupBy (fun x -\u003e dateToDecade x.Date)\n",
    "    |\u003e List.map (fun (decade, obs) -\u003e\n",
    "        let decadeReturn = obs |\u003e List.map (fun x -\u003e x.SP500RealReturn) |\u003e List.sum\n",
    "        decade, decadeReturn)\n"
   ]
  }
,
  {
   "cell_type": "markdown",
   "metadata": {},
   
   "source": [
    "Plot of stock return by decade\n",
    "\n"
   ]
  }
,
  {
   "cell_type": "code",
   "metadata": {
    "dotnet_interactive": {
     "language": "fsharp"
    },
    "polyglot_notebook": {
     "kernelName": "fsharp"
    }
   },
   "execution_count": null, "outputs": [
          {
           "data": {
            "text/html": ["\u003cnull\u003e"]
        },
           "execution_count": null,
           "metadata": {},
           "output_type": "execute_result"
          }],
   "source": [
    "stockByDecade\n",
    "|\u003e Chart.Column\n"
   ]
  }
,
  {
   "cell_type": "markdown",
   "metadata": {},
   
   "source": [
    "Now the same thing for bonds.\n",
    "\n"
   ]
  }
,
  {
   "cell_type": "code",
   "metadata": {
    "dotnet_interactive": {
     "language": "fsharp"
    },
    "polyglot_notebook": {
     "kernelName": "fsharp"
    }
   },
   "execution_count": 24, "outputs": [],
   "source": [
    "let bondByDecade =\n",
    "    shillerObs\n",
    "    |\u003e List.groupBy (fun x -\u003e dateToDecade x.Date)\n",
    "    |\u003e List.map (fun (decade, obs) -\u003e\n",
    "        let decadeReturn = obs |\u003e List.map (fun x -\u003e x.GS10RealReturn) |\u003e List.sum\n",
    "        decade, decadeReturn)\n",
    "\n",
    "bondByDecade\n",
    "|\u003e Chart.Column\n"
   ]
  }
,
  {
   "cell_type": "markdown",
   "metadata": {},
   
   "source": [
    "Combine them.\n",
    "\n"
   ]
  }
,
  {
   "cell_type": "code",
   "metadata": {
    "dotnet_interactive": {
     "language": "fsharp"
    },
    "polyglot_notebook": {
     "kernelName": "fsharp"
    }
   },
   "execution_count": null, "outputs": [],
   "source": [
    "[ Chart.Column(stockByDecade, Name = \"Stocks\")\n",
    "  Chart.Column(bondByDecade, Name = \"Bonds\")]\n",
    "|\u003e Chart.combine\n"
   ]
  }
,
  {
   "cell_type": "markdown",
   "metadata": {},
   
   "source": [
    "Let\u0027s make a cumulative chart of stock returns.\n",
    "\n"
   ]
  }
,
  {
   "cell_type": "code",
   "metadata": {
    "dotnet_interactive": {
     "language": "fsharp"
    },
    "polyglot_notebook": {
     "kernelName": "fsharp"
    }
   },
   "execution_count": 26, "outputs": [],
   "source": [
    "let accStockRet =\n",
    "    let mutable accRet = 0.0\n",
    "    [ for x in shillerObs do \n",
    "        accRet \u003c- accRet + x.SP500RealReturn \n",
    "        x.Date, accRet ]\n",
    "\n",
    "accStockRet[..5]\n"
   ]
  }
,
  {
   "cell_type": "markdown",
   "metadata": {},
   
   "source": [
    "A line chart of it\n",
    "\n"
   ]
  }
,
  {
   "cell_type": "code",
   "metadata": {
    "dotnet_interactive": {
     "language": "fsharp"
    },
    "polyglot_notebook": {
     "kernelName": "fsharp"
    }
   },
   "execution_count": 27, "outputs": [],
   "source": [
    "accStockRet\n",
    "|\u003e Chart.Line\n"
   ]
  }
,
  {
   "cell_type": "markdown",
   "metadata": {},
   
   "source": [
    "If we wanted to see how 1 EUR would grow, remember that we have to\n",
    "plot $e^r$.\n",
    "\n"
   ]
  }
,
  {
   "cell_type": "code",
   "metadata": {
    "dotnet_interactive": {
     "language": "fsharp"
    },
    "polyglot_notebook": {
     "kernelName": "fsharp"
    }
   },
   "execution_count": 28, "outputs": [],
   "source": [
    "[ for (date, ret) in accStockRet do date, exp ret]\n",
    "|\u003e Chart.Line\n"
   ]
  }
,
  {
   "cell_type": "markdown",
   "metadata": {},
   
   "source": [
    "\u003e Practice: Plot a line chart of cumulative **log** returns for bonds.\n",
    "\u003e \n",
    "\n",
    "Let\u0027s revisit our simulations, this time with stock and bond returns.\n",
    "\n",
    "Grabbing stock and bond returns.\n",
    "\n"
   ]
  }
,
  {
   "cell_type": "code",
   "metadata": {
    "dotnet_interactive": {
     "language": "fsharp"
    },
    "polyglot_notebook": {
     "kernelName": "fsharp"
    }
   },
   "execution_count": 29, "outputs": [],
   "source": [
    "let stockReturns = shillerObs |\u003e List.map (fun x -\u003e x.SP500RealReturn)\n",
    "let bondReturns = shillerObs |\u003e List.map (fun x -\u003e x.GS10RealReturn)\n"
   ]
  }
,
  {
   "cell_type": "markdown",
   "metadata": {},
   
   "source": [
    "We need a covariance matrix of stock/bond returns to sample both from a multivariate normal distribution.\n",
    "\n"
   ]
  }
,
  {
   "cell_type": "code",
   "metadata": {
    "dotnet_interactive": {
     "language": "fsharp"
    },
    "polyglot_notebook": {
     "kernelName": "fsharp"
    }
   },
   "execution_count": 30, "outputs": [],
   "source": [
    "let covMatrix = \n",
    "    [[ var stockReturns            ; cov stockReturns bondReturns ]\n",
    "     [ cov stockReturns bondReturns; var bondReturns              ]]\n",
    "    |\u003e matrix\n"
   ]
  }
,
  {
   "cell_type": "markdown",
   "metadata": {},
   
   "source": [
    "Create a vector of average returns.\n",
    "\n"
   ]
  }
,
  {
   "cell_type": "code",
   "metadata": {
    "dotnet_interactive": {
     "language": "fsharp"
    },
    "polyglot_notebook": {
     "kernelName": "fsharp"
    }
   },
   "execution_count": 31, "outputs": [],
   "source": [
    "let avgStockReturn = stockReturns |\u003e List.average\n",
    "let avgBondReturn = bondReturns |\u003e List.average\n",
    "let avgReturns = [ avgStockReturn; avgBondReturn] |\u003e vector\n"
   ]
  }
,
  {
   "cell_type": "markdown",
   "metadata": {},
   
   "source": [
    "Annualize returns and covariances so that we sample annual values.\n",
    "\n"
   ]
  }
,
  {
   "cell_type": "code",
   "metadata": {
    "dotnet_interactive": {
     "language": "fsharp"
    },
    "polyglot_notebook": {
     "kernelName": "fsharp"
    }
   },
   "execution_count": 32, "outputs": [],
   "source": [
    "let annualizedCov = covMatrix * 12.0\n",
    "let annualizedRet = avgReturns * 12.0\n"
   ]
  }
,
  {
   "cell_type": "markdown",
   "metadata": {},
   
   "source": [
    "Our sampler.\n",
    "\n"
   ]
  }
,
  {
   "cell_type": "code",
   "metadata": {
    "dotnet_interactive": {
     "language": "fsharp"
    },
    "polyglot_notebook": {
     "kernelName": "fsharp"
    }
   },
   "execution_count": 33, "outputs": [],
   "source": [
    "let rmultinorm = \n",
    "    Distributions.Continuous.MultivariateNormal.Init annualizedRet annualizedCov\n"
   ]
  }
,
  {
   "cell_type": "markdown",
   "metadata": {},
   
   "source": [
    "Try a sample.\n",
    "\n"
   ]
  }
,
  {
   "cell_type": "code",
   "metadata": {
    "dotnet_interactive": {
     "language": "fsharp"
    },
    "polyglot_notebook": {
     "kernelName": "fsharp"
    }
   },
   "execution_count": 34, "outputs": [],
   "source": [
    "let s = rmultinorm.Sample()\n"
   ]
  }
,
  {
   "cell_type": "markdown",
   "metadata": {},
   
   "source": [
    "Stock return\n",
    "\n"
   ]
  }
,
  {
   "cell_type": "code",
   "metadata": {
    "dotnet_interactive": {
     "language": "fsharp"
    },
    "polyglot_notebook": {
     "kernelName": "fsharp"
    }
   },
   "execution_count": 35, "outputs": [],
   "source": [
    "s[0]\n"
   ]
  }
,
  {
   "cell_type": "markdown",
   "metadata": {},
   
   "source": [
    "Bond return\n",
    "\n"
   ]
  }
,
  {
   "cell_type": "code",
   "metadata": {
    "dotnet_interactive": {
     "language": "fsharp"
    },
    "polyglot_notebook": {
     "kernelName": "fsharp"
    }
   },
   "execution_count": 36, "outputs": [],
   "source": [
    "s[1]\n"
   ]
  }
,
  {
   "cell_type": "markdown",
   "metadata": {},
   
   "source": [
    "1k draws of 30 year investment returns.\n",
    "\n"
   ]
  }
,
  {
   "cell_type": "code",
   "metadata": {
    "dotnet_interactive": {
     "language": "fsharp"
    },
    "polyglot_notebook": {
     "kernelName": "fsharp"
    }
   },
   "execution_count": 37, "outputs": [],
   "source": [
    "type MarketDraw = { StockReturn: float; BondReturn: float}\n",
    "\n",
    "let stockBondDraws =\n",
    "    [ for i in [1..1000] do\n",
    "        [ for  y in [1..30] do\n",
    "            let s = rmultinorm.Sample()\n",
    "            { StockReturn = s[0]; BondReturn = s[1]} ]]\n",
    "\n",
    "let firstDraw = stockBondDraws[0]\n"
   ]
  }
,
  {
   "cell_type": "markdown",
   "metadata": {},
   
   "source": [
    "Our wealth evolution setup.\n",
    "\n"
   ]
  }
,
  {
   "cell_type": "code",
   "metadata": {
    "dotnet_interactive": {
     "language": "fsharp"
    },
    "polyglot_notebook": {
     "kernelName": "fsharp"
    }
   },
   "execution_count": 38, "outputs": [],
   "source": [
    "let expenses = 50_000.0\n",
    "let initialWealth = 1_000_000.0\n"
   ]
  }
,
  {
   "cell_type": "markdown",
   "metadata": {},
   
   "source": [
    "We accumulate wealth from log returns this time.\n",
    "\n"
   ]
  }
,
  {
   "cell_type": "code",
   "metadata": {
    "dotnet_interactive": {
     "language": "fsharp"
    },
    "polyglot_notebook": {
     "kernelName": "fsharp"
    }
   },
   "execution_count": 39, "outputs": [],
   "source": [
    "let stockWealthEvolution =\n",
    "    [ for life in stockBondDraws do\n",
    "        let mutable wealth = initialWealth\n",
    "        [ for r in life do\n",
    "            // We\u0027ll take expenses out at the start of the year.\n",
    "            if wealth \u003e expenses then\n",
    "                wealth \u003c- (wealth - expenses) * exp r.StockReturn\n",
    "            else\n",
    "                wealth \u003c- 0.0\n",
    "            wealth ] ]\n",
    "\n",
    "let stockTerminalWealth = [ for x in stockWealthEvolution do x[x.Length-1] ]\n"
   ]
  }
,
  {
   "cell_type": "markdown",
   "metadata": {},
   
   "source": [
    "Chance of going broke with stocks?\n",
    "\n"
   ]
  }
,
  {
   "cell_type": "code",
   "metadata": {
    "dotnet_interactive": {
     "language": "fsharp"
    },
    "polyglot_notebook": {
     "kernelName": "fsharp"
    }
   },
   "execution_count": 40, "outputs": [],
   "source": [
    "let nBrokeStock =\n",
    "    stockTerminalWealth\n",
    "    |\u003e List.filter (fun x -\u003e x \u003c= 0.0)\n",
    "    |\u003e List.length\n",
    "    |\u003e float\n",
    "\n",
    "let chanceBrokeStock = nBrokeStock / (float stockTerminalWealth.Length)    \n",
    "\n",
    "printfn $\"chance broke=%.3f{chanceBrokeStock}\"\n"
   ]
  }
,
  {
   "cell_type": "markdown",
   "metadata": {},
   
   "source": [
    "Same thing for bonds.\n",
    "\n"
   ]
  }
,
  {
   "cell_type": "code",
   "metadata": {
    "dotnet_interactive": {
     "language": "fsharp"
    },
    "polyglot_notebook": {
     "kernelName": "fsharp"
    }
   },
   "execution_count": 41, "outputs": [],
   "source": [
    "let bondWealthEvolution =\n",
    "    [ for life in stockBondDraws do\n",
    "        let mutable wealth = initialWealth\n",
    "        [ for r in life do\n",
    "            // We\u0027ll take expenses out at the start of the year.\n",
    "            if wealth \u003e expenses then\n",
    "                wealth \u003c- (wealth - expenses) * exp r.BondReturn\n",
    "            else\n",
    "                wealth \u003c- 0.0\n",
    "            wealth ] ]\n",
    "\n",
    "let bondTerminalWealth = [ for x in bondWealthEvolution do x[x.Length-1] ]\n"
   ]
  }
,
  {
   "cell_type": "markdown",
   "metadata": {},
   
   "source": [
    "Chance of going broke with stocks?\n",
    "\n"
   ]
  }
,
  {
   "cell_type": "code",
   "metadata": {
    "dotnet_interactive": {
     "language": "fsharp"
    },
    "polyglot_notebook": {
     "kernelName": "fsharp"
    }
   },
   "execution_count": 42, "outputs": [],
   "source": [
    "let nBrokeBond =\n",
    "    bondTerminalWealth\n",
    "    |\u003e List.filter (fun x -\u003e x \u003c= 0.0)\n",
    "    |\u003e List.length\n",
    "    |\u003e float\n",
    "\n",
    "let chanceBrokeBond = nBrokeBond / (float bondTerminalWealth.Length)    \n",
    "\n",
    "printfn $\"chance broke=%.3f{chanceBrokeBond}\"\n"
   ]
  }
,
  {
   "cell_type": "markdown",
   "metadata": {},
   
   "source": [
    "Rather than repeating code, a function to do all that.\n",
    "\n"
   ]
  }
,
  {
   "cell_type": "code",
   "metadata": {
    "dotnet_interactive": {
     "language": "fsharp"
    },
    "polyglot_notebook": {
     "kernelName": "fsharp"
    }
   },
   "execution_count": 43, "outputs": [],
   "source": [
    "let calcChanceBroke expenses initialWealth lives =\n",
    "    let wealthEvolution =\n",
    "        [ for life in lives do\n",
    "            let mutable wealth = initialWealth\n",
    "            [ for r in life do\n",
    "                // We\u0027ll take expenses out at the start of the year.\n",
    "                if wealth \u003e expenses then\n",
    "                    wealth \u003c- (wealth - expenses) * exp r\n",
    "                else\n",
    "                    wealth \u003c- 0.0\n",
    "                wealth ] ]\n",
    "\n",
    "    let terminalWealth = [ for x in wealthEvolution do x[x.Length-1] ]\n",
    "\n",
    "    (** Chance of going broke with stocks? *)\n",
    "    let nBroke =\n",
    "        terminalWealth\n",
    "        |\u003e List.filter (fun x -\u003e x \u003c= 0.0)\n",
    "        |\u003e List.length\n",
    "        |\u003e float\n",
    "\n",
    "    let chanceBroke = nBroke / (float terminalWealth.Length)    \n",
    "    chanceBroke\n"
   ]
  }
,
  {
   "cell_type": "markdown",
   "metadata": {},
   
   "source": [
    "Try it for stocks.\n",
    "\n"
   ]
  }
,
  {
   "cell_type": "code",
   "metadata": {
    "dotnet_interactive": {
     "language": "fsharp"
    },
    "polyglot_notebook": {
     "kernelName": "fsharp"
    }
   },
   "execution_count": 44, "outputs": [],
   "source": [
    "let stockOnlyLives = \n",
    "    [ for life in stockBondDraws do\n",
    "        [ for r in life do r.StockReturn ]]\n",
    "\n",
    "calcChanceBroke 50_000 1_000_000 stockOnlyLives\n"
   ]
  }
,
  {
   "cell_type": "markdown",
   "metadata": {},
   
   "source": [
    "Some different bond/stock ratios.\n",
    "\n"
   ]
  }
,
  {
   "cell_type": "code",
   "metadata": {
    "dotnet_interactive": {
     "language": "fsharp"
    },
    "polyglot_notebook": {
     "kernelName": "fsharp"
    }
   },
   "execution_count": 45, "outputs": [],
   "source": [
    "let bondStockRatios = [0.0 .. 0.2 .. 1.0]\n",
    "let bondStockRatioLives =\n",
    "    [ for ratio in bondStockRatios do \n",
    "        [ for life in stockBondDraws do\n",
    "            [ for r in life do ratio * r.BondReturn + (1.0 - ratio) * r.StockReturn ]]]\n",
    "\n",
    "[ for ratioLives in bondStockRatioLives do \n",
    "    calcChanceBroke 50_000 1_000_000 ratioLives ]\n"
   ]
  }
,
  {
   "cell_type": "markdown",
   "metadata": {},
   
   "source": [
    "What are some things to consider?\n",
    "\n"
   ]
  }
 ],
 "metadata": {
  "kernelspec": {
   "display_name": ".NET (F#)",
   "language": "F#",
   "name": ".net-fsharp"
  },
  "language_info": {
   "file_extension": ".fs",
   "mimetype": "text/x-fsharp",
   "name": "polyglot-notebook",
   "pygments_lexer": "fsharp"
  },
  "polyglot_notebook": {
   "kernelInfo": {
    "defaultKernelName": "fsharp",
    "items": [
     {
      "aliases": [],
      "languageName": "fsharp",
      "name": "fsharp"
     }
    ]
   }
  }
 },
 "nbformat": 4,
 "nbformat_minor": 2
}

