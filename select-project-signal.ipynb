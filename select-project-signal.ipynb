
{
 "cells": [
  {
   "cell_type": "markdown",
   "metadata": {},
   
   "source": [
    "[![Binder](img/badge-binder.svg)](https://mybinder.org/v2/gh/nhirschey/teaching/gh-pages?filepath=select-project-signal.ipynb)\u0026emsp;\n",
    "[![Script](img/badge-script.svg)](/Teaching//select-project-signal.fsx)\u0026emsp;\n",
    "[![Notebook](img/badge-notebook.svg)](/Teaching//select-project-signal.ipynb)\n",
    "\n",
    "# Submitting your trading signal preferences.\n",
    "\n",
    "You need to select your main trading signal.\n",
    "Everybody will examine a different signal,\n",
    "so you need to give me an ordered list of your preferred signals.\n",
    "\n",
    "I will randomly iterate through students and\n",
    "assign them their top choice from among the signals remaining.\n",
    "\n",
    "The signals are listed in the \"Project signals list.xlsx\" file\n",
    "that you can find on moodle.\n",
    "- Use the **VARIABLE** column to identify\n",
    "the variable that you want.\n",
    "- Do not use any other columns to identify your variable.\n",
    "- Only variables from that excel file are valid.\n",
    "\n",
    "You will submit your choices as a .csv file. Here\u0027s how to do that.\n",
    "\n",
    "Use the [FSharp.Data CsvProvider](https://fsprojects.github.io/FSharp.Data/library/CsvProvider.html)\n",
    "to construct your csv file.\n",
    "All the csv related stuff below comes from things discussed somewhere on that webpage.\n",
    "\n",
    "First construct a sample, then use the type provider\n",
    "to define the type from the sample.\n",
    "\n",
    "Below you will find a variable named \"signals\".\n",
    "Do not modify it. This is to check that you\n",
    "do not have a typo in your preferred signals.\n",
    "The code that you use starts after the\n",
    "\"Code starts now\" section.\n",
    "\n"
   ]
  }
,
  {
   "cell_type": "code",
   "metadata": {
    "dotnet_interactive": {
     "language": "fsharp"
    },
    "polyglot_notebook": {
     "kernelName": "fsharp"
    }
   },
   "execution_count": 1, "outputs": [],
   "source": [
    "//****************************************\n",
    "//*****Code starts below this section*****\n",
    "//****************************************\n",
    "// Do not modify the signals variable\n",
    "let signals =\n",
    "    [\"niq_su\"\n",
    "     \"ret_6_1\"\n",
    "     \"ret_12_1\"\n",
    "     \"saleq_su\"\n",
    "     \"tax_gr1a\"\n",
    "     \"ni_inc8q\"\n",
    "     \"prc_highprc_252d\"\n",
    "     \"resff3_6_1\"\n",
    "     \"resff3_12_1\"\n",
    "     \"be_me\"\n",
    "     \"debt_me\"\n",
    "     \"at_me\"\n",
    "     \"ret_60_12\"\n",
    "     \"ni_me\"\n",
    "     \"fcf_me\"\n",
    "     \"div12m_me\"\n",
    "     \"eqpo_me\"\n",
    "     \"eqnpo_me\"\n",
    "     \"sale_gr3\"\n",
    "     \"sale_gr1\"\n",
    "     \"ebitda_mev\"\n",
    "     \"sale_me\"\n",
    "     \"ocf_me\"\n",
    "     \"intrinsic_value\"\n",
    "     \"bev_mev\"\n",
    "     \"netdebt_me\"\n",
    "     \"eq_dur\"\n",
    "     \"capex_abn\"\n",
    "     \"at_gr1\"\n",
    "     \"ppeinv_gr1a\"\n",
    "     \"noa_at\"\n",
    "     \"noa_gr1a\"\n",
    "     \"lnoa_gr1a\"\n",
    "     \"capx_gr1\"\n",
    "     \"capx_gr2\"\n",
    "     \"capx_gr3\"\n",
    "     \"chcsho_12m\"\n",
    "     \"eqnpo_12m\"\n",
    "     \"debt_gr3\"\n",
    "     \"inv_gr1\"\n",
    "     \"inv_gr1a\"\n",
    "     \"oaccruals_at\"\n",
    "     \"taccruals_at\"\n",
    "     \"cowc_gr1a\"\n",
    "     \"coa_gr1a\"\n",
    "     \"col_gr1a\"\n",
    "     \"nncoa_gr1a\"\n",
    "     \"ncoa_gr1a\"\n",
    "     \"ncol_gr1a\"\n",
    "     \"nfna_gr1a\"\n",
    "     \"sti_gr1a\"\n",
    "     \"lti_gr1a\"\n",
    "     \"fnl_gr1a\"\n",
    "     \"be_gr1a\"\n",
    "     \"oaccruals_ni\"\n",
    "     \"taccruals_ni\"\n",
    "     \"netis_at\"\n",
    "     \"eqnetis_at\"\n",
    "     \"dbnetis_at\"\n",
    "     \"niq_be\"\n",
    "     \"niq_be_chg1\"\n",
    "     \"niq_at\"\n",
    "     \"niq_at_chg1\"\n",
    "     \"ebit_bev\"\n",
    "     \"ebit_sale\"\n",
    "     \"sale_bev\"\n",
    "     \"at_turnover\"\n",
    "     \"gp_at\"\n",
    "     \"gp_atl1\"\n",
    "     \"ope_be\"\n",
    "     \"ope_bel1\"\n",
    "     \"op_at\"\n",
    "     \"op_atl1\"\n",
    "     \"cop_at\"\n",
    "     \"cop_atl1\"\n",
    "     \"f_score\"\n",
    "     \"o_score\"\n",
    "     \"z_score\"\n",
    "     \"pi_nix\"\n",
    "     \"at_be\"\n",
    "     \"saleq_gr1\"\n",
    "     \"rd_me\"\n",
    "     \"rd_sale\"\n",
    "     \"opex_at\"\n",
    "     \"emp_gr1\"\n",
    "     \"rd5_at\"\n",
    "     \"age\"\n",
    "     \"dsale_dinv\"\n",
    "     \"dsale_drec\"\n",
    "     \"dgp_dsale\"\n",
    "     \"dsale_dsga\"\n",
    "     \"sale_emp_gr1\"\n",
    "     \"tangibility\"\n",
    "     \"kz_index\"\n",
    "     \"ocfq_saleq_std\"\n",
    "     \"cash_at\"\n",
    "     \"ni_ar1\"\n",
    "     \"ni_ivol\"\n",
    "     \"earnings_variability\"\n",
    "     \"aliq_at\"\n",
    "     \"aliq_mat\"\n",
    "     \"seas_1_1an\"\n",
    "     \"seas_1_1na\"\n",
    "     \"seas_2_5an\"\n",
    "     \"seas_2_5na\"\n",
    "     \"seas_6_10an\"\n",
    "     \"seas_6_10na\"\n",
    "     \"seas_11_15an\"\n",
    "     \"seas_11_15na\"\n",
    "     \"seas_16_20an\"\n",
    "     \"seas_16_20na\"\n",
    "     \"market_equity\"\n",
    "     \"ivol_ff3_21d\"\n",
    "     \"ivol_capm_252d\"\n",
    "     \"ivol_capm_21d\"\n",
    "     \"ivol_hxz4_21d\"\n",
    "     \"rvol_21d\"\n",
    "     \"beta_60m\"\n",
    "     \"betabab_1260d\"\n",
    "     \"beta_dimson_21d\"\n",
    "     \"turnover_126d\"\n",
    "     \"turnover_var_126d\"\n",
    "     \"dolvol_126d\"\n",
    "     \"dolvol_var_126d\"\n",
    "     \"prc\"\n",
    "     \"ami_126d\"\n",
    "     \"zero_trades_21d\"\n",
    "     \"zero_trades_126d\"\n",
    "     \"zero_trades_252d\"\n",
    "     \"rmax1_21d\"\n",
    "     \"rskew_21d\"\n",
    "     \"iskew_capm_21d\"\n",
    "     \"iskew_ff3_21d\"\n",
    "     \"iskew_hxz4_21d\"\n",
    "     \"coskew_21d\"\n",
    "     \"ret_1_0\"\n",
    "     \"betadown_252d\"\n",
    "     \"bidaskhl_21d\"\n",
    "     \"ret_3_1\"\n",
    "     \"ret_9_1\"\n",
    "     \"ret_12_7\"\n",
    "     \"corr_1260d\"\n",
    "     \"rmax5_21d\"\n",
    "     \"rmax5_rvol_21d\"\n",
    "     \"ni_be\"\n",
    "     \"ocf_at\"\n",
    "     \"ocf_at_chg1\"\n",
    "     \"mispricing_perf\"\n",
    "     \"mispricing_mgmt\"\n",
    "     \"qmj\"\n",
    "     \"qmj_prof\"\n",
    "     \"qmj_growth\"\n",
    "     \"qmj_safety\"]\n",
    "    |\u003e set \n",
    "\n",
    "//****************************************\n",
    "//****Code starts now*********************\n",
    "//****************************************\n"
   ]
  }
,
  {
   "cell_type": "code",
   "metadata": {
    "dotnet_interactive": {
     "language": "fsharp"
    },
    "polyglot_notebook": {
     "kernelName": "fsharp"
    }
   },
   "execution_count": 2, "outputs": [],
   "source": [
    "#r \"nuget: FSharp.Data, 5.0.2\"\n",
    "\n",
    "open FSharp.Data\n",
    "[\u003cLiteral\u003e]\n",
    "let submissionCsvSample = \"StudentId (int), Preference (int), Signal (string)\"\n",
    "\n",
    "type SubmissionCsv = CsvProvider\u003csubmissionCsvSample\u003e\n"
   ]
  }
,
  {
   "cell_type": "markdown",
   "metadata": {},
   
   "source": [
    "What are your (ordered) preferences?\n",
    "\n",
    "0 Fill in with your student id so that I know who you are.\n",
    "\n"
   ]
  }
,
  {
   "cell_type": "code",
   "metadata": {
    "dotnet_interactive": {
     "language": "fsharp"
    },
    "polyglot_notebook": {
     "kernelName": "fsharp"
    }
   },
   "execution_count": 3, "outputs": [],
   "source": [
    "let myStudentId = 007\n",
    "\n",
    "// check that you are paying attention:\n",
    "if myStudentId = 007 then failwith \"Are you sure that 007 is your student id number?\"\n"
   ]
  }
,
  {
   "cell_type": "markdown",
   "metadata": {},
   
   "source": [
    "0 Fill in with your preferences\n",
    "\n"
   ]
  }
,
  {
   "cell_type": "code",
   "metadata": {
    "dotnet_interactive": {
     "language": "fsharp"
    },
    "polyglot_notebook": {
     "kernelName": "fsharp"
    }
   },
   "execution_count": 4, "outputs": [],
   "source": [
    "let myPreferences =\n",
    "    // **Make sure you use the exact string from the VARIABLE column**\n",
    "    // do as many choices as you want.\n",
    "    // If you give me 3 and you run out of choices because\n",
    "    // everybody else already took your top 3 choices,\n",
    "    // then I will just randomly assign you something.\n",
    "    //\n",
    "    // So if you care it\u0027s probably best to give more choices.\n",
    "    [\n",
    "        \"eqpo_me\" // first choice **Use VARIABLE, not the name \"Payout Yield\"**\n",
    "        \"eqnpo_me\"// second choice\n",
    "        \"sale_gr3\"// third choice\n",
    "        \"sale_gr1\"// fourth choice\n",
    "    ]\n"
   ]
  }
,
  {
   "cell_type": "markdown",
   "metadata": {},
   
   "source": [
    "This code checks if you have a typo in myPreferences\n",
    "Run it. If there\u0027s typo you will see an exception.\n",
    "\n"
   ]
  }
,
  {
   "cell_type": "code",
   "metadata": {
    "dotnet_interactive": {
     "language": "fsharp"
    },
    "polyglot_notebook": {
     "kernelName": "fsharp"
    }
   },
   "execution_count": 5, "outputs": [],
   "source": [
    "let typos =\n",
    "    //[|\"eqpo_me1\";\"eqpo_me2\"|]\n",
    "    myPreferences \n",
    "    |\u003e List.filter (fun signal -\u003e not (signals.Contains signal))\n",
    "if not (List.isEmpty typos) then \n",
    "    let typos = typos |\u003e String.concat \" and \"\n",
    "    failwith ($\"{typos} is not a signal. Check spelling.\")\n",
    "else printfn \"%s\" \"Congrats, no typos\"\n",
    "\n",
    "let rowCreator i signal =\n",
    "    // Csv types have a member .Row that constructs a row.\n",
    "    // Technically, the Csv is a class and .Row is a member of that\n",
    "    // class. But none of this matters. Just think of .Row as a\n",
    "    // function that goes with the csv type that allows you to use\n",
    "    // named parameters.\n",
    "    //\n",
    "    // if you hover over \".Row\" below, you can see what the columns of the row\n",
    "    // are (studentId,preference,signal). Intellisense should also\n",
    "    // pop them up for you if you were typing it from scratch. Such\n",
    "    // as delete the comma from \"myStudentId,\" and then retype the comma.\n",
    "    // you should see a popup with the column info saying what is in\n",
    "    // a row.\n",
    "    SubmissionCsv.Row\n",
    "        (studentId=myStudentId,\n",
    "         preference=i,\n",
    "         signal=signal)\n",
    "\n",
    "// test\n",
    "let test1 = rowCreator 0 \"sale_gr1\"\n",
    "test1.StudentId\n",
    "test1.Signal\n",
    "test1.Preference\n"
   ]
  }
,
  {
   "cell_type": "markdown",
   "metadata": {},
   
   "source": [
    "We\u0027ll use List.mapi to create our rows.\n",
    "List.mapi is like List.map, but it adds\n",
    "the index of the list (i)\n",
    "as a parameter to the function.\n",
    "This is useful when you want to use the index\n",
    "of the element in the list\n",
    "as part of your function.\n",
    "\n",
    "Here, we\u0027ve ordered our list myPreferences\n",
    "based on our first, second, 3rd choice etc.\n",
    "So we\u0027re using the index of the element in the list as our\n",
    "preference column.\n",
    "\n",
    "0 is first choice, 1 is second choice, 2 is 3rd choice ...\n",
    "\n"
   ]
  }
,
  {
   "cell_type": "code",
   "metadata": {
    "dotnet_interactive": {
     "language": "fsharp"
    },
    "polyglot_notebook": {
     "kernelName": "fsharp"
    }
   },
   "execution_count": 6, "outputs": [],
   "source": [
    "let mySubmission =\n",
    "    myPreferences\n",
    "    // What we have below is the same as\n",
    "    // |\u003e List.mapi(fun i x -\u003e rowCreator i x)\n",
    "    //\n",
    "    // but because we wrote rowCreator to accept i and x\n",
    "    // as the first two function inputs, we can \n",
    "    // take the shortcut and do below.\n",
    "    |\u003e List.mapi rowCreator\n"
   ]
  }
,
  {
   "cell_type": "markdown",
   "metadata": {},
   
   "source": [
    "This is an array of rows.\n",
    "\n",
    "Check your first preference\n",
    "\n"
   ]
  }
,
  {
   "cell_type": "code",
   "metadata": {
    "dotnet_interactive": {
     "language": "fsharp"
    },
    "polyglot_notebook": {
     "kernelName": "fsharp"
    }
   },
   "execution_count": 7, "outputs": [],
   "source": [
    "let myFirstPreference = mySubmission |\u003e List.head\n",
    "\n",
    "myFirstPreference.StudentId // make sure it\u0027s not 7\n",
    "myFirstPreference.Preference // should be 0\n",
    "myFirstPreference.Signal // choose wisely\n",
    "\n",
    "(*\n",
    "Rather than an \"list of csv rows\", we want a \"csv file\".\n",
    "\n",
    "Here\u0027s how we do that. We pass the SubmissionCsv.Rows contained\n",
    "in the mySubmission array  to the\n",
    "SubmissionCsv type constructor like so.\n",
    "*)\n",
    "let mySubmissionFile = new SubmissionCsv(mySubmission)\n"
   ]
  }
,
  {
   "cell_type": "markdown",
   "metadata": {},
   
   "source": [
    "Ok, let\u0027s write the file. Remember that `__SOURCE_DIRECTORY__`\n",
    "is a magic variable that points to whatever folder this script file\n",
    "(aka the source code file) is contained in.\n",
    "\n",
    "So this will write a csv file in the current directory.\n",
    "\n"
   ]
  }
,
  {
   "cell_type": "code",
   "metadata": {
    "dotnet_interactive": {
     "language": "fsharp"
    },
    "polyglot_notebook": {
     "kernelName": "fsharp"
    }
   },
   "execution_count": 8, "outputs": [],
   "source": [
    "let fileName = $\"{myStudentId}.csv\"\n",
    "let fullFilePath = $\"{__SOURCE_DIRECTORY__}/{fileName}\"\n",
    "\n",
    "mySubmissionFile.Save(fullFilePath)\n"
   ]
  }
,
  {
   "cell_type": "markdown",
   "metadata": {},
   
   "source": [
    "Now find that file and submit it. Also click on it in visual studio code;\n",
    "you should be able to see what the file looks like. It\u0027s just a text file with a .csv extension.\n",
    "\n",
    "and if you want to read the data back in from the file to see that it works:\n",
    "\n"
   ]
  }
,
  {
   "cell_type": "code",
   "metadata": {
    "dotnet_interactive": {
     "language": "fsharp"
    },
    "polyglot_notebook": {
     "kernelName": "fsharp"
    }
   },
   "execution_count": 9, "outputs": [],
   "source": [
    "let backIn = SubmissionCsv.Load(fullFilePath)\n",
    "\n",
    "backIn.Rows\n",
    "|\u003e Seq.toList\n",
    "|\u003e List.map(fun row -\u003e row.Preference, row.Signal)\n"
   ]
  }
 ],
 "metadata": {
  "kernelspec": {
   "display_name": ".NET (F#)",
   "language": "F#",
   "name": ".net-fsharp"
  },
  "language_info": {
   "file_extension": ".fs",
   "mimetype": "text/x-fsharp",
   "name": "polyglot-notebook",
   "pygments_lexer": "fsharp"
  },
  "polyglot_notebook": {
   "kernelInfo": {
    "defaultKernelName": "fsharp",
    "items": [
     {
      "aliases": [],
      "languageName": "fsharp",
      "name": "fsharp"
     }
    ]
   }
  }
 },
 "nbformat": 4,
 "nbformat_minor": 2
}

