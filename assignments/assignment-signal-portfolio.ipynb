
{
 "cells": [
  {
   "cell_type": "markdown",
   "metadata": {},
   
   "source": [
    "[![Binder](../img/badge-binder.svg)](https://mybinder.org/v2/gh/nhirschey/teaching/gh-pages?filepath=assignments/assignment-signal-portfolio.ipynb)\u0026emsp;\n",
    "[![Script](../img/badge-script.svg)](/Teaching//assignments/assignment-signal-portfolio.fsx)\u0026emsp;\n",
    "[![Notebook](../img/badge-notebook.svg)](/Teaching//assignments/assignment-signal-portfolio.ipynb)\n",
    "\n",
    "Group Name:\n",
    "\n",
    "Student Name | Student Number\n",
    "--- | ---\n",
    "**1:** | \u0026#32;\n",
    "**2:** | \u0026#32;\n",
    "**3:** | \u0026#32;\n",
    "**4:** | \u0026#32;\n",
    "**5:** | \u0026#32;\n",
    "\n",
    "\n",
    "This is an assignment. You should work in groups. Please write your group and group member names above. You will find sections labeled **Task** asking you to do each piece of analysis. Please make sure that you complete all of these tasks. I included some tests to help you see if you are calculating the solution correctly, but if you cannot get the test to pass submit your best attempt and you may recieve partial credit.\n",
    "\n",
    "All work that you submit should be your own. Make use of the course resources and example code on the course website. It should be possible to complete all the requested tasks using information given below or somewhere on the course website.\n",
    "\n",
    "For testing\n",
    "\n"
   ]
  }
,
  {
   "cell_type": "code",
   "metadata": {
    "dotnet_interactive": {
     "language": "fsharp"
    },
    "polyglot_notebook": {
     "kernelName": "fsharp"
    }
   },
   "execution_count": 1, "outputs": [],
   "source": [
    "#r \"nuget: FsUnit.Xunit\"\n",
    "#r \"nuget: xunit, 2.*\"\n",
    "open Xunit\n",
    "open FsUnit.Xunit\n",
    "open FsUnitTyped\n"
   ]
  }
,
  {
   "cell_type": "markdown",
   "metadata": {},
   
   "source": [
    "For the assignment\n",
    "\n"
   ]
  }
,
  {
   "cell_type": "code",
   "metadata": {
    "dotnet_interactive": {
     "language": "fsharp"
    },
    "polyglot_notebook": {
     "kernelName": "fsharp"
    }
   },
   "execution_count": 2, "outputs": [],
   "source": [
    "#r \"nuget: FSharp.Data, 5.0.2\"\n",
    "#r \"nuget: FSharp.Stats, 0.5.0\"\n",
    "#r \"nuget: NovaSBE.Finance, 0.5.0\"\n",
    "#r \"nuget: MathNet.Numerics\"\n",
    "#r \"nuget: MathNet.Numerics.FSharp\"\n",
    "#r \"nuget: Plotly.NET, 3.*\"\n"
   ]
  }
,
  {
   "cell_type": "code",
   "metadata": {
    "dotnet_interactive": {
     "language": "fsharp"
    },
    "polyglot_notebook": {
     "kernelName": "fsharp"
    }
   },
   "execution_count": null, "outputs": [],
   "source": [
    "#r \"nuget: Plotly.NET.Interactive, 3.*\"\n"
   ]
  }
,
  {
   "cell_type": "code",
   "metadata": {
    "dotnet_interactive": {
     "language": "fsharp"
    },
    "polyglot_notebook": {
     "kernelName": "fsharp"
    }
   },
   "execution_count": 3, "outputs": [],
   "source": [
    "open System\n",
    "open FSharp.Data\n",
    "open Plotly.NET\n",
    "open FSharp.Stats\n",
    "open MathNet.Numerics.Statistics\n"
   ]
  }
,
  {
   "cell_type": "markdown",
   "metadata": {},
   
   "source": [
    "## Load Data\n",
    "\n",
    "First, make sure that you\u0027re referencing the correct files.\n",
    "\n",
    "Here I\u0027m assuming that you have a class folder with this notebook and a `data` folder inside of it. The folder hierarchy would look like below where you\n",
    "have the below files and folders accessible:\n",
    "\n",
    "```code\n",
    "/class\n",
    "    notebook.ipynb\n",
    "    id_and_return_data.csv\n",
    "    be_me.csv\n",
    "    \n",
    "```\n"
   ]
  }
,
  {
   "cell_type": "code",
   "metadata": {
    "dotnet_interactive": {
     "language": "fsharp"
    },
    "polyglot_notebook": {
     "kernelName": "fsharp"
    }
   },
   "execution_count": 4, "outputs": [],
   "source": [
    "open NovaSBE.Finance.Portfolio\n"
   ]
  }
,
  {
   "cell_type": "markdown",
   "metadata": {},
   
   "source": [
    "### Data files\n",
    "\n",
    "We assume the `id_and_return_data.csv` file and the signal csv file  are in the `data` folder. In this example the signal file is `be_me.csv`.\n",
    "\n"
   ]
  }
,
  {
   "cell_type": "code",
   "metadata": {
    "dotnet_interactive": {
     "language": "fsharp"
    },
    "polyglot_notebook": {
     "kernelName": "fsharp"
    }
   },
   "execution_count": 5, "outputs": [],
   "source": [
    "let [\u003cLiteral\u003e] IdAndReturnsFilePath = \"id_and_return_data.csv\"\n",
    "let [\u003cLiteral\u003e] MySignalFilePath = \"be_me.csv\"\n",
    "let strategyName = \"book-to-market\"\n"
   ]
  }
,
  {
   "cell_type": "markdown",
   "metadata": {},
   
   "source": [
    "If my paths are correct, then this code should read the first few lines of the files.\n",
    "If it doesn\u0027t show the first few lines, fix the above file paths.\n",
    "\n"
   ]
  }
,
  {
   "cell_type": "code",
   "metadata": {
    "dotnet_interactive": {
     "language": "fsharp"
    },
    "polyglot_notebook": {
     "kernelName": "fsharp"
    }
   },
   "execution_count": 6, "outputs": [],
   "source": [
    "IO.File.ReadLines(IdAndReturnsFilePath) \n",
    "|\u003e Seq.truncate 5\n",
    "|\u003e Seq.iter (printfn \"%A\")\n"
   ]
  }
,
  {
   "cell_type": "code",
   "metadata": {
    "dotnet_interactive": {
     "language": "fsharp"
    },
    "polyglot_notebook": {
     "kernelName": "fsharp"
    }
   },
   "execution_count": 7, "outputs": [],
   "source": [
    "IO.File.ReadLines(MySignalFilePath) \n",
    "|\u003e Seq.truncate 5\n",
    "|\u003e Seq.iter (printfn \"%A\")\n"
   ]
  }
,
  {
   "cell_type": "markdown",
   "metadata": {},
   
   "source": [
    "Ok, now assuming those paths were correct the below code will work.\n",
    "I will put all this prep code in one block so that it is easy to run.\n",
    "\n"
   ]
  }
,
  {
   "cell_type": "code",
   "metadata": {
    "dotnet_interactive": {
     "language": "fsharp"
    },
    "polyglot_notebook": {
     "kernelName": "fsharp"
    }
   },
   "execution_count": 8, "outputs": [],
   "source": [
    "let idAndReturnsCsv = \n",
    "    CsvProvider\u003cIdAndReturnsFilePath,ResolutionFolder = __SOURCE_DIRECTORY__\u003e.GetSample().Rows \n",
    "    |\u003e Seq.toList\n",
    "let mySignalCsv = \n",
    "    CsvProvider\u003cMySignalFilePath,ResolutionFolder = __SOURCE_DIRECTORY__\u003e.GetSample().Rows \n",
    "    |\u003e Seq.toList\n"
   ]
  }
,
  {
   "cell_type": "markdown",
   "metadata": {},
   
   "source": [
    "A list of `Signal` records. The signal type is defined in the `NovaSBE.Finance.Portfolio` module [here](https://github.com/nhirschey/NovaSBE.Finance/blob/6d1398625e5a9279af00bb6e1c1802af3596c3f6/src/NovaSBE.Finance/Portfolio.fs#L178-L181).\n",
    "\n"
   ]
  }
,
  {
   "cell_type": "code",
   "metadata": {
    "dotnet_interactive": {
     "language": "fsharp"
    },
    "polyglot_notebook": {
     "kernelName": "fsharp"
    }
   },
   "execution_count": 9, "outputs": [],
   "source": [
    "let mySignals =\n",
    "    mySignalCsv\n",
    "    |\u003e List.choose (fun row -\u003e \n",
    "        match row.Signal with\n",
    "        | None -\u003e None\n",
    "        | Some signal -\u003e\n",
    "            let signalRecord: Signal =\n",
    "                { SecurityId = Other row.Id\n",
    "                  FormationDate = DateTime(row.Eom.Year, row.Eom.Month, 1)\n",
    "                  Signal = signal }\n",
    "            Some signalRecord)\n",
    "\n",
    "// look at a few signals\n",
    "mySignals[..3]\n"
   ]
  }
,
  {
   "cell_type": "markdown",
   "metadata": {},
   
   "source": [
    "A list of Security return records. The `SecurityReturn` type is defined in the `NovaSBE.Finance.Portfolio` module [here](https://github.com/nhirschey/NovaSBE.Finance/blob/6d1398625e5a9279af00bb6e1c1802af3596c3f6/src/NovaSBE.Finance/Portfolio.fs#L173-L176)\n",
    "\n"
   ]
  }
,
  {
   "cell_type": "code",
   "metadata": {
    "dotnet_interactive": {
     "language": "fsharp"
    },
    "polyglot_notebook": {
     "kernelName": "fsharp"
    }
   },
   "execution_count": 10, "outputs": [],
   "source": [
    "let myReturns =\n",
    "    idAndReturnsCsv\n",
    "    |\u003e List.choose (fun row -\u003e \n",
    "        match row.Ret with\n",
    "        | None -\u003e None\n",
    "        | Some ret -\u003e\n",
    "            let ret: SecurityReturn =\n",
    "                { SecurityId = Other row.Id\n",
    "                  Date = DateTime(row.Eom.Year, row.Eom.Month, 1)\n",
    "                  Return= ret }\n",
    "            Some ret)\n",
    "\n",
    "// look at a few returns\n",
    "myReturns[..3]\n"
   ]
  }
,
  {
   "cell_type": "markdown",
   "metadata": {},
   
   "source": [
    "A list of security market caps. We\u0027ll need this for value-weight portfolios. The `WeightVariable` type is defined in the `NovaSBE.Finance.Portfolio` module [here](https://github.com/nhirschey/NovaSBE.Finance/blob/6d1398625e5a9279af00bb6e1c1802af3596c3f6/src/NovaSBE.Finance/Portfolio.fs#L183-L186).\n",
    "\n"
   ]
  }
,
  {
   "cell_type": "code",
   "metadata": {
    "dotnet_interactive": {
     "language": "fsharp"
    },
    "polyglot_notebook": {
     "kernelName": "fsharp"
    }
   },
   "execution_count": 11, "outputs": [],
   "source": [
    "let myMktCaps =\n",
    "    idAndReturnsCsv\n",
    "    |\u003e List.choose (fun row -\u003e \n",
    "        match row.MarketEquity with\n",
    "        | None -\u003e None\n",
    "        | Some mktCap -\u003e\n",
    "            let mktCap: WeightVariable =\n",
    "                { SecurityId = Other row.Id\n",
    "                  FormationDate = DateTime(row.Eom.Year, row.Eom.Month, 1)\n",
    "                  Value = mktCap }\n",
    "            Some mktCap)\n",
    "\n",
    "// look at a few market caps\n",
    "myMktCaps[..3]\n"
   ]
  }
,
  {
   "cell_type": "markdown",
   "metadata": {},
   
   "source": [
    "## Forming our strategy\n",
    "\n",
    "We\u0027re now going to use the `Backtest` code to generate portfolios. It is defined in the `NovaSBE.Finance.Portfolio` module [here](https://github.com/nhirschey/NovaSBE.Finance/blob/6d1398625e5a9279af00bb6e1c1802af3596c3f6/src/NovaSBE.Finance/Portfolio.fs#L199).\n",
    "The `Backtest` class automates some of the code we did earlier to make portfolio construction simpler.\n",
    "\n"
   ]
  }
,
  {
   "cell_type": "code",
   "metadata": {
    "dotnet_interactive": {
     "language": "fsharp"
    },
    "polyglot_notebook": {
     "kernelName": "fsharp"
    }
   },
   "execution_count": 12, "outputs": [],
   "source": [
    "let backtest = Backtest(returns=myReturns, signals=mySignals, nPortfolios=3, name = strategyName)\n"
   ]
  }
,
  {
   "cell_type": "markdown",
   "metadata": {},
   
   "source": [
    "### Equal Weighted Portfolios\n",
    "\n"
   ]
  }
,
  {
   "cell_type": "code",
   "metadata": {
    "dotnet_interactive": {
     "language": "fsharp"
    },
    "polyglot_notebook": {
     "kernelName": "fsharp"
    }
   },
   "execution_count": 13, "outputs": [],
   "source": [
    "let ew = backtest.strategyEqualWeighted()\n"
   ]
  }
,
  {
   "cell_type": "markdown",
   "metadata": {},
   
   "source": [
    "Some portfolios with their positions.\n",
    "\n"
   ]
  }
,
  {
   "cell_type": "code",
   "metadata": {
    "dotnet_interactive": {
     "language": "fsharp"
    },
    "polyglot_notebook": {
     "kernelName": "fsharp"
    }
   },
   "execution_count": 14, "outputs": [],
   "source": [
    "ew.Portfolios[..3]\n"
   ]
  }
,
  {
   "cell_type": "markdown",
   "metadata": {},
   
   "source": [
    "Some portfolio returns.\n",
    "\n"
   ]
  }
,
  {
   "cell_type": "code",
   "metadata": {
    "dotnet_interactive": {
     "language": "fsharp"
    },
    "polyglot_notebook": {
     "kernelName": "fsharp"
    }
   },
   "execution_count": 15, "outputs": [],
   "source": [
    "ew.Returns[..3]\n"
   ]
  }
,
  {
   "cell_type": "markdown",
   "metadata": {},
   
   "source": [
    "### Value Weighted Portfolios\n",
    "\n"
   ]
  }
,
  {
   "cell_type": "code",
   "metadata": {
    "dotnet_interactive": {
     "language": "fsharp"
    },
    "polyglot_notebook": {
     "kernelName": "fsharp"
    }
   },
   "execution_count": 16, "outputs": [],
   "source": [
    "let vw = backtest.strategyValueWeighted(myMktCaps)\n",
    "\n",
    "vw.Portfolios[..3]\n"
   ]
  }
,
  {
   "cell_type": "code",
   "metadata": {
    "dotnet_interactive": {
     "language": "fsharp"
    },
    "polyglot_notebook": {
     "kernelName": "fsharp"
    }
   },
   "execution_count": 17, "outputs": [],
   "source": [
    "vw.Returns[..3]\n"
   ]
  }
,
  {
   "cell_type": "markdown",
   "metadata": {},
   
   "source": [
    "### Plot of value-weight returns\n",
    "\n"
   ]
  }
,
  {
   "cell_type": "code",
   "metadata": {
    "dotnet_interactive": {
     "language": "fsharp"
    },
    "polyglot_notebook": {
     "kernelName": "fsharp"
    }
   },
   "execution_count": 18, "outputs": [],
   "source": [
    "let cumulativeReturn xs =\n",
    "    let sorted = xs |\u003e List.sortBy (fun (dt, r) -\u003e dt)\n",
    "    let mutable cr = 1.0\n",
    "    [ for (dt, r) in sorted do \n",
    "        cr \u003c- cr * (1.0 + r)\n",
    "        (dt, cr - 1.0) ]\n",
    "\n",
    "let makeCumulativeChart (returns:List\u003cPortfolioReturn\u003e) =\n",
    "    let firstObs = returns[0]\n",
    "    returns\n",
    "    |\u003e List.map (fun x -\u003e x.Month, x.Return)\n",
    "    |\u003e cumulativeReturn\n",
    "    |\u003e Chart.Line\n",
    "    |\u003e Chart.withTraceInfo(Name = $\"{firstObs.Name}: {firstObs.Index}\")\n",
    "\n",
    "vw.Returns\n",
    "|\u003e List.filter (fun x -\u003e x.Index = 1)\n",
    "|\u003e makeCumulativeChart\n"
   ]
  }
,
  {
   "cell_type": "markdown",
   "metadata": {},
   
   "source": [
    "All the ports.\n",
    "\n"
   ]
  }
,
  {
   "cell_type": "code",
   "metadata": {
    "dotnet_interactive": {
     "language": "fsharp"
    },
    "polyglot_notebook": {
     "kernelName": "fsharp"
    }
   },
   "execution_count": 19, "outputs": [],
   "source": [
    "vw.Returns\n",
    "|\u003e List.groupBy (fun x -\u003e x.Index)\n",
    "|\u003e List.map (fun (idx, xs) -\u003e makeCumulativeChart xs)\n",
    "|\u003e Chart.combine\n"
   ]
  }
,
  {
   "cell_type": "markdown",
   "metadata": {},
   
   "source": [
    "## Start of assignment\n",
    "\n",
    "\u003e **Task:** How many stocks are in the tercile 3 portfolio held during September 2017? Assign the result to a value named `nStocksSept2017`. Remember that this portfolio\n",
    "was formed at the end of August 2017.\n",
    "\u003e \n",
    "\n"
   ]
  }
,
  {
   "cell_type": "code",
   "metadata": {
    "dotnet_interactive": {
     "language": "fsharp"
    },
    "polyglot_notebook": {
     "kernelName": "fsharp"
    }
   },
   "execution_count": 30, "outputs": [],
   "source": [
    "// Solution here\n"
   ]
  }
,
  {
   "cell_type": "markdown",
   "metadata": {},
   
   "source": [
    "Tests.\n",
    "\n"
   ]
  }
,
  {
   "cell_type": "code",
   "metadata": {
    "dotnet_interactive": {
     "language": "fsharp"
    },
    "polyglot_notebook": {
     "kernelName": "fsharp"
    }
   },
   "execution_count": 22, "outputs": [],
   "source": [
    "nStocksSept2017 |\u003e should equal 1282\n"
   ]
  }
,
  {
   "cell_type": "markdown",
   "metadata": {},
   
   "source": [
    "\u003e **Task:** What is the minimum and maximum weight of a stock in the tercile 3 portfolio held during September 2017? Do it for both the value and equal weight portfolios.\n",
    "Assign the results to values named `vwMinSept2017`, `vwMaxSept2017`, `ewMinSept2017`, `ewMaxSept2017`.\n",
    "\u003e \n",
    "\n"
   ]
  }
,
  {
   "cell_type": "code",
   "metadata": {
    "dotnet_interactive": {
     "language": "fsharp"
    },
    "polyglot_notebook": {
     "kernelName": "fsharp"
    }
   },
   "execution_count": 30, "outputs": [],
   "source": [
    "// Solution here\n"
   ]
  }
,
  {
   "cell_type": "markdown",
   "metadata": {},
   
   "source": [
    "Tests\n",
    "\n"
   ]
  }
,
  {
   "cell_type": "code",
   "metadata": {
    "dotnet_interactive": {
     "language": "fsharp"
    },
    "polyglot_notebook": {
     "kernelName": "fsharp"
    }
   },
   "execution_count": 25, "outputs": [],
   "source": [
    "let tol = 1e-6\n",
    "vwMinSept2017 |\u003e should (equalWithin tol)  1.134675008e-07\n",
    "vwMaxSept2017 |\u003e should (equalWithin tol)  0.06467652288\n",
    "ewMinSept2017 |\u003e should (equalWithin tol)  0.0007800312012\n",
    "ewMaxSept2017 |\u003e should (equalWithin tol)  0.0007800312012\n"
   ]
  }
,
  {
   "cell_type": "markdown",
   "metadata": {},
   
   "source": [
    "\u003e **Task:** Plot a histogram of the Sept 2017 (formed August 2017) position weights for the stocks in the value weight tercile 3.\n",
    "\u003e \n",
    "\n",
    "\u003e **Task:** Calculate the total weight put in quintile 3\u0027s top 10 positions in Sept 2017 (formed August 2017) when using value weights. Assign it to a value named `topWeightsSept2017`.\n",
    "\u003e \n",
    "\n"
   ]
  }
,
  {
   "cell_type": "code",
   "metadata": {
    "dotnet_interactive": {
     "language": "fsharp"
    },
    "polyglot_notebook": {
     "kernelName": "fsharp"
    }
   },
   "execution_count": 30, "outputs": [],
   "source": [
    "// Solution here\n"
   ]
  }
,
  {
   "cell_type": "markdown",
   "metadata": {},
   
   "source": [
    "Tests\n",
    "\n"
   ]
  }
,
  {
   "cell_type": "code",
   "metadata": {
    "dotnet_interactive": {
     "language": "fsharp"
    },
    "polyglot_notebook": {
     "kernelName": "fsharp"
    }
   },
   "execution_count": 28, "outputs": [],
   "source": [
    "topWeightsSept2017 |\u003e should (equalWithin tol) 0.3619460225\n"
   ]
  }
,
  {
   "cell_type": "markdown",
   "metadata": {},
   
   "source": [
    "\u003e **Task:** Write a function that takes a `Portfolio` as it\u0027s input and outputs a tuple of the formaiton date and the sum of the top 10 position weights. I have type hints to constrain the function type.\n",
    "\u003e \n",
    "\n"
   ]
  }
,
  {
   "cell_type": "code",
   "metadata": {
    "dotnet_interactive": {
     "language": "fsharp"
    },
    "polyglot_notebook": {
     "kernelName": "fsharp"
    }
   },
   "execution_count": 29, "outputs": [],
   "source": [
    "// Solution here\n",
    "let calcTop10Weights (p:Portfolio) : DateTime * float =\n",
    "    failwith \"unimplimented\"\n"
   ]
  }
,
  {
   "cell_type": "markdown",
   "metadata": {},
   
   "source": [
    "tests\n",
    "\n"
   ]
  }
,
  {
   "cell_type": "code",
   "metadata": {
    "dotnet_interactive": {
     "language": "fsharp"
    },
    "polyglot_notebook": {
     "kernelName": "fsharp"
    }
   },
   "execution_count": null, "outputs": [],
   "source": [
    "// Portfolio with 10 test positions\n",
    "let testPortfolio =\n",
    "    { FormationMonth = DateTime(1999,1,1)\n",
    "      Name = \"test\"\n",
    "      Index = 1\n",
    "      Positions = [ for i in 1..20 do { SecurityId = Other \"test\"; Weight = 1./20.} ] }\n",
    "\n",
    "let testPortfolioDate, testPortfolioWeight = testPortfolio |\u003e calcTop10Weights\n",
    "\n",
    "testPortfolioDate |\u003e should equal (DateTime(1999,1,1))\n",
    "testPortfolioWeight |\u003e should (equalWithin tol) 0.5\n"
   ]
  }
,
  {
   "cell_type": "markdown",
   "metadata": {},
   
   "source": [
    "\u003e **Task:** Using the value-weight strategy, calculate the total weight put in quintile 3\u0027s top 10 positions every month. Assign it to a value named `topWeights` that has type `list\u003cDateTime * float\u003e` where the first thing in the tuple is the formation month and the second thing is the sum of the top 10 position weights.\n",
    "\u003e \n",
    "\n"
   ]
  }
,
  {
   "cell_type": "code",
   "metadata": {
    "dotnet_interactive": {
     "language": "fsharp"
    },
    "polyglot_notebook": {
     "kernelName": "fsharp"
    }
   },
   "execution_count": 30, "outputs": [],
   "source": [
    "// Solution here\n"
   ]
  }
,
  {
   "cell_type": "markdown",
   "metadata": {},
   
   "source": [
    "tests\n",
    "\n"
   ]
  }
,
  {
   "cell_type": "code",
   "metadata": {
    "dotnet_interactive": {
     "language": "fsharp"
    },
    "polyglot_notebook": {
     "kernelName": "fsharp"
    }
   },
   "execution_count": 32, "outputs": [],
   "source": [
    "topWeights |\u003e shouldHaveLength 252\n",
    "topWeights |\u003e should be ofExactType\u003clist\u003cDateTime * float\u003e\u003e\n",
    "topWeights\n",
    "|\u003e List.averageBy (fun (dt, w) -\u003e w)\n",
    "|\u003e should (equalWithin tol) 0.3174428516\n"
   ]
  }
,
  {
   "cell_type": "markdown",
   "metadata": {},
   
   "source": [
    "\u003e **Task:** Plot a line chart of `topWeights` that shows how the top 10 weights evolves over the sample period.\n",
    "\u003e \n",
    "\n"
   ]
  }
 ],
 "metadata": {
  "kernelspec": {
   "display_name": ".NET (F#)",
   "language": "F#",
   "name": ".net-fsharp"
  },
  "language_info": {
   "file_extension": ".fs",
   "mimetype": "text/x-fsharp",
   "name": "polyglot-notebook",
   "pygments_lexer": "fsharp"
  },
  "polyglot_notebook": {
   "kernelInfo": {
    "defaultKernelName": "fsharp",
    "items": [
     {
      "aliases": [],
      "languageName": "fsharp",
      "name": "fsharp"
     }
    ]
   }
  }
 },
 "nbformat": 4,
 "nbformat_minor": 2
}

